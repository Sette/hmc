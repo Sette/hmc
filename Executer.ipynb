{
 "cells": [
  {
   "cell_type": "code",
   "execution_count": 4,
   "id": "bbc291da-2fb7-4e0d-95ba-3b822d9cfaab",
   "metadata": {
    "ExecuteTime": {
     "end_time": "2024-03-09T21:10:04.916381Z",
     "start_time": "2024-03-09T21:10:04.117703Z"
    }
   },
   "outputs": [],
   "source": [
    "import os\n",
    "import pandas as pd\n",
    "import tensorflow as tf\n",
    "from datetime import datetime as dt\n",
    "\n",
    "from hcml.model.arguments import  build\n",
    "from hcml.model.train import run"
   ]
  },
  {
   "cell_type": "code",
   "execution_count": 5,
   "id": "3d90f8a5-dd7e-4b0c-93d6-4e710c159fa1",
   "metadata": {},
   "outputs": [
    {
     "name": "stdout",
     "output_type": "stream",
     "text": [
      "Num GPUs Available:  1\n"
     ]
    }
   ],
   "source": [
    "print(\"Num GPUs Available: \", len(tf.config.list_physical_devices('GPU')))"
   ]
  },
  {
   "cell_type": "code",
   "execution_count": null,
   "id": "477638fc-089b-4725-81f1-695364796db7",
   "metadata": {},
   "outputs": [],
   "source": [
    "# Set python level verbosity\n",
    "tf.compat.v1.logging.set_verbosity(tf.compat.v1.logging.DEBUG)\n",
    "\n",
    "# Set C++ Graph Execution level verbosity\n",
    "os.environ['TF_CPP_MIN_LOG_LEVEL'] = str(tf.compat.v1.logging.DEBUG)\n",
    "\n",
    "base_path = \"/mnt/disks/data/fma/trains\"\n",
    "id = \"hierarchical_hiclass_tworoots\"\n"
   ]
  },
  {
   "cell_type": "code",
   "execution_count": 2,
   "id": "33a92da5-e8c4-4a52-87ea-fef1d0605416",
   "metadata": {},
   "outputs": [],
   "source": [
    "train_path = os.path.join(base_path,id)\n",
    "tfrecords_path =os.path.join(train_path,'tfrecords')\n",
    "metadata_path = os.path.join(train_path,\"metadata.json\")\n",
    "labels_path = os.path.join(train_path,\"labels.json\")\n",
    "\n",
    "\n",
    "args = pd.Series({\n",
    "    \"batch_size\":64,\n",
    "    \"epochs\":10,\n",
    "    \"dropout\":0.5,\n",
    "    'patience':1,\n",
    "    'max_queue_size':64,\n",
    "    \"labels_path\": labels_path,\n",
    "    \"metadata_path\": metadata_path,\n",
    "    \"trainset_pattern\": os.path.join(tfrecords_path,'train'),\n",
    "    \"testset_pattern\": os.path.join(tfrecords_path,'test'),\n",
    "    \"valset_pattern\": os.path.join(tfrecords_path,'val')\n",
    "})\n"
   ]
  },
  {
   "cell_type": "code",
   "execution_count": 4,
   "id": "b033032f-4cb5-46bf-8ecc-3517ddaf6f51",
   "metadata": {
    "tags": []
   },
   "outputs": [
    {
     "name": "stdout",
     "output_type": "stream",
     "text": [
      "[hierarchical_all] Experiment started at 21:10:07\n",
      ".......................................\n",
      "batch_size                                                         64\n",
      "epochs                                                             10\n",
      "dropout                                                           0.5\n",
      "patience                                                            1\n",
      "max_queue_size                                                     64\n",
      "labels_path         /mnt/disks/data/fma/trains/hierarchical_all/la...\n",
      "metadata_path       /mnt/disks/data/fma/trains/hierarchical_all/me...\n",
      "trainset_pattern    /mnt/disks/data/fma/trains/hierarchical_all/tf...\n",
      "testset_pattern     /mnt/disks/data/fma/trains/hierarchical_all/tf...\n",
      "valset_pattern      /mnt/disks/data/fma/trains/hierarchical_all/tf...\n",
      "dtype: object\n",
      "batch_size                                                         64\n",
      "epochs                                                             10\n",
      "dropout                                                           0.5\n",
      "patience                                                            1\n",
      "max_queue_size                                                     64\n",
      "labels_path         /mnt/disks/data/fma/trains/hierarchical_all/la...\n",
      "metadata_path       /mnt/disks/data/fma/trains/hierarchical_all/me...\n",
      "trainset_pattern    /mnt/disks/data/fma/trains/hierarchical_all/tf...\n",
      "testset_pattern     /mnt/disks/data/fma/trains/hierarchical_all/tf...\n",
      "valset_pattern      /mnt/disks/data/fma/trains/hierarchical_all/tf...\n",
      "dtype: object\n",
      "{'sequence_size': 1280, 'n_levels': 5, 'labels_size': [16, 137, 293, 451, 159], 'val_path': '/mnt/disks/data/fma/trains/hierarchical_all/tfrecords/val', 'train_path': '/mnt/disks/data/fma/trains/hierarchical_all/tfrecords/train', 'test_path': '/mnt/disks/data/fma/trains/hierarchical_all/tfrecords/test', 'trainset_count': 102231, 'validationset_count': 1114, 'testset_count': 1125}\n",
      "{'levels_size': {'level1': 16, 'level2': 137, 'level3': 293, 'level4': 451, 'level5': 159}, 'sequence_size': 1280, 'dropout': 0.5}\n",
      ".......................................\n",
      "[hierarchical_all] Experiment finished at 21:10:10 / elapsed time 2.718245s\n"
     ]
    }
   ],
   "source": [
    "\n",
    "time_start = dt.utcnow()\n",
    "print(\"[{}] Experiment started at {}\".format(id, time_start.strftime(\"%H:%M:%S\")))\n",
    "print(\".......................................\")\n",
    "print(args)\n",
    "run(args)\n",
    "time_end = dt.utcnow()\n",
    "time_elapsed = time_end - time_start\n",
    "print(\".......................................\")\n",
    "print(\"[{}] Experiment finished at {} / elapsed time {}s\".format(id, time_end.strftime(\"%H:%M:%S\"), time_elapsed.total_seconds()))"
   ]
  },
  {
   "cell_type": "code",
   "execution_count": null,
   "id": "7efb52c5-58a6-486d-a397-6ac32b772d17",
   "metadata": {},
   "outputs": [],
   "source": []
  }
 ],
 "metadata": {
  "kernelspec": {
   "display_name": "Python 3 (ipykernel)",
   "language": "python",
   "name": "python3"
  },
  "language_info": {
   "codemirror_mode": {
    "name": "ipython",
    "version": 3
   },
   "file_extension": ".py",
   "mimetype": "text/x-python",
   "name": "python",
   "nbconvert_exporter": "python",
   "pygments_lexer": "ipython3",
   "version": "3.11.5"
  }
 },
 "nbformat": 4,
 "nbformat_minor": 5
}
