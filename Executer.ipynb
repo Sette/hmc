{
 "cells": [
  {
   "cell_type": "code",
   "execution_count": 1,
   "id": "bbc291da-2fb7-4e0d-95ba-3b822d9cfaab",
   "metadata": {},
   "outputs": [
    {
     "name": "stderr",
     "output_type": "stream",
     "text": [
      "2023-05-20 09:59:22.474776: I tensorflow/core/platform/cpu_feature_guard.cc:182] This TensorFlow binary is optimized to use available CPU instructions in performance-critical operations.\n",
      "To enable the following instructions: AVX2 AVX512F FMA, in other operations, rebuild TensorFlow with the appropriate compiler flags.\n",
      "2023-05-20 09:59:23.076884: W tensorflow/compiler/tf2tensorrt/utils/py_utils.cc:38] TF-TRT Warning: Could not find TensorRT\n"
     ]
    },
    {
     "name": "stdout",
     "output_type": "stream",
     "text": [
      "========================= Tensorflow =========================\n",
      "WARNING:tensorflow:From /home/bruno/git/fma_hc/sabotage/train.py:16: is_gpu_available (from tensorflow.python.framework.test_util) is deprecated and will be removed in a future version.\n",
      "Instructions for updating:\n",
      "Use `tf.config.list_physical_devices('GPU')` instead.\n",
      "GPU is available: False\n",
      "==============================================================\n"
     ]
    },
    {
     "name": "stderr",
     "output_type": "stream",
     "text": [
      "2023-05-20 09:59:23.676713: E tensorflow/compiler/xla/stream_executor/cuda/cuda_driver.cc:266] failed call to cuInit: CUDA_ERROR_NO_DEVICE: no CUDA-capable device is detected\n",
      "2023-05-20 09:59:23.676745: I tensorflow/compiler/xla/stream_executor/cuda/cuda_diagnostics.cc:168] retrieving CUDA diagnostic information for host: rock-server\n",
      "2023-05-20 09:59:23.676751: I tensorflow/compiler/xla/stream_executor/cuda/cuda_diagnostics.cc:175] hostname: rock-server\n",
      "2023-05-20 09:59:23.676833: I tensorflow/compiler/xla/stream_executor/cuda/cuda_diagnostics.cc:199] libcuda reported version is: 530.41.3\n",
      "2023-05-20 09:59:23.676854: I tensorflow/compiler/xla/stream_executor/cuda/cuda_diagnostics.cc:203] kernel reported version is: 530.41.3\n",
      "2023-05-20 09:59:23.676858: I tensorflow/compiler/xla/stream_executor/cuda/cuda_diagnostics.cc:309] kernel version seems to match DSO: 530.41.3\n"
     ]
    }
   ],
   "source": [
    "import os\n",
    "import pandas as pd\n",
    "from datetime import datetime as dt\n",
    "\n",
    "from sabotage.arguments import  build\n",
    "from sabotage.train import run\n",
    "\n",
    "import tensorflow as tf\n",
    "\n",
    "\n",
    "# Set python level verbosity\n",
    "tf.compat.v1.logging.set_verbosity(tf.compat.v1.logging.DEBUG)\n",
    "\n",
    "# Set C++ Graph Execution level verbosity\n",
    "os.environ['TF_CPP_MIN_LOG_LEVEL'] = str(tf.compat.v1.logging.DEBUG)\n",
    "\n",
    "base_path = \"/mnt/disks/data/fma/trains\"\n",
    "id = \"hierarchical_single\"\n"
   ]
  },
  {
   "cell_type": "code",
   "execution_count": 2,
   "id": "33a92da5-e8c4-4a52-87ea-fef1d0605416",
   "metadata": {},
   "outputs": [],
   "source": [
    "\n",
    "\n",
    "train_path = os.path.join(base_path,id)\n",
    "tfrecords_path =os.path.join(train_path,'tfrecords')\n",
    "metadata_path = os.path.join(train_path,\"metadata.json\")\n",
    "labels_path = os.path.join(train_path,\"labels.json\")\n",
    "\n",
    "\n",
    "args = pd.Series({\n",
    "    \"batch_size\":64,\n",
    "    \"epochs\":10,\n",
    "    \"dropout\":0.5,\n",
    "    'patience':1,\n",
    "    'max_queue_size':64,\n",
    "    \"labels_path\": labels_path,\n",
    "    \"metadata_path\": metadata_path,\n",
    "    \"trainset_pattern\": os.path.join(tfrecords_path,'train'),\n",
    "    \"testset_pattern\": os.path.join(tfrecords_path,'test'),\n",
    "    \"valset_pattern\": os.path.join(tfrecords_path,'val')\n",
    "})\n",
    "\n"
   ]
  },
  {
   "cell_type": "code",
   "execution_count": 3,
   "id": "b033032f-4cb5-46bf-8ecc-3517ddaf6f51",
   "metadata": {
    "tags": []
   },
   "outputs": [
    {
     "name": "stdout",
     "output_type": "stream",
     "text": [
      "[hierarchical_single] Experiment started at 12:59:23\n",
      ".......................................\n",
      "batch_size                                                         64\n",
      "epochs                                                             10\n",
      "dropout                                                           0.5\n",
      "patience                                                            1\n",
      "max_queue_size                                                     64\n",
      "labels_path         /mnt/disks/data/fma/trains/hierarchical_single...\n",
      "metadata_path       /mnt/disks/data/fma/trains/hierarchical_single...\n",
      "trainset_pattern    /mnt/disks/data/fma/trains/hierarchical_single...\n",
      "testset_pattern     /mnt/disks/data/fma/trains/hierarchical_single...\n",
      "valset_pattern      /mnt/disks/data/fma/trains/hierarchical_single...\n",
      "dtype: object\n",
      "batch_size                                                         64\n",
      "epochs                                                             10\n",
      "dropout                                                           0.5\n",
      "patience                                                            1\n",
      "max_queue_size                                                     64\n",
      "labels_path         /mnt/disks/data/fma/trains/hierarchical_single...\n",
      "metadata_path       /mnt/disks/data/fma/trains/hierarchical_single...\n",
      "trainset_pattern    /mnt/disks/data/fma/trains/hierarchical_single...\n",
      "testset_pattern     /mnt/disks/data/fma/trains/hierarchical_single...\n",
      "valset_pattern      /mnt/disks/data/fma/trains/hierarchical_single...\n",
      "dtype: object\n",
      "{'sequence_size': 1280, 'n_levels': 5, 'labels_size': [2, 21, 43, 65, 23], 'val_path': '/mnt/disks/data/fma/trains/hierarchical_single/tfrecords/val', 'train_path': '/mnt/disks/data/fma/trains/hierarchical_single/tfrecords/train', 'test_path': '/mnt/disks/data/fma/trains/hierarchical_single/tfrecords/test', 'trainset_count': 32593, 'validationset_count': 340, 'testset_count': 345}\n",
      "======================== Model Params ========================\n",
      "{'levels_size': {'level1_size': 1, 'level2_size': 20, 'level3_size': 42, 'level4_size': 64, 'level5_size': 22}, 'dropout': 0.5, 'sequence_size': 1280}\n",
      "==============================================================\n",
      "1\n",
      "Epoch 1/10\n"
     ]
    },
    {
     "name": "stderr",
     "output_type": "stream",
     "text": [
      "2023-05-20 09:59:24.108761: I tensorflow/core/common_runtime/executor.cc:1197] [/device:CPU:0] (DEBUG INFO) Executor start aborting (this does not indicate an error and you can ignore this message): INVALID_ARGUMENT: You must feed a value for placeholder tensor 'Placeholder/_0' with dtype string and shape [2]\n",
      "\t [[{{node Placeholder/_0}}]]\n",
      "2023-05-20 09:59:24.642198: W tensorflow/core/framework/op_kernel.cc:1830] OP_REQUIRES failed at example_parsing_ops.cc:98 : INVALID_ARGUMENT: Key: features.  Data types don't match. Data type: float but expected type: string\n",
      "2023-05-20 09:59:24.642238: I tensorflow/core/common_runtime/executor.cc:1197] [/job:localhost/replica:0/task:0/device:CPU:0] (DEBUG INFO) Executor start aborting (this does not indicate an error and you can ignore this message): INVALID_ARGUMENT: Key: features.  Data types don't match. Data type: float but expected type: string\n",
      "\t [[{{node ParseSingleExample/ParseExample/ParseExampleV2}}]]\n",
      "2023-05-20 09:59:24.642261: W tensorflow/core/framework/op_kernel.cc:1830] OP_REQUIRES failed at example_parsing_ops.cc:98 : INVALID_ARGUMENT: Key: features.  Data types don't match. Data type: float but expected type: string\n",
      "2023-05-20 09:59:24.642324: W tensorflow/core/framework/op_kernel.cc:1830] OP_REQUIRES failed at example_parsing_ops.cc:98 : INVALID_ARGUMENT: Key: features.  Data types don't match. Data type: float but expected type: string\n",
      "2023-05-20 09:59:24.642365: I tensorflow/core/common_runtime/executor.cc:1197] [/job:localhost/replica:0/task:0/device:CPU:0] (DEBUG INFO) Executor start aborting (this does not indicate an error and you can ignore this message): INVALID_ARGUMENT: Key: features.  Data types don't match. Data type: float but expected type: string\n",
      "\t [[{{node ParseSingleExample/ParseExample/ParseExampleV2}}]]\n",
      "2023-05-20 09:59:24.642385: I tensorflow/core/common_runtime/executor.cc:1197] [/job:localhost/replica:0/task:0/device:CPU:0] (DEBUG INFO) Executor start aborting (this does not indicate an error and you can ignore this message): INVALID_ARGUMENT: Key: features.  Data types don't match. Data type: float but expected type: string\n",
      "\t [[{{node ParseSingleExample/ParseExample/ParseExampleV2}}]]\n",
      "\t [[IteratorGetNext]]\n",
      "2023-05-20 09:59:24.642440: I tensorflow/core/common_runtime/executor.cc:1197] [/job:localhost/replica:0/task:0/device:CPU:0] (DEBUG INFO) Executor start aborting (this does not indicate an error and you can ignore this message): INVALID_ARGUMENT: Key: features.  Data types don't match. Data type: float but expected type: string\n",
      "\t [[{{node ParseSingleExample/ParseExample/ParseExampleV2}}]]\n",
      "2023-05-20 09:59:24.642474: W tensorflow/core/framework/op_kernel.cc:1830] OP_REQUIRES failed at example_parsing_ops.cc:98 : INVALID_ARGUMENT: Key: features.  Data types don't match. Data type: float but expected type: string\n",
      "2023-05-20 09:59:24.642527: W tensorflow/core/framework/op_kernel.cc:1830] OP_REQUIRES failed at example_parsing_ops.cc:98 : INVALID_ARGUMENT: Key: features.  Data types don't match. Data type: float but expected type: string\n",
      "2023-05-20 09:59:24.642568: W tensorflow/core/framework/op_kernel.cc:1830] OP_REQUIRES failed at example_parsing_ops.cc:98 : INVALID_ARGUMENT: Key: features.  Data types don't match. Data type: float but expected type: string\n",
      "2023-05-20 09:59:24.642579: W tensorflow/core/framework/op_kernel.cc:1830] OP_REQUIRES failed at example_parsing_ops.cc:98 : INVALID_ARGUMENT: Key: features.  Data types don't match. Data type: float but expected type: string\n",
      "2023-05-20 09:59:24.642610: W tensorflow/core/framework/op_kernel.cc:1830] OP_REQUIRES failed at example_parsing_ops.cc:98 : INVALID_ARGUMENT: Key: features.  Data types don't match. Data type: float but expected type: string\n",
      "2023-05-20 09:59:24.642661: W tensorflow/core/framework/op_kernel.cc:1830] OP_REQUIRES failed at example_parsing_ops.cc:98 : INVALID_ARGUMENT: Key: features.  Data types don't match. Data type: float but expected type: string\n",
      "2023-05-20 09:59:24.642703: W tensorflow/core/framework/op_kernel.cc:1830] OP_REQUIRES failed at example_parsing_ops.cc:98 : INVALID_ARGUMENT: Key: features.  Data types don't match. Data type: float but expected type: string\n",
      "2023-05-20 09:59:24.642744: W tensorflow/core/framework/op_kernel.cc:1830] OP_REQUIRES failed at example_parsing_ops.cc:98 : INVALID_ARGUMENT: Key: features.  Data types don't match. Data type: float but expected type: string\n",
      "2023-05-20 09:59:24.642758: W tensorflow/core/framework/op_kernel.cc:1830] OP_REQUIRES failed at example_parsing_ops.cc:98 : INVALID_ARGUMENT: Key: features.  Data types don't match. Data type: float but expected type: string\n",
      "2023-05-20 09:59:24.642797: W tensorflow/core/framework/op_kernel.cc:1830] OP_REQUIRES failed at example_parsing_ops.cc:98 : INVALID_ARGUMENT: Key: features.  Data types don't match. Data type: float but expected type: string\n",
      "2023-05-20 09:59:24.642860: I tensorflow/core/common_runtime/executor.cc:1197] [/job:localhost/replica:0/task:0/device:CPU:0] (DEBUG INFO) Executor start aborting (this does not indicate an error and you can ignore this message): INVALID_ARGUMENT: Key: features.  Data types don't match. Data type: float but expected type: string\n",
      "\t [[{{node ParseSingleExample/ParseExample/ParseExampleV2}}]]\n",
      "2023-05-20 09:59:24.642898: W tensorflow/core/framework/op_kernel.cc:1830] OP_REQUIRES failed at example_parsing_ops.cc:98 : INVALID_ARGUMENT: Key: features.  Data types don't match. Data type: float but expected type: string\n",
      "2023-05-20 09:59:24.642954: I tensorflow/core/common_runtime/executor.cc:1197] [/job:localhost/replica:0/task:0/device:CPU:0] (DEBUG INFO) Executor start aborting (this does not indicate an error and you can ignore this message): INVALID_ARGUMENT: Key: features.  Data types don't match. Data type: float but expected type: string\n",
      "\t [[{{node ParseSingleExample/ParseExample/ParseExampleV2}}]]\n",
      "2023-05-20 09:59:24.642977: I tensorflow/core/common_runtime/executor.cc:1197] [/job:localhost/replica:0/task:0/device:CPU:0] (DEBUG INFO) Executor start aborting (this does not indicate an error and you can ignore this message): INVALID_ARGUMENT: Key: features.  Data types don't match. Data type: float but expected type: string\n",
      "\t [[{{node ParseSingleExample/ParseExample/ParseExampleV2}}]]\n",
      "2023-05-20 09:59:24.643005: W tensorflow/core/framework/op_kernel.cc:1830] OP_REQUIRES failed at example_parsing_ops.cc:98 : INVALID_ARGUMENT: Key: features.  Data types don't match. Data type: float but expected type: string\n",
      "2023-05-20 09:59:24.643036: I tensorflow/core/common_runtime/executor.cc:1197] [/job:localhost/replica:0/task:0/device:CPU:0] (DEBUG INFO) Executor start aborting (this does not indicate an error and you can ignore this message): INVALID_ARGUMENT: Key: features.  Data types don't match. Data type: float but expected type: string\n",
      "\t [[{{node ParseSingleExample/ParseExample/ParseExampleV2}}]]\n",
      "2023-05-20 09:59:24.643062: I tensorflow/core/common_runtime/executor.cc:1197] [/job:localhost/replica:0/task:0/device:CPU:0] (DEBUG INFO) Executor start aborting (this does not indicate an error and you can ignore this message): INVALID_ARGUMENT: Key: features.  Data types don't match. Data type: float but expected type: string\n",
      "\t [[{{node ParseSingleExample/ParseExample/ParseExampleV2}}]]\n",
      "2023-05-20 09:59:24.643110: W tensorflow/core/framework/op_kernel.cc:1830] OP_REQUIRES failed at example_parsing_ops.cc:98 : INVALID_ARGUMENT: Key: features.  Data types don't match. Data type: float but expected type: string\n",
      "2023-05-20 09:59:24.643167: I tensorflow/core/common_runtime/executor.cc:1197] [/job:localhost/replica:0/task:0/device:CPU:0] (DEBUG INFO) Executor start aborting (this does not indicate an error and you can ignore this message): INVALID_ARGUMENT: Key: features.  Data types don't match. Data type: float but expected type: string\n",
      "\t [[{{node ParseSingleExample/ParseExample/ParseExampleV2}}]]\n",
      "2023-05-20 09:59:24.643197: I tensorflow/core/common_runtime/executor.cc:1197] [/job:localhost/replica:0/task:0/device:CPU:0] (DEBUG INFO) Executor start aborting (this does not indicate an error and you can ignore this message): INVALID_ARGUMENT: Key: features.  Data types don't match. Data type: float but expected type: string\n",
      "\t [[{{node ParseSingleExample/ParseExample/ParseExampleV2}}]]\n",
      "2023-05-20 09:59:24.643229: W tensorflow/core/framework/op_kernel.cc:1830] OP_REQUIRES failed at example_parsing_ops.cc:98 : INVALID_ARGUMENT: Key: features.  Data types don't match. Data type: float but expected type: string\n",
      "2023-05-20 09:59:24.643276: I tensorflow/core/common_runtime/executor.cc:1197] [/job:localhost/replica:0/task:0/device:CPU:0] (DEBUG INFO) Executor start aborting (this does not indicate an error and you can ignore this message): INVALID_ARGUMENT: Key: features.  Data types don't match. Data type: float but expected type: string\n",
      "\t [[{{node ParseSingleExample/ParseExample/ParseExampleV2}}]]\n",
      "2023-05-20 09:59:24.643307: I tensorflow/core/common_runtime/executor.cc:1197] [/job:localhost/replica:0/task:0/device:CPU:0] (DEBUG INFO) Executor start aborting (this does not indicate an error and you can ignore this message): INVALID_ARGUMENT: Key: features.  Data types don't match. Data type: float but expected type: string\n",
      "\t [[{{node ParseSingleExample/ParseExample/ParseExampleV2}}]]\n",
      "2023-05-20 09:59:24.643329: I tensorflow/core/common_runtime/executor.cc:1197] [/job:localhost/replica:0/task:0/device:CPU:0] (DEBUG INFO) Executor start aborting (this does not indicate an error and you can ignore this message): INVALID_ARGUMENT: Key: features.  Data types don't match. Data type: float but expected type: string\n",
      "\t [[{{node ParseSingleExample/ParseExample/ParseExampleV2}}]]\n",
      "2023-05-20 09:59:24.643356: I tensorflow/core/common_runtime/executor.cc:1197] [/job:localhost/replica:0/task:0/device:CPU:0] (DEBUG INFO) Executor start aborting (this does not indicate an error and you can ignore this message): INVALID_ARGUMENT: Key: features.  Data types don't match. Data type: float but expected type: string\n",
      "\t [[{{node ParseSingleExample/ParseExample/ParseExampleV2}}]]\n",
      "2023-05-20 09:59:24.643382: I tensorflow/core/common_runtime/executor.cc:1197] [/job:localhost/replica:0/task:0/device:CPU:0] (DEBUG INFO) Executor start aborting (this does not indicate an error and you can ignore this message): INVALID_ARGUMENT: Key: features.  Data types don't match. Data type: float but expected type: string\n",
      "\t [[{{node ParseSingleExample/ParseExample/ParseExampleV2}}]]\n",
      "2023-05-20 09:59:24.643399: I tensorflow/core/common_runtime/executor.cc:1197] [/job:localhost/replica:0/task:0/device:CPU:0] (DEBUG INFO) Executor start aborting (this does not indicate an error and you can ignore this message): INVALID_ARGUMENT: Key: features.  Data types don't match. Data type: float but expected type: string\n",
      "\t [[{{node ParseSingleExample/ParseExample/ParseExampleV2}}]]\n",
      "2023-05-20 09:59:24.643433: I tensorflow/core/common_runtime/executor.cc:1197] [/job:localhost/replica:0/task:0/device:CPU:0] (DEBUG INFO) Executor start aborting (this does not indicate an error and you can ignore this message): INVALID_ARGUMENT: Key: features.  Data types don't match. Data type: float but expected type: string\n",
      "\t [[{{node ParseSingleExample/ParseExample/ParseExampleV2}}]]\n"
     ]
    },
    {
     "ename": "InvalidArgumentError",
     "evalue": "Graph execution error:\n\nKey: features.  Data types don't match. Data type: float but expected type: string\n\t [[{{node ParseSingleExample/ParseExample/ParseExampleV2}}]]\n\t [[IteratorGetNext]] [Op:__inference_train_function_1350]",
     "output_type": "error",
     "traceback": [
      "\u001b[0;31m---------------------------------------------------------------------------\u001b[0m",
      "\u001b[0;31mInvalidArgumentError\u001b[0m                      Traceback (most recent call last)",
      "Cell \u001b[0;32mIn[3], line 5\u001b[0m\n\u001b[1;32m      3\u001b[0m \u001b[38;5;28mprint\u001b[39m(\u001b[38;5;124m\"\u001b[39m\u001b[38;5;124m.......................................\u001b[39m\u001b[38;5;124m\"\u001b[39m)\n\u001b[1;32m      4\u001b[0m \u001b[38;5;28mprint\u001b[39m(args)\n\u001b[0;32m----> 5\u001b[0m \u001b[43mrun\u001b[49m\u001b[43m(\u001b[49m\u001b[43margs\u001b[49m\u001b[43m)\u001b[49m\n\u001b[1;32m      6\u001b[0m time_end \u001b[38;5;241m=\u001b[39m dt\u001b[38;5;241m.\u001b[39mutcnow()\n\u001b[1;32m      7\u001b[0m time_elapsed \u001b[38;5;241m=\u001b[39m time_end \u001b[38;5;241m-\u001b[39m time_start\n",
      "File \u001b[0;32m~/git/fma_hc/sabotage/train.py:56\u001b[0m, in \u001b[0;36mrun\u001b[0;34m(args)\u001b[0m\n\u001b[1;32m     52\u001b[0m ds_validation \u001b[38;5;241m=\u001b[39m Dataset(args\u001b[38;5;241m.\u001b[39mvalset_pattern, args\u001b[38;5;241m.\u001b[39mepochs, args\u001b[38;5;241m.\u001b[39mbatch_size)\u001b[38;5;241m.\u001b[39mbuild()\n\u001b[1;32m     55\u001b[0m callbacks \u001b[38;5;241m=\u001b[39m [EarlyStopping(monitor\u001b[38;5;241m=\u001b[39m\u001b[38;5;124m'\u001b[39m\u001b[38;5;124mloss\u001b[39m\u001b[38;5;124m'\u001b[39m, patience\u001b[38;5;241m=\u001b[39margs\u001b[38;5;241m.\u001b[39mpatience, verbose\u001b[38;5;241m=\u001b[39m\u001b[38;5;241m1\u001b[39m)]\n\u001b[0;32m---> 56\u001b[0m \u001b[43mmodel\u001b[49m\u001b[38;5;241;43m.\u001b[39;49m\u001b[43mfit\u001b[49m\u001b[43m(\u001b[49m\u001b[43mds_train\u001b[49m\u001b[43m,\u001b[49m\n\u001b[1;32m     57\u001b[0m \u001b[43m          \u001b[49m\u001b[43mvalidation_data\u001b[49m\u001b[38;5;241;43m=\u001b[39;49m\u001b[43mds_validation\u001b[49m\u001b[43m,\u001b[49m\n\u001b[1;32m     58\u001b[0m \u001b[43m          \u001b[49m\u001b[43msteps_per_epoch\u001b[49m\u001b[38;5;241;43m=\u001b[39;49m\u001b[43mmetadata\u001b[49m\u001b[43m[\u001b[49m\u001b[38;5;124;43m'\u001b[39;49m\u001b[38;5;124;43mtrainset_count\u001b[39;49m\u001b[38;5;124;43m'\u001b[39;49m\u001b[43m]\u001b[49m\u001b[43m \u001b[49m\u001b[38;5;241;43m/\u001b[39;49m\u001b[38;5;241;43m/\u001b[39;49m\u001b[43m \u001b[49m\u001b[43margs\u001b[49m\u001b[38;5;241;43m.\u001b[39;49m\u001b[43mbatch_size\u001b[49m\u001b[43m,\u001b[49m\n\u001b[1;32m     59\u001b[0m \u001b[43m          \u001b[49m\u001b[43mvalidation_steps\u001b[49m\u001b[38;5;241;43m=\u001b[39;49m\u001b[43mmetadata\u001b[49m\u001b[43m[\u001b[49m\u001b[38;5;124;43m'\u001b[39;49m\u001b[38;5;124;43mvalidationset_count\u001b[39;49m\u001b[38;5;124;43m'\u001b[39;49m\u001b[43m]\u001b[49m\u001b[43m \u001b[49m\u001b[38;5;241;43m/\u001b[39;49m\u001b[38;5;241;43m/\u001b[39;49m\u001b[43m \u001b[49m\u001b[43margs\u001b[49m\u001b[38;5;241;43m.\u001b[39;49m\u001b[43mbatch_size\u001b[49m\u001b[43m,\u001b[49m\n\u001b[1;32m     60\u001b[0m \u001b[43m          \u001b[49m\u001b[43mepochs\u001b[49m\u001b[38;5;241;43m=\u001b[39;49m\u001b[43margs\u001b[49m\u001b[38;5;241;43m.\u001b[39;49m\u001b[43mepochs\u001b[49m\u001b[43m,\u001b[49m\n\u001b[1;32m     61\u001b[0m \u001b[43m          \u001b[49m\u001b[43mmax_queue_size\u001b[49m\u001b[38;5;241;43m=\u001b[39;49m\u001b[43margs\u001b[49m\u001b[38;5;241;43m.\u001b[39;49m\u001b[43mmax_queue_size\u001b[49m\u001b[43m,\u001b[49m\n\u001b[1;32m     62\u001b[0m \u001b[43m          \u001b[49m\u001b[43mworkers\u001b[49m\u001b[38;5;241;43m=\u001b[39;49m\u001b[43mcpu_count\u001b[49m\u001b[43m(\u001b[49m\u001b[43m)\u001b[49m\u001b[43m,\u001b[49m\n\u001b[1;32m     63\u001b[0m \u001b[43m          \u001b[49m\u001b[43muse_multiprocessing\u001b[49m\u001b[38;5;241;43m=\u001b[39;49m\u001b[38;5;28;43;01mTrue\u001b[39;49;00m\u001b[43m,\u001b[49m\n\u001b[1;32m     64\u001b[0m \u001b[43m          \u001b[49m\u001b[43mcallbacks\u001b[49m\u001b[38;5;241;43m=\u001b[39;49m\u001b[43mcallbacks\u001b[49m\u001b[43m)\u001b[49m\n",
      "File \u001b[0;32m~/anaconda3/envs/fma/lib/python3.11/site-packages/keras/utils/traceback_utils.py:70\u001b[0m, in \u001b[0;36mfilter_traceback.<locals>.error_handler\u001b[0;34m(*args, **kwargs)\u001b[0m\n\u001b[1;32m     67\u001b[0m     filtered_tb \u001b[38;5;241m=\u001b[39m _process_traceback_frames(e\u001b[38;5;241m.\u001b[39m__traceback__)\n\u001b[1;32m     68\u001b[0m     \u001b[38;5;66;03m# To get the full stack trace, call:\u001b[39;00m\n\u001b[1;32m     69\u001b[0m     \u001b[38;5;66;03m# `tf.debugging.disable_traceback_filtering()`\u001b[39;00m\n\u001b[0;32m---> 70\u001b[0m     \u001b[38;5;28;01mraise\u001b[39;00m e\u001b[38;5;241m.\u001b[39mwith_traceback(filtered_tb) \u001b[38;5;28;01mfrom\u001b[39;00m \u001b[38;5;28;01mNone\u001b[39;00m\n\u001b[1;32m     71\u001b[0m \u001b[38;5;28;01mfinally\u001b[39;00m:\n\u001b[1;32m     72\u001b[0m     \u001b[38;5;28;01mdel\u001b[39;00m filtered_tb\n",
      "File \u001b[0;32m~/anaconda3/envs/fma/lib/python3.11/site-packages/tensorflow/python/eager/execute.py:52\u001b[0m, in \u001b[0;36mquick_execute\u001b[0;34m(op_name, num_outputs, inputs, attrs, ctx, name)\u001b[0m\n\u001b[1;32m     50\u001b[0m \u001b[38;5;28;01mtry\u001b[39;00m:\n\u001b[1;32m     51\u001b[0m   ctx\u001b[38;5;241m.\u001b[39mensure_initialized()\n\u001b[0;32m---> 52\u001b[0m   tensors \u001b[38;5;241m=\u001b[39m pywrap_tfe\u001b[38;5;241m.\u001b[39mTFE_Py_Execute(ctx\u001b[38;5;241m.\u001b[39m_handle, device_name, op_name,\n\u001b[1;32m     53\u001b[0m                                       inputs, attrs, num_outputs)\n\u001b[1;32m     54\u001b[0m \u001b[38;5;28;01mexcept\u001b[39;00m core\u001b[38;5;241m.\u001b[39m_NotOkStatusException \u001b[38;5;28;01mas\u001b[39;00m e:\n\u001b[1;32m     55\u001b[0m   \u001b[38;5;28;01mif\u001b[39;00m name \u001b[38;5;129;01mis\u001b[39;00m \u001b[38;5;129;01mnot\u001b[39;00m \u001b[38;5;28;01mNone\u001b[39;00m:\n",
      "\u001b[0;31mInvalidArgumentError\u001b[0m: Graph execution error:\n\nKey: features.  Data types don't match. Data type: float but expected type: string\n\t [[{{node ParseSingleExample/ParseExample/ParseExampleV2}}]]\n\t [[IteratorGetNext]] [Op:__inference_train_function_1350]"
     ]
    }
   ],
   "source": [
    "\n",
    "time_start = dt.utcnow()\n",
    "print(\"[{}] Experiment started at {}\".format(id, time_start.strftime(\"%H:%M:%S\")))\n",
    "print(\".......................................\")\n",
    "print(args)\n",
    "run(args)\n",
    "time_end = dt.utcnow()\n",
    "time_elapsed = time_end - time_start\n",
    "print(\".......................................\")\n",
    "print(\"[{}] Experiment finished at {} / elapsed time {}s\".format(id, time_end.strftime(\"%H:%M:%S\"), time_elapsed.total_seconds()))"
   ]
  },
  {
   "cell_type": "code",
   "execution_count": null,
   "id": "ae19f0b0-e090-4a60-bc01-43267c64fb53",
   "metadata": {},
   "outputs": [],
   "source": []
  },
  {
   "cell_type": "code",
   "execution_count": null,
   "id": "e4b15a62-8893-4d25-993a-6d04def2a996",
   "metadata": {},
   "outputs": [],
   "source": []
  },
  {
   "cell_type": "code",
   "execution_count": null,
   "id": "7efb52c5-58a6-486d-a397-6ac32b772d17",
   "metadata": {},
   "outputs": [],
   "source": []
  }
 ],
 "metadata": {
  "kernelspec": {
   "display_name": "Python 3 (ipykernel)",
   "language": "python",
   "name": "python3"
  },
  "language_info": {
   "codemirror_mode": {
    "name": "ipython",
    "version": 3
   },
   "file_extension": ".py",
   "mimetype": "text/x-python",
   "name": "python",
   "nbconvert_exporter": "python",
   "pygments_lexer": "ipython3",
   "version": "3.11.3"
  }
 },
 "nbformat": 4,
 "nbformat_minor": 5
}
