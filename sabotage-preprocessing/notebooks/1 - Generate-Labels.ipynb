{
 "cells": [
  {
   "cell_type": "code",
   "execution_count": 4,
   "id": "4843caad-aa4a-420d-81f8-dcc1189318c6",
   "metadata": {
    "tags": []
   },
   "outputs": [],
   "source": [
    "import pandas as pd\n",
    "import numpy as np\n",
    "import json\n",
    "import ast\n",
    "import os\n",
    "from essentia.standard import MonoLoader"
   ]
  },
  {
   "cell_type": "markdown",
   "id": "095eb605-be39-4945-9020-580c274b6226",
   "metadata": {},
   "source": [
    "#### To do: Rodar o fluxo do zero novamente para gerar as labels e, na sequencia, remover musicas inválidas em outro script fazendo join com as musicas processadas "
   ]
  },
  {
   "cell_type": "code",
   "execution_count": 5,
   "id": "24ecd036-1b51-4c28-983e-6790fb733546",
   "metadata": {},
   "outputs": [],
   "source": [
    "from tqdm.notebook import tqdm"
   ]
  },
  {
   "cell_type": "code",
   "execution_count": 6,
   "id": "47f36844-bc15-46f4-8994-6744042b62cd",
   "metadata": {},
   "outputs": [],
   "source": [
    "tqdm.pandas()"
   ]
  },
  {
   "cell_type": "code",
   "execution_count": 7,
   "id": "194b058a-a5c5-4d87-817d-aeb9e833cc2b",
   "metadata": {},
   "outputs": [],
   "source": [
    "\n",
    "args = pd.Series({\n",
    "    \"root_dir\":\"/mnt/disks/data/\",\n",
    "    \"dataset_path\":\"/mnt/disks/data/fma/fma_large\",\n",
    "    \"embeddings\":\"music_style\",\n",
    "    \"train_id\": \"hierarchical_mini_test\",\n",
    "    'sample_size':0.01\n",
    "})\n"
   ]
  },
  {
   "cell_type": "code",
   "execution_count": 8,
   "id": "87f3fe25-bd80-4976-ba77-ab30589a9cd6",
   "metadata": {},
   "outputs": [],
   "source": [
    "\n",
    "\n",
    "\n",
    "job_path = \"/mnt/disks/data/fma/trains\"\n",
    "\n",
    "\n",
    "# In[15]:\n",
    "\n",
    "\n",
    "train_path = os.path.join(job_path,args.train_id)\n",
    "\n",
    "\n",
    "# In[16]:\n",
    "\n",
    "\n",
    "base_path = os.path.join(args.root_dir,\"fma\")\n",
    "\n",
    "\n",
    "# In[17]:\n",
    "\n",
    "\n",
    "models_path = os.path.join(args.root_dir,\"models\")\n",
    "\n",
    "\n",
    "metadata_path_fma = os.path.join(base_path,\"fma_metadata\")\n",
    "\n",
    "\n",
    "# In[18]:\n",
    "\n",
    "\n",
    "metadata_file = os.path.join(train_path,\"metadata.json\")\n",
    "\n",
    "\n",
    "categories_labels_path = os.path.join(train_path,\"labels.json\")\n"
   ]
  },
  {
   "cell_type": "code",
   "execution_count": 9,
   "id": "ffea2009-fdc3-425e-bd6b-a67696ab24da",
   "metadata": {},
   "outputs": [],
   "source": [
    "\n",
    "\n",
    "def __load_json__(path):\n",
    "    with open(path, 'r') as f:\n",
    "        tmp = json.loads(f.read())\n",
    "\n",
    "    return tmp\n",
    "\n",
    "\n"
   ]
  },
  {
   "cell_type": "code",
   "execution_count": 10,
   "id": "b413d7a2",
   "metadata": {},
   "outputs": [],
   "source": [
    "\n",
    "def create_dir(path):\n",
    "    # checking if the directory demo_folder2 \n",
    "    # exist or not.\n",
    "    if not os.path.isdir(path):\n",
    "\n",
    "        # if the demo_folder2 directory is \n",
    "        # not present then create it.\n",
    "        os.makedirs(path)\n",
    "    return True\n",
    "\n"
   ]
  },
  {
   "cell_type": "code",
   "execution_count": 11,
   "id": "be2f0fcc",
   "metadata": {},
   "outputs": [
    {
     "data": {
      "text/plain": [
       "True"
      ]
     },
     "execution_count": 11,
     "metadata": {},
     "output_type": "execute_result"
    }
   ],
   "source": [
    "create_dir(train_path)"
   ]
  },
  {
   "cell_type": "markdown",
   "id": "6ab3d0b4-fc7f-4c73-b0cc-9d89729bae84",
   "metadata": {
    "tags": []
   },
   "source": [
    "## Load genres file. Contains relationships beetwen genres"
   ]
  },
  {
   "cell_type": "code",
   "execution_count": 12,
   "id": "7596e665-526e-400b-93ad-432cb7eb0d79",
   "metadata": {},
   "outputs": [],
   "source": [
    "genres_df = pd.read_csv(os.path.join(metadata_path_fma,'genres.csv'))\n"
   ]
  },
  {
   "cell_type": "code",
   "execution_count": 13,
   "id": "582b4335-bf69-4c9a-873e-ffd8253ede25",
   "metadata": {},
   "outputs": [
    {
     "data": {
      "text/html": [
       "<div>\n",
       "<style scoped>\n",
       "    .dataframe tbody tr th:only-of-type {\n",
       "        vertical-align: middle;\n",
       "    }\n",
       "\n",
       "    .dataframe tbody tr th {\n",
       "        vertical-align: top;\n",
       "    }\n",
       "\n",
       "    .dataframe thead th {\n",
       "        text-align: right;\n",
       "    }\n",
       "</style>\n",
       "<table border=\"1\" class=\"dataframe\">\n",
       "  <thead>\n",
       "    <tr style=\"text-align: right;\">\n",
       "      <th></th>\n",
       "      <th>genre_id</th>\n",
       "      <th>#tracks</th>\n",
       "      <th>parent</th>\n",
       "      <th>title</th>\n",
       "      <th>top_level</th>\n",
       "    </tr>\n",
       "  </thead>\n",
       "  <tbody>\n",
       "    <tr>\n",
       "      <th>0</th>\n",
       "      <td>1</td>\n",
       "      <td>8693</td>\n",
       "      <td>38</td>\n",
       "      <td>Avant-Garde</td>\n",
       "      <td>38</td>\n",
       "    </tr>\n",
       "    <tr>\n",
       "      <th>1</th>\n",
       "      <td>2</td>\n",
       "      <td>5271</td>\n",
       "      <td>0</td>\n",
       "      <td>International</td>\n",
       "      <td>2</td>\n",
       "    </tr>\n",
       "    <tr>\n",
       "      <th>2</th>\n",
       "      <td>3</td>\n",
       "      <td>1752</td>\n",
       "      <td>0</td>\n",
       "      <td>Blues</td>\n",
       "      <td>3</td>\n",
       "    </tr>\n",
       "    <tr>\n",
       "      <th>3</th>\n",
       "      <td>4</td>\n",
       "      <td>4126</td>\n",
       "      <td>0</td>\n",
       "      <td>Jazz</td>\n",
       "      <td>4</td>\n",
       "    </tr>\n",
       "    <tr>\n",
       "      <th>4</th>\n",
       "      <td>5</td>\n",
       "      <td>4106</td>\n",
       "      <td>0</td>\n",
       "      <td>Classical</td>\n",
       "      <td>5</td>\n",
       "    </tr>\n",
       "    <tr>\n",
       "      <th>...</th>\n",
       "      <td>...</td>\n",
       "      <td>...</td>\n",
       "      <td>...</td>\n",
       "      <td>...</td>\n",
       "      <td>...</td>\n",
       "    </tr>\n",
       "    <tr>\n",
       "      <th>158</th>\n",
       "      <td>1032</td>\n",
       "      <td>60</td>\n",
       "      <td>102</td>\n",
       "      <td>Turkish</td>\n",
       "      <td>2</td>\n",
       "    </tr>\n",
       "    <tr>\n",
       "      <th>159</th>\n",
       "      <td>1060</td>\n",
       "      <td>30</td>\n",
       "      <td>46</td>\n",
       "      <td>Tango</td>\n",
       "      <td>2</td>\n",
       "    </tr>\n",
       "    <tr>\n",
       "      <th>160</th>\n",
       "      <td>1156</td>\n",
       "      <td>26</td>\n",
       "      <td>130</td>\n",
       "      <td>Fado</td>\n",
       "      <td>2</td>\n",
       "    </tr>\n",
       "    <tr>\n",
       "      <th>161</th>\n",
       "      <td>1193</td>\n",
       "      <td>72</td>\n",
       "      <td>763</td>\n",
       "      <td>Christmas</td>\n",
       "      <td>38</td>\n",
       "    </tr>\n",
       "    <tr>\n",
       "      <th>162</th>\n",
       "      <td>1235</td>\n",
       "      <td>14938</td>\n",
       "      <td>0</td>\n",
       "      <td>Instrumental</td>\n",
       "      <td>1235</td>\n",
       "    </tr>\n",
       "  </tbody>\n",
       "</table>\n",
       "<p>163 rows × 5 columns</p>\n",
       "</div>"
      ],
      "text/plain": [
       "     genre_id  #tracks  parent          title  top_level\n",
       "0           1     8693      38    Avant-Garde         38\n",
       "1           2     5271       0  International          2\n",
       "2           3     1752       0          Blues          3\n",
       "3           4     4126       0           Jazz          4\n",
       "4           5     4106       0      Classical          5\n",
       "..        ...      ...     ...            ...        ...\n",
       "158      1032       60     102        Turkish          2\n",
       "159      1060       30      46          Tango          2\n",
       "160      1156       26     130           Fado          2\n",
       "161      1193       72     763      Christmas         38\n",
       "162      1235    14938       0   Instrumental       1235\n",
       "\n",
       "[163 rows x 5 columns]"
      ]
     },
     "execution_count": 13,
     "metadata": {},
     "output_type": "execute_result"
    }
   ],
   "source": [
    "genres_df"
   ]
  },
  {
   "cell_type": "code",
   "execution_count": 14,
   "id": "d80be793-93db-4610-ae66-5f14bf99bd2b",
   "metadata": {},
   "outputs": [
    {
     "data": {
      "text/html": [
       "<div>\n",
       "<style scoped>\n",
       "    .dataframe tbody tr th:only-of-type {\n",
       "        vertical-align: middle;\n",
       "    }\n",
       "\n",
       "    .dataframe tbody tr th {\n",
       "        vertical-align: top;\n",
       "    }\n",
       "\n",
       "    .dataframe thead th {\n",
       "        text-align: right;\n",
       "    }\n",
       "</style>\n",
       "<table border=\"1\" class=\"dataframe\">\n",
       "  <thead>\n",
       "    <tr style=\"text-align: right;\">\n",
       "      <th></th>\n",
       "      <th>genre_id</th>\n",
       "      <th>#tracks</th>\n",
       "      <th>parent</th>\n",
       "      <th>title</th>\n",
       "      <th>top_level</th>\n",
       "    </tr>\n",
       "  </thead>\n",
       "  <tbody>\n",
       "    <tr>\n",
       "      <th>136</th>\n",
       "      <td>495</td>\n",
       "      <td>2061</td>\n",
       "      <td>15</td>\n",
       "      <td>Downtempo</td>\n",
       "      <td>15</td>\n",
       "    </tr>\n",
       "  </tbody>\n",
       "</table>\n",
       "</div>"
      ],
      "text/plain": [
       "     genre_id  #tracks  parent      title  top_level\n",
       "136       495     2061      15  Downtempo         15"
      ]
     },
     "execution_count": 14,
     "metadata": {},
     "output_type": "execute_result"
    }
   ],
   "source": [
    "genres_df[genres_df['genre_id'] == 495]"
   ]
  },
  {
   "cell_type": "code",
   "execution_count": 37,
   "id": "28762aaf-32a4-41a5-af9c-cee3eca712ad",
   "metadata": {},
   "outputs": [],
   "source": [
    "# Cria um dicionário que associa o ID de cada música aos IDs de seus gêneros musicais\n",
    "tracks_df = pd.read_csv(os.path.join(metadata_path_fma,'tracks_valid.csv'))"
   ]
  },
  {
   "cell_type": "code",
   "execution_count": 38,
   "id": "552289c1-6b0d-48a9-8cd9-a185c12f6c9a",
   "metadata": {},
   "outputs": [
    {
     "data": {
      "text/html": [
       "<div>\n",
       "<style scoped>\n",
       "    .dataframe tbody tr th:only-of-type {\n",
       "        vertical-align: middle;\n",
       "    }\n",
       "\n",
       "    .dataframe tbody tr th {\n",
       "        vertical-align: top;\n",
       "    }\n",
       "\n",
       "    .dataframe thead th {\n",
       "        text-align: right;\n",
       "    }\n",
       "</style>\n",
       "<table border=\"1\" class=\"dataframe\">\n",
       "  <thead>\n",
       "    <tr style=\"text-align: right;\">\n",
       "      <th></th>\n",
       "      <th>track_id</th>\n",
       "      <th>track_title</th>\n",
       "      <th>valid_genre</th>\n",
       "    </tr>\n",
       "  </thead>\n",
       "  <tbody>\n",
       "    <tr>\n",
       "      <th>31829</th>\n",
       "      <td>49242</td>\n",
       "      <td>omisaria de pasiones menores</td>\n",
       "      <td>['32', '76']</td>\n",
       "    </tr>\n",
       "    <tr>\n",
       "      <th>54560</th>\n",
       "      <td>82726</td>\n",
       "      <td>Обломали</td>\n",
       "      <td>['25', '109']</td>\n",
       "    </tr>\n",
       "    <tr>\n",
       "      <th>40494</th>\n",
       "      <td>61610</td>\n",
       "      <td>All For The Cause (Featuring Javier Starks)</td>\n",
       "      <td>['21']</td>\n",
       "    </tr>\n",
       "    <tr>\n",
       "      <th>38259</th>\n",
       "      <td>58725</td>\n",
       "      <td>BWV 533: Prelude and Fugue in E Minor - 2. Fuga</td>\n",
       "      <td>['5']</td>\n",
       "    </tr>\n",
       "    <tr>\n",
       "      <th>42771</th>\n",
       "      <td>64682</td>\n",
       "      <td>Interlude</td>\n",
       "      <td>['33', '38', '456']</td>\n",
       "    </tr>\n",
       "    <tr>\n",
       "      <th>73347</th>\n",
       "      <td>113351</td>\n",
       "      <td>Magma / Dia do Sol</td>\n",
       "      <td>['19']</td>\n",
       "    </tr>\n",
       "    <tr>\n",
       "      <th>34436</th>\n",
       "      <td>53004</td>\n",
       "      <td>La guerre des fourmis</td>\n",
       "      <td>['27', '32']</td>\n",
       "    </tr>\n",
       "    <tr>\n",
       "      <th>82511</th>\n",
       "      <td>125385</td>\n",
       "      <td>Bring Me Home</td>\n",
       "      <td>['10', '12', '1235']</td>\n",
       "    </tr>\n",
       "    <tr>\n",
       "      <th>45336</th>\n",
       "      <td>67790</td>\n",
       "      <td>Junk Mail (Featuring BCMusic 1st)</td>\n",
       "      <td>['21']</td>\n",
       "    </tr>\n",
       "    <tr>\n",
       "      <th>101538</th>\n",
       "      <td>151039</td>\n",
       "      <td>Pretty Boys</td>\n",
       "      <td>['15', '183', '296']</td>\n",
       "    </tr>\n",
       "    <tr>\n",
       "      <th>6540</th>\n",
       "      <td>11956</td>\n",
       "      <td>Electric Letter</td>\n",
       "      <td>['66']</td>\n",
       "    </tr>\n",
       "    <tr>\n",
       "      <th>3556</th>\n",
       "      <td>6793</td>\n",
       "      <td>She Works / Tepid Waters</td>\n",
       "      <td>['76']</td>\n",
       "    </tr>\n",
       "    <tr>\n",
       "      <th>39391</th>\n",
       "      <td>60022</td>\n",
       "      <td>You Know It Right- Anjelly Nice, Porsha Rich a...</td>\n",
       "      <td>['21']</td>\n",
       "    </tr>\n",
       "    <tr>\n",
       "      <th>79860</th>\n",
       "      <td>121873</td>\n",
       "      <td>No More Rock and Roll</td>\n",
       "      <td>['12', '25', '32']</td>\n",
       "    </tr>\n",
       "    <tr>\n",
       "      <th>80964</th>\n",
       "      <td>123344</td>\n",
       "      <td>witness</td>\n",
       "      <td>['17', '27', '250']</td>\n",
       "    </tr>\n",
       "    <tr>\n",
       "      <th>55199</th>\n",
       "      <td>83655</td>\n",
       "      <td>Заря - Чемпион</td>\n",
       "      <td>['36', '311', '810']</td>\n",
       "    </tr>\n",
       "    <tr>\n",
       "      <th>88842</th>\n",
       "      <td>133621</td>\n",
       "      <td>Noia Bianca</td>\n",
       "      <td>['27', '38']</td>\n",
       "    </tr>\n",
       "    <tr>\n",
       "      <th>102186</th>\n",
       "      <td>152093</td>\n",
       "      <td>s#15_1</td>\n",
       "      <td>['42', '47', '107']</td>\n",
       "    </tr>\n",
       "    <tr>\n",
       "      <th>85283</th>\n",
       "      <td>129247</td>\n",
       "      <td>777</td>\n",
       "      <td>['15', '38', '183', '236', '495']</td>\n",
       "    </tr>\n",
       "    <tr>\n",
       "      <th>40575</th>\n",
       "      <td>61745</td>\n",
       "      <td>Waking Up</td>\n",
       "      <td>['42', '181', '236', '495']</td>\n",
       "    </tr>\n",
       "  </tbody>\n",
       "</table>\n",
       "</div>"
      ],
      "text/plain": [
       "        track_id                                        track_title  \\\n",
       "31829      49242                       omisaria de pasiones menores   \n",
       "54560      82726                                           Обломали   \n",
       "40494      61610        All For The Cause (Featuring Javier Starks)   \n",
       "38259      58725    BWV 533: Prelude and Fugue in E Minor - 2. Fuga   \n",
       "42771      64682                                          Interlude   \n",
       "73347     113351                                 Magma / Dia do Sol   \n",
       "34436      53004                              La guerre des fourmis   \n",
       "82511     125385                                      Bring Me Home   \n",
       "45336      67790                  Junk Mail (Featuring BCMusic 1st)   \n",
       "101538    151039                                        Pretty Boys   \n",
       "6540       11956                                    Electric Letter   \n",
       "3556        6793                           She Works / Tepid Waters   \n",
       "39391      60022  You Know It Right- Anjelly Nice, Porsha Rich a...   \n",
       "79860     121873                              No More Rock and Roll   \n",
       "80964     123344                                            witness   \n",
       "55199      83655                                     Заря - Чемпион   \n",
       "88842     133621                                        Noia Bianca   \n",
       "102186    152093                                             s#15_1   \n",
       "85283     129247                                                777   \n",
       "40575      61745                                          Waking Up   \n",
       "\n",
       "                              valid_genre  \n",
       "31829                        ['32', '76']  \n",
       "54560                       ['25', '109']  \n",
       "40494                              ['21']  \n",
       "38259                               ['5']  \n",
       "42771                 ['33', '38', '456']  \n",
       "73347                              ['19']  \n",
       "34436                        ['27', '32']  \n",
       "82511                ['10', '12', '1235']  \n",
       "45336                              ['21']  \n",
       "101538               ['15', '183', '296']  \n",
       "6540                               ['66']  \n",
       "3556                               ['76']  \n",
       "39391                              ['21']  \n",
       "79860                  ['12', '25', '32']  \n",
       "80964                 ['17', '27', '250']  \n",
       "55199                ['36', '311', '810']  \n",
       "88842                        ['27', '38']  \n",
       "102186                ['42', '47', '107']  \n",
       "85283   ['15', '38', '183', '236', '495']  \n",
       "40575         ['42', '181', '236', '495']  "
      ]
     },
     "execution_count": 38,
     "metadata": {},
     "output_type": "execute_result"
    }
   ],
   "source": [
    "tracks_df.sample(20)"
   ]
  },
  {
   "cell_type": "code",
   "execution_count": 39,
   "id": "fa6c0adc-32c6-4a14-a9aa-f0af12eacbf1",
   "metadata": {},
   "outputs": [
    {
     "data": {
      "text/plain": [
       "array([\"['21']\", \"['21']\", \"['21']\", ..., \"['25']\", \"['25']\",\n",
       "       \"['10', '12', '169']\"], dtype=object)"
      ]
     },
     "execution_count": 39,
     "metadata": {},
     "output_type": "execute_result"
    }
   ],
   "source": [
    "tracks_df.valid_genre.values"
   ]
  },
  {
   "cell_type": "code",
   "execution_count": 40,
   "id": "31ad48bd-2868-46ed-81e6-02b6b26e2b1c",
   "metadata": {},
   "outputs": [
    {
     "data": {
      "text/html": [
       "<div>\n",
       "<style scoped>\n",
       "    .dataframe tbody tr th:only-of-type {\n",
       "        vertical-align: middle;\n",
       "    }\n",
       "\n",
       "    .dataframe tbody tr th {\n",
       "        vertical-align: top;\n",
       "    }\n",
       "\n",
       "    .dataframe thead th {\n",
       "        text-align: right;\n",
       "    }\n",
       "</style>\n",
       "<table border=\"1\" class=\"dataframe\">\n",
       "  <thead>\n",
       "    <tr style=\"text-align: right;\">\n",
       "      <th></th>\n",
       "      <th>track_id</th>\n",
       "      <th>track_title</th>\n",
       "      <th>valid_genre</th>\n",
       "    </tr>\n",
       "  </thead>\n",
       "  <tbody>\n",
       "    <tr>\n",
       "      <th>0</th>\n",
       "      <td>2</td>\n",
       "      <td>Food</td>\n",
       "      <td>['21']</td>\n",
       "    </tr>\n",
       "    <tr>\n",
       "      <th>1</th>\n",
       "      <td>3</td>\n",
       "      <td>Electric Ave</td>\n",
       "      <td>['21']</td>\n",
       "    </tr>\n",
       "    <tr>\n",
       "      <th>2</th>\n",
       "      <td>5</td>\n",
       "      <td>This World</td>\n",
       "      <td>['21']</td>\n",
       "    </tr>\n",
       "    <tr>\n",
       "      <th>3</th>\n",
       "      <td>10</td>\n",
       "      <td>Freeway</td>\n",
       "      <td>['10']</td>\n",
       "    </tr>\n",
       "    <tr>\n",
       "      <th>4</th>\n",
       "      <td>20</td>\n",
       "      <td>Spiritual Level</td>\n",
       "      <td>['76', '103']</td>\n",
       "    </tr>\n",
       "    <tr>\n",
       "      <th>...</th>\n",
       "      <td>...</td>\n",
       "      <td>...</td>\n",
       "      <td>...</td>\n",
       "    </tr>\n",
       "    <tr>\n",
       "      <th>104181</th>\n",
       "      <td>155316</td>\n",
       "      <td>The Auger</td>\n",
       "      <td>['25']</td>\n",
       "    </tr>\n",
       "    <tr>\n",
       "      <th>104182</th>\n",
       "      <td>155317</td>\n",
       "      <td>Let's Skin Ruby</td>\n",
       "      <td>['25']</td>\n",
       "    </tr>\n",
       "    <tr>\n",
       "      <th>104183</th>\n",
       "      <td>155318</td>\n",
       "      <td>My House Smells Like Kim Deal/Pulp</td>\n",
       "      <td>['25']</td>\n",
       "    </tr>\n",
       "    <tr>\n",
       "      <th>104184</th>\n",
       "      <td>155319</td>\n",
       "      <td>The Man With Two Mouths</td>\n",
       "      <td>['25']</td>\n",
       "    </tr>\n",
       "    <tr>\n",
       "      <th>104185</th>\n",
       "      <td>155320</td>\n",
       "      <td>Another Trick Up My Sleeve (Instrumental)</td>\n",
       "      <td>['10', '12', '169']</td>\n",
       "    </tr>\n",
       "  </tbody>\n",
       "</table>\n",
       "<p>104186 rows × 3 columns</p>\n",
       "</div>"
      ],
      "text/plain": [
       "        track_id                                track_title  \\\n",
       "0              2                                       Food   \n",
       "1              3                               Electric Ave   \n",
       "2              5                                 This World   \n",
       "3             10                                    Freeway   \n",
       "4             20                            Spiritual Level   \n",
       "...          ...                                        ...   \n",
       "104181    155316                                  The Auger   \n",
       "104182    155317                            Let's Skin Ruby   \n",
       "104183    155318         My House Smells Like Kim Deal/Pulp   \n",
       "104184    155319                    The Man With Two Mouths   \n",
       "104185    155320  Another Trick Up My Sleeve (Instrumental)   \n",
       "\n",
       "                valid_genre  \n",
       "0                    ['21']  \n",
       "1                    ['21']  \n",
       "2                    ['21']  \n",
       "3                    ['10']  \n",
       "4             ['76', '103']  \n",
       "...                     ...  \n",
       "104181               ['25']  \n",
       "104182               ['25']  \n",
       "104183               ['25']  \n",
       "104184               ['25']  \n",
       "104185  ['10', '12', '169']  \n",
       "\n",
       "[104186 rows x 3 columns]"
      ]
     },
     "execution_count": 40,
     "metadata": {},
     "output_type": "execute_result"
    }
   ],
   "source": [
    "tracks_df"
   ]
  },
  {
   "cell_type": "code",
   "execution_count": 41,
   "id": "220d2eb1-95ba-41d8-9499-bd6278ef473a",
   "metadata": {},
   "outputs": [],
   "source": [
    "## Get complete genre structure\n",
    "def get_all_structure(estrutura,df_genres):\n",
    "    ## Get structure from df_genres\n",
    "    def get_all_structure_from_df(estrutura,df_genres,structure=[]):\n",
    "        if estrutura == 0:\n",
    "            return structure\n",
    "        else:\n",
    "            structure.append(estrutura)\n",
    "            get_all_structure_from_df(df_genres[df_genres[\"genre_id\"]==int(estrutura)].parent.values[0],df_genres,structure)\n",
    "            return structure\n",
    "    \n",
    "    return get_all_structure_from_df(estrutura,df_genres,structure=[])\n",
    "    "
   ]
  },
  {
   "cell_type": "code",
   "execution_count": 42,
   "id": "2e89c7be-57eb-46bf-8506-b966ab685b50",
   "metadata": {},
   "outputs": [],
   "source": [
    "# tracks_df['valid_genre'] = tracks_df.track_genres.apply(lambda x: x.strip('][').split(', ') if x != '[]' else None)\n",
    "tracks_df['valid_genre'] = tracks_df.valid_genre.apply(lambda x: ast.literal_eval(x))"
   ]
  },
  {
   "cell_type": "code",
   "execution_count": 44,
   "id": "b50f6d87-8a38-4b6a-92b7-c10a559de965",
   "metadata": {},
   "outputs": [],
   "source": [
    "tracks_df.loc[:,'last_genre_id'] = tracks_df.valid_genre.apply(lambda x:x[-1] if x != None else None)"
   ]
  },
  {
   "cell_type": "code",
   "execution_count": 45,
   "id": "5c1ccfaf-ad6a-4f6c-87d6-b6e8a74a8d0c",
   "metadata": {},
   "outputs": [
    {
     "data": {
      "text/html": [
       "<div>\n",
       "<style scoped>\n",
       "    .dataframe tbody tr th:only-of-type {\n",
       "        vertical-align: middle;\n",
       "    }\n",
       "\n",
       "    .dataframe tbody tr th {\n",
       "        vertical-align: top;\n",
       "    }\n",
       "\n",
       "    .dataframe thead th {\n",
       "        text-align: right;\n",
       "    }\n",
       "</style>\n",
       "<table border=\"1\" class=\"dataframe\">\n",
       "  <thead>\n",
       "    <tr style=\"text-align: right;\">\n",
       "      <th></th>\n",
       "      <th>track_id</th>\n",
       "      <th>track_title</th>\n",
       "      <th>valid_genre</th>\n",
       "      <th>last_genre_id</th>\n",
       "    </tr>\n",
       "  </thead>\n",
       "  <tbody>\n",
       "    <tr>\n",
       "      <th>47262</th>\n",
       "      <td>70960</td>\n",
       "      <td>cosmic lights</td>\n",
       "      <td>[495]</td>\n",
       "      <td>495</td>\n",
       "    </tr>\n",
       "    <tr>\n",
       "      <th>99353</th>\n",
       "      <td>148039</td>\n",
       "      <td>It's Not Me!</td>\n",
       "      <td>[10, 15, 21]</td>\n",
       "      <td>21</td>\n",
       "    </tr>\n",
       "    <tr>\n",
       "      <th>101848</th>\n",
       "      <td>151654</td>\n",
       "      <td>In This Galaxy (Toxic Chicken remix)</td>\n",
       "      <td>[15]</td>\n",
       "      <td>15</td>\n",
       "    </tr>\n",
       "    <tr>\n",
       "      <th>103998</th>\n",
       "      <td>155054</td>\n",
       "      <td>Broken Hill</td>\n",
       "      <td>[15, 33, 38]</td>\n",
       "      <td>38</td>\n",
       "    </tr>\n",
       "    <tr>\n",
       "      <th>1468</th>\n",
       "      <td>1830</td>\n",
       "      <td>Do I Tingle? Up?</td>\n",
       "      <td>[12]</td>\n",
       "      <td>12</td>\n",
       "    </tr>\n",
       "    <tr>\n",
       "      <th>37183</th>\n",
       "      <td>57239</td>\n",
       "      <td>Nulle Part Le Temps (with Severine Godissart)</td>\n",
       "      <td>[15, 26, 66]</td>\n",
       "      <td>66</td>\n",
       "    </tr>\n",
       "    <tr>\n",
       "      <th>38437</th>\n",
       "      <td>58903</td>\n",
       "      <td>BWV 1128: Wo Gott der Herr nicht bei uns hält</td>\n",
       "      <td>[5]</td>\n",
       "      <td>5</td>\n",
       "    </tr>\n",
       "    <tr>\n",
       "      <th>92052</th>\n",
       "      <td>138067</td>\n",
       "      <td>Electric Lady</td>\n",
       "      <td>[10]</td>\n",
       "      <td>10</td>\n",
       "    </tr>\n",
       "    <tr>\n",
       "      <th>23404</th>\n",
       "      <td>37001</td>\n",
       "      <td>kokw calling</td>\n",
       "      <td>[15, 22]</td>\n",
       "      <td>22</td>\n",
       "    </tr>\n",
       "    <tr>\n",
       "      <th>78833</th>\n",
       "      <td>120457</td>\n",
       "      <td>Northlight</td>\n",
       "      <td>[42, 468]</td>\n",
       "      <td>468</td>\n",
       "    </tr>\n",
       "    <tr>\n",
       "      <th>12926</th>\n",
       "      <td>21350</td>\n",
       "      <td>Coupe en 4</td>\n",
       "      <td>[183, 185]</td>\n",
       "      <td>185</td>\n",
       "    </tr>\n",
       "    <tr>\n",
       "      <th>101669</th>\n",
       "      <td>151304</td>\n",
       "      <td>Load and Swallow</td>\n",
       "      <td>[15, 21, 42, 185, 236]</td>\n",
       "      <td>236</td>\n",
       "    </tr>\n",
       "    <tr>\n",
       "      <th>65931</th>\n",
       "      <td>102292</td>\n",
       "      <td>No Tomorrow</td>\n",
       "      <td>[15, 38]</td>\n",
       "      <td>38</td>\n",
       "    </tr>\n",
       "    <tr>\n",
       "      <th>60503</th>\n",
       "      <td>92449</td>\n",
       "      <td>Mysterious house mystery</td>\n",
       "      <td>[38, 495]</td>\n",
       "      <td>495</td>\n",
       "    </tr>\n",
       "    <tr>\n",
       "      <th>5182</th>\n",
       "      <td>10006</td>\n",
       "      <td>Island Raiders (Live)</td>\n",
       "      <td>[12, 85]</td>\n",
       "      <td>85</td>\n",
       "    </tr>\n",
       "    <tr>\n",
       "      <th>91690</th>\n",
       "      <td>137644</td>\n",
       "      <td>Hazy Cyan</td>\n",
       "      <td>[15, 107, 183]</td>\n",
       "      <td>183</td>\n",
       "    </tr>\n",
       "    <tr>\n",
       "      <th>29235</th>\n",
       "      <td>45096</td>\n",
       "      <td>e club de mercier solitaire ( reprise)</td>\n",
       "      <td>[1, 22, 27]</td>\n",
       "      <td>27</td>\n",
       "    </tr>\n",
       "    <tr>\n",
       "      <th>9030</th>\n",
       "      <td>15399</td>\n",
       "      <td>Dame Kritmo</td>\n",
       "      <td>[1, 53]</td>\n",
       "      <td>53</td>\n",
       "    </tr>\n",
       "    <tr>\n",
       "      <th>3</th>\n",
       "      <td>10</td>\n",
       "      <td>Freeway</td>\n",
       "      <td>[10]</td>\n",
       "      <td>10</td>\n",
       "    </tr>\n",
       "    <tr>\n",
       "      <th>38843</th>\n",
       "      <td>59380</td>\n",
       "      <td>Between Hack and Buzzard (Live on New Weird Au...</td>\n",
       "      <td>[15, 38, 66]</td>\n",
       "      <td>66</td>\n",
       "    </tr>\n",
       "  </tbody>\n",
       "</table>\n",
       "</div>"
      ],
      "text/plain": [
       "        track_id                                        track_title  \\\n",
       "47262      70960                                      cosmic lights   \n",
       "99353     148039                                       It's Not Me!   \n",
       "101848    151654               In This Galaxy (Toxic Chicken remix)   \n",
       "103998    155054                                        Broken Hill   \n",
       "1468        1830                                   Do I Tingle? Up?   \n",
       "37183      57239      Nulle Part Le Temps (with Severine Godissart)   \n",
       "38437      58903      BWV 1128: Wo Gott der Herr nicht bei uns hält   \n",
       "92052     138067                                      Electric Lady   \n",
       "23404      37001                                       kokw calling   \n",
       "78833     120457                                         Northlight   \n",
       "12926      21350                                         Coupe en 4   \n",
       "101669    151304                                   Load and Swallow   \n",
       "65931     102292                                        No Tomorrow   \n",
       "60503      92449                           Mysterious house mystery   \n",
       "5182       10006                              Island Raiders (Live)   \n",
       "91690     137644                                          Hazy Cyan   \n",
       "29235      45096             e club de mercier solitaire ( reprise)   \n",
       "9030       15399                                        Dame Kritmo   \n",
       "3             10                                            Freeway   \n",
       "38843      59380  Between Hack and Buzzard (Live on New Weird Au...   \n",
       "\n",
       "                   valid_genre last_genre_id  \n",
       "47262                    [495]           495  \n",
       "99353             [10, 15, 21]            21  \n",
       "101848                    [15]            15  \n",
       "103998            [15, 33, 38]            38  \n",
       "1468                      [12]            12  \n",
       "37183             [15, 26, 66]            66  \n",
       "38437                      [5]             5  \n",
       "92052                     [10]            10  \n",
       "23404                 [15, 22]            22  \n",
       "78833                [42, 468]           468  \n",
       "12926               [183, 185]           185  \n",
       "101669  [15, 21, 42, 185, 236]           236  \n",
       "65931                 [15, 38]            38  \n",
       "60503                [38, 495]           495  \n",
       "5182                  [12, 85]            85  \n",
       "91690           [15, 107, 183]           183  \n",
       "29235              [1, 22, 27]            27  \n",
       "9030                   [1, 53]            53  \n",
       "3                         [10]            10  \n",
       "38843             [15, 38, 66]            66  "
      ]
     },
     "execution_count": 45,
     "metadata": {},
     "output_type": "execute_result"
    }
   ],
   "source": [
    "tracks_df.sample(20)"
   ]
  },
  {
   "cell_type": "code",
   "execution_count": 23,
   "id": "f5de1c7f-c2b6-487a-83bc-974ddb99008a",
   "metadata": {},
   "outputs": [],
   "source": [
    "# tracks_df.dropna(inplace=True)"
   ]
  },
  {
   "cell_type": "code",
   "execution_count": 46,
   "id": "fcb10f3d-d6fa-4e7b-a4f0-d8536a1a2898",
   "metadata": {},
   "outputs": [
    {
     "data": {
      "text/html": [
       "<div>\n",
       "<style scoped>\n",
       "    .dataframe tbody tr th:only-of-type {\n",
       "        vertical-align: middle;\n",
       "    }\n",
       "\n",
       "    .dataframe tbody tr th {\n",
       "        vertical-align: top;\n",
       "    }\n",
       "\n",
       "    .dataframe thead th {\n",
       "        text-align: right;\n",
       "    }\n",
       "</style>\n",
       "<table border=\"1\" class=\"dataframe\">\n",
       "  <thead>\n",
       "    <tr style=\"text-align: right;\">\n",
       "      <th></th>\n",
       "      <th>track_id</th>\n",
       "      <th>track_title</th>\n",
       "      <th>valid_genre</th>\n",
       "      <th>last_genre_id</th>\n",
       "    </tr>\n",
       "  </thead>\n",
       "  <tbody>\n",
       "    <tr>\n",
       "      <th>0</th>\n",
       "      <td>2</td>\n",
       "      <td>Food</td>\n",
       "      <td>[21]</td>\n",
       "      <td>21</td>\n",
       "    </tr>\n",
       "    <tr>\n",
       "      <th>1</th>\n",
       "      <td>3</td>\n",
       "      <td>Electric Ave</td>\n",
       "      <td>[21]</td>\n",
       "      <td>21</td>\n",
       "    </tr>\n",
       "    <tr>\n",
       "      <th>2</th>\n",
       "      <td>5</td>\n",
       "      <td>This World</td>\n",
       "      <td>[21]</td>\n",
       "      <td>21</td>\n",
       "    </tr>\n",
       "    <tr>\n",
       "      <th>3</th>\n",
       "      <td>10</td>\n",
       "      <td>Freeway</td>\n",
       "      <td>[10]</td>\n",
       "      <td>10</td>\n",
       "    </tr>\n",
       "    <tr>\n",
       "      <th>4</th>\n",
       "      <td>20</td>\n",
       "      <td>Spiritual Level</td>\n",
       "      <td>[76, 103]</td>\n",
       "      <td>103</td>\n",
       "    </tr>\n",
       "    <tr>\n",
       "      <th>...</th>\n",
       "      <td>...</td>\n",
       "      <td>...</td>\n",
       "      <td>...</td>\n",
       "      <td>...</td>\n",
       "    </tr>\n",
       "    <tr>\n",
       "      <th>104181</th>\n",
       "      <td>155316</td>\n",
       "      <td>The Auger</td>\n",
       "      <td>[25]</td>\n",
       "      <td>25</td>\n",
       "    </tr>\n",
       "    <tr>\n",
       "      <th>104182</th>\n",
       "      <td>155317</td>\n",
       "      <td>Let's Skin Ruby</td>\n",
       "      <td>[25]</td>\n",
       "      <td>25</td>\n",
       "    </tr>\n",
       "    <tr>\n",
       "      <th>104183</th>\n",
       "      <td>155318</td>\n",
       "      <td>My House Smells Like Kim Deal/Pulp</td>\n",
       "      <td>[25]</td>\n",
       "      <td>25</td>\n",
       "    </tr>\n",
       "    <tr>\n",
       "      <th>104184</th>\n",
       "      <td>155319</td>\n",
       "      <td>The Man With Two Mouths</td>\n",
       "      <td>[25]</td>\n",
       "      <td>25</td>\n",
       "    </tr>\n",
       "    <tr>\n",
       "      <th>104185</th>\n",
       "      <td>155320</td>\n",
       "      <td>Another Trick Up My Sleeve (Instrumental)</td>\n",
       "      <td>[10, 12, 169]</td>\n",
       "      <td>169</td>\n",
       "    </tr>\n",
       "  </tbody>\n",
       "</table>\n",
       "<p>104186 rows × 4 columns</p>\n",
       "</div>"
      ],
      "text/plain": [
       "        track_id                                track_title    valid_genre  \\\n",
       "0              2                                       Food           [21]   \n",
       "1              3                               Electric Ave           [21]   \n",
       "2              5                                 This World           [21]   \n",
       "3             10                                    Freeway           [10]   \n",
       "4             20                            Spiritual Level      [76, 103]   \n",
       "...          ...                                        ...            ...   \n",
       "104181    155316                                  The Auger           [25]   \n",
       "104182    155317                            Let's Skin Ruby           [25]   \n",
       "104183    155318         My House Smells Like Kim Deal/Pulp           [25]   \n",
       "104184    155319                    The Man With Two Mouths           [25]   \n",
       "104185    155320  Another Trick Up My Sleeve (Instrumental)  [10, 12, 169]   \n",
       "\n",
       "       last_genre_id  \n",
       "0                 21  \n",
       "1                 21  \n",
       "2                 21  \n",
       "3                 10  \n",
       "4                103  \n",
       "...              ...  \n",
       "104181            25  \n",
       "104182            25  \n",
       "104183            25  \n",
       "104184            25  \n",
       "104185           169  \n",
       "\n",
       "[104186 rows x 4 columns]"
      ]
     },
     "execution_count": 46,
     "metadata": {},
     "output_type": "execute_result"
    }
   ],
   "source": [
    "tracks_df"
   ]
  },
  {
   "cell_type": "code",
   "execution_count": 47,
   "id": "8f713133-f471-4ca5-b7b1-ab06109bb31b",
   "metadata": {
    "tags": []
   },
   "outputs": [],
   "source": [
    "tracks_df.loc[:,'full_genre_id'] = tracks_df.last_genre_id.apply(lambda x: get_all_structure(x,genres_df))"
   ]
  },
  {
   "cell_type": "code",
   "execution_count": 48,
   "id": "69d80106-b330-4749-8aee-d2fbc451ecfb",
   "metadata": {},
   "outputs": [
    {
     "data": {
      "text/plain": [
       "[38]             6508\n",
       "[1235]           6043\n",
       "[76, 10]         4126\n",
       "[107, 1235]      3988\n",
       "[103, 17]        3482\n",
       "                 ... \n",
       "[493, 651, 9]       4\n",
       "[189, 65, 20]       4\n",
       "[173, 86, 2]        4\n",
       "[444, 5]            2\n",
       "[7, 20]             2\n",
       "Name: full_genre_id, Length: 159, dtype: int64"
      ]
     },
     "execution_count": 48,
     "metadata": {},
     "output_type": "execute_result"
    }
   ],
   "source": [
    "tracks_df.full_genre_id.value_counts()"
   ]
  },
  {
   "cell_type": "code",
   "execution_count": 49,
   "id": "2f83ca93-63a4-4655-b0cb-c8c2a92e71b4",
   "metadata": {},
   "outputs": [],
   "source": [
    "def find_path(track_id,dataset_path):\n",
    "    track_id = track_id.zfill(6)\n",
    "    folder_id = track_id[0:3]\n",
    "    file_path = os.path.join(dataset_path,folder_id,track_id+'.mp3')\n",
    "    return file_path\n",
    "    "
   ]
  },
  {
   "cell_type": "code",
   "execution_count": 50,
   "id": "8d8befc7-c6f4-4b53-b453-5d6733b92f59",
   "metadata": {},
   "outputs": [],
   "source": [
    "tracks_df['file_path'] = tracks_df.track_id.apply(lambda x: find_path(str(x),args.dataset_path))"
   ]
  },
  {
   "cell_type": "code",
   "execution_count": 51,
   "id": "f155fc36-ce2a-4702-8adb-35220ac3e8c3",
   "metadata": {},
   "outputs": [
    {
     "data": {
      "text/plain": [
       "'/mnt/disks/data/fma/fma_large/000/000002.mp3'"
      ]
     },
     "execution_count": 51,
     "metadata": {},
     "output_type": "execute_result"
    }
   ],
   "source": [
    "tracks_df.iloc[0].file_path"
   ]
  },
  {
   "cell_type": "code",
   "execution_count": 52,
   "id": "8cf91d85-a298-4064-aecc-4370639ea929",
   "metadata": {},
   "outputs": [
    {
     "data": {
      "text/plain": [
       "Index(['track_id', 'track_title', 'valid_genre', 'last_genre_id',\n",
       "       'full_genre_id', 'file_path'],\n",
       "      dtype='object')"
      ]
     },
     "execution_count": 52,
     "metadata": {},
     "output_type": "execute_result"
    }
   ],
   "source": [
    "tracks_df.columns"
   ]
  },
  {
   "cell_type": "code",
   "execution_count": 53,
   "id": "d7b72dad-6dfa-46c3-84ac-10602c852524",
   "metadata": {},
   "outputs": [],
   "source": [
    "tracks_df = tracks_df[['track_id','full_genre_id']]"
   ]
  },
  {
   "cell_type": "code",
   "execution_count": null,
   "id": "c7d35e82-a0b0-4bda-be5e-f69340a00385",
   "metadata": {},
   "outputs": [],
   "source": [
    "tracks_df"
   ]
  },
  {
   "cell_type": "code",
   "execution_count": 54,
   "id": "90068602-0c57-4e10-bd9b-64cd1c8d8ad8",
   "metadata": {},
   "outputs": [
    {
     "name": "stderr",
     "output_type": "stream",
     "text": [
      "<ipython-input-54-3052a08a907b>:1: SettingWithCopyWarning: \n",
      "A value is trying to be set on a copy of a slice from a DataFrame.\n",
      "Try using .loc[row_indexer,col_indexer] = value instead\n",
      "\n",
      "See the caveats in the documentation: https://pandas.pydata.org/pandas-docs/stable/user_guide/indexing.html#returning-a-view-versus-a-copy\n",
      "  tracks_df['labels_size'] = tracks_df.full_genre_id.apply(lambda x: len(x))\n"
     ]
    }
   ],
   "source": [
    "tracks_df['labels_size'] = tracks_df.full_genre_id.apply(lambda x: len(x))"
   ]
  },
  {
   "cell_type": "code",
   "execution_count": 55,
   "id": "70f2351f-2f55-4979-84c2-0cb142887a78",
   "metadata": {},
   "outputs": [],
   "source": [
    "labels_size = tracks_df.labels_size.max()"
   ]
  },
  {
   "cell_type": "code",
   "execution_count": 56,
   "id": "e1f6ac31-ca09-4e44-a120-cd4534cd851e",
   "metadata": {},
   "outputs": [
    {
     "data": {
      "text/plain": [
       "5"
      ]
     },
     "execution_count": 56,
     "metadata": {},
     "output_type": "execute_result"
    }
   ],
   "source": [
    "labels_size"
   ]
  },
  {
   "cell_type": "code",
   "execution_count": 57,
   "id": "2b78849a-c456-4f04-9076-8d4a1ee5be97",
   "metadata": {},
   "outputs": [],
   "source": [
    "import pandas as pd\n",
    "import os"
   ]
  },
  {
   "cell_type": "markdown",
   "id": "74827c2e-072a-4213-9b96-f7bb24dee80e",
   "metadata": {},
   "source": [
    "### Parse of label to structure"
   ]
  },
  {
   "cell_type": "code",
   "execution_count": 58,
   "id": "093a84f2-25d1-4f95-81e5-c51e73933e95",
   "metadata": {},
   "outputs": [],
   "source": [
    "### Function for parse label to sctructure of hierarhical scheme\n",
    "\n",
    "def parse_label(label):\n",
    "    # label = label.split('-')\n",
    "    # preencher com 0 no caso de haver menos de 5 níveis\n",
    "    labels = np.zeros(5,dtype=int)\n",
    "    for i, label in enumerate(label):\n",
    "        if i == 5:\n",
    "            break\n",
    "        # Aqui você pode fazer a conversão do label em um índice inteiro usando um dicionário ou outro método\n",
    "        # Neste exemplo, estou apenas usando a posição da label na lista como índice\n",
    "        labels[i] = label\n",
    "    return labels"
   ]
  },
  {
   "cell_type": "code",
   "execution_count": 59,
   "id": "4853a7f1-fb9f-4931-a927-7e92c1d444b4",
   "metadata": {},
   "outputs": [
    {
     "data": {
      "text/html": [
       "<div>\n",
       "<style scoped>\n",
       "    .dataframe tbody tr th:only-of-type {\n",
       "        vertical-align: middle;\n",
       "    }\n",
       "\n",
       "    .dataframe tbody tr th {\n",
       "        vertical-align: top;\n",
       "    }\n",
       "\n",
       "    .dataframe thead th {\n",
       "        text-align: right;\n",
       "    }\n",
       "</style>\n",
       "<table border=\"1\" class=\"dataframe\">\n",
       "  <thead>\n",
       "    <tr style=\"text-align: right;\">\n",
       "      <th></th>\n",
       "      <th>track_id</th>\n",
       "      <th>full_genre_id</th>\n",
       "      <th>labels_size</th>\n",
       "    </tr>\n",
       "  </thead>\n",
       "  <tbody>\n",
       "    <tr>\n",
       "      <th>0</th>\n",
       "      <td>2</td>\n",
       "      <td>[21]</td>\n",
       "      <td>1</td>\n",
       "    </tr>\n",
       "    <tr>\n",
       "      <th>1</th>\n",
       "      <td>3</td>\n",
       "      <td>[21]</td>\n",
       "      <td>1</td>\n",
       "    </tr>\n",
       "    <tr>\n",
       "      <th>2</th>\n",
       "      <td>5</td>\n",
       "      <td>[21]</td>\n",
       "      <td>1</td>\n",
       "    </tr>\n",
       "    <tr>\n",
       "      <th>3</th>\n",
       "      <td>10</td>\n",
       "      <td>[10]</td>\n",
       "      <td>1</td>\n",
       "    </tr>\n",
       "    <tr>\n",
       "      <th>4</th>\n",
       "      <td>20</td>\n",
       "      <td>[103, 17]</td>\n",
       "      <td>2</td>\n",
       "    </tr>\n",
       "    <tr>\n",
       "      <th>...</th>\n",
       "      <td>...</td>\n",
       "      <td>...</td>\n",
       "      <td>...</td>\n",
       "    </tr>\n",
       "    <tr>\n",
       "      <th>104181</th>\n",
       "      <td>155316</td>\n",
       "      <td>[25, 12]</td>\n",
       "      <td>2</td>\n",
       "    </tr>\n",
       "    <tr>\n",
       "      <th>104182</th>\n",
       "      <td>155317</td>\n",
       "      <td>[25, 12]</td>\n",
       "      <td>2</td>\n",
       "    </tr>\n",
       "    <tr>\n",
       "      <th>104183</th>\n",
       "      <td>155318</td>\n",
       "      <td>[25, 12]</td>\n",
       "      <td>2</td>\n",
       "    </tr>\n",
       "    <tr>\n",
       "      <th>104184</th>\n",
       "      <td>155319</td>\n",
       "      <td>[25, 12]</td>\n",
       "      <td>2</td>\n",
       "    </tr>\n",
       "    <tr>\n",
       "      <th>104185</th>\n",
       "      <td>155320</td>\n",
       "      <td>[169, 9]</td>\n",
       "      <td>2</td>\n",
       "    </tr>\n",
       "  </tbody>\n",
       "</table>\n",
       "<p>104186 rows × 3 columns</p>\n",
       "</div>"
      ],
      "text/plain": [
       "        track_id full_genre_id  labels_size\n",
       "0              2          [21]            1\n",
       "1              3          [21]            1\n",
       "2              5          [21]            1\n",
       "3             10          [10]            1\n",
       "4             20     [103, 17]            2\n",
       "...          ...           ...          ...\n",
       "104181    155316      [25, 12]            2\n",
       "104182    155317      [25, 12]            2\n",
       "104183    155318      [25, 12]            2\n",
       "104184    155319      [25, 12]            2\n",
       "104185    155320      [169, 9]            2\n",
       "\n",
       "[104186 rows x 3 columns]"
      ]
     },
     "execution_count": 59,
     "metadata": {},
     "output_type": "execute_result"
    }
   ],
   "source": [
    "tracks_df"
   ]
  },
  {
   "cell_type": "code",
   "execution_count": 60,
   "id": "7ecb279e-adf3-4da6-b318-03b9880e2cc9",
   "metadata": {},
   "outputs": [
    {
     "data": {
      "text/plain": [
       "[38]             6508\n",
       "[1235]           6043\n",
       "[76, 10]         4126\n",
       "[107, 1235]      3988\n",
       "[103, 17]        3482\n",
       "                 ... \n",
       "[493, 651, 9]       4\n",
       "[189, 65, 20]       4\n",
       "[173, 86, 2]        4\n",
       "[444, 5]            2\n",
       "[7, 20]             2\n",
       "Name: full_genre_id, Length: 159, dtype: int64"
      ]
     },
     "execution_count": 60,
     "metadata": {},
     "output_type": "execute_result"
    }
   ],
   "source": [
    "tracks_df.full_genre_id.value_counts()"
   ]
  },
  {
   "cell_type": "code",
   "execution_count": 61,
   "id": "bea29260-d790-439b-8976-728e7981230d",
   "metadata": {},
   "outputs": [
    {
     "data": {
      "text/plain": [
       "Index(['track_id', 'full_genre_id', 'labels_size'], dtype='object')"
      ]
     },
     "execution_count": 61,
     "metadata": {},
     "output_type": "execute_result"
    }
   ],
   "source": [
    "tracks_df.columns"
   ]
  },
  {
   "cell_type": "code",
   "execution_count": null,
   "id": "2a6adb21-c145-4c82-ba79-798d02c7d2fd",
   "metadata": {},
   "outputs": [],
   "source": [
    "tracks_df.loc[:,'labels'] = tracks_df.full_genre_id.apply(lambda x: parse_label(x))"
   ]
  },
  {
   "cell_type": "code",
   "execution_count": null,
   "id": "d860771e-a4cd-4dd3-ad2d-7aff01e025fa",
   "metadata": {},
   "outputs": [],
   "source": [
    "tracks_df.labels.value_counts()"
   ]
  },
  {
   "cell_type": "code",
   "execution_count": 178,
   "id": "d60b077d-993f-4cbb-a66b-407d97dba96e",
   "metadata": {},
   "outputs": [],
   "source": [
    "def convert_label_to_string(x,level=2):\n",
    "    return '-'.join([str(value) for value in x[:level]])"
   ]
  },
  {
   "cell_type": "code",
   "execution_count": 179,
   "id": "e463b489-81bf-4a7d-95db-1f78c7ca6d87",
   "metadata": {},
   "outputs": [
    {
     "data": {
      "application/vnd.jupyter.widget-view+json": {
       "model_id": "97fa9fcfdb744ba78b524bfb289f2087",
       "version_major": 2,
       "version_minor": 0
      },
      "text/plain": [
       "  0%|          | 0/104186 [00:00<?, ?it/s]"
      ]
     },
     "metadata": {},
     "output_type": "display_data"
    },
    {
     "data": {
      "application/vnd.jupyter.widget-view+json": {
       "model_id": "f9e7c36bc94e4d0eac5cf5d3863c0fbc",
       "version_major": 2,
       "version_minor": 0
      },
      "text/plain": [
       "  0%|          | 0/104186 [00:00<?, ?it/s]"
      ]
     },
     "metadata": {},
     "output_type": "display_data"
    },
    {
     "data": {
      "application/vnd.jupyter.widget-view+json": {
       "model_id": "6b99348c56a84dcbabcaa0f21ad4748d",
       "version_major": 2,
       "version_minor": 0
      },
      "text/plain": [
       "  0%|          | 0/104186 [00:00<?, ?it/s]"
      ]
     },
     "metadata": {},
     "output_type": "display_data"
    },
    {
     "data": {
      "application/vnd.jupyter.widget-view+json": {
       "model_id": "7e0baa288c5446a29ae4d32c625aafae",
       "version_major": 2,
       "version_minor": 0
      },
      "text/plain": [
       "  0%|          | 0/104186 [00:00<?, ?it/s]"
      ]
     },
     "metadata": {},
     "output_type": "display_data"
    },
    {
     "data": {
      "application/vnd.jupyter.widget-view+json": {
       "model_id": "f12480a7e5474d0a843c5747f1ccfcda",
       "version_major": 2,
       "version_minor": 0
      },
      "text/plain": [
       "  0%|          | 0/104186 [00:00<?, ?it/s]"
      ]
     },
     "metadata": {},
     "output_type": "display_data"
    }
   ],
   "source": [
    "tracks_df['labels_1'] = tracks_df.labels.progress_apply(lambda x: str(x[:1][0]))\n",
    "tracks_df['labels_2'] = tracks_df.labels.progress_apply(lambda x: convert_label_to_string(x,level=2))\n",
    "tracks_df['labels_3'] = tracks_df.labels.progress_apply(lambda x: convert_label_to_string(x,level=3))\n",
    "tracks_df['labels_4'] = tracks_df.labels.progress_apply(lambda x: convert_label_to_string(x,level=4))\n",
    "tracks_df['labels_5'] = tracks_df.labels.progress_apply(lambda x: convert_label_to_string(x,level=5))"
   ]
  },
  {
   "cell_type": "code",
   "execution_count": 180,
   "id": "7a3d673f-7dbb-4b46-a5c0-fcd760f745cb",
   "metadata": {},
   "outputs": [
    {
     "data": {
      "text/plain": [
       "array(['21-0', '10-0', '76-10', '45-12', '1-38', '17-0', '4-0', '25-12',\n",
       "       '26-12', '30-38', '27-12', '15-0', '12-0', '31-12', '32-38',\n",
       "       '89-25', '36-12', '3-0', '37-4', '41-38', '43-65', '79-2', '46-2',\n",
       "       '11-14', '38-0', '2-0', '47-38', '33-17', '49-17', '250-38',\n",
       "       '138-20', '53-45', '58-12', '22-38', '103-17', '64-25', '66-12',\n",
       "       '42-15', '70-12', '71-25', '5-0', '98-12', '74-4', '85-12',\n",
       "       '166-65', '188-20', '63-9', '9-0', '118-2', '111-25', '109-25',\n",
       "       '97-4', '117-2', '92-2', '77-2', '13-0', '137-9', '102-2', '8-0',\n",
       "       '185-15', '101-31', '224-38', '94-17', '20-0', '125-38', '180-17',\n",
       "       '113-26', '7-20', '100-21', '906-4', '14-0', '538-18', '6-38',\n",
       "       '107-1235', '18-1235', '286-15', '236-15', '90-53', '88-12',\n",
       "       '297-15', '65-20', '337-15', '86-2', '763-16', '314-12', '167-31',\n",
       "       '172-2', '179-4', '214-92', '19-14', '184-15', '181-15', '359-12',\n",
       "       '361-109', '362-10', '183-15', '374-20', '81-92', '322-5',\n",
       "       '240-297', '186-38', '187-5', '440-12', '247-38', '171-2',\n",
       "       '311-13', '296-15', '468-15', '182-15', '495-15', '130-2',\n",
       "       '1060-46', '443-5', '16-6', '542-21', '491-468', '456-38',\n",
       "       '514-38', '169-9', '404-85', '177-2', '1193-763', '741-130',\n",
       "       '524-130', '360-6', '808-46', '659-5', '400-182', '189-65',\n",
       "       '811-21', '539-21', '439-31', '1235-0', '810-13', '442-5', '651-9',\n",
       "       '267-1235', '83-21', '504-2', '695-15', '378-20', '428-20',\n",
       "       '602-79', '444-5', '1032-102', '502-46', '173-86', '170-13'],\n",
       "      dtype=object)"
      ]
     },
     "execution_count": 180,
     "metadata": {},
     "output_type": "execute_result"
    }
   ],
   "source": [
    "tracks_df.labels_2.unique()"
   ]
  },
  {
   "cell_type": "code",
   "execution_count": 25,
   "id": "af5df190-01df-4f13-a475-35132a6712f4",
   "metadata": {},
   "outputs": [],
   "source": [
    "tracks_df.to_csv(os.path.join(train_path,\"tracks.csv\"),index=False)"
   ]
  },
  {
   "cell_type": "code",
   "execution_count": 14,
   "id": "5dc7f941-56f4-43bc-9d35-8fc233bb2a48",
   "metadata": {},
   "outputs": [],
   "source": [
    "tracks_df = pd.read_csv(os.path.join(train_path,\"tracks.csv\"))"
   ]
  },
  {
   "cell_type": "code",
   "execution_count": 21,
   "id": "d1e5f547-34ba-4d8d-b3ef-7d7eebc578fc",
   "metadata": {},
   "outputs": [],
   "source": [
    "labels_level_1 = tracks_df.labels_1.unique()\n",
    "labels_level_2 = tracks_df.labels_2.unique()\n",
    "labels_level_3 = tracks_df.labels_3.unique()\n",
    "labels_level_4 = tracks_df.labels_4.unique()\n",
    "labels_level_5 = tracks_df.labels_5.unique()"
   ]
  },
  {
   "cell_type": "code",
   "execution_count": 22,
   "id": "196a6c44-f896-43e5-9613-04d9ed20bc16",
   "metadata": {},
   "outputs": [],
   "source": [
    "categories_df = pd.DataFrame(\n",
    "    {'level5':labels_level_5,\n",
    "    'level4':labels_level_4,\n",
    "    'level3':labels_level_3,\n",
    "    'level2':labels_level_2,\n",
    "    'level1':labels_level_1})"
   ]
  },
  {
   "cell_type": "code",
   "execution_count": 23,
   "id": "1c4326bd-6d17-4857-b29c-9fc868e7561d",
   "metadata": {},
   "outputs": [],
   "source": [
    "def get_labels_name(x,genres_df):\n",
    "    levels = 5\n",
    "    full_name = []\n",
    "    last_level = 0\n",
    "    genre_root = \"\"\n",
    "    for genre in x.split('-'):\n",
    "        genre_df = genres_df[genres_df['genre_id'] == int(genre)]\n",
    "        if genre_df.empty:\n",
    "            genre_name = genre_root \n",
    "        else:\n",
    "            genre_name = genre_df.title.values.tolist()[0]\n",
    "            genre_root = genre_name\n",
    "        \n",
    "        full_name.append(genre_name)\n",
    "    full_name = '>'.join(full_name)\n",
    "        \n",
    "    return full_name\n",
    "    # return genres_df[genres_df['genre_id'] == int(x)].title.values.tolist()[0]"
   ]
  },
  {
   "cell_type": "code",
   "execution_count": 24,
   "id": "b18c34df-15b5-47e0-8e3a-b5fa49809c85",
   "metadata": {},
   "outputs": [],
   "source": [
    "categories_df['level5_name'] = categories_df.level5.apply(lambda x: get_labels_name(x,genres_df))"
   ]
  },
  {
   "cell_type": "code",
   "execution_count": 25,
   "id": "02f4885e-7127-4edf-ae64-076d26462a76",
   "metadata": {},
   "outputs": [
    {
     "data": {
      "text/plain": [
       "0                Hip-Hop>Hip-Hop>Hip-Hop>Hip-Hop>Hip-Hop\n",
       "1                                    Pop>Pop>Pop>Pop>Pop\n",
       "2                       Experimental Pop>Pop>Pop>Pop>Pop\n",
       "3                          Loud-Rock>Rock>Rock>Rock>Rock\n",
       "4      Avant-Garde>Experimental>Experimental>Experime...\n",
       "                             ...                        \n",
       "143     Symphony>Classical>Classical>Classical>Classical\n",
       "144    Turkish>Middle East>International>Internationa...\n",
       "145    Cumbia>Latin America>International>Internation...\n",
       "146    N. Indian Traditional>Indian>International>Int...\n",
       "147    Easy Listening: Vocal>Easy Listening>Easy List...\n",
       "Name: level5_name, Length: 148, dtype: object"
      ]
     },
     "execution_count": 25,
     "metadata": {},
     "output_type": "execute_result"
    }
   ],
   "source": [
    "categories_df['level5_name']"
   ]
  },
  {
   "cell_type": "code",
   "execution_count": 27,
   "id": "c2ced721-6c30-46da-95b5-a28b84b6a2a4",
   "metadata": {},
   "outputs": [],
   "source": [
    "def __create_labels__(categories_df):\n",
    "    data = {\n",
    "        \"label1\": {},\n",
    "        \"label2\": {},\n",
    "        \"label3\": {},\n",
    "        \"label4\": {},\n",
    "        \"label5\": {},\n",
    "        \"label1_inverse\": [],\n",
    "        \"label2_inverse\": [],\n",
    "        \"label3_inverse\": [],\n",
    "        \"label4_inverse\": [],\n",
    "        \"label5_inverse\": [],\n",
    "        \"label1_name\": {},\n",
    "        \"label2_name\": {},\n",
    "        \"label3_name\": {},\n",
    "        \"label4_name\": {},\n",
    "        \"label5_name\": {},\n",
    "    }\n",
    "\n",
    "    for idx, cat in enumerate(set(categories_df.level1.values.tolist())):\n",
    "        data['label1'][cat] = idx\n",
    "        data['label1_inverse'].append(cat)\n",
    "        data['label1_count'] = idx + 1\n",
    "\n",
    "    for idx, cat in enumerate(set(categories_df.level2.values.tolist())):\n",
    "        data['label2'][cat] = idx\n",
    "        data['label2_inverse'].append(cat)\n",
    "        data['label2_count'] = idx + 1\n",
    "        \n",
    "    for idx, cat in enumerate(set(categories_df.level3.values.tolist())):\n",
    "        data['label3'][cat] = idx\n",
    "        data['label3_inverse'].append(cat)\n",
    "        data['label3_count'] = idx + 1\n",
    "\n",
    "    for idx, cat in enumerate(set(categories_df.level4.values.tolist())):\n",
    "        data['label4'][cat] = idx\n",
    "        data['label4_inverse'].append(cat)\n",
    "        data['label4_count'] = idx + 1\n",
    "        \n",
    "    for idx, cat in enumerate(set(categories_df.level5.values.tolist())):\n",
    "        data['label5'][cat] = idx\n",
    "        data['label5_inverse'].append(cat)\n",
    "        data['label5_count'] = idx + 1\n",
    "        \n",
    "    for cat5,cat4,cat3,cat2,cat1,name5 in categories_df.values:\n",
    "        \n",
    "        name1 = '>'.join(name5.split('>')[:1])\n",
    "        name2 = '>'.join(name5.split('>')[:2])\n",
    "        name3 = '>'.join(name5.split('>')[:3])\n",
    "        name4 = '>'.join(name5.split('>')[:4])\n",
    "        \n",
    "        \n",
    "        data['label1_name'][cat1] = name1\n",
    "        data['label2_name'][cat2] = name2\n",
    "        data['label3_name'][cat3] = name3\n",
    "        data['label4_name'][cat4] = name4\n",
    "        data['label5_name'][cat5] = name5\n",
    "        \n",
    "    return data"
   ]
  },
  {
   "cell_type": "code",
   "execution_count": 28,
   "id": "e7ccc947-b7ae-464d-a325-d61aa3cf5710",
   "metadata": {},
   "outputs": [],
   "source": [
    "with open(categories_labels_path, 'w+') as f:\n",
    "    f.write(json.dumps(__create_labels__(categories_df)))"
   ]
  },
  {
   "cell_type": "code",
   "execution_count": null,
   "id": "3778cc5d-7def-4a1d-9f5b-b141bd08356c",
   "metadata": {},
   "outputs": [],
   "source": []
  }
 ],
 "metadata": {
  "kernelspec": {
   "display_name": "Python 3 (ipykernel)",
   "language": "python",
   "name": "python3"
  },
  "language_info": {
   "codemirror_mode": {
    "name": "ipython",
    "version": 3
   },
   "file_extension": ".py",
   "mimetype": "text/x-python",
   "name": "python",
   "nbconvert_exporter": "python",
   "pygments_lexer": "ipython3",
   "version": "3.9.16"
  }
 },
 "nbformat": 4,
 "nbformat_minor": 5
}
