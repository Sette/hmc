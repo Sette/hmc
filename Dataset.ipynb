{
 "cells": [
  {
   "cell_type": "markdown",
   "id": "72297d63-738f-4af6-bb57-93cbf1e5889a",
   "metadata": {},
   "source": [
    "## Load dataset\n"
   ]
  },
  {
   "cell_type": "code",
   "execution_count": 3,
   "id": "74b48b26-4fcd-45d9-ae26-db61f6ce5ae6",
   "metadata": {},
   "outputs": [
    {
     "name": "stderr",
     "output_type": "stream",
     "text": [
      "2023-06-26 14:13:55.987572: I tensorflow/core/platform/cpu_feature_guard.cc:182] This TensorFlow binary is optimized to use available CPU instructions in performance-critical operations.\n",
      "To enable the following instructions: AVX2 AVX512F FMA, in other operations, rebuild TensorFlow with the appropriate compiler flags.\n",
      "2023-06-26 14:13:56.657658: W tensorflow/compiler/tf2tensorrt/utils/py_utils.cc:38] TF-TRT Warning: Could not find TensorRT\n"
     ]
    }
   ],
   "source": [
    "from sabotage.dataset import Dataset"
   ]
  },
  {
   "cell_type": "code",
   "execution_count": 4,
   "id": "0b3ef933-f5c7-43bd-be53-630e4ae958c6",
   "metadata": {},
   "outputs": [],
   "source": [
    "import tensorflow as tf"
   ]
  },
  {
   "cell_type": "code",
   "execution_count": 5,
   "id": "19aef345-b3aa-4142-97c6-c7f680a6f5b0",
   "metadata": {},
   "outputs": [],
   "source": [
    "import os"
   ]
  },
  {
   "cell_type": "code",
   "execution_count": 6,
   "id": "151b79d6-9482-4b2b-a23c-3dcb3fe26471",
   "metadata": {},
   "outputs": [],
   "source": [
    "base_path = \"/mnt/disks/data/fma/trains\"\n",
    "id = \"hierarchical_all\"\n",
    "\n",
    "train_path = os.path.join(base_path,id)\n",
    "tfrecords_path =os.path.join(train_path,'tfrecords')"
   ]
  },
  {
   "cell_type": "code",
   "execution_count": 7,
   "id": "657c5d64-a4b8-4166-86ff-d398f014418c",
   "metadata": {},
   "outputs": [],
   "source": [
    "valset_pattern = os.path.join(tfrecords_path,'val')"
   ]
  },
  {
   "cell_type": "code",
   "execution_count": 8,
   "id": "636c2c3c-58e8-4cab-ae98-711e2ef75163",
   "metadata": {},
   "outputs": [],
   "source": [
    "trainset_pattern = os.path.join(tfrecords_path,'train')"
   ]
  },
  {
   "cell_type": "code",
   "execution_count": 9,
   "id": "0a486211-522f-4aec-9b62-db6be4b941dd",
   "metadata": {},
   "outputs": [],
   "source": [
    "files = [os.path.join(valset_pattern,file) for file in os.listdir(valset_pattern)]"
   ]
  },
  {
   "cell_type": "code",
   "execution_count": 10,
   "id": "b51f3b12-fbc2-4f5a-9640-a0a1e697d9d0",
   "metadata": {},
   "outputs": [
    {
     "data": {
      "text/plain": [
       "['/mnt/disks/data/fma/trains/hierarchical_all/tfrecords/val/0000000000.tfrecord']"
      ]
     },
     "execution_count": 10,
     "metadata": {},
     "output_type": "execute_result"
    }
   ],
   "source": [
    "files"
   ]
  },
  {
   "cell_type": "code",
   "execution_count": 15,
   "id": "b566f90b-9f4a-448a-8939-4e653381031f",
   "metadata": {},
   "outputs": [
    {
     "name": "stdout",
     "output_type": "stream",
     "text": [
      "['/mnt/disks/data/fma/trains/hierarchical_all/tfrecords/val/0000000000.tfrecord']\n"
     ]
    },
    {
     "name": "stderr",
     "output_type": "stream",
     "text": [
      "2023-06-26 14:14:27.907605: I tensorflow/core/common_runtime/executor.cc:1197] [/device:CPU:0] (DEBUG INFO) Executor start aborting (this does not indicate an error and you can ignore this message): INVALID_ARGUMENT: You must feed a value for placeholder tensor 'Placeholder/_0' with dtype string and shape [1]\n",
      "\t [[{{node Placeholder/_0}}]]\n",
      "2023-06-26 14:14:27.907859: I tensorflow/core/common_runtime/executor.cc:1197] [/device:CPU:0] (DEBUG INFO) Executor start aborting (this does not indicate an error and you can ignore this message): INVALID_ARGUMENT: You must feed a value for placeholder tensor 'Placeholder/_0' with dtype string and shape [1]\n",
      "\t [[{{node Placeholder/_0}}]]\n"
     ]
    }
   ],
   "source": [
    "ds_validation = Dataset(valset_pattern, 10, 32).build(df=True)"
   ]
  },
  {
   "cell_type": "code",
   "execution_count": null,
   "id": "8cc19c13-d58e-4918-b10a-04baec10ece2",
   "metadata": {
    "scrolled": true
   },
   "outputs": [
    {
     "name": "stdout",
     "output_type": "stream",
     "text": [
      "['/mnt/disks/data/fma/trains/hierarchical_all/tfrecords/train/0000000000.tfrecord', '/mnt/disks/data/fma/trains/hierarchical_all/tfrecords/train/0000000001.tfrecord']\n"
     ]
    },
    {
     "name": "stderr",
     "output_type": "stream",
     "text": [
      "2023-06-26 14:10:46.571818: I tensorflow/core/common_runtime/executor.cc:1197] [/device:CPU:0] (DEBUG INFO) Executor start aborting (this does not indicate an error and you can ignore this message): INVALID_ARGUMENT: You must feed a value for placeholder tensor 'Placeholder/_0' with dtype string and shape [2]\n",
      "\t [[{{node Placeholder/_0}}]]\n",
      "2023-06-26 14:10:46.572059: I tensorflow/core/common_runtime/executor.cc:1197] [/device:CPU:0] (DEBUG INFO) Executor start aborting (this does not indicate an error and you can ignore this message): INVALID_ARGUMENT: You must feed a value for placeholder tensor 'Placeholder/_0' with dtype string and shape [2]\n",
      "\t [[{{node Placeholder/_0}}]]\n"
     ]
    }
   ],
   "source": [
    "ds_train = Dataset(trainset_pattern, 10, 32).build(df=True)"
   ]
  },
  {
   "cell_type": "code",
   "execution_count": 33,
   "id": "adecf927-6c47-4577-98c1-359b60f4101b",
   "metadata": {},
   "outputs": [
    {
     "data": {
      "text/plain": [
       "(16,)"
      ]
     },
     "execution_count": 33,
     "metadata": {},
     "output_type": "execute_result"
    }
   ],
   "source": [
    "ds_validation.iloc[0].genres['level1_output'].shape"
   ]
  },
  {
   "cell_type": "markdown",
   "id": "9280340d-607d-4056-9076-e14b174927ff",
   "metadata": {},
   "source": [
    "### Exploring dataframe"
   ]
  },
  {
   "cell_type": "code",
   "execution_count": 12,
   "id": "222ce7ea-d25f-40fd-b3e5-5f10258bacc0",
   "metadata": {},
   "outputs": [
    {
     "ename": "AttributeError",
     "evalue": "'_PrefetchDataset' object has no attribute 'feature'",
     "output_type": "error",
     "traceback": [
      "\u001b[0;31m---------------------------------------------------------------------------\u001b[0m",
      "\u001b[0;31mAttributeError\u001b[0m                            Traceback (most recent call last)",
      "Cell \u001b[0;32mIn[12], line 1\u001b[0m\n\u001b[0;32m----> 1\u001b[0m \u001b[43mds_validation\u001b[49m\u001b[38;5;241;43m.\u001b[39;49m\u001b[43mfeature\u001b[49m\u001b[38;5;241m.\u001b[39miloc[\u001b[38;5;241m1\u001b[39m][\u001b[38;5;124m'\u001b[39m\u001b[38;5;124mfeatures\u001b[39m\u001b[38;5;124m'\u001b[39m]\u001b[38;5;241m.\u001b[39mshape\n",
      "\u001b[0;31mAttributeError\u001b[0m: '_PrefetchDataset' object has no attribute 'feature'"
     ]
    }
   ],
   "source": [
    "ds_validation.feature.iloc[1]['features'].shape"
   ]
  },
  {
   "cell_type": "code",
   "execution_count": null,
   "id": "fe2b8e66-4d9a-4635-922c-55cd386cc073",
   "metadata": {},
   "outputs": [],
   "source": [
    "ds_validation.genres.iloc[0]"
   ]
  },
  {
   "cell_type": "code",
   "execution_count": 12,
   "id": "dbb5cc8d-2578-4fce-89c2-c695a40ba37a",
   "metadata": {},
   "outputs": [
    {
     "ename": "AttributeError",
     "evalue": "'_PrefetchDataset' object has no attribute 'feature'",
     "output_type": "error",
     "traceback": [
      "\u001b[0;31m---------------------------------------------------------------------------\u001b[0m",
      "\u001b[0;31mAttributeError\u001b[0m                            Traceback (most recent call last)",
      "Cell \u001b[0;32mIn[12], line 1\u001b[0m\n\u001b[0;32m----> 1\u001b[0m \u001b[43mds_validation\u001b[49m\u001b[38;5;241;43m.\u001b[39;49m\u001b[43mfeature\u001b[49m\u001b[38;5;241m.\u001b[39miloc[\u001b[38;5;241m0\u001b[39m]\n",
      "\u001b[0;31mAttributeError\u001b[0m: '_PrefetchDataset' object has no attribute 'feature'"
     ]
    }
   ],
   "source": [
    "ds_validation.feature.iloc[0]"
   ]
  },
  {
   "cell_type": "code",
   "execution_count": 13,
   "id": "0c4a6569-01fb-4d0d-b5da-4cdb15eae426",
   "metadata": {},
   "outputs": [
    {
     "data": {
      "text/plain": [
       "'/mnt/disks/data/fma/trains/hierarchical_sample/tfrecords/val'"
      ]
     },
     "execution_count": 13,
     "metadata": {},
     "output_type": "execute_result"
    }
   ],
   "source": [
    "valset_pattern"
   ]
  },
  {
   "cell_type": "markdown",
   "id": "a3ffd9e9-9500-431c-b79d-4b9067688793",
   "metadata": {},
   "source": [
    "### Exploring tf.Dataset"
   ]
  },
  {
   "cell_type": "code",
   "execution_count": 26,
   "id": "ee5f022c-f32b-4c26-8bd6-eb8aff62baa2",
   "metadata": {},
   "outputs": [
    {
     "data": {
      "text/plain": [
       "<_PrefetchDataset element_spec=({'features': TensorSpec(shape=(None, 1280), dtype=tf.float32, name=None)}, {'level1': TensorSpec(shape=(None, None), dtype=tf.float32, name=None)})>"
      ]
     },
     "execution_count": 26,
     "metadata": {},
     "output_type": "execute_result"
    }
   ],
   "source": [
    "ds_train"
   ]
  },
  {
   "cell_type": "code",
   "execution_count": 27,
   "id": "43d1ede1-463b-4f4f-94b3-cabe8128095c",
   "metadata": {
    "scrolled": true,
    "tags": []
   },
   "outputs": [
    {
     "name": "stderr",
     "output_type": "stream",
     "text": [
      "2023-05-22 15:30:18.928934: I tensorflow/core/common_runtime/executor.cc:1197] [/device:CPU:0] (DEBUG INFO) Executor start aborting (this does not indicate an error and you can ignore this message): INVALID_ARGUMENT: You must feed a value for placeholder tensor 'Placeholder/_0' with dtype string and shape [2]\n",
      "\t [[{{node Placeholder/_0}}]]\n",
      "2023-05-22 15:30:18.929402: I tensorflow/core/common_runtime/executor.cc:1197] [/device:CPU:0] (DEBUG INFO) Executor start aborting (this does not indicate an error and you can ignore this message): INVALID_ARGUMENT: You must feed a value for placeholder tensor 'Placeholder/_0' with dtype string and shape [2]\n",
      "\t [[{{node Placeholder/_0}}]]\n"
     ]
    }
   ],
   "source": [
    "count = 0\n",
    "for data in ds_train:\n",
    "    count+=1"
   ]
  },
  {
   "cell_type": "code",
   "execution_count": 28,
   "id": "8516a05d-1616-4192-9903-57942a7b9cd8",
   "metadata": {},
   "outputs": [
    {
     "data": {
      "text/plain": [
       "16044"
      ]
     },
     "execution_count": 28,
     "metadata": {},
     "output_type": "execute_result"
    }
   ],
   "source": [
    "count"
   ]
  },
  {
   "cell_type": "code",
   "execution_count": null,
   "id": "c086285b-14a6-458d-958f-ea09d5446290",
   "metadata": {},
   "outputs": [],
   "source": []
  }
 ],
 "metadata": {
  "kernelspec": {
   "display_name": "Python 3 (ipykernel)",
   "language": "python",
   "name": "python3"
  },
  "language_info": {
   "codemirror_mode": {
    "name": "ipython",
    "version": 3
   },
   "file_extension": ".py",
   "mimetype": "text/x-python",
   "name": "python",
   "nbconvert_exporter": "python",
   "pygments_lexer": "ipython3",
   "version": "3.10.11"
  }
 },
 "nbformat": 4,
 "nbformat_minor": 5
}
