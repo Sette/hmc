{
 "cells": [
  {
   "cell_type": "markdown",
   "id": "72297d63-738f-4af6-bb57-93cbf1e5889a",
   "metadata": {},
   "source": [
    "## Load dataset\n"
   ]
  },
  {
   "cell_type": "code",
   "execution_count": 1,
   "id": "74b48b26-4fcd-45d9-ae26-db61f6ce5ae6",
   "metadata": {
    "ExecuteTime": {
     "end_time": "2024-05-12T19:37:14.457148Z",
     "start_time": "2024-05-12T19:37:12.677464Z"
    }
   },
   "outputs": [
    {
     "name": "stderr",
     "output_type": "stream",
     "text": [
      "2024-05-12 19:04:58.790788: I tensorflow/core/platform/cpu_feature_guard.cc:210] This TensorFlow binary is optimized to use available CPU instructions in performance-critical operations.\n",
      "To enable the following instructions: AVX2 AVX512F FMA, in other operations, rebuild TensorFlow with the appropriate compiler flags.\n",
      "2024-05-12 19:04:59.429587: W tensorflow/compiler/tf2tensorrt/utils/py_utils.cc:38] TF-TRT Warning: Could not find TensorRT\n"
     ]
    }
   ],
   "source": [
    "import tensorflow as tf\n",
    "from hcml.dataset import Dataset"
   ]
  },
  {
   "cell_type": "code",
   "execution_count": 2,
   "id": "9042109d-07a8-4aae-8e70-c7ae61d0783c",
   "metadata": {
    "ExecuteTime": {
     "end_time": "2024-05-12T19:37:14.461766Z",
     "start_time": "2024-05-12T19:37:14.458499Z"
    }
   },
   "outputs": [],
   "source": [
    "from hcml.utils import __load_json__"
   ]
  },
  {
   "cell_type": "code",
   "execution_count": 3,
   "id": "19aef345-b3aa-4142-97c6-c7f680a6f5b0",
   "metadata": {
    "ExecuteTime": {
     "end_time": "2024-05-12T19:37:14.525397Z",
     "start_time": "2024-05-12T19:37:14.521212Z"
    }
   },
   "outputs": [],
   "source": [
    "import os"
   ]
  },
  {
   "cell_type": "code",
   "execution_count": 4,
   "id": "151b79d6-9482-4b2b-a23c-3dcb3fe26471",
   "metadata": {
    "ExecuteTime": {
     "end_time": "2024-05-12T19:28:21.442951Z",
     "start_time": "2024-05-12T19:28:21.436408Z"
    }
   },
   "outputs": [],
   "source": [
    "base_path = \"/mnt/disks/data/fma/trains\"\n",
    "id = \"hierarchical_tworoots_dev\"\n",
    "\n",
    "train_path = os.path.join(base_path,id)\n",
    "metadata_path = os.path.join(train_path,'metadata.json')\n",
    "labels_path = os.path.join(train_path,'labels.json')\n",
    "tfrecords_path =os.path.join(train_path,'tfrecords')"
   ]
  },
  {
   "cell_type": "code",
   "execution_count": 5,
   "id": "f68abf8d-b1bb-4b1c-84c7-fd1f3f7f5b36",
   "metadata": {
    "ExecuteTime": {
     "end_time": "2024-05-12T19:28:21.790796Z",
     "start_time": "2024-05-12T19:28:21.785311Z"
    }
   },
   "outputs": [],
   "source": [
    "metadata = __load_json__(metadata_path)"
   ]
  },
  {
   "cell_type": "code",
   "execution_count": 25,
   "id": "74ec40e8-7862-4e82-8fcb-8770c23fc2ff",
   "metadata": {},
   "outputs": [],
   "source": [
    "labels = __load_json__(labels_path)"
   ]
  },
  {
   "cell_type": "code",
   "execution_count": 26,
   "id": "dd7d85ab-a7fe-4a15-acdf-6c516fae0fc9",
   "metadata": {},
   "outputs": [
    {
     "data": {
      "text/plain": [
       "{'label_1': {'15': 0, '12': 1},\n",
       " 'label_1_name': {'15': 'Electronic', '12': 'Rock'},\n",
       " 'label_1_inverse': [15, 12],\n",
       " 'label_1_count': 2,\n",
       " 'label_2': {'182': 1,\n",
       "  '297': 2,\n",
       "  '85': 3,\n",
       "  '58': 4,\n",
       "  '183': 5,\n",
       "  '25': 6,\n",
       "  '314': 7,\n",
       "  '337': 8,\n",
       "  '185': 9,\n",
       "  '695': 10,\n",
       "  '236': 11,\n",
       "  '31': 12,\n",
       "  '45': 13,\n",
       "  '42': 14,\n",
       "  '495': 15,\n",
       "  '27': 16,\n",
       "  '181': 17,\n",
       "  '286': 18,\n",
       "  '66': 19,\n",
       "  '468': 20,\n",
       "  '296': 21,\n",
       "  '184': 22,\n",
       "  '88': 23,\n",
       "  '26': 24,\n",
       "  '70': 25,\n",
       "  '440': 26,\n",
       "  '359': 27,\n",
       "  '98': 28,\n",
       "  '36': 29},\n",
       " 'label_2_name': {'182': 'Electronic>House',\n",
       "  '297': 'Electronic>Chip Music',\n",
       "  '85': 'Rock>Garage',\n",
       "  '58': 'Rock>Psych-Rock',\n",
       "  '183': 'Electronic>Glitch',\n",
       "  '25': 'Rock>Punk',\n",
       "  '314': 'Rock>Goth',\n",
       "  '337': 'Electronic>Drum & Bass',\n",
       "  '185': 'Electronic>Breakcore - Hard',\n",
       "  '695': 'Electronic>Jungle',\n",
       "  '236': 'Electronic>IDM',\n",
       "  '31': 'Rock>Metal',\n",
       "  '45': 'Rock>Loud-Rock',\n",
       "  '42': 'Electronic>Ambient Electronic',\n",
       "  '495': 'Electronic>Downtempo',\n",
       "  '27': 'Rock>Lo-Fi',\n",
       "  '181': 'Electronic>Techno',\n",
       "  '286': 'Electronic>Trip-Hop',\n",
       "  '66': 'Rock>Indie-Rock',\n",
       "  '468': 'Electronic>Dubstep',\n",
       "  '296': 'Electronic>Dance',\n",
       "  '184': 'Electronic>Minimal Electronic',\n",
       "  '88': 'Rock>New Wave',\n",
       "  '26': 'Rock>Post-Rock',\n",
       "  '70': 'Rock>Industrial',\n",
       "  '440': 'Rock>Rock Opera',\n",
       "  '359': 'Rock>Shoegaze',\n",
       "  '98': 'Rock>Progressive',\n",
       "  '36': 'Rock>Krautrock'},\n",
       " 'label_2_inverse': [182,\n",
       "  297,\n",
       "  85,\n",
       "  58,\n",
       "  183,\n",
       "  25,\n",
       "  314,\n",
       "  337,\n",
       "  185,\n",
       "  695,\n",
       "  236,\n",
       "  31,\n",
       "  45,\n",
       "  42,\n",
       "  495,\n",
       "  27,\n",
       "  181,\n",
       "  286,\n",
       "  66,\n",
       "  468,\n",
       "  296,\n",
       "  184,\n",
       "  88,\n",
       "  26,\n",
       "  70,\n",
       "  440,\n",
       "  359,\n",
       "  98,\n",
       "  36],\n",
       " 'label_2_count': 30,\n",
       " 'label_3': {'400': 1,\n",
       "  '240': 2,\n",
       "  '89': 3,\n",
       "  '109': 4,\n",
       "  '404': 5,\n",
       "  '439': 6,\n",
       "  '53': 7,\n",
       "  '64': 8,\n",
       "  '71': 9,\n",
       "  '111': 10,\n",
       "  '113': 11,\n",
       "  '101': 12,\n",
       "  '491': 13,\n",
       "  '167': 14,\n",
       "  '401': 15},\n",
       " 'label_3_name': {'400': 'Electronic>House>Chill-out',\n",
       "  '240': 'Electronic>Chip Music>Chiptune',\n",
       "  '89': 'Rock>Punk>Post-Punk',\n",
       "  '109': 'Rock>Punk>Hardcore',\n",
       "  '404': 'Rock>Garage>Surf',\n",
       "  '439': 'Rock>Metal>Grindcore',\n",
       "  '53': 'Rock>Loud-Rock>Noise-Rock',\n",
       "  '64': 'Rock>Punk>Electro-Punk',\n",
       "  '71': 'Rock>Punk>No Wave',\n",
       "  '111': 'Rock>Punk>Power-Pop',\n",
       "  '113': 'Rock>Post-Rock>Space-Rock',\n",
       "  '101': 'Rock>Metal>Death-Metal',\n",
       "  '491': 'Electronic>Dubstep>Skweee',\n",
       "  '167': 'Rock>Metal>Black-Metal',\n",
       "  '401': 'Electronic>Techno>Bigbeat'},\n",
       " 'label_3_inverse': [400,\n",
       "  240,\n",
       "  89,\n",
       "  109,\n",
       "  404,\n",
       "  439,\n",
       "  53,\n",
       "  64,\n",
       "  71,\n",
       "  111,\n",
       "  113,\n",
       "  101,\n",
       "  491,\n",
       "  167,\n",
       "  401],\n",
       " 'label_3_count': 16,\n",
       " 'label_4': {'361': 1, '90': 2},\n",
       " 'label_4_name': {'361': 'Rock>Punk>Hardcore>Thrash',\n",
       "  '90': 'Rock>Loud-Rock>Noise-Rock>Sludge'},\n",
       " 'label_4_inverse': [361, 90],\n",
       " 'label_4_count': 3}"
      ]
     },
     "execution_count": 26,
     "metadata": {},
     "output_type": "execute_result"
    }
   ],
   "source": [
    "labels"
   ]
  },
  {
   "cell_type": "code",
   "execution_count": 6,
   "id": "f1cc6283-1225-4ac7-9082-53dbaa63d5e4",
   "metadata": {
    "ExecuteTime": {
     "end_time": "2024-05-12T19:28:22.216240Z",
     "start_time": "2024-05-12T19:28:22.205863Z"
    }
   },
   "outputs": [
    {
     "data": {
      "text/plain": [
       "4"
      ]
     },
     "execution_count": 6,
     "metadata": {},
     "output_type": "execute_result"
    }
   ],
   "source": [
    "metadata['max_depth']"
   ]
  },
  {
   "cell_type": "code",
   "execution_count": 7,
   "id": "657c5d64-a4b8-4166-86ff-d398f014418c",
   "metadata": {
    "ExecuteTime": {
     "end_time": "2024-05-12T19:28:22.635584Z",
     "start_time": "2024-05-12T19:28:22.630594Z"
    }
   },
   "outputs": [],
   "source": [
    "valset_pattern = os.path.join(tfrecords_path,'val')"
   ]
  },
  {
   "cell_type": "code",
   "execution_count": 8,
   "id": "636c2c3c-58e8-4cab-ae98-711e2ef75163",
   "metadata": {},
   "outputs": [],
   "source": [
    "trainset_pattern = os.path.join(tfrecords_path,'train')"
   ]
  },
  {
   "cell_type": "code",
   "execution_count": 9,
   "id": "0a486211-522f-4aec-9b62-db6be4b941dd",
   "metadata": {},
   "outputs": [],
   "source": [
    "files = [os.path.join(valset_pattern,file) for file in os.listdir(valset_pattern)]"
   ]
  },
  {
   "cell_type": "code",
   "execution_count": 10,
   "id": "b51f3b12-fbc2-4f5a-9640-a0a1e697d9d0",
   "metadata": {},
   "outputs": [
    {
     "data": {
      "text/plain": [
       "['/mnt/disks/data/fma/trains/hierarchical_tworoots_dev/tfrecords/val/0000000000.tfrecord']"
      ]
     },
     "execution_count": 10,
     "metadata": {},
     "output_type": "execute_result"
    }
   ],
   "source": [
    "files"
   ]
  },
  {
   "cell_type": "code",
   "execution_count": 11,
   "id": "ec17263b-76c0-48ce-9beb-af18079a41ec",
   "metadata": {},
   "outputs": [
    {
     "name": "stderr",
     "output_type": "stream",
     "text": [
      "2024-05-12 19:05:00.729567: I tensorflow/core/common_runtime/gpu/gpu_device.cc:1928] Created device /job:localhost/replica:0/task:0/device:GPU:0 with 669 MB memory:  -> device: 0, name: NVIDIA GeForce RTX 2080 Ti, pci bus id: 0000:65:00.0, compute capability: 7.5\n"
     ]
    }
   ],
   "source": [
    "ds = tf.data.TFRecordDataset(files[0])"
   ]
  },
  {
   "cell_type": "code",
   "execution_count": 20,
   "id": "b566f90b-9f4a-448a-8939-4e653381031f",
   "metadata": {},
   "outputs": [],
   "source": [
    "ds_validation = Dataset(valset_pattern, 10, 32, depth=metadata['max_depth']).build(df=False)"
   ]
  },
  {
   "cell_type": "code",
   "execution_count": 21,
   "id": "316f96ba-927c-4942-86ed-3b6893938672",
   "metadata": {},
   "outputs": [],
   "source": [
    "ds_train = Dataset(trainset_pattern, 10, 32, depth=metadata['max_depth']).build(df=False)"
   ]
  },
  {
   "cell_type": "code",
   "execution_count": 22,
   "id": "88a370ef-dc66-48c7-9886-e6709a75a738",
   "metadata": {
    "scrolled": true
   },
   "outputs": [],
   "source": [
    "#dados = list(ds_validation.as_numpy_iterator())"
   ]
  },
  {
   "cell_type": "code",
   "execution_count": 23,
   "id": "4f6bcb1e-1afc-4c00-9bea-37a6ea96852e",
   "metadata": {},
   "outputs": [
    {
     "ename": "NameError",
     "evalue": "name 'dados' is not defined",
     "output_type": "error",
     "traceback": [
      "\u001b[0;31m---------------------------------------------------------------------------\u001b[0m",
      "\u001b[0;31mNameError\u001b[0m                                 Traceback (most recent call last)",
      "Cell \u001b[0;32mIn[23], line 1\u001b[0m\n\u001b[0;32m----> 1\u001b[0m \u001b[43mdados\u001b[49m\n",
      "\u001b[0;31mNameError\u001b[0m: name 'dados' is not defined"
     ]
    }
   ],
   "source": [
    "dados"
   ]
  },
  {
   "cell_type": "markdown",
   "id": "9280340d-607d-4056-9076-e14b174927ff",
   "metadata": {},
   "source": [
    "### Exploring dataframe"
   ]
  },
  {
   "cell_type": "code",
   "execution_count": 24,
   "id": "222ce7ea-d25f-40fd-b3e5-5f10258bacc0",
   "metadata": {},
   "outputs": [
    {
     "ename": "AttributeError",
     "evalue": "'_PrefetchDataset' object has no attribute 'feature'",
     "output_type": "error",
     "traceback": [
      "\u001b[0;31m---------------------------------------------------------------------------\u001b[0m",
      "\u001b[0;31mAttributeError\u001b[0m                            Traceback (most recent call last)",
      "Cell \u001b[0;32mIn[24], line 1\u001b[0m\n\u001b[0;32m----> 1\u001b[0m \u001b[43mds_validation\u001b[49m\u001b[38;5;241;43m.\u001b[39;49m\u001b[43mfeature\u001b[49m\u001b[38;5;241m.\u001b[39miloc[\u001b[38;5;241m1\u001b[39m][\u001b[38;5;124m'\u001b[39m\u001b[38;5;124mfeatures\u001b[39m\u001b[38;5;124m'\u001b[39m]\u001b[38;5;241m.\u001b[39mshape\n",
      "\u001b[0;31mAttributeError\u001b[0m: '_PrefetchDataset' object has no attribute 'feature'"
     ]
    }
   ],
   "source": [
    "ds_validation.feature.iloc[1]['features'].shape"
   ]
  },
  {
   "cell_type": "code",
   "execution_count": null,
   "id": "fe2b8e66-4d9a-4635-922c-55cd386cc073",
   "metadata": {},
   "outputs": [],
   "source": [
    "ds_validation.genres.iloc[0]"
   ]
  },
  {
   "cell_type": "code",
   "execution_count": null,
   "id": "dbb5cc8d-2578-4fce-89c2-c695a40ba37a",
   "metadata": {},
   "outputs": [],
   "source": [
    "ds_validation.feature.iloc[0]"
   ]
  },
  {
   "cell_type": "code",
   "execution_count": null,
   "id": "0c4a6569-01fb-4d0d-b5da-4cdb15eae426",
   "metadata": {},
   "outputs": [],
   "source": [
    "valset_pattern"
   ]
  },
  {
   "cell_type": "markdown",
   "id": "a3ffd9e9-9500-431c-b79d-4b9067688793",
   "metadata": {},
   "source": [
    "### Exploring tf.Dataset"
   ]
  },
  {
   "cell_type": "code",
   "execution_count": null,
   "id": "ee5f022c-f32b-4c26-8bd6-eb8aff62baa2",
   "metadata": {},
   "outputs": [],
   "source": [
    "ds_train"
   ]
  },
  {
   "cell_type": "code",
   "execution_count": null,
   "id": "43d1ede1-463b-4f4f-94b3-cabe8128095c",
   "metadata": {
    "scrolled": true,
    "tags": []
   },
   "outputs": [],
   "source": [
    "count = 0\n",
    "for data in ds_train:\n",
    "    count+=1"
   ]
  },
  {
   "cell_type": "code",
   "execution_count": null,
   "id": "8516a05d-1616-4192-9903-57942a7b9cd8",
   "metadata": {},
   "outputs": [],
   "source": [
    "count"
   ]
  },
  {
   "cell_type": "code",
   "execution_count": null,
   "id": "c086285b-14a6-458d-958f-ea09d5446290",
   "metadata": {},
   "outputs": [],
   "source": []
  }
 ],
 "metadata": {
  "kernelspec": {
   "display_name": "Python 3 (ipykernel)",
   "language": "python",
   "name": "python3"
  },
  "language_info": {
   "codemirror_mode": {
    "name": "ipython",
    "version": 3
   },
   "file_extension": ".py",
   "mimetype": "text/x-python",
   "name": "python",
   "nbconvert_exporter": "python",
   "pygments_lexer": "ipython3",
   "version": "3.11.0rc1"
  }
 },
 "nbformat": 4,
 "nbformat_minor": 5
}
