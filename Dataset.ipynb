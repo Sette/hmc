{
 "cells": [
  {
   "cell_type": "markdown",
   "id": "72297d63-738f-4af6-bb57-93cbf1e5889a",
   "metadata": {},
   "source": [
    "## Load dataset\n"
   ]
  },
  {
   "cell_type": "code",
   "execution_count": 16,
   "id": "74b48b26-4fcd-45d9-ae26-db61f6ce5ae6",
   "metadata": {},
   "outputs": [],
   "source": [
    "from sabotage.dataset import Dataset"
   ]
  },
  {
   "cell_type": "code",
   "execution_count": 17,
   "id": "0b3ef933-f5c7-43bd-be53-630e4ae958c6",
   "metadata": {},
   "outputs": [],
   "source": [
    "import tensorflow as tf"
   ]
  },
  {
   "cell_type": "code",
   "execution_count": 18,
   "id": "19aef345-b3aa-4142-97c6-c7f680a6f5b0",
   "metadata": {},
   "outputs": [],
   "source": [
    "import os"
   ]
  },
  {
   "cell_type": "code",
   "execution_count": 19,
   "id": "151b79d6-9482-4b2b-a23c-3dcb3fe26471",
   "metadata": {},
   "outputs": [],
   "source": [
    "base_path = \"/mnt/disks/data/fma/trains\"\n",
    "id = \"hierarchical_sample\"\n",
    "\n",
    "train_path = os.path.join(base_path,id)\n",
    "tfrecords_path =os.path.join(train_path,'tfrecords')"
   ]
  },
  {
   "cell_type": "code",
   "execution_count": 20,
   "id": "657c5d64-a4b8-4166-86ff-d398f014418c",
   "metadata": {},
   "outputs": [],
   "source": [
    "valset_pattern = os.path.join(tfrecords_path,'val')"
   ]
  },
  {
   "cell_type": "code",
   "execution_count": 21,
   "id": "636c2c3c-58e8-4cab-ae98-711e2ef75163",
   "metadata": {},
   "outputs": [],
   "source": [
    "trainset_pattern = os.path.join(tfrecords_path,'train')"
   ]
  },
  {
   "cell_type": "code",
   "execution_count": 22,
   "id": "0a486211-522f-4aec-9b62-db6be4b941dd",
   "metadata": {},
   "outputs": [],
   "source": [
    "files = [os.path.join(valset_pattern,file) for file in os.listdir(valset_pattern)]"
   ]
  },
  {
   "cell_type": "code",
   "execution_count": 23,
   "id": "b51f3b12-fbc2-4f5a-9640-a0a1e697d9d0",
   "metadata": {},
   "outputs": [
    {
     "data": {
      "text/plain": [
       "['/mnt/disks/data/fma/trains/hierarchical_sample/tfrecords/val/0000000000.tfrecord']"
      ]
     },
     "execution_count": 23,
     "metadata": {},
     "output_type": "execute_result"
    }
   ],
   "source": [
    "files"
   ]
  },
  {
   "cell_type": "code",
   "execution_count": 24,
   "id": "b566f90b-9f4a-448a-8939-4e653381031f",
   "metadata": {},
   "outputs": [
    {
     "name": "stdout",
     "output_type": "stream",
     "text": [
      "['/mnt/disks/data/fma/trains/hierarchical_sample/tfrecords/val/0000000000.tfrecord']\n"
     ]
    }
   ],
   "source": [
    "ds_validation = Dataset(valset_pattern, 10, 32).build()"
   ]
  },
  {
   "cell_type": "code",
   "execution_count": 29,
   "id": "8cc19c13-d58e-4918-b10a-04baec10ece2",
   "metadata": {
    "scrolled": true
   },
   "outputs": [
    {
     "name": "stdout",
     "output_type": "stream",
     "text": [
      "['/mnt/disks/data/fma/trains/hierarchical_sample/tfrecords/train/0000000000.tfrecord', '/mnt/disks/data/fma/trains/hierarchical_sample/tfrecords/train/0000000001.tfrecord']\n"
     ]
    },
    {
     "name": "stderr",
     "output_type": "stream",
     "text": [
      "2023-05-22 15:31:04.390082: I tensorflow/core/common_runtime/executor.cc:1197] [/device:CPU:0] (DEBUG INFO) Executor start aborting (this does not indicate an error and you can ignore this message): INVALID_ARGUMENT: You must feed a value for placeholder tensor 'Placeholder/_0' with dtype string and shape [2]\n",
      "\t [[{{node Placeholder/_0}}]]\n",
      "2023-05-22 15:31:04.390432: I tensorflow/core/common_runtime/executor.cc:1197] [/device:CPU:0] (DEBUG INFO) Executor start aborting (this does not indicate an error and you can ignore this message): INVALID_ARGUMENT: You must feed a value for placeholder tensor 'Placeholder/_0' with dtype string and shape [2]\n",
      "\t [[{{node Placeholder/_0}}]]\n"
     ]
    }
   ],
   "source": [
    "ds_train = Dataset(trainset_pattern, 10, 32).build(df=True)"
   ]
  },
  {
   "cell_type": "code",
   "execution_count": 30,
   "id": "adecf927-6c47-4577-98c1-359b60f4101b",
   "metadata": {},
   "outputs": [
    {
     "data": {
      "text/html": [
       "<div>\n",
       "<style scoped>\n",
       "    .dataframe tbody tr th:only-of-type {\n",
       "        vertical-align: middle;\n",
       "    }\n",
       "\n",
       "    .dataframe tbody tr th {\n",
       "        vertical-align: top;\n",
       "    }\n",
       "\n",
       "    .dataframe thead th {\n",
       "        text-align: right;\n",
       "    }\n",
       "</style>\n",
       "<table border=\"1\" class=\"dataframe\">\n",
       "  <thead>\n",
       "    <tr style=\"text-align: right;\">\n",
       "      <th></th>\n",
       "      <th>feature</th>\n",
       "      <th>genres</th>\n",
       "    </tr>\n",
       "  </thead>\n",
       "  <tbody>\n",
       "    <tr>\n",
       "      <th>0</th>\n",
       "      <td>{'features': [-0.0046566227, -0.013151367, 0.1...</td>\n",
       "      <td>{'level1': [0.0, 1.0, 0.0, 0.0, 0.0, 0.0, 0.0,...</td>\n",
       "    </tr>\n",
       "    <tr>\n",
       "      <th>1</th>\n",
       "      <td>{'features': [0.005960276, 0.011647403, -0.036...</td>\n",
       "      <td>{'level1': [0.0, 0.0, 1.0, 0.0, 0.0, 0.0, 0.0,...</td>\n",
       "    </tr>\n",
       "    <tr>\n",
       "      <th>2</th>\n",
       "      <td>{'features': [0.00063260394, 0.046859622, -0.0...</td>\n",
       "      <td>{'level1': [0.0, 0.0, 1.0, 0.0, 0.0, 0.0, 0.0,...</td>\n",
       "    </tr>\n",
       "    <tr>\n",
       "      <th>3</th>\n",
       "      <td>{'features': [-0.009974818, 0.009049992, -0.06...</td>\n",
       "      <td>{'level1': [0.0, 0.0, 1.0, 0.0, 0.0, 0.0, 0.0,...</td>\n",
       "    </tr>\n",
       "    <tr>\n",
       "      <th>4</th>\n",
       "      <td>{'features': [0.0050848625, 0.35264587, 0.0020...</td>\n",
       "      <td>{'level1': [0.0, 0.0, 1.0, 0.0, 0.0, 0.0, 0.0,...</td>\n",
       "    </tr>\n",
       "    <tr>\n",
       "      <th>...</th>\n",
       "      <td>...</td>\n",
       "      <td>...</td>\n",
       "    </tr>\n",
       "    <tr>\n",
       "      <th>513395</th>\n",
       "      <td>{'features': [0.03242415, -0.09811758, -0.0594...</td>\n",
       "      <td>{'level1': [0.0, 0.0, 1.0, 0.0, 0.0, 0.0, 0.0,...</td>\n",
       "    </tr>\n",
       "    <tr>\n",
       "      <th>513396</th>\n",
       "      <td>{'features': [-0.014043818, 0.015126635, -0.01...</td>\n",
       "      <td>{'level1': [0.0, 0.0, 1.0, 0.0, 0.0, 0.0, 0.0,...</td>\n",
       "    </tr>\n",
       "    <tr>\n",
       "      <th>513397</th>\n",
       "      <td>{'features': [0.0063131056, 0.029032787, 0.107...</td>\n",
       "      <td>{'level1': [0.0, 1.0, 0.0, 0.0, 0.0, 0.0, 0.0,...</td>\n",
       "    </tr>\n",
       "    <tr>\n",
       "      <th>513398</th>\n",
       "      <td>{'features': [0.028710147, -0.03073891, 0.0959...</td>\n",
       "      <td>{'level1': [0.0, 0.0, 0.0, 1.0, 0.0, 0.0, 0.0,...</td>\n",
       "    </tr>\n",
       "    <tr>\n",
       "      <th>513399</th>\n",
       "      <td>{'features': [0.029988924, -0.010671536, 0.011...</td>\n",
       "      <td>{'level1': [0.0, 0.0, 0.0, 1.0, 0.0, 0.0, 0.0,...</td>\n",
       "    </tr>\n",
       "  </tbody>\n",
       "</table>\n",
       "<p>513400 rows × 2 columns</p>\n",
       "</div>"
      ],
      "text/plain": [
       "                                                  feature   \n",
       "0       {'features': [-0.0046566227, -0.013151367, 0.1...  \\\n",
       "1       {'features': [0.005960276, 0.011647403, -0.036...   \n",
       "2       {'features': [0.00063260394, 0.046859622, -0.0...   \n",
       "3       {'features': [-0.009974818, 0.009049992, -0.06...   \n",
       "4       {'features': [0.0050848625, 0.35264587, 0.0020...   \n",
       "...                                                   ...   \n",
       "513395  {'features': [0.03242415, -0.09811758, -0.0594...   \n",
       "513396  {'features': [-0.014043818, 0.015126635, -0.01...   \n",
       "513397  {'features': [0.0063131056, 0.029032787, 0.107...   \n",
       "513398  {'features': [0.028710147, -0.03073891, 0.0959...   \n",
       "513399  {'features': [0.029988924, -0.010671536, 0.011...   \n",
       "\n",
       "                                                   genres  \n",
       "0       {'level1': [0.0, 1.0, 0.0, 0.0, 0.0, 0.0, 0.0,...  \n",
       "1       {'level1': [0.0, 0.0, 1.0, 0.0, 0.0, 0.0, 0.0,...  \n",
       "2       {'level1': [0.0, 0.0, 1.0, 0.0, 0.0, 0.0, 0.0,...  \n",
       "3       {'level1': [0.0, 0.0, 1.0, 0.0, 0.0, 0.0, 0.0,...  \n",
       "4       {'level1': [0.0, 0.0, 1.0, 0.0, 0.0, 0.0, 0.0,...  \n",
       "...                                                   ...  \n",
       "513395  {'level1': [0.0, 0.0, 1.0, 0.0, 0.0, 0.0, 0.0,...  \n",
       "513396  {'level1': [0.0, 0.0, 1.0, 0.0, 0.0, 0.0, 0.0,...  \n",
       "513397  {'level1': [0.0, 1.0, 0.0, 0.0, 0.0, 0.0, 0.0,...  \n",
       "513398  {'level1': [0.0, 0.0, 0.0, 1.0, 0.0, 0.0, 0.0,...  \n",
       "513399  {'level1': [0.0, 0.0, 0.0, 1.0, 0.0, 0.0, 0.0,...  \n",
       "\n",
       "[513400 rows x 2 columns]"
      ]
     },
     "execution_count": 30,
     "metadata": {},
     "output_type": "execute_result"
    }
   ],
   "source": [
    "ds_train"
   ]
  },
  {
   "cell_type": "markdown",
   "id": "9280340d-607d-4056-9076-e14b174927ff",
   "metadata": {},
   "source": [
    "### Exploring dataframe"
   ]
  },
  {
   "cell_type": "code",
   "execution_count": 11,
   "id": "222ce7ea-d25f-40fd-b3e5-5f10258bacc0",
   "metadata": {},
   "outputs": [
    {
     "ename": "AttributeError",
     "evalue": "'_PrefetchDataset' object has no attribute 'feature'",
     "output_type": "error",
     "traceback": [
      "\u001b[0;31m---------------------------------------------------------------------------\u001b[0m",
      "\u001b[0;31mAttributeError\u001b[0m                            Traceback (most recent call last)",
      "Cell \u001b[0;32mIn[11], line 1\u001b[0m\n\u001b[0;32m----> 1\u001b[0m \u001b[43mds_validation\u001b[49m\u001b[38;5;241;43m.\u001b[39;49m\u001b[43mfeature\u001b[49m\u001b[38;5;241m.\u001b[39miloc[\u001b[38;5;241m1\u001b[39m][\u001b[38;5;124m'\u001b[39m\u001b[38;5;124mfeatures\u001b[39m\u001b[38;5;124m'\u001b[39m]\u001b[38;5;241m.\u001b[39mshape\n",
      "\u001b[0;31mAttributeError\u001b[0m: '_PrefetchDataset' object has no attribute 'feature'"
     ]
    }
   ],
   "source": [
    "ds_validation.feature.iloc[1]['features'].shape"
   ]
  },
  {
   "cell_type": "code",
   "execution_count": null,
   "id": "fe2b8e66-4d9a-4635-922c-55cd386cc073",
   "metadata": {},
   "outputs": [],
   "source": [
    "ds_validation.genres.iloc[0]"
   ]
  },
  {
   "cell_type": "code",
   "execution_count": 12,
   "id": "dbb5cc8d-2578-4fce-89c2-c695a40ba37a",
   "metadata": {},
   "outputs": [
    {
     "ename": "AttributeError",
     "evalue": "'_PrefetchDataset' object has no attribute 'feature'",
     "output_type": "error",
     "traceback": [
      "\u001b[0;31m---------------------------------------------------------------------------\u001b[0m",
      "\u001b[0;31mAttributeError\u001b[0m                            Traceback (most recent call last)",
      "Cell \u001b[0;32mIn[12], line 1\u001b[0m\n\u001b[0;32m----> 1\u001b[0m \u001b[43mds_validation\u001b[49m\u001b[38;5;241;43m.\u001b[39;49m\u001b[43mfeature\u001b[49m\u001b[38;5;241m.\u001b[39miloc[\u001b[38;5;241m0\u001b[39m]\n",
      "\u001b[0;31mAttributeError\u001b[0m: '_PrefetchDataset' object has no attribute 'feature'"
     ]
    }
   ],
   "source": [
    "ds_validation.feature.iloc[0]"
   ]
  },
  {
   "cell_type": "code",
   "execution_count": 13,
   "id": "0c4a6569-01fb-4d0d-b5da-4cdb15eae426",
   "metadata": {},
   "outputs": [
    {
     "data": {
      "text/plain": [
       "'/mnt/disks/data/fma/trains/hierarchical_sample/tfrecords/val'"
      ]
     },
     "execution_count": 13,
     "metadata": {},
     "output_type": "execute_result"
    }
   ],
   "source": [
    "valset_pattern"
   ]
  },
  {
   "cell_type": "markdown",
   "id": "a3ffd9e9-9500-431c-b79d-4b9067688793",
   "metadata": {},
   "source": [
    "### Exploring tf.Dataset"
   ]
  },
  {
   "cell_type": "code",
   "execution_count": 26,
   "id": "ee5f022c-f32b-4c26-8bd6-eb8aff62baa2",
   "metadata": {},
   "outputs": [
    {
     "data": {
      "text/plain": [
       "<_PrefetchDataset element_spec=({'features': TensorSpec(shape=(None, 1280), dtype=tf.float32, name=None)}, {'level1': TensorSpec(shape=(None, None), dtype=tf.float32, name=None)})>"
      ]
     },
     "execution_count": 26,
     "metadata": {},
     "output_type": "execute_result"
    }
   ],
   "source": [
    "ds_train"
   ]
  },
  {
   "cell_type": "code",
   "execution_count": 27,
   "id": "43d1ede1-463b-4f4f-94b3-cabe8128095c",
   "metadata": {
    "scrolled": true,
    "tags": []
   },
   "outputs": [
    {
     "name": "stderr",
     "output_type": "stream",
     "text": [
      "2023-05-22 15:30:18.928934: I tensorflow/core/common_runtime/executor.cc:1197] [/device:CPU:0] (DEBUG INFO) Executor start aborting (this does not indicate an error and you can ignore this message): INVALID_ARGUMENT: You must feed a value for placeholder tensor 'Placeholder/_0' with dtype string and shape [2]\n",
      "\t [[{{node Placeholder/_0}}]]\n",
      "2023-05-22 15:30:18.929402: I tensorflow/core/common_runtime/executor.cc:1197] [/device:CPU:0] (DEBUG INFO) Executor start aborting (this does not indicate an error and you can ignore this message): INVALID_ARGUMENT: You must feed a value for placeholder tensor 'Placeholder/_0' with dtype string and shape [2]\n",
      "\t [[{{node Placeholder/_0}}]]\n"
     ]
    }
   ],
   "source": [
    "count = 0\n",
    "for data in ds_train:\n",
    "    count+=1"
   ]
  },
  {
   "cell_type": "code",
   "execution_count": 28,
   "id": "8516a05d-1616-4192-9903-57942a7b9cd8",
   "metadata": {},
   "outputs": [
    {
     "data": {
      "text/plain": [
       "16044"
      ]
     },
     "execution_count": 28,
     "metadata": {},
     "output_type": "execute_result"
    }
   ],
   "source": [
    "count"
   ]
  },
  {
   "cell_type": "code",
   "execution_count": null,
   "id": "c086285b-14a6-458d-958f-ea09d5446290",
   "metadata": {},
   "outputs": [],
   "source": []
  }
 ],
 "metadata": {
  "kernelspec": {
   "display_name": "Python 3 (ipykernel)",
   "language": "python",
   "name": "python3"
  },
  "language_info": {
   "codemirror_mode": {
    "name": "ipython",
    "version": 3
   },
   "file_extension": ".py",
   "mimetype": "text/x-python",
   "name": "python",
   "nbconvert_exporter": "python",
   "pygments_lexer": "ipython3",
   "version": "3.10.11"
  }
 },
 "nbformat": 4,
 "nbformat_minor": 5
}
