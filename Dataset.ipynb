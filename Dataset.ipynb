{
 "cells": [
  {
   "cell_type": "markdown",
   "id": "72297d63-738f-4af6-bb57-93cbf1e5889a",
   "metadata": {},
   "source": [
    "## Load dataset\n"
   ]
  },
  {
   "cell_type": "code",
   "execution_count": 1,
   "id": "74b48b26-4fcd-45d9-ae26-db61f6ce5ae6",
   "metadata": {
    "ExecuteTime": {
     "end_time": "2024-05-12T19:37:14.457148Z",
     "start_time": "2024-05-12T19:37:12.677464Z"
    }
   },
   "outputs": [
    {
     "name": "stderr",
     "output_type": "stream",
     "text": [
      "2024-06-23 17:55:05.901190: I tensorflow/core/platform/cpu_feature_guard.cc:210] This TensorFlow binary is optimized to use available CPU instructions in performance-critical operations.\n",
      "To enable the following instructions: AVX2 AVX512F FMA, in other operations, rebuild TensorFlow with the appropriate compiler flags.\n",
      "2024-06-23 17:55:06.650356: W tensorflow/compiler/tf2tensorrt/utils/py_utils.cc:38] TF-TRT Warning: Could not find TensorRT\n"
     ]
    }
   ],
   "source": [
    "import tensorflow as tf\n",
    "from hmc.dataset import Dataset"
   ]
  },
  {
   "cell_type": "code",
   "execution_count": 2,
   "id": "9042109d-07a8-4aae-8e70-c7ae61d0783c",
   "metadata": {
    "ExecuteTime": {
     "end_time": "2024-05-12T19:37:14.461766Z",
     "start_time": "2024-05-12T19:37:14.458499Z"
    }
   },
   "outputs": [],
   "source": [
    "from hmc.utils import __load_json__"
   ]
  },
  {
   "cell_type": "code",
   "execution_count": 3,
   "id": "19aef345-b3aa-4142-97c6-c7f680a6f5b0",
   "metadata": {
    "ExecuteTime": {
     "end_time": "2024-05-12T19:37:14.525397Z",
     "start_time": "2024-05-12T19:37:14.521212Z"
    }
   },
   "outputs": [],
   "source": [
    "import os"
   ]
  },
  {
   "cell_type": "code",
   "execution_count": 4,
   "id": "151b79d6-9482-4b2b-a23c-3dcb3fe26471",
   "metadata": {
    "ExecuteTime": {
     "end_time": "2024-05-12T19:28:21.442951Z",
     "start_time": "2024-05-12T19:28:21.436408Z"
    }
   },
   "outputs": [],
   "source": [
    "base_path = \"/mnt/disks/data/fma/trains\"\n",
    "id = \"hierarchical_tworoots_dev\"\n",
    "\n",
    "train_path = os.path.join(base_path,id)\n",
    "metadata_path = os.path.join(train_path,'metadata.json')\n",
    "labels_path = os.path.join(train_path,'labels.json')\n",
    "tfrecords_path =os.path.join(train_path,'tfrecords')"
   ]
  },
  {
   "cell_type": "code",
   "execution_count": 5,
   "id": "f68abf8d-b1bb-4b1c-84c7-fd1f3f7f5b36",
   "metadata": {
    "ExecuteTime": {
     "end_time": "2024-05-12T19:28:21.790796Z",
     "start_time": "2024-05-12T19:28:21.785311Z"
    }
   },
   "outputs": [],
   "source": [
    "metadata = __load_json__(metadata_path)"
   ]
  },
  {
   "cell_type": "code",
   "execution_count": 6,
   "id": "a4497cc5-a3c2-4eac-94db-7c20df1d5f15",
   "metadata": {},
   "outputs": [
    {
     "data": {
      "text/plain": [
       "{'sequence_size': 1280,\n",
       " 'max_depth': 4,\n",
       " 'levels_size': [2, 29, 15, 2],\n",
       " 'val_path': '/mnt/disks/data/fma/trains/hierarchical_tworoots_dev/tfrecords/val',\n",
       " 'train_path': '/mnt/disks/data/fma/trains/hierarchical_tworoots_dev/tfrecords/train',\n",
       " 'test_path': '/mnt/disks/data/fma/trains/hierarchical_tworoots_dev/tfrecords/test',\n",
       " 'val_torch_path': '/mnt/disks/data/fma/trains/hierarchical_tworoots_dev/torch/val.pth',\n",
       " 'train_torch_path': '/mnt/disks/data/fma/trains/hierarchical_tworoots_dev/torch/train.pth',\n",
       " 'test_torch_path': '/mnt/disks/data/fma/trains/hierarchical_tworoots_dev/torch/test.pth',\n",
       " 'val_csv': '/mnt/disks/data/fma/trains/hierarchical_tworoots_dev/val.csv',\n",
       " 'train_csv': '/mnt/disks/data/fma/trains/hierarchical_tworoots_dev/train.csv',\n",
       " 'test_csv': '/mnt/disks/data/fma/trains/hierarchical_tworoots_dev/test.csv',\n",
       " 'trainset_count': 1764,\n",
       " 'validationset_count': 323,\n",
       " 'testset_count': 586}"
      ]
     },
     "execution_count": 6,
     "metadata": {},
     "output_type": "execute_result"
    }
   ],
   "source": [
    "metadata"
   ]
  },
  {
   "cell_type": "code",
   "execution_count": 7,
   "id": "74ec40e8-7862-4e82-8fcb-8770c23fc2ff",
   "metadata": {},
   "outputs": [],
   "source": [
    "labels = __load_json__(labels_path)"
   ]
  },
  {
   "cell_type": "code",
   "execution_count": 8,
   "id": "f1cc6283-1225-4ac7-9082-53dbaa63d5e4",
   "metadata": {
    "ExecuteTime": {
     "end_time": "2024-05-12T19:28:22.216240Z",
     "start_time": "2024-05-12T19:28:22.205863Z"
    }
   },
   "outputs": [
    {
     "data": {
      "text/plain": [
       "4"
      ]
     },
     "execution_count": 8,
     "metadata": {},
     "output_type": "execute_result"
    }
   ],
   "source": [
    "metadata['max_depth']"
   ]
  },
  {
   "cell_type": "code",
   "execution_count": 9,
   "id": "e9a1b856-de3e-436d-99dd-3fa6b258729f",
   "metadata": {},
   "outputs": [],
   "source": [
    "import pandas as pd"
   ]
  },
  {
   "cell_type": "code",
   "execution_count": 10,
   "id": "a319f635-f296-4272-bb49-2634cce20475",
   "metadata": {},
   "outputs": [],
   "source": [
    "#df_val = pd.read_csv(metadata['val_csv'])"
   ]
  },
  {
   "cell_type": "code",
   "execution_count": 11,
   "id": "6353b4d8-bfa2-4afe-9a3f-0f5280c8e470",
   "metadata": {},
   "outputs": [],
   "source": [
    "#df_val"
   ]
  },
  {
   "cell_type": "code",
   "execution_count": 12,
   "id": "657c5d64-a4b8-4166-86ff-d398f014418c",
   "metadata": {
    "ExecuteTime": {
     "end_time": "2024-05-12T19:28:22.635584Z",
     "start_time": "2024-05-12T19:28:22.630594Z"
    }
   },
   "outputs": [],
   "source": [
    "valset_pattern = os.path.join(tfrecords_path,'val')"
   ]
  },
  {
   "cell_type": "code",
   "execution_count": 13,
   "id": "636c2c3c-58e8-4cab-ae98-711e2ef75163",
   "metadata": {},
   "outputs": [],
   "source": [
    "trainset_pattern = os.path.join(tfrecords_path,'train')"
   ]
  },
  {
   "cell_type": "code",
   "execution_count": 14,
   "id": "0a486211-522f-4aec-9b62-db6be4b941dd",
   "metadata": {},
   "outputs": [],
   "source": [
    "files = [os.path.join(valset_pattern,file) for file in os.listdir(valset_pattern)]"
   ]
  },
  {
   "cell_type": "code",
   "execution_count": 15,
   "id": "b51f3b12-fbc2-4f5a-9640-a0a1e697d9d0",
   "metadata": {},
   "outputs": [
    {
     "data": {
      "text/plain": [
       "['/mnt/disks/data/fma/trains/hierarchical_tworoots_dev/tfrecords/val/0000000000.tfrecord']"
      ]
     },
     "execution_count": 15,
     "metadata": {},
     "output_type": "execute_result"
    }
   ],
   "source": [
    "files"
   ]
  },
  {
   "cell_type": "code",
   "execution_count": 16,
   "id": "ec17263b-76c0-48ce-9beb-af18079a41ec",
   "metadata": {},
   "outputs": [
    {
     "name": "stderr",
     "output_type": "stream",
     "text": [
      "2024-06-23 17:55:10.161291: I tensorflow/core/common_runtime/gpu/gpu_device.cc:1928] Created device /job:localhost/replica:0/task:0/device:GPU:0 with 9786 MB memory:  -> device: 0, name: NVIDIA GeForce RTX 2080 Ti, pci bus id: 0000:65:00.0, compute capability: 7.5\n"
     ]
    }
   ],
   "source": [
    "ds = tf.data.TFRecordDataset(files[0])"
   ]
  },
  {
   "cell_type": "code",
   "execution_count": 17,
   "id": "1f59e208",
   "metadata": {},
   "outputs": [
    {
     "data": {
      "text/plain": [
       "<TFRecordDatasetV2 element_spec=TensorSpec(shape=(), dtype=tf.string, name=None)>"
      ]
     },
     "execution_count": 17,
     "metadata": {},
     "output_type": "execute_result"
    }
   ],
   "source": [
    "ds"
   ]
  },
  {
   "cell_type": "code",
   "execution_count": 18,
   "id": "b566f90b-9f4a-448a-8939-4e653381031f",
   "metadata": {},
   "outputs": [
    {
     "name": "stdout",
     "output_type": "stream",
     "text": [
      "Tamanho da arvore no dataset 4\n",
      "Local label: SparseTensor(indices=Tensor(\"ParseSingleExample/ParseExample/ParseExampleV2:0\", shape=(None, 1), dtype=int64), values=Tensor(\"ParseSingleExample/ParseExample/ParseExampleV2:4\", shape=(None,), dtype=int64), dense_shape=Tensor(\"ParseSingleExample/ParseExample/ParseExampleV2:8\", shape=(1,), dtype=int64))\n",
      "Tensor(\"TensorScatterUpdate:0\", shape=(2,), dtype=float32)\n",
      "Local label: SparseTensor(indices=Tensor(\"ParseSingleExample/ParseExample/ParseExampleV2:1\", shape=(None, 1), dtype=int64), values=Tensor(\"ParseSingleExample/ParseExample/ParseExampleV2:5\", shape=(None,), dtype=int64), dense_shape=Tensor(\"ParseSingleExample/ParseExample/ParseExampleV2:9\", shape=(1,), dtype=int64))\n",
      "Tensor(\"TensorScatterUpdate_1:0\", shape=(29,), dtype=float32)\n",
      "Local label: SparseTensor(indices=Tensor(\"ParseSingleExample/ParseExample/ParseExampleV2:2\", shape=(None, 1), dtype=int64), values=Tensor(\"ParseSingleExample/ParseExample/ParseExampleV2:6\", shape=(None,), dtype=int64), dense_shape=Tensor(\"ParseSingleExample/ParseExample/ParseExampleV2:10\", shape=(1,), dtype=int64))\n",
      "Tensor(\"TensorScatterUpdate_2:0\", shape=(15,), dtype=float32)\n",
      "Local label: SparseTensor(indices=Tensor(\"ParseSingleExample/ParseExample/ParseExampleV2:3\", shape=(None, 1), dtype=int64), values=Tensor(\"ParseSingleExample/ParseExample/ParseExampleV2:7\", shape=(None,), dtype=int64), dense_shape=Tensor(\"ParseSingleExample/ParseExample/ParseExampleV2:11\", shape=(1,), dtype=int64))\n",
      "Tensor(\"TensorScatterUpdate_3:0\", shape=(2,), dtype=float32)\n"
     ]
    }
   ],
   "source": [
    "ds_validation = Dataset(valset_pattern, 10, 32, labels['levels_size']).build(df=False)\n"
   ]
  },
  {
   "cell_type": "markdown",
   "id": "306ce1b0",
   "metadata": {},
   "source": []
  },
  {
   "cell_type": "markdown",
   "id": "809572b5",
   "metadata": {},
   "source": []
  },
  {
   "cell_type": "code",
   "execution_count": 23,
   "id": "f96bcc7e-3929-42cd-b67b-e662766590e4",
   "metadata": {},
   "outputs": [
    {
     "data": {
      "text/plain": [
       "{'level1': array([1]),\n",
       " 'level2': array([15, 10]),\n",
       " 'level3': array([-1]),\n",
       " 'level4': array([-1])}"
      ]
     },
     "execution_count": 23,
     "metadata": {},
     "output_type": "execute_result"
    }
   ],
   "source": [
    "ds_validation.labels.iloc[1]"
   ]
  },
  {
   "cell_type": "code",
   "execution_count": 29,
   "id": "9af42c6d-9681-42a6-99a7-2a0041585991",
   "metadata": {},
   "outputs": [],
   "source": [
    "#ds_train"
   ]
  },
  {
   "cell_type": "code",
   "execution_count": 30,
   "id": "316f96ba-927c-4942-86ed-3b6893938672",
   "metadata": {},
   "outputs": [],
   "source": [
    "#ds_train = Dataset(trainset_pattern, 10, 32, depth=metadata['max_depth']).build(df=True)"
   ]
  },
  {
   "cell_type": "code",
   "execution_count": 20,
   "id": "88a370ef-dc66-48c7-9886-e6709a75a738",
   "metadata": {
    "scrolled": true
   },
   "outputs": [
    {
     "name": "stderr",
     "output_type": "stream",
     "text": [
      "2024-06-23 17:55:42.819042: W tensorflow/core/framework/op_kernel.cc:1839] OP_REQUIRES failed at scatter_nd_op.cc:218 : INVALID_ARGUMENT: indices[0] = [2] does not index into shape [2]\n",
      "2024-06-23 17:55:42.819789: W tensorflow/core/framework/local_rendezvous.cc:404] Local rendezvous is aborting with status: INVALID_ARGUMENT: indices[0] = [2] does not index into shape [2]\n",
      "\t [[{{node TensorScatterUpdate_3}}]]\n",
      "2024-06-23 17:55:42.820651: W tensorflow/core/framework/op_kernel.cc:1839] OP_REQUIRES failed at scatter_nd_op.cc:218 : INVALID_ARGUMENT: indices[0] = [15] does not index into shape [15]\n",
      "2024-06-23 17:55:42.822229: W tensorflow/core/framework/op_kernel.cc:1839] OP_REQUIRES failed at scatter_nd_op.cc:218 : INVALID_ARGUMENT: indices[0] = [15] does not index into shape [15]\n",
      "2024-06-23 17:55:42.823486: W tensorflow/core/framework/op_kernel.cc:1839] OP_REQUIRES failed at scatter_nd_op.cc:218 : INVALID_ARGUMENT: indices[0] = [15] does not index into shape [15]\n",
      "2024-06-23 17:55:42.824379: W tensorflow/core/framework/op_kernel.cc:1839] OP_REQUIRES failed at scatter_nd_op.cc:218 : INVALID_ARGUMENT: indices[0] = [15] does not index into shape [15]\n",
      "2024-06-23 17:55:42.826341: W tensorflow/core/framework/op_kernel.cc:1839] OP_REQUIRES failed at scatter_nd_op.cc:218 : INVALID_ARGUMENT: indices[0] = [29] does not index into shape [29]\n"
     ]
    },
    {
     "ename": "InvalidArgumentError",
     "evalue": "{{function_node __wrapped__IteratorGetNext_output_types_5_device_/job:localhost/replica:0/task:0/device:CPU:0}} indices[0] = [2] does not index into shape [2]\n\t [[{{node TensorScatterUpdate_3}}]] [Op:IteratorGetNext] name: ",
     "output_type": "error",
     "traceback": [
      "\u001b[0;31m---------------------------------------------------------------------------\u001b[0m",
      "\u001b[0;31mInvalidArgumentError\u001b[0m                      Traceback (most recent call last)",
      "Cell \u001b[0;32mIn[20], line 1\u001b[0m\n\u001b[0;32m----> 1\u001b[0m dados \u001b[38;5;241m=\u001b[39m \u001b[38;5;28;43mlist\u001b[39;49m\u001b[43m(\u001b[49m\u001b[43mds_validation\u001b[49m\u001b[38;5;241;43m.\u001b[39;49m\u001b[43mas_numpy_iterator\u001b[49m\u001b[43m(\u001b[49m\u001b[43m)\u001b[49m\u001b[43m)\u001b[49m\n",
      "File \u001b[0;32m~/.cache/pypoetry/virtualenvs/hierarchical_multi-label_classification-GvVd3mwS-py3.11/lib/python3.11/site-packages/tensorflow/python/data/ops/dataset_ops.py:4726\u001b[0m, in \u001b[0;36mNumpyIterator.__next__\u001b[0;34m(self)\u001b[0m\n\u001b[1;32m   4723\u001b[0m     numpy\u001b[38;5;241m.\u001b[39msetflags(write\u001b[38;5;241m=\u001b[39m\u001b[38;5;28;01mFalse\u001b[39;00m)\n\u001b[1;32m   4724\u001b[0m   \u001b[38;5;28;01mreturn\u001b[39;00m numpy\n\u001b[0;32m-> 4726\u001b[0m \u001b[38;5;28;01mreturn\u001b[39;00m nest\u001b[38;5;241m.\u001b[39mmap_structure(to_numpy, \u001b[38;5;28;43mnext\u001b[39;49m\u001b[43m(\u001b[49m\u001b[38;5;28;43mself\u001b[39;49m\u001b[38;5;241;43m.\u001b[39;49m\u001b[43m_iterator\u001b[49m\u001b[43m)\u001b[49m)\n",
      "File \u001b[0;32m~/.cache/pypoetry/virtualenvs/hierarchical_multi-label_classification-GvVd3mwS-py3.11/lib/python3.11/site-packages/tensorflow/python/data/ops/iterator_ops.py:809\u001b[0m, in \u001b[0;36mOwnedIterator.__next__\u001b[0;34m(self)\u001b[0m\n\u001b[1;32m    807\u001b[0m \u001b[38;5;28;01mdef\u001b[39;00m \u001b[38;5;21m__next__\u001b[39m(\u001b[38;5;28mself\u001b[39m):\n\u001b[1;32m    808\u001b[0m   \u001b[38;5;28;01mtry\u001b[39;00m:\n\u001b[0;32m--> 809\u001b[0m     \u001b[38;5;28;01mreturn\u001b[39;00m \u001b[38;5;28;43mself\u001b[39;49m\u001b[38;5;241;43m.\u001b[39;49m\u001b[43m_next_internal\u001b[49m\u001b[43m(\u001b[49m\u001b[43m)\u001b[49m\n\u001b[1;32m    810\u001b[0m   \u001b[38;5;28;01mexcept\u001b[39;00m errors\u001b[38;5;241m.\u001b[39mOutOfRangeError:\n\u001b[1;32m    811\u001b[0m     \u001b[38;5;28;01mraise\u001b[39;00m \u001b[38;5;167;01mStopIteration\u001b[39;00m\n",
      "File \u001b[0;32m~/.cache/pypoetry/virtualenvs/hierarchical_multi-label_classification-GvVd3mwS-py3.11/lib/python3.11/site-packages/tensorflow/python/data/ops/iterator_ops.py:772\u001b[0m, in \u001b[0;36mOwnedIterator._next_internal\u001b[0;34m(self)\u001b[0m\n\u001b[1;32m    769\u001b[0m \u001b[38;5;66;03m# TODO(b/77291417): This runs in sync mode as iterators use an error status\u001b[39;00m\n\u001b[1;32m    770\u001b[0m \u001b[38;5;66;03m# to communicate that there is no more data to iterate over.\u001b[39;00m\n\u001b[1;32m    771\u001b[0m \u001b[38;5;28;01mwith\u001b[39;00m context\u001b[38;5;241m.\u001b[39mexecution_mode(context\u001b[38;5;241m.\u001b[39mSYNC):\n\u001b[0;32m--> 772\u001b[0m   ret \u001b[38;5;241m=\u001b[39m \u001b[43mgen_dataset_ops\u001b[49m\u001b[38;5;241;43m.\u001b[39;49m\u001b[43miterator_get_next\u001b[49m\u001b[43m(\u001b[49m\n\u001b[1;32m    773\u001b[0m \u001b[43m      \u001b[49m\u001b[38;5;28;43mself\u001b[39;49m\u001b[38;5;241;43m.\u001b[39;49m\u001b[43m_iterator_resource\u001b[49m\u001b[43m,\u001b[49m\n\u001b[1;32m    774\u001b[0m \u001b[43m      \u001b[49m\u001b[43moutput_types\u001b[49m\u001b[38;5;241;43m=\u001b[39;49m\u001b[38;5;28;43mself\u001b[39;49m\u001b[38;5;241;43m.\u001b[39;49m\u001b[43m_flat_output_types\u001b[49m\u001b[43m,\u001b[49m\n\u001b[1;32m    775\u001b[0m \u001b[43m      \u001b[49m\u001b[43moutput_shapes\u001b[49m\u001b[38;5;241;43m=\u001b[39;49m\u001b[38;5;28;43mself\u001b[39;49m\u001b[38;5;241;43m.\u001b[39;49m\u001b[43m_flat_output_shapes\u001b[49m\u001b[43m)\u001b[49m\n\u001b[1;32m    777\u001b[0m   \u001b[38;5;28;01mtry\u001b[39;00m:\n\u001b[1;32m    778\u001b[0m     \u001b[38;5;66;03m# Fast path for the case `self._structure` is not a nested structure.\u001b[39;00m\n\u001b[1;32m    779\u001b[0m     \u001b[38;5;28;01mreturn\u001b[39;00m \u001b[38;5;28mself\u001b[39m\u001b[38;5;241m.\u001b[39m_element_spec\u001b[38;5;241m.\u001b[39m_from_compatible_tensor_list(ret)  \u001b[38;5;66;03m# pylint: disable=protected-access\u001b[39;00m\n",
      "File \u001b[0;32m~/.cache/pypoetry/virtualenvs/hierarchical_multi-label_classification-GvVd3mwS-py3.11/lib/python3.11/site-packages/tensorflow/python/ops/gen_dataset_ops.py:3086\u001b[0m, in \u001b[0;36miterator_get_next\u001b[0;34m(iterator, output_types, output_shapes, name)\u001b[0m\n\u001b[1;32m   3084\u001b[0m   \u001b[38;5;28;01mreturn\u001b[39;00m _result\n\u001b[1;32m   3085\u001b[0m \u001b[38;5;28;01mexcept\u001b[39;00m _core\u001b[38;5;241m.\u001b[39m_NotOkStatusException \u001b[38;5;28;01mas\u001b[39;00m e:\n\u001b[0;32m-> 3086\u001b[0m   \u001b[43m_ops\u001b[49m\u001b[38;5;241;43m.\u001b[39;49m\u001b[43mraise_from_not_ok_status\u001b[49m\u001b[43m(\u001b[49m\u001b[43me\u001b[49m\u001b[43m,\u001b[49m\u001b[43m \u001b[49m\u001b[43mname\u001b[49m\u001b[43m)\u001b[49m\n\u001b[1;32m   3087\u001b[0m \u001b[38;5;28;01mexcept\u001b[39;00m _core\u001b[38;5;241m.\u001b[39m_FallbackException:\n\u001b[1;32m   3088\u001b[0m   \u001b[38;5;28;01mpass\u001b[39;00m\n",
      "File \u001b[0;32m~/.cache/pypoetry/virtualenvs/hierarchical_multi-label_classification-GvVd3mwS-py3.11/lib/python3.11/site-packages/tensorflow/python/framework/ops.py:5983\u001b[0m, in \u001b[0;36mraise_from_not_ok_status\u001b[0;34m(e, name)\u001b[0m\n\u001b[1;32m   5981\u001b[0m \u001b[38;5;28;01mdef\u001b[39;00m \u001b[38;5;21mraise_from_not_ok_status\u001b[39m(e, name) \u001b[38;5;241m-\u001b[39m\u001b[38;5;241m>\u001b[39m NoReturn:\n\u001b[1;32m   5982\u001b[0m   e\u001b[38;5;241m.\u001b[39mmessage \u001b[38;5;241m+\u001b[39m\u001b[38;5;241m=\u001b[39m (\u001b[38;5;124m\"\u001b[39m\u001b[38;5;124m name: \u001b[39m\u001b[38;5;124m\"\u001b[39m \u001b[38;5;241m+\u001b[39m \u001b[38;5;28mstr\u001b[39m(name \u001b[38;5;28;01mif\u001b[39;00m name \u001b[38;5;129;01mis\u001b[39;00m \u001b[38;5;129;01mnot\u001b[39;00m \u001b[38;5;28;01mNone\u001b[39;00m \u001b[38;5;28;01melse\u001b[39;00m \u001b[38;5;124m\"\u001b[39m\u001b[38;5;124m\"\u001b[39m))\n\u001b[0;32m-> 5983\u001b[0m   \u001b[38;5;28;01mraise\u001b[39;00m core\u001b[38;5;241m.\u001b[39m_status_to_exception(e) \u001b[38;5;28;01mfrom\u001b[39;00m \u001b[38;5;28;01mNone\u001b[39;00m\n",
      "\u001b[0;31mInvalidArgumentError\u001b[0m: {{function_node __wrapped__IteratorGetNext_output_types_5_device_/job:localhost/replica:0/task:0/device:CPU:0}} indices[0] = [2] does not index into shape [2]\n\t [[{{node TensorScatterUpdate_3}}]] [Op:IteratorGetNext] name: "
     ]
    }
   ],
   "source": [
    "dados = list(ds_validation.as_numpy_iterator())"
   ]
  },
  {
   "cell_type": "code",
   "execution_count": 19,
   "id": "4f6bcb1e-1afc-4c00-9bea-37a6ea96852e",
   "metadata": {
    "scrolled": true
   },
   "outputs": [
    {
     "ename": "NameError",
     "evalue": "name 'dados' is not defined",
     "output_type": "error",
     "traceback": [
      "\u001b[0;31m---------------------------------------------------------------------------\u001b[0m",
      "\u001b[0;31mNameError\u001b[0m                                 Traceback (most recent call last)",
      "Cell \u001b[0;32mIn[19], line 1\u001b[0m\n\u001b[0;32m----> 1\u001b[0m \u001b[43mdados\u001b[49m[\u001b[38;5;241m0\u001b[39m][\u001b[38;5;241m1\u001b[39m][\u001b[38;5;124m'\u001b[39m\u001b[38;5;124mlevel1\u001b[39m\u001b[38;5;124m'\u001b[39m]\n",
      "\u001b[0;31mNameError\u001b[0m: name 'dados' is not defined"
     ]
    }
   ],
   "source": [
    "dados[0][1]['level1']"
   ]
  },
  {
   "cell_type": "markdown",
   "id": "9280340d-607d-4056-9076-e14b174927ff",
   "metadata": {},
   "source": [
    "### Exploring dataframe"
   ]
  },
  {
   "cell_type": "code",
   "execution_count": 24,
   "id": "222ce7ea-d25f-40fd-b3e5-5f10258bacc0",
   "metadata": {},
   "outputs": [
    {
     "ename": "AttributeError",
     "evalue": "'_PrefetchDataset' object has no attribute 'feature'",
     "output_type": "error",
     "traceback": [
      "\u001b[0;31m---------------------------------------------------------------------------\u001b[0m",
      "\u001b[0;31mAttributeError\u001b[0m                            Traceback (most recent call last)",
      "Cell \u001b[0;32mIn[24], line 1\u001b[0m\n\u001b[0;32m----> 1\u001b[0m \u001b[43mds_validation\u001b[49m\u001b[38;5;241;43m.\u001b[39;49m\u001b[43mfeature\u001b[49m\u001b[38;5;241m.\u001b[39miloc[\u001b[38;5;241m1\u001b[39m][\u001b[38;5;124m'\u001b[39m\u001b[38;5;124mfeatures\u001b[39m\u001b[38;5;124m'\u001b[39m]\u001b[38;5;241m.\u001b[39mshape\n",
      "\u001b[0;31mAttributeError\u001b[0m: '_PrefetchDataset' object has no attribute 'feature'"
     ]
    }
   ],
   "source": [
    "ds_validation.feature.iloc[1]['features'].shape"
   ]
  },
  {
   "cell_type": "code",
   "execution_count": null,
   "id": "fe2b8e66-4d9a-4635-922c-55cd386cc073",
   "metadata": {},
   "outputs": [],
   "source": [
    "ds_validation.genres.iloc[0]"
   ]
  },
  {
   "cell_type": "code",
   "execution_count": null,
   "id": "dbb5cc8d-2578-4fce-89c2-c695a40ba37a",
   "metadata": {},
   "outputs": [],
   "source": [
    "ds_validation.feature.iloc[0]"
   ]
  },
  {
   "cell_type": "code",
   "execution_count": null,
   "id": "0c4a6569-01fb-4d0d-b5da-4cdb15eae426",
   "metadata": {},
   "outputs": [],
   "source": [
    "valset_pattern"
   ]
  },
  {
   "cell_type": "markdown",
   "id": "a3ffd9e9-9500-431c-b79d-4b9067688793",
   "metadata": {},
   "source": [
    "### Exploring tf.Dataset"
   ]
  },
  {
   "cell_type": "code",
   "execution_count": null,
   "id": "ee5f022c-f32b-4c26-8bd6-eb8aff62baa2",
   "metadata": {},
   "outputs": [],
   "source": [
    "ds_train"
   ]
  },
  {
   "cell_type": "code",
   "execution_count": null,
   "id": "43d1ede1-463b-4f4f-94b3-cabe8128095c",
   "metadata": {
    "scrolled": true,
    "tags": []
   },
   "outputs": [],
   "source": [
    "count = 0\n",
    "for data in ds_train:\n",
    "    count+=1"
   ]
  },
  {
   "cell_type": "code",
   "execution_count": null,
   "id": "8516a05d-1616-4192-9903-57942a7b9cd8",
   "metadata": {},
   "outputs": [],
   "source": [
    "count"
   ]
  },
  {
   "cell_type": "code",
   "execution_count": null,
   "id": "c086285b-14a6-458d-958f-ea09d5446290",
   "metadata": {},
   "outputs": [],
   "source": []
  }
 ],
 "metadata": {
  "kernelspec": {
   "display_name": "Python 3 (ipykernel)",
   "language": "python",
   "name": "python3"
  },
  "language_info": {
   "codemirror_mode": {
    "name": "ipython",
    "version": 3
   },
   "file_extension": ".py",
   "mimetype": "text/x-python",
   "name": "python",
   "nbconvert_exporter": "python",
   "pygments_lexer": "ipython3",
   "version": "3.11.9"
  }
 },
 "nbformat": 4,
 "nbformat_minor": 5
}
