{
 "cells": [
  {
   "cell_type": "code",
   "execution_count": 210,
   "id": "4843caad-aa4a-420d-81f8-dcc1189318c6",
   "metadata": {
    "tags": []
   },
   "outputs": [],
   "source": [
    "import pandas as pd\n",
    "import numpy as np\n",
    "import json\n",
    "import ast\n",
    "import os"
   ]
  },
  {
   "cell_type": "markdown",
   "id": "095eb605-be39-4945-9020-580c274b6226",
   "metadata": {},
   "source": [
    "#### To do: Rodar o fluxo do zero novamente para gerar as labels e, na sequencia, remover musicas inválidas em outro script fazendo join com as musicas processadas "
   ]
  },
  {
   "cell_type": "code",
   "execution_count": 211,
   "id": "24ecd036-1b51-4c28-983e-6790fb733546",
   "metadata": {},
   "outputs": [],
   "source": [
    "from tqdm.notebook import tqdm"
   ]
  },
  {
   "cell_type": "code",
   "execution_count": 212,
   "id": "47f36844-bc15-46f4-8994-6744042b62cd",
   "metadata": {},
   "outputs": [],
   "source": [
    "tqdm.pandas()"
   ]
  },
  {
   "cell_type": "code",
   "execution_count": 213,
   "id": "194b058a-a5c5-4d87-817d-aeb9e833cc2b",
   "metadata": {},
   "outputs": [],
   "source": [
    "\n",
    "args = pd.Series({\n",
    "    \"root_dir\":\"/mnt/disks/data/\",\n",
    "    \"dataset_path\":\"/mnt/disks/data/fma/fma_large\",\n",
    "    \"embeddings\":\"music_style\",\n",
    "    \"train_id\": \"hierarchical_sample_test\",\n",
    "    'sample_size':0.1\n",
    "})\n"
   ]
  },
  {
   "cell_type": "code",
   "execution_count": 214,
   "id": "87f3fe25-bd80-4976-ba77-ab30589a9cd6",
   "metadata": {},
   "outputs": [],
   "source": [
    "\n",
    "job_path = \"/mnt/disks/data/fma/trains\"\n",
    "\n",
    "\n",
    "# In[15]:\n",
    "\n",
    "train_path = os.path.join(job_path,args.train_id)\n",
    "\n",
    "# In[16]:\n",
    "\n",
    "base_path = os.path.join(args.root_dir,\"fma\")\n",
    "\n",
    "# In[17]:\n",
    "\n",
    "models_path = os.path.join(args.root_dir,\"models\")\n",
    "\n",
    "\n",
    "metadata_path_fma = os.path.join(base_path,\"fma_metadata\")\n",
    "\n",
    "# In[18]:\n",
    "\n",
    "metadata_file = os.path.join(train_path,\"metadata.json\")\n",
    "\n",
    "\n",
    "categories_labels_path = os.path.join(train_path,\"labels.json\")\n"
   ]
  },
  {
   "cell_type": "code",
   "execution_count": 215,
   "id": "ffea2009-fdc3-425e-bd6b-a67696ab24da",
   "metadata": {},
   "outputs": [],
   "source": [
    "\n",
    "\n",
    "def __load_json__(path):\n",
    "    with open(path, 'r') as f:\n",
    "        tmp = json.loads(f.read())\n",
    "\n",
    "    return tmp\n",
    "\n",
    "\n"
   ]
  },
  {
   "cell_type": "code",
   "execution_count": 216,
   "id": "b413d7a2",
   "metadata": {},
   "outputs": [],
   "source": [
    "\n",
    "def create_dir(path):\n",
    "    # checking if the directory demo_folder2 \n",
    "    # exist or not.\n",
    "    if not os.path.isdir(path):\n",
    "\n",
    "        # if the demo_folder2 directory is \n",
    "        # not present then create it.\n",
    "        os.makedirs(path)\n",
    "    return True\n",
    "\n"
   ]
  },
  {
   "cell_type": "code",
   "execution_count": 217,
   "id": "be2f0fcc",
   "metadata": {},
   "outputs": [
    {
     "data": {
      "text/plain": [
       "True"
      ]
     },
     "execution_count": 217,
     "metadata": {},
     "output_type": "execute_result"
    }
   ],
   "source": [
    "create_dir(train_path)"
   ]
  },
  {
   "cell_type": "markdown",
   "id": "6ab3d0b4-fc7f-4c73-b0cc-9d89729bae84",
   "metadata": {
    "tags": []
   },
   "source": [
    "## Load genres file. Contains relationships beetwen genres"
   ]
  },
  {
   "cell_type": "code",
   "execution_count": 218,
   "id": "7596e665-526e-400b-93ad-432cb7eb0d79",
   "metadata": {},
   "outputs": [],
   "source": [
    "genres_df = pd.read_csv(os.path.join(metadata_path_fma,'genres.csv'))\n"
   ]
  },
  {
   "cell_type": "code",
   "execution_count": 219,
   "id": "582b4335-bf69-4c9a-873e-ffd8253ede25",
   "metadata": {},
   "outputs": [
    {
     "data": {
      "text/html": [
       "<div>\n",
       "<style scoped>\n",
       "    .dataframe tbody tr th:only-of-type {\n",
       "        vertical-align: middle;\n",
       "    }\n",
       "\n",
       "    .dataframe tbody tr th {\n",
       "        vertical-align: top;\n",
       "    }\n",
       "\n",
       "    .dataframe thead th {\n",
       "        text-align: right;\n",
       "    }\n",
       "</style>\n",
       "<table border=\"1\" class=\"dataframe\">\n",
       "  <thead>\n",
       "    <tr style=\"text-align: right;\">\n",
       "      <th></th>\n",
       "      <th>genre_id</th>\n",
       "      <th>#tracks</th>\n",
       "      <th>parent</th>\n",
       "      <th>title</th>\n",
       "      <th>top_level</th>\n",
       "    </tr>\n",
       "  </thead>\n",
       "  <tbody>\n",
       "    <tr>\n",
       "      <th>0</th>\n",
       "      <td>1</td>\n",
       "      <td>8693</td>\n",
       "      <td>38</td>\n",
       "      <td>Avant-Garde</td>\n",
       "      <td>38</td>\n",
       "    </tr>\n",
       "    <tr>\n",
       "      <th>1</th>\n",
       "      <td>2</td>\n",
       "      <td>5271</td>\n",
       "      <td>0</td>\n",
       "      <td>International</td>\n",
       "      <td>2</td>\n",
       "    </tr>\n",
       "    <tr>\n",
       "      <th>2</th>\n",
       "      <td>3</td>\n",
       "      <td>1752</td>\n",
       "      <td>0</td>\n",
       "      <td>Blues</td>\n",
       "      <td>3</td>\n",
       "    </tr>\n",
       "    <tr>\n",
       "      <th>3</th>\n",
       "      <td>4</td>\n",
       "      <td>4126</td>\n",
       "      <td>0</td>\n",
       "      <td>Jazz</td>\n",
       "      <td>4</td>\n",
       "    </tr>\n",
       "    <tr>\n",
       "      <th>4</th>\n",
       "      <td>5</td>\n",
       "      <td>4106</td>\n",
       "      <td>0</td>\n",
       "      <td>Classical</td>\n",
       "      <td>5</td>\n",
       "    </tr>\n",
       "    <tr>\n",
       "      <th>...</th>\n",
       "      <td>...</td>\n",
       "      <td>...</td>\n",
       "      <td>...</td>\n",
       "      <td>...</td>\n",
       "      <td>...</td>\n",
       "    </tr>\n",
       "    <tr>\n",
       "      <th>158</th>\n",
       "      <td>1032</td>\n",
       "      <td>60</td>\n",
       "      <td>102</td>\n",
       "      <td>Turkish</td>\n",
       "      <td>2</td>\n",
       "    </tr>\n",
       "    <tr>\n",
       "      <th>159</th>\n",
       "      <td>1060</td>\n",
       "      <td>30</td>\n",
       "      <td>46</td>\n",
       "      <td>Tango</td>\n",
       "      <td>2</td>\n",
       "    </tr>\n",
       "    <tr>\n",
       "      <th>160</th>\n",
       "      <td>1156</td>\n",
       "      <td>26</td>\n",
       "      <td>130</td>\n",
       "      <td>Fado</td>\n",
       "      <td>2</td>\n",
       "    </tr>\n",
       "    <tr>\n",
       "      <th>161</th>\n",
       "      <td>1193</td>\n",
       "      <td>72</td>\n",
       "      <td>763</td>\n",
       "      <td>Christmas</td>\n",
       "      <td>38</td>\n",
       "    </tr>\n",
       "    <tr>\n",
       "      <th>162</th>\n",
       "      <td>1235</td>\n",
       "      <td>14938</td>\n",
       "      <td>0</td>\n",
       "      <td>Instrumental</td>\n",
       "      <td>1235</td>\n",
       "    </tr>\n",
       "  </tbody>\n",
       "</table>\n",
       "<p>163 rows × 5 columns</p>\n",
       "</div>"
      ],
      "text/plain": [
       "     genre_id  #tracks  parent          title  top_level\n",
       "0           1     8693      38    Avant-Garde         38\n",
       "1           2     5271       0  International          2\n",
       "2           3     1752       0          Blues          3\n",
       "3           4     4126       0           Jazz          4\n",
       "4           5     4106       0      Classical          5\n",
       "..        ...      ...     ...            ...        ...\n",
       "158      1032       60     102        Turkish          2\n",
       "159      1060       30      46          Tango          2\n",
       "160      1156       26     130           Fado          2\n",
       "161      1193       72     763      Christmas         38\n",
       "162      1235    14938       0   Instrumental       1235\n",
       "\n",
       "[163 rows x 5 columns]"
      ]
     },
     "execution_count": 219,
     "metadata": {},
     "output_type": "execute_result"
    }
   ],
   "source": [
    "genres_df"
   ]
  },
  {
   "cell_type": "code",
   "execution_count": 220,
   "id": "d80be793-93db-4610-ae66-5f14bf99bd2b",
   "metadata": {},
   "outputs": [
    {
     "data": {
      "text/html": [
       "<div>\n",
       "<style scoped>\n",
       "    .dataframe tbody tr th:only-of-type {\n",
       "        vertical-align: middle;\n",
       "    }\n",
       "\n",
       "    .dataframe tbody tr th {\n",
       "        vertical-align: top;\n",
       "    }\n",
       "\n",
       "    .dataframe thead th {\n",
       "        text-align: right;\n",
       "    }\n",
       "</style>\n",
       "<table border=\"1\" class=\"dataframe\">\n",
       "  <thead>\n",
       "    <tr style=\"text-align: right;\">\n",
       "      <th></th>\n",
       "      <th>genre_id</th>\n",
       "      <th>#tracks</th>\n",
       "      <th>parent</th>\n",
       "      <th>title</th>\n",
       "      <th>top_level</th>\n",
       "    </tr>\n",
       "  </thead>\n",
       "  <tbody>\n",
       "    <tr>\n",
       "      <th>136</th>\n",
       "      <td>495</td>\n",
       "      <td>2061</td>\n",
       "      <td>15</td>\n",
       "      <td>Downtempo</td>\n",
       "      <td>15</td>\n",
       "    </tr>\n",
       "  </tbody>\n",
       "</table>\n",
       "</div>"
      ],
      "text/plain": [
       "     genre_id  #tracks  parent      title  top_level\n",
       "136       495     2061      15  Downtempo         15"
      ]
     },
     "execution_count": 220,
     "metadata": {},
     "output_type": "execute_result"
    }
   ],
   "source": [
    "genres_df[genres_df['genre_id'] == 495]"
   ]
  },
  {
   "cell_type": "code",
   "execution_count": 221,
   "id": "28762aaf-32a4-41a5-af9c-cee3eca712ad",
   "metadata": {},
   "outputs": [],
   "source": [
    "# Cria um dicionário que associa o ID de cada música aos IDs de seus gêneros musicais\n",
    "tracks_df = pd.read_csv(os.path.join(metadata_path_fma,'tracks_valid.csv'))"
   ]
  },
  {
   "cell_type": "code",
   "execution_count": 222,
   "id": "13ea402f-660b-4b95-8f91-563c01971578",
   "metadata": {},
   "outputs": [],
   "source": [
    "tracks_df = tracks_df.sample(frac=args.sample_size)"
   ]
  },
  {
   "cell_type": "code",
   "execution_count": 223,
   "id": "552289c1-6b0d-48a9-8cd9-a185c12f6c9a",
   "metadata": {},
   "outputs": [
    {
     "data": {
      "text/html": [
       "<div>\n",
       "<style scoped>\n",
       "    .dataframe tbody tr th:only-of-type {\n",
       "        vertical-align: middle;\n",
       "    }\n",
       "\n",
       "    .dataframe tbody tr th {\n",
       "        vertical-align: top;\n",
       "    }\n",
       "\n",
       "    .dataframe thead th {\n",
       "        text-align: right;\n",
       "    }\n",
       "</style>\n",
       "<table border=\"1\" class=\"dataframe\">\n",
       "  <thead>\n",
       "    <tr style=\"text-align: right;\">\n",
       "      <th></th>\n",
       "      <th>track_id</th>\n",
       "      <th>track_title</th>\n",
       "      <th>valid_genre</th>\n",
       "    </tr>\n",
       "  </thead>\n",
       "  <tbody>\n",
       "    <tr>\n",
       "      <th>57091</th>\n",
       "      <td>86002</td>\n",
       "      <td>According to Signal</td>\n",
       "      <td>['27', '38']</td>\n",
       "    </tr>\n",
       "    <tr>\n",
       "      <th>13726</th>\n",
       "      <td>22495</td>\n",
       "      <td>Reflections (Deflecting Defections mix)</td>\n",
       "      <td>['100']</td>\n",
       "    </tr>\n",
       "    <tr>\n",
       "      <th>61255</th>\n",
       "      <td>94016</td>\n",
       "      <td>3. deef - peaceful melting on shrooms</td>\n",
       "      <td>['1', '76', '107', '236']</td>\n",
       "    </tr>\n",
       "    <tr>\n",
       "      <th>65133</th>\n",
       "      <td>99651</td>\n",
       "      <td>Dream Hole</td>\n",
       "      <td>['15', '42', '236']</td>\n",
       "    </tr>\n",
       "    <tr>\n",
       "      <th>103285</th>\n",
       "      <td>154242</td>\n",
       "      <td>Land of the Deads</td>\n",
       "      <td>['38', '107', '1235']</td>\n",
       "    </tr>\n",
       "    <tr>\n",
       "      <th>70912</th>\n",
       "      <td>110339</td>\n",
       "      <td>il va revenir</td>\n",
       "      <td>['76', '130']</td>\n",
       "    </tr>\n",
       "    <tr>\n",
       "      <th>24229</th>\n",
       "      <td>38403</td>\n",
       "      <td>O Padre que mafiava a esmola a</td>\n",
       "      <td>['17', '76']</td>\n",
       "    </tr>\n",
       "    <tr>\n",
       "      <th>78593</th>\n",
       "      <td>120131</td>\n",
       "      <td>Modern Day Gavel</td>\n",
       "      <td>['1', '15', '107']</td>\n",
       "    </tr>\n",
       "    <tr>\n",
       "      <th>40470</th>\n",
       "      <td>61586</td>\n",
       "      <td>Intro to the 2012 Apocalypse</td>\n",
       "      <td>['3', '38', '103']</td>\n",
       "    </tr>\n",
       "    <tr>\n",
       "      <th>4905</th>\n",
       "      <td>9513</td>\n",
       "      <td>Cold Water</td>\n",
       "      <td>['36', '89', '98']</td>\n",
       "    </tr>\n",
       "    <tr>\n",
       "      <th>11676</th>\n",
       "      <td>19496</td>\n",
       "      <td>Spogfire</td>\n",
       "      <td>['89']</td>\n",
       "    </tr>\n",
       "    <tr>\n",
       "      <th>83041</th>\n",
       "      <td>126168</td>\n",
       "      <td>About Face</td>\n",
       "      <td>['36', '250', '1235']</td>\n",
       "    </tr>\n",
       "    <tr>\n",
       "      <th>42119</th>\n",
       "      <td>63900</td>\n",
       "      <td>Caps In Stems (Instrumental)</td>\n",
       "      <td>['21']</td>\n",
       "    </tr>\n",
       "    <tr>\n",
       "      <th>97031</th>\n",
       "      <td>144954</td>\n",
       "      <td>IA 07</td>\n",
       "      <td>['18', '42', '1235']</td>\n",
       "    </tr>\n",
       "    <tr>\n",
       "      <th>57164</th>\n",
       "      <td>86078</td>\n",
       "      <td>Didst</td>\n",
       "      <td>['456']</td>\n",
       "    </tr>\n",
       "    <tr>\n",
       "      <th>48796</th>\n",
       "      <td>73014</td>\n",
       "      <td>Est ce que ça vous plait?</td>\n",
       "      <td>['76', '311', '504']</td>\n",
       "    </tr>\n",
       "    <tr>\n",
       "      <th>19908</th>\n",
       "      <td>32181</td>\n",
       "      <td>Prayers Of The Saints</td>\n",
       "      <td>['32', '47', '107']</td>\n",
       "    </tr>\n",
       "    <tr>\n",
       "      <th>42689</th>\n",
       "      <td>64572</td>\n",
       "      <td>Passing Fields</td>\n",
       "      <td>['4']</td>\n",
       "    </tr>\n",
       "    <tr>\n",
       "      <th>11537</th>\n",
       "      <td>19278</td>\n",
       "      <td>Tin Hearts</td>\n",
       "      <td>['10', '66', '76', '103']</td>\n",
       "    </tr>\n",
       "    <tr>\n",
       "      <th>61598</th>\n",
       "      <td>94528</td>\n",
       "      <td>Catcher in the Rye Bread</td>\n",
       "      <td>['12', '25', '58']</td>\n",
       "    </tr>\n",
       "  </tbody>\n",
       "</table>\n",
       "</div>"
      ],
      "text/plain": [
       "        track_id                              track_title  \\\n",
       "57091      86002                      According to Signal   \n",
       "13726      22495  Reflections (Deflecting Defections mix)   \n",
       "61255      94016    3. deef - peaceful melting on shrooms   \n",
       "65133      99651                               Dream Hole   \n",
       "103285    154242                        Land of the Deads   \n",
       "70912     110339                            il va revenir   \n",
       "24229      38403           O Padre que mafiava a esmola a   \n",
       "78593     120131                         Modern Day Gavel   \n",
       "40470      61586             Intro to the 2012 Apocalypse   \n",
       "4905        9513                               Cold Water   \n",
       "11676      19496                                 Spogfire   \n",
       "83041     126168                               About Face   \n",
       "42119      63900             Caps In Stems (Instrumental)   \n",
       "97031     144954                                    IA 07   \n",
       "57164      86078                                    Didst   \n",
       "48796      73014                Est ce que ça vous plait?   \n",
       "19908      32181                    Prayers Of The Saints   \n",
       "42689      64572                           Passing Fields   \n",
       "11537      19278                               Tin Hearts   \n",
       "61598      94528                 Catcher in the Rye Bread   \n",
       "\n",
       "                      valid_genre  \n",
       "57091                ['27', '38']  \n",
       "13726                     ['100']  \n",
       "61255   ['1', '76', '107', '236']  \n",
       "65133         ['15', '42', '236']  \n",
       "103285      ['38', '107', '1235']  \n",
       "70912               ['76', '130']  \n",
       "24229                ['17', '76']  \n",
       "78593          ['1', '15', '107']  \n",
       "40470          ['3', '38', '103']  \n",
       "4905           ['36', '89', '98']  \n",
       "11676                      ['89']  \n",
       "83041       ['36', '250', '1235']  \n",
       "42119                      ['21']  \n",
       "97031        ['18', '42', '1235']  \n",
       "57164                     ['456']  \n",
       "48796        ['76', '311', '504']  \n",
       "19908         ['32', '47', '107']  \n",
       "42689                       ['4']  \n",
       "11537   ['10', '66', '76', '103']  \n",
       "61598          ['12', '25', '58']  "
      ]
     },
     "execution_count": 223,
     "metadata": {},
     "output_type": "execute_result"
    }
   ],
   "source": [
    "tracks_df.sample(20)"
   ]
  },
  {
   "cell_type": "code",
   "execution_count": 224,
   "id": "fa6c0adc-32c6-4a14-a9aa-f0af12eacbf1",
   "metadata": {},
   "outputs": [
    {
     "data": {
      "text/plain": [
       "array([\"['15', '21']\", \"['15', '236', '495']\", \"['25', '31', '38']\", ...,\n",
       "       \"['1', '4', '5', '32', '38', '41', '322']\",\n",
       "       \"['1', '15', '70', '107', '183', '236', '267', '359', '456', '495', '580']\",\n",
       "       \"['1', '6', '27', '76']\"], dtype=object)"
      ]
     },
     "execution_count": 224,
     "metadata": {},
     "output_type": "execute_result"
    }
   ],
   "source": [
    "tracks_df.valid_genre.values"
   ]
  },
  {
   "cell_type": "code",
   "execution_count": 225,
   "id": "31ad48bd-2868-46ed-81e6-02b6b26e2b1c",
   "metadata": {},
   "outputs": [
    {
     "data": {
      "text/plain": [
       "31985                                      No Sleep Til TSP\n",
       "93614                                   Let's Make a Memory\n",
       "52136                                              100 Mile\n",
       "51886                                            Untitled 4\n",
       "100857                                            Auto-Jock\n",
       "                                ...                        \n",
       "65417                                         urban exploit\n",
       "39513                                          marshal arts\n",
       "89781     Jared C. Balogh- Live @ The Mune (Saylorsburg,...\n",
       "81592                                             Aisatsana\n",
       "22628                                        Our Pet Possum\n",
       "Name: track_title, Length: 10419, dtype: object"
      ]
     },
     "execution_count": 225,
     "metadata": {},
     "output_type": "execute_result"
    }
   ],
   "source": [
    "tracks_df.track_title"
   ]
  },
  {
   "cell_type": "code",
   "execution_count": 226,
   "id": "220d2eb1-95ba-41d8-9499-bd6278ef473a",
   "metadata": {},
   "outputs": [],
   "source": [
    "## Get complete genre structure\n",
    "def get_all_structure(estrutura,df_genres):\n",
    "    ## Get structure from df_genres\n",
    "    def get_all_structure_from_df(estrutura,df_genres,structure=[]):\n",
    "        if estrutura == 0:\n",
    "            return structure\n",
    "        else:\n",
    "            structure.append(estrutura)\n",
    "            get_all_structure_from_df(df_genres[df_genres[\"genre_id\"]==int(estrutura)].parent.values[0],df_genres,structure)\n",
    "            return structure\n",
    "    \n",
    "    return get_all_structure_from_df(estrutura,df_genres,structure=[])\n",
    "    "
   ]
  },
  {
   "cell_type": "code",
   "execution_count": 227,
   "id": "2e89c7be-57eb-46bf-8506-b966ab685b50",
   "metadata": {},
   "outputs": [],
   "source": [
    "# tracks_df['valid_genre'] = tracks_df.track_genres.apply(lambda x: x.strip('][').split(', ') if x != '[]' else None)\n",
    "tracks_df['valid_genre'] = tracks_df.valid_genre.apply(lambda x: ast.literal_eval(x))"
   ]
  },
  {
   "cell_type": "code",
   "execution_count": 228,
   "id": "049fdc8c-85ac-431f-8091-6b6575e8282a",
   "metadata": {},
   "outputs": [
    {
     "data": {
      "text/plain": [
       "31985                                              [15, 21]\n",
       "93614                                        [15, 236, 495]\n",
       "52136                                          [25, 31, 38]\n",
       "51886                                                   [3]\n",
       "100857                                        [38, 41, 125]\n",
       "                                ...                        \n",
       "65417                                         [38, 42, 107]\n",
       "39513                                        [20, 138, 188]\n",
       "89781                            [1, 4, 5, 32, 38, 41, 322]\n",
       "81592     [1, 15, 70, 107, 183, 236, 267, 359, 456, 495,...\n",
       "22628                                        [1, 6, 27, 76]\n",
       "Name: valid_genre, Length: 10419, dtype: object"
      ]
     },
     "execution_count": 228,
     "metadata": {},
     "output_type": "execute_result"
    }
   ],
   "source": [
    "tracks_df['valid_genre']"
   ]
  },
  {
   "cell_type": "code",
   "execution_count": 229,
   "id": "b50f6d87-8a38-4b6a-92b7-c10a559de965",
   "metadata": {},
   "outputs": [],
   "source": [
    "tracks_df['last_genre_id'] = tracks_df.valid_genre.apply(lambda x:x[-1] if x != None else None)"
   ]
  },
  {
   "cell_type": "code",
   "execution_count": 230,
   "id": "5c1ccfaf-ad6a-4f6c-87d6-b6e8a74a8d0c",
   "metadata": {},
   "outputs": [
    {
     "data": {
      "text/html": [
       "<div>\n",
       "<style scoped>\n",
       "    .dataframe tbody tr th:only-of-type {\n",
       "        vertical-align: middle;\n",
       "    }\n",
       "\n",
       "    .dataframe tbody tr th {\n",
       "        vertical-align: top;\n",
       "    }\n",
       "\n",
       "    .dataframe thead th {\n",
       "        text-align: right;\n",
       "    }\n",
       "</style>\n",
       "<table border=\"1\" class=\"dataframe\">\n",
       "  <thead>\n",
       "    <tr style=\"text-align: right;\">\n",
       "      <th></th>\n",
       "      <th>track_id</th>\n",
       "      <th>track_title</th>\n",
       "      <th>valid_genre</th>\n",
       "      <th>last_genre_id</th>\n",
       "    </tr>\n",
       "  </thead>\n",
       "  <tbody>\n",
       "    <tr>\n",
       "      <th>62216</th>\n",
       "      <td>95441</td>\n",
       "      <td>Morphic Signals</td>\n",
       "      <td>[183, 224]</td>\n",
       "      <td>224</td>\n",
       "    </tr>\n",
       "    <tr>\n",
       "      <th>31086</th>\n",
       "      <td>48149</td>\n",
       "      <td>Standing There</td>\n",
       "      <td>[12, 103, 111]</td>\n",
       "      <td>111</td>\n",
       "    </tr>\n",
       "    <tr>\n",
       "      <th>93634</th>\n",
       "      <td>140033</td>\n",
       "      <td>Music For Cats</td>\n",
       "      <td>[10, 33, 76]</td>\n",
       "      <td>76</td>\n",
       "    </tr>\n",
       "    <tr>\n",
       "      <th>9547</th>\n",
       "      <td>16126</td>\n",
       "      <td>All Aboard</td>\n",
       "      <td>[15]</td>\n",
       "      <td>15</td>\n",
       "    </tr>\n",
       "    <tr>\n",
       "      <th>50259</th>\n",
       "      <td>75183</td>\n",
       "      <td>Vulgar Display of Panda Bear</td>\n",
       "      <td>[439]</td>\n",
       "      <td>439</td>\n",
       "    </tr>\n",
       "    <tr>\n",
       "      <th>8376</th>\n",
       "      <td>14360</td>\n",
       "      <td>Hooks Reloaded</td>\n",
       "      <td>[21]</td>\n",
       "      <td>21</td>\n",
       "    </tr>\n",
       "    <tr>\n",
       "      <th>99081</th>\n",
       "      <td>147632</td>\n",
       "      <td>Isosceles</td>\n",
       "      <td>[15, 38, 125, 183]</td>\n",
       "      <td>183</td>\n",
       "    </tr>\n",
       "    <tr>\n",
       "      <th>84662</th>\n",
       "      <td>128527</td>\n",
       "      <td>A Beatnik Mother's Dying Wish</td>\n",
       "      <td>[17, 26, 66]</td>\n",
       "      <td>66</td>\n",
       "    </tr>\n",
       "    <tr>\n",
       "      <th>93847</th>\n",
       "      <td>140314</td>\n",
       "      <td>nxI2016-07-12_00_20_40</td>\n",
       "      <td>[38, 47]</td>\n",
       "      <td>47</td>\n",
       "    </tr>\n",
       "    <tr>\n",
       "      <th>87412</th>\n",
       "      <td>131958</td>\n",
       "      <td>Everybody's Jazzinn It</td>\n",
       "      <td>[8]</td>\n",
       "      <td>8</td>\n",
       "    </tr>\n",
       "    <tr>\n",
       "      <th>75321</th>\n",
       "      <td>115918</td>\n",
       "      <td>El éxito</td>\n",
       "      <td>[33, 94]</td>\n",
       "      <td>94</td>\n",
       "    </tr>\n",
       "    <tr>\n",
       "      <th>77875</th>\n",
       "      <td>119309</td>\n",
       "      <td>Factory Farm</td>\n",
       "      <td>[47, 1235]</td>\n",
       "      <td>1235</td>\n",
       "    </tr>\n",
       "    <tr>\n",
       "      <th>51741</th>\n",
       "      <td>78050</td>\n",
       "      <td>Two at a Time</td>\n",
       "      <td>[10, 17]</td>\n",
       "      <td>17</td>\n",
       "    </tr>\n",
       "    <tr>\n",
       "      <th>40399</th>\n",
       "      <td>61505</td>\n",
       "      <td>Lungo il sentiero</td>\n",
       "      <td>[2, 12]</td>\n",
       "      <td>12</td>\n",
       "    </tr>\n",
       "    <tr>\n",
       "      <th>46697</th>\n",
       "      <td>70131</td>\n",
       "      <td>Days Past</td>\n",
       "      <td>[4, 14, 21]</td>\n",
       "      <td>21</td>\n",
       "    </tr>\n",
       "    <tr>\n",
       "      <th>51898</th>\n",
       "      <td>78844</td>\n",
       "      <td>Coraçãozinho de Satã</td>\n",
       "      <td>[21, 83, 100]</td>\n",
       "      <td>100</td>\n",
       "    </tr>\n",
       "    <tr>\n",
       "      <th>50866</th>\n",
       "      <td>76004</td>\n",
       "      <td>I</td>\n",
       "      <td>[1, 38, 41]</td>\n",
       "      <td>41</td>\n",
       "    </tr>\n",
       "    <tr>\n",
       "      <th>19347</th>\n",
       "      <td>31364</td>\n",
       "      <td>Casa Caiada</td>\n",
       "      <td>[2, 10, 12, 17, 171]</td>\n",
       "      <td>171</td>\n",
       "    </tr>\n",
       "    <tr>\n",
       "      <th>80005</th>\n",
       "      <td>122039</td>\n",
       "      <td>2-</td>\n",
       "      <td>[27, 76]</td>\n",
       "      <td>76</td>\n",
       "    </tr>\n",
       "    <tr>\n",
       "      <th>31871</th>\n",
       "      <td>49284</td>\n",
       "      <td>The C-Noise Tape</td>\n",
       "      <td>[32, 47, 107]</td>\n",
       "      <td>107</td>\n",
       "    </tr>\n",
       "  </tbody>\n",
       "</table>\n",
       "</div>"
      ],
      "text/plain": [
       "       track_id                    track_title           valid_genre  \\\n",
       "62216     95441                Morphic Signals            [183, 224]   \n",
       "31086     48149                 Standing There        [12, 103, 111]   \n",
       "93634    140033                 Music For Cats          [10, 33, 76]   \n",
       "9547      16126                     All Aboard                  [15]   \n",
       "50259     75183   Vulgar Display of Panda Bear                 [439]   \n",
       "8376      14360                 Hooks Reloaded                  [21]   \n",
       "99081    147632                      Isosceles    [15, 38, 125, 183]   \n",
       "84662    128527  A Beatnik Mother's Dying Wish          [17, 26, 66]   \n",
       "93847    140314         nxI2016-07-12_00_20_40              [38, 47]   \n",
       "87412    131958         Everybody's Jazzinn It                   [8]   \n",
       "75321    115918                       El éxito              [33, 94]   \n",
       "77875    119309                   Factory Farm            [47, 1235]   \n",
       "51741     78050                  Two at a Time              [10, 17]   \n",
       "40399     61505              Lungo il sentiero               [2, 12]   \n",
       "46697     70131                      Days Past           [4, 14, 21]   \n",
       "51898     78844           Coraçãozinho de Satã         [21, 83, 100]   \n",
       "50866     76004                              I           [1, 38, 41]   \n",
       "19347     31364                    Casa Caiada  [2, 10, 12, 17, 171]   \n",
       "80005    122039                             2-              [27, 76]   \n",
       "31871     49284               The C-Noise Tape         [32, 47, 107]   \n",
       "\n",
       "      last_genre_id  \n",
       "62216           224  \n",
       "31086           111  \n",
       "93634            76  \n",
       "9547             15  \n",
       "50259           439  \n",
       "8376             21  \n",
       "99081           183  \n",
       "84662            66  \n",
       "93847            47  \n",
       "87412             8  \n",
       "75321            94  \n",
       "77875          1235  \n",
       "51741            17  \n",
       "40399            12  \n",
       "46697            21  \n",
       "51898           100  \n",
       "50866            41  \n",
       "19347           171  \n",
       "80005            76  \n",
       "31871           107  "
      ]
     },
     "execution_count": 230,
     "metadata": {},
     "output_type": "execute_result"
    }
   ],
   "source": [
    "tracks_df.sample(20)"
   ]
  },
  {
   "cell_type": "code",
   "execution_count": 231,
   "id": "f5de1c7f-c2b6-487a-83bc-974ddb99008a",
   "metadata": {},
   "outputs": [],
   "source": [
    "# tracks_df.dropna(inplace=True)"
   ]
  },
  {
   "cell_type": "code",
   "execution_count": 232,
   "id": "fcb10f3d-d6fa-4e7b-a4f0-d8536a1a2898",
   "metadata": {},
   "outputs": [
    {
     "data": {
      "text/html": [
       "<div>\n",
       "<style scoped>\n",
       "    .dataframe tbody tr th:only-of-type {\n",
       "        vertical-align: middle;\n",
       "    }\n",
       "\n",
       "    .dataframe tbody tr th {\n",
       "        vertical-align: top;\n",
       "    }\n",
       "\n",
       "    .dataframe thead th {\n",
       "        text-align: right;\n",
       "    }\n",
       "</style>\n",
       "<table border=\"1\" class=\"dataframe\">\n",
       "  <thead>\n",
       "    <tr style=\"text-align: right;\">\n",
       "      <th></th>\n",
       "      <th>track_id</th>\n",
       "      <th>track_title</th>\n",
       "      <th>valid_genre</th>\n",
       "      <th>last_genre_id</th>\n",
       "    </tr>\n",
       "  </thead>\n",
       "  <tbody>\n",
       "    <tr>\n",
       "      <th>31985</th>\n",
       "      <td>49467</td>\n",
       "      <td>No Sleep Til TSP</td>\n",
       "      <td>[15, 21]</td>\n",
       "      <td>21</td>\n",
       "    </tr>\n",
       "    <tr>\n",
       "      <th>93614</th>\n",
       "      <td>140005</td>\n",
       "      <td>Let's Make a Memory</td>\n",
       "      <td>[15, 236, 495]</td>\n",
       "      <td>495</td>\n",
       "    </tr>\n",
       "    <tr>\n",
       "      <th>52136</th>\n",
       "      <td>79519</td>\n",
       "      <td>100 Mile</td>\n",
       "      <td>[25, 31, 38]</td>\n",
       "      <td>38</td>\n",
       "    </tr>\n",
       "    <tr>\n",
       "      <th>51886</th>\n",
       "      <td>78750</td>\n",
       "      <td>Untitled 4</td>\n",
       "      <td>[3]</td>\n",
       "      <td>3</td>\n",
       "    </tr>\n",
       "    <tr>\n",
       "      <th>100857</th>\n",
       "      <td>149871</td>\n",
       "      <td>Auto-Jock</td>\n",
       "      <td>[38, 41, 125]</td>\n",
       "      <td>125</td>\n",
       "    </tr>\n",
       "    <tr>\n",
       "      <th>...</th>\n",
       "      <td>...</td>\n",
       "      <td>...</td>\n",
       "      <td>...</td>\n",
       "      <td>...</td>\n",
       "    </tr>\n",
       "    <tr>\n",
       "      <th>65417</th>\n",
       "      <td>100752</td>\n",
       "      <td>urban exploit</td>\n",
       "      <td>[38, 42, 107]</td>\n",
       "      <td>107</td>\n",
       "    </tr>\n",
       "    <tr>\n",
       "      <th>39513</th>\n",
       "      <td>60207</td>\n",
       "      <td>marshal arts</td>\n",
       "      <td>[20, 138, 188]</td>\n",
       "      <td>188</td>\n",
       "    </tr>\n",
       "    <tr>\n",
       "      <th>89781</th>\n",
       "      <td>134846</td>\n",
       "      <td>Jared C. Balogh- Live @ The Mune (Saylorsburg,...</td>\n",
       "      <td>[1, 4, 5, 32, 38, 41, 322]</td>\n",
       "      <td>322</td>\n",
       "    </tr>\n",
       "    <tr>\n",
       "      <th>81592</th>\n",
       "      <td>124170</td>\n",
       "      <td>Aisatsana</td>\n",
       "      <td>[1, 15, 70, 107, 183, 236, 267, 359, 456, 495,...</td>\n",
       "      <td>580</td>\n",
       "    </tr>\n",
       "    <tr>\n",
       "      <th>22628</th>\n",
       "      <td>35927</td>\n",
       "      <td>Our Pet Possum</td>\n",
       "      <td>[1, 6, 27, 76]</td>\n",
       "      <td>76</td>\n",
       "    </tr>\n",
       "  </tbody>\n",
       "</table>\n",
       "<p>10419 rows × 4 columns</p>\n",
       "</div>"
      ],
      "text/plain": [
       "        track_id                                        track_title  \\\n",
       "31985      49467                                   No Sleep Til TSP   \n",
       "93614     140005                                Let's Make a Memory   \n",
       "52136      79519                                           100 Mile   \n",
       "51886      78750                                         Untitled 4   \n",
       "100857    149871                                          Auto-Jock   \n",
       "...          ...                                                ...   \n",
       "65417     100752                                      urban exploit   \n",
       "39513      60207                                       marshal arts   \n",
       "89781     134846  Jared C. Balogh- Live @ The Mune (Saylorsburg,...   \n",
       "81592     124170                                          Aisatsana   \n",
       "22628      35927                                     Our Pet Possum   \n",
       "\n",
       "                                              valid_genre last_genre_id  \n",
       "31985                                            [15, 21]            21  \n",
       "93614                                      [15, 236, 495]           495  \n",
       "52136                                        [25, 31, 38]            38  \n",
       "51886                                                 [3]             3  \n",
       "100857                                      [38, 41, 125]           125  \n",
       "...                                                   ...           ...  \n",
       "65417                                       [38, 42, 107]           107  \n",
       "39513                                      [20, 138, 188]           188  \n",
       "89781                          [1, 4, 5, 32, 38, 41, 322]           322  \n",
       "81592   [1, 15, 70, 107, 183, 236, 267, 359, 456, 495,...           580  \n",
       "22628                                      [1, 6, 27, 76]            76  \n",
       "\n",
       "[10419 rows x 4 columns]"
      ]
     },
     "execution_count": 232,
     "metadata": {},
     "output_type": "execute_result"
    }
   ],
   "source": [
    "tracks_df"
   ]
  },
  {
   "cell_type": "code",
   "execution_count": 233,
   "id": "8f713133-f471-4ca5-b7b1-ab06109bb31b",
   "metadata": {
    "tags": []
   },
   "outputs": [],
   "source": [
    "tracks_df['full_genre_id'] = tracks_df.last_genre_id.apply(lambda x: get_all_structure(x,genres_df)[::-1])"
   ]
  },
  {
   "cell_type": "code",
   "execution_count": 234,
   "id": "69d80106-b330-4749-8aee-d2fbc451ecfb",
   "metadata": {},
   "outputs": [
    {
     "data": {
      "text/plain": [
       "[38]            654\n",
       "[1235]          637\n",
       "[1235, 107]     432\n",
       "[10, 76]        419\n",
       "[17, 103]       383\n",
       "               ... \n",
       "[13]              1\n",
       "[2, 176]          1\n",
       "[2, 117]          1\n",
       "[2, 86, 174]      1\n",
       "[21, 83]          1\n",
       "Name: full_genre_id, Length: 155, dtype: int64"
      ]
     },
     "execution_count": 234,
     "metadata": {},
     "output_type": "execute_result"
    }
   ],
   "source": [
    "tracks_df.full_genre_id.value_counts()"
   ]
  },
  {
   "cell_type": "code",
   "execution_count": 235,
   "id": "8cf91d85-a298-4064-aecc-4370639ea929",
   "metadata": {},
   "outputs": [
    {
     "data": {
      "text/plain": [
       "Index(['track_id', 'track_title', 'valid_genre', 'last_genre_id',\n",
       "       'full_genre_id'],\n",
       "      dtype='object')"
      ]
     },
     "execution_count": 235,
     "metadata": {},
     "output_type": "execute_result"
    }
   ],
   "source": [
    "tracks_df.columns"
   ]
  },
  {
   "cell_type": "code",
   "execution_count": 236,
   "id": "d7b72dad-6dfa-46c3-84ac-10602c852524",
   "metadata": {},
   "outputs": [],
   "source": [
    "tracks_df = tracks_df[['track_id','full_genre_id']]"
   ]
  },
  {
   "cell_type": "code",
   "execution_count": 237,
   "id": "c7d35e82-a0b0-4bda-be5e-f69340a00385",
   "metadata": {},
   "outputs": [
    {
     "data": {
      "text/plain": [
       "[38]            654\n",
       "[1235]          637\n",
       "[1235, 107]     432\n",
       "[10, 76]        419\n",
       "[17, 103]       383\n",
       "               ... \n",
       "[13]              1\n",
       "[2, 176]          1\n",
       "[2, 117]          1\n",
       "[2, 86, 174]      1\n",
       "[21, 83]          1\n",
       "Name: full_genre_id, Length: 155, dtype: int64"
      ]
     },
     "execution_count": 237,
     "metadata": {},
     "output_type": "execute_result"
    }
   ],
   "source": [
    "tracks_df.full_genre_id.value_counts()"
   ]
  },
  {
   "cell_type": "code",
   "execution_count": 238,
   "id": "14106678-2380-40d6-8373-edf1fda9b3af",
   "metadata": {},
   "outputs": [
    {
     "data": {
      "text/plain": [
       "<bound method Series.info of 31985            [21]\n",
       "93614       [15, 495]\n",
       "52136            [38]\n",
       "51886             [3]\n",
       "100857      [38, 125]\n",
       "             ...     \n",
       "65417     [1235, 107]\n",
       "39513       [20, 188]\n",
       "89781        [5, 322]\n",
       "81592       [21, 580]\n",
       "22628        [10, 76]\n",
       "Name: full_genre_id, Length: 10419, dtype: object>"
      ]
     },
     "execution_count": 238,
     "metadata": {},
     "output_type": "execute_result"
    }
   ],
   "source": [
    "tracks_df.full_genre_id.info"
   ]
  },
  {
   "cell_type": "code",
   "execution_count": 239,
   "id": "90068602-0c57-4e10-bd9b-64cd1c8d8ad8",
   "metadata": {},
   "outputs": [],
   "source": [
    "labels_size = tracks_df.full_genre_id.apply(lambda x: len(x))"
   ]
  },
  {
   "cell_type": "code",
   "execution_count": 240,
   "id": "70f2351f-2f55-4979-84c2-0cb142887a78",
   "metadata": {},
   "outputs": [],
   "source": [
    "labels_size = labels_size.max()"
   ]
  },
  {
   "cell_type": "code",
   "execution_count": 241,
   "id": "e1f6ac31-ca09-4e44-a120-cd4534cd851e",
   "metadata": {},
   "outputs": [
    {
     "data": {
      "text/plain": [
       "5"
      ]
     },
     "execution_count": 241,
     "metadata": {},
     "output_type": "execute_result"
    }
   ],
   "source": [
    "labels_size"
   ]
  },
  {
   "cell_type": "code",
   "execution_count": 242,
   "id": "2b78849a-c456-4f04-9076-8d4a1ee5be97",
   "metadata": {},
   "outputs": [],
   "source": [
    "import pandas as pd\n",
    "import os"
   ]
  },
  {
   "cell_type": "markdown",
   "id": "74827c2e-072a-4213-9b96-f7bb24dee80e",
   "metadata": {},
   "source": [
    "### Parse of label to structure"
   ]
  },
  {
   "cell_type": "code",
   "execution_count": 243,
   "id": "093a84f2-25d1-4f95-81e5-c51e73933e95",
   "metadata": {},
   "outputs": [],
   "source": [
    "### Function for parse label to sctructure of hierarhical scheme\n",
    "\n",
    "def parse_label(label,label_size=5):\n",
    "    # label = label.split('-')\n",
    "    # preencher com 0 no caso de haver menos de 5 níveis\n",
    "    labels = np.zeros(label_size,dtype=int)\n",
    "    for i, label in enumerate(label):\n",
    "        if i == 5:\n",
    "            break\n",
    "        # Aqui você pode fazer a conversão do label em um índice inteiro usando um dicionário ou outro método\n",
    "        # Neste exemplo, estou apenas usando a posição da label na lista como índice\n",
    "        labels[i] = label\n",
    "    return labels"
   ]
  },
  {
   "cell_type": "code",
   "execution_count": 244,
   "id": "7ecb279e-adf3-4da6-b318-03b9880e2cc9",
   "metadata": {},
   "outputs": [
    {
     "data": {
      "text/plain": [
       "[38]            654\n",
       "[1235]          637\n",
       "[1235, 107]     432\n",
       "[10, 76]        419\n",
       "[17, 103]       383\n",
       "               ... \n",
       "[13]              1\n",
       "[2, 176]          1\n",
       "[2, 117]          1\n",
       "[2, 86, 174]      1\n",
       "[21, 83]          1\n",
       "Name: full_genre_id, Length: 155, dtype: int64"
      ]
     },
     "execution_count": 244,
     "metadata": {},
     "output_type": "execute_result"
    }
   ],
   "source": [
    "tracks_df.full_genre_id.value_counts()"
   ]
  },
  {
   "cell_type": "code",
   "execution_count": 245,
   "id": "2a6adb21-c145-4c82-ba79-798d02c7d2fd",
   "metadata": {},
   "outputs": [],
   "source": [
    "parsed_labels = tracks_df.full_genre_id.apply(lambda x: parse_label(x))"
   ]
  },
  {
   "cell_type": "code",
   "execution_count": 246,
   "id": "d60b077d-993f-4cbb-a66b-407d97dba96e",
   "metadata": {},
   "outputs": [],
   "source": [
    "def convert_label_to_string(x,level=2):\n",
    "    return '-'.join([str(value) for value in x[:level]])"
   ]
  },
  {
   "cell_type": "code",
   "execution_count": 247,
   "id": "e463b489-81bf-4a7d-95db-1f78c7ca6d87",
   "metadata": {},
   "outputs": [
    {
     "data": {
      "application/vnd.jupyter.widget-view+json": {
       "model_id": "08c5fb3f8d2047c4af3621cc1adb0819",
       "version_major": 2,
       "version_minor": 0
      },
      "text/plain": [
       "  0%|          | 0/10419 [00:00<?, ?it/s]"
      ]
     },
     "metadata": {},
     "output_type": "display_data"
    },
    {
     "name": "stderr",
     "output_type": "stream",
     "text": [
      "/tmp/ipykernel_2642481/310633048.py:1: SettingWithCopyWarning: \n",
      "A value is trying to be set on a copy of a slice from a DataFrame.\n",
      "Try using .loc[row_indexer,col_indexer] = value instead\n",
      "\n",
      "See the caveats in the documentation: https://pandas.pydata.org/pandas-docs/stable/user_guide/indexing.html#returning-a-view-versus-a-copy\n",
      "  tracks_df['labels_1'] = parsed_labels.progress_apply(lambda x: str(x[:1][0]))\n"
     ]
    },
    {
     "data": {
      "application/vnd.jupyter.widget-view+json": {
       "model_id": "a309e8f772d34defb7f38b77afd2f52c",
       "version_major": 2,
       "version_minor": 0
      },
      "text/plain": [
       "  0%|          | 0/10419 [00:00<?, ?it/s]"
      ]
     },
     "metadata": {},
     "output_type": "display_data"
    },
    {
     "name": "stderr",
     "output_type": "stream",
     "text": [
      "/tmp/ipykernel_2642481/310633048.py:2: SettingWithCopyWarning: \n",
      "A value is trying to be set on a copy of a slice from a DataFrame.\n",
      "Try using .loc[row_indexer,col_indexer] = value instead\n",
      "\n",
      "See the caveats in the documentation: https://pandas.pydata.org/pandas-docs/stable/user_guide/indexing.html#returning-a-view-versus-a-copy\n",
      "  tracks_df['labels_2'] = parsed_labels.progress_apply(lambda x: convert_label_to_string(x,level=2))\n"
     ]
    },
    {
     "data": {
      "application/vnd.jupyter.widget-view+json": {
       "model_id": "ea09e08ce82e4ee38429d39e16d74fa5",
       "version_major": 2,
       "version_minor": 0
      },
      "text/plain": [
       "  0%|          | 0/10419 [00:00<?, ?it/s]"
      ]
     },
     "metadata": {},
     "output_type": "display_data"
    },
    {
     "data": {
      "application/vnd.jupyter.widget-view+json": {
       "model_id": "4eef86dc0a094972a394e373293ac311",
       "version_major": 2,
       "version_minor": 0
      },
      "text/plain": [
       "  0%|          | 0/10419 [00:00<?, ?it/s]"
      ]
     },
     "metadata": {},
     "output_type": "display_data"
    },
    {
     "data": {
      "application/vnd.jupyter.widget-view+json": {
       "model_id": "6e0fdfbd586947d298b06772f58f918e",
       "version_major": 2,
       "version_minor": 0
      },
      "text/plain": [
       "  0%|          | 0/10419 [00:00<?, ?it/s]"
      ]
     },
     "metadata": {},
     "output_type": "display_data"
    }
   ],
   "source": [
    "tracks_df['labels_1'] = parsed_labels.progress_apply(lambda x: str(x[:1][0]))\n",
    "tracks_df['labels_2'] = parsed_labels.progress_apply(lambda x: convert_label_to_string(x,level=2))\n",
    "tracks_df['labels_3'] = parsed_labels.progress_apply(lambda x: convert_label_to_string(x,level=3))\n",
    "tracks_df['labels_4'] = parsed_labels.progress_apply(lambda x: convert_label_to_string(x,level=4))\n",
    "tracks_df['labels_5'] = parsed_labels.progress_apply(lambda x: convert_label_to_string(x,level=5))"
   ]
  },
  {
   "cell_type": "code",
   "execution_count": 248,
   "id": "7a3d673f-7dbb-4b46-a5c0-fcd760f745cb",
   "metadata": {},
   "outputs": [
    {
     "data": {
      "text/plain": [
       "array(['21-0-0-0-0', '15-495-0-0-0', '38-0-0-0-0', '3-0-0-0-0',\n",
       "       '38-125-0-0-0', '10-76-0-0-0', '1235-0-0-0-0', '12-25-89-0-0',\n",
       "       '15-181-0-0-0', '15-236-0-0-0', '15-297-0-0-0', '12-25-111-0-0',\n",
       "       '15-468-0-0-0', '38-247-0-0-0', '21-542-0-0-0', '15-42-0-0-0',\n",
       "       '15-0-0-0-0', '12-45-53-0-0', '15-286-0-0-0', '10-362-0-0-0',\n",
       "       '12-0-0-0-0', '38-250-0-0-0', '1235-107-0-0-0', '10-0-0-0-0',\n",
       "       '38-41-0-0-0', '17-103-0-0-0', '4-74-0-0-0', '9-137-0-0-0',\n",
       "       '38-32-0-0-0', '21-580-0-0-0', '38-186-0-0-0', '5-322-0-0-0',\n",
       "       '17-180-0-0-0', '12-85-0-0-0', '1235-18-538-0-0', '14-19-0-0-0',\n",
       "       '12-27-0-0-0', '2-504-0-0-0', '21-100-0-0-0', '17-94-0-0-0',\n",
       "       '12-25-109-361-0', '15-184-0-0-0', '12-25-109-0-0', '2-102-0-0-0',\n",
       "       '38-30-0-0-0', '12-66-0-0-0', '12-31-439-0-0', '12-25-0-0-0',\n",
       "       '15-296-0-0-0', '2-79-0-0-0', '38-224-0-0-0', '1235-18-0-0-0',\n",
       "       '2-46-0-0-0', '12-58-0-0-0', '4-179-0-0-0', '12-359-0-0-0',\n",
       "       '2-77-0-0-0', '12-314-0-0-0', '12-25-71-0-0', '15-183-0-0-0',\n",
       "       '38-22-0-0-0', '8-0-0-0-0', '12-45-53-90-0', '15-185-0-0-0',\n",
       "       '15-337-0-0-0', '5-659-0-0-0', '12-31-0-0-0', '20-428-0-0-0',\n",
       "       '20-0-0-0-0', '5-443-0-0-0', '13-170-0-0-0', '20-65-0-0-0',\n",
       "       '38-47-0-0-0', '17-0-0-0-0', '38-456-0-0-0', '15-182-400-0-0',\n",
       "       '38-1-0-0-0', '2-130-1156-0-0', '20-378-0-0-0', '12-70-0-0-0',\n",
       "       '1235-267-0-0-0', '21-539-0-0-0', '17-33-0-0-0', '12-440-0-0-0',\n",
       "       '21-811-0-0-0', '13-311-0-0-0', '20-138-0-0-0', '9-651-0-0-0',\n",
       "       '4-0-0-0-0', '2-86-0-0-0', '12-26-113-0-0', '2-46-808-0-0',\n",
       "       '2-171-0-0-0', '12-31-101-0-0', '15-297-240-0-0', '12-26-0-0-0',\n",
       "       '12-88-0-0-0', '15-695-0-0-0', '5-442-0-0-0', '12-98-0-0-0',\n",
       "       '4-97-0-0-0', '38-514-0-0-0', '5-0-0-0-0', '12-85-404-0-0',\n",
       "       '15-181-401-0-0', '12-36-0-0-0', '13-810-0-0-0', '17-49-0-0-0',\n",
       "       '38-6-16-763-0', '15-182-0-0-0', '20-188-0-0-0', '14-11-0-0-0',\n",
       "       '2-172-0-0-0', '2-130-0-0-0', '4-37-0-0-0', '2-92-0-0-0',\n",
       "       '12-25-64-0-0', '38-6-16-763-1193', '5-441-0-0-0', '2-0-0-0-0',\n",
       "       '2-79-602-0-0', '9-63-0-0-0', '2-46-1060-0-0', '2-118-0-0-0',\n",
       "       '38-6-360-0-0', '5-187-0-0-0', '2-130-619-0-0', '2-130-524-0-0',\n",
       "       '2-232-0-0-0', '2-102-1032-0-0', '20-65-166-0-0', '20-65-43-0-0',\n",
       "       '12-45-0-0-0', '3-567-0-0-0', '15-468-491-0-0', '12-31-167-0-0',\n",
       "       '4-906-0-0-0', '21-693-0-0-0', '2-177-0-0-0', '2-92-214-0-0',\n",
       "       '2-86-173-0-0', '38-6-0-0-0', '20-465-0-0-0', '9-169-0-0-0',\n",
       "       '2-46-502-0-0', '2-130-741-0-0', '20-65-189-0-0', '9-0-0-0-0',\n",
       "       '13-0-0-0-0', '2-176-0-0-0', '2-117-0-0-0', '2-92-81-0-0',\n",
       "       '2-86-174-0-0', '21-83-0-0-0', '14-0-0-0-0'], dtype=object)"
      ]
     },
     "execution_count": 248,
     "metadata": {},
     "output_type": "execute_result"
    }
   ],
   "source": [
    "tracks_df.labels_5.unique()"
   ]
  },
  {
   "cell_type": "code",
   "execution_count": 249,
   "id": "af5df190-01df-4f13-a475-35132a6712f4",
   "metadata": {},
   "outputs": [],
   "source": [
    "tracks_df.to_csv(os.path.join(train_path,\"tracks.csv\"),index=False)"
   ]
  },
  {
   "cell_type": "code",
   "execution_count": 250,
   "id": "5dc7f941-56f4-43bc-9d35-8fc233bb2a48",
   "metadata": {},
   "outputs": [],
   "source": [
    "tracks_df = pd.read_csv(os.path.join(train_path,\"tracks.csv\"))"
   ]
  },
  {
   "cell_type": "code",
   "execution_count": 251,
   "id": "d1e5f547-34ba-4d8d-b3ef-7d7eebc578fc",
   "metadata": {},
   "outputs": [],
   "source": [
    "categories_df = pd.DataFrame({'level5':tracks_df.labels_5.unique()})"
   ]
  },
  {
   "cell_type": "code",
   "execution_count": 252,
   "id": "39a3077d-9077-4f6b-be98-1e7d14e280e2",
   "metadata": {},
   "outputs": [
    {
     "data": {
      "application/vnd.jupyter.widget-view+json": {
       "model_id": "7ae19c9345d84f4f86a14d52dbae6287",
       "version_major": 2,
       "version_minor": 0
      },
      "text/plain": [
       "  0%|          | 0/155 [00:00<?, ?it/s]"
      ]
     },
     "metadata": {},
     "output_type": "display_data"
    },
    {
     "data": {
      "application/vnd.jupyter.widget-view+json": {
       "model_id": "f8039d45d12d439ea3065a8323c082d6",
       "version_major": 2,
       "version_minor": 0
      },
      "text/plain": [
       "  0%|          | 0/155 [00:00<?, ?it/s]"
      ]
     },
     "metadata": {},
     "output_type": "display_data"
    },
    {
     "data": {
      "application/vnd.jupyter.widget-view+json": {
       "model_id": "61bbfe14a23344109f9566ff7e75a95b",
       "version_major": 2,
       "version_minor": 0
      },
      "text/plain": [
       "  0%|          | 0/155 [00:00<?, ?it/s]"
      ]
     },
     "metadata": {},
     "output_type": "display_data"
    },
    {
     "data": {
      "application/vnd.jupyter.widget-view+json": {
       "model_id": "0f1dd8b110554f94b62ece0a97b37781",
       "version_major": 2,
       "version_minor": 0
      },
      "text/plain": [
       "  0%|          | 0/155 [00:00<?, ?it/s]"
      ]
     },
     "metadata": {},
     "output_type": "display_data"
    }
   ],
   "source": [
    "categories_df['level1'] = categories_df.level5.progress_apply(lambda x: '-'.join(x.split('-')[:1]))\n",
    "categories_df['level2'] = categories_df.level5.progress_apply(lambda x: '-'.join(x.split('-')[:2]))\n",
    "categories_df['level3'] = categories_df.level5.progress_apply(lambda x: '-'.join(x.split('-')[:3]))\n",
    "categories_df['level4'] = categories_df.level5.progress_apply(lambda x: '-'.join(x.split('-')[:4]))"
   ]
  },
  {
   "cell_type": "code",
   "execution_count": 253,
   "id": "d32d5387-bc51-4823-8245-9b715899af33",
   "metadata": {},
   "outputs": [
    {
     "data": {
      "text/html": [
       "<div>\n",
       "<style scoped>\n",
       "    .dataframe tbody tr th:only-of-type {\n",
       "        vertical-align: middle;\n",
       "    }\n",
       "\n",
       "    .dataframe tbody tr th {\n",
       "        vertical-align: top;\n",
       "    }\n",
       "\n",
       "    .dataframe thead th {\n",
       "        text-align: right;\n",
       "    }\n",
       "</style>\n",
       "<table border=\"1\" class=\"dataframe\">\n",
       "  <thead>\n",
       "    <tr style=\"text-align: right;\">\n",
       "      <th></th>\n",
       "      <th>level5</th>\n",
       "      <th>level1</th>\n",
       "      <th>level2</th>\n",
       "      <th>level3</th>\n",
       "      <th>level4</th>\n",
       "    </tr>\n",
       "  </thead>\n",
       "  <tbody>\n",
       "    <tr>\n",
       "      <th>0</th>\n",
       "      <td>21-0-0-0-0</td>\n",
       "      <td>21</td>\n",
       "      <td>21-0</td>\n",
       "      <td>21-0-0</td>\n",
       "      <td>21-0-0-0</td>\n",
       "    </tr>\n",
       "    <tr>\n",
       "      <th>1</th>\n",
       "      <td>15-495-0-0-0</td>\n",
       "      <td>15</td>\n",
       "      <td>15-495</td>\n",
       "      <td>15-495-0</td>\n",
       "      <td>15-495-0-0</td>\n",
       "    </tr>\n",
       "    <tr>\n",
       "      <th>2</th>\n",
       "      <td>38-0-0-0-0</td>\n",
       "      <td>38</td>\n",
       "      <td>38-0</td>\n",
       "      <td>38-0-0</td>\n",
       "      <td>38-0-0-0</td>\n",
       "    </tr>\n",
       "    <tr>\n",
       "      <th>3</th>\n",
       "      <td>3-0-0-0-0</td>\n",
       "      <td>3</td>\n",
       "      <td>3-0</td>\n",
       "      <td>3-0-0</td>\n",
       "      <td>3-0-0-0</td>\n",
       "    </tr>\n",
       "    <tr>\n",
       "      <th>4</th>\n",
       "      <td>38-125-0-0-0</td>\n",
       "      <td>38</td>\n",
       "      <td>38-125</td>\n",
       "      <td>38-125-0</td>\n",
       "      <td>38-125-0-0</td>\n",
       "    </tr>\n",
       "    <tr>\n",
       "      <th>...</th>\n",
       "      <td>...</td>\n",
       "      <td>...</td>\n",
       "      <td>...</td>\n",
       "      <td>...</td>\n",
       "      <td>...</td>\n",
       "    </tr>\n",
       "    <tr>\n",
       "      <th>150</th>\n",
       "      <td>2-117-0-0-0</td>\n",
       "      <td>2</td>\n",
       "      <td>2-117</td>\n",
       "      <td>2-117-0</td>\n",
       "      <td>2-117-0-0</td>\n",
       "    </tr>\n",
       "    <tr>\n",
       "      <th>151</th>\n",
       "      <td>2-92-81-0-0</td>\n",
       "      <td>2</td>\n",
       "      <td>2-92</td>\n",
       "      <td>2-92-81</td>\n",
       "      <td>2-92-81-0</td>\n",
       "    </tr>\n",
       "    <tr>\n",
       "      <th>152</th>\n",
       "      <td>2-86-174-0-0</td>\n",
       "      <td>2</td>\n",
       "      <td>2-86</td>\n",
       "      <td>2-86-174</td>\n",
       "      <td>2-86-174-0</td>\n",
       "    </tr>\n",
       "    <tr>\n",
       "      <th>153</th>\n",
       "      <td>21-83-0-0-0</td>\n",
       "      <td>21</td>\n",
       "      <td>21-83</td>\n",
       "      <td>21-83-0</td>\n",
       "      <td>21-83-0-0</td>\n",
       "    </tr>\n",
       "    <tr>\n",
       "      <th>154</th>\n",
       "      <td>14-0-0-0-0</td>\n",
       "      <td>14</td>\n",
       "      <td>14-0</td>\n",
       "      <td>14-0-0</td>\n",
       "      <td>14-0-0-0</td>\n",
       "    </tr>\n",
       "  </tbody>\n",
       "</table>\n",
       "<p>155 rows × 5 columns</p>\n",
       "</div>"
      ],
      "text/plain": [
       "           level5 level1  level2    level3      level4\n",
       "0      21-0-0-0-0     21    21-0    21-0-0    21-0-0-0\n",
       "1    15-495-0-0-0     15  15-495  15-495-0  15-495-0-0\n",
       "2      38-0-0-0-0     38    38-0    38-0-0    38-0-0-0\n",
       "3       3-0-0-0-0      3     3-0     3-0-0     3-0-0-0\n",
       "4    38-125-0-0-0     38  38-125  38-125-0  38-125-0-0\n",
       "..            ...    ...     ...       ...         ...\n",
       "150   2-117-0-0-0      2   2-117   2-117-0   2-117-0-0\n",
       "151   2-92-81-0-0      2    2-92   2-92-81   2-92-81-0\n",
       "152  2-86-174-0-0      2    2-86  2-86-174  2-86-174-0\n",
       "153   21-83-0-0-0     21   21-83   21-83-0   21-83-0-0\n",
       "154    14-0-0-0-0     14    14-0    14-0-0    14-0-0-0\n",
       "\n",
       "[155 rows x 5 columns]"
      ]
     },
     "execution_count": 253,
     "metadata": {},
     "output_type": "execute_result"
    }
   ],
   "source": [
    "categories_df"
   ]
  },
  {
   "cell_type": "code",
   "execution_count": 254,
   "id": "1c4326bd-6d17-4857-b29c-9fc868e7561d",
   "metadata": {},
   "outputs": [],
   "source": [
    "def get_labels_name(x,genres_df):\n",
    "    levels = 5\n",
    "    full_name = []\n",
    "    last_level = 0\n",
    "    genre_root = \"\"\n",
    "    for genre in x.split('-'):\n",
    "        genre_df = genres_df[genres_df['genre_id'] == int(genre)]\n",
    "        if genre_df.empty:\n",
    "            genre_name = genre_root \n",
    "        else:\n",
    "            genre_name = genre_df.title.values.tolist()[0]\n",
    "            genre_root = genre_name\n",
    "        \n",
    "        full_name.append(genre_name)\n",
    "    full_name = '>'.join(full_name)\n",
    "        \n",
    "    return full_name\n",
    "    # return genres_df[genres_df['genre_id'] == int(x)].title.values.tolist()[0]"
   ]
  },
  {
   "cell_type": "code",
   "execution_count": 255,
   "id": "5fa16276-5e41-4ee5-821b-dabd1620c76c",
   "metadata": {},
   "outputs": [],
   "source": [
    "categories_df['level5_name'] = categories_df.level5.apply(lambda x: get_labels_name(x,genres_df))"
   ]
  },
  {
   "cell_type": "code",
   "execution_count": 256,
   "id": "2d2099b6-cf3b-47ae-bca2-7d2cc8a1cb8d",
   "metadata": {},
   "outputs": [
    {
     "data": {
      "text/html": [
       "<div>\n",
       "<style scoped>\n",
       "    .dataframe tbody tr th:only-of-type {\n",
       "        vertical-align: middle;\n",
       "    }\n",
       "\n",
       "    .dataframe tbody tr th {\n",
       "        vertical-align: top;\n",
       "    }\n",
       "\n",
       "    .dataframe thead th {\n",
       "        text-align: right;\n",
       "    }\n",
       "</style>\n",
       "<table border=\"1\" class=\"dataframe\">\n",
       "  <thead>\n",
       "    <tr style=\"text-align: right;\">\n",
       "      <th></th>\n",
       "      <th>level5</th>\n",
       "      <th>level1</th>\n",
       "      <th>level2</th>\n",
       "      <th>level3</th>\n",
       "      <th>level4</th>\n",
       "      <th>level5_name</th>\n",
       "    </tr>\n",
       "  </thead>\n",
       "  <tbody>\n",
       "    <tr>\n",
       "      <th>0</th>\n",
       "      <td>21-0-0-0-0</td>\n",
       "      <td>21</td>\n",
       "      <td>21-0</td>\n",
       "      <td>21-0-0</td>\n",
       "      <td>21-0-0-0</td>\n",
       "      <td>Hip-Hop&gt;Hip-Hop&gt;Hip-Hop&gt;Hip-Hop&gt;Hip-Hop</td>\n",
       "    </tr>\n",
       "    <tr>\n",
       "      <th>1</th>\n",
       "      <td>15-495-0-0-0</td>\n",
       "      <td>15</td>\n",
       "      <td>15-495</td>\n",
       "      <td>15-495-0</td>\n",
       "      <td>15-495-0-0</td>\n",
       "      <td>Electronic&gt;Downtempo&gt;Downtempo&gt;Downtempo&gt;Downt...</td>\n",
       "    </tr>\n",
       "    <tr>\n",
       "      <th>2</th>\n",
       "      <td>38-0-0-0-0</td>\n",
       "      <td>38</td>\n",
       "      <td>38-0</td>\n",
       "      <td>38-0-0</td>\n",
       "      <td>38-0-0-0</td>\n",
       "      <td>Experimental&gt;Experimental&gt;Experimental&gt;Experim...</td>\n",
       "    </tr>\n",
       "    <tr>\n",
       "      <th>3</th>\n",
       "      <td>3-0-0-0-0</td>\n",
       "      <td>3</td>\n",
       "      <td>3-0</td>\n",
       "      <td>3-0-0</td>\n",
       "      <td>3-0-0-0</td>\n",
       "      <td>Blues&gt;Blues&gt;Blues&gt;Blues&gt;Blues</td>\n",
       "    </tr>\n",
       "    <tr>\n",
       "      <th>4</th>\n",
       "      <td>38-125-0-0-0</td>\n",
       "      <td>38</td>\n",
       "      <td>38-125</td>\n",
       "      <td>38-125-0</td>\n",
       "      <td>38-125-0-0</td>\n",
       "      <td>Experimental&gt;Unclassifiable&gt;Unclassifiable&gt;Unc...</td>\n",
       "    </tr>\n",
       "    <tr>\n",
       "      <th>...</th>\n",
       "      <td>...</td>\n",
       "      <td>...</td>\n",
       "      <td>...</td>\n",
       "      <td>...</td>\n",
       "      <td>...</td>\n",
       "      <td>...</td>\n",
       "    </tr>\n",
       "    <tr>\n",
       "      <th>150</th>\n",
       "      <td>2-117-0-0-0</td>\n",
       "      <td>2</td>\n",
       "      <td>2-117</td>\n",
       "      <td>2-117-0</td>\n",
       "      <td>2-117-0-0</td>\n",
       "      <td>International&gt;Polka&gt;Polka&gt;Polka&gt;Polka</td>\n",
       "    </tr>\n",
       "    <tr>\n",
       "      <th>151</th>\n",
       "      <td>2-92-81-0-0</td>\n",
       "      <td>2</td>\n",
       "      <td>2-92</td>\n",
       "      <td>2-92-81</td>\n",
       "      <td>2-92-81-0</td>\n",
       "      <td>International&gt;African&gt;Afrobeat&gt;Afrobeat&gt;Afrobeat</td>\n",
       "    </tr>\n",
       "    <tr>\n",
       "      <th>152</th>\n",
       "      <td>2-86-174-0-0</td>\n",
       "      <td>2</td>\n",
       "      <td>2-86</td>\n",
       "      <td>2-86-174</td>\n",
       "      <td>2-86-174-0</td>\n",
       "      <td>International&gt;Indian&gt;South Indian Traditional&gt;...</td>\n",
       "    </tr>\n",
       "    <tr>\n",
       "      <th>153</th>\n",
       "      <td>21-83-0-0-0</td>\n",
       "      <td>21</td>\n",
       "      <td>21-83</td>\n",
       "      <td>21-83-0</td>\n",
       "      <td>21-83-0-0</td>\n",
       "      <td>Hip-Hop&gt;Nerdcore&gt;Nerdcore&gt;Nerdcore&gt;Nerdcore</td>\n",
       "    </tr>\n",
       "    <tr>\n",
       "      <th>154</th>\n",
       "      <td>14-0-0-0-0</td>\n",
       "      <td>14</td>\n",
       "      <td>14-0</td>\n",
       "      <td>14-0-0</td>\n",
       "      <td>14-0-0-0</td>\n",
       "      <td>Soul-RnB&gt;Soul-RnB&gt;Soul-RnB&gt;Soul-RnB&gt;Soul-RnB</td>\n",
       "    </tr>\n",
       "  </tbody>\n",
       "</table>\n",
       "<p>155 rows × 6 columns</p>\n",
       "</div>"
      ],
      "text/plain": [
       "           level5 level1  level2    level3      level4  \\\n",
       "0      21-0-0-0-0     21    21-0    21-0-0    21-0-0-0   \n",
       "1    15-495-0-0-0     15  15-495  15-495-0  15-495-0-0   \n",
       "2      38-0-0-0-0     38    38-0    38-0-0    38-0-0-0   \n",
       "3       3-0-0-0-0      3     3-0     3-0-0     3-0-0-0   \n",
       "4    38-125-0-0-0     38  38-125  38-125-0  38-125-0-0   \n",
       "..            ...    ...     ...       ...         ...   \n",
       "150   2-117-0-0-0      2   2-117   2-117-0   2-117-0-0   \n",
       "151   2-92-81-0-0      2    2-92   2-92-81   2-92-81-0   \n",
       "152  2-86-174-0-0      2    2-86  2-86-174  2-86-174-0   \n",
       "153   21-83-0-0-0     21   21-83   21-83-0   21-83-0-0   \n",
       "154    14-0-0-0-0     14    14-0    14-0-0    14-0-0-0   \n",
       "\n",
       "                                           level5_name  \n",
       "0              Hip-Hop>Hip-Hop>Hip-Hop>Hip-Hop>Hip-Hop  \n",
       "1    Electronic>Downtempo>Downtempo>Downtempo>Downt...  \n",
       "2    Experimental>Experimental>Experimental>Experim...  \n",
       "3                        Blues>Blues>Blues>Blues>Blues  \n",
       "4    Experimental>Unclassifiable>Unclassifiable>Unc...  \n",
       "..                                                 ...  \n",
       "150              International>Polka>Polka>Polka>Polka  \n",
       "151   International>African>Afrobeat>Afrobeat>Afrobeat  \n",
       "152  International>Indian>South Indian Traditional>...  \n",
       "153        Hip-Hop>Nerdcore>Nerdcore>Nerdcore>Nerdcore  \n",
       "154       Soul-RnB>Soul-RnB>Soul-RnB>Soul-RnB>Soul-RnB  \n",
       "\n",
       "[155 rows x 6 columns]"
      ]
     },
     "execution_count": 256,
     "metadata": {},
     "output_type": "execute_result"
    }
   ],
   "source": [
    "categories_df"
   ]
  },
  {
   "cell_type": "code",
   "execution_count": 257,
   "id": "c2ced721-6c30-46da-95b5-a28b84b6a2a4",
   "metadata": {},
   "outputs": [],
   "source": [
    "def __create_labels__(categories_df):\n",
    "    data = {\n",
    "        \"label1\": {},\n",
    "        \"label2\": {},\n",
    "        \"label3\": {},\n",
    "        \"label4\": {},\n",
    "        \"label5\": {},\n",
    "        \"label1_inverse\": [],\n",
    "        \"label2_inverse\": [],\n",
    "        \"label3_inverse\": [],\n",
    "        \"label4_inverse\": [],\n",
    "        \"label5_inverse\": [],\n",
    "        \"label1_name\": {},\n",
    "        \"label2_name\": {},\n",
    "        \"label3_name\": {},\n",
    "        \"label4_name\": {},\n",
    "        \"label5_name\": {},\n",
    "    }\n",
    "\n",
    "    for idx, cat in enumerate(set(categories_df.level1.values.tolist())):\n",
    "        data['label1'][cat] = idx\n",
    "        data['label1_inverse'].append(cat)\n",
    "        data['label1_count'] = idx + 1\n",
    "\n",
    "    for idx, cat in enumerate(set(categories_df.level2.values.tolist())):\n",
    "        data['label2'][cat] = idx\n",
    "        data['label2_inverse'].append(cat)\n",
    "        data['label2_count'] = idx + 1\n",
    "        \n",
    "    for idx, cat in enumerate(set(categories_df.level3.values.tolist())):\n",
    "        data['label3'][cat] = idx\n",
    "        data['label3_inverse'].append(cat)\n",
    "        data['label3_count'] = idx + 1\n",
    "\n",
    "    for idx, cat in enumerate(set(categories_df.level4.values.tolist())):\n",
    "        data['label4'][cat] = idx\n",
    "        data['label4_inverse'].append(cat)\n",
    "        data['label4_count'] = idx + 1\n",
    "        \n",
    "    for idx, cat in enumerate(set(categories_df.level5.values.tolist())):\n",
    "        data['label5'][cat] = idx\n",
    "        data['label5_inverse'].append(cat)\n",
    "        data['label5_count'] = idx + 1\n",
    "        \n",
    "    for cat5,cat1,cat2,cat3,cat4,name5 in categories_df.values:\n",
    "        \n",
    "        name1 = '>'.join(name5.split('>')[:1])\n",
    "        name2 = '>'.join(name5.split('>')[:2])\n",
    "        name3 = '>'.join(name5.split('>')[:3])\n",
    "        name4 = '>'.join(name5.split('>')[:4])\n",
    "        \n",
    "        \n",
    "        data['label1_name'][cat1] = name1\n",
    "        data['label2_name'][cat2] = name2\n",
    "        data['label3_name'][cat3] = name3\n",
    "        data['label4_name'][cat4] = name4\n",
    "        data['label5_name'][cat5] = name5\n",
    "        \n",
    "    return data"
   ]
  },
  {
   "cell_type": "code",
   "execution_count": 258,
   "id": "e7ccc947-b7ae-464d-a325-d61aa3cf5710",
   "metadata": {},
   "outputs": [],
   "source": [
    "with open(categories_labels_path, 'w+') as f:\n",
    "    f.write(json.dumps(__create_labels__(categories_df)))"
   ]
  },
  {
   "cell_type": "code",
   "execution_count": 259,
   "id": "3778cc5d-7def-4a1d-9f5b-b141bd08356c",
   "metadata": {},
   "outputs": [],
   "source": [
    "labels  = __create_labels__(categories_df)"
   ]
  },
  {
   "cell_type": "code",
   "execution_count": 260,
   "id": "a6b67e97-0813-492e-8323-f8588ca8d120",
   "metadata": {},
   "outputs": [
    {
     "data": {
      "text/plain": [
       "{'21-0-0': 'Hip-Hop>Hip-Hop>Hip-Hop',\n",
       " '15-495-0': 'Electronic>Downtempo>Downtempo',\n",
       " '38-0-0': 'Experimental>Experimental>Experimental',\n",
       " '3-0-0': 'Blues>Blues>Blues',\n",
       " '38-125-0': 'Experimental>Unclassifiable>Unclassifiable',\n",
       " '10-76-0': 'Pop>Experimental Pop>Experimental Pop',\n",
       " '1235-0-0': 'Instrumental>Instrumental>Instrumental',\n",
       " '12-25-89': 'Rock>Punk>Post-Punk',\n",
       " '15-181-0': 'Electronic>Techno>Techno',\n",
       " '15-236-0': 'Electronic>IDM>IDM',\n",
       " '15-297-0': 'Electronic>Chip Music>Chip Music',\n",
       " '12-25-111': 'Rock>Punk>Power-Pop',\n",
       " '15-468-0': 'Electronic>Dubstep>Dubstep',\n",
       " '38-247-0': 'Experimental>Musique Concrete>Musique Concrete',\n",
       " '21-542-0': 'Hip-Hop>Breakbeat>Breakbeat',\n",
       " '15-42-0': 'Electronic>Ambient Electronic>Ambient Electronic',\n",
       " '15-0-0': 'Electronic>Electronic>Electronic',\n",
       " '12-45-53': 'Rock>Loud-Rock>Noise-Rock',\n",
       " '15-286-0': 'Electronic>Trip-Hop>Trip-Hop',\n",
       " '10-362-0': 'Pop>Synth Pop>Synth Pop',\n",
       " '12-0-0': 'Rock>Rock>Rock',\n",
       " '38-250-0': 'Experimental>Improv>Improv',\n",
       " '1235-107-0': 'Instrumental>Ambient>Ambient',\n",
       " '10-0-0': 'Pop>Pop>Pop',\n",
       " '38-41-0': 'Experimental>Electroacoustic>Electroacoustic',\n",
       " '17-103-0': 'Folk>Singer-Songwriter>Singer-Songwriter',\n",
       " '4-74-0': 'Jazz>Free-Jazz>Free-Jazz',\n",
       " '9-137-0': 'Country>Americana>Americana',\n",
       " '38-32-0': 'Experimental>Noise>Noise',\n",
       " '21-580-0': 'Hip-Hop>Abstract Hip-Hop>Abstract Hip-Hop',\n",
       " '38-186-0': 'Experimental>Sound Poetry>Sound Poetry',\n",
       " '5-322-0': 'Classical>Composed Music>Composed Music',\n",
       " '17-180-0': 'Folk>British Folk>British Folk',\n",
       " '12-85-0': 'Rock>Garage>Garage',\n",
       " '1235-18-538': 'Instrumental>Soundtrack>Compilation',\n",
       " '14-19-0': 'Soul-RnB>Funk>Funk',\n",
       " '12-27-0': 'Rock>Lo-Fi>Lo-Fi',\n",
       " '2-504-0': 'International>Latin>Latin',\n",
       " '21-100-0': 'Hip-Hop>Alternative Hip-Hop>Alternative Hip-Hop',\n",
       " '17-94-0': 'Folk>Freak-Folk>Freak-Folk',\n",
       " '12-25-109': 'Rock>Punk>Hardcore',\n",
       " '15-184-0': 'Electronic>Minimal Electronic>Minimal Electronic',\n",
       " '2-102-0': 'International>Middle East>Middle East',\n",
       " '38-30-0': 'Experimental>Field Recordings>Field Recordings',\n",
       " '12-66-0': 'Rock>Indie-Rock>Indie-Rock',\n",
       " '12-31-439': 'Rock>Metal>Grindcore',\n",
       " '12-25-0': 'Rock>Punk>Punk',\n",
       " '15-296-0': 'Electronic>Dance>Dance',\n",
       " '2-79-0': 'International>Reggae - Dub>Reggae - Dub',\n",
       " '38-224-0': 'Experimental>Sound Collage>Sound Collage',\n",
       " '1235-18-0': 'Instrumental>Soundtrack>Soundtrack',\n",
       " '2-46-0': 'International>Latin America>Latin America',\n",
       " '12-58-0': 'Rock>Psych-Rock>Psych-Rock',\n",
       " '4-179-0': 'Jazz>Big Band/Swing>Big Band/Swing',\n",
       " '12-359-0': 'Rock>Shoegaze>Shoegaze',\n",
       " '2-77-0': 'International>French>French',\n",
       " '12-314-0': 'Rock>Goth>Goth',\n",
       " '12-25-71': 'Rock>Punk>No Wave',\n",
       " '15-183-0': 'Electronic>Glitch>Glitch',\n",
       " '38-22-0': 'Experimental>Audio Collage>Audio Collage',\n",
       " '8-0-0': 'Old-Time / Historic>Old-Time / Historic>Old-Time / Historic',\n",
       " '15-185-0': 'Electronic>Breakcore - Hard>Breakcore - Hard',\n",
       " '15-337-0': 'Electronic>Drum & Bass>Drum & Bass',\n",
       " '5-659-0': 'Classical>Contemporary Classical>Contemporary Classical',\n",
       " '12-31-0': 'Rock>Metal>Metal',\n",
       " '20-428-0': 'Spoken>Radio Theater>Radio Theater',\n",
       " '20-0-0': 'Spoken>Spoken>Spoken',\n",
       " '5-443-0': 'Classical>Choral Music>Choral Music',\n",
       " '13-170-0': 'Easy Listening>Easy Listening: Vocal>Easy Listening: Vocal',\n",
       " '20-65-0': 'Spoken>Radio>Radio',\n",
       " '38-47-0': 'Experimental>Drone>Drone',\n",
       " '17-0-0': 'Folk>Folk>Folk',\n",
       " '38-456-0': 'Experimental>Minimalism>Minimalism',\n",
       " '15-182-400': 'Electronic>House>Chill-out',\n",
       " '38-1-0': 'Experimental>Avant-Garde>Avant-Garde',\n",
       " '2-130-1156': 'International>Europe>Fado',\n",
       " '20-378-0': 'Spoken>Spoken Word>Spoken Word',\n",
       " '12-70-0': 'Rock>Industrial>Industrial',\n",
       " '1235-267-0': 'Instrumental>New Age>New Age',\n",
       " '21-539-0': 'Hip-Hop>Rap>Rap',\n",
       " '17-33-0': 'Folk>Psych-Folk>Psych-Folk',\n",
       " '12-440-0': 'Rock>Rock Opera>Rock Opera',\n",
       " '21-811-0': 'Hip-Hop>Hip-Hop Beats>Hip-Hop Beats',\n",
       " '13-311-0': 'Easy Listening>Lounge>Lounge',\n",
       " '20-138-0': 'Spoken>Spoken Weird>Spoken Weird',\n",
       " '9-651-0': 'Country>Country & Western>Country & Western',\n",
       " '4-0-0': 'Jazz>Jazz>Jazz',\n",
       " '2-86-0': 'International>Indian>Indian',\n",
       " '12-26-113': 'Rock>Post-Rock>Space-Rock',\n",
       " '2-46-808': 'International>Latin America>Salsa',\n",
       " '2-171-0': 'International>Brazilian>Brazilian',\n",
       " '12-31-101': 'Rock>Metal>Death-Metal',\n",
       " '15-297-240': 'Electronic>Chip Music>Chiptune',\n",
       " '12-26-0': 'Rock>Post-Rock>Post-Rock',\n",
       " '12-88-0': 'Rock>New Wave>New Wave',\n",
       " '15-695-0': 'Electronic>Jungle>Jungle',\n",
       " '5-442-0': 'Classical>Chamber Music>Chamber Music',\n",
       " '12-98-0': 'Rock>Progressive>Progressive',\n",
       " '4-97-0': 'Jazz>Jazz: Out>Jazz: Out',\n",
       " '38-514-0': 'Experimental>Sound Art>Sound Art',\n",
       " '5-0-0': 'Classical>Classical>Classical',\n",
       " '12-85-404': 'Rock>Garage>Surf',\n",
       " '15-181-401': 'Electronic>Techno>Bigbeat',\n",
       " '12-36-0': 'Rock>Krautrock>Krautrock',\n",
       " '13-810-0': 'Easy Listening>Nu-Jazz>Nu-Jazz',\n",
       " '17-49-0': 'Folk>Free-Folk>Free-Folk',\n",
       " '38-6-16': 'Experimental>Novelty>Sound Effects',\n",
       " '15-182-0': 'Electronic>House>House',\n",
       " '20-188-0': 'Spoken>Poetry>Poetry',\n",
       " '14-11-0': 'Soul-RnB>Disco>Disco',\n",
       " '2-172-0': 'International>Asia-Far East>Asia-Far East',\n",
       " '2-130-0': 'International>Europe>Europe',\n",
       " '4-37-0': 'Jazz>Jazz: Vocal>Jazz: Vocal',\n",
       " '2-92-0': 'International>African>African',\n",
       " '12-25-64': 'Rock>Punk>Electro-Punk',\n",
       " '5-441-0': 'Classical>Opera>Opera',\n",
       " '2-0-0': 'International>International>International',\n",
       " '2-79-602': 'International>Reggae - Dub>Reggae - Dancehall',\n",
       " '9-63-0': 'Country>Bluegrass>Bluegrass',\n",
       " '2-46-1060': 'International>Latin America>Tango',\n",
       " '2-118-0': 'International>Balkan>Balkan',\n",
       " '38-6-360': 'Experimental>Novelty>Kid-Friendly',\n",
       " '5-187-0': 'Classical>20th Century Classical>20th Century Classical',\n",
       " '2-130-619': 'International>Europe>Spanish',\n",
       " '2-130-524': 'International>Europe>Romany (Gypsy)',\n",
       " '2-232-0': 'International>Flamenco>Flamenco',\n",
       " '2-102-1032': 'International>Middle East>Turkish',\n",
       " '20-65-166': 'Spoken>Radio>Interview',\n",
       " '20-65-43': 'Spoken>Radio>Radio Art',\n",
       " '12-45-0': 'Rock>Loud-Rock>Loud-Rock',\n",
       " '3-567-0': 'Blues>Gospel>Gospel',\n",
       " '15-468-491': 'Electronic>Dubstep>Skweee',\n",
       " '12-31-167': 'Rock>Metal>Black-Metal',\n",
       " '4-906-0': 'Jazz>Modern Jazz>Modern Jazz',\n",
       " '21-693-0': 'Hip-Hop>Wonky>Wonky',\n",
       " '2-177-0': 'International>Celtic>Celtic',\n",
       " '2-92-214': 'International>African>North African',\n",
       " '2-86-173': 'International>Indian>N. Indian Traditional',\n",
       " '38-6-0': 'Experimental>Novelty>Novelty',\n",
       " '20-465-0': 'Spoken>Musical Theater>Musical Theater',\n",
       " '9-169-0': 'Country>Rockabilly>Rockabilly',\n",
       " '2-46-502': 'International>Latin America>Cumbia',\n",
       " '2-130-741': 'International>Europe>Klezmer',\n",
       " '20-65-189': 'Spoken>Radio>Talk Radio',\n",
       " '9-0-0': 'Country>Country>Country',\n",
       " '13-0-0': 'Easy Listening>Easy Listening>Easy Listening',\n",
       " '2-176-0': 'International>Pacific>Pacific',\n",
       " '2-117-0': 'International>Polka>Polka',\n",
       " '2-92-81': 'International>African>Afrobeat',\n",
       " '2-86-174': 'International>Indian>South Indian Traditional',\n",
       " '21-83-0': 'Hip-Hop>Nerdcore>Nerdcore',\n",
       " '14-0-0': 'Soul-RnB>Soul-RnB>Soul-RnB'}"
      ]
     },
     "execution_count": 260,
     "metadata": {},
     "output_type": "execute_result"
    }
   ],
   "source": [
    "labels['label3_name']"
   ]
  },
  {
   "cell_type": "code",
   "execution_count": null,
   "id": "e46280a6-ab57-47d3-b832-ab13827821e0",
   "metadata": {},
   "outputs": [],
   "source": []
  },
  {
   "cell_type": "code",
   "execution_count": null,
   "id": "5f772cb8-c59b-4212-9183-9af9896b1431",
   "metadata": {},
   "outputs": [],
   "source": []
  },
  {
   "cell_type": "code",
   "execution_count": null,
   "id": "c2fbf5a8-f72e-4ee9-b3b9-4793473be02d",
   "metadata": {},
   "outputs": [],
   "source": []
  }
 ],
 "metadata": {
  "kernelspec": {
   "display_name": "Python 3 (ipykernel)",
   "language": "python",
   "name": "python3"
  },
  "language_info": {
   "codemirror_mode": {
    "name": "ipython",
    "version": 3
   },
   "file_extension": ".py",
   "mimetype": "text/x-python",
   "name": "python",
   "nbconvert_exporter": "python",
   "pygments_lexer": "ipython3",
   "version": "3.9.16"
  }
 },
 "nbformat": 4,
 "nbformat_minor": 5
}
