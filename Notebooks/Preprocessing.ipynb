{
 "cells": [
  {
   "cell_type": "code",
   "execution_count": 1,
   "id": "4843caad-aa4a-420d-81f8-dcc1189318c6",
   "metadata": {
    "tags": []
   },
   "outputs": [
    {
     "name": "stderr",
     "output_type": "stream",
     "text": [
      "2023-05-15 15:21:16.040651: I tensorflow/core/platform/cpu_feature_guard.cc:182] This TensorFlow binary is optimized to use available CPU instructions in performance-critical operations.\n",
      "To enable the following instructions: AVX2 AVX512F FMA, in other operations, rebuild TensorFlow with the appropriate compiler flags.\n",
      "2023-05-15 15:21:16.568525: W tensorflow/compiler/tf2tensorrt/utils/py_utils.cc:38] TF-TRT Warning: Could not find TensorRT\n"
     ]
    }
   ],
   "source": [
    "import pandas as pd\n",
    "import numpy as np\n",
    "import tensorflow as tf\n",
    "import json\n",
    "import ast\n",
    "import os\n",
    "import csv\n",
    "import math\n",
    "from sklearn.utils import shuffle\n",
    "from math import ceil\n",
    "\n",
    "from sklearn.model_selection import train_test_split\n",
    "from tqdm.notebook import tqdm"
   ]
  },
  {
   "cell_type": "code",
   "execution_count": 2,
   "id": "47f36844-bc15-46f4-8994-6744042b62cd",
   "metadata": {},
   "outputs": [],
   "source": [
    "tqdm.pandas()"
   ]
  },
  {
   "cell_type": "code",
   "execution_count": 3,
   "id": "194b058a-a5c5-4d87-817d-aeb9e833cc2b",
   "metadata": {},
   "outputs": [],
   "source": [
    "\n",
    "args = pd.Series({\n",
    "    \"root_dir\":\"/mnt/disks/data/\",\n",
    "    \"dataset_path\":\"/mnt/disks/data/fma/fma_large\",\n",
    "    \"embeddings\":\"music_style\",\n",
    "    \"sequence_size\": 1280,\n",
    "    \"train_id\": \"hierarchical_single\",\n",
    "    'sample_size': 1\n",
    "})\n"
   ]
  },
  {
   "cell_type": "code",
   "execution_count": 4,
   "id": "87f3fe25-bd80-4976-ba77-ab30589a9cd6",
   "metadata": {},
   "outputs": [],
   "source": [
    "\n",
    "job_path = \"/mnt/disks/data/fma/trains\"\n",
    "\n",
    "# In[15]:\n",
    "\n",
    "train_path = os.path.join(job_path,args.train_id)\n",
    "\n",
    "\n",
    "tfrecord_path = os.path.join(train_path,\"tfrecords\")\n",
    "\n",
    "# In[16]:\n",
    "\n",
    "base_path = os.path.join(args.root_dir,\"fma\")\n",
    "\n",
    "# In[17]:\n",
    "\n",
    "models_path = os.path.join(args.root_dir,\"models\")\n",
    "\n",
    "\n",
    "metadata_path_fma = os.path.join(base_path,\"fma_metadata\")\n",
    "\n",
    "# In[18]:\n",
    "\n",
    "metadata_path = os.path.join(train_path,\"metadata.json\")\n",
    "\n",
    "\n",
    "categories_labels_path = os.path.join(train_path,\"labels.json\")\n"
   ]
  },
  {
   "cell_type": "code",
   "execution_count": 5,
   "id": "ffea2009-fdc3-425e-bd6b-a67696ab24da",
   "metadata": {},
   "outputs": [],
   "source": [
    "\n",
    "\n",
    "def __load_json__(path):\n",
    "    with open(path, 'r') as f:\n",
    "        tmp = json.loads(f.read())\n",
    "\n",
    "    return tmp\n",
    "\n",
    "\n"
   ]
  },
  {
   "cell_type": "code",
   "execution_count": 6,
   "id": "b413d7a2",
   "metadata": {},
   "outputs": [],
   "source": [
    "\n",
    "def create_dir(path):\n",
    "    # checking if the directory demo_folder2 \n",
    "    # exist or not.\n",
    "    if not os.path.isdir(path):\n",
    "\n",
    "        # if the demo_folder2 directory is \n",
    "        # not present then create it.\n",
    "        os.makedirs(path)\n",
    "    return True\n",
    "\n"
   ]
  },
  {
   "cell_type": "code",
   "execution_count": 7,
   "id": "be2f0fcc",
   "metadata": {},
   "outputs": [
    {
     "data": {
      "text/plain": [
       "True"
      ]
     },
     "execution_count": 7,
     "metadata": {},
     "output_type": "execute_result"
    }
   ],
   "source": [
    "create_dir(train_path)"
   ]
  },
  {
   "cell_type": "markdown",
   "id": "6ab3d0b4-fc7f-4c73-b0cc-9d89729bae84",
   "metadata": {
    "tags": []
   },
   "source": [
    "## Load genres file. Contains relationships beetwen genres"
   ]
  },
  {
   "cell_type": "code",
   "execution_count": 8,
   "id": "7596e665-526e-400b-93ad-432cb7eb0d79",
   "metadata": {},
   "outputs": [],
   "source": [
    "genres_df = pd.read_csv(os.path.join(metadata_path_fma,'genres.csv'))\n"
   ]
  },
  {
   "cell_type": "code",
   "execution_count": 9,
   "id": "582b4335-bf69-4c9a-873e-ffd8253ede25",
   "metadata": {},
   "outputs": [
    {
     "data": {
      "text/html": [
       "<div>\n",
       "<style scoped>\n",
       "    .dataframe tbody tr th:only-of-type {\n",
       "        vertical-align: middle;\n",
       "    }\n",
       "\n",
       "    .dataframe tbody tr th {\n",
       "        vertical-align: top;\n",
       "    }\n",
       "\n",
       "    .dataframe thead th {\n",
       "        text-align: right;\n",
       "    }\n",
       "</style>\n",
       "<table border=\"1\" class=\"dataframe\">\n",
       "  <thead>\n",
       "    <tr style=\"text-align: right;\">\n",
       "      <th></th>\n",
       "      <th>genre_id</th>\n",
       "      <th>#tracks</th>\n",
       "      <th>parent</th>\n",
       "      <th>title</th>\n",
       "      <th>top_level</th>\n",
       "    </tr>\n",
       "  </thead>\n",
       "  <tbody>\n",
       "    <tr>\n",
       "      <th>0</th>\n",
       "      <td>1</td>\n",
       "      <td>8693</td>\n",
       "      <td>38</td>\n",
       "      <td>Avant-Garde</td>\n",
       "      <td>38</td>\n",
       "    </tr>\n",
       "    <tr>\n",
       "      <th>1</th>\n",
       "      <td>2</td>\n",
       "      <td>5271</td>\n",
       "      <td>0</td>\n",
       "      <td>International</td>\n",
       "      <td>2</td>\n",
       "    </tr>\n",
       "    <tr>\n",
       "      <th>2</th>\n",
       "      <td>3</td>\n",
       "      <td>1752</td>\n",
       "      <td>0</td>\n",
       "      <td>Blues</td>\n",
       "      <td>3</td>\n",
       "    </tr>\n",
       "    <tr>\n",
       "      <th>3</th>\n",
       "      <td>4</td>\n",
       "      <td>4126</td>\n",
       "      <td>0</td>\n",
       "      <td>Jazz</td>\n",
       "      <td>4</td>\n",
       "    </tr>\n",
       "    <tr>\n",
       "      <th>4</th>\n",
       "      <td>5</td>\n",
       "      <td>4106</td>\n",
       "      <td>0</td>\n",
       "      <td>Classical</td>\n",
       "      <td>5</td>\n",
       "    </tr>\n",
       "    <tr>\n",
       "      <th>...</th>\n",
       "      <td>...</td>\n",
       "      <td>...</td>\n",
       "      <td>...</td>\n",
       "      <td>...</td>\n",
       "      <td>...</td>\n",
       "    </tr>\n",
       "    <tr>\n",
       "      <th>158</th>\n",
       "      <td>1032</td>\n",
       "      <td>60</td>\n",
       "      <td>102</td>\n",
       "      <td>Turkish</td>\n",
       "      <td>2</td>\n",
       "    </tr>\n",
       "    <tr>\n",
       "      <th>159</th>\n",
       "      <td>1060</td>\n",
       "      <td>30</td>\n",
       "      <td>46</td>\n",
       "      <td>Tango</td>\n",
       "      <td>2</td>\n",
       "    </tr>\n",
       "    <tr>\n",
       "      <th>160</th>\n",
       "      <td>1156</td>\n",
       "      <td>26</td>\n",
       "      <td>130</td>\n",
       "      <td>Fado</td>\n",
       "      <td>2</td>\n",
       "    </tr>\n",
       "    <tr>\n",
       "      <th>161</th>\n",
       "      <td>1193</td>\n",
       "      <td>72</td>\n",
       "      <td>763</td>\n",
       "      <td>Christmas</td>\n",
       "      <td>38</td>\n",
       "    </tr>\n",
       "    <tr>\n",
       "      <th>162</th>\n",
       "      <td>1235</td>\n",
       "      <td>14938</td>\n",
       "      <td>0</td>\n",
       "      <td>Instrumental</td>\n",
       "      <td>1235</td>\n",
       "    </tr>\n",
       "  </tbody>\n",
       "</table>\n",
       "<p>163 rows × 5 columns</p>\n",
       "</div>"
      ],
      "text/plain": [
       "     genre_id  #tracks  parent          title  top_level\n",
       "0           1     8693      38    Avant-Garde         38\n",
       "1           2     5271       0  International          2\n",
       "2           3     1752       0          Blues          3\n",
       "3           4     4126       0           Jazz          4\n",
       "4           5     4106       0      Classical          5\n",
       "..        ...      ...     ...            ...        ...\n",
       "158      1032       60     102        Turkish          2\n",
       "159      1060       30      46          Tango          2\n",
       "160      1156       26     130           Fado          2\n",
       "161      1193       72     763      Christmas         38\n",
       "162      1235    14938       0   Instrumental       1235\n",
       "\n",
       "[163 rows x 5 columns]"
      ]
     },
     "execution_count": 9,
     "metadata": {},
     "output_type": "execute_result"
    }
   ],
   "source": [
    "genres_df"
   ]
  },
  {
   "cell_type": "code",
   "execution_count": 10,
   "id": "d80be793-93db-4610-ae66-5f14bf99bd2b",
   "metadata": {},
   "outputs": [
    {
     "data": {
      "text/html": [
       "<div>\n",
       "<style scoped>\n",
       "    .dataframe tbody tr th:only-of-type {\n",
       "        vertical-align: middle;\n",
       "    }\n",
       "\n",
       "    .dataframe tbody tr th {\n",
       "        vertical-align: top;\n",
       "    }\n",
       "\n",
       "    .dataframe thead th {\n",
       "        text-align: right;\n",
       "    }\n",
       "</style>\n",
       "<table border=\"1\" class=\"dataframe\">\n",
       "  <thead>\n",
       "    <tr style=\"text-align: right;\">\n",
       "      <th></th>\n",
       "      <th>genre_id</th>\n",
       "      <th>#tracks</th>\n",
       "      <th>parent</th>\n",
       "      <th>title</th>\n",
       "      <th>top_level</th>\n",
       "    </tr>\n",
       "  </thead>\n",
       "  <tbody>\n",
       "    <tr>\n",
       "      <th>136</th>\n",
       "      <td>495</td>\n",
       "      <td>2061</td>\n",
       "      <td>15</td>\n",
       "      <td>Downtempo</td>\n",
       "      <td>15</td>\n",
       "    </tr>\n",
       "  </tbody>\n",
       "</table>\n",
       "</div>"
      ],
      "text/plain": [
       "     genre_id  #tracks  parent      title  top_level\n",
       "136       495     2061      15  Downtempo         15"
      ]
     },
     "execution_count": 10,
     "metadata": {},
     "output_type": "execute_result"
    }
   ],
   "source": [
    "genres_df[genres_df['genre_id'] == 495]"
   ]
  },
  {
   "cell_type": "code",
   "execution_count": 11,
   "id": "28762aaf-32a4-41a5-af9c-cee3eca712ad",
   "metadata": {},
   "outputs": [],
   "source": [
    "# Cria um dicionário que associa o ID de cada música aos IDs de seus gêneros musicais\n",
    "tracks_df = pd.read_csv(os.path.join(metadata_path_fma,'tracks_valid.csv'))"
   ]
  },
  {
   "cell_type": "code",
   "execution_count": 12,
   "id": "13ea402f-660b-4b95-8f91-563c01971578",
   "metadata": {},
   "outputs": [],
   "source": [
    "tracks_df = tracks_df.sample(frac=args.sample_size)"
   ]
  },
  {
   "cell_type": "code",
   "execution_count": 13,
   "id": "552289c1-6b0d-48a9-8cd9-a185c12f6c9a",
   "metadata": {},
   "outputs": [
    {
     "data": {
      "text/html": [
       "<div>\n",
       "<style scoped>\n",
       "    .dataframe tbody tr th:only-of-type {\n",
       "        vertical-align: middle;\n",
       "    }\n",
       "\n",
       "    .dataframe tbody tr th {\n",
       "        vertical-align: top;\n",
       "    }\n",
       "\n",
       "    .dataframe thead th {\n",
       "        text-align: right;\n",
       "    }\n",
       "</style>\n",
       "<table border=\"1\" class=\"dataframe\">\n",
       "  <thead>\n",
       "    <tr style=\"text-align: right;\">\n",
       "      <th></th>\n",
       "      <th>track_id</th>\n",
       "      <th>track_title</th>\n",
       "      <th>valid_genre</th>\n",
       "    </tr>\n",
       "  </thead>\n",
       "  <tbody>\n",
       "    <tr>\n",
       "      <th>47053</th>\n",
       "      <td>70637</td>\n",
       "      <td>Pentheus phase I</td>\n",
       "      <td>['70', '107']</td>\n",
       "    </tr>\n",
       "    <tr>\n",
       "      <th>58945</th>\n",
       "      <td>89905</td>\n",
       "      <td>Daybreak [#0517] (CK Re-Edit)</td>\n",
       "      <td>['1', '30', '38', '41', '247']</td>\n",
       "    </tr>\n",
       "    <tr>\n",
       "      <th>101711</th>\n",
       "      <td>151368</td>\n",
       "      <td>horselover fat</td>\n",
       "      <td>['70', '236']</td>\n",
       "    </tr>\n",
       "    <tr>\n",
       "      <th>92621</th>\n",
       "      <td>138724</td>\n",
       "      <td>Leaving</td>\n",
       "      <td>['107', '495']</td>\n",
       "    </tr>\n",
       "    <tr>\n",
       "      <th>13766</th>\n",
       "      <td>22548</td>\n",
       "      <td>One Thing</td>\n",
       "      <td>['12', '25', '85']</td>\n",
       "    </tr>\n",
       "    <tr>\n",
       "      <th>42175</th>\n",
       "      <td>63979</td>\n",
       "      <td>Decay III</td>\n",
       "      <td>['47', '107']</td>\n",
       "    </tr>\n",
       "    <tr>\n",
       "      <th>47688</th>\n",
       "      <td>71474</td>\n",
       "      <td>Interview</td>\n",
       "      <td>['66', '103', '111']</td>\n",
       "    </tr>\n",
       "    <tr>\n",
       "      <th>9613</th>\n",
       "      <td>16225</td>\n",
       "      <td>Babu po ebalu</td>\n",
       "      <td>['11', '15', '181', '182', '296']</td>\n",
       "    </tr>\n",
       "    <tr>\n",
       "      <th>29075</th>\n",
       "      <td>44915</td>\n",
       "      <td>Voices</td>\n",
       "      <td>['10', '27', '103']</td>\n",
       "    </tr>\n",
       "    <tr>\n",
       "      <th>8035</th>\n",
       "      <td>13943</td>\n",
       "      <td>there!</td>\n",
       "      <td>['38', '107', '224']</td>\n",
       "    </tr>\n",
       "    <tr>\n",
       "      <th>49061</th>\n",
       "      <td>73369</td>\n",
       "      <td>Remote</td>\n",
       "      <td>['15', '42', '495']</td>\n",
       "    </tr>\n",
       "    <tr>\n",
       "      <th>82150</th>\n",
       "      <td>124870</td>\n",
       "      <td>Five-O (Improvisation for Five Police Scanners...</td>\n",
       "      <td>['38']</td>\n",
       "    </tr>\n",
       "    <tr>\n",
       "      <th>57157</th>\n",
       "      <td>86071</td>\n",
       "      <td>Mortal Memory</td>\n",
       "      <td>['38', '70']</td>\n",
       "    </tr>\n",
       "    <tr>\n",
       "      <th>97023</th>\n",
       "      <td>144946</td>\n",
       "      <td>After All You Say (TSPMIX)</td>\n",
       "      <td>['10']</td>\n",
       "    </tr>\n",
       "    <tr>\n",
       "      <th>78647</th>\n",
       "      <td>120185</td>\n",
       "      <td>Orgia of Dead 2</td>\n",
       "      <td>['76']</td>\n",
       "    </tr>\n",
       "    <tr>\n",
       "      <th>79023</th>\n",
       "      <td>120665</td>\n",
       "      <td>Inclining Towards Pleasure</td>\n",
       "      <td>['1', '30', '38', '41', '247']</td>\n",
       "    </tr>\n",
       "    <tr>\n",
       "      <th>96865</th>\n",
       "      <td>144784</td>\n",
       "      <td>Oh My Gosh It Was You - Part 2</td>\n",
       "      <td>['15', '38', '42']</td>\n",
       "    </tr>\n",
       "    <tr>\n",
       "      <th>18705</th>\n",
       "      <td>30334</td>\n",
       "      <td>pipillon</td>\n",
       "      <td>['12', '27', '32']</td>\n",
       "    </tr>\n",
       "    <tr>\n",
       "      <th>67916</th>\n",
       "      <td>106355</td>\n",
       "      <td>mutante afectado</td>\n",
       "      <td>['74', '97', '250']</td>\n",
       "    </tr>\n",
       "    <tr>\n",
       "      <th>100534</th>\n",
       "      <td>149467</td>\n",
       "      <td>Man Of Misery</td>\n",
       "      <td>['12', '137']</td>\n",
       "    </tr>\n",
       "  </tbody>\n",
       "</table>\n",
       "</div>"
      ],
      "text/plain": [
       "        track_id                                        track_title   \n",
       "47053      70637                                   Pentheus phase I  \\\n",
       "58945      89905                      Daybreak [#0517] (CK Re-Edit)   \n",
       "101711    151368                                     horselover fat   \n",
       "92621     138724                                            Leaving   \n",
       "13766      22548                                          One Thing   \n",
       "42175      63979                                          Decay III   \n",
       "47688      71474                                          Interview   \n",
       "9613       16225                                      Babu po ebalu   \n",
       "29075      44915                                             Voices   \n",
       "8035       13943                                             there!   \n",
       "49061      73369                                             Remote   \n",
       "82150     124870  Five-O (Improvisation for Five Police Scanners...   \n",
       "57157      86071                                      Mortal Memory   \n",
       "97023     144946                         After All You Say (TSPMIX)   \n",
       "78647     120185                                    Orgia of Dead 2   \n",
       "79023     120665                         Inclining Towards Pleasure   \n",
       "96865     144784                     Oh My Gosh It Was You - Part 2   \n",
       "18705      30334                                           pipillon   \n",
       "67916     106355                                   mutante afectado   \n",
       "100534    149467                                      Man Of Misery   \n",
       "\n",
       "                              valid_genre  \n",
       "47053                       ['70', '107']  \n",
       "58945      ['1', '30', '38', '41', '247']  \n",
       "101711                      ['70', '236']  \n",
       "92621                      ['107', '495']  \n",
       "13766                  ['12', '25', '85']  \n",
       "42175                       ['47', '107']  \n",
       "47688                ['66', '103', '111']  \n",
       "9613    ['11', '15', '181', '182', '296']  \n",
       "29075                 ['10', '27', '103']  \n",
       "8035                 ['38', '107', '224']  \n",
       "49061                 ['15', '42', '495']  \n",
       "82150                              ['38']  \n",
       "57157                        ['38', '70']  \n",
       "97023                              ['10']  \n",
       "78647                              ['76']  \n",
       "79023      ['1', '30', '38', '41', '247']  \n",
       "96865                  ['15', '38', '42']  \n",
       "18705                  ['12', '27', '32']  \n",
       "67916                 ['74', '97', '250']  \n",
       "100534                      ['12', '137']  "
      ]
     },
     "execution_count": 13,
     "metadata": {},
     "output_type": "execute_result"
    }
   ],
   "source": [
    "tracks_df.sample(20)"
   ]
  },
  {
   "cell_type": "code",
   "execution_count": 14,
   "id": "fa6c0adc-32c6-4a14-a9aa-f0af12eacbf1",
   "metadata": {},
   "outputs": [
    {
     "data": {
      "text/plain": [
       "array([\"['32', '38']\", \"['43', '138']\", \"['468']\", ..., \"['15', '66']\",\n",
       "       \"['12']\", \"['15', '38', '811']\"], dtype=object)"
      ]
     },
     "execution_count": 14,
     "metadata": {},
     "output_type": "execute_result"
    }
   ],
   "source": [
    "tracks_df.valid_genre.values"
   ]
  },
  {
   "cell_type": "code",
   "execution_count": 15,
   "id": "31ad48bd-2868-46ed-81e6-02b6b26e2b1c",
   "metadata": {},
   "outputs": [
    {
     "data": {
      "text/plain": [
       "101695    Emphasis Between Strange Dreams\n",
       "27876                        In the Night\n",
       "26114                         Cotrol Clod\n",
       "103035          good looking instrumental\n",
       "78687           From Dreams to Melancholy\n",
       "                       ...               \n",
       "40842                            Potloque\n",
       "50295                   Holy Pain's World\n",
       "49868                             Refugee\n",
       "10532             Bad Form/American Cream\n",
       "61353                       I Never Could\n",
       "Name: track_title, Length: 104186, dtype: object"
      ]
     },
     "execution_count": 15,
     "metadata": {},
     "output_type": "execute_result"
    }
   ],
   "source": [
    "tracks_df.track_title"
   ]
  },
  {
   "cell_type": "code",
   "execution_count": 16,
   "id": "220d2eb1-95ba-41d8-9499-bd6278ef473a",
   "metadata": {},
   "outputs": [],
   "source": [
    "## Get complete genre structure\n",
    "def get_all_structure(estrutura,df_genres):\n",
    "    ## Get structure from df_genres\n",
    "    def get_all_structure_from_df(estrutura,df_genres,structure=[]):\n",
    "        if estrutura == 0:\n",
    "            return structure\n",
    "        else:\n",
    "            structure.append(int(estrutura))\n",
    "            get_all_structure_from_df(df_genres[df_genres[\"genre_id\"]==int(estrutura)].parent.values[0],df_genres,structure)\n",
    "            return structure\n",
    "    \n",
    "    return get_all_structure_from_df(estrutura,df_genres,structure=[])\n",
    "    "
   ]
  },
  {
   "cell_type": "code",
   "execution_count": 17,
   "id": "2e89c7be-57eb-46bf-8506-b966ab685b50",
   "metadata": {},
   "outputs": [],
   "source": [
    "# tracks_df['valid_genre'] = tracks_df.track_genres.apply(lambda x: x.strip('][').split(', ') if x != '[]' else None)\n",
    "tracks_df['valid_genre'] = tracks_df.valid_genre.apply(lambda x: ast.literal_eval(x))"
   ]
  },
  {
   "cell_type": "code",
   "execution_count": 18,
   "id": "b50f6d87-8a38-4b6a-92b7-c10a559de965",
   "metadata": {},
   "outputs": [],
   "source": [
    "tracks_df['last_genre_id'] = tracks_df.valid_genre.apply(lambda x:x[-1] if x != None else None)"
   ]
  },
  {
   "cell_type": "code",
   "execution_count": 19,
   "id": "5c1ccfaf-ad6a-4f6c-87d6-b6e8a74a8d0c",
   "metadata": {},
   "outputs": [
    {
     "data": {
      "text/html": [
       "<div>\n",
       "<style scoped>\n",
       "    .dataframe tbody tr th:only-of-type {\n",
       "        vertical-align: middle;\n",
       "    }\n",
       "\n",
       "    .dataframe tbody tr th {\n",
       "        vertical-align: top;\n",
       "    }\n",
       "\n",
       "    .dataframe thead th {\n",
       "        text-align: right;\n",
       "    }\n",
       "</style>\n",
       "<table border=\"1\" class=\"dataframe\">\n",
       "  <thead>\n",
       "    <tr style=\"text-align: right;\">\n",
       "      <th></th>\n",
       "      <th>track_id</th>\n",
       "      <th>track_title</th>\n",
       "      <th>valid_genre</th>\n",
       "      <th>last_genre_id</th>\n",
       "    </tr>\n",
       "  </thead>\n",
       "  <tbody>\n",
       "    <tr>\n",
       "      <th>81984</th>\n",
       "      <td>124652</td>\n",
       "      <td>Ice Cave [Loop]</td>\n",
       "      <td>[18, 66, 240]</td>\n",
       "      <td>240</td>\n",
       "    </tr>\n",
       "    <tr>\n",
       "      <th>46971</th>\n",
       "      <td>70500</td>\n",
       "      <td>Help Us</td>\n",
       "      <td>[21, 38]</td>\n",
       "      <td>38</td>\n",
       "    </tr>\n",
       "    <tr>\n",
       "      <th>93995</th>\n",
       "      <td>140548</td>\n",
       "      <td>Funeral con piñata</td>\n",
       "      <td>[27, 76, 94]</td>\n",
       "      <td>94</td>\n",
       "    </tr>\n",
       "    <tr>\n",
       "      <th>37324</th>\n",
       "      <td>57442</td>\n",
       "      <td>Nuclear Beach</td>\n",
       "      <td>[38]</td>\n",
       "      <td>38</td>\n",
       "    </tr>\n",
       "    <tr>\n",
       "      <th>24712</th>\n",
       "      <td>38973</td>\n",
       "      <td>Dinner Bass</td>\n",
       "      <td>[11, 15, 19]</td>\n",
       "      <td>19</td>\n",
       "    </tr>\n",
       "    <tr>\n",
       "      <th>56638</th>\n",
       "      <td>85444</td>\n",
       "      <td>Drifter</td>\n",
       "      <td>[27, 66]</td>\n",
       "      <td>66</td>\n",
       "    </tr>\n",
       "    <tr>\n",
       "      <th>72567</th>\n",
       "      <td>112400</td>\n",
       "      <td>Streetview</td>\n",
       "      <td>[10, 15, 17, 66]</td>\n",
       "      <td>66</td>\n",
       "    </tr>\n",
       "    <tr>\n",
       "      <th>74444</th>\n",
       "      <td>114790</td>\n",
       "      <td>Желе</td>\n",
       "      <td>[27, 58, 103]</td>\n",
       "      <td>103</td>\n",
       "    </tr>\n",
       "    <tr>\n",
       "      <th>24464</th>\n",
       "      <td>38665</td>\n",
       "      <td>Solid State</td>\n",
       "      <td>[31, 32, 38, 47]</td>\n",
       "      <td>47</td>\n",
       "    </tr>\n",
       "    <tr>\n",
       "      <th>12439</th>\n",
       "      <td>20608</td>\n",
       "      <td>Reflections Sayyid verse 89bpm-109bpm</td>\n",
       "      <td>[21, 38]</td>\n",
       "      <td>38</td>\n",
       "    </tr>\n",
       "    <tr>\n",
       "      <th>66658</th>\n",
       "      <td>104648</td>\n",
       "      <td>monkey</td>\n",
       "      <td>[19, 85, 138]</td>\n",
       "      <td>138</td>\n",
       "    </tr>\n",
       "    <tr>\n",
       "      <th>32127</th>\n",
       "      <td>49812</td>\n",
       "      <td>Rotting Heights</td>\n",
       "      <td>[25, 109]</td>\n",
       "      <td>109</td>\n",
       "    </tr>\n",
       "    <tr>\n",
       "      <th>100720</th>\n",
       "      <td>149699</td>\n",
       "      <td>Clinging to Life</td>\n",
       "      <td>[400]</td>\n",
       "      <td>400</td>\n",
       "    </tr>\n",
       "    <tr>\n",
       "      <th>7751</th>\n",
       "      <td>13568</td>\n",
       "      <td>Just One Night (DU Remix Edit) (Featuring Voca...</td>\n",
       "      <td>[14, 15]</td>\n",
       "      <td>15</td>\n",
       "    </tr>\n",
       "    <tr>\n",
       "      <th>33114</th>\n",
       "      <td>51402</td>\n",
       "      <td>Taiga Ghost</td>\n",
       "      <td>[32, 38]</td>\n",
       "      <td>38</td>\n",
       "    </tr>\n",
       "    <tr>\n",
       "      <th>53442</th>\n",
       "      <td>81457</td>\n",
       "      <td>Forecasting</td>\n",
       "      <td>[18]</td>\n",
       "      <td>18</td>\n",
       "    </tr>\n",
       "    <tr>\n",
       "      <th>37405</th>\n",
       "      <td>57568</td>\n",
       "      <td>Grrrl</td>\n",
       "      <td>[12, 25, 85]</td>\n",
       "      <td>85</td>\n",
       "    </tr>\n",
       "    <tr>\n",
       "      <th>102202</th>\n",
       "      <td>152109</td>\n",
       "      <td>Psychotic Symphony</td>\n",
       "      <td>[79]</td>\n",
       "      <td>79</td>\n",
       "    </tr>\n",
       "    <tr>\n",
       "      <th>55461</th>\n",
       "      <td>83962</td>\n",
       "      <td>Untitled #3</td>\n",
       "      <td>[1, 38]</td>\n",
       "      <td>38</td>\n",
       "    </tr>\n",
       "    <tr>\n",
       "      <th>10369</th>\n",
       "      <td>17345</td>\n",
       "      <td>Pop song</td>\n",
       "      <td>[76]</td>\n",
       "      <td>76</td>\n",
       "    </tr>\n",
       "  </tbody>\n",
       "</table>\n",
       "</div>"
      ],
      "text/plain": [
       "        track_id                                        track_title   \n",
       "81984     124652                                    Ice Cave [Loop]  \\\n",
       "46971      70500                                            Help Us   \n",
       "93995     140548                                 Funeral con piñata   \n",
       "37324      57442                                      Nuclear Beach   \n",
       "24712      38973                                        Dinner Bass   \n",
       "56638      85444                                            Drifter   \n",
       "72567     112400                                         Streetview   \n",
       "74444     114790                                               Желе   \n",
       "24464      38665                                        Solid State   \n",
       "12439      20608              Reflections Sayyid verse 89bpm-109bpm   \n",
       "66658     104648                                             monkey   \n",
       "32127      49812                                    Rotting Heights   \n",
       "100720    149699                                   Clinging to Life   \n",
       "7751       13568  Just One Night (DU Remix Edit) (Featuring Voca...   \n",
       "33114      51402                                        Taiga Ghost   \n",
       "53442      81457                                        Forecasting   \n",
       "37405      57568                                              Grrrl   \n",
       "102202    152109                                 Psychotic Symphony   \n",
       "55461      83962                                        Untitled #3   \n",
       "10369      17345                                           Pop song   \n",
       "\n",
       "             valid_genre last_genre_id  \n",
       "81984      [18, 66, 240]           240  \n",
       "46971           [21, 38]            38  \n",
       "93995       [27, 76, 94]            94  \n",
       "37324               [38]            38  \n",
       "24712       [11, 15, 19]            19  \n",
       "56638           [27, 66]            66  \n",
       "72567   [10, 15, 17, 66]            66  \n",
       "74444      [27, 58, 103]           103  \n",
       "24464   [31, 32, 38, 47]            47  \n",
       "12439           [21, 38]            38  \n",
       "66658      [19, 85, 138]           138  \n",
       "32127          [25, 109]           109  \n",
       "100720             [400]           400  \n",
       "7751            [14, 15]            15  \n",
       "33114           [32, 38]            38  \n",
       "53442               [18]            18  \n",
       "37405       [12, 25, 85]            85  \n",
       "102202              [79]            79  \n",
       "55461            [1, 38]            38  \n",
       "10369               [76]            76  "
      ]
     },
     "execution_count": 19,
     "metadata": {},
     "output_type": "execute_result"
    }
   ],
   "source": [
    "tracks_df.sample(20)"
   ]
  },
  {
   "cell_type": "code",
   "execution_count": 20,
   "id": "f5de1c7f-c2b6-487a-83bc-974ddb99008a",
   "metadata": {},
   "outputs": [],
   "source": [
    "tracks_df.dropna(inplace=True)"
   ]
  },
  {
   "cell_type": "code",
   "execution_count": 21,
   "id": "fcb10f3d-d6fa-4e7b-a4f0-d8536a1a2898",
   "metadata": {},
   "outputs": [
    {
     "data": {
      "text/html": [
       "<div>\n",
       "<style scoped>\n",
       "    .dataframe tbody tr th:only-of-type {\n",
       "        vertical-align: middle;\n",
       "    }\n",
       "\n",
       "    .dataframe tbody tr th {\n",
       "        vertical-align: top;\n",
       "    }\n",
       "\n",
       "    .dataframe thead th {\n",
       "        text-align: right;\n",
       "    }\n",
       "</style>\n",
       "<table border=\"1\" class=\"dataframe\">\n",
       "  <thead>\n",
       "    <tr style=\"text-align: right;\">\n",
       "      <th></th>\n",
       "      <th>track_id</th>\n",
       "      <th>track_title</th>\n",
       "      <th>valid_genre</th>\n",
       "      <th>last_genre_id</th>\n",
       "    </tr>\n",
       "  </thead>\n",
       "  <tbody>\n",
       "    <tr>\n",
       "      <th>101695</th>\n",
       "      <td>151337</td>\n",
       "      <td>Emphasis Between Strange Dreams</td>\n",
       "      <td>[32, 38]</td>\n",
       "      <td>38</td>\n",
       "    </tr>\n",
       "    <tr>\n",
       "      <th>27876</th>\n",
       "      <td>43111</td>\n",
       "      <td>In the Night</td>\n",
       "      <td>[43, 138]</td>\n",
       "      <td>138</td>\n",
       "    </tr>\n",
       "    <tr>\n",
       "      <th>26114</th>\n",
       "      <td>40830</td>\n",
       "      <td>Cotrol Clod</td>\n",
       "      <td>[468]</td>\n",
       "      <td>468</td>\n",
       "    </tr>\n",
       "    <tr>\n",
       "      <th>103035</th>\n",
       "      <td>153967</td>\n",
       "      <td>good looking instrumental</td>\n",
       "      <td>[21, 1235]</td>\n",
       "      <td>1235</td>\n",
       "    </tr>\n",
       "    <tr>\n",
       "      <th>78687</th>\n",
       "      <td>120226</td>\n",
       "      <td>From Dreams to Melancholy</td>\n",
       "      <td>[5, 18, 107]</td>\n",
       "      <td>107</td>\n",
       "    </tr>\n",
       "    <tr>\n",
       "      <th>...</th>\n",
       "      <td>...</td>\n",
       "      <td>...</td>\n",
       "      <td>...</td>\n",
       "      <td>...</td>\n",
       "    </tr>\n",
       "    <tr>\n",
       "      <th>40842</th>\n",
       "      <td>62140</td>\n",
       "      <td>Potloque</td>\n",
       "      <td>[15, 21, 468]</td>\n",
       "      <td>468</td>\n",
       "    </tr>\n",
       "    <tr>\n",
       "      <th>50295</th>\n",
       "      <td>75220</td>\n",
       "      <td>Holy Pain's World</td>\n",
       "      <td>[31, 45]</td>\n",
       "      <td>45</td>\n",
       "    </tr>\n",
       "    <tr>\n",
       "      <th>49868</th>\n",
       "      <td>74552</td>\n",
       "      <td>Refugee</td>\n",
       "      <td>[15, 66]</td>\n",
       "      <td>66</td>\n",
       "    </tr>\n",
       "    <tr>\n",
       "      <th>10532</th>\n",
       "      <td>17603</td>\n",
       "      <td>Bad Form/American Cream</td>\n",
       "      <td>[12]</td>\n",
       "      <td>12</td>\n",
       "    </tr>\n",
       "    <tr>\n",
       "      <th>61353</th>\n",
       "      <td>94133</td>\n",
       "      <td>I Never Could</td>\n",
       "      <td>[15, 38, 811]</td>\n",
       "      <td>811</td>\n",
       "    </tr>\n",
       "  </tbody>\n",
       "</table>\n",
       "<p>104185 rows × 4 columns</p>\n",
       "</div>"
      ],
      "text/plain": [
       "        track_id                      track_title    valid_genre last_genre_id\n",
       "101695    151337  Emphasis Between Strange Dreams       [32, 38]            38\n",
       "27876      43111                     In the Night      [43, 138]           138\n",
       "26114      40830                      Cotrol Clod          [468]           468\n",
       "103035    153967        good looking instrumental     [21, 1235]          1235\n",
       "78687     120226        From Dreams to Melancholy   [5, 18, 107]           107\n",
       "...          ...                              ...            ...           ...\n",
       "40842      62140                         Potloque  [15, 21, 468]           468\n",
       "50295      75220                Holy Pain's World       [31, 45]            45\n",
       "49868      74552                          Refugee       [15, 66]            66\n",
       "10532      17603          Bad Form/American Cream           [12]            12\n",
       "61353      94133                    I Never Could  [15, 38, 811]           811\n",
       "\n",
       "[104185 rows x 4 columns]"
      ]
     },
     "execution_count": 21,
     "metadata": {},
     "output_type": "execute_result"
    }
   ],
   "source": [
    "tracks_df"
   ]
  },
  {
   "cell_type": "code",
   "execution_count": 22,
   "id": "8f713133-f471-4ca5-b7b1-ab06109bb31b",
   "metadata": {
    "tags": []
   },
   "outputs": [
    {
     "data": {
      "application/vnd.jupyter.widget-view+json": {
       "model_id": "48c94691d0744525bd425e4b1cd43af5",
       "version_major": 2,
       "version_minor": 0
      },
      "text/plain": [
       "  0%|          | 0/104185 [00:00<?, ?it/s]"
      ]
     },
     "metadata": {},
     "output_type": "display_data"
    }
   ],
   "source": [
    "tracks_df['full_genre_id'] = tracks_df.last_genre_id.progress_apply(lambda x: get_all_structure(x,genres_df)[::-1])"
   ]
  },
  {
   "cell_type": "code",
   "execution_count": 23,
   "id": "69d80106-b330-4749-8aee-d2fbc451ecfb",
   "metadata": {},
   "outputs": [
    {
     "data": {
      "text/plain": [
       "101695           [38]\n",
       "27876       [20, 138]\n",
       "26114       [15, 468]\n",
       "103035         [1235]\n",
       "78687     [1235, 107]\n",
       "             ...     \n",
       "40842       [15, 468]\n",
       "50295        [12, 45]\n",
       "49868        [12, 66]\n",
       "10532            [12]\n",
       "61353       [21, 811]\n",
       "Name: full_genre_id, Length: 104185, dtype: object"
      ]
     },
     "execution_count": 23,
     "metadata": {},
     "output_type": "execute_result"
    }
   ],
   "source": [
    "tracks_df.full_genre_id"
   ]
  },
  {
   "cell_type": "code",
   "execution_count": 24,
   "id": "8cf91d85-a298-4064-aecc-4370639ea929",
   "metadata": {},
   "outputs": [
    {
     "data": {
      "text/plain": [
       "Index(['track_id', 'track_title', 'valid_genre', 'last_genre_id',\n",
       "       'full_genre_id'],\n",
       "      dtype='object')"
      ]
     },
     "execution_count": 24,
     "metadata": {},
     "output_type": "execute_result"
    }
   ],
   "source": [
    "tracks_df.columns"
   ]
  },
  {
   "cell_type": "code",
   "execution_count": 25,
   "id": "d7b72dad-6dfa-46c3-84ac-10602c852524",
   "metadata": {},
   "outputs": [],
   "source": [
    "tracks_df = tracks_df[['track_id','full_genre_id']]"
   ]
  },
  {
   "cell_type": "code",
   "execution_count": 26,
   "id": "c7d35e82-a0b0-4bda-be5e-f69340a00385",
   "metadata": {},
   "outputs": [
    {
     "data": {
      "text/plain": [
       "array([list([38]), list([20, 138]), list([15, 468]), ..., list([12, 66]),\n",
       "       list([12]), list([21, 811])], dtype=object)"
      ]
     },
     "execution_count": 26,
     "metadata": {},
     "output_type": "execute_result"
    }
   ],
   "source": [
    "tracks_df.full_genre_id.values"
   ]
  },
  {
   "cell_type": "code",
   "execution_count": 27,
   "id": "14106678-2380-40d6-8373-edf1fda9b3af",
   "metadata": {},
   "outputs": [
    {
     "data": {
      "text/plain": [
       "<bound method Series.info of 101695           [38]\n",
       "27876       [20, 138]\n",
       "26114       [15, 468]\n",
       "103035         [1235]\n",
       "78687     [1235, 107]\n",
       "             ...     \n",
       "40842       [15, 468]\n",
       "50295        [12, 45]\n",
       "49868        [12, 66]\n",
       "10532            [12]\n",
       "61353       [21, 811]\n",
       "Name: full_genre_id, Length: 104185, dtype: object>"
      ]
     },
     "execution_count": 27,
     "metadata": {},
     "output_type": "execute_result"
    }
   ],
   "source": [
    "tracks_df.full_genre_id.info"
   ]
  },
  {
   "cell_type": "code",
   "execution_count": 28,
   "id": "90068602-0c57-4e10-bd9b-64cd1c8d8ad8",
   "metadata": {},
   "outputs": [],
   "source": [
    "labels_size = tracks_df.full_genre_id.apply(lambda x: len(x))"
   ]
  },
  {
   "cell_type": "code",
   "execution_count": 81,
   "id": "70f2351f-2f55-4979-84c2-0cb142887a78",
   "metadata": {},
   "outputs": [],
   "source": [
    "labels_size = int(labels_size.max())"
   ]
  },
  {
   "cell_type": "code",
   "execution_count": 82,
   "id": "e1f6ac31-ca09-4e44-a120-cd4534cd851e",
   "metadata": {},
   "outputs": [
    {
     "data": {
      "text/plain": [
       "int"
      ]
     },
     "execution_count": 82,
     "metadata": {},
     "output_type": "execute_result"
    }
   ],
   "source": [
    "type(labels_size)"
   ]
  },
  {
   "cell_type": "markdown",
   "id": "74827c2e-072a-4213-9b96-f7bb24dee80e",
   "metadata": {},
   "source": [
    "### Parse of label to structure"
   ]
  },
  {
   "cell_type": "code",
   "execution_count": 31,
   "id": "093a84f2-25d1-4f95-81e5-c51e73933e95",
   "metadata": {},
   "outputs": [],
   "source": [
    "### Function for parse label to sctructure of hierarhical scheme\n",
    "\n",
    "def parse_label(label,label_size=5):\n",
    "    # label = label.split('-')\n",
    "    # preencher com 0 no caso de haver menos de 5 níveis\n",
    "    labels = np.zeros(label_size,dtype=int)\n",
    "    for i, label in enumerate(label):\n",
    "        if i == 5:\n",
    "            break\n",
    "        # Aqui você pode fazer a conversão do label em um índice inteiro usando um dicionário ou outro método\n",
    "        # Neste exemplo, estou apenas usando a posição da label na lista como índice\n",
    "        labels[i] = label\n",
    "    return labels"
   ]
  },
  {
   "cell_type": "code",
   "execution_count": 32,
   "id": "2a6adb21-c145-4c82-ba79-798d02c7d2fd",
   "metadata": {},
   "outputs": [],
   "source": [
    "parsed_labels = tracks_df.full_genre_id.apply(lambda x: parse_label(x))"
   ]
  },
  {
   "cell_type": "code",
   "execution_count": 33,
   "id": "5981a36f-cb76-4d1f-8bfe-7e58f3b002e5",
   "metadata": {},
   "outputs": [
    {
     "data": {
      "text/plain": [
       "101695           [38]\n",
       "27876       [20, 138]\n",
       "26114       [15, 468]\n",
       "103035         [1235]\n",
       "78687     [1235, 107]\n",
       "             ...     \n",
       "40842       [15, 468]\n",
       "50295        [12, 45]\n",
       "49868        [12, 66]\n",
       "10532            [12]\n",
       "61353       [21, 811]\n",
       "Name: full_genre_id, Length: 104185, dtype: object"
      ]
     },
     "execution_count": 33,
     "metadata": {},
     "output_type": "execute_result"
    }
   ],
   "source": [
    "tracks_df['full_genre_id']"
   ]
  },
  {
   "cell_type": "code",
   "execution_count": 34,
   "id": "d60b077d-993f-4cbb-a66b-407d97dba96e",
   "metadata": {},
   "outputs": [],
   "source": [
    "def convert_label_to_string(x,level=2):\n",
    "    return '-'.join([str(value) for value in x[:level]])"
   ]
  },
  {
   "cell_type": "code",
   "execution_count": 35,
   "id": "e463b489-81bf-4a7d-95db-1f78c7ca6d87",
   "metadata": {},
   "outputs": [
    {
     "data": {
      "application/vnd.jupyter.widget-view+json": {
       "model_id": "74d2a9b57d6445cca8fc60cb47964c2f",
       "version_major": 2,
       "version_minor": 0
      },
      "text/plain": [
       "  0%|          | 0/104185 [00:00<?, ?it/s]"
      ]
     },
     "metadata": {},
     "output_type": "display_data"
    },
    {
     "name": "stderr",
     "output_type": "stream",
     "text": [
      "/tmp/ipykernel_212330/310633048.py:1: SettingWithCopyWarning: \n",
      "A value is trying to be set on a copy of a slice from a DataFrame.\n",
      "Try using .loc[row_indexer,col_indexer] = value instead\n",
      "\n",
      "See the caveats in the documentation: https://pandas.pydata.org/pandas-docs/stable/user_guide/indexing.html#returning-a-view-versus-a-copy\n",
      "  tracks_df['labels_1'] = parsed_labels.progress_apply(lambda x: str(x[:1][0]))\n"
     ]
    },
    {
     "data": {
      "application/vnd.jupyter.widget-view+json": {
       "model_id": "d3d6429702154837a4e457602c978fca",
       "version_major": 2,
       "version_minor": 0
      },
      "text/plain": [
       "  0%|          | 0/104185 [00:00<?, ?it/s]"
      ]
     },
     "metadata": {},
     "output_type": "display_data"
    },
    {
     "name": "stderr",
     "output_type": "stream",
     "text": [
      "/tmp/ipykernel_212330/310633048.py:2: SettingWithCopyWarning: \n",
      "A value is trying to be set on a copy of a slice from a DataFrame.\n",
      "Try using .loc[row_indexer,col_indexer] = value instead\n",
      "\n",
      "See the caveats in the documentation: https://pandas.pydata.org/pandas-docs/stable/user_guide/indexing.html#returning-a-view-versus-a-copy\n",
      "  tracks_df['labels_2'] = parsed_labels.progress_apply(lambda x: convert_label_to_string(x,level=2))\n"
     ]
    },
    {
     "data": {
      "application/vnd.jupyter.widget-view+json": {
       "model_id": "d6d37cd5319541179810f377c513f28c",
       "version_major": 2,
       "version_minor": 0
      },
      "text/plain": [
       "  0%|          | 0/104185 [00:00<?, ?it/s]"
      ]
     },
     "metadata": {},
     "output_type": "display_data"
    },
    {
     "data": {
      "application/vnd.jupyter.widget-view+json": {
       "model_id": "e914ddceb5434920934b7538edabc559",
       "version_major": 2,
       "version_minor": 0
      },
      "text/plain": [
       "  0%|          | 0/104185 [00:00<?, ?it/s]"
      ]
     },
     "metadata": {},
     "output_type": "display_data"
    },
    {
     "data": {
      "application/vnd.jupyter.widget-view+json": {
       "model_id": "ca62bb9cdc57430688c97bfb838614fe",
       "version_major": 2,
       "version_minor": 0
      },
      "text/plain": [
       "  0%|          | 0/104185 [00:00<?, ?it/s]"
      ]
     },
     "metadata": {},
     "output_type": "display_data"
    }
   ],
   "source": [
    "tracks_df['labels_1'] = parsed_labels.progress_apply(lambda x: str(x[:1][0]))\n",
    "tracks_df['labels_2'] = parsed_labels.progress_apply(lambda x: convert_label_to_string(x,level=2))\n",
    "tracks_df['labels_3'] = parsed_labels.progress_apply(lambda x: convert_label_to_string(x,level=3))\n",
    "tracks_df['labels_4'] = parsed_labels.progress_apply(lambda x: convert_label_to_string(x,level=4))\n",
    "tracks_df['labels_5'] = parsed_labels.progress_apply(lambda x: convert_label_to_string(x,level=5))"
   ]
  },
  {
   "cell_type": "code",
   "execution_count": 36,
   "id": "04828399-6891-4cd6-b5d6-e6263c37a658",
   "metadata": {},
   "outputs": [],
   "source": [
    "tracks_df = tracks_df[tracks_df['labels_1'].isin([\"38\",\"1235\"])]"
   ]
  },
  {
   "cell_type": "code",
   "execution_count": 37,
   "id": "86c81a9f-b819-4793-af3a-78f22b198aa7",
   "metadata": {},
   "outputs": [
    {
     "data": {
      "text/plain": [
       "labels_2\n",
       "38-0        6508\n",
       "1235-0      6043\n",
       "1235-107    3988\n",
       "38-250      3379\n",
       "38-247      2749\n",
       "38-41       1997\n",
       "38-224      1422\n",
       "38-32       1207\n",
       "1235-18      982\n",
       "38-47        841\n",
       "38-456       829\n",
       "38-125       703\n",
       "38-514       686\n",
       "38-6         519\n",
       "38-186       428\n",
       "38-1         313\n",
       "38-30        254\n",
       "38-22        231\n",
       "1235-267     201\n",
       "Name: count, dtype: int64"
      ]
     },
     "execution_count": 37,
     "metadata": {},
     "output_type": "execute_result"
    }
   ],
   "source": [
    "tracks_df['labels_2'].value_counts()"
   ]
  },
  {
   "cell_type": "code",
   "execution_count": 38,
   "id": "a29b0317-181b-4cf9-ac27-3fd9505e1f7b",
   "metadata": {},
   "outputs": [
    {
     "data": {
      "text/plain": [
       "labels_5\n",
       "38-0-0-0-0          6508\n",
       "1235-0-0-0-0        6043\n",
       "1235-107-0-0-0      3988\n",
       "38-250-0-0-0        3379\n",
       "38-247-0-0-0        2749\n",
       "38-41-0-0-0         1997\n",
       "38-224-0-0-0        1422\n",
       "38-32-0-0-0         1207\n",
       "38-47-0-0-0          841\n",
       "38-456-0-0-0         829\n",
       "38-125-0-0-0         703\n",
       "38-514-0-0-0         686\n",
       "1235-18-0-0-0        659\n",
       "38-186-0-0-0         428\n",
       "1235-18-538-0-0      323\n",
       "38-1-0-0-0           313\n",
       "38-30-0-0-0          254\n",
       "38-22-0-0-0          231\n",
       "1235-267-0-0-0       201\n",
       "38-6-16-763-0        194\n",
       "38-6-360-0-0         190\n",
       "38-6-16-763-1193      72\n",
       "38-6-0-0-0            63\n",
       "Name: count, dtype: int64"
      ]
     },
     "execution_count": 38,
     "metadata": {},
     "output_type": "execute_result"
    }
   ],
   "source": [
    "tracks_df['labels_5'].value_counts()"
   ]
  },
  {
   "cell_type": "code",
   "execution_count": 39,
   "id": "304cd0a8-f7de-4862-8994-a9ed960cea5a",
   "metadata": {},
   "outputs": [],
   "source": [
    "# tracks_df = tracks_df[tracks_df['labels_1'].isin(['3','14'])]"
   ]
  },
  {
   "cell_type": "code",
   "execution_count": 40,
   "id": "d1e5f547-34ba-4d8d-b3ef-7d7eebc578fc",
   "metadata": {},
   "outputs": [],
   "source": [
    "categories_df = pd.DataFrame({'level5':tracks_df.labels_5.unique()})"
   ]
  },
  {
   "cell_type": "code",
   "execution_count": 41,
   "id": "39a3077d-9077-4f6b-be98-1e7d14e280e2",
   "metadata": {},
   "outputs": [
    {
     "data": {
      "application/vnd.jupyter.widget-view+json": {
       "model_id": "6d3d5b84611748e09ec745b1a4ca47b2",
       "version_major": 2,
       "version_minor": 0
      },
      "text/plain": [
       "  0%|          | 0/23 [00:00<?, ?it/s]"
      ]
     },
     "metadata": {},
     "output_type": "display_data"
    },
    {
     "data": {
      "application/vnd.jupyter.widget-view+json": {
       "model_id": "ec50bb909126425590be19732f440e10",
       "version_major": 2,
       "version_minor": 0
      },
      "text/plain": [
       "  0%|          | 0/23 [00:00<?, ?it/s]"
      ]
     },
     "metadata": {},
     "output_type": "display_data"
    },
    {
     "data": {
      "application/vnd.jupyter.widget-view+json": {
       "model_id": "ded365cb7b1f4bf594bcd22b6e851513",
       "version_major": 2,
       "version_minor": 0
      },
      "text/plain": [
       "  0%|          | 0/23 [00:00<?, ?it/s]"
      ]
     },
     "metadata": {},
     "output_type": "display_data"
    },
    {
     "data": {
      "application/vnd.jupyter.widget-view+json": {
       "model_id": "98d7f867b7024e3e9343f8f2b41bd940",
       "version_major": 2,
       "version_minor": 0
      },
      "text/plain": [
       "  0%|          | 0/23 [00:00<?, ?it/s]"
      ]
     },
     "metadata": {},
     "output_type": "display_data"
    }
   ],
   "source": [
    "categories_df['level1'] = categories_df.level5.progress_apply(lambda x: '-'.join(x.split('-')[:1]))\n",
    "categories_df['level2'] = categories_df.level5.progress_apply(lambda x: '-'.join(x.split('-')[:2]))\n",
    "categories_df['level3'] = categories_df.level5.progress_apply(lambda x: '-'.join(x.split('-')[:3]))\n",
    "categories_df['level4'] = categories_df.level5.progress_apply(lambda x: '-'.join(x.split('-')[:4]))"
   ]
  },
  {
   "cell_type": "code",
   "execution_count": 42,
   "id": "d32d5387-bc51-4823-8245-9b715899af33",
   "metadata": {},
   "outputs": [
    {
     "data": {
      "text/html": [
       "<div>\n",
       "<style scoped>\n",
       "    .dataframe tbody tr th:only-of-type {\n",
       "        vertical-align: middle;\n",
       "    }\n",
       "\n",
       "    .dataframe tbody tr th {\n",
       "        vertical-align: top;\n",
       "    }\n",
       "\n",
       "    .dataframe thead th {\n",
       "        text-align: right;\n",
       "    }\n",
       "</style>\n",
       "<table border=\"1\" class=\"dataframe\">\n",
       "  <thead>\n",
       "    <tr style=\"text-align: right;\">\n",
       "      <th></th>\n",
       "      <th>level5</th>\n",
       "      <th>level1</th>\n",
       "      <th>level2</th>\n",
       "      <th>level3</th>\n",
       "      <th>level4</th>\n",
       "    </tr>\n",
       "  </thead>\n",
       "  <tbody>\n",
       "    <tr>\n",
       "      <th>0</th>\n",
       "      <td>38-0-0-0-0</td>\n",
       "      <td>38</td>\n",
       "      <td>38-0</td>\n",
       "      <td>38-0-0</td>\n",
       "      <td>38-0-0-0</td>\n",
       "    </tr>\n",
       "    <tr>\n",
       "      <th>1</th>\n",
       "      <td>1235-0-0-0-0</td>\n",
       "      <td>1235</td>\n",
       "      <td>1235-0</td>\n",
       "      <td>1235-0-0</td>\n",
       "      <td>1235-0-0-0</td>\n",
       "    </tr>\n",
       "    <tr>\n",
       "      <th>2</th>\n",
       "      <td>1235-107-0-0-0</td>\n",
       "      <td>1235</td>\n",
       "      <td>1235-107</td>\n",
       "      <td>1235-107-0</td>\n",
       "      <td>1235-107-0-0</td>\n",
       "    </tr>\n",
       "    <tr>\n",
       "      <th>3</th>\n",
       "      <td>38-186-0-0-0</td>\n",
       "      <td>38</td>\n",
       "      <td>38-186</td>\n",
       "      <td>38-186-0</td>\n",
       "      <td>38-186-0-0</td>\n",
       "    </tr>\n",
       "    <tr>\n",
       "      <th>4</th>\n",
       "      <td>38-250-0-0-0</td>\n",
       "      <td>38</td>\n",
       "      <td>38-250</td>\n",
       "      <td>38-250-0</td>\n",
       "      <td>38-250-0-0</td>\n",
       "    </tr>\n",
       "    <tr>\n",
       "      <th>5</th>\n",
       "      <td>38-247-0-0-0</td>\n",
       "      <td>38</td>\n",
       "      <td>38-247</td>\n",
       "      <td>38-247-0</td>\n",
       "      <td>38-247-0-0</td>\n",
       "    </tr>\n",
       "    <tr>\n",
       "      <th>6</th>\n",
       "      <td>38-41-0-0-0</td>\n",
       "      <td>38</td>\n",
       "      <td>38-41</td>\n",
       "      <td>38-41-0</td>\n",
       "      <td>38-41-0-0</td>\n",
       "    </tr>\n",
       "    <tr>\n",
       "      <th>7</th>\n",
       "      <td>38-224-0-0-0</td>\n",
       "      <td>38</td>\n",
       "      <td>38-224</td>\n",
       "      <td>38-224-0</td>\n",
       "      <td>38-224-0-0</td>\n",
       "    </tr>\n",
       "    <tr>\n",
       "      <th>8</th>\n",
       "      <td>38-514-0-0-0</td>\n",
       "      <td>38</td>\n",
       "      <td>38-514</td>\n",
       "      <td>38-514-0</td>\n",
       "      <td>38-514-0-0</td>\n",
       "    </tr>\n",
       "    <tr>\n",
       "      <th>9</th>\n",
       "      <td>38-456-0-0-0</td>\n",
       "      <td>38</td>\n",
       "      <td>38-456</td>\n",
       "      <td>38-456-0</td>\n",
       "      <td>38-456-0-0</td>\n",
       "    </tr>\n",
       "    <tr>\n",
       "      <th>10</th>\n",
       "      <td>38-32-0-0-0</td>\n",
       "      <td>38</td>\n",
       "      <td>38-32</td>\n",
       "      <td>38-32-0</td>\n",
       "      <td>38-32-0-0</td>\n",
       "    </tr>\n",
       "    <tr>\n",
       "      <th>11</th>\n",
       "      <td>1235-18-0-0-0</td>\n",
       "      <td>1235</td>\n",
       "      <td>1235-18</td>\n",
       "      <td>1235-18-0</td>\n",
       "      <td>1235-18-0-0</td>\n",
       "    </tr>\n",
       "    <tr>\n",
       "      <th>12</th>\n",
       "      <td>38-1-0-0-0</td>\n",
       "      <td>38</td>\n",
       "      <td>38-1</td>\n",
       "      <td>38-1-0</td>\n",
       "      <td>38-1-0-0</td>\n",
       "    </tr>\n",
       "    <tr>\n",
       "      <th>13</th>\n",
       "      <td>1235-18-538-0-0</td>\n",
       "      <td>1235</td>\n",
       "      <td>1235-18</td>\n",
       "      <td>1235-18-538</td>\n",
       "      <td>1235-18-538-0</td>\n",
       "    </tr>\n",
       "    <tr>\n",
       "      <th>14</th>\n",
       "      <td>38-125-0-0-0</td>\n",
       "      <td>38</td>\n",
       "      <td>38-125</td>\n",
       "      <td>38-125-0</td>\n",
       "      <td>38-125-0-0</td>\n",
       "    </tr>\n",
       "    <tr>\n",
       "      <th>15</th>\n",
       "      <td>38-6-16-763-0</td>\n",
       "      <td>38</td>\n",
       "      <td>38-6</td>\n",
       "      <td>38-6-16</td>\n",
       "      <td>38-6-16-763</td>\n",
       "    </tr>\n",
       "    <tr>\n",
       "      <th>16</th>\n",
       "      <td>38-47-0-0-0</td>\n",
       "      <td>38</td>\n",
       "      <td>38-47</td>\n",
       "      <td>38-47-0</td>\n",
       "      <td>38-47-0-0</td>\n",
       "    </tr>\n",
       "    <tr>\n",
       "      <th>17</th>\n",
       "      <td>38-22-0-0-0</td>\n",
       "      <td>38</td>\n",
       "      <td>38-22</td>\n",
       "      <td>38-22-0</td>\n",
       "      <td>38-22-0-0</td>\n",
       "    </tr>\n",
       "    <tr>\n",
       "      <th>18</th>\n",
       "      <td>38-30-0-0-0</td>\n",
       "      <td>38</td>\n",
       "      <td>38-30</td>\n",
       "      <td>38-30-0</td>\n",
       "      <td>38-30-0-0</td>\n",
       "    </tr>\n",
       "    <tr>\n",
       "      <th>19</th>\n",
       "      <td>1235-267-0-0-0</td>\n",
       "      <td>1235</td>\n",
       "      <td>1235-267</td>\n",
       "      <td>1235-267-0</td>\n",
       "      <td>1235-267-0-0</td>\n",
       "    </tr>\n",
       "    <tr>\n",
       "      <th>20</th>\n",
       "      <td>38-6-360-0-0</td>\n",
       "      <td>38</td>\n",
       "      <td>38-6</td>\n",
       "      <td>38-6-360</td>\n",
       "      <td>38-6-360-0</td>\n",
       "    </tr>\n",
       "    <tr>\n",
       "      <th>21</th>\n",
       "      <td>38-6-0-0-0</td>\n",
       "      <td>38</td>\n",
       "      <td>38-6</td>\n",
       "      <td>38-6-0</td>\n",
       "      <td>38-6-0-0</td>\n",
       "    </tr>\n",
       "    <tr>\n",
       "      <th>22</th>\n",
       "      <td>38-6-16-763-1193</td>\n",
       "      <td>38</td>\n",
       "      <td>38-6</td>\n",
       "      <td>38-6-16</td>\n",
       "      <td>38-6-16-763</td>\n",
       "    </tr>\n",
       "  </tbody>\n",
       "</table>\n",
       "</div>"
      ],
      "text/plain": [
       "              level5 level1    level2       level3         level4\n",
       "0         38-0-0-0-0     38      38-0       38-0-0       38-0-0-0\n",
       "1       1235-0-0-0-0   1235    1235-0     1235-0-0     1235-0-0-0\n",
       "2     1235-107-0-0-0   1235  1235-107   1235-107-0   1235-107-0-0\n",
       "3       38-186-0-0-0     38    38-186     38-186-0     38-186-0-0\n",
       "4       38-250-0-0-0     38    38-250     38-250-0     38-250-0-0\n",
       "5       38-247-0-0-0     38    38-247     38-247-0     38-247-0-0\n",
       "6        38-41-0-0-0     38     38-41      38-41-0      38-41-0-0\n",
       "7       38-224-0-0-0     38    38-224     38-224-0     38-224-0-0\n",
       "8       38-514-0-0-0     38    38-514     38-514-0     38-514-0-0\n",
       "9       38-456-0-0-0     38    38-456     38-456-0     38-456-0-0\n",
       "10       38-32-0-0-0     38     38-32      38-32-0      38-32-0-0\n",
       "11     1235-18-0-0-0   1235   1235-18    1235-18-0    1235-18-0-0\n",
       "12        38-1-0-0-0     38      38-1       38-1-0       38-1-0-0\n",
       "13   1235-18-538-0-0   1235   1235-18  1235-18-538  1235-18-538-0\n",
       "14      38-125-0-0-0     38    38-125     38-125-0     38-125-0-0\n",
       "15     38-6-16-763-0     38      38-6      38-6-16    38-6-16-763\n",
       "16       38-47-0-0-0     38     38-47      38-47-0      38-47-0-0\n",
       "17       38-22-0-0-0     38     38-22      38-22-0      38-22-0-0\n",
       "18       38-30-0-0-0     38     38-30      38-30-0      38-30-0-0\n",
       "19    1235-267-0-0-0   1235  1235-267   1235-267-0   1235-267-0-0\n",
       "20      38-6-360-0-0     38      38-6     38-6-360     38-6-360-0\n",
       "21        38-6-0-0-0     38      38-6       38-6-0       38-6-0-0\n",
       "22  38-6-16-763-1193     38      38-6      38-6-16    38-6-16-763"
      ]
     },
     "execution_count": 42,
     "metadata": {},
     "output_type": "execute_result"
    }
   ],
   "source": [
    "categories_df"
   ]
  },
  {
   "cell_type": "code",
   "execution_count": 43,
   "id": "1c4326bd-6d17-4857-b29c-9fc868e7561d",
   "metadata": {},
   "outputs": [],
   "source": [
    "def get_labels_name(x,genres_df):\n",
    "    levels = 5\n",
    "    full_name = []\n",
    "    last_level = 0\n",
    "    genre_root = \"\"\n",
    "    for genre in x.split('-'):\n",
    "        genre_df = genres_df[genres_df['genre_id'] == int(genre)]\n",
    "        if genre_df.empty:\n",
    "            genre_name = genre_root \n",
    "        else:\n",
    "            genre_name = genre_df.title.values.tolist()[0]\n",
    "            genre_root = genre_name\n",
    "        \n",
    "        full_name.append(genre_name)\n",
    "    full_name = '>'.join(full_name)\n",
    "        \n",
    "    return full_name\n",
    "    # return genres_df[genres_df['genre_id'] == int(x)].title.values.tolist()[0]"
   ]
  },
  {
   "cell_type": "code",
   "execution_count": 44,
   "id": "5fa16276-5e41-4ee5-821b-dabd1620c76c",
   "metadata": {},
   "outputs": [],
   "source": [
    "categories_df['level5_name'] = categories_df.level5.apply(lambda x: get_labels_name(x,genres_df))"
   ]
  },
  {
   "cell_type": "code",
   "execution_count": 45,
   "id": "2d2099b6-cf3b-47ae-bca2-7d2cc8a1cb8d",
   "metadata": {},
   "outputs": [
    {
     "data": {
      "text/html": [
       "<div>\n",
       "<style scoped>\n",
       "    .dataframe tbody tr th:only-of-type {\n",
       "        vertical-align: middle;\n",
       "    }\n",
       "\n",
       "    .dataframe tbody tr th {\n",
       "        vertical-align: top;\n",
       "    }\n",
       "\n",
       "    .dataframe thead th {\n",
       "        text-align: right;\n",
       "    }\n",
       "</style>\n",
       "<table border=\"1\" class=\"dataframe\">\n",
       "  <thead>\n",
       "    <tr style=\"text-align: right;\">\n",
       "      <th></th>\n",
       "      <th>level5</th>\n",
       "      <th>level1</th>\n",
       "      <th>level2</th>\n",
       "      <th>level3</th>\n",
       "      <th>level4</th>\n",
       "      <th>level5_name</th>\n",
       "    </tr>\n",
       "  </thead>\n",
       "  <tbody>\n",
       "    <tr>\n",
       "      <th>0</th>\n",
       "      <td>38-0-0-0-0</td>\n",
       "      <td>38</td>\n",
       "      <td>38-0</td>\n",
       "      <td>38-0-0</td>\n",
       "      <td>38-0-0-0</td>\n",
       "      <td>Experimental&gt;Experimental&gt;Experimental&gt;Experim...</td>\n",
       "    </tr>\n",
       "    <tr>\n",
       "      <th>1</th>\n",
       "      <td>1235-0-0-0-0</td>\n",
       "      <td>1235</td>\n",
       "      <td>1235-0</td>\n",
       "      <td>1235-0-0</td>\n",
       "      <td>1235-0-0-0</td>\n",
       "      <td>Instrumental&gt;Instrumental&gt;Instrumental&gt;Instrum...</td>\n",
       "    </tr>\n",
       "    <tr>\n",
       "      <th>2</th>\n",
       "      <td>1235-107-0-0-0</td>\n",
       "      <td>1235</td>\n",
       "      <td>1235-107</td>\n",
       "      <td>1235-107-0</td>\n",
       "      <td>1235-107-0-0</td>\n",
       "      <td>Instrumental&gt;Ambient&gt;Ambient&gt;Ambient&gt;Ambient</td>\n",
       "    </tr>\n",
       "    <tr>\n",
       "      <th>3</th>\n",
       "      <td>38-186-0-0-0</td>\n",
       "      <td>38</td>\n",
       "      <td>38-186</td>\n",
       "      <td>38-186-0</td>\n",
       "      <td>38-186-0-0</td>\n",
       "      <td>Experimental&gt;Sound Poetry&gt;Sound Poetry&gt;Sound P...</td>\n",
       "    </tr>\n",
       "    <tr>\n",
       "      <th>4</th>\n",
       "      <td>38-250-0-0-0</td>\n",
       "      <td>38</td>\n",
       "      <td>38-250</td>\n",
       "      <td>38-250-0</td>\n",
       "      <td>38-250-0-0</td>\n",
       "      <td>Experimental&gt;Improv&gt;Improv&gt;Improv&gt;Improv</td>\n",
       "    </tr>\n",
       "    <tr>\n",
       "      <th>5</th>\n",
       "      <td>38-247-0-0-0</td>\n",
       "      <td>38</td>\n",
       "      <td>38-247</td>\n",
       "      <td>38-247-0</td>\n",
       "      <td>38-247-0-0</td>\n",
       "      <td>Experimental&gt;Musique Concrete&gt;Musique Concrete...</td>\n",
       "    </tr>\n",
       "    <tr>\n",
       "      <th>6</th>\n",
       "      <td>38-41-0-0-0</td>\n",
       "      <td>38</td>\n",
       "      <td>38-41</td>\n",
       "      <td>38-41-0</td>\n",
       "      <td>38-41-0-0</td>\n",
       "      <td>Experimental&gt;Electroacoustic&gt;Electroacoustic&gt;E...</td>\n",
       "    </tr>\n",
       "    <tr>\n",
       "      <th>7</th>\n",
       "      <td>38-224-0-0-0</td>\n",
       "      <td>38</td>\n",
       "      <td>38-224</td>\n",
       "      <td>38-224-0</td>\n",
       "      <td>38-224-0-0</td>\n",
       "      <td>Experimental&gt;Sound Collage&gt;Sound Collage&gt;Sound...</td>\n",
       "    </tr>\n",
       "    <tr>\n",
       "      <th>8</th>\n",
       "      <td>38-514-0-0-0</td>\n",
       "      <td>38</td>\n",
       "      <td>38-514</td>\n",
       "      <td>38-514-0</td>\n",
       "      <td>38-514-0-0</td>\n",
       "      <td>Experimental&gt;Sound Art&gt;Sound Art&gt;Sound Art&gt;Sou...</td>\n",
       "    </tr>\n",
       "    <tr>\n",
       "      <th>9</th>\n",
       "      <td>38-456-0-0-0</td>\n",
       "      <td>38</td>\n",
       "      <td>38-456</td>\n",
       "      <td>38-456-0</td>\n",
       "      <td>38-456-0-0</td>\n",
       "      <td>Experimental&gt;Minimalism&gt;Minimalism&gt;Minimalism&gt;...</td>\n",
       "    </tr>\n",
       "    <tr>\n",
       "      <th>10</th>\n",
       "      <td>38-32-0-0-0</td>\n",
       "      <td>38</td>\n",
       "      <td>38-32</td>\n",
       "      <td>38-32-0</td>\n",
       "      <td>38-32-0-0</td>\n",
       "      <td>Experimental&gt;Noise&gt;Noise&gt;Noise&gt;Noise</td>\n",
       "    </tr>\n",
       "    <tr>\n",
       "      <th>11</th>\n",
       "      <td>1235-18-0-0-0</td>\n",
       "      <td>1235</td>\n",
       "      <td>1235-18</td>\n",
       "      <td>1235-18-0</td>\n",
       "      <td>1235-18-0-0</td>\n",
       "      <td>Instrumental&gt;Soundtrack&gt;Soundtrack&gt;Soundtrack&gt;...</td>\n",
       "    </tr>\n",
       "    <tr>\n",
       "      <th>12</th>\n",
       "      <td>38-1-0-0-0</td>\n",
       "      <td>38</td>\n",
       "      <td>38-1</td>\n",
       "      <td>38-1-0</td>\n",
       "      <td>38-1-0-0</td>\n",
       "      <td>Experimental&gt;Avant-Garde&gt;Avant-Garde&gt;Avant-Gar...</td>\n",
       "    </tr>\n",
       "    <tr>\n",
       "      <th>13</th>\n",
       "      <td>1235-18-538-0-0</td>\n",
       "      <td>1235</td>\n",
       "      <td>1235-18</td>\n",
       "      <td>1235-18-538</td>\n",
       "      <td>1235-18-538-0</td>\n",
       "      <td>Instrumental&gt;Soundtrack&gt;Compilation&gt;Compilatio...</td>\n",
       "    </tr>\n",
       "    <tr>\n",
       "      <th>14</th>\n",
       "      <td>38-125-0-0-0</td>\n",
       "      <td>38</td>\n",
       "      <td>38-125</td>\n",
       "      <td>38-125-0</td>\n",
       "      <td>38-125-0-0</td>\n",
       "      <td>Experimental&gt;Unclassifiable&gt;Unclassifiable&gt;Unc...</td>\n",
       "    </tr>\n",
       "    <tr>\n",
       "      <th>15</th>\n",
       "      <td>38-6-16-763-0</td>\n",
       "      <td>38</td>\n",
       "      <td>38-6</td>\n",
       "      <td>38-6-16</td>\n",
       "      <td>38-6-16-763</td>\n",
       "      <td>Experimental&gt;Novelty&gt;Sound Effects&gt;Holiday&gt;Hol...</td>\n",
       "    </tr>\n",
       "    <tr>\n",
       "      <th>16</th>\n",
       "      <td>38-47-0-0-0</td>\n",
       "      <td>38</td>\n",
       "      <td>38-47</td>\n",
       "      <td>38-47-0</td>\n",
       "      <td>38-47-0-0</td>\n",
       "      <td>Experimental&gt;Drone&gt;Drone&gt;Drone&gt;Drone</td>\n",
       "    </tr>\n",
       "    <tr>\n",
       "      <th>17</th>\n",
       "      <td>38-22-0-0-0</td>\n",
       "      <td>38</td>\n",
       "      <td>38-22</td>\n",
       "      <td>38-22-0</td>\n",
       "      <td>38-22-0-0</td>\n",
       "      <td>Experimental&gt;Audio Collage&gt;Audio Collage&gt;Audio...</td>\n",
       "    </tr>\n",
       "    <tr>\n",
       "      <th>18</th>\n",
       "      <td>38-30-0-0-0</td>\n",
       "      <td>38</td>\n",
       "      <td>38-30</td>\n",
       "      <td>38-30-0</td>\n",
       "      <td>38-30-0-0</td>\n",
       "      <td>Experimental&gt;Field Recordings&gt;Field Recordings...</td>\n",
       "    </tr>\n",
       "    <tr>\n",
       "      <th>19</th>\n",
       "      <td>1235-267-0-0-0</td>\n",
       "      <td>1235</td>\n",
       "      <td>1235-267</td>\n",
       "      <td>1235-267-0</td>\n",
       "      <td>1235-267-0-0</td>\n",
       "      <td>Instrumental&gt;New Age&gt;New Age&gt;New Age&gt;New Age</td>\n",
       "    </tr>\n",
       "    <tr>\n",
       "      <th>20</th>\n",
       "      <td>38-6-360-0-0</td>\n",
       "      <td>38</td>\n",
       "      <td>38-6</td>\n",
       "      <td>38-6-360</td>\n",
       "      <td>38-6-360-0</td>\n",
       "      <td>Experimental&gt;Novelty&gt;Kid-Friendly&gt;Kid-Friendly...</td>\n",
       "    </tr>\n",
       "    <tr>\n",
       "      <th>21</th>\n",
       "      <td>38-6-0-0-0</td>\n",
       "      <td>38</td>\n",
       "      <td>38-6</td>\n",
       "      <td>38-6-0</td>\n",
       "      <td>38-6-0-0</td>\n",
       "      <td>Experimental&gt;Novelty&gt;Novelty&gt;Novelty&gt;Novelty</td>\n",
       "    </tr>\n",
       "    <tr>\n",
       "      <th>22</th>\n",
       "      <td>38-6-16-763-1193</td>\n",
       "      <td>38</td>\n",
       "      <td>38-6</td>\n",
       "      <td>38-6-16</td>\n",
       "      <td>38-6-16-763</td>\n",
       "      <td>Experimental&gt;Novelty&gt;Sound Effects&gt;Holiday&gt;Chr...</td>\n",
       "    </tr>\n",
       "  </tbody>\n",
       "</table>\n",
       "</div>"
      ],
      "text/plain": [
       "              level5 level1    level2       level3         level4   \n",
       "0         38-0-0-0-0     38      38-0       38-0-0       38-0-0-0  \\\n",
       "1       1235-0-0-0-0   1235    1235-0     1235-0-0     1235-0-0-0   \n",
       "2     1235-107-0-0-0   1235  1235-107   1235-107-0   1235-107-0-0   \n",
       "3       38-186-0-0-0     38    38-186     38-186-0     38-186-0-0   \n",
       "4       38-250-0-0-0     38    38-250     38-250-0     38-250-0-0   \n",
       "5       38-247-0-0-0     38    38-247     38-247-0     38-247-0-0   \n",
       "6        38-41-0-0-0     38     38-41      38-41-0      38-41-0-0   \n",
       "7       38-224-0-0-0     38    38-224     38-224-0     38-224-0-0   \n",
       "8       38-514-0-0-0     38    38-514     38-514-0     38-514-0-0   \n",
       "9       38-456-0-0-0     38    38-456     38-456-0     38-456-0-0   \n",
       "10       38-32-0-0-0     38     38-32      38-32-0      38-32-0-0   \n",
       "11     1235-18-0-0-0   1235   1235-18    1235-18-0    1235-18-0-0   \n",
       "12        38-1-0-0-0     38      38-1       38-1-0       38-1-0-0   \n",
       "13   1235-18-538-0-0   1235   1235-18  1235-18-538  1235-18-538-0   \n",
       "14      38-125-0-0-0     38    38-125     38-125-0     38-125-0-0   \n",
       "15     38-6-16-763-0     38      38-6      38-6-16    38-6-16-763   \n",
       "16       38-47-0-0-0     38     38-47      38-47-0      38-47-0-0   \n",
       "17       38-22-0-0-0     38     38-22      38-22-0      38-22-0-0   \n",
       "18       38-30-0-0-0     38     38-30      38-30-0      38-30-0-0   \n",
       "19    1235-267-0-0-0   1235  1235-267   1235-267-0   1235-267-0-0   \n",
       "20      38-6-360-0-0     38      38-6     38-6-360     38-6-360-0   \n",
       "21        38-6-0-0-0     38      38-6       38-6-0       38-6-0-0   \n",
       "22  38-6-16-763-1193     38      38-6      38-6-16    38-6-16-763   \n",
       "\n",
       "                                          level5_name  \n",
       "0   Experimental>Experimental>Experimental>Experim...  \n",
       "1   Instrumental>Instrumental>Instrumental>Instrum...  \n",
       "2        Instrumental>Ambient>Ambient>Ambient>Ambient  \n",
       "3   Experimental>Sound Poetry>Sound Poetry>Sound P...  \n",
       "4            Experimental>Improv>Improv>Improv>Improv  \n",
       "5   Experimental>Musique Concrete>Musique Concrete...  \n",
       "6   Experimental>Electroacoustic>Electroacoustic>E...  \n",
       "7   Experimental>Sound Collage>Sound Collage>Sound...  \n",
       "8   Experimental>Sound Art>Sound Art>Sound Art>Sou...  \n",
       "9   Experimental>Minimalism>Minimalism>Minimalism>...  \n",
       "10               Experimental>Noise>Noise>Noise>Noise  \n",
       "11  Instrumental>Soundtrack>Soundtrack>Soundtrack>...  \n",
       "12  Experimental>Avant-Garde>Avant-Garde>Avant-Gar...  \n",
       "13  Instrumental>Soundtrack>Compilation>Compilatio...  \n",
       "14  Experimental>Unclassifiable>Unclassifiable>Unc...  \n",
       "15  Experimental>Novelty>Sound Effects>Holiday>Hol...  \n",
       "16               Experimental>Drone>Drone>Drone>Drone  \n",
       "17  Experimental>Audio Collage>Audio Collage>Audio...  \n",
       "18  Experimental>Field Recordings>Field Recordings...  \n",
       "19       Instrumental>New Age>New Age>New Age>New Age  \n",
       "20  Experimental>Novelty>Kid-Friendly>Kid-Friendly...  \n",
       "21       Experimental>Novelty>Novelty>Novelty>Novelty  \n",
       "22  Experimental>Novelty>Sound Effects>Holiday>Chr...  "
      ]
     },
     "execution_count": 45,
     "metadata": {},
     "output_type": "execute_result"
    }
   ],
   "source": [
    "categories_df"
   ]
  },
  {
   "cell_type": "code",
   "execution_count": 46,
   "id": "c2ced721-6c30-46da-95b5-a28b84b6a2a4",
   "metadata": {},
   "outputs": [],
   "source": [
    "def __create_labels__(categories_df):\n",
    "    data = {\n",
    "        \"label1\": {},\n",
    "        \"label2\": {},\n",
    "        \"label3\": {},\n",
    "        \"label4\": {},\n",
    "        \"label5\": {},\n",
    "        \"label1_inverse\": [],\n",
    "        \"label2_inverse\": [],\n",
    "        \"label3_inverse\": [],\n",
    "        \"label4_inverse\": [],\n",
    "        \"label5_inverse\": [],\n",
    "        \"label1_name\": {},\n",
    "        \"label2_name\": {},\n",
    "        \"label3_name\": {},\n",
    "        \"label4_name\": {},\n",
    "        \"label5_name\": {},\n",
    "    }\n",
    "\n",
    "    idx = 0\n",
    "    \n",
    "    for id_x, cat in enumerate(set(categories_df.level1.values.tolist())):\n",
    "        data['label1'][cat] = idx\n",
    "        data['label1_inverse'].append(cat)\n",
    "        data['label1_count'] = idx + 1\n",
    "        idx+=1\n",
    "\n",
    "    for id_x, cat in enumerate(set(categories_df.level2.values.tolist())):\n",
    "        data['label2'][cat] = idx\n",
    "        data['label2_inverse'].append(cat)\n",
    "        data['label2_count'] = idx + 1\n",
    "        idx+=1\n",
    "        \n",
    "    for id_x, cat in enumerate(set(categories_df.level3.values.tolist())):\n",
    "        data['label3'][cat] = idx\n",
    "        data['label3_inverse'].append(cat)\n",
    "        data['label3_count'] = idx + 1\n",
    "        idx+=1\n",
    "\n",
    "    for id_x, cat in enumerate(set(categories_df.level4.values.tolist())):\n",
    "        data['label4'][cat] = idx\n",
    "        data['label4_inverse'].append(cat)\n",
    "        data['label4_count'] = idx + 1\n",
    "        idx+=1\n",
    "        \n",
    "    for idx, cat in enumerate(set(categories_df.level5.values.tolist())):\n",
    "        data['label5'][cat] = idx\n",
    "        data['label5_inverse'].append(cat)\n",
    "        data['label5_count'] = idx + 1\n",
    "        idx+=1\n",
    "        \n",
    "    for cat5,cat1,cat2,cat3,cat4,name5 in categories_df.values:\n",
    "        \n",
    "        name1 = '>'.join(name5.split('>')[:1])\n",
    "        name2 = '>'.join(name5.split('>')[:2])\n",
    "        name3 = '>'.join(name5.split('>')[:3])\n",
    "        name4 = '>'.join(name5.split('>')[:4])\n",
    "        \n",
    "        \n",
    "        data['label1_name'][cat1] = name1\n",
    "        data['label2_name'][cat2] = name2\n",
    "        data['label3_name'][cat3] = name3\n",
    "        data['label4_name'][cat4] = name4\n",
    "        data['label5_name'][cat5] = name5\n",
    "        \n",
    "    return data"
   ]
  },
  {
   "cell_type": "code",
   "execution_count": 47,
   "id": "e7ccc947-b7ae-464d-a325-d61aa3cf5710",
   "metadata": {},
   "outputs": [],
   "source": [
    "with open(categories_labels_path, 'w+') as f:\n",
    "    f.write(json.dumps(__create_labels__(categories_df)))"
   ]
  },
  {
   "cell_type": "code",
   "execution_count": 48,
   "id": "3778cc5d-7def-4a1d-9f5b-b141bd08356c",
   "metadata": {},
   "outputs": [],
   "source": [
    "labels  = __create_labels__(categories_df)"
   ]
  },
  {
   "cell_type": "code",
   "execution_count": 49,
   "id": "a6b67e97-0813-492e-8323-f8588ca8d120",
   "metadata": {
    "tags": []
   },
   "outputs": [
    {
     "data": {
      "text/plain": [
       "{'38-22-0-0': 43,\n",
       " '38-41-0-0': 44,\n",
       " '38-125-0-0': 45,\n",
       " '38-247-0-0': 46,\n",
       " '38-186-0-0': 47,\n",
       " '38-30-0-0': 48,\n",
       " '38-6-360-0': 49,\n",
       " '38-224-0-0': 50,\n",
       " '38-456-0-0': 51,\n",
       " '38-6-0-0': 52,\n",
       " '1235-0-0-0': 53,\n",
       " '38-32-0-0': 54,\n",
       " '38-6-16-763': 55,\n",
       " '1235-267-0-0': 56,\n",
       " '1235-107-0-0': 57,\n",
       " '38-1-0-0': 58,\n",
       " '38-0-0-0': 59,\n",
       " '38-47-0-0': 60,\n",
       " '38-514-0-0': 61,\n",
       " '38-250-0-0': 62,\n",
       " '1235-18-0-0': 63,\n",
       " '1235-18-538-0': 64}"
      ]
     },
     "execution_count": 49,
     "metadata": {},
     "output_type": "execute_result"
    }
   ],
   "source": [
    "labels['label4']"
   ]
  },
  {
   "cell_type": "code",
   "execution_count": 50,
   "id": "676dd2f5-aa10-4a54-8542-fb86b770de22",
   "metadata": {},
   "outputs": [
    {
     "data": {
      "text/plain": [
       "2"
      ]
     },
     "execution_count": 50,
     "metadata": {},
     "output_type": "execute_result"
    }
   ],
   "source": [
    "labels['label1_count']"
   ]
  },
  {
   "cell_type": "code",
   "execution_count": 51,
   "id": "34af3ff3-11d0-415f-8736-519e5911ec59",
   "metadata": {},
   "outputs": [],
   "source": [
    "\n",
    "\n",
    "def parse_tfr_element(element):\n",
    "    #use the same structure as above; it's kinda an outline of the structure we now want to create\n",
    "    data = {\n",
    "        'emb' : tf.io.FixedLenFeature([], tf.string),\n",
    "        'track_id' : tf.io.FixedLenFeature([], tf.int64),\n",
    "    }\n",
    "    \n",
    "    content = tf.io.parse_single_example(element, data)\n",
    "\n",
    "    track_id = content['track_id']\n",
    "    emb = content['emb']\n",
    "    \n",
    "\n",
    "    #get our 'feature'-- our image -- and reshape it appropriately\n",
    "    feature = tf.io.parse_tensor(emb, out_type=tf.float32)\n",
    "    return (feature, track_id)\n",
    "\n",
    "\n",
    "def get_dataset(filename):\n",
    "    #create the dataset\n",
    "    dataset = tf.data.TFRecordDataset(filename)\n",
    "\n",
    "    #pass every single feature through our mapping function\n",
    "    dataset = dataset.map(\n",
    "        parse_tfr_element\n",
    "    )\n",
    "\n",
    "    return dataset\n",
    "\n",
    "\n"
   ]
  },
  {
   "cell_type": "code",
   "execution_count": 52,
   "id": "4580514b-0be9-4de5-a8d3-f987ba73134c",
   "metadata": {},
   "outputs": [],
   "source": [
    "import numpy as np\n",
    "\n",
    "\n",
    "def load_dataset(path,dataset=args.embeddings):\n",
    "    tfrecords_path = os.path.join(path,'tfrecords',dataset)\n",
    "    \n",
    "    \n",
    "    tfrecords_path = [os.path.join(tfrecords_path,path) for path in os.listdir(tfrecords_path)]\n",
    "    dataset = get_dataset(tfrecords_path)\n",
    "    \n",
    "    df = pd.DataFrame(\n",
    "        dataset.as_numpy_iterator(),\n",
    "        columns=['feature', 'track_id']\n",
    "    )\n",
    "        \n",
    "    df.dropna(inplace=True)\n",
    "    \n",
    "    \n",
    "    try:\n",
    "        df.feature = df.feature.apply(lambda x: x[0] if x.shape[0] != 0 else None)\n",
    "    except:\n",
    "        print(x)\n",
    "    \n",
    "    return df\n",
    "    \n"
   ]
  },
  {
   "cell_type": "code",
   "execution_count": 53,
   "id": "b5c8d2a5-ea5e-495a-a800-0d8cdede266f",
   "metadata": {},
   "outputs": [
    {
     "data": {
      "text/plain": [
       "labels_5\n",
       "38-0-0-0-0          6508\n",
       "1235-0-0-0-0        6043\n",
       "1235-107-0-0-0      3988\n",
       "38-250-0-0-0        3379\n",
       "38-247-0-0-0        2749\n",
       "38-41-0-0-0         1997\n",
       "38-224-0-0-0        1422\n",
       "38-32-0-0-0         1207\n",
       "38-47-0-0-0          841\n",
       "38-456-0-0-0         829\n",
       "38-125-0-0-0         703\n",
       "38-514-0-0-0         686\n",
       "1235-18-0-0-0        659\n",
       "38-186-0-0-0         428\n",
       "1235-18-538-0-0      323\n",
       "38-1-0-0-0           313\n",
       "38-30-0-0-0          254\n",
       "38-22-0-0-0          231\n",
       "1235-267-0-0-0       201\n",
       "38-6-16-763-0        194\n",
       "38-6-360-0-0         190\n",
       "38-6-16-763-1193      72\n",
       "38-6-0-0-0            63\n",
       "Name: count, dtype: int64"
      ]
     },
     "execution_count": 53,
     "metadata": {},
     "output_type": "execute_result"
    }
   ],
   "source": [
    "tracks_df['labels_5'].value_counts()"
   ]
  },
  {
   "cell_type": "code",
   "execution_count": 54,
   "id": "ecb34052-60dd-40db-9ba4-0a92c17f9eb0",
   "metadata": {},
   "outputs": [],
   "source": [
    "def __split_data__(group, percentage=0.1):\n",
    "    if len(group) == 1:\n",
    "        return group, group\n",
    "\n",
    "    shuffled = shuffle(group.values)\n",
    "    finish_test = int(ceil(len(group) * percentage))\n",
    "\n",
    "    first = pd.DataFrame(shuffled[:finish_test], columns=group.columns)\n",
    "    second = pd.DataFrame(shuffled[finish_test:], columns=group.columns)\n",
    "\n",
    "    return first, second"
   ]
  },
  {
   "cell_type": "code",
   "execution_count": 55,
   "id": "f6b687c1-660a-4e8c-a76a-6b2a85ae4d37",
   "metadata": {},
   "outputs": [],
   "source": [
    "def select_dataset(tracks_df):\n",
    "    \n",
    "#     dataset_testset_path = os.path.join(tfrecord_path,'test')\n",
    "#     dataset_validationset_path = os.path.join(tfrecord_path,'val')\n",
    "#     dataset_trainset_path = os.path.join(tfrecord_path,'train')\n",
    "    \n",
    "    df = load_dataset(args.dataset_path,dataset=args.embeddings)\n",
    "    \n",
    "    df.dropna(inplace=True)\n",
    "    \n",
    "    tracks_df = tracks_df.merge(df, on='track_id')\n",
    "    \n",
    "    tracks_df.loc[:,'labels_1'] = tracks_df.labels_1.astype(str).progress_apply(lambda x: labels['label1'][x])\n",
    "    tracks_df.loc[:,'labels_2'] = tracks_df.labels_2.astype(str).progress_apply(lambda x: labels['label2'][x])\n",
    "    tracks_df.loc[:,'labels_3'] = tracks_df.labels_3.astype(str).progress_apply(lambda x: labels['label3'][x])\n",
    "    tracks_df.loc[:,'labels_4'] = tracks_df.labels_4.astype(str).progress_apply(lambda x: labels['label4'][x])\n",
    "    tracks_df.loc[:,'labels_5'] = tracks_df.labels_5.astype(str).progress_apply(lambda x: labels['label5'][x])\n",
    "    \n",
    "    tests = []\n",
    "    trains = []\n",
    "    validations = []\n",
    "    groups = tracks_df.groupby(\"labels_5\")\n",
    "    \n",
    "    \n",
    "    count = 0\n",
    "    items_count = 0\n",
    "    total = len(groups)\n",
    "    total_items = len(tracks_df)\n",
    "    oversampling_size = 30  # int(group_sizes.mean() + group_sizes.std() * 2)\n",
    "    print(f\"oversampling_size: {oversampling_size}\")\n",
    "\n",
    "    for code, group in groups:\n",
    "        test, train_to_split = __split_data__(group, 0.01)  # 10%\n",
    "        train_to_split = train_to_split\n",
    "        validation, train = __split_data__(train_to_split, 0.01)  # %1\n",
    "\n",
    "        tests.append(test)\n",
    "        validations.append(validation)\n",
    "\n",
    "        ## this increase the numner of samples when classes has low quantity\n",
    "        count_train = len(train)\n",
    "        if count_train < oversampling_size:\n",
    "            train = train.sample(oversampling_size, replace=True)\n",
    "\n",
    "        trains.append(train)\n",
    "\n",
    "        count += 1\n",
    "        items_count += count_train\n",
    "        \n",
    "        \n",
    "    df_test = pd.concat(tests, sort=False).sample(frac=1).reset_index(drop=True)\n",
    "    # .to_csv(dataset_testset_path, index=False,quoting=csv.QUOTE_ALL)\n",
    "    df_val = pd.concat(validations, sort=False).sample(frac=1).reset_index(drop=True)\n",
    "    df_train = pd.concat(trains, sort=False).sample(frac=1).reset_index(drop=True)\n",
    "\n",
    "    return df_train,df_test,df_val"
   ]
  },
  {
   "cell_type": "code",
   "execution_count": 56,
   "id": "2935be5c-052f-4477-863a-acf7a160b9ea",
   "metadata": {
    "tags": []
   },
   "outputs": [
    {
     "name": "stderr",
     "output_type": "stream",
     "text": [
      "2023-05-15 15:23:28.646966: I tensorflow/core/common_runtime/gpu/gpu_device.cc:1635] Created device /job:localhost/replica:0/task:0/device:GPU:0 with 9574 MB memory:  -> device: 0, name: NVIDIA GeForce RTX 2080 Ti, pci bus id: 0000:65:00.0, compute capability: 7.5\n",
      "2023-05-15 15:23:28.877367: I tensorflow/core/common_runtime/executor.cc:1197] [/device:CPU:0] (DEBUG INFO) Executor start aborting (this does not indicate an error and you can ignore this message): INVALID_ARGUMENT: You must feed a value for placeholder tensor 'Placeholder/_0' with dtype string and shape [11]\n",
      "\t [[{{node Placeholder/_0}}]]\n"
     ]
    },
    {
     "data": {
      "application/vnd.jupyter.widget-view+json": {
       "model_id": "7ff052daf3b146dc9ce220c01cb063de",
       "version_major": 2,
       "version_minor": 0
      },
      "text/plain": [
       "  0%|          | 0/33278 [00:00<?, ?it/s]"
      ]
     },
     "metadata": {},
     "output_type": "display_data"
    },
    {
     "data": {
      "application/vnd.jupyter.widget-view+json": {
       "model_id": "d98a93545303440d8a1df9b3fcd85773",
       "version_major": 2,
       "version_minor": 0
      },
      "text/plain": [
       "  0%|          | 0/33278 [00:00<?, ?it/s]"
      ]
     },
     "metadata": {},
     "output_type": "display_data"
    },
    {
     "data": {
      "application/vnd.jupyter.widget-view+json": {
       "model_id": "d2a0f50a64714748b2ecb4bcb83c848c",
       "version_major": 2,
       "version_minor": 0
      },
      "text/plain": [
       "  0%|          | 0/33278 [00:00<?, ?it/s]"
      ]
     },
     "metadata": {},
     "output_type": "display_data"
    },
    {
     "data": {
      "application/vnd.jupyter.widget-view+json": {
       "model_id": "8803ff9077084d5fb8de24f041b4f5ad",
       "version_major": 2,
       "version_minor": 0
      },
      "text/plain": [
       "  0%|          | 0/33278 [00:00<?, ?it/s]"
      ]
     },
     "metadata": {},
     "output_type": "display_data"
    },
    {
     "data": {
      "application/vnd.jupyter.widget-view+json": {
       "model_id": "098644cebbb1418cbb1721d32dd97a9e",
       "version_major": 2,
       "version_minor": 0
      },
      "text/plain": [
       "  0%|          | 0/33278 [00:00<?, ?it/s]"
      ]
     },
     "metadata": {},
     "output_type": "display_data"
    },
    {
     "name": "stdout",
     "output_type": "stream",
     "text": [
      "oversampling_size: 30\n"
     ]
    }
   ],
   "source": [
    "df_train,df_test,df_val = select_dataset(tracks_df)"
   ]
  },
  {
   "cell_type": "code",
   "execution_count": 57,
   "id": "6ca3a658-7d5e-4bf6-a5e6-40dfe0b4813b",
   "metadata": {},
   "outputs": [
    {
     "data": {
      "text/html": [
       "<div>\n",
       "<style scoped>\n",
       "    .dataframe tbody tr th:only-of-type {\n",
       "        vertical-align: middle;\n",
       "    }\n",
       "\n",
       "    .dataframe tbody tr th {\n",
       "        vertical-align: top;\n",
       "    }\n",
       "\n",
       "    .dataframe thead th {\n",
       "        text-align: right;\n",
       "    }\n",
       "</style>\n",
       "<table border=\"1\" class=\"dataframe\">\n",
       "  <thead>\n",
       "    <tr style=\"text-align: right;\">\n",
       "      <th></th>\n",
       "      <th>track_id</th>\n",
       "      <th>full_genre_id</th>\n",
       "      <th>labels_1</th>\n",
       "      <th>labels_2</th>\n",
       "      <th>labels_3</th>\n",
       "      <th>labels_4</th>\n",
       "      <th>labels_5</th>\n",
       "      <th>feature</th>\n",
       "    </tr>\n",
       "  </thead>\n",
       "  <tbody>\n",
       "    <tr>\n",
       "      <th>0</th>\n",
       "      <td>145309</td>\n",
       "      <td>[38, 456]</td>\n",
       "      <td>0</td>\n",
       "      <td>5</td>\n",
       "      <td>38</td>\n",
       "      <td>51</td>\n",
       "      <td>21</td>\n",
       "      <td>[0.055912975, 0.35137907, -0.016573707, -0.024...</td>\n",
       "    </tr>\n",
       "    <tr>\n",
       "      <th>1</th>\n",
       "      <td>41054</td>\n",
       "      <td>[38, 186]</td>\n",
       "      <td>0</td>\n",
       "      <td>20</td>\n",
       "      <td>26</td>\n",
       "      <td>47</td>\n",
       "      <td>0</td>\n",
       "      <td>[-0.026045322, 0.027480403, -0.013469517, -0.0...</td>\n",
       "    </tr>\n",
       "    <tr>\n",
       "      <th>2</th>\n",
       "      <td>86979</td>\n",
       "      <td>[1235, 107]</td>\n",
       "      <td>1</td>\n",
       "      <td>9</td>\n",
       "      <td>22</td>\n",
       "      <td>57</td>\n",
       "      <td>15</td>\n",
       "      <td>[0.33327603, -0.024481317, 0.18244474, -0.0607...</td>\n",
       "    </tr>\n",
       "    <tr>\n",
       "      <th>3</th>\n",
       "      <td>120714</td>\n",
       "      <td>[1235]</td>\n",
       "      <td>1</td>\n",
       "      <td>3</td>\n",
       "      <td>25</td>\n",
       "      <td>53</td>\n",
       "      <td>17</td>\n",
       "      <td>[0.16110718, 0.060774684, -0.10526278, -0.0568...</td>\n",
       "    </tr>\n",
       "    <tr>\n",
       "      <th>4</th>\n",
       "      <td>118846</td>\n",
       "      <td>[1235]</td>\n",
       "      <td>1</td>\n",
       "      <td>3</td>\n",
       "      <td>25</td>\n",
       "      <td>53</td>\n",
       "      <td>17</td>\n",
       "      <td>[0.045932412, 0.2162286, -0.019199193, -0.0332...</td>\n",
       "    </tr>\n",
       "    <tr>\n",
       "      <th>...</th>\n",
       "      <td>...</td>\n",
       "      <td>...</td>\n",
       "      <td>...</td>\n",
       "      <td>...</td>\n",
       "      <td>...</td>\n",
       "      <td>...</td>\n",
       "      <td>...</td>\n",
       "      <td>...</td>\n",
       "    </tr>\n",
       "    <tr>\n",
       "      <th>32588</th>\n",
       "      <td>141261</td>\n",
       "      <td>[1235, 107]</td>\n",
       "      <td>1</td>\n",
       "      <td>9</td>\n",
       "      <td>22</td>\n",
       "      <td>57</td>\n",
       "      <td>15</td>\n",
       "      <td>[-0.0023950438, -0.00047282377, -0.0033394992,...</td>\n",
       "    </tr>\n",
       "    <tr>\n",
       "      <th>32589</th>\n",
       "      <td>53322</td>\n",
       "      <td>[38]</td>\n",
       "      <td>0</td>\n",
       "      <td>18</td>\n",
       "      <td>21</td>\n",
       "      <td>59</td>\n",
       "      <td>12</td>\n",
       "      <td>[-0.026444316, 0.031975966, -0.057269026, 0.00...</td>\n",
       "    </tr>\n",
       "    <tr>\n",
       "      <th>32590</th>\n",
       "      <td>40559</td>\n",
       "      <td>[38, 6, 16, 763]</td>\n",
       "      <td>0</td>\n",
       "      <td>2</td>\n",
       "      <td>28</td>\n",
       "      <td>55</td>\n",
       "      <td>4</td>\n",
       "      <td>[0.5035694, -0.12227299, -0.08204511, -0.00804...</td>\n",
       "    </tr>\n",
       "    <tr>\n",
       "      <th>32591</th>\n",
       "      <td>145936</td>\n",
       "      <td>[1235]</td>\n",
       "      <td>1</td>\n",
       "      <td>3</td>\n",
       "      <td>25</td>\n",
       "      <td>53</td>\n",
       "      <td>17</td>\n",
       "      <td>[-0.0036885838, -0.00404045, 0.013731887, -0.0...</td>\n",
       "    </tr>\n",
       "    <tr>\n",
       "      <th>32592</th>\n",
       "      <td>79977</td>\n",
       "      <td>[38, 30]</td>\n",
       "      <td>0</td>\n",
       "      <td>4</td>\n",
       "      <td>37</td>\n",
       "      <td>48</td>\n",
       "      <td>5</td>\n",
       "      <td>[0.009005289, 0.011865844, 0.044589132, 0.0185...</td>\n",
       "    </tr>\n",
       "  </tbody>\n",
       "</table>\n",
       "<p>32593 rows × 8 columns</p>\n",
       "</div>"
      ],
      "text/plain": [
       "      track_id     full_genre_id labels_1 labels_2 labels_3 labels_4 labels_5   \n",
       "0       145309         [38, 456]        0        5       38       51       21  \\\n",
       "1        41054         [38, 186]        0       20       26       47        0   \n",
       "2        86979       [1235, 107]        1        9       22       57       15   \n",
       "3       120714            [1235]        1        3       25       53       17   \n",
       "4       118846            [1235]        1        3       25       53       17   \n",
       "...        ...               ...      ...      ...      ...      ...      ...   \n",
       "32588   141261       [1235, 107]        1        9       22       57       15   \n",
       "32589    53322              [38]        0       18       21       59       12   \n",
       "32590    40559  [38, 6, 16, 763]        0        2       28       55        4   \n",
       "32591   145936            [1235]        1        3       25       53       17   \n",
       "32592    79977          [38, 30]        0        4       37       48        5   \n",
       "\n",
       "                                                 feature  \n",
       "0      [0.055912975, 0.35137907, -0.016573707, -0.024...  \n",
       "1      [-0.026045322, 0.027480403, -0.013469517, -0.0...  \n",
       "2      [0.33327603, -0.024481317, 0.18244474, -0.0607...  \n",
       "3      [0.16110718, 0.060774684, -0.10526278, -0.0568...  \n",
       "4      [0.045932412, 0.2162286, -0.019199193, -0.0332...  \n",
       "...                                                  ...  \n",
       "32588  [-0.0023950438, -0.00047282377, -0.0033394992,...  \n",
       "32589  [-0.026444316, 0.031975966, -0.057269026, 0.00...  \n",
       "32590  [0.5035694, -0.12227299, -0.08204511, -0.00804...  \n",
       "32591  [-0.0036885838, -0.00404045, 0.013731887, -0.0...  \n",
       "32592  [0.009005289, 0.011865844, 0.044589132, 0.0185...  \n",
       "\n",
       "[32593 rows x 8 columns]"
      ]
     },
     "execution_count": 57,
     "metadata": {},
     "output_type": "execute_result"
    }
   ],
   "source": [
    "df_train"
   ]
  },
  {
   "cell_type": "code",
   "execution_count": 64,
   "id": "a882ada1-9d1f-4fc1-9d4c-c2c7a0279557",
   "metadata": {},
   "outputs": [],
   "source": [
    "\n",
    "def _bytes_feature(value):\n",
    "    \"\"\"Returns a bytes_list from a string / byte.\"\"\"\n",
    "    if isinstance(value, type(tf.constant(0))): # if value ist tensor\n",
    "        value = value.numpy() # get value of tensor\n",
    "    return tf.train.Feature(bytes_list=tf.train.BytesList(value=[value]))\n",
    "\n",
    "def _float_feature(value):\n",
    "  \"\"\"Returns a floast_list from a float / double.\"\"\"\n",
    "  return tf.train.Feature(float_list=tf.train.FloatList(value=[value]))\n",
    "\n",
    "def _int64_feature(value):\n",
    "  \"\"\"Returns an int64_list from a bool / enum / int / uint.\"\"\"\n",
    "  return tf.train.Feature(int64_list=tf.train.Int64List(value=[value]))\n",
    "\n",
    "def serialize_array(array):\n",
    "  array = tf.io.serialize_tensor(array)\n",
    "  return array\n"
   ]
  },
  {
   "cell_type": "code",
   "execution_count": 65,
   "id": "847ca375-63be-4f96-8bbe-9346d827c3bd",
   "metadata": {},
   "outputs": [],
   "source": [
    "def parse_single_music(data,labels):\n",
    "    # cat1, cat2, cat3, cat4, cat5 = data\n",
    "    track_id, _, cat1, cat2, cat3, cat4, cat5, music = data\n",
    "    #define the dictionary -- the structure -- of our single example\n",
    "    data = {\n",
    "        'label1': _int64_feature(cat1),\n",
    "        'label2': _int64_feature(cat2),\n",
    "        'label3': _int64_feature(cat3),\n",
    "        'label4': _int64_feature(cat4),\n",
    "        'label5': _int64_feature(cat5),\n",
    "        'emb' : _bytes_feature(serialize_array(music)),\n",
    "        'track_id' : _int64_feature(track_id)\n",
    "    }\n",
    "    #create an Example, wrapping the single features\n",
    "    out = tf.train.Example(features=tf.train.Features(feature=data))\n",
    "\n",
    "    return out"
   ]
  },
  {
   "cell_type": "code",
   "execution_count": 66,
   "id": "75a8419a-fe56-4e6b-818b-7198f9370311",
   "metadata": {},
   "outputs": [],
   "source": [
    "def generate_tf_record(df,tf_path='val'):\n",
    "    create_dir(tf_path)\n",
    "    \n",
    "    \n",
    "    batch_size = 1024 * 50 # 50k records from each file batch\n",
    "    count = 0\n",
    "    total = math.ceil(len(df) / batch_size)\n",
    "\n",
    "    for i in range(0, len(df), batch_size):\n",
    "        batch_df = df[i:i+batch_size]\n",
    "        \n",
    "        tfrecords = [parse_single_music(data, labels) for data in batch_df.values]\n",
    "        \n",
    "        path = f\"{tf_path}/{str(count).zfill(10)}.tfrecord\"\n",
    "        \n",
    "        #with tf.python_io.TFRecordWriter(path) as writer:\n",
    "        with tf.io.TFRecordWriter(path) as writer:\n",
    "            for tfrecord in tfrecords:\n",
    "                writer.write(tfrecord.SerializeToString())\n",
    "\n",
    "        print(f\"{count} {len(tfrecords)} {path}\")\n",
    "        count += 1\n",
    "        print(f\"{count}/{total} batchs / {count * batch_size} processed\")\n",
    "\n",
    "    print(f\"{count}/{total} batchs / {len(df)} processed\")\n",
    "    \n",
    "    return tf_path\n",
    "\n",
    "    "
   ]
  },
  {
   "cell_type": "code",
   "execution_count": 67,
   "id": "5bc708b4-0cdd-46b6-94b6-66998aaa2c2f",
   "metadata": {},
   "outputs": [
    {
     "data": {
      "text/plain": [
       "'/mnt/disks/data/fma/trains/hierarchical_single/tfrecords'"
      ]
     },
     "execution_count": 67,
     "metadata": {},
     "output_type": "execute_result"
    }
   ],
   "source": [
    "tfrecord_path"
   ]
  },
  {
   "cell_type": "code",
   "execution_count": 68,
   "id": "c794e941-7f28-4a2d-81a1-a23fa8332ef5",
   "metadata": {},
   "outputs": [
    {
     "name": "stdout",
     "output_type": "stream",
     "text": [
      "/usr/bin/zsh: /home/bruno/anaconda3/lib/libtinfo.so.6: no version information available (required by /usr/bin/zsh)\n"
     ]
    }
   ],
   "source": [
    "!rm -R '/mnt/disks/data/fma/trains/hierarchical_single/tfrecords'"
   ]
  },
  {
   "cell_type": "code",
   "execution_count": 69,
   "id": "0149ac30-6fd3-44f6-8a98-e69dd2740419",
   "metadata": {},
   "outputs": [
    {
     "name": "stdout",
     "output_type": "stream",
     "text": [
      "0 340 /mnt/disks/data/fma/trains/hierarchical_single/tfrecords/val/0000000000.tfrecord\n",
      "1/1 batchs / 51200 processed\n",
      "1/1 batchs / 340 processed\n"
     ]
    }
   ],
   "source": [
    "val_path = generate_tf_record(df_val,tf_path=os.path.join(tfrecord_path,'val'))"
   ]
  },
  {
   "cell_type": "code",
   "execution_count": 70,
   "id": "770b69f6-8059-4fd7-a514-203302e1bd23",
   "metadata": {},
   "outputs": [
    {
     "name": "stdout",
     "output_type": "stream",
     "text": [
      "0 345 /mnt/disks/data/fma/trains/hierarchical_single/tfrecords/test/0000000000.tfrecord\n",
      "1/1 batchs / 51200 processed\n",
      "1/1 batchs / 345 processed\n"
     ]
    }
   ],
   "source": [
    "test_path = generate_tf_record(df_test,tf_path=os.path.join(tfrecord_path,'test'))"
   ]
  },
  {
   "cell_type": "code",
   "execution_count": 71,
   "id": "e9ef95bd-ead5-43ac-83e4-16cc24222a22",
   "metadata": {},
   "outputs": [
    {
     "name": "stdout",
     "output_type": "stream",
     "text": [
      "0 32593 /mnt/disks/data/fma/trains/hierarchical_single/tfrecords/train/0000000000.tfrecord\n",
      "1/1 batchs / 51200 processed\n",
      "1/1 batchs / 32593 processed\n"
     ]
    }
   ],
   "source": [
    "train_path = generate_tf_record(df_train,tf_path=os.path.join(tfrecord_path,'train'))"
   ]
  },
  {
   "cell_type": "code",
   "execution_count": 83,
   "id": "cd97175f-4b2b-49e0-bb74-84d12a2999a7",
   "metadata": {},
   "outputs": [],
   "source": [
    "def create_metadata(metadata_path):\n",
    "\n",
    "    with open(metadata_path, 'w+') as f:\n",
    "        f.write(json.dumps({\n",
    "            \n",
    "            'sequence_size': args.sequence_size,\n",
    "            'n_levels': labels_size,\n",
    "            'labels_size': [labels['label1_count'],labels['label2_count'],\n",
    "                           labels['label3_count'],labels['label4_count'],\n",
    "                           labels['label5_count']],\n",
    "            'val_path': val_path,\n",
    "            'train_path': train_path,\n",
    "            'test_path': test_path,\n",
    "            'trainset_count': len(df_train),\n",
    "            'validationset_count': len(df_val),\n",
    "            'testset_count': len(df_test)\n",
    "        }))"
   ]
  },
  {
   "cell_type": "code",
   "execution_count": 84,
   "id": "39a433f0-af90-4c10-afee-138b9f5c43a6",
   "metadata": {},
   "outputs": [],
   "source": [
    "create_metadata(metadata_path)"
   ]
  },
  {
   "cell_type": "code",
   "execution_count": 85,
   "id": "af5df190-01df-4f13-a475-35132a6712f4",
   "metadata": {},
   "outputs": [],
   "source": [
    "tracks_df.to_csv(os.path.join(train_path,\"tracks.csv\"),index=False)"
   ]
  },
  {
   "cell_type": "code",
   "execution_count": null,
   "id": "339b8ce0-792b-4c94-b70e-3c031aa7b124",
   "metadata": {},
   "outputs": [],
   "source": []
  }
 ],
 "metadata": {
  "kernelspec": {
   "display_name": "Python 3 (ipykernel)",
   "language": "python",
   "name": "python3"
  },
  "language_info": {
   "codemirror_mode": {
    "name": "ipython",
    "version": 3
   },
   "file_extension": ".py",
   "mimetype": "text/x-python",
   "name": "python",
   "nbconvert_exporter": "python",
   "pygments_lexer": "ipython3",
   "version": "3.11.3"
  }
 },
 "nbformat": 4,
 "nbformat_minor": 5
}
