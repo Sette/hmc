{
 "cells": [
  {
   "cell_type": "code",
   "execution_count": 47,
   "id": "4843caad-aa4a-420d-81f8-dcc1189318c6",
   "metadata": {
    "tags": []
   },
   "outputs": [],
   "source": [
    "import pandas as pd\n",
    "import numpy as np\n",
    "import tensorflow as tf\n",
    "import json\n",
    "import ast\n",
    "import os\n",
    "import csv\n",
    "import math\n",
    "from sklearn.utils import shuffle\n",
    "from math import ceil\n",
    "\n",
    "from sklearn.model_selection import train_test_split\n",
    "from tqdm.notebook import tqdm"
   ]
  },
  {
   "cell_type": "code",
   "execution_count": 48,
   "id": "47f36844-bc15-46f4-8994-6744042b62cd",
   "metadata": {},
   "outputs": [],
   "source": [
    "tqdm.pandas()"
   ]
  },
  {
   "cell_type": "code",
   "execution_count": 49,
   "id": "194b058a-a5c5-4d87-817d-aeb9e833cc2b",
   "metadata": {},
   "outputs": [],
   "source": [
    "\n",
    "args = pd.Series({\n",
    "    \"root_dir\":\"/mnt/disks/data/\",\n",
    "    \"dataset_path\":\"/mnt/disks/data/fma/fma_large\",\n",
    "    \"embeddings\":\"music_style\",\n",
    "    \"sequence_size\": 1280,\n",
    "    \"train_id\": \"hierarchical_single\",\n",
    "    'sample_size': 1\n",
    "})\n"
   ]
  },
  {
   "cell_type": "code",
   "execution_count": 50,
   "id": "87f3fe25-bd80-4976-ba77-ab30589a9cd6",
   "metadata": {},
   "outputs": [],
   "source": [
    "\n",
    "job_path = \"/mnt/disks/data/fma/trains\"\n",
    "\n",
    "# In[15]:\n",
    "\n",
    "train_path = os.path.join(job_path,args.train_id)\n",
    "\n",
    "\n",
    "tfrecord_path = os.path.join(train_path,\"tfrecords\")\n",
    "\n",
    "# In[16]:\n",
    "\n",
    "base_path = os.path.join(args.root_dir,\"fma\")\n",
    "\n",
    "# In[17]:\n",
    "\n",
    "models_path = os.path.join(args.root_dir,\"models\")\n",
    "\n",
    "\n",
    "metadata_path_fma = os.path.join(base_path,\"fma_metadata\")\n",
    "\n",
    "# In[18]:\n",
    "\n",
    "metadata_path = os.path.join(train_path,\"metadata.json\")\n",
    "\n",
    "\n",
    "categories_labels_path = os.path.join(train_path,\"labels.json\")\n"
   ]
  },
  {
   "cell_type": "code",
   "execution_count": 51,
   "id": "ffea2009-fdc3-425e-bd6b-a67696ab24da",
   "metadata": {},
   "outputs": [],
   "source": [
    "\n",
    "\n",
    "def __load_json__(path):\n",
    "    with open(path, 'r') as f:\n",
    "        tmp = json.loads(f.read())\n",
    "\n",
    "    return tmp\n",
    "\n",
    "\n"
   ]
  },
  {
   "cell_type": "code",
   "execution_count": 52,
   "id": "b413d7a2",
   "metadata": {},
   "outputs": [],
   "source": [
    "\n",
    "def create_dir(path):\n",
    "    # checking if the directory demo_folder2 \n",
    "    # exist or not.\n",
    "    if not os.path.isdir(path):\n",
    "\n",
    "        # if the demo_folder2 directory is \n",
    "        # not present then create it.\n",
    "        os.makedirs(path)\n",
    "    return True\n",
    "\n"
   ]
  },
  {
   "cell_type": "code",
   "execution_count": 53,
   "id": "be2f0fcc",
   "metadata": {},
   "outputs": [
    {
     "data": {
      "text/plain": [
       "True"
      ]
     },
     "execution_count": 53,
     "metadata": {},
     "output_type": "execute_result"
    }
   ],
   "source": [
    "create_dir(train_path)"
   ]
  },
  {
   "cell_type": "markdown",
   "id": "6ab3d0b4-fc7f-4c73-b0cc-9d89729bae84",
   "metadata": {
    "tags": []
   },
   "source": [
    "## Load genres file. Contains relationships beetwen genres"
   ]
  },
  {
   "cell_type": "code",
   "execution_count": 54,
   "id": "7596e665-526e-400b-93ad-432cb7eb0d79",
   "metadata": {},
   "outputs": [],
   "source": [
    "genres_df = pd.read_csv(os.path.join(metadata_path_fma,'genres.csv'))\n"
   ]
  },
  {
   "cell_type": "code",
   "execution_count": 55,
   "id": "582b4335-bf69-4c9a-873e-ffd8253ede25",
   "metadata": {},
   "outputs": [
    {
     "data": {
      "text/html": [
       "<div>\n",
       "<style scoped>\n",
       "    .dataframe tbody tr th:only-of-type {\n",
       "        vertical-align: middle;\n",
       "    }\n",
       "\n",
       "    .dataframe tbody tr th {\n",
       "        vertical-align: top;\n",
       "    }\n",
       "\n",
       "    .dataframe thead th {\n",
       "        text-align: right;\n",
       "    }\n",
       "</style>\n",
       "<table border=\"1\" class=\"dataframe\">\n",
       "  <thead>\n",
       "    <tr style=\"text-align: right;\">\n",
       "      <th></th>\n",
       "      <th>genre_id</th>\n",
       "      <th>#tracks</th>\n",
       "      <th>parent</th>\n",
       "      <th>title</th>\n",
       "      <th>top_level</th>\n",
       "    </tr>\n",
       "  </thead>\n",
       "  <tbody>\n",
       "    <tr>\n",
       "      <th>0</th>\n",
       "      <td>1</td>\n",
       "      <td>8693</td>\n",
       "      <td>38</td>\n",
       "      <td>Avant-Garde</td>\n",
       "      <td>38</td>\n",
       "    </tr>\n",
       "    <tr>\n",
       "      <th>1</th>\n",
       "      <td>2</td>\n",
       "      <td>5271</td>\n",
       "      <td>0</td>\n",
       "      <td>International</td>\n",
       "      <td>2</td>\n",
       "    </tr>\n",
       "    <tr>\n",
       "      <th>2</th>\n",
       "      <td>3</td>\n",
       "      <td>1752</td>\n",
       "      <td>0</td>\n",
       "      <td>Blues</td>\n",
       "      <td>3</td>\n",
       "    </tr>\n",
       "    <tr>\n",
       "      <th>3</th>\n",
       "      <td>4</td>\n",
       "      <td>4126</td>\n",
       "      <td>0</td>\n",
       "      <td>Jazz</td>\n",
       "      <td>4</td>\n",
       "    </tr>\n",
       "    <tr>\n",
       "      <th>4</th>\n",
       "      <td>5</td>\n",
       "      <td>4106</td>\n",
       "      <td>0</td>\n",
       "      <td>Classical</td>\n",
       "      <td>5</td>\n",
       "    </tr>\n",
       "    <tr>\n",
       "      <th>...</th>\n",
       "      <td>...</td>\n",
       "      <td>...</td>\n",
       "      <td>...</td>\n",
       "      <td>...</td>\n",
       "      <td>...</td>\n",
       "    </tr>\n",
       "    <tr>\n",
       "      <th>158</th>\n",
       "      <td>1032</td>\n",
       "      <td>60</td>\n",
       "      <td>102</td>\n",
       "      <td>Turkish</td>\n",
       "      <td>2</td>\n",
       "    </tr>\n",
       "    <tr>\n",
       "      <th>159</th>\n",
       "      <td>1060</td>\n",
       "      <td>30</td>\n",
       "      <td>46</td>\n",
       "      <td>Tango</td>\n",
       "      <td>2</td>\n",
       "    </tr>\n",
       "    <tr>\n",
       "      <th>160</th>\n",
       "      <td>1156</td>\n",
       "      <td>26</td>\n",
       "      <td>130</td>\n",
       "      <td>Fado</td>\n",
       "      <td>2</td>\n",
       "    </tr>\n",
       "    <tr>\n",
       "      <th>161</th>\n",
       "      <td>1193</td>\n",
       "      <td>72</td>\n",
       "      <td>763</td>\n",
       "      <td>Christmas</td>\n",
       "      <td>38</td>\n",
       "    </tr>\n",
       "    <tr>\n",
       "      <th>162</th>\n",
       "      <td>1235</td>\n",
       "      <td>14938</td>\n",
       "      <td>0</td>\n",
       "      <td>Instrumental</td>\n",
       "      <td>1235</td>\n",
       "    </tr>\n",
       "  </tbody>\n",
       "</table>\n",
       "<p>163 rows × 5 columns</p>\n",
       "</div>"
      ],
      "text/plain": [
       "     genre_id  #tracks  parent          title  top_level\n",
       "0           1     8693      38    Avant-Garde         38\n",
       "1           2     5271       0  International          2\n",
       "2           3     1752       0          Blues          3\n",
       "3           4     4126       0           Jazz          4\n",
       "4           5     4106       0      Classical          5\n",
       "..        ...      ...     ...            ...        ...\n",
       "158      1032       60     102        Turkish          2\n",
       "159      1060       30      46          Tango          2\n",
       "160      1156       26     130           Fado          2\n",
       "161      1193       72     763      Christmas         38\n",
       "162      1235    14938       0   Instrumental       1235\n",
       "\n",
       "[163 rows x 5 columns]"
      ]
     },
     "execution_count": 55,
     "metadata": {},
     "output_type": "execute_result"
    }
   ],
   "source": [
    "genres_df"
   ]
  },
  {
   "cell_type": "code",
   "execution_count": 56,
   "id": "d80be793-93db-4610-ae66-5f14bf99bd2b",
   "metadata": {},
   "outputs": [
    {
     "data": {
      "text/html": [
       "<div>\n",
       "<style scoped>\n",
       "    .dataframe tbody tr th:only-of-type {\n",
       "        vertical-align: middle;\n",
       "    }\n",
       "\n",
       "    .dataframe tbody tr th {\n",
       "        vertical-align: top;\n",
       "    }\n",
       "\n",
       "    .dataframe thead th {\n",
       "        text-align: right;\n",
       "    }\n",
       "</style>\n",
       "<table border=\"1\" class=\"dataframe\">\n",
       "  <thead>\n",
       "    <tr style=\"text-align: right;\">\n",
       "      <th></th>\n",
       "      <th>genre_id</th>\n",
       "      <th>#tracks</th>\n",
       "      <th>parent</th>\n",
       "      <th>title</th>\n",
       "      <th>top_level</th>\n",
       "    </tr>\n",
       "  </thead>\n",
       "  <tbody>\n",
       "    <tr>\n",
       "      <th>136</th>\n",
       "      <td>495</td>\n",
       "      <td>2061</td>\n",
       "      <td>15</td>\n",
       "      <td>Downtempo</td>\n",
       "      <td>15</td>\n",
       "    </tr>\n",
       "  </tbody>\n",
       "</table>\n",
       "</div>"
      ],
      "text/plain": [
       "     genre_id  #tracks  parent      title  top_level\n",
       "136       495     2061      15  Downtempo         15"
      ]
     },
     "execution_count": 56,
     "metadata": {},
     "output_type": "execute_result"
    }
   ],
   "source": [
    "genres_df[genres_df['genre_id'] == 495]"
   ]
  },
  {
   "cell_type": "code",
   "execution_count": 57,
   "id": "28762aaf-32a4-41a5-af9c-cee3eca712ad",
   "metadata": {},
   "outputs": [],
   "source": [
    "# Cria um dicionário que associa o ID de cada música aos IDs de seus gêneros musicais\n",
    "tracks_df = pd.read_csv(os.path.join(metadata_path_fma,'tracks_valid.csv'))"
   ]
  },
  {
   "cell_type": "code",
   "execution_count": 58,
   "id": "13ea402f-660b-4b95-8f91-563c01971578",
   "metadata": {},
   "outputs": [],
   "source": [
    "tracks_df = tracks_df.sample(frac=args.sample_size)"
   ]
  },
  {
   "cell_type": "code",
   "execution_count": 59,
   "id": "552289c1-6b0d-48a9-8cd9-a185c12f6c9a",
   "metadata": {},
   "outputs": [
    {
     "data": {
      "text/html": [
       "<div>\n",
       "<style scoped>\n",
       "    .dataframe tbody tr th:only-of-type {\n",
       "        vertical-align: middle;\n",
       "    }\n",
       "\n",
       "    .dataframe tbody tr th {\n",
       "        vertical-align: top;\n",
       "    }\n",
       "\n",
       "    .dataframe thead th {\n",
       "        text-align: right;\n",
       "    }\n",
       "</style>\n",
       "<table border=\"1\" class=\"dataframe\">\n",
       "  <thead>\n",
       "    <tr style=\"text-align: right;\">\n",
       "      <th></th>\n",
       "      <th>track_id</th>\n",
       "      <th>track_title</th>\n",
       "      <th>valid_genre</th>\n",
       "    </tr>\n",
       "  </thead>\n",
       "  <tbody>\n",
       "    <tr>\n",
       "      <th>35663</th>\n",
       "      <td>54767</td>\n",
       "      <td>Night Stalking</td>\n",
       "      <td>['38', '88', '113']</td>\n",
       "    </tr>\n",
       "    <tr>\n",
       "      <th>5737</th>\n",
       "      <td>10783</td>\n",
       "      <td>Indra Merca</td>\n",
       "      <td>['18', '224']</td>\n",
       "    </tr>\n",
       "    <tr>\n",
       "      <th>84031</th>\n",
       "      <td>127451</td>\n",
       "      <td>I Want to See Her Now</td>\n",
       "      <td>['1', '38']</td>\n",
       "    </tr>\n",
       "    <tr>\n",
       "      <th>68888</th>\n",
       "      <td>107558</td>\n",
       "      <td>Lamplight</td>\n",
       "      <td>['10', '66']</td>\n",
       "    </tr>\n",
       "    <tr>\n",
       "      <th>489</th>\n",
       "      <td>726</td>\n",
       "      <td>Track 01</td>\n",
       "      <td>['32']</td>\n",
       "    </tr>\n",
       "    <tr>\n",
       "      <th>28011</th>\n",
       "      <td>43310</td>\n",
       "      <td>Pennies From Heaven</td>\n",
       "      <td>['38', '362']</td>\n",
       "    </tr>\n",
       "    <tr>\n",
       "      <th>56820</th>\n",
       "      <td>85675</td>\n",
       "      <td>In the Can</td>\n",
       "      <td>['4', '12', '38']</td>\n",
       "    </tr>\n",
       "    <tr>\n",
       "      <th>69608</th>\n",
       "      <td>108444</td>\n",
       "      <td>Nuthin Bout Tha Weather</td>\n",
       "      <td>['21']</td>\n",
       "    </tr>\n",
       "    <tr>\n",
       "      <th>103916</th>\n",
       "      <td>154956</td>\n",
       "      <td>peace flower</td>\n",
       "      <td>['18', '42', '495']</td>\n",
       "    </tr>\n",
       "    <tr>\n",
       "      <th>86755</th>\n",
       "      <td>131127</td>\n",
       "      <td>Rock Zombie</td>\n",
       "      <td>['25', '85']</td>\n",
       "    </tr>\n",
       "    <tr>\n",
       "      <th>99625</th>\n",
       "      <td>148342</td>\n",
       "      <td>Be Storm</td>\n",
       "      <td>['17', '26', '66']</td>\n",
       "    </tr>\n",
       "    <tr>\n",
       "      <th>103383</th>\n",
       "      <td>154347</td>\n",
       "      <td>7 Days for Life (demo 2017)</td>\n",
       "      <td>['10', '15', '76']</td>\n",
       "    </tr>\n",
       "    <tr>\n",
       "      <th>30152</th>\n",
       "      <td>46788</td>\n",
       "      <td>A Quiet Neighbourhood In Kobe</td>\n",
       "      <td>['17', '27', '103']</td>\n",
       "    </tr>\n",
       "    <tr>\n",
       "      <th>37107</th>\n",
       "      <td>57121</td>\n",
       "      <td>1.april</td>\n",
       "      <td>['15', '811']</td>\n",
       "    </tr>\n",
       "    <tr>\n",
       "      <th>63286</th>\n",
       "      <td>97099</td>\n",
       "      <td>Drive-In Saturday</td>\n",
       "      <td>['38', '42', '111']</td>\n",
       "    </tr>\n",
       "    <tr>\n",
       "      <th>74579</th>\n",
       "      <td>114990</td>\n",
       "      <td>Crossfire</td>\n",
       "      <td>['3', '9', '17', '103']</td>\n",
       "    </tr>\n",
       "    <tr>\n",
       "      <th>79071</th>\n",
       "      <td>120715</td>\n",
       "      <td>Wandering</td>\n",
       "      <td>['811', '1235']</td>\n",
       "    </tr>\n",
       "    <tr>\n",
       "      <th>35510</th>\n",
       "      <td>54576</td>\n",
       "      <td>Procesión Virgen del Carmen</td>\n",
       "      <td>['46']</td>\n",
       "    </tr>\n",
       "    <tr>\n",
       "      <th>36937</th>\n",
       "      <td>56907</td>\n",
       "      <td>April</td>\n",
       "      <td>['27', '94']</td>\n",
       "    </tr>\n",
       "    <tr>\n",
       "      <th>62778</th>\n",
       "      <td>96421</td>\n",
       "      <td>Aphonia Paranoica</td>\n",
       "      <td>['15', '38', '70']</td>\n",
       "    </tr>\n",
       "  </tbody>\n",
       "</table>\n",
       "</div>"
      ],
      "text/plain": [
       "        track_id                    track_title              valid_genre\n",
       "35663      54767                 Night Stalking      ['38', '88', '113']\n",
       "5737       10783                    Indra Merca            ['18', '224']\n",
       "84031     127451          I Want to See Her Now              ['1', '38']\n",
       "68888     107558                      Lamplight             ['10', '66']\n",
       "489          726                       Track 01                   ['32']\n",
       "28011      43310            Pennies From Heaven            ['38', '362']\n",
       "56820      85675                     In the Can        ['4', '12', '38']\n",
       "69608     108444        Nuthin Bout Tha Weather                   ['21']\n",
       "103916    154956                   peace flower      ['18', '42', '495']\n",
       "86755     131127                    Rock Zombie             ['25', '85']\n",
       "99625     148342                       Be Storm       ['17', '26', '66']\n",
       "103383    154347    7 Days for Life (demo 2017)       ['10', '15', '76']\n",
       "30152      46788  A Quiet Neighbourhood In Kobe      ['17', '27', '103']\n",
       "37107      57121                        1.april            ['15', '811']\n",
       "63286      97099              Drive-In Saturday      ['38', '42', '111']\n",
       "74579     114990                      Crossfire  ['3', '9', '17', '103']\n",
       "79071     120715                      Wandering          ['811', '1235']\n",
       "35510      54576    Procesión Virgen del Carmen                   ['46']\n",
       "36937      56907                          April             ['27', '94']\n",
       "62778      96421              Aphonia Paranoica       ['15', '38', '70']"
      ]
     },
     "execution_count": 59,
     "metadata": {},
     "output_type": "execute_result"
    }
   ],
   "source": [
    "tracks_df.sample(20)"
   ]
  },
  {
   "cell_type": "code",
   "execution_count": 60,
   "id": "fa6c0adc-32c6-4a14-a9aa-f0af12eacbf1",
   "metadata": {},
   "outputs": [
    {
     "data": {
      "text/plain": [
       "array([\"['7', '15', '297']\", \"['167']\", \"['27', '66', '76', '77']\", ...,\n",
       "       \"['240']\", \"['15', '32', '38', '247']\", \"['38', '53', '70']\"],\n",
       "      dtype=object)"
      ]
     },
     "execution_count": 60,
     "metadata": {},
     "output_type": "execute_result"
    }
   ],
   "source": [
    "tracks_df.valid_genre.values"
   ]
  },
  {
   "cell_type": "code",
   "execution_count": 61,
   "id": "31ad48bd-2868-46ed-81e6-02b6b26e2b1c",
   "metadata": {},
   "outputs": [
    {
     "data": {
      "text/plain": [
       "45118                                  Plan 9\n",
       "9600                                Excerpt 1\n",
       "31361                                Epilogue\n",
       "19711                              La Batalla\n",
       "1018                              White Walls\n",
       "                         ...                 \n",
       "4782                     The Hydrologic Cycle\n",
       "17134                                Man Down\n",
       "51213    10 Days for the Three Malarkey Twins\n",
       "15665                                Aircraft\n",
       "50551                                 21. vek\n",
       "Name: track_title, Length: 104186, dtype: object"
      ]
     },
     "execution_count": 61,
     "metadata": {},
     "output_type": "execute_result"
    }
   ],
   "source": [
    "tracks_df.track_title"
   ]
  },
  {
   "cell_type": "code",
   "execution_count": 62,
   "id": "220d2eb1-95ba-41d8-9499-bd6278ef473a",
   "metadata": {},
   "outputs": [],
   "source": [
    "## Get complete genre structure\n",
    "def get_all_structure(estrutura,df_genres):\n",
    "    ## Get structure from df_genres\n",
    "    def get_all_structure_from_df(estrutura,df_genres,structure=[]):\n",
    "        if estrutura == 0:\n",
    "            return structure\n",
    "        else:\n",
    "            structure.append(int(estrutura))\n",
    "            get_all_structure_from_df(df_genres[df_genres[\"genre_id\"]==int(estrutura)].parent.values[0],df_genres,structure)\n",
    "            return structure\n",
    "    \n",
    "    return get_all_structure_from_df(estrutura,df_genres,structure=[])\n",
    "    "
   ]
  },
  {
   "cell_type": "code",
   "execution_count": 63,
   "id": "2e89c7be-57eb-46bf-8506-b966ab685b50",
   "metadata": {},
   "outputs": [],
   "source": [
    "# tracks_df['valid_genre'] = tracks_df.track_genres.apply(lambda x: x.strip('][').split(', ') if x != '[]' else None)\n",
    "tracks_df['valid_genre'] = tracks_df.valid_genre.apply(lambda x: ast.literal_eval(x))"
   ]
  },
  {
   "cell_type": "code",
   "execution_count": 64,
   "id": "b50f6d87-8a38-4b6a-92b7-c10a559de965",
   "metadata": {},
   "outputs": [],
   "source": [
    "tracks_df['last_genre_id'] = tracks_df.valid_genre.apply(lambda x:x[-1] if x != None else None)"
   ]
  },
  {
   "cell_type": "code",
   "execution_count": 65,
   "id": "5c1ccfaf-ad6a-4f6c-87d6-b6e8a74a8d0c",
   "metadata": {},
   "outputs": [
    {
     "data": {
      "text/html": [
       "<div>\n",
       "<style scoped>\n",
       "    .dataframe tbody tr th:only-of-type {\n",
       "        vertical-align: middle;\n",
       "    }\n",
       "\n",
       "    .dataframe tbody tr th {\n",
       "        vertical-align: top;\n",
       "    }\n",
       "\n",
       "    .dataframe thead th {\n",
       "        text-align: right;\n",
       "    }\n",
       "</style>\n",
       "<table border=\"1\" class=\"dataframe\">\n",
       "  <thead>\n",
       "    <tr style=\"text-align: right;\">\n",
       "      <th></th>\n",
       "      <th>track_id</th>\n",
       "      <th>track_title</th>\n",
       "      <th>valid_genre</th>\n",
       "      <th>last_genre_id</th>\n",
       "    </tr>\n",
       "  </thead>\n",
       "  <tbody>\n",
       "    <tr>\n",
       "      <th>74564</th>\n",
       "      <td>114975</td>\n",
       "      <td>stormy castles (present)</td>\n",
       "      <td>[32, 38]</td>\n",
       "      <td>38</td>\n",
       "    </tr>\n",
       "    <tr>\n",
       "      <th>19687</th>\n",
       "      <td>31845</td>\n",
       "      <td>Shallow Grave</td>\n",
       "      <td>[12, 85]</td>\n",
       "      <td>85</td>\n",
       "    </tr>\n",
       "    <tr>\n",
       "      <th>52457</th>\n",
       "      <td>79928</td>\n",
       "      <td>Nighttime in dormitory</td>\n",
       "      <td>[1, 18, 38]</td>\n",
       "      <td>38</td>\n",
       "    </tr>\n",
       "    <tr>\n",
       "      <th>58115</th>\n",
       "      <td>87374</td>\n",
       "      <td>Motif Three</td>\n",
       "      <td>[42]</td>\n",
       "      <td>42</td>\n",
       "    </tr>\n",
       "    <tr>\n",
       "      <th>8406</th>\n",
       "      <td>14392</td>\n",
       "      <td>Never All Ways (clean)</td>\n",
       "      <td>[21]</td>\n",
       "      <td>21</td>\n",
       "    </tr>\n",
       "    <tr>\n",
       "      <th>96601</th>\n",
       "      <td>144493</td>\n",
       "      <td>Pulse</td>\n",
       "      <td>[15, 267, 1235]</td>\n",
       "      <td>1235</td>\n",
       "    </tr>\n",
       "    <tr>\n",
       "      <th>101704</th>\n",
       "      <td>151351</td>\n",
       "      <td>100 Bags</td>\n",
       "      <td>[100, 130]</td>\n",
       "      <td>130</td>\n",
       "    </tr>\n",
       "    <tr>\n",
       "      <th>55421</th>\n",
       "      <td>83902</td>\n",
       "      <td>Tear Drops</td>\n",
       "      <td>[1, 38, 186]</td>\n",
       "      <td>186</td>\n",
       "    </tr>\n",
       "    <tr>\n",
       "      <th>32172</th>\n",
       "      <td>49872</td>\n",
       "      <td>The Walker Volume One Part Two</td>\n",
       "      <td>[1, 25, 32]</td>\n",
       "      <td>32</td>\n",
       "    </tr>\n",
       "    <tr>\n",
       "      <th>42485</th>\n",
       "      <td>64357</td>\n",
       "      <td>To The Dusk (Original 1994 4track Recording)</td>\n",
       "      <td>[21]</td>\n",
       "      <td>21</td>\n",
       "    </tr>\n",
       "    <tr>\n",
       "      <th>14561</th>\n",
       "      <td>23797</td>\n",
       "      <td>Type your text</td>\n",
       "      <td>[15, 27, 240, 401]</td>\n",
       "      <td>401</td>\n",
       "    </tr>\n",
       "    <tr>\n",
       "      <th>85430</th>\n",
       "      <td>129457</td>\n",
       "      <td>I'm Giving You My Cold For Christmas (karaoke)</td>\n",
       "      <td>[6, 10, 1193]</td>\n",
       "      <td>1193</td>\n",
       "    </tr>\n",
       "    <tr>\n",
       "      <th>103649</th>\n",
       "      <td>154654</td>\n",
       "      <td>Blackout</td>\n",
       "      <td>[31, 90, 109]</td>\n",
       "      <td>109</td>\n",
       "    </tr>\n",
       "    <tr>\n",
       "      <th>104118</th>\n",
       "      <td>155234</td>\n",
       "      <td>obra sintética</td>\n",
       "      <td>[38, 41, 107]</td>\n",
       "      <td>107</td>\n",
       "    </tr>\n",
       "    <tr>\n",
       "      <th>13493</th>\n",
       "      <td>22197</td>\n",
       "      <td>Western Meadowlark</td>\n",
       "      <td>[10, 27, 66]</td>\n",
       "      <td>66</td>\n",
       "    </tr>\n",
       "    <tr>\n",
       "      <th>80848</th>\n",
       "      <td>123207</td>\n",
       "      <td>Ascension_DEATH/artifacts</td>\n",
       "      <td>[15, 19, 267]</td>\n",
       "      <td>267</td>\n",
       "    </tr>\n",
       "    <tr>\n",
       "      <th>60992</th>\n",
       "      <td>93443</td>\n",
       "      <td>Un Rascacielo</td>\n",
       "      <td>[20, 43]</td>\n",
       "      <td>43</td>\n",
       "    </tr>\n",
       "    <tr>\n",
       "      <th>16288</th>\n",
       "      <td>26804</td>\n",
       "      <td>Das</td>\n",
       "      <td>[25, 89, 314]</td>\n",
       "      <td>314</td>\n",
       "    </tr>\n",
       "    <tr>\n",
       "      <th>43961</th>\n",
       "      <td>66113</td>\n",
       "      <td>Solemn I May</td>\n",
       "      <td>[10, 103]</td>\n",
       "      <td>103</td>\n",
       "    </tr>\n",
       "    <tr>\n",
       "      <th>86058</th>\n",
       "      <td>130300</td>\n",
       "      <td>Digitales 2015</td>\n",
       "      <td>[15, 38]</td>\n",
       "      <td>38</td>\n",
       "    </tr>\n",
       "  </tbody>\n",
       "</table>\n",
       "</div>"
      ],
      "text/plain": [
       "        track_id                                     track_title  \\\n",
       "74564     114975                        stormy castles (present)   \n",
       "19687      31845                                   Shallow Grave   \n",
       "52457      79928                          Nighttime in dormitory   \n",
       "58115      87374                                     Motif Three   \n",
       "8406       14392                          Never All Ways (clean)   \n",
       "96601     144493                                           Pulse   \n",
       "101704    151351                                        100 Bags   \n",
       "55421      83902                                      Tear Drops   \n",
       "32172      49872                  The Walker Volume One Part Two   \n",
       "42485      64357    To The Dusk (Original 1994 4track Recording)   \n",
       "14561      23797                                  Type your text   \n",
       "85430     129457  I'm Giving You My Cold For Christmas (karaoke)   \n",
       "103649    154654                                        Blackout   \n",
       "104118    155234                                  obra sintética   \n",
       "13493      22197                              Western Meadowlark   \n",
       "80848     123207                       Ascension_DEATH/artifacts   \n",
       "60992      93443                                   Un Rascacielo   \n",
       "16288      26804                                             Das   \n",
       "43961      66113                                    Solemn I May   \n",
       "86058     130300                                  Digitales 2015   \n",
       "\n",
       "               valid_genre last_genre_id  \n",
       "74564             [32, 38]            38  \n",
       "19687             [12, 85]            85  \n",
       "52457          [1, 18, 38]            38  \n",
       "58115                 [42]            42  \n",
       "8406                  [21]            21  \n",
       "96601      [15, 267, 1235]          1235  \n",
       "101704          [100, 130]           130  \n",
       "55421         [1, 38, 186]           186  \n",
       "32172          [1, 25, 32]            32  \n",
       "42485                 [21]            21  \n",
       "14561   [15, 27, 240, 401]           401  \n",
       "85430        [6, 10, 1193]          1193  \n",
       "103649       [31, 90, 109]           109  \n",
       "104118       [38, 41, 107]           107  \n",
       "13493         [10, 27, 66]            66  \n",
       "80848        [15, 19, 267]           267  \n",
       "60992             [20, 43]            43  \n",
       "16288        [25, 89, 314]           314  \n",
       "43961            [10, 103]           103  \n",
       "86058             [15, 38]            38  "
      ]
     },
     "execution_count": 65,
     "metadata": {},
     "output_type": "execute_result"
    }
   ],
   "source": [
    "tracks_df.sample(20)"
   ]
  },
  {
   "cell_type": "code",
   "execution_count": 20,
   "id": "f5de1c7f-c2b6-487a-83bc-974ddb99008a",
   "metadata": {},
   "outputs": [],
   "source": [
    "tracks_df.dropna(inplace=True)"
   ]
  },
  {
   "cell_type": "code",
   "execution_count": 66,
   "id": "fcb10f3d-d6fa-4e7b-a4f0-d8536a1a2898",
   "metadata": {},
   "outputs": [
    {
     "data": {
      "text/html": [
       "<div>\n",
       "<style scoped>\n",
       "    .dataframe tbody tr th:only-of-type {\n",
       "        vertical-align: middle;\n",
       "    }\n",
       "\n",
       "    .dataframe tbody tr th {\n",
       "        vertical-align: top;\n",
       "    }\n",
       "\n",
       "    .dataframe thead th {\n",
       "        text-align: right;\n",
       "    }\n",
       "</style>\n",
       "<table border=\"1\" class=\"dataframe\">\n",
       "  <thead>\n",
       "    <tr style=\"text-align: right;\">\n",
       "      <th></th>\n",
       "      <th>track_id</th>\n",
       "      <th>track_title</th>\n",
       "      <th>valid_genre</th>\n",
       "      <th>last_genre_id</th>\n",
       "    </tr>\n",
       "  </thead>\n",
       "  <tbody>\n",
       "    <tr>\n",
       "      <th>45118</th>\n",
       "      <td>67521</td>\n",
       "      <td>Plan 9</td>\n",
       "      <td>[7, 15, 297]</td>\n",
       "      <td>297</td>\n",
       "    </tr>\n",
       "    <tr>\n",
       "      <th>9600</th>\n",
       "      <td>16210</td>\n",
       "      <td>Excerpt 1</td>\n",
       "      <td>[167]</td>\n",
       "      <td>167</td>\n",
       "    </tr>\n",
       "    <tr>\n",
       "      <th>31361</th>\n",
       "      <td>48487</td>\n",
       "      <td>Epilogue</td>\n",
       "      <td>[27, 66, 76, 77]</td>\n",
       "      <td>77</td>\n",
       "    </tr>\n",
       "    <tr>\n",
       "      <th>19711</th>\n",
       "      <td>31869</td>\n",
       "      <td>La Batalla</td>\n",
       "      <td>[10, 12, 504, 619]</td>\n",
       "      <td>619</td>\n",
       "    </tr>\n",
       "    <tr>\n",
       "      <th>1018</th>\n",
       "      <td>1297</td>\n",
       "      <td>White Walls</td>\n",
       "      <td>[12]</td>\n",
       "      <td>12</td>\n",
       "    </tr>\n",
       "    <tr>\n",
       "      <th>...</th>\n",
       "      <td>...</td>\n",
       "      <td>...</td>\n",
       "      <td>...</td>\n",
       "      <td>...</td>\n",
       "    </tr>\n",
       "    <tr>\n",
       "      <th>4782</th>\n",
       "      <td>9361</td>\n",
       "      <td>The Hydrologic Cycle</td>\n",
       "      <td>[32, 38]</td>\n",
       "      <td>38</td>\n",
       "    </tr>\n",
       "    <tr>\n",
       "      <th>17134</th>\n",
       "      <td>28173</td>\n",
       "      <td>Man Down</td>\n",
       "      <td>[15, 296, 468]</td>\n",
       "      <td>468</td>\n",
       "    </tr>\n",
       "    <tr>\n",
       "      <th>51213</th>\n",
       "      <td>76456</td>\n",
       "      <td>10 Days for the Three Malarkey Twins</td>\n",
       "      <td>[240]</td>\n",
       "      <td>240</td>\n",
       "    </tr>\n",
       "    <tr>\n",
       "      <th>15665</th>\n",
       "      <td>25720</td>\n",
       "      <td>Aircraft</td>\n",
       "      <td>[15, 32, 38, 247]</td>\n",
       "      <td>247</td>\n",
       "    </tr>\n",
       "    <tr>\n",
       "      <th>50551</th>\n",
       "      <td>75543</td>\n",
       "      <td>21. vek</td>\n",
       "      <td>[38, 53, 70]</td>\n",
       "      <td>70</td>\n",
       "    </tr>\n",
       "  </tbody>\n",
       "</table>\n",
       "<p>104186 rows × 4 columns</p>\n",
       "</div>"
      ],
      "text/plain": [
       "       track_id                           track_title         valid_genre  \\\n",
       "45118     67521                                Plan 9        [7, 15, 297]   \n",
       "9600      16210                             Excerpt 1               [167]   \n",
       "31361     48487                              Epilogue    [27, 66, 76, 77]   \n",
       "19711     31869                            La Batalla  [10, 12, 504, 619]   \n",
       "1018       1297                           White Walls                [12]   \n",
       "...         ...                                   ...                 ...   \n",
       "4782       9361                  The Hydrologic Cycle            [32, 38]   \n",
       "17134     28173                              Man Down      [15, 296, 468]   \n",
       "51213     76456  10 Days for the Three Malarkey Twins               [240]   \n",
       "15665     25720                              Aircraft   [15, 32, 38, 247]   \n",
       "50551     75543                               21. vek        [38, 53, 70]   \n",
       "\n",
       "      last_genre_id  \n",
       "45118           297  \n",
       "9600            167  \n",
       "31361            77  \n",
       "19711           619  \n",
       "1018             12  \n",
       "...             ...  \n",
       "4782             38  \n",
       "17134           468  \n",
       "51213           240  \n",
       "15665           247  \n",
       "50551            70  \n",
       "\n",
       "[104186 rows x 4 columns]"
      ]
     },
     "execution_count": 66,
     "metadata": {},
     "output_type": "execute_result"
    }
   ],
   "source": [
    "tracks_df"
   ]
  },
  {
   "cell_type": "code",
   "execution_count": 67,
   "id": "8f713133-f471-4ca5-b7b1-ab06109bb31b",
   "metadata": {
    "tags": []
   },
   "outputs": [
    {
     "data": {
      "application/vnd.jupyter.widget-view+json": {
       "model_id": "549d7f26b549424ea4e89fba286dd19c",
       "version_major": 2,
       "version_minor": 0
      },
      "text/plain": [
       "  0%|          | 0/104186 [00:00<?, ?it/s]"
      ]
     },
     "metadata": {},
     "output_type": "display_data"
    }
   ],
   "source": [
    "tracks_df['full_genre_id'] = tracks_df.last_genre_id.progress_apply(lambda x: get_all_structure(x,genres_df)[::-1])"
   ]
  },
  {
   "cell_type": "code",
   "execution_count": 68,
   "id": "69d80106-b330-4749-8aee-d2fbc451ecfb",
   "metadata": {},
   "outputs": [
    {
     "data": {
      "text/plain": [
       "45118         [15, 297]\n",
       "9600      [12, 31, 167]\n",
       "31361           [2, 77]\n",
       "19711     [2, 130, 619]\n",
       "1018               [12]\n",
       "              ...      \n",
       "4782               [38]\n",
       "17134         [15, 468]\n",
       "51213    [15, 297, 240]\n",
       "15665         [38, 247]\n",
       "50551          [12, 70]\n",
       "Name: full_genre_id, Length: 104186, dtype: object"
      ]
     },
     "execution_count": 68,
     "metadata": {},
     "output_type": "execute_result"
    }
   ],
   "source": [
    "tracks_df.full_genre_id"
   ]
  },
  {
   "cell_type": "code",
   "execution_count": 69,
   "id": "8cf91d85-a298-4064-aecc-4370639ea929",
   "metadata": {},
   "outputs": [
    {
     "data": {
      "text/plain": [
       "Index(['track_id', 'track_title', 'valid_genre', 'last_genre_id',\n",
       "       'full_genre_id'],\n",
       "      dtype='object')"
      ]
     },
     "execution_count": 69,
     "metadata": {},
     "output_type": "execute_result"
    }
   ],
   "source": [
    "tracks_df.columns"
   ]
  },
  {
   "cell_type": "code",
   "execution_count": 70,
   "id": "d7b72dad-6dfa-46c3-84ac-10602c852524",
   "metadata": {},
   "outputs": [],
   "source": [
    "tracks_df = tracks_df[['track_id','full_genre_id']]"
   ]
  },
  {
   "cell_type": "code",
   "execution_count": 71,
   "id": "c7d35e82-a0b0-4bda-be5e-f69340a00385",
   "metadata": {},
   "outputs": [
    {
     "data": {
      "text/plain": [
       "array([list([15, 297]), list([12, 31, 167]), list([2, 77]), ...,\n",
       "       list([15, 297, 240]), list([38, 247]), list([12, 70])],\n",
       "      dtype=object)"
      ]
     },
     "execution_count": 71,
     "metadata": {},
     "output_type": "execute_result"
    }
   ],
   "source": [
    "tracks_df.full_genre_id.values"
   ]
  },
  {
   "cell_type": "code",
   "execution_count": 72,
   "id": "14106678-2380-40d6-8373-edf1fda9b3af",
   "metadata": {},
   "outputs": [
    {
     "data": {
      "text/plain": [
       "<bound method Series.info of 45118         [15, 297]\n",
       "9600      [12, 31, 167]\n",
       "31361           [2, 77]\n",
       "19711     [2, 130, 619]\n",
       "1018               [12]\n",
       "              ...      \n",
       "4782               [38]\n",
       "17134         [15, 468]\n",
       "51213    [15, 297, 240]\n",
       "15665         [38, 247]\n",
       "50551          [12, 70]\n",
       "Name: full_genre_id, Length: 104186, dtype: object>"
      ]
     },
     "execution_count": 72,
     "metadata": {},
     "output_type": "execute_result"
    }
   ],
   "source": [
    "tracks_df.full_genre_id.info"
   ]
  },
  {
   "cell_type": "code",
   "execution_count": 73,
   "id": "90068602-0c57-4e10-bd9b-64cd1c8d8ad8",
   "metadata": {},
   "outputs": [],
   "source": [
    "labels_size = tracks_df.full_genre_id.apply(lambda x: len(x))"
   ]
  },
  {
   "cell_type": "code",
   "execution_count": 74,
   "id": "70f2351f-2f55-4979-84c2-0cb142887a78",
   "metadata": {},
   "outputs": [],
   "source": [
    "labels_size = labels_size.max()"
   ]
  },
  {
   "cell_type": "code",
   "execution_count": 75,
   "id": "e1f6ac31-ca09-4e44-a120-cd4534cd851e",
   "metadata": {},
   "outputs": [
    {
     "data": {
      "text/plain": [
       "5"
      ]
     },
     "execution_count": 75,
     "metadata": {},
     "output_type": "execute_result"
    }
   ],
   "source": [
    "labels_size"
   ]
  },
  {
   "cell_type": "markdown",
   "id": "74827c2e-072a-4213-9b96-f7bb24dee80e",
   "metadata": {},
   "source": [
    "### Parse of label to structure"
   ]
  },
  {
   "cell_type": "code",
   "execution_count": 76,
   "id": "093a84f2-25d1-4f95-81e5-c51e73933e95",
   "metadata": {},
   "outputs": [],
   "source": [
    "### Function for parse label to sctructure of hierarhical scheme\n",
    "\n",
    "def parse_label(label,label_size=5):\n",
    "    # label = label.split('-')\n",
    "    # preencher com 0 no caso de haver menos de 5 níveis\n",
    "    labels = np.zeros(label_size,dtype=int)\n",
    "    for i, label in enumerate(label):\n",
    "        if i == 5:\n",
    "            break\n",
    "        # Aqui você pode fazer a conversão do label em um índice inteiro usando um dicionário ou outro método\n",
    "        # Neste exemplo, estou apenas usando a posição da label na lista como índice\n",
    "        labels[i] = label\n",
    "    return labels"
   ]
  },
  {
   "cell_type": "code",
   "execution_count": 77,
   "id": "2a6adb21-c145-4c82-ba79-798d02c7d2fd",
   "metadata": {},
   "outputs": [],
   "source": [
    "parsed_labels = tracks_df.full_genre_id.apply(lambda x: parse_label(x))"
   ]
  },
  {
   "cell_type": "code",
   "execution_count": 78,
   "id": "5981a36f-cb76-4d1f-8bfe-7e58f3b002e5",
   "metadata": {},
   "outputs": [
    {
     "data": {
      "text/plain": [
       "45118         [15, 297]\n",
       "9600      [12, 31, 167]\n",
       "31361           [2, 77]\n",
       "19711     [2, 130, 619]\n",
       "1018               [12]\n",
       "              ...      \n",
       "4782               [38]\n",
       "17134         [15, 468]\n",
       "51213    [15, 297, 240]\n",
       "15665         [38, 247]\n",
       "50551          [12, 70]\n",
       "Name: full_genre_id, Length: 104186, dtype: object"
      ]
     },
     "execution_count": 78,
     "metadata": {},
     "output_type": "execute_result"
    }
   ],
   "source": [
    "tracks_df['full_genre_id']"
   ]
  },
  {
   "cell_type": "code",
   "execution_count": 79,
   "id": "d60b077d-993f-4cbb-a66b-407d97dba96e",
   "metadata": {},
   "outputs": [],
   "source": [
    "def convert_label_to_string(x,level=2):\n",
    "    return '-'.join([str(value) for value in x[:level]])"
   ]
  },
  {
   "cell_type": "code",
   "execution_count": 80,
   "id": "e463b489-81bf-4a7d-95db-1f78c7ca6d87",
   "metadata": {},
   "outputs": [
    {
     "data": {
      "application/vnd.jupyter.widget-view+json": {
       "model_id": "1077ec1695434a9384b832c156f7ee31",
       "version_major": 2,
       "version_minor": 0
      },
      "text/plain": [
       "  0%|          | 0/104186 [00:00<?, ?it/s]"
      ]
     },
     "metadata": {},
     "output_type": "display_data"
    },
    {
     "name": "stderr",
     "output_type": "stream",
     "text": [
      "/tmp/ipykernel_79576/310633048.py:1: SettingWithCopyWarning: \n",
      "A value is trying to be set on a copy of a slice from a DataFrame.\n",
      "Try using .loc[row_indexer,col_indexer] = value instead\n",
      "\n",
      "See the caveats in the documentation: https://pandas.pydata.org/pandas-docs/stable/user_guide/indexing.html#returning-a-view-versus-a-copy\n",
      "  tracks_df['labels_1'] = parsed_labels.progress_apply(lambda x: str(x[:1][0]))\n"
     ]
    },
    {
     "data": {
      "application/vnd.jupyter.widget-view+json": {
       "model_id": "575a53d5b0784a7abe742c66e199763a",
       "version_major": 2,
       "version_minor": 0
      },
      "text/plain": [
       "  0%|          | 0/104186 [00:00<?, ?it/s]"
      ]
     },
     "metadata": {},
     "output_type": "display_data"
    },
    {
     "name": "stderr",
     "output_type": "stream",
     "text": [
      "/tmp/ipykernel_79576/310633048.py:2: SettingWithCopyWarning: \n",
      "A value is trying to be set on a copy of a slice from a DataFrame.\n",
      "Try using .loc[row_indexer,col_indexer] = value instead\n",
      "\n",
      "See the caveats in the documentation: https://pandas.pydata.org/pandas-docs/stable/user_guide/indexing.html#returning-a-view-versus-a-copy\n",
      "  tracks_df['labels_2'] = parsed_labels.progress_apply(lambda x: convert_label_to_string(x,level=2))\n"
     ]
    },
    {
     "data": {
      "application/vnd.jupyter.widget-view+json": {
       "model_id": "8fb3770b08024970b08c644323814341",
       "version_major": 2,
       "version_minor": 0
      },
      "text/plain": [
       "  0%|          | 0/104186 [00:00<?, ?it/s]"
      ]
     },
     "metadata": {},
     "output_type": "display_data"
    },
    {
     "data": {
      "application/vnd.jupyter.widget-view+json": {
       "model_id": "5a22dd7d79054de191e20a08689d888d",
       "version_major": 2,
       "version_minor": 0
      },
      "text/plain": [
       "  0%|          | 0/104186 [00:00<?, ?it/s]"
      ]
     },
     "metadata": {},
     "output_type": "display_data"
    },
    {
     "data": {
      "application/vnd.jupyter.widget-view+json": {
       "model_id": "62897292ffc749529aaf1d207f0319f5",
       "version_major": 2,
       "version_minor": 0
      },
      "text/plain": [
       "  0%|          | 0/104186 [00:00<?, ?it/s]"
      ]
     },
     "metadata": {},
     "output_type": "display_data"
    }
   ],
   "source": [
    "tracks_df['labels_1'] = parsed_labels.progress_apply(lambda x: str(x[:1][0]))\n",
    "tracks_df['labels_2'] = parsed_labels.progress_apply(lambda x: convert_label_to_string(x,level=2))\n",
    "tracks_df['labels_3'] = parsed_labels.progress_apply(lambda x: convert_label_to_string(x,level=3))\n",
    "tracks_df['labels_4'] = parsed_labels.progress_apply(lambda x: convert_label_to_string(x,level=4))\n",
    "tracks_df['labels_5'] = parsed_labels.progress_apply(lambda x: convert_label_to_string(x,level=5))"
   ]
  },
  {
   "cell_type": "code",
   "execution_count": 88,
   "id": "04828399-6891-4cd6-b5d6-e6263c37a658",
   "metadata": {},
   "outputs": [],
   "source": [
    "tracks_df = tracks_df[tracks_df['labels_1'].isin([\"38\",\"1235\"])]"
   ]
  },
  {
   "cell_type": "code",
   "execution_count": 89,
   "id": "86c81a9f-b819-4793-af3a-78f22b198aa7",
   "metadata": {},
   "outputs": [
    {
     "data": {
      "text/plain": [
       "38-0        6508\n",
       "1235-0      6043\n",
       "1235-107    3988\n",
       "38-250      3379\n",
       "38-247      2749\n",
       "38-41       1997\n",
       "38-224      1422\n",
       "38-32       1207\n",
       "1235-18      982\n",
       "38-47        841\n",
       "38-456       829\n",
       "38-125       703\n",
       "38-514       686\n",
       "38-6         519\n",
       "38-186       428\n",
       "38-1         313\n",
       "38-30        254\n",
       "38-22        231\n",
       "1235-267     201\n",
       "Name: labels_2, dtype: int64"
      ]
     },
     "execution_count": 89,
     "metadata": {},
     "output_type": "execute_result"
    }
   ],
   "source": [
    "tracks_df['labels_2'].value_counts()"
   ]
  },
  {
   "cell_type": "code",
   "execution_count": 90,
   "id": "a29b0317-181b-4cf9-ac27-3fd9505e1f7b",
   "metadata": {},
   "outputs": [
    {
     "data": {
      "text/plain": [
       "38-0-0-0-0          6508\n",
       "1235-0-0-0-0        6043\n",
       "1235-107-0-0-0      3988\n",
       "38-250-0-0-0        3379\n",
       "38-247-0-0-0        2749\n",
       "38-41-0-0-0         1997\n",
       "38-224-0-0-0        1422\n",
       "38-32-0-0-0         1207\n",
       "38-47-0-0-0          841\n",
       "38-456-0-0-0         829\n",
       "38-125-0-0-0         703\n",
       "38-514-0-0-0         686\n",
       "1235-18-0-0-0        659\n",
       "38-186-0-0-0         428\n",
       "1235-18-538-0-0      323\n",
       "38-1-0-0-0           313\n",
       "38-30-0-0-0          254\n",
       "38-22-0-0-0          231\n",
       "1235-267-0-0-0       201\n",
       "38-6-16-763-0        194\n",
       "38-6-360-0-0         190\n",
       "38-6-16-763-1193      72\n",
       "38-6-0-0-0            63\n",
       "Name: labels_5, dtype: int64"
      ]
     },
     "execution_count": 90,
     "metadata": {},
     "output_type": "execute_result"
    }
   ],
   "source": [
    "tracks_df['labels_5'].value_counts()"
   ]
  },
  {
   "cell_type": "code",
   "execution_count": 91,
   "id": "304cd0a8-f7de-4862-8994-a9ed960cea5a",
   "metadata": {},
   "outputs": [],
   "source": [
    "# tracks_df = tracks_df[tracks_df['labels_1'].isin(['3','14'])]"
   ]
  },
  {
   "cell_type": "code",
   "execution_count": 92,
   "id": "d1e5f547-34ba-4d8d-b3ef-7d7eebc578fc",
   "metadata": {},
   "outputs": [],
   "source": [
    "categories_df = pd.DataFrame({'level5':tracks_df.labels_5.unique()})"
   ]
  },
  {
   "cell_type": "code",
   "execution_count": 93,
   "id": "39a3077d-9077-4f6b-be98-1e7d14e280e2",
   "metadata": {},
   "outputs": [
    {
     "data": {
      "application/vnd.jupyter.widget-view+json": {
       "model_id": "5d6e016880f04742aabcc939d3323c80",
       "version_major": 2,
       "version_minor": 0
      },
      "text/plain": [
       "  0%|          | 0/23 [00:00<?, ?it/s]"
      ]
     },
     "metadata": {},
     "output_type": "display_data"
    },
    {
     "data": {
      "application/vnd.jupyter.widget-view+json": {
       "model_id": "2b3e0b19ba2b4eed8981c101731276b9",
       "version_major": 2,
       "version_minor": 0
      },
      "text/plain": [
       "  0%|          | 0/23 [00:00<?, ?it/s]"
      ]
     },
     "metadata": {},
     "output_type": "display_data"
    },
    {
     "data": {
      "application/vnd.jupyter.widget-view+json": {
       "model_id": "000d41ab4f8440299012c8d27824e489",
       "version_major": 2,
       "version_minor": 0
      },
      "text/plain": [
       "  0%|          | 0/23 [00:00<?, ?it/s]"
      ]
     },
     "metadata": {},
     "output_type": "display_data"
    },
    {
     "data": {
      "application/vnd.jupyter.widget-view+json": {
       "model_id": "9b0d90a770894eea97aa507177a0d1f1",
       "version_major": 2,
       "version_minor": 0
      },
      "text/plain": [
       "  0%|          | 0/23 [00:00<?, ?it/s]"
      ]
     },
     "metadata": {},
     "output_type": "display_data"
    }
   ],
   "source": [
    "categories_df['level1'] = categories_df.level5.progress_apply(lambda x: '-'.join(x.split('-')[:1]))\n",
    "categories_df['level2'] = categories_df.level5.progress_apply(lambda x: '-'.join(x.split('-')[:2]))\n",
    "categories_df['level3'] = categories_df.level5.progress_apply(lambda x: '-'.join(x.split('-')[:3]))\n",
    "categories_df['level4'] = categories_df.level5.progress_apply(lambda x: '-'.join(x.split('-')[:4]))"
   ]
  },
  {
   "cell_type": "code",
   "execution_count": 94,
   "id": "d32d5387-bc51-4823-8245-9b715899af33",
   "metadata": {},
   "outputs": [
    {
     "data": {
      "text/html": [
       "<div>\n",
       "<style scoped>\n",
       "    .dataframe tbody tr th:only-of-type {\n",
       "        vertical-align: middle;\n",
       "    }\n",
       "\n",
       "    .dataframe tbody tr th {\n",
       "        vertical-align: top;\n",
       "    }\n",
       "\n",
       "    .dataframe thead th {\n",
       "        text-align: right;\n",
       "    }\n",
       "</style>\n",
       "<table border=\"1\" class=\"dataframe\">\n",
       "  <thead>\n",
       "    <tr style=\"text-align: right;\">\n",
       "      <th></th>\n",
       "      <th>level5</th>\n",
       "      <th>level1</th>\n",
       "      <th>level2</th>\n",
       "      <th>level3</th>\n",
       "      <th>level4</th>\n",
       "    </tr>\n",
       "  </thead>\n",
       "  <tbody>\n",
       "    <tr>\n",
       "      <th>0</th>\n",
       "      <td>38-456-0-0-0</td>\n",
       "      <td>38</td>\n",
       "      <td>38-456</td>\n",
       "      <td>38-456-0</td>\n",
       "      <td>38-456-0-0</td>\n",
       "    </tr>\n",
       "    <tr>\n",
       "      <th>1</th>\n",
       "      <td>38-186-0-0-0</td>\n",
       "      <td>38</td>\n",
       "      <td>38-186</td>\n",
       "      <td>38-186-0</td>\n",
       "      <td>38-186-0-0</td>\n",
       "    </tr>\n",
       "    <tr>\n",
       "      <th>2</th>\n",
       "      <td>38-41-0-0-0</td>\n",
       "      <td>38</td>\n",
       "      <td>38-41</td>\n",
       "      <td>38-41-0</td>\n",
       "      <td>38-41-0-0</td>\n",
       "    </tr>\n",
       "    <tr>\n",
       "      <th>3</th>\n",
       "      <td>38-250-0-0-0</td>\n",
       "      <td>38</td>\n",
       "      <td>38-250</td>\n",
       "      <td>38-250-0</td>\n",
       "      <td>38-250-0-0</td>\n",
       "    </tr>\n",
       "    <tr>\n",
       "      <th>4</th>\n",
       "      <td>38-32-0-0-0</td>\n",
       "      <td>38</td>\n",
       "      <td>38-32</td>\n",
       "      <td>38-32-0</td>\n",
       "      <td>38-32-0-0</td>\n",
       "    </tr>\n",
       "    <tr>\n",
       "      <th>5</th>\n",
       "      <td>38-514-0-0-0</td>\n",
       "      <td>38</td>\n",
       "      <td>38-514</td>\n",
       "      <td>38-514-0</td>\n",
       "      <td>38-514-0-0</td>\n",
       "    </tr>\n",
       "    <tr>\n",
       "      <th>6</th>\n",
       "      <td>1235-107-0-0-0</td>\n",
       "      <td>1235</td>\n",
       "      <td>1235-107</td>\n",
       "      <td>1235-107-0</td>\n",
       "      <td>1235-107-0-0</td>\n",
       "    </tr>\n",
       "    <tr>\n",
       "      <th>7</th>\n",
       "      <td>38-247-0-0-0</td>\n",
       "      <td>38</td>\n",
       "      <td>38-247</td>\n",
       "      <td>38-247-0</td>\n",
       "      <td>38-247-0-0</td>\n",
       "    </tr>\n",
       "    <tr>\n",
       "      <th>8</th>\n",
       "      <td>1235-0-0-0-0</td>\n",
       "      <td>1235</td>\n",
       "      <td>1235-0</td>\n",
       "      <td>1235-0-0</td>\n",
       "      <td>1235-0-0-0</td>\n",
       "    </tr>\n",
       "    <tr>\n",
       "      <th>9</th>\n",
       "      <td>38-125-0-0-0</td>\n",
       "      <td>38</td>\n",
       "      <td>38-125</td>\n",
       "      <td>38-125-0</td>\n",
       "      <td>38-125-0-0</td>\n",
       "    </tr>\n",
       "    <tr>\n",
       "      <th>10</th>\n",
       "      <td>1235-18-0-0-0</td>\n",
       "      <td>1235</td>\n",
       "      <td>1235-18</td>\n",
       "      <td>1235-18-0</td>\n",
       "      <td>1235-18-0-0</td>\n",
       "    </tr>\n",
       "    <tr>\n",
       "      <th>11</th>\n",
       "      <td>1235-267-0-0-0</td>\n",
       "      <td>1235</td>\n",
       "      <td>1235-267</td>\n",
       "      <td>1235-267-0</td>\n",
       "      <td>1235-267-0-0</td>\n",
       "    </tr>\n",
       "    <tr>\n",
       "      <th>12</th>\n",
       "      <td>38-0-0-0-0</td>\n",
       "      <td>38</td>\n",
       "      <td>38-0</td>\n",
       "      <td>38-0-0</td>\n",
       "      <td>38-0-0-0</td>\n",
       "    </tr>\n",
       "    <tr>\n",
       "      <th>13</th>\n",
       "      <td>38-224-0-0-0</td>\n",
       "      <td>38</td>\n",
       "      <td>38-224</td>\n",
       "      <td>38-224-0</td>\n",
       "      <td>38-224-0-0</td>\n",
       "    </tr>\n",
       "    <tr>\n",
       "      <th>14</th>\n",
       "      <td>1235-18-538-0-0</td>\n",
       "      <td>1235</td>\n",
       "      <td>1235-18</td>\n",
       "      <td>1235-18-538</td>\n",
       "      <td>1235-18-538-0</td>\n",
       "    </tr>\n",
       "    <tr>\n",
       "      <th>15</th>\n",
       "      <td>38-47-0-0-0</td>\n",
       "      <td>38</td>\n",
       "      <td>38-47</td>\n",
       "      <td>38-47-0</td>\n",
       "      <td>38-47-0-0</td>\n",
       "    </tr>\n",
       "    <tr>\n",
       "      <th>16</th>\n",
       "      <td>38-22-0-0-0</td>\n",
       "      <td>38</td>\n",
       "      <td>38-22</td>\n",
       "      <td>38-22-0</td>\n",
       "      <td>38-22-0-0</td>\n",
       "    </tr>\n",
       "    <tr>\n",
       "      <th>17</th>\n",
       "      <td>38-6-360-0-0</td>\n",
       "      <td>38</td>\n",
       "      <td>38-6</td>\n",
       "      <td>38-6-360</td>\n",
       "      <td>38-6-360-0</td>\n",
       "    </tr>\n",
       "    <tr>\n",
       "      <th>18</th>\n",
       "      <td>38-1-0-0-0</td>\n",
       "      <td>38</td>\n",
       "      <td>38-1</td>\n",
       "      <td>38-1-0</td>\n",
       "      <td>38-1-0-0</td>\n",
       "    </tr>\n",
       "    <tr>\n",
       "      <th>19</th>\n",
       "      <td>38-30-0-0-0</td>\n",
       "      <td>38</td>\n",
       "      <td>38-30</td>\n",
       "      <td>38-30-0</td>\n",
       "      <td>38-30-0-0</td>\n",
       "    </tr>\n",
       "    <tr>\n",
       "      <th>20</th>\n",
       "      <td>38-6-16-763-1193</td>\n",
       "      <td>38</td>\n",
       "      <td>38-6</td>\n",
       "      <td>38-6-16</td>\n",
       "      <td>38-6-16-763</td>\n",
       "    </tr>\n",
       "    <tr>\n",
       "      <th>21</th>\n",
       "      <td>38-6-0-0-0</td>\n",
       "      <td>38</td>\n",
       "      <td>38-6</td>\n",
       "      <td>38-6-0</td>\n",
       "      <td>38-6-0-0</td>\n",
       "    </tr>\n",
       "    <tr>\n",
       "      <th>22</th>\n",
       "      <td>38-6-16-763-0</td>\n",
       "      <td>38</td>\n",
       "      <td>38-6</td>\n",
       "      <td>38-6-16</td>\n",
       "      <td>38-6-16-763</td>\n",
       "    </tr>\n",
       "  </tbody>\n",
       "</table>\n",
       "</div>"
      ],
      "text/plain": [
       "              level5 level1    level2       level3         level4\n",
       "0       38-456-0-0-0     38    38-456     38-456-0     38-456-0-0\n",
       "1       38-186-0-0-0     38    38-186     38-186-0     38-186-0-0\n",
       "2        38-41-0-0-0     38     38-41      38-41-0      38-41-0-0\n",
       "3       38-250-0-0-0     38    38-250     38-250-0     38-250-0-0\n",
       "4        38-32-0-0-0     38     38-32      38-32-0      38-32-0-0\n",
       "5       38-514-0-0-0     38    38-514     38-514-0     38-514-0-0\n",
       "6     1235-107-0-0-0   1235  1235-107   1235-107-0   1235-107-0-0\n",
       "7       38-247-0-0-0     38    38-247     38-247-0     38-247-0-0\n",
       "8       1235-0-0-0-0   1235    1235-0     1235-0-0     1235-0-0-0\n",
       "9       38-125-0-0-0     38    38-125     38-125-0     38-125-0-0\n",
       "10     1235-18-0-0-0   1235   1235-18    1235-18-0    1235-18-0-0\n",
       "11    1235-267-0-0-0   1235  1235-267   1235-267-0   1235-267-0-0\n",
       "12        38-0-0-0-0     38      38-0       38-0-0       38-0-0-0\n",
       "13      38-224-0-0-0     38    38-224     38-224-0     38-224-0-0\n",
       "14   1235-18-538-0-0   1235   1235-18  1235-18-538  1235-18-538-0\n",
       "15       38-47-0-0-0     38     38-47      38-47-0      38-47-0-0\n",
       "16       38-22-0-0-0     38     38-22      38-22-0      38-22-0-0\n",
       "17      38-6-360-0-0     38      38-6     38-6-360     38-6-360-0\n",
       "18        38-1-0-0-0     38      38-1       38-1-0       38-1-0-0\n",
       "19       38-30-0-0-0     38     38-30      38-30-0      38-30-0-0\n",
       "20  38-6-16-763-1193     38      38-6      38-6-16    38-6-16-763\n",
       "21        38-6-0-0-0     38      38-6       38-6-0       38-6-0-0\n",
       "22     38-6-16-763-0     38      38-6      38-6-16    38-6-16-763"
      ]
     },
     "execution_count": 94,
     "metadata": {},
     "output_type": "execute_result"
    }
   ],
   "source": [
    "categories_df"
   ]
  },
  {
   "cell_type": "code",
   "execution_count": 95,
   "id": "1c4326bd-6d17-4857-b29c-9fc868e7561d",
   "metadata": {},
   "outputs": [],
   "source": [
    "def get_labels_name(x,genres_df):\n",
    "    levels = 5\n",
    "    full_name = []\n",
    "    last_level = 0\n",
    "    genre_root = \"\"\n",
    "    for genre in x.split('-'):\n",
    "        genre_df = genres_df[genres_df['genre_id'] == int(genre)]\n",
    "        if genre_df.empty:\n",
    "            genre_name = genre_root \n",
    "        else:\n",
    "            genre_name = genre_df.title.values.tolist()[0]\n",
    "            genre_root = genre_name\n",
    "        \n",
    "        full_name.append(genre_name)\n",
    "    full_name = '>'.join(full_name)\n",
    "        \n",
    "    return full_name\n",
    "    # return genres_df[genres_df['genre_id'] == int(x)].title.values.tolist()[0]"
   ]
  },
  {
   "cell_type": "code",
   "execution_count": 96,
   "id": "5fa16276-5e41-4ee5-821b-dabd1620c76c",
   "metadata": {},
   "outputs": [],
   "source": [
    "categories_df['level5_name'] = categories_df.level5.apply(lambda x: get_labels_name(x,genres_df))"
   ]
  },
  {
   "cell_type": "code",
   "execution_count": 97,
   "id": "2d2099b6-cf3b-47ae-bca2-7d2cc8a1cb8d",
   "metadata": {},
   "outputs": [
    {
     "data": {
      "text/html": [
       "<div>\n",
       "<style scoped>\n",
       "    .dataframe tbody tr th:only-of-type {\n",
       "        vertical-align: middle;\n",
       "    }\n",
       "\n",
       "    .dataframe tbody tr th {\n",
       "        vertical-align: top;\n",
       "    }\n",
       "\n",
       "    .dataframe thead th {\n",
       "        text-align: right;\n",
       "    }\n",
       "</style>\n",
       "<table border=\"1\" class=\"dataframe\">\n",
       "  <thead>\n",
       "    <tr style=\"text-align: right;\">\n",
       "      <th></th>\n",
       "      <th>level5</th>\n",
       "      <th>level1</th>\n",
       "      <th>level2</th>\n",
       "      <th>level3</th>\n",
       "      <th>level4</th>\n",
       "      <th>level5_name</th>\n",
       "    </tr>\n",
       "  </thead>\n",
       "  <tbody>\n",
       "    <tr>\n",
       "      <th>0</th>\n",
       "      <td>38-456-0-0-0</td>\n",
       "      <td>38</td>\n",
       "      <td>38-456</td>\n",
       "      <td>38-456-0</td>\n",
       "      <td>38-456-0-0</td>\n",
       "      <td>Experimental&gt;Minimalism&gt;Minimalism&gt;Minimalism&gt;...</td>\n",
       "    </tr>\n",
       "    <tr>\n",
       "      <th>1</th>\n",
       "      <td>38-186-0-0-0</td>\n",
       "      <td>38</td>\n",
       "      <td>38-186</td>\n",
       "      <td>38-186-0</td>\n",
       "      <td>38-186-0-0</td>\n",
       "      <td>Experimental&gt;Sound Poetry&gt;Sound Poetry&gt;Sound P...</td>\n",
       "    </tr>\n",
       "    <tr>\n",
       "      <th>2</th>\n",
       "      <td>38-41-0-0-0</td>\n",
       "      <td>38</td>\n",
       "      <td>38-41</td>\n",
       "      <td>38-41-0</td>\n",
       "      <td>38-41-0-0</td>\n",
       "      <td>Experimental&gt;Electroacoustic&gt;Electroacoustic&gt;E...</td>\n",
       "    </tr>\n",
       "    <tr>\n",
       "      <th>3</th>\n",
       "      <td>38-250-0-0-0</td>\n",
       "      <td>38</td>\n",
       "      <td>38-250</td>\n",
       "      <td>38-250-0</td>\n",
       "      <td>38-250-0-0</td>\n",
       "      <td>Experimental&gt;Improv&gt;Improv&gt;Improv&gt;Improv</td>\n",
       "    </tr>\n",
       "    <tr>\n",
       "      <th>4</th>\n",
       "      <td>38-32-0-0-0</td>\n",
       "      <td>38</td>\n",
       "      <td>38-32</td>\n",
       "      <td>38-32-0</td>\n",
       "      <td>38-32-0-0</td>\n",
       "      <td>Experimental&gt;Noise&gt;Noise&gt;Noise&gt;Noise</td>\n",
       "    </tr>\n",
       "    <tr>\n",
       "      <th>5</th>\n",
       "      <td>38-514-0-0-0</td>\n",
       "      <td>38</td>\n",
       "      <td>38-514</td>\n",
       "      <td>38-514-0</td>\n",
       "      <td>38-514-0-0</td>\n",
       "      <td>Experimental&gt;Sound Art&gt;Sound Art&gt;Sound Art&gt;Sou...</td>\n",
       "    </tr>\n",
       "    <tr>\n",
       "      <th>6</th>\n",
       "      <td>1235-107-0-0-0</td>\n",
       "      <td>1235</td>\n",
       "      <td>1235-107</td>\n",
       "      <td>1235-107-0</td>\n",
       "      <td>1235-107-0-0</td>\n",
       "      <td>Instrumental&gt;Ambient&gt;Ambient&gt;Ambient&gt;Ambient</td>\n",
       "    </tr>\n",
       "    <tr>\n",
       "      <th>7</th>\n",
       "      <td>38-247-0-0-0</td>\n",
       "      <td>38</td>\n",
       "      <td>38-247</td>\n",
       "      <td>38-247-0</td>\n",
       "      <td>38-247-0-0</td>\n",
       "      <td>Experimental&gt;Musique Concrete&gt;Musique Concrete...</td>\n",
       "    </tr>\n",
       "    <tr>\n",
       "      <th>8</th>\n",
       "      <td>1235-0-0-0-0</td>\n",
       "      <td>1235</td>\n",
       "      <td>1235-0</td>\n",
       "      <td>1235-0-0</td>\n",
       "      <td>1235-0-0-0</td>\n",
       "      <td>Instrumental&gt;Instrumental&gt;Instrumental&gt;Instrum...</td>\n",
       "    </tr>\n",
       "    <tr>\n",
       "      <th>9</th>\n",
       "      <td>38-125-0-0-0</td>\n",
       "      <td>38</td>\n",
       "      <td>38-125</td>\n",
       "      <td>38-125-0</td>\n",
       "      <td>38-125-0-0</td>\n",
       "      <td>Experimental&gt;Unclassifiable&gt;Unclassifiable&gt;Unc...</td>\n",
       "    </tr>\n",
       "    <tr>\n",
       "      <th>10</th>\n",
       "      <td>1235-18-0-0-0</td>\n",
       "      <td>1235</td>\n",
       "      <td>1235-18</td>\n",
       "      <td>1235-18-0</td>\n",
       "      <td>1235-18-0-0</td>\n",
       "      <td>Instrumental&gt;Soundtrack&gt;Soundtrack&gt;Soundtrack&gt;...</td>\n",
       "    </tr>\n",
       "    <tr>\n",
       "      <th>11</th>\n",
       "      <td>1235-267-0-0-0</td>\n",
       "      <td>1235</td>\n",
       "      <td>1235-267</td>\n",
       "      <td>1235-267-0</td>\n",
       "      <td>1235-267-0-0</td>\n",
       "      <td>Instrumental&gt;New Age&gt;New Age&gt;New Age&gt;New Age</td>\n",
       "    </tr>\n",
       "    <tr>\n",
       "      <th>12</th>\n",
       "      <td>38-0-0-0-0</td>\n",
       "      <td>38</td>\n",
       "      <td>38-0</td>\n",
       "      <td>38-0-0</td>\n",
       "      <td>38-0-0-0</td>\n",
       "      <td>Experimental&gt;Experimental&gt;Experimental&gt;Experim...</td>\n",
       "    </tr>\n",
       "    <tr>\n",
       "      <th>13</th>\n",
       "      <td>38-224-0-0-0</td>\n",
       "      <td>38</td>\n",
       "      <td>38-224</td>\n",
       "      <td>38-224-0</td>\n",
       "      <td>38-224-0-0</td>\n",
       "      <td>Experimental&gt;Sound Collage&gt;Sound Collage&gt;Sound...</td>\n",
       "    </tr>\n",
       "    <tr>\n",
       "      <th>14</th>\n",
       "      <td>1235-18-538-0-0</td>\n",
       "      <td>1235</td>\n",
       "      <td>1235-18</td>\n",
       "      <td>1235-18-538</td>\n",
       "      <td>1235-18-538-0</td>\n",
       "      <td>Instrumental&gt;Soundtrack&gt;Compilation&gt;Compilatio...</td>\n",
       "    </tr>\n",
       "    <tr>\n",
       "      <th>15</th>\n",
       "      <td>38-47-0-0-0</td>\n",
       "      <td>38</td>\n",
       "      <td>38-47</td>\n",
       "      <td>38-47-0</td>\n",
       "      <td>38-47-0-0</td>\n",
       "      <td>Experimental&gt;Drone&gt;Drone&gt;Drone&gt;Drone</td>\n",
       "    </tr>\n",
       "    <tr>\n",
       "      <th>16</th>\n",
       "      <td>38-22-0-0-0</td>\n",
       "      <td>38</td>\n",
       "      <td>38-22</td>\n",
       "      <td>38-22-0</td>\n",
       "      <td>38-22-0-0</td>\n",
       "      <td>Experimental&gt;Audio Collage&gt;Audio Collage&gt;Audio...</td>\n",
       "    </tr>\n",
       "    <tr>\n",
       "      <th>17</th>\n",
       "      <td>38-6-360-0-0</td>\n",
       "      <td>38</td>\n",
       "      <td>38-6</td>\n",
       "      <td>38-6-360</td>\n",
       "      <td>38-6-360-0</td>\n",
       "      <td>Experimental&gt;Novelty&gt;Kid-Friendly&gt;Kid-Friendly...</td>\n",
       "    </tr>\n",
       "    <tr>\n",
       "      <th>18</th>\n",
       "      <td>38-1-0-0-0</td>\n",
       "      <td>38</td>\n",
       "      <td>38-1</td>\n",
       "      <td>38-1-0</td>\n",
       "      <td>38-1-0-0</td>\n",
       "      <td>Experimental&gt;Avant-Garde&gt;Avant-Garde&gt;Avant-Gar...</td>\n",
       "    </tr>\n",
       "    <tr>\n",
       "      <th>19</th>\n",
       "      <td>38-30-0-0-0</td>\n",
       "      <td>38</td>\n",
       "      <td>38-30</td>\n",
       "      <td>38-30-0</td>\n",
       "      <td>38-30-0-0</td>\n",
       "      <td>Experimental&gt;Field Recordings&gt;Field Recordings...</td>\n",
       "    </tr>\n",
       "    <tr>\n",
       "      <th>20</th>\n",
       "      <td>38-6-16-763-1193</td>\n",
       "      <td>38</td>\n",
       "      <td>38-6</td>\n",
       "      <td>38-6-16</td>\n",
       "      <td>38-6-16-763</td>\n",
       "      <td>Experimental&gt;Novelty&gt;Sound Effects&gt;Holiday&gt;Chr...</td>\n",
       "    </tr>\n",
       "    <tr>\n",
       "      <th>21</th>\n",
       "      <td>38-6-0-0-0</td>\n",
       "      <td>38</td>\n",
       "      <td>38-6</td>\n",
       "      <td>38-6-0</td>\n",
       "      <td>38-6-0-0</td>\n",
       "      <td>Experimental&gt;Novelty&gt;Novelty&gt;Novelty&gt;Novelty</td>\n",
       "    </tr>\n",
       "    <tr>\n",
       "      <th>22</th>\n",
       "      <td>38-6-16-763-0</td>\n",
       "      <td>38</td>\n",
       "      <td>38-6</td>\n",
       "      <td>38-6-16</td>\n",
       "      <td>38-6-16-763</td>\n",
       "      <td>Experimental&gt;Novelty&gt;Sound Effects&gt;Holiday&gt;Hol...</td>\n",
       "    </tr>\n",
       "  </tbody>\n",
       "</table>\n",
       "</div>"
      ],
      "text/plain": [
       "              level5 level1    level2       level3         level4  \\\n",
       "0       38-456-0-0-0     38    38-456     38-456-0     38-456-0-0   \n",
       "1       38-186-0-0-0     38    38-186     38-186-0     38-186-0-0   \n",
       "2        38-41-0-0-0     38     38-41      38-41-0      38-41-0-0   \n",
       "3       38-250-0-0-0     38    38-250     38-250-0     38-250-0-0   \n",
       "4        38-32-0-0-0     38     38-32      38-32-0      38-32-0-0   \n",
       "5       38-514-0-0-0     38    38-514     38-514-0     38-514-0-0   \n",
       "6     1235-107-0-0-0   1235  1235-107   1235-107-0   1235-107-0-0   \n",
       "7       38-247-0-0-0     38    38-247     38-247-0     38-247-0-0   \n",
       "8       1235-0-0-0-0   1235    1235-0     1235-0-0     1235-0-0-0   \n",
       "9       38-125-0-0-0     38    38-125     38-125-0     38-125-0-0   \n",
       "10     1235-18-0-0-0   1235   1235-18    1235-18-0    1235-18-0-0   \n",
       "11    1235-267-0-0-0   1235  1235-267   1235-267-0   1235-267-0-0   \n",
       "12        38-0-0-0-0     38      38-0       38-0-0       38-0-0-0   \n",
       "13      38-224-0-0-0     38    38-224     38-224-0     38-224-0-0   \n",
       "14   1235-18-538-0-0   1235   1235-18  1235-18-538  1235-18-538-0   \n",
       "15       38-47-0-0-0     38     38-47      38-47-0      38-47-0-0   \n",
       "16       38-22-0-0-0     38     38-22      38-22-0      38-22-0-0   \n",
       "17      38-6-360-0-0     38      38-6     38-6-360     38-6-360-0   \n",
       "18        38-1-0-0-0     38      38-1       38-1-0       38-1-0-0   \n",
       "19       38-30-0-0-0     38     38-30      38-30-0      38-30-0-0   \n",
       "20  38-6-16-763-1193     38      38-6      38-6-16    38-6-16-763   \n",
       "21        38-6-0-0-0     38      38-6       38-6-0       38-6-0-0   \n",
       "22     38-6-16-763-0     38      38-6      38-6-16    38-6-16-763   \n",
       "\n",
       "                                          level5_name  \n",
       "0   Experimental>Minimalism>Minimalism>Minimalism>...  \n",
       "1   Experimental>Sound Poetry>Sound Poetry>Sound P...  \n",
       "2   Experimental>Electroacoustic>Electroacoustic>E...  \n",
       "3            Experimental>Improv>Improv>Improv>Improv  \n",
       "4                Experimental>Noise>Noise>Noise>Noise  \n",
       "5   Experimental>Sound Art>Sound Art>Sound Art>Sou...  \n",
       "6        Instrumental>Ambient>Ambient>Ambient>Ambient  \n",
       "7   Experimental>Musique Concrete>Musique Concrete...  \n",
       "8   Instrumental>Instrumental>Instrumental>Instrum...  \n",
       "9   Experimental>Unclassifiable>Unclassifiable>Unc...  \n",
       "10  Instrumental>Soundtrack>Soundtrack>Soundtrack>...  \n",
       "11       Instrumental>New Age>New Age>New Age>New Age  \n",
       "12  Experimental>Experimental>Experimental>Experim...  \n",
       "13  Experimental>Sound Collage>Sound Collage>Sound...  \n",
       "14  Instrumental>Soundtrack>Compilation>Compilatio...  \n",
       "15               Experimental>Drone>Drone>Drone>Drone  \n",
       "16  Experimental>Audio Collage>Audio Collage>Audio...  \n",
       "17  Experimental>Novelty>Kid-Friendly>Kid-Friendly...  \n",
       "18  Experimental>Avant-Garde>Avant-Garde>Avant-Gar...  \n",
       "19  Experimental>Field Recordings>Field Recordings...  \n",
       "20  Experimental>Novelty>Sound Effects>Holiday>Chr...  \n",
       "21       Experimental>Novelty>Novelty>Novelty>Novelty  \n",
       "22  Experimental>Novelty>Sound Effects>Holiday>Hol...  "
      ]
     },
     "execution_count": 97,
     "metadata": {},
     "output_type": "execute_result"
    }
   ],
   "source": [
    "categories_df"
   ]
  },
  {
   "cell_type": "code",
   "execution_count": 98,
   "id": "c2ced721-6c30-46da-95b5-a28b84b6a2a4",
   "metadata": {},
   "outputs": [],
   "source": [
    "def __create_labels__(categories_df):\n",
    "    data = {\n",
    "        \"label1\": {},\n",
    "        \"label2\": {},\n",
    "        \"label3\": {},\n",
    "        \"label4\": {},\n",
    "        \"label5\": {},\n",
    "        \"label1_inverse\": [],\n",
    "        \"label2_inverse\": [],\n",
    "        \"label3_inverse\": [],\n",
    "        \"label4_inverse\": [],\n",
    "        \"label5_inverse\": [],\n",
    "        \"label1_name\": {},\n",
    "        \"label2_name\": {},\n",
    "        \"label3_name\": {},\n",
    "        \"label4_name\": {},\n",
    "        \"label5_name\": {},\n",
    "    }\n",
    "\n",
    "    idx = 0\n",
    "    \n",
    "    for id_x, cat in enumerate(set(categories_df.level1.values.tolist())):\n",
    "        data['label1'][cat] = idx\n",
    "        data['label1_inverse'].append(cat)\n",
    "        data['label1_count'] = idx + 1\n",
    "        idx+=1\n",
    "\n",
    "    for id_x, cat in enumerate(set(categories_df.level2.values.tolist())):\n",
    "        data['label2'][cat] = idx\n",
    "        data['label2_inverse'].append(cat)\n",
    "        data['label2_count'] = idx + 1\n",
    "        idx+=1\n",
    "        \n",
    "    for id_x, cat in enumerate(set(categories_df.level3.values.tolist())):\n",
    "        data['label3'][cat] = idx\n",
    "        data['label3_inverse'].append(cat)\n",
    "        data['label3_count'] = idx + 1\n",
    "        idx+=1\n",
    "\n",
    "    for id_x, cat in enumerate(set(categories_df.level4.values.tolist())):\n",
    "        data['label4'][cat] = idx\n",
    "        data['label4_inverse'].append(cat)\n",
    "        data['label4_count'] = idx + 1\n",
    "        idx+=1\n",
    "        \n",
    "    for idx, cat in enumerate(set(categories_df.level5.values.tolist())):\n",
    "        data['label5'][cat] = idx\n",
    "        data['label5_inverse'].append(cat)\n",
    "        data['label5_count'] = idx + 1\n",
    "        idx+=1\n",
    "        \n",
    "    for cat5,cat1,cat2,cat3,cat4,name5 in categories_df.values:\n",
    "        \n",
    "        name1 = '>'.join(name5.split('>')[:1])\n",
    "        name2 = '>'.join(name5.split('>')[:2])\n",
    "        name3 = '>'.join(name5.split('>')[:3])\n",
    "        name4 = '>'.join(name5.split('>')[:4])\n",
    "        \n",
    "        \n",
    "        data['label1_name'][cat1] = name1\n",
    "        data['label2_name'][cat2] = name2\n",
    "        data['label3_name'][cat3] = name3\n",
    "        data['label4_name'][cat4] = name4\n",
    "        data['label5_name'][cat5] = name5\n",
    "        \n",
    "    return data"
   ]
  },
  {
   "cell_type": "code",
   "execution_count": 99,
   "id": "e7ccc947-b7ae-464d-a325-d61aa3cf5710",
   "metadata": {},
   "outputs": [],
   "source": [
    "with open(categories_labels_path, 'w+') as f:\n",
    "    f.write(json.dumps(__create_labels__(categories_df)))"
   ]
  },
  {
   "cell_type": "code",
   "execution_count": 100,
   "id": "3778cc5d-7def-4a1d-9f5b-b141bd08356c",
   "metadata": {},
   "outputs": [],
   "source": [
    "labels  = __create_labels__(categories_df)"
   ]
  },
  {
   "cell_type": "code",
   "execution_count": 101,
   "id": "a6b67e97-0813-492e-8323-f8588ca8d120",
   "metadata": {
    "tags": []
   },
   "outputs": [
    {
     "data": {
      "text/plain": [
       "{'1235-107-0-0': 43,\n",
       " '38-456-0-0': 44,\n",
       " '38-224-0-0': 45,\n",
       " '38-514-0-0': 46,\n",
       " '38-32-0-0': 47,\n",
       " '38-250-0-0': 48,\n",
       " '38-47-0-0': 49,\n",
       " '38-247-0-0': 50,\n",
       " '38-6-0-0': 51,\n",
       " '38-22-0-0': 52,\n",
       " '38-1-0-0': 53,\n",
       " '38-6-360-0': 54,\n",
       " '1235-267-0-0': 55,\n",
       " '38-125-0-0': 56,\n",
       " '1235-18-538-0': 57,\n",
       " '38-6-16-763': 58,\n",
       " '1235-18-0-0': 59,\n",
       " '38-30-0-0': 60,\n",
       " '38-186-0-0': 61,\n",
       " '1235-0-0-0': 62,\n",
       " '38-0-0-0': 63,\n",
       " '38-41-0-0': 64}"
      ]
     },
     "execution_count": 101,
     "metadata": {},
     "output_type": "execute_result"
    }
   ],
   "source": [
    "labels['label4']"
   ]
  },
  {
   "cell_type": "code",
   "execution_count": 102,
   "id": "676dd2f5-aa10-4a54-8542-fb86b770de22",
   "metadata": {},
   "outputs": [
    {
     "data": {
      "text/plain": [
       "2"
      ]
     },
     "execution_count": 102,
     "metadata": {},
     "output_type": "execute_result"
    }
   ],
   "source": [
    "labels['label1_count']"
   ]
  },
  {
   "cell_type": "code",
   "execution_count": 103,
   "id": "34af3ff3-11d0-415f-8736-519e5911ec59",
   "metadata": {},
   "outputs": [],
   "source": [
    "\n",
    "\n",
    "def parse_tfr_element(element):\n",
    "    #use the same structure as above; it's kinda an outline of the structure we now want to create\n",
    "    data = {\n",
    "        'emb' : tf.io.FixedLenFeature([], tf.string),\n",
    "        'track_id' : tf.io.FixedLenFeature([], tf.int64),\n",
    "    }\n",
    "    \n",
    "    content = tf.io.parse_single_example(element, data)\n",
    "\n",
    "    track_id = content['track_id']\n",
    "    emb = content['emb']\n",
    "    \n",
    "\n",
    "    #get our 'feature'-- our image -- and reshape it appropriately\n",
    "    feature = tf.io.parse_tensor(emb, out_type=tf.float32)\n",
    "    return (feature, track_id)\n",
    "\n",
    "\n",
    "def get_dataset(filename):\n",
    "    #create the dataset\n",
    "    dataset = tf.data.TFRecordDataset(filename)\n",
    "\n",
    "    #pass every single feature through our mapping function\n",
    "    dataset = dataset.map(\n",
    "        parse_tfr_element\n",
    "    )\n",
    "\n",
    "    return dataset\n",
    "\n",
    "\n"
   ]
  },
  {
   "cell_type": "code",
   "execution_count": 104,
   "id": "4580514b-0be9-4de5-a8d3-f987ba73134c",
   "metadata": {},
   "outputs": [],
   "source": [
    "import numpy as np\n",
    "\n",
    "\n",
    "def load_dataset(path,dataset=args.embeddings):\n",
    "    tfrecords_path = os.path.join(path,'tfrecords',dataset)\n",
    "    \n",
    "    \n",
    "    tfrecords_path = [os.path.join(tfrecords_path,path) for path in os.listdir(tfrecords_path)]\n",
    "    dataset = get_dataset(tfrecords_path)\n",
    "    \n",
    "    df = pd.DataFrame(\n",
    "        dataset.as_numpy_iterator(),\n",
    "        columns=['feature', 'track_id']\n",
    "    )\n",
    "        \n",
    "    df.dropna(inplace=True)\n",
    "    \n",
    "    \n",
    "    try:\n",
    "        df.feature = df.feature.apply(lambda x: x[0] if x.shape[0] != 0 else None)\n",
    "    except:\n",
    "        print(x)\n",
    "    \n",
    "    return df\n",
    "    \n"
   ]
  },
  {
   "cell_type": "code",
   "execution_count": 105,
   "id": "b5c8d2a5-ea5e-495a-a800-0d8cdede266f",
   "metadata": {},
   "outputs": [
    {
     "data": {
      "text/plain": [
       "34336       38-456-0-0-0\n",
       "26287       38-186-0-0-0\n",
       "46360        38-41-0-0-0\n",
       "29287       38-250-0-0-0\n",
       "101349       38-32-0-0-0\n",
       "               ...      \n",
       "62077       38-514-0-0-0\n",
       "94876     1235-107-0-0-0\n",
       "60181     1235-107-0-0-0\n",
       "4782          38-0-0-0-0\n",
       "15665       38-247-0-0-0\n",
       "Name: labels_5, Length: 33280, dtype: object"
      ]
     },
     "execution_count": 105,
     "metadata": {},
     "output_type": "execute_result"
    }
   ],
   "source": [
    "tracks_df['labels_5']"
   ]
  },
  {
   "cell_type": "code",
   "execution_count": 106,
   "id": "ecb34052-60dd-40db-9ba4-0a92c17f9eb0",
   "metadata": {},
   "outputs": [],
   "source": [
    "def __split_data__(group, percentage=0.1):\n",
    "    if len(group) == 1:\n",
    "        return group, group\n",
    "\n",
    "    shuffled = shuffle(group.values)\n",
    "    finish_test = int(ceil(len(group) * percentage))\n",
    "\n",
    "    first = pd.DataFrame(shuffled[:finish_test], columns=group.columns)\n",
    "    second = pd.DataFrame(shuffled[finish_test:], columns=group.columns)\n",
    "\n",
    "    return first, second"
   ]
  },
  {
   "cell_type": "code",
   "execution_count": 107,
   "id": "f6b687c1-660a-4e8c-a76a-6b2a85ae4d37",
   "metadata": {},
   "outputs": [],
   "source": [
    "def select_dataset(tracks_df):\n",
    "    \n",
    "#     dataset_testset_path = os.path.join(tfrecord_path,'test')\n",
    "#     dataset_validationset_path = os.path.join(tfrecord_path,'val')\n",
    "#     dataset_trainset_path = os.path.join(tfrecord_path,'train')\n",
    "    \n",
    "    df = load_dataset(args.dataset_path,dataset=args.embeddings)\n",
    "    \n",
    "    df.dropna(inplace=True)\n",
    "    \n",
    "    tracks_df = tracks_df.merge(df, on='track_id')\n",
    "    \n",
    "    tracks_df.loc[:,'labels_1'] = tracks_df.labels_1.astype(str).progress_apply(lambda x: labels['label1'][x])\n",
    "    tracks_df.loc[:,'labels_2'] = tracks_df.labels_2.astype(str).progress_apply(lambda x: labels['label2'][x])\n",
    "    tracks_df.loc[:,'labels_3'] = tracks_df.labels_3.astype(str).progress_apply(lambda x: labels['label3'][x])\n",
    "    tracks_df.loc[:,'labels_4'] = tracks_df.labels_4.astype(str).progress_apply(lambda x: labels['label4'][x])\n",
    "    tracks_df.loc[:,'labels_5'] = tracks_df.labels_5.astype(str).progress_apply(lambda x: labels['label5'][x])\n",
    "    \n",
    "    tests = []\n",
    "    trains = []\n",
    "    validations = []\n",
    "    groups = tracks_df.groupby(\"labels_5\")\n",
    "    \n",
    "    \n",
    "    count = 0\n",
    "    items_count = 0\n",
    "    total = len(groups)\n",
    "    total_items = len(tracks_df)\n",
    "    oversampling_size = 30  # int(group_sizes.mean() + group_sizes.std() * 2)\n",
    "    print(f\"oversampling_size: {oversampling_size}\")\n",
    "\n",
    "    for code, group in groups:\n",
    "        test, train_to_split = __split_data__(group, 0.01)  # 10%\n",
    "        train_to_split = train_to_split\n",
    "        validation, train = __split_data__(train_to_split, 0.01)  # %1\n",
    "\n",
    "        tests.append(test)\n",
    "        validations.append(validation)\n",
    "\n",
    "        ## this increase the numner of samples when classes has low quantity\n",
    "        count_train = len(train)\n",
    "        if count_train < oversampling_size:\n",
    "            train = train.sample(oversampling_size, replace=True)\n",
    "\n",
    "        trains.append(train)\n",
    "\n",
    "        count += 1\n",
    "        items_count += count_train\n",
    "        \n",
    "        \n",
    "    df_test = pd.concat(tests, sort=False).sample(frac=1).reset_index(drop=True)\n",
    "    # .to_csv(dataset_testset_path, index=False,quoting=csv.QUOTE_ALL)\n",
    "    df_val = pd.concat(validations, sort=False).sample(frac=1).reset_index(drop=True)\n",
    "    df_train = pd.concat(trains, sort=False).sample(frac=1).reset_index(drop=True)\n",
    "\n",
    "    return df_train,df_test,df_val"
   ]
  },
  {
   "cell_type": "code",
   "execution_count": 108,
   "id": "2935be5c-052f-4477-863a-acf7a160b9ea",
   "metadata": {
    "tags": []
   },
   "outputs": [
    {
     "name": "stderr",
     "output_type": "stream",
     "text": [
      "2023-05-12 15:16:31.605189: I tensorflow/core/common_runtime/gpu/gpu_device.cc:1635] Created device /job:localhost/replica:0/task:0/device:GPU:0 with 713 MB memory:  -> device: 0, name: NVIDIA GeForce RTX 2080 Ti, pci bus id: 0000:65:00.0, compute capability: 7.5\n",
      "2023-05-12 15:16:32.299523: I tensorflow/core/common_runtime/executor.cc:1197] [/device:CPU:0] (DEBUG INFO) Executor start aborting (this does not indicate an error and you can ignore this message): INVALID_ARGUMENT: You must feed a value for placeholder tensor 'Placeholder/_0' with dtype string and shape [11]\n",
      "\t [[{{node Placeholder/_0}}]]\n"
     ]
    },
    {
     "data": {
      "application/vnd.jupyter.widget-view+json": {
       "model_id": "5a2a002aa7a347df8771c6ddb0f33cc7",
       "version_major": 2,
       "version_minor": 0
      },
      "text/plain": [
       "  0%|          | 0/33278 [00:00<?, ?it/s]"
      ]
     },
     "metadata": {},
     "output_type": "display_data"
    },
    {
     "name": "stderr",
     "output_type": "stream",
     "text": [
      "/tmp/ipykernel_79576/3658527219.py:13: DeprecationWarning: In a future version, `df.iloc[:, i] = newvals` will attempt to set the values inplace instead of always setting a new array. To retain the old behavior, use either `df[df.columns[i]] = newvals` or, if columns are non-unique, `df.isetitem(i, newvals)`\n",
      "  tracks_df.loc[:,'labels_1'] = tracks_df.labels_1.astype(str).progress_apply(lambda x: labels['label1'][x])\n"
     ]
    },
    {
     "data": {
      "application/vnd.jupyter.widget-view+json": {
       "model_id": "024c6acd8cb14be194ab35c36f06be9e",
       "version_major": 2,
       "version_minor": 0
      },
      "text/plain": [
       "  0%|          | 0/33278 [00:00<?, ?it/s]"
      ]
     },
     "metadata": {},
     "output_type": "display_data"
    },
    {
     "name": "stderr",
     "output_type": "stream",
     "text": [
      "/tmp/ipykernel_79576/3658527219.py:14: DeprecationWarning: In a future version, `df.iloc[:, i] = newvals` will attempt to set the values inplace instead of always setting a new array. To retain the old behavior, use either `df[df.columns[i]] = newvals` or, if columns are non-unique, `df.isetitem(i, newvals)`\n",
      "  tracks_df.loc[:,'labels_2'] = tracks_df.labels_2.astype(str).progress_apply(lambda x: labels['label2'][x])\n"
     ]
    },
    {
     "data": {
      "application/vnd.jupyter.widget-view+json": {
       "model_id": "713f3d32fa1e4715b4447fa09fb7cf1b",
       "version_major": 2,
       "version_minor": 0
      },
      "text/plain": [
       "  0%|          | 0/33278 [00:00<?, ?it/s]"
      ]
     },
     "metadata": {},
     "output_type": "display_data"
    },
    {
     "name": "stderr",
     "output_type": "stream",
     "text": [
      "/tmp/ipykernel_79576/3658527219.py:15: DeprecationWarning: In a future version, `df.iloc[:, i] = newvals` will attempt to set the values inplace instead of always setting a new array. To retain the old behavior, use either `df[df.columns[i]] = newvals` or, if columns are non-unique, `df.isetitem(i, newvals)`\n",
      "  tracks_df.loc[:,'labels_3'] = tracks_df.labels_3.astype(str).progress_apply(lambda x: labels['label3'][x])\n"
     ]
    },
    {
     "data": {
      "application/vnd.jupyter.widget-view+json": {
       "model_id": "b9e4e40e35844a878281e0432d65136f",
       "version_major": 2,
       "version_minor": 0
      },
      "text/plain": [
       "  0%|          | 0/33278 [00:00<?, ?it/s]"
      ]
     },
     "metadata": {},
     "output_type": "display_data"
    },
    {
     "name": "stderr",
     "output_type": "stream",
     "text": [
      "/tmp/ipykernel_79576/3658527219.py:16: DeprecationWarning: In a future version, `df.iloc[:, i] = newvals` will attempt to set the values inplace instead of always setting a new array. To retain the old behavior, use either `df[df.columns[i]] = newvals` or, if columns are non-unique, `df.isetitem(i, newvals)`\n",
      "  tracks_df.loc[:,'labels_4'] = tracks_df.labels_4.astype(str).progress_apply(lambda x: labels['label4'][x])\n"
     ]
    },
    {
     "data": {
      "application/vnd.jupyter.widget-view+json": {
       "model_id": "e73234df01924e54b59566828e6dd1b7",
       "version_major": 2,
       "version_minor": 0
      },
      "text/plain": [
       "  0%|          | 0/33278 [00:00<?, ?it/s]"
      ]
     },
     "metadata": {},
     "output_type": "display_data"
    },
    {
     "name": "stderr",
     "output_type": "stream",
     "text": [
      "/tmp/ipykernel_79576/3658527219.py:17: DeprecationWarning: In a future version, `df.iloc[:, i] = newvals` will attempt to set the values inplace instead of always setting a new array. To retain the old behavior, use either `df[df.columns[i]] = newvals` or, if columns are non-unique, `df.isetitem(i, newvals)`\n",
      "  tracks_df.loc[:,'labels_5'] = tracks_df.labels_5.astype(str).progress_apply(lambda x: labels['label5'][x])\n"
     ]
    },
    {
     "name": "stdout",
     "output_type": "stream",
     "text": [
      "oversampling_size: 30\n"
     ]
    }
   ],
   "source": [
    "df_train,df_test,df_val = select_dataset(tracks_df)"
   ]
  },
  {
   "cell_type": "code",
   "execution_count": 109,
   "id": "6ca3a658-7d5e-4bf6-a5e6-40dfe0b4813b",
   "metadata": {},
   "outputs": [
    {
     "data": {
      "text/html": [
       "<div>\n",
       "<style scoped>\n",
       "    .dataframe tbody tr th:only-of-type {\n",
       "        vertical-align: middle;\n",
       "    }\n",
       "\n",
       "    .dataframe tbody tr th {\n",
       "        vertical-align: top;\n",
       "    }\n",
       "\n",
       "    .dataframe thead th {\n",
       "        text-align: right;\n",
       "    }\n",
       "</style>\n",
       "<table border=\"1\" class=\"dataframe\">\n",
       "  <thead>\n",
       "    <tr style=\"text-align: right;\">\n",
       "      <th></th>\n",
       "      <th>track_id</th>\n",
       "      <th>full_genre_id</th>\n",
       "      <th>labels_1</th>\n",
       "      <th>labels_2</th>\n",
       "      <th>labels_3</th>\n",
       "      <th>labels_4</th>\n",
       "      <th>labels_5</th>\n",
       "      <th>feature</th>\n",
       "    </tr>\n",
       "  </thead>\n",
       "  <tbody>\n",
       "    <tr>\n",
       "      <th>0</th>\n",
       "      <td>154634</td>\n",
       "      <td>[38, 47]</td>\n",
       "      <td>1</td>\n",
       "      <td>4</td>\n",
       "      <td>23</td>\n",
       "      <td>49</td>\n",
       "      <td>11</td>\n",
       "      <td>[0.029363057, 0.014465262, 0.0016358495, 0.149...</td>\n",
       "    </tr>\n",
       "    <tr>\n",
       "      <th>1</th>\n",
       "      <td>49886</td>\n",
       "      <td>[38, 250]</td>\n",
       "      <td>1</td>\n",
       "      <td>6</td>\n",
       "      <td>22</td>\n",
       "      <td>48</td>\n",
       "      <td>5</td>\n",
       "      <td>[0.13567193, -0.019791266, -0.011914919, -0.00...</td>\n",
       "    </tr>\n",
       "    <tr>\n",
       "      <th>2</th>\n",
       "      <td>2103</td>\n",
       "      <td>[38, 22]</td>\n",
       "      <td>1</td>\n",
       "      <td>19</td>\n",
       "      <td>28</td>\n",
       "      <td>52</td>\n",
       "      <td>20</td>\n",
       "      <td>[0.034534056, 0.006208837, 0.016459614, -0.018...</td>\n",
       "    </tr>\n",
       "    <tr>\n",
       "      <th>3</th>\n",
       "      <td>38200</td>\n",
       "      <td>[38]</td>\n",
       "      <td>1</td>\n",
       "      <td>16</td>\n",
       "      <td>36</td>\n",
       "      <td>63</td>\n",
       "      <td>0</td>\n",
       "      <td>[-0.037430465, -0.03674521, 0.060465634, -0.06...</td>\n",
       "    </tr>\n",
       "    <tr>\n",
       "      <th>4</th>\n",
       "      <td>107269</td>\n",
       "      <td>[38, 250]</td>\n",
       "      <td>1</td>\n",
       "      <td>6</td>\n",
       "      <td>22</td>\n",
       "      <td>48</td>\n",
       "      <td>5</td>\n",
       "      <td>[0.1401887, 0.104203396, -0.00028573474, 0.016...</td>\n",
       "    </tr>\n",
       "    <tr>\n",
       "      <th>...</th>\n",
       "      <td>...</td>\n",
       "      <td>...</td>\n",
       "      <td>...</td>\n",
       "      <td>...</td>\n",
       "      <td>...</td>\n",
       "      <td>...</td>\n",
       "      <td>...</td>\n",
       "      <td>...</td>\n",
       "    </tr>\n",
       "    <tr>\n",
       "      <th>32588</th>\n",
       "      <td>135831</td>\n",
       "      <td>[1235]</td>\n",
       "      <td>0</td>\n",
       "      <td>17</td>\n",
       "      <td>24</td>\n",
       "      <td>62</td>\n",
       "      <td>3</td>\n",
       "      <td>[-0.015580535, 0.086062945, -0.0069233277, 0.0...</td>\n",
       "    </tr>\n",
       "    <tr>\n",
       "      <th>32589</th>\n",
       "      <td>153139</td>\n",
       "      <td>[38]</td>\n",
       "      <td>1</td>\n",
       "      <td>16</td>\n",
       "      <td>36</td>\n",
       "      <td>63</td>\n",
       "      <td>0</td>\n",
       "      <td>[9.556611e-06, 0.048067074, -0.047501296, 0.16...</td>\n",
       "    </tr>\n",
       "    <tr>\n",
       "      <th>32590</th>\n",
       "      <td>84453</td>\n",
       "      <td>[38, 47]</td>\n",
       "      <td>1</td>\n",
       "      <td>4</td>\n",
       "      <td>23</td>\n",
       "      <td>49</td>\n",
       "      <td>11</td>\n",
       "      <td>[0.14999753, -0.013276826, -0.010032217, -0.00...</td>\n",
       "    </tr>\n",
       "    <tr>\n",
       "      <th>32591</th>\n",
       "      <td>92952</td>\n",
       "      <td>[1235, 107]</td>\n",
       "      <td>0</td>\n",
       "      <td>20</td>\n",
       "      <td>26</td>\n",
       "      <td>43</td>\n",
       "      <td>15</td>\n",
       "      <td>[0.030459225, -0.028177211, 0.13664915, 0.0629...</td>\n",
       "    </tr>\n",
       "    <tr>\n",
       "      <th>32592</th>\n",
       "      <td>143955</td>\n",
       "      <td>[1235]</td>\n",
       "      <td>0</td>\n",
       "      <td>17</td>\n",
       "      <td>24</td>\n",
       "      <td>62</td>\n",
       "      <td>3</td>\n",
       "      <td>[-0.02833414, 0.0052414834, -0.016825765, -0.0...</td>\n",
       "    </tr>\n",
       "  </tbody>\n",
       "</table>\n",
       "<p>32593 rows × 8 columns</p>\n",
       "</div>"
      ],
      "text/plain": [
       "      track_id full_genre_id labels_1 labels_2 labels_3 labels_4 labels_5  \\\n",
       "0       154634      [38, 47]        1        4       23       49       11   \n",
       "1        49886     [38, 250]        1        6       22       48        5   \n",
       "2         2103      [38, 22]        1       19       28       52       20   \n",
       "3        38200          [38]        1       16       36       63        0   \n",
       "4       107269     [38, 250]        1        6       22       48        5   \n",
       "...        ...           ...      ...      ...      ...      ...      ...   \n",
       "32588   135831        [1235]        0       17       24       62        3   \n",
       "32589   153139          [38]        1       16       36       63        0   \n",
       "32590    84453      [38, 47]        1        4       23       49       11   \n",
       "32591    92952   [1235, 107]        0       20       26       43       15   \n",
       "32592   143955        [1235]        0       17       24       62        3   \n",
       "\n",
       "                                                 feature  \n",
       "0      [0.029363057, 0.014465262, 0.0016358495, 0.149...  \n",
       "1      [0.13567193, -0.019791266, -0.011914919, -0.00...  \n",
       "2      [0.034534056, 0.006208837, 0.016459614, -0.018...  \n",
       "3      [-0.037430465, -0.03674521, 0.060465634, -0.06...  \n",
       "4      [0.1401887, 0.104203396, -0.00028573474, 0.016...  \n",
       "...                                                  ...  \n",
       "32588  [-0.015580535, 0.086062945, -0.0069233277, 0.0...  \n",
       "32589  [9.556611e-06, 0.048067074, -0.047501296, 0.16...  \n",
       "32590  [0.14999753, -0.013276826, -0.010032217, -0.00...  \n",
       "32591  [0.030459225, -0.028177211, 0.13664915, 0.0629...  \n",
       "32592  [-0.02833414, 0.0052414834, -0.016825765, -0.0...  \n",
       "\n",
       "[32593 rows x 8 columns]"
      ]
     },
     "execution_count": 109,
     "metadata": {},
     "output_type": "execute_result"
    }
   ],
   "source": [
    "df_train"
   ]
  },
  {
   "cell_type": "code",
   "execution_count": 110,
   "id": "a882ada1-9d1f-4fc1-9d4c-c2c7a0279557",
   "metadata": {},
   "outputs": [],
   "source": [
    "\n",
    "def _bytes_feature(value):\n",
    "    \"\"\"Returns a bytes_list from a string / byte.\"\"\"\n",
    "    if isinstance(value, type(tf.constant(0))): # if value ist tensor\n",
    "        value = value.numpy() # get value of tensor\n",
    "    return tf.train.Feature(bytes_list=tf.train.BytesList(value=[value]))\n",
    "\n",
    "def _float_feature(value):\n",
    "  \"\"\"Returns a floast_list from a float / double.\"\"\"\n",
    "  return tf.train.Feature(float_list=tf.train.FloatList(value=[value]))\n",
    "\n",
    "def _int64_feature(value):\n",
    "  \"\"\"Returns an int64_list from a bool / enum / int / uint.\"\"\"\n",
    "  return tf.train.Feature(int64_list=tf.train.Int64List(value=[value]))\n",
    "\n",
    "def serialize_array(array):\n",
    "  array = tf.io.serialize_tensor(array)\n",
    "  return array\n"
   ]
  },
  {
   "cell_type": "code",
   "execution_count": 111,
   "id": "847ca375-63be-4f96-8bbe-9346d827c3bd",
   "metadata": {},
   "outputs": [],
   "source": [
    "def parse_single_music(data,labels):\n",
    "    # cat1, cat2, cat3, cat4, cat5 = data\n",
    "    track_id, _, cat1, cat2, cat3, cat4, cat5, music = data\n",
    "    \n",
    "    label1 = np.array([cat1, labels['label1_count']], np.int64)\n",
    "    label2 = np.array([cat2, labels['label2_count']], np.int64)\n",
    "    label3 = np.array([cat3, labels['label3_count']], np.int64)\n",
    "    label4 = np.array([cat4, labels['label4_count']], np.int64)\n",
    "    label5 = np.array([cat5, labels['label5_count']], np.int64)\n",
    "    \n",
    "    \n",
    "    #define the dictionary -- the structure -- of our single example\n",
    "    data = {\n",
    "        'label1': tf.train.Feature(int64_list=tf.train.Int64List(value=label1)),\n",
    "        'label2': tf.train.Feature(int64_list=tf.train.Int64List(value=label2)),\n",
    "        'label3': tf.train.Feature(int64_list=tf.train.Int64List(value=label3)),\n",
    "        'label4': tf.train.Feature(int64_list=tf.train.Int64List(value=label4)),\n",
    "        'emb' : _bytes_feature(serialize_array(music)),\n",
    "        'track_id' : _int64_feature(track_id)\n",
    "    }\n",
    "    #create an Example, wrapping the single features\n",
    "    out = tf.train.Example(features=tf.train.Features(feature=data))\n",
    "\n",
    "    return out"
   ]
  },
  {
   "cell_type": "code",
   "execution_count": 112,
   "id": "75a8419a-fe56-4e6b-818b-7198f9370311",
   "metadata": {},
   "outputs": [],
   "source": [
    "def generate_tf_record(df,tf_path='tfrecords/val'):\n",
    "    create_dir(tf_path)\n",
    "    \n",
    "    \n",
    "    batch_size = 1024 * 50 # 50k records from each file batch\n",
    "    count = 0\n",
    "    total = math.ceil(len(df) / batch_size)\n",
    "\n",
    "    for i in range(0, len(df), batch_size):\n",
    "        batch_df = df[i:i+batch_size]\n",
    "        \n",
    "        tfrecords = [parse_single_music(data, labels) for data in batch_df.values]\n",
    "        \n",
    "        path = f\"{tf_path}/{str(count).zfill(10)}.tfrecord\"\n",
    "        \n",
    "        #with tf.python_io.TFRecordWriter(path) as writer:\n",
    "        with tf.io.TFRecordWriter(path) as writer:\n",
    "            for tfrecord in tfrecords:\n",
    "                writer.write(tfrecord.SerializeToString())\n",
    "\n",
    "        print(f\"{count} {len(tfrecords)} {path}\")\n",
    "        count += 1\n",
    "        print(f\"{count}/{total} batchs / {count * batch_size} processed\")\n",
    "\n",
    "    print(f\"{count}/{total} batchs / {len(df)} processed\")\n",
    "\n",
    "    "
   ]
  },
  {
   "cell_type": "code",
   "execution_count": 113,
   "id": "0149ac30-6fd3-44f6-8a98-e69dd2740419",
   "metadata": {},
   "outputs": [
    {
     "name": "stdout",
     "output_type": "stream",
     "text": [
      "0 340 /mnt/disks/data/fma/trains/hierarchical_single/tfrecords/val/0000000000.tfrecord\n",
      "1/1 batchs / 51200 processed\n",
      "1/1 batchs / 340 processed\n"
     ]
    }
   ],
   "source": [
    "generate_tf_record(df_val,tf_path=os.path.join(tfrecord_path,'val'))"
   ]
  },
  {
   "cell_type": "code",
   "execution_count": 114,
   "id": "770b69f6-8059-4fd7-a514-203302e1bd23",
   "metadata": {},
   "outputs": [
    {
     "name": "stdout",
     "output_type": "stream",
     "text": [
      "0 345 /mnt/disks/data/fma/trains/hierarchical_single/tfrecords/test/0000000000.tfrecord\n",
      "1/1 batchs / 51200 processed\n",
      "1/1 batchs / 345 processed\n"
     ]
    }
   ],
   "source": [
    "generate_tf_record(df_test,tf_path=os.path.join(tfrecord_path,'test'))"
   ]
  },
  {
   "cell_type": "code",
   "execution_count": 115,
   "id": "e9ef95bd-ead5-43ac-83e4-16cc24222a22",
   "metadata": {},
   "outputs": [
    {
     "name": "stdout",
     "output_type": "stream",
     "text": [
      "0 32593 /mnt/disks/data/fma/trains/hierarchical_single/tfrecords/train/0000000000.tfrecord\n",
      "1/1 batchs / 51200 processed\n",
      "1/1 batchs / 32593 processed\n"
     ]
    }
   ],
   "source": [
    "generate_tf_record(df_train,tf_path=os.path.join(tfrecord_path,'train'))"
   ]
  },
  {
   "cell_type": "code",
   "execution_count": 119,
   "id": "cd97175f-4b2b-49e0-bb74-84d12a2999a7",
   "metadata": {},
   "outputs": [],
   "source": [
    "def create_metadata(metadata_path):\n",
    "\n",
    "    with open(metadata_path, 'w+') as f:\n",
    "        f.write(json.dumps({\n",
    "            'sequence_size': args.sequence_size,\n",
    "            'n_levels': labels_size,\n",
    "            'labels_size': [labels['label1_count'],labels['label2_count'],\n",
    "                           labels['label3_count'],labels['label4_count'],\n",
    "                           labels['label5_count']],\n",
    "            'trainset_count':len(df_train),\n",
    "            'validationset_count':len(df_val),\n",
    "            'testset_count': len(df_test)\n",
    "        }))"
   ]
  },
  {
   "cell_type": "code",
   "execution_count": 122,
   "id": "39a433f0-af90-4c10-afee-138b9f5c43a6",
   "metadata": {},
   "outputs": [],
   "source": [
    "create_metadata(metadata_path)"
   ]
  },
  {
   "cell_type": "code",
   "execution_count": 120,
   "id": "af5df190-01df-4f13-a475-35132a6712f4",
   "metadata": {},
   "outputs": [],
   "source": [
    "tracks_df.to_csv(os.path.join(train_path,\"tracks.csv\"),index=False)"
   ]
  },
  {
   "cell_type": "code",
   "execution_count": null,
   "id": "339b8ce0-792b-4c94-b70e-3c031aa7b124",
   "metadata": {},
   "outputs": [],
   "source": []
  }
 ],
 "metadata": {
  "kernelspec": {
   "display_name": "Python 3 (ipykernel)",
   "language": "python",
   "name": "python3"
  },
  "language_info": {
   "codemirror_mode": {
    "name": "ipython",
    "version": 3
   },
   "file_extension": ".py",
   "mimetype": "text/x-python",
   "name": "python",
   "nbconvert_exporter": "python",
   "pygments_lexer": "ipython3",
   "version": "3.10.9"
  }
 },
 "nbformat": 4,
 "nbformat_minor": 5
}
