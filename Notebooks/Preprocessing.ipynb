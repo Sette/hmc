{
 "cells": [
  {
   "cell_type": "code",
   "execution_count": 60,
   "id": "4843caad-aa4a-420d-81f8-dcc1189318c6",
   "metadata": {
    "tags": []
   },
   "outputs": [],
   "source": [
    "import pandas as pd\n",
    "import numpy as np\n",
    "import tensorflow as tf\n",
    "import json\n",
    "import ast\n",
    "import os\n",
    "import csv\n",
    "import math\n",
    "from sklearn.utils import shuffle\n",
    "from math import ceil\n",
    "from sklearn.model_selection import train_test_split\n",
    "from tqdm.notebook import tqdm"
   ]
  },
  {
   "cell_type": "code",
   "execution_count": 61,
   "id": "47f36844-bc15-46f4-8994-6744042b62cd",
   "metadata": {},
   "outputs": [],
   "source": [
    "tqdm.pandas()"
   ]
  },
  {
   "cell_type": "code",
   "execution_count": 62,
   "id": "194b058a-a5c5-4d87-817d-aeb9e833cc2b",
   "metadata": {},
   "outputs": [],
   "source": [
    "\n",
    "args = pd.Series({\n",
    "    \"root_dir\":\"/mnt/disks/data/\",\n",
    "    \"dataset_path\":\"/mnt/disks/data/fma/fma_large\",\n",
    "    \"embeddings\":\"music_style\",\n",
    "    \"sequence_size\": 1280,\n",
    "    \"train_id\": \"hierarchical_all\",\n",
    "    'sample_size': 1\n",
    "})\n"
   ]
  },
  {
   "cell_type": "code",
   "execution_count": 63,
   "id": "87f3fe25-bd80-4976-ba77-ab30589a9cd6",
   "metadata": {},
   "outputs": [],
   "source": [
    "\n",
    "base_path = \"/mnt/disks/data/fma/trains\"\n",
    "\n",
    "\n",
    "job_path = os.path.join(base_path,args.train_id)\n",
    "\n",
    "\n",
    "tfrecord_path = os.path.join(job_path,\"tfrecords\")\n",
    "\n",
    "# In[16]:\n",
    "\n",
    "base_path = os.path.join(args.root_dir,\"fma\")\n",
    "\n",
    "# In[17]:\n",
    "\n",
    "models_path = os.path.join(args.root_dir,\"models\")\n",
    "\n",
    "\n",
    "metadata_path_fma = os.path.join(base_path,\"fma_metadata\")\n",
    "\n",
    "# In[18]:\n",
    "\n",
    "metadata_path = os.path.join(job_path,\"metadata.json\")\n",
    "\n",
    "\n",
    "categories_labels_path = os.path.join(job_path,\"labels.json\")\n"
   ]
  },
  {
   "cell_type": "code",
   "execution_count": 64,
   "id": "ffea2009-fdc3-425e-bd6b-a67696ab24da",
   "metadata": {},
   "outputs": [],
   "source": [
    "\n",
    "\n",
    "def __load_json__(path):\n",
    "    with open(path, 'r') as f:\n",
    "        tmp = json.loads(f.read())\n",
    "\n",
    "    return tmp\n",
    "\n",
    "\n"
   ]
  },
  {
   "cell_type": "code",
   "execution_count": 65,
   "id": "b413d7a2",
   "metadata": {},
   "outputs": [],
   "source": [
    "\n",
    "def create_dir(path):\n",
    "    # checking if the directory demo_folder2 \n",
    "    # exist or not.\n",
    "    if not os.path.isdir(path):\n",
    "\n",
    "        # if the demo_folder2 directory is \n",
    "        # not present then create it.\n",
    "        os.makedirs(path)\n",
    "    return True\n",
    "\n"
   ]
  },
  {
   "cell_type": "code",
   "execution_count": 66,
   "id": "dccd7294-d081-4124-993b-26f5b3a8ee56",
   "metadata": {},
   "outputs": [],
   "source": [
    "import shutil\n",
    "shutil.rmtree(job_path)"
   ]
  },
  {
   "cell_type": "code",
   "execution_count": 67,
   "id": "be2f0fcc",
   "metadata": {},
   "outputs": [
    {
     "data": {
      "text/plain": [
       "True"
      ]
     },
     "execution_count": 67,
     "metadata": {},
     "output_type": "execute_result"
    }
   ],
   "source": [
    "create_dir(job_path)"
   ]
  },
  {
   "cell_type": "markdown",
   "id": "6ab3d0b4-fc7f-4c73-b0cc-9d89729bae84",
   "metadata": {
    "tags": []
   },
   "source": [
    "## Load genres file. Contains relationships beetwen genres"
   ]
  },
  {
   "cell_type": "code",
   "execution_count": 68,
   "id": "7596e665-526e-400b-93ad-432cb7eb0d79",
   "metadata": {},
   "outputs": [],
   "source": [
    "genres_df = pd.read_csv(os.path.join(metadata_path_fma,'genres.csv'))\n"
   ]
  },
  {
   "cell_type": "code",
   "execution_count": 69,
   "id": "582b4335-bf69-4c9a-873e-ffd8253ede25",
   "metadata": {},
   "outputs": [
    {
     "data": {
      "text/html": [
       "<div>\n",
       "<style scoped>\n",
       "    .dataframe tbody tr th:only-of-type {\n",
       "        vertical-align: middle;\n",
       "    }\n",
       "\n",
       "    .dataframe tbody tr th {\n",
       "        vertical-align: top;\n",
       "    }\n",
       "\n",
       "    .dataframe thead th {\n",
       "        text-align: right;\n",
       "    }\n",
       "</style>\n",
       "<table border=\"1\" class=\"dataframe\">\n",
       "  <thead>\n",
       "    <tr style=\"text-align: right;\">\n",
       "      <th></th>\n",
       "      <th>genre_id</th>\n",
       "      <th>#tracks</th>\n",
       "      <th>parent</th>\n",
       "      <th>title</th>\n",
       "      <th>top_level</th>\n",
       "    </tr>\n",
       "  </thead>\n",
       "  <tbody>\n",
       "    <tr>\n",
       "      <th>0</th>\n",
       "      <td>1</td>\n",
       "      <td>8693</td>\n",
       "      <td>38</td>\n",
       "      <td>Avant-Garde</td>\n",
       "      <td>38</td>\n",
       "    </tr>\n",
       "    <tr>\n",
       "      <th>1</th>\n",
       "      <td>2</td>\n",
       "      <td>5271</td>\n",
       "      <td>0</td>\n",
       "      <td>International</td>\n",
       "      <td>2</td>\n",
       "    </tr>\n",
       "    <tr>\n",
       "      <th>2</th>\n",
       "      <td>3</td>\n",
       "      <td>1752</td>\n",
       "      <td>0</td>\n",
       "      <td>Blues</td>\n",
       "      <td>3</td>\n",
       "    </tr>\n",
       "    <tr>\n",
       "      <th>3</th>\n",
       "      <td>4</td>\n",
       "      <td>4126</td>\n",
       "      <td>0</td>\n",
       "      <td>Jazz</td>\n",
       "      <td>4</td>\n",
       "    </tr>\n",
       "    <tr>\n",
       "      <th>4</th>\n",
       "      <td>5</td>\n",
       "      <td>4106</td>\n",
       "      <td>0</td>\n",
       "      <td>Classical</td>\n",
       "      <td>5</td>\n",
       "    </tr>\n",
       "    <tr>\n",
       "      <th>...</th>\n",
       "      <td>...</td>\n",
       "      <td>...</td>\n",
       "      <td>...</td>\n",
       "      <td>...</td>\n",
       "      <td>...</td>\n",
       "    </tr>\n",
       "    <tr>\n",
       "      <th>158</th>\n",
       "      <td>1032</td>\n",
       "      <td>60</td>\n",
       "      <td>102</td>\n",
       "      <td>Turkish</td>\n",
       "      <td>2</td>\n",
       "    </tr>\n",
       "    <tr>\n",
       "      <th>159</th>\n",
       "      <td>1060</td>\n",
       "      <td>30</td>\n",
       "      <td>46</td>\n",
       "      <td>Tango</td>\n",
       "      <td>2</td>\n",
       "    </tr>\n",
       "    <tr>\n",
       "      <th>160</th>\n",
       "      <td>1156</td>\n",
       "      <td>26</td>\n",
       "      <td>130</td>\n",
       "      <td>Fado</td>\n",
       "      <td>2</td>\n",
       "    </tr>\n",
       "    <tr>\n",
       "      <th>161</th>\n",
       "      <td>1193</td>\n",
       "      <td>72</td>\n",
       "      <td>763</td>\n",
       "      <td>Christmas</td>\n",
       "      <td>38</td>\n",
       "    </tr>\n",
       "    <tr>\n",
       "      <th>162</th>\n",
       "      <td>1235</td>\n",
       "      <td>14938</td>\n",
       "      <td>0</td>\n",
       "      <td>Instrumental</td>\n",
       "      <td>1235</td>\n",
       "    </tr>\n",
       "  </tbody>\n",
       "</table>\n",
       "<p>163 rows × 5 columns</p>\n",
       "</div>"
      ],
      "text/plain": [
       "     genre_id  #tracks  parent          title  top_level\n",
       "0           1     8693      38    Avant-Garde         38\n",
       "1           2     5271       0  International          2\n",
       "2           3     1752       0          Blues          3\n",
       "3           4     4126       0           Jazz          4\n",
       "4           5     4106       0      Classical          5\n",
       "..        ...      ...     ...            ...        ...\n",
       "158      1032       60     102        Turkish          2\n",
       "159      1060       30      46          Tango          2\n",
       "160      1156       26     130           Fado          2\n",
       "161      1193       72     763      Christmas         38\n",
       "162      1235    14938       0   Instrumental       1235\n",
       "\n",
       "[163 rows x 5 columns]"
      ]
     },
     "execution_count": 69,
     "metadata": {},
     "output_type": "execute_result"
    }
   ],
   "source": [
    "genres_df"
   ]
  },
  {
   "cell_type": "code",
   "execution_count": 70,
   "id": "d80be793-93db-4610-ae66-5f14bf99bd2b",
   "metadata": {},
   "outputs": [
    {
     "data": {
      "text/html": [
       "<div>\n",
       "<style scoped>\n",
       "    .dataframe tbody tr th:only-of-type {\n",
       "        vertical-align: middle;\n",
       "    }\n",
       "\n",
       "    .dataframe tbody tr th {\n",
       "        vertical-align: top;\n",
       "    }\n",
       "\n",
       "    .dataframe thead th {\n",
       "        text-align: right;\n",
       "    }\n",
       "</style>\n",
       "<table border=\"1\" class=\"dataframe\">\n",
       "  <thead>\n",
       "    <tr style=\"text-align: right;\">\n",
       "      <th></th>\n",
       "      <th>genre_id</th>\n",
       "      <th>#tracks</th>\n",
       "      <th>parent</th>\n",
       "      <th>title</th>\n",
       "      <th>top_level</th>\n",
       "    </tr>\n",
       "  </thead>\n",
       "  <tbody>\n",
       "    <tr>\n",
       "      <th>136</th>\n",
       "      <td>495</td>\n",
       "      <td>2061</td>\n",
       "      <td>15</td>\n",
       "      <td>Downtempo</td>\n",
       "      <td>15</td>\n",
       "    </tr>\n",
       "  </tbody>\n",
       "</table>\n",
       "</div>"
      ],
      "text/plain": [
       "     genre_id  #tracks  parent      title  top_level\n",
       "136       495     2061      15  Downtempo         15"
      ]
     },
     "execution_count": 70,
     "metadata": {},
     "output_type": "execute_result"
    }
   ],
   "source": [
    "genres_df[genres_df['genre_id'] == 495]"
   ]
  },
  {
   "cell_type": "code",
   "execution_count": 71,
   "id": "28762aaf-32a4-41a5-af9c-cee3eca712ad",
   "metadata": {},
   "outputs": [],
   "source": [
    "# Cria um dicionário que associa o ID de cada música aos IDs de seus gêneros musicais\n",
    "tracks_df = pd.read_csv(os.path.join(metadata_path_fma,'tracks_valid.csv'))"
   ]
  },
  {
   "cell_type": "code",
   "execution_count": 72,
   "id": "13ea402f-660b-4b95-8f91-563c01971578",
   "metadata": {},
   "outputs": [],
   "source": [
    "tracks_df = tracks_df.sample(frac=args.sample_size)"
   ]
  },
  {
   "cell_type": "code",
   "execution_count": 73,
   "id": "552289c1-6b0d-48a9-8cd9-a185c12f6c9a",
   "metadata": {},
   "outputs": [
    {
     "data": {
      "text/html": [
       "<div>\n",
       "<style scoped>\n",
       "    .dataframe tbody tr th:only-of-type {\n",
       "        vertical-align: middle;\n",
       "    }\n",
       "\n",
       "    .dataframe tbody tr th {\n",
       "        vertical-align: top;\n",
       "    }\n",
       "\n",
       "    .dataframe thead th {\n",
       "        text-align: right;\n",
       "    }\n",
       "</style>\n",
       "<table border=\"1\" class=\"dataframe\">\n",
       "  <thead>\n",
       "    <tr style=\"text-align: right;\">\n",
       "      <th></th>\n",
       "      <th>track_id</th>\n",
       "      <th>track_title</th>\n",
       "      <th>valid_genre</th>\n",
       "    </tr>\n",
       "  </thead>\n",
       "  <tbody>\n",
       "    <tr>\n",
       "      <th>46414</th>\n",
       "      <td>69720</td>\n",
       "      <td>Tu vas crevette</td>\n",
       "      <td>['88', '90']</td>\n",
       "    </tr>\n",
       "    <tr>\n",
       "      <th>34686</th>\n",
       "      <td>53367</td>\n",
       "      <td>Easy Ride</td>\n",
       "      <td>['100']</td>\n",
       "    </tr>\n",
       "    <tr>\n",
       "      <th>82343</th>\n",
       "      <td>125112</td>\n",
       "      <td>Good-Night</td>\n",
       "      <td>['8']</td>\n",
       "    </tr>\n",
       "    <tr>\n",
       "      <th>18731</th>\n",
       "      <td>30361</td>\n",
       "      <td>Make Your Breasts Kiss</td>\n",
       "      <td>['15', '38', '41', '297']</td>\n",
       "    </tr>\n",
       "    <tr>\n",
       "      <th>73278</th>\n",
       "      <td>113276</td>\n",
       "      <td>Sweet</td>\n",
       "      <td>['2']</td>\n",
       "    </tr>\n",
       "    <tr>\n",
       "      <th>75650</th>\n",
       "      <td>116338</td>\n",
       "      <td>Morcore</td>\n",
       "      <td>['15', '236', '296']</td>\n",
       "    </tr>\n",
       "    <tr>\n",
       "      <th>10289</th>\n",
       "      <td>17174</td>\n",
       "      <td>Installation With Violins Inserted Between The...</td>\n",
       "      <td>['1', '38']</td>\n",
       "    </tr>\n",
       "    <tr>\n",
       "      <th>40246</th>\n",
       "      <td>61166</td>\n",
       "      <td>EasSCoasT WessCoasT</td>\n",
       "      <td>['21', '539']</td>\n",
       "    </tr>\n",
       "    <tr>\n",
       "      <th>55891</th>\n",
       "      <td>84545</td>\n",
       "      <td>re3(re:construction)</td>\n",
       "      <td>['32', '38']</td>\n",
       "    </tr>\n",
       "    <tr>\n",
       "      <th>87625</th>\n",
       "      <td>132215</td>\n",
       "      <td>Kad nam nestane ljudi</td>\n",
       "      <td>['15']</td>\n",
       "    </tr>\n",
       "    <tr>\n",
       "      <th>96338</th>\n",
       "      <td>143930</td>\n",
       "      <td>Guldheden (Förmiddag med Puszek)</td>\n",
       "      <td>['15', '18', '107']</td>\n",
       "    </tr>\n",
       "    <tr>\n",
       "      <th>45105</th>\n",
       "      <td>67507</td>\n",
       "      <td>Paranoia</td>\n",
       "      <td>['25', '109']</td>\n",
       "    </tr>\n",
       "    <tr>\n",
       "      <th>67292</th>\n",
       "      <td>105458</td>\n",
       "      <td>When the First Seed Takes Hold</td>\n",
       "      <td>['32', '38', '42']</td>\n",
       "    </tr>\n",
       "    <tr>\n",
       "      <th>94143</th>\n",
       "      <td>140766</td>\n",
       "      <td>September 1</td>\n",
       "      <td>['15', '41', '296']</td>\n",
       "    </tr>\n",
       "    <tr>\n",
       "      <th>68000</th>\n",
       "      <td>106445</td>\n",
       "      <td>les lampadaires</td>\n",
       "      <td>['94']</td>\n",
       "    </tr>\n",
       "    <tr>\n",
       "      <th>67835</th>\n",
       "      <td>106234</td>\n",
       "      <td>Marionettes Inc./ Dr. Grimshaw's Sanitorium</td>\n",
       "      <td>['38', '224', '286']</td>\n",
       "    </tr>\n",
       "    <tr>\n",
       "      <th>56040</th>\n",
       "      <td>84703</td>\n",
       "      <td>Homocider</td>\n",
       "      <td>['32', '70', '183']</td>\n",
       "    </tr>\n",
       "    <tr>\n",
       "      <th>72253</th>\n",
       "      <td>112004</td>\n",
       "      <td>Opalree</td>\n",
       "      <td>['15', '38', '236']</td>\n",
       "    </tr>\n",
       "    <tr>\n",
       "      <th>11367</th>\n",
       "      <td>18871</td>\n",
       "      <td>Intro</td>\n",
       "      <td>['1', '25']</td>\n",
       "    </tr>\n",
       "    <tr>\n",
       "      <th>89357</th>\n",
       "      <td>134261</td>\n",
       "      <td>Mahashivaratri Mela Festival II, Gokarna</td>\n",
       "      <td>['30', '86', '224']</td>\n",
       "    </tr>\n",
       "  </tbody>\n",
       "</table>\n",
       "</div>"
      ],
      "text/plain": [
       "       track_id                                        track_title   \n",
       "46414     69720                                    Tu vas crevette  \\\n",
       "34686     53367                                          Easy Ride   \n",
       "82343    125112                                         Good-Night   \n",
       "18731     30361                             Make Your Breasts Kiss   \n",
       "73278    113276                                              Sweet   \n",
       "75650    116338                                            Morcore   \n",
       "10289     17174  Installation With Violins Inserted Between The...   \n",
       "40246     61166                                EasSCoasT WessCoasT   \n",
       "55891     84545                               re3(re:construction)   \n",
       "87625    132215                              Kad nam nestane ljudi   \n",
       "96338    143930                   Guldheden (Förmiddag med Puszek)   \n",
       "45105     67507                                           Paranoia   \n",
       "67292    105458                     When the First Seed Takes Hold   \n",
       "94143    140766                                        September 1   \n",
       "68000    106445                                    les lampadaires   \n",
       "67835    106234        Marionettes Inc./ Dr. Grimshaw's Sanitorium   \n",
       "56040     84703                                          Homocider   \n",
       "72253    112004                                            Opalree   \n",
       "11367     18871                                              Intro   \n",
       "89357    134261           Mahashivaratri Mela Festival II, Gokarna   \n",
       "\n",
       "                     valid_genre  \n",
       "46414               ['88', '90']  \n",
       "34686                    ['100']  \n",
       "82343                      ['8']  \n",
       "18731  ['15', '38', '41', '297']  \n",
       "73278                      ['2']  \n",
       "75650       ['15', '236', '296']  \n",
       "10289                ['1', '38']  \n",
       "40246              ['21', '539']  \n",
       "55891               ['32', '38']  \n",
       "87625                     ['15']  \n",
       "96338        ['15', '18', '107']  \n",
       "45105              ['25', '109']  \n",
       "67292         ['32', '38', '42']  \n",
       "94143        ['15', '41', '296']  \n",
       "68000                     ['94']  \n",
       "67835       ['38', '224', '286']  \n",
       "56040        ['32', '70', '183']  \n",
       "72253        ['15', '38', '236']  \n",
       "11367                ['1', '25']  \n",
       "89357        ['30', '86', '224']  "
      ]
     },
     "execution_count": 73,
     "metadata": {},
     "output_type": "execute_result"
    }
   ],
   "source": [
    "tracks_df.sample(20)"
   ]
  },
  {
   "cell_type": "code",
   "execution_count": 74,
   "id": "fa6c0adc-32c6-4a14-a9aa-f0af12eacbf1",
   "metadata": {},
   "outputs": [
    {
     "data": {
      "text/plain": [
       "array([\"['27', '66']\", \"['5']\", \"['41', '456', '659']\", ..., \"['85']\",\n",
       "       \"['12', '25']\", \"['15', '38']\"], dtype=object)"
      ]
     },
     "execution_count": 74,
     "metadata": {},
     "output_type": "execute_result"
    }
   ],
   "source": [
    "tracks_df.valid_genre.values"
   ]
  },
  {
   "cell_type": "code",
   "execution_count": 75,
   "id": "31ad48bd-2868-46ed-81e6-02b6b26e2b1c",
   "metadata": {},
   "outputs": [
    {
     "data": {
      "text/plain": [
       "89145                         So Unreal\n",
       "42621                         Interview\n",
       "53612                             Twill\n",
       "47827                 Love Your Friends\n",
       "50537                     Srpski pasulj\n",
       "                      ...              \n",
       "59511                      You Are Dead\n",
       "83472           Happy Harlem (explicit)\n",
       "9694               You Know That I Will\n",
       "35794                   Your Mind Moves\n",
       "79041    Live at RDA69 27/02/2015 part1\n",
       "Name: track_title, Length: 104186, dtype: object"
      ]
     },
     "execution_count": 75,
     "metadata": {},
     "output_type": "execute_result"
    }
   ],
   "source": [
    "tracks_df.track_title"
   ]
  },
  {
   "cell_type": "code",
   "execution_count": 76,
   "id": "220d2eb1-95ba-41d8-9499-bd6278ef473a",
   "metadata": {},
   "outputs": [],
   "source": [
    "## Get complete genre structure\n",
    "def get_all_structure(estrutura,df_genres):\n",
    "    ## Get structure from df_genres\n",
    "    def get_all_structure_from_df(estrutura,df_genres,structure=[]):\n",
    "        if estrutura == 0:\n",
    "            return structure\n",
    "        else:\n",
    "            structure.append(int(estrutura))\n",
    "            get_all_structure_from_df(df_genres[df_genres[\"genre_id\"]==int(estrutura)].parent.values[0],df_genres,structure)\n",
    "            return structure\n",
    "    \n",
    "    return get_all_structure_from_df(estrutura,df_genres,structure=[])\n",
    "    "
   ]
  },
  {
   "cell_type": "code",
   "execution_count": 77,
   "id": "2e89c7be-57eb-46bf-8506-b966ab685b50",
   "metadata": {},
   "outputs": [],
   "source": [
    "# tracks_df['valid_genre'] = tracks_df.track_genres.apply(lambda x: x.strip('][').split(', ') if x != '[]' else None)\n",
    "tracks_df['valid_genre'] = tracks_df.valid_genre.apply(lambda x: ast.literal_eval(x))"
   ]
  },
  {
   "cell_type": "code",
   "execution_count": 78,
   "id": "b50f6d87-8a38-4b6a-92b7-c10a559de965",
   "metadata": {},
   "outputs": [],
   "source": [
    "tracks_df['last_genre_id'] = tracks_df.valid_genre.apply(lambda x:x[-1] if x != None else None)"
   ]
  },
  {
   "cell_type": "code",
   "execution_count": 79,
   "id": "5c1ccfaf-ad6a-4f6c-87d6-b6e8a74a8d0c",
   "metadata": {},
   "outputs": [
    {
     "data": {
      "text/html": [
       "<div>\n",
       "<style scoped>\n",
       "    .dataframe tbody tr th:only-of-type {\n",
       "        vertical-align: middle;\n",
       "    }\n",
       "\n",
       "    .dataframe tbody tr th {\n",
       "        vertical-align: top;\n",
       "    }\n",
       "\n",
       "    .dataframe thead th {\n",
       "        text-align: right;\n",
       "    }\n",
       "</style>\n",
       "<table border=\"1\" class=\"dataframe\">\n",
       "  <thead>\n",
       "    <tr style=\"text-align: right;\">\n",
       "      <th></th>\n",
       "      <th>track_id</th>\n",
       "      <th>track_title</th>\n",
       "      <th>valid_genre</th>\n",
       "      <th>last_genre_id</th>\n",
       "    </tr>\n",
       "  </thead>\n",
       "  <tbody>\n",
       "    <tr>\n",
       "      <th>22033</th>\n",
       "      <td>35198</td>\n",
       "      <td>It's Now or Never (Elvis Presley)</td>\n",
       "      <td>[1, 38, 125]</td>\n",
       "      <td>125</td>\n",
       "    </tr>\n",
       "    <tr>\n",
       "      <th>61206</th>\n",
       "      <td>93933</td>\n",
       "      <td>April</td>\n",
       "      <td>[184, 400]</td>\n",
       "      <td>400</td>\n",
       "    </tr>\n",
       "    <tr>\n",
       "      <th>54750</th>\n",
       "      <td>83020</td>\n",
       "      <td>Kill Me</td>\n",
       "      <td>[10, 25, 109]</td>\n",
       "      <td>109</td>\n",
       "    </tr>\n",
       "    <tr>\n",
       "      <th>63710</th>\n",
       "      <td>97653</td>\n",
       "      <td>Arrington and Gombloh Take 3</td>\n",
       "      <td>[2, 74, 250]</td>\n",
       "      <td>250</td>\n",
       "    </tr>\n",
       "    <tr>\n",
       "      <th>68039</th>\n",
       "      <td>106493</td>\n",
       "      <td>Roadways</td>\n",
       "      <td>[15, 107, 495]</td>\n",
       "      <td>495</td>\n",
       "    </tr>\n",
       "    <tr>\n",
       "      <th>69135</th>\n",
       "      <td>107873</td>\n",
       "      <td>Another world</td>\n",
       "      <td>[17, 25, 53]</td>\n",
       "      <td>53</td>\n",
       "    </tr>\n",
       "    <tr>\n",
       "      <th>46749</th>\n",
       "      <td>70183</td>\n",
       "      <td>Lockheed</td>\n",
       "      <td>[15, 38, 42, 70, 183, 236]</td>\n",
       "      <td>236</td>\n",
       "    </tr>\n",
       "    <tr>\n",
       "      <th>20714</th>\n",
       "      <td>33191</td>\n",
       "      <td>Big Hunk of Love</td>\n",
       "      <td>[12]</td>\n",
       "      <td>12</td>\n",
       "    </tr>\n",
       "    <tr>\n",
       "      <th>50938</th>\n",
       "      <td>76124</td>\n",
       "      <td>deconstrucción</td>\n",
       "      <td>[107, 659]</td>\n",
       "      <td>659</td>\n",
       "    </tr>\n",
       "    <tr>\n",
       "      <th>12646</th>\n",
       "      <td>20916</td>\n",
       "      <td>no hug, no eyecontact, but a hand breaking shake</td>\n",
       "      <td>[1, 27, 36, 76, 125, 186]</td>\n",
       "      <td>186</td>\n",
       "    </tr>\n",
       "    <tr>\n",
       "      <th>96379</th>\n",
       "      <td>143971</td>\n",
       "      <td>Michael Jordan</td>\n",
       "      <td>[100, 539]</td>\n",
       "      <td>539</td>\n",
       "    </tr>\n",
       "    <tr>\n",
       "      <th>76840</th>\n",
       "      <td>118049</td>\n",
       "      <td>Nashotah Falls</td>\n",
       "      <td>[66]</td>\n",
       "      <td>66</td>\n",
       "    </tr>\n",
       "    <tr>\n",
       "      <th>51883</th>\n",
       "      <td>78747</td>\n",
       "      <td>Untitled 1</td>\n",
       "      <td>[3]</td>\n",
       "      <td>3</td>\n",
       "    </tr>\n",
       "    <tr>\n",
       "      <th>42239</th>\n",
       "      <td>64076</td>\n",
       "      <td>Eight</td>\n",
       "      <td>[107, 187]</td>\n",
       "      <td>187</td>\n",
       "    </tr>\n",
       "    <tr>\n",
       "      <th>29548</th>\n",
       "      <td>45570</td>\n",
       "      <td>Fingerless Love</td>\n",
       "      <td>[27, 103]</td>\n",
       "      <td>103</td>\n",
       "    </tr>\n",
       "    <tr>\n",
       "      <th>66076</th>\n",
       "      <td>103757</td>\n",
       "      <td>Luxury Accommodation</td>\n",
       "      <td>[6, 85]</td>\n",
       "      <td>85</td>\n",
       "    </tr>\n",
       "    <tr>\n",
       "      <th>24061</th>\n",
       "      <td>38151</td>\n",
       "      <td>Jupiter</td>\n",
       "      <td>[538]</td>\n",
       "      <td>538</td>\n",
       "    </tr>\n",
       "    <tr>\n",
       "      <th>27215</th>\n",
       "      <td>42240</td>\n",
       "      <td>Vranski Cocek</td>\n",
       "      <td>[2]</td>\n",
       "      <td>2</td>\n",
       "    </tr>\n",
       "    <tr>\n",
       "      <th>88052</th>\n",
       "      <td>132745</td>\n",
       "      <td>Albiero A</td>\n",
       "      <td>[18, 42, 495]</td>\n",
       "      <td>495</td>\n",
       "    </tr>\n",
       "    <tr>\n",
       "      <th>70862</th>\n",
       "      <td>110234</td>\n",
       "      <td>house of the earth's axis</td>\n",
       "      <td>[38, 250]</td>\n",
       "      <td>250</td>\n",
       "    </tr>\n",
       "  </tbody>\n",
       "</table>\n",
       "</div>"
      ],
      "text/plain": [
       "       track_id                                       track_title   \n",
       "22033     35198                 It's Now or Never (Elvis Presley)  \\\n",
       "61206     93933                                             April   \n",
       "54750     83020                                           Kill Me   \n",
       "63710     97653                      Arrington and Gombloh Take 3   \n",
       "68039    106493                                          Roadways   \n",
       "69135    107873                                     Another world   \n",
       "46749     70183                                          Lockheed   \n",
       "20714     33191                                  Big Hunk of Love   \n",
       "50938     76124                                    deconstrucción   \n",
       "12646     20916  no hug, no eyecontact, but a hand breaking shake   \n",
       "96379    143971                                    Michael Jordan   \n",
       "76840    118049                                    Nashotah Falls   \n",
       "51883     78747                                        Untitled 1   \n",
       "42239     64076                                             Eight   \n",
       "29548     45570                                   Fingerless Love   \n",
       "66076    103757                              Luxury Accommodation   \n",
       "24061     38151                                           Jupiter   \n",
       "27215     42240                                     Vranski Cocek   \n",
       "88052    132745                                         Albiero A   \n",
       "70862    110234                         house of the earth's axis   \n",
       "\n",
       "                      valid_genre last_genre_id  \n",
       "22033                [1, 38, 125]           125  \n",
       "61206                  [184, 400]           400  \n",
       "54750               [10, 25, 109]           109  \n",
       "63710                [2, 74, 250]           250  \n",
       "68039              [15, 107, 495]           495  \n",
       "69135                [17, 25, 53]            53  \n",
       "46749  [15, 38, 42, 70, 183, 236]           236  \n",
       "20714                        [12]            12  \n",
       "50938                  [107, 659]           659  \n",
       "12646   [1, 27, 36, 76, 125, 186]           186  \n",
       "96379                  [100, 539]           539  \n",
       "76840                        [66]            66  \n",
       "51883                         [3]             3  \n",
       "42239                  [107, 187]           187  \n",
       "29548                   [27, 103]           103  \n",
       "66076                     [6, 85]            85  \n",
       "24061                       [538]           538  \n",
       "27215                         [2]             2  \n",
       "88052               [18, 42, 495]           495  \n",
       "70862                   [38, 250]           250  "
      ]
     },
     "execution_count": 79,
     "metadata": {},
     "output_type": "execute_result"
    }
   ],
   "source": [
    "tracks_df.sample(20)"
   ]
  },
  {
   "cell_type": "code",
   "execution_count": 80,
   "id": "f5de1c7f-c2b6-487a-83bc-974ddb99008a",
   "metadata": {},
   "outputs": [],
   "source": [
    "tracks_df.dropna(inplace=True)"
   ]
  },
  {
   "cell_type": "code",
   "execution_count": 81,
   "id": "fcb10f3d-d6fa-4e7b-a4f0-d8536a1a2898",
   "metadata": {},
   "outputs": [
    {
     "data": {
      "text/html": [
       "<div>\n",
       "<style scoped>\n",
       "    .dataframe tbody tr th:only-of-type {\n",
       "        vertical-align: middle;\n",
       "    }\n",
       "\n",
       "    .dataframe tbody tr th {\n",
       "        vertical-align: top;\n",
       "    }\n",
       "\n",
       "    .dataframe thead th {\n",
       "        text-align: right;\n",
       "    }\n",
       "</style>\n",
       "<table border=\"1\" class=\"dataframe\">\n",
       "  <thead>\n",
       "    <tr style=\"text-align: right;\">\n",
       "      <th></th>\n",
       "      <th>track_id</th>\n",
       "      <th>track_title</th>\n",
       "      <th>valid_genre</th>\n",
       "      <th>last_genre_id</th>\n",
       "    </tr>\n",
       "  </thead>\n",
       "  <tbody>\n",
       "    <tr>\n",
       "      <th>89145</th>\n",
       "      <td>134034</td>\n",
       "      <td>So Unreal</td>\n",
       "      <td>[27, 66]</td>\n",
       "      <td>66</td>\n",
       "    </tr>\n",
       "    <tr>\n",
       "      <th>42621</th>\n",
       "      <td>64503</td>\n",
       "      <td>Interview</td>\n",
       "      <td>[5]</td>\n",
       "      <td>5</td>\n",
       "    </tr>\n",
       "    <tr>\n",
       "      <th>53612</th>\n",
       "      <td>81635</td>\n",
       "      <td>Twill</td>\n",
       "      <td>[41, 456, 659]</td>\n",
       "      <td>659</td>\n",
       "    </tr>\n",
       "    <tr>\n",
       "      <th>47827</th>\n",
       "      <td>71633</td>\n",
       "      <td>Love Your Friends</td>\n",
       "      <td>[25]</td>\n",
       "      <td>25</td>\n",
       "    </tr>\n",
       "    <tr>\n",
       "      <th>50537</th>\n",
       "      <td>75527</td>\n",
       "      <td>Srpski pasulj</td>\n",
       "      <td>[25, 66, 89]</td>\n",
       "      <td>89</td>\n",
       "    </tr>\n",
       "    <tr>\n",
       "      <th>...</th>\n",
       "      <td>...</td>\n",
       "      <td>...</td>\n",
       "      <td>...</td>\n",
       "      <td>...</td>\n",
       "    </tr>\n",
       "    <tr>\n",
       "      <th>59511</th>\n",
       "      <td>91032</td>\n",
       "      <td>You Are Dead</td>\n",
       "      <td>[15, 70]</td>\n",
       "      <td>70</td>\n",
       "    </tr>\n",
       "    <tr>\n",
       "      <th>83472</th>\n",
       "      <td>126782</td>\n",
       "      <td>Happy Harlem (explicit)</td>\n",
       "      <td>[17]</td>\n",
       "      <td>17</td>\n",
       "    </tr>\n",
       "    <tr>\n",
       "      <th>9694</th>\n",
       "      <td>16321</td>\n",
       "      <td>You Know That I Will</td>\n",
       "      <td>[85]</td>\n",
       "      <td>85</td>\n",
       "    </tr>\n",
       "    <tr>\n",
       "      <th>35794</th>\n",
       "      <td>54952</td>\n",
       "      <td>Your Mind Moves</td>\n",
       "      <td>[12, 25]</td>\n",
       "      <td>25</td>\n",
       "    </tr>\n",
       "    <tr>\n",
       "      <th>79041</th>\n",
       "      <td>120684</td>\n",
       "      <td>Live at RDA69 27/02/2015 part1</td>\n",
       "      <td>[15, 38]</td>\n",
       "      <td>38</td>\n",
       "    </tr>\n",
       "  </tbody>\n",
       "</table>\n",
       "<p>104185 rows × 4 columns</p>\n",
       "</div>"
      ],
      "text/plain": [
       "       track_id                     track_title     valid_genre last_genre_id\n",
       "89145    134034                       So Unreal        [27, 66]            66\n",
       "42621     64503                       Interview             [5]             5\n",
       "53612     81635                           Twill  [41, 456, 659]           659\n",
       "47827     71633               Love Your Friends            [25]            25\n",
       "50537     75527                   Srpski pasulj    [25, 66, 89]            89\n",
       "...         ...                             ...             ...           ...\n",
       "59511     91032                    You Are Dead        [15, 70]            70\n",
       "83472    126782         Happy Harlem (explicit)            [17]            17\n",
       "9694      16321            You Know That I Will            [85]            85\n",
       "35794     54952                 Your Mind Moves        [12, 25]            25\n",
       "79041    120684  Live at RDA69 27/02/2015 part1        [15, 38]            38\n",
       "\n",
       "[104185 rows x 4 columns]"
      ]
     },
     "execution_count": 81,
     "metadata": {},
     "output_type": "execute_result"
    }
   ],
   "source": [
    "tracks_df"
   ]
  },
  {
   "cell_type": "code",
   "execution_count": 82,
   "id": "8f713133-f471-4ca5-b7b1-ab06109bb31b",
   "metadata": {
    "tags": []
   },
   "outputs": [
    {
     "data": {
      "application/vnd.jupyter.widget-view+json": {
       "model_id": "6c5b26968b744fa5b1bb62944b30df0d",
       "version_major": 2,
       "version_minor": 0
      },
      "text/plain": [
       "  0%|          | 0/104185 [00:00<?, ?it/s]"
      ]
     },
     "metadata": {},
     "output_type": "display_data"
    }
   ],
   "source": [
    "tracks_df['full_genre_id'] = tracks_df.last_genre_id.progress_apply(lambda x: get_all_structure(x,genres_df)[::-1])"
   ]
  },
  {
   "cell_type": "code",
   "execution_count": 83,
   "id": "69d80106-b330-4749-8aee-d2fbc451ecfb",
   "metadata": {},
   "outputs": [
    {
     "data": {
      "text/plain": [
       "89145        [12, 66]\n",
       "42621             [5]\n",
       "53612        [5, 659]\n",
       "47827        [12, 25]\n",
       "50537    [12, 25, 89]\n",
       "             ...     \n",
       "59511        [12, 70]\n",
       "83472            [17]\n",
       "9694         [12, 85]\n",
       "35794        [12, 25]\n",
       "79041            [38]\n",
       "Name: full_genre_id, Length: 104185, dtype: object"
      ]
     },
     "execution_count": 83,
     "metadata": {},
     "output_type": "execute_result"
    }
   ],
   "source": [
    "tracks_df.full_genre_id"
   ]
  },
  {
   "cell_type": "code",
   "execution_count": 84,
   "id": "8cf91d85-a298-4064-aecc-4370639ea929",
   "metadata": {},
   "outputs": [
    {
     "data": {
      "text/plain": [
       "Index(['track_id', 'track_title', 'valid_genre', 'last_genre_id',\n",
       "       'full_genre_id'],\n",
       "      dtype='object')"
      ]
     },
     "execution_count": 84,
     "metadata": {},
     "output_type": "execute_result"
    }
   ],
   "source": [
    "tracks_df.columns"
   ]
  },
  {
   "cell_type": "code",
   "execution_count": 85,
   "id": "d7b72dad-6dfa-46c3-84ac-10602c852524",
   "metadata": {},
   "outputs": [],
   "source": [
    "tracks_df = tracks_df[['track_id','full_genre_id']]"
   ]
  },
  {
   "cell_type": "code",
   "execution_count": 86,
   "id": "c7d35e82-a0b0-4bda-be5e-f69340a00385",
   "metadata": {},
   "outputs": [
    {
     "data": {
      "text/plain": [
       "array([list([12, 66]), list([5]), list([5, 659]), ..., list([12, 85]),\n",
       "       list([12, 25]), list([38])], dtype=object)"
      ]
     },
     "execution_count": 86,
     "metadata": {},
     "output_type": "execute_result"
    }
   ],
   "source": [
    "tracks_df.full_genre_id.values"
   ]
  },
  {
   "cell_type": "code",
   "execution_count": 87,
   "id": "14106678-2380-40d6-8373-edf1fda9b3af",
   "metadata": {},
   "outputs": [
    {
     "data": {
      "text/plain": [
       "<bound method Series.info of 89145        [12, 66]\n",
       "42621             [5]\n",
       "53612        [5, 659]\n",
       "47827        [12, 25]\n",
       "50537    [12, 25, 89]\n",
       "             ...     \n",
       "59511        [12, 70]\n",
       "83472            [17]\n",
       "9694         [12, 85]\n",
       "35794        [12, 25]\n",
       "79041            [38]\n",
       "Name: full_genre_id, Length: 104185, dtype: object>"
      ]
     },
     "execution_count": 87,
     "metadata": {},
     "output_type": "execute_result"
    }
   ],
   "source": [
    "tracks_df.full_genre_id.info"
   ]
  },
  {
   "cell_type": "code",
   "execution_count": 88,
   "id": "90068602-0c57-4e10-bd9b-64cd1c8d8ad8",
   "metadata": {},
   "outputs": [],
   "source": [
    "labels_size = tracks_df.full_genre_id.apply(lambda x: len(x))"
   ]
  },
  {
   "cell_type": "code",
   "execution_count": 89,
   "id": "70f2351f-2f55-4979-84c2-0cb142887a78",
   "metadata": {},
   "outputs": [],
   "source": [
    "labels_size = int(labels_size.max())"
   ]
  },
  {
   "cell_type": "code",
   "execution_count": 90,
   "id": "e1f6ac31-ca09-4e44-a120-cd4534cd851e",
   "metadata": {},
   "outputs": [
    {
     "data": {
      "text/plain": [
       "int"
      ]
     },
     "execution_count": 90,
     "metadata": {},
     "output_type": "execute_result"
    }
   ],
   "source": [
    "type(labels_size)"
   ]
  },
  {
   "cell_type": "markdown",
   "id": "74827c2e-072a-4213-9b96-f7bb24dee80e",
   "metadata": {},
   "source": [
    "### Parse of label to structure"
   ]
  },
  {
   "cell_type": "code",
   "execution_count": 91,
   "id": "093a84f2-25d1-4f95-81e5-c51e73933e95",
   "metadata": {},
   "outputs": [],
   "source": [
    "### Function for parse label to sctructure of hierarhical scheme\n",
    "\n",
    "def parse_label(label,label_size=5):\n",
    "    # label = label.split('-')\n",
    "    # preencher com 0 no caso de haver menos de 5 níveis\n",
    "    labels = np.zeros(label_size,dtype=int)\n",
    "    for i, label in enumerate(label):\n",
    "        if i == 5:\n",
    "            break\n",
    "        # Aqui você pode fazer a conversão do label em um índice inteiro usando um dicionário ou outro método\n",
    "        # Neste exemplo, estou apenas usando a posição da label na lista como índice\n",
    "        labels[i] = label\n",
    "    return labels"
   ]
  },
  {
   "cell_type": "code",
   "execution_count": 92,
   "id": "2a6adb21-c145-4c82-ba79-798d02c7d2fd",
   "metadata": {},
   "outputs": [],
   "source": [
    "parsed_labels = tracks_df.full_genre_id.apply(lambda x: parse_label(x))"
   ]
  },
  {
   "cell_type": "code",
   "execution_count": 93,
   "id": "5981a36f-cb76-4d1f-8bfe-7e58f3b002e5",
   "metadata": {},
   "outputs": [
    {
     "data": {
      "text/plain": [
       "89145        [12, 66]\n",
       "42621             [5]\n",
       "53612        [5, 659]\n",
       "47827        [12, 25]\n",
       "50537    [12, 25, 89]\n",
       "             ...     \n",
       "59511        [12, 70]\n",
       "83472            [17]\n",
       "9694         [12, 85]\n",
       "35794        [12, 25]\n",
       "79041            [38]\n",
       "Name: full_genre_id, Length: 104185, dtype: object"
      ]
     },
     "execution_count": 93,
     "metadata": {},
     "output_type": "execute_result"
    }
   ],
   "source": [
    "tracks_df['full_genre_id']"
   ]
  },
  {
   "cell_type": "code",
   "execution_count": 94,
   "id": "d60b077d-993f-4cbb-a66b-407d97dba96e",
   "metadata": {},
   "outputs": [],
   "source": [
    "def convert_label_to_string(x,level=2):\n",
    "    return '-'.join([str(value) for value in x[:level]])"
   ]
  },
  {
   "cell_type": "code",
   "execution_count": 95,
   "id": "e463b489-81bf-4a7d-95db-1f78c7ca6d87",
   "metadata": {},
   "outputs": [
    {
     "data": {
      "application/vnd.jupyter.widget-view+json": {
       "model_id": "769acd6bc4e04f3286cdb9cba3a6cbf3",
       "version_major": 2,
       "version_minor": 0
      },
      "text/plain": [
       "  0%|          | 0/104185 [00:00<?, ?it/s]"
      ]
     },
     "metadata": {},
     "output_type": "display_data"
    },
    {
     "name": "stderr",
     "output_type": "stream",
     "text": [
      "/tmp/ipykernel_444150/310633048.py:1: SettingWithCopyWarning: \n",
      "A value is trying to be set on a copy of a slice from a DataFrame.\n",
      "Try using .loc[row_indexer,col_indexer] = value instead\n",
      "\n",
      "See the caveats in the documentation: https://pandas.pydata.org/pandas-docs/stable/user_guide/indexing.html#returning-a-view-versus-a-copy\n",
      "  tracks_df['labels_1'] = parsed_labels.progress_apply(lambda x: str(x[:1][0]))\n"
     ]
    },
    {
     "data": {
      "application/vnd.jupyter.widget-view+json": {
       "model_id": "434cb8e595c240f7b57d57bdb5ad2174",
       "version_major": 2,
       "version_minor": 0
      },
      "text/plain": [
       "  0%|          | 0/104185 [00:00<?, ?it/s]"
      ]
     },
     "metadata": {},
     "output_type": "display_data"
    },
    {
     "name": "stderr",
     "output_type": "stream",
     "text": [
      "/tmp/ipykernel_444150/310633048.py:2: SettingWithCopyWarning: \n",
      "A value is trying to be set on a copy of a slice from a DataFrame.\n",
      "Try using .loc[row_indexer,col_indexer] = value instead\n",
      "\n",
      "See the caveats in the documentation: https://pandas.pydata.org/pandas-docs/stable/user_guide/indexing.html#returning-a-view-versus-a-copy\n",
      "  tracks_df['labels_2'] = parsed_labels.progress_apply(lambda x: convert_label_to_string(x,level=2))\n"
     ]
    },
    {
     "data": {
      "application/vnd.jupyter.widget-view+json": {
       "model_id": "ad9eccd83d7049c3b9c56c326148d34e",
       "version_major": 2,
       "version_minor": 0
      },
      "text/plain": [
       "  0%|          | 0/104185 [00:00<?, ?it/s]"
      ]
     },
     "metadata": {},
     "output_type": "display_data"
    },
    {
     "data": {
      "application/vnd.jupyter.widget-view+json": {
       "model_id": "cd7722fe33a44079bf252c001a960e38",
       "version_major": 2,
       "version_minor": 0
      },
      "text/plain": [
       "  0%|          | 0/104185 [00:00<?, ?it/s]"
      ]
     },
     "metadata": {},
     "output_type": "display_data"
    },
    {
     "data": {
      "application/vnd.jupyter.widget-view+json": {
       "model_id": "e6b0e64bbf494fdb882e27d897fe66b1",
       "version_major": 2,
       "version_minor": 0
      },
      "text/plain": [
       "  0%|          | 0/104185 [00:00<?, ?it/s]"
      ]
     },
     "metadata": {},
     "output_type": "display_data"
    }
   ],
   "source": [
    "tracks_df['labels_1'] = parsed_labels.progress_apply(lambda x: str(x[:1][0]))\n",
    "tracks_df['labels_2'] = parsed_labels.progress_apply(lambda x: convert_label_to_string(x,level=2))\n",
    "tracks_df['labels_3'] = parsed_labels.progress_apply(lambda x: convert_label_to_string(x,level=3))\n",
    "tracks_df['labels_4'] = parsed_labels.progress_apply(lambda x: convert_label_to_string(x,level=4))\n",
    "tracks_df['labels_5'] = parsed_labels.progress_apply(lambda x: convert_label_to_string(x,level=5))"
   ]
  },
  {
   "cell_type": "code",
   "execution_count": 96,
   "id": "04828399-6891-4cd6-b5d6-e6263c37a658",
   "metadata": {},
   "outputs": [],
   "source": [
    "# tracks_df = tracks_df[tracks_df['labels_1'].isin([\"38\",\"1235\"])]"
   ]
  },
  {
   "cell_type": "code",
   "execution_count": 97,
   "id": "86c81a9f-b819-4793-af3a-78f22b198aa7",
   "metadata": {},
   "outputs": [
    {
     "data": {
      "text/plain": [
       "labels_2\n",
       "38-0        6508\n",
       "1235-0      6043\n",
       "12-25       5706\n",
       "10-76       4126\n",
       "1235-107    3988\n",
       "            ... \n",
       "13-0          17\n",
       "20-374         9\n",
       "2-117          8\n",
       "20-7           2\n",
       "5-444          2\n",
       "Name: count, Length: 121, dtype: int64"
      ]
     },
     "execution_count": 97,
     "metadata": {},
     "output_type": "execute_result"
    }
   ],
   "source": [
    "tracks_df['labels_2'].value_counts()"
   ]
  },
  {
   "cell_type": "code",
   "execution_count": 98,
   "id": "a29b0317-181b-4cf9-ac27-3fd9505e1f7b",
   "metadata": {},
   "outputs": [
    {
     "data": {
      "text/plain": [
       "labels_5\n",
       "38-0-0-0-0        6508\n",
       "1235-0-0-0-0      6043\n",
       "10-76-0-0-0       4126\n",
       "1235-107-0-0-0    3988\n",
       "17-103-0-0-0      3482\n",
       "                  ... \n",
       "9-651-493-0-0        4\n",
       "20-65-189-0-0        4\n",
       "2-86-173-0-0         4\n",
       "20-7-0-0-0           2\n",
       "5-444-0-0-0          2\n",
       "Name: count, Length: 159, dtype: int64"
      ]
     },
     "execution_count": 98,
     "metadata": {},
     "output_type": "execute_result"
    }
   ],
   "source": [
    "tracks_df['labels_5'].value_counts()"
   ]
  },
  {
   "cell_type": "code",
   "execution_count": 99,
   "id": "304cd0a8-f7de-4862-8994-a9ed960cea5a",
   "metadata": {},
   "outputs": [],
   "source": [
    "# tracks_df = tracks_df[tracks_df['labels_1'].isin(['3','14'])]"
   ]
  },
  {
   "cell_type": "code",
   "execution_count": 100,
   "id": "d1e5f547-34ba-4d8d-b3ef-7d7eebc578fc",
   "metadata": {},
   "outputs": [],
   "source": [
    "categories_df = pd.DataFrame({'level5':tracks_df.labels_5.unique()})"
   ]
  },
  {
   "cell_type": "code",
   "execution_count": 101,
   "id": "39a3077d-9077-4f6b-be98-1e7d14e280e2",
   "metadata": {},
   "outputs": [
    {
     "data": {
      "application/vnd.jupyter.widget-view+json": {
       "model_id": "3b6721ec32bc41279892897343750e22",
       "version_major": 2,
       "version_minor": 0
      },
      "text/plain": [
       "  0%|          | 0/159 [00:00<?, ?it/s]"
      ]
     },
     "metadata": {},
     "output_type": "display_data"
    },
    {
     "data": {
      "application/vnd.jupyter.widget-view+json": {
       "model_id": "1ad446c8e9ea440484f8c92499ea780d",
       "version_major": 2,
       "version_minor": 0
      },
      "text/plain": [
       "  0%|          | 0/159 [00:00<?, ?it/s]"
      ]
     },
     "metadata": {},
     "output_type": "display_data"
    },
    {
     "data": {
      "application/vnd.jupyter.widget-view+json": {
       "model_id": "ba019d50ddc847358a01e02a74f6abce",
       "version_major": 2,
       "version_minor": 0
      },
      "text/plain": [
       "  0%|          | 0/159 [00:00<?, ?it/s]"
      ]
     },
     "metadata": {},
     "output_type": "display_data"
    },
    {
     "data": {
      "application/vnd.jupyter.widget-view+json": {
       "model_id": "1bd3d7f575ff42889027437a50923c22",
       "version_major": 2,
       "version_minor": 0
      },
      "text/plain": [
       "  0%|          | 0/159 [00:00<?, ?it/s]"
      ]
     },
     "metadata": {},
     "output_type": "display_data"
    }
   ],
   "source": [
    "categories_df['level1'] = categories_df.level5.progress_apply(lambda x: '-'.join(x.split('-')[:1]))\n",
    "categories_df['level2'] = categories_df.level5.progress_apply(lambda x: '-'.join(x.split('-')[:2]))\n",
    "categories_df['level3'] = categories_df.level5.progress_apply(lambda x: '-'.join(x.split('-')[:3]))\n",
    "categories_df['level4'] = categories_df.level5.progress_apply(lambda x: '-'.join(x.split('-')[:4]))"
   ]
  },
  {
   "cell_type": "code",
   "execution_count": 102,
   "id": "d32d5387-bc51-4823-8245-9b715899af33",
   "metadata": {},
   "outputs": [
    {
     "data": {
      "text/html": [
       "<div>\n",
       "<style scoped>\n",
       "    .dataframe tbody tr th:only-of-type {\n",
       "        vertical-align: middle;\n",
       "    }\n",
       "\n",
       "    .dataframe tbody tr th {\n",
       "        vertical-align: top;\n",
       "    }\n",
       "\n",
       "    .dataframe thead th {\n",
       "        text-align: right;\n",
       "    }\n",
       "</style>\n",
       "<table border=\"1\" class=\"dataframe\">\n",
       "  <thead>\n",
       "    <tr style=\"text-align: right;\">\n",
       "      <th></th>\n",
       "      <th>level5</th>\n",
       "      <th>level1</th>\n",
       "      <th>level2</th>\n",
       "      <th>level3</th>\n",
       "      <th>level4</th>\n",
       "    </tr>\n",
       "  </thead>\n",
       "  <tbody>\n",
       "    <tr>\n",
       "      <th>0</th>\n",
       "      <td>12-66-0-0-0</td>\n",
       "      <td>12</td>\n",
       "      <td>12-66</td>\n",
       "      <td>12-66-0</td>\n",
       "      <td>12-66-0-0</td>\n",
       "    </tr>\n",
       "    <tr>\n",
       "      <th>1</th>\n",
       "      <td>5-0-0-0-0</td>\n",
       "      <td>5</td>\n",
       "      <td>5-0</td>\n",
       "      <td>5-0-0</td>\n",
       "      <td>5-0-0-0</td>\n",
       "    </tr>\n",
       "    <tr>\n",
       "      <th>2</th>\n",
       "      <td>5-659-0-0-0</td>\n",
       "      <td>5</td>\n",
       "      <td>5-659</td>\n",
       "      <td>5-659-0</td>\n",
       "      <td>5-659-0-0</td>\n",
       "    </tr>\n",
       "    <tr>\n",
       "      <th>3</th>\n",
       "      <td>12-25-0-0-0</td>\n",
       "      <td>12</td>\n",
       "      <td>12-25</td>\n",
       "      <td>12-25-0</td>\n",
       "      <td>12-25-0-0</td>\n",
       "    </tr>\n",
       "    <tr>\n",
       "      <th>4</th>\n",
       "      <td>12-25-89-0-0</td>\n",
       "      <td>12</td>\n",
       "      <td>12-25</td>\n",
       "      <td>12-25-89</td>\n",
       "      <td>12-25-89-0</td>\n",
       "    </tr>\n",
       "    <tr>\n",
       "      <th>...</th>\n",
       "      <td>...</td>\n",
       "      <td>...</td>\n",
       "      <td>...</td>\n",
       "      <td>...</td>\n",
       "      <td>...</td>\n",
       "    </tr>\n",
       "    <tr>\n",
       "      <th>154</th>\n",
       "      <td>20-65-189-0-0</td>\n",
       "      <td>20</td>\n",
       "      <td>20-65</td>\n",
       "      <td>20-65-189</td>\n",
       "      <td>20-65-189-0</td>\n",
       "    </tr>\n",
       "    <tr>\n",
       "      <th>155</th>\n",
       "      <td>2-86-173-0-0</td>\n",
       "      <td>2</td>\n",
       "      <td>2-86</td>\n",
       "      <td>2-86-173</td>\n",
       "      <td>2-86-173-0</td>\n",
       "    </tr>\n",
       "    <tr>\n",
       "      <th>156</th>\n",
       "      <td>20-7-0-0-0</td>\n",
       "      <td>20</td>\n",
       "      <td>20-7</td>\n",
       "      <td>20-7-0</td>\n",
       "      <td>20-7-0-0</td>\n",
       "    </tr>\n",
       "    <tr>\n",
       "      <th>157</th>\n",
       "      <td>2-46-808-0-0</td>\n",
       "      <td>2</td>\n",
       "      <td>2-46</td>\n",
       "      <td>2-46-808</td>\n",
       "      <td>2-46-808-0</td>\n",
       "    </tr>\n",
       "    <tr>\n",
       "      <th>158</th>\n",
       "      <td>5-444-0-0-0</td>\n",
       "      <td>5</td>\n",
       "      <td>5-444</td>\n",
       "      <td>5-444-0</td>\n",
       "      <td>5-444-0-0</td>\n",
       "    </tr>\n",
       "  </tbody>\n",
       "</table>\n",
       "<p>159 rows × 5 columns</p>\n",
       "</div>"
      ],
      "text/plain": [
       "            level5 level1 level2     level3       level4\n",
       "0      12-66-0-0-0     12  12-66    12-66-0    12-66-0-0\n",
       "1        5-0-0-0-0      5    5-0      5-0-0      5-0-0-0\n",
       "2      5-659-0-0-0      5  5-659    5-659-0    5-659-0-0\n",
       "3      12-25-0-0-0     12  12-25    12-25-0    12-25-0-0\n",
       "4     12-25-89-0-0     12  12-25   12-25-89   12-25-89-0\n",
       "..             ...    ...    ...        ...          ...\n",
       "154  20-65-189-0-0     20  20-65  20-65-189  20-65-189-0\n",
       "155   2-86-173-0-0      2   2-86   2-86-173   2-86-173-0\n",
       "156     20-7-0-0-0     20   20-7     20-7-0     20-7-0-0\n",
       "157   2-46-808-0-0      2   2-46   2-46-808   2-46-808-0\n",
       "158    5-444-0-0-0      5  5-444    5-444-0    5-444-0-0\n",
       "\n",
       "[159 rows x 5 columns]"
      ]
     },
     "execution_count": 102,
     "metadata": {},
     "output_type": "execute_result"
    }
   ],
   "source": [
    "categories_df"
   ]
  },
  {
   "cell_type": "code",
   "execution_count": 103,
   "id": "1c4326bd-6d17-4857-b29c-9fc868e7561d",
   "metadata": {},
   "outputs": [],
   "source": [
    "def get_labels_name(x,genres_df):\n",
    "    levels = 5\n",
    "    full_name = []\n",
    "    last_level = 0\n",
    "    genre_root = \"\"\n",
    "    for genre in x.split('-'):\n",
    "        genre_df = genres_df[genres_df['genre_id'] == int(genre)]\n",
    "        if genre_df.empty:\n",
    "            genre_name = genre_root \n",
    "        else:\n",
    "            genre_name = genre_df.title.values.tolist()[0]\n",
    "            genre_root = genre_name\n",
    "        \n",
    "        full_name.append(genre_name)\n",
    "    full_name = '>'.join(full_name)\n",
    "        \n",
    "    return full_name\n",
    "    # return genres_df[genres_df['genre_id'] == int(x)].title.values.tolist()[0]"
   ]
  },
  {
   "cell_type": "code",
   "execution_count": 104,
   "id": "5fa16276-5e41-4ee5-821b-dabd1620c76c",
   "metadata": {},
   "outputs": [],
   "source": [
    "categories_df['level5_name'] = categories_df.level5.apply(lambda x: get_labels_name(x,genres_df))"
   ]
  },
  {
   "cell_type": "code",
   "execution_count": 105,
   "id": "2d2099b6-cf3b-47ae-bca2-7d2cc8a1cb8d",
   "metadata": {},
   "outputs": [
    {
     "data": {
      "text/html": [
       "<div>\n",
       "<style scoped>\n",
       "    .dataframe tbody tr th:only-of-type {\n",
       "        vertical-align: middle;\n",
       "    }\n",
       "\n",
       "    .dataframe tbody tr th {\n",
       "        vertical-align: top;\n",
       "    }\n",
       "\n",
       "    .dataframe thead th {\n",
       "        text-align: right;\n",
       "    }\n",
       "</style>\n",
       "<table border=\"1\" class=\"dataframe\">\n",
       "  <thead>\n",
       "    <tr style=\"text-align: right;\">\n",
       "      <th></th>\n",
       "      <th>level5</th>\n",
       "      <th>level1</th>\n",
       "      <th>level2</th>\n",
       "      <th>level3</th>\n",
       "      <th>level4</th>\n",
       "      <th>level5_name</th>\n",
       "    </tr>\n",
       "  </thead>\n",
       "  <tbody>\n",
       "    <tr>\n",
       "      <th>0</th>\n",
       "      <td>12-66-0-0-0</td>\n",
       "      <td>12</td>\n",
       "      <td>12-66</td>\n",
       "      <td>12-66-0</td>\n",
       "      <td>12-66-0-0</td>\n",
       "      <td>Rock&gt;Indie-Rock&gt;Indie-Rock&gt;Indie-Rock&gt;Indie-Rock</td>\n",
       "    </tr>\n",
       "    <tr>\n",
       "      <th>1</th>\n",
       "      <td>5-0-0-0-0</td>\n",
       "      <td>5</td>\n",
       "      <td>5-0</td>\n",
       "      <td>5-0-0</td>\n",
       "      <td>5-0-0-0</td>\n",
       "      <td>Classical&gt;Classical&gt;Classical&gt;Classical&gt;Classical</td>\n",
       "    </tr>\n",
       "    <tr>\n",
       "      <th>2</th>\n",
       "      <td>5-659-0-0-0</td>\n",
       "      <td>5</td>\n",
       "      <td>5-659</td>\n",
       "      <td>5-659-0</td>\n",
       "      <td>5-659-0-0</td>\n",
       "      <td>Classical&gt;Contemporary Classical&gt;Contemporary ...</td>\n",
       "    </tr>\n",
       "    <tr>\n",
       "      <th>3</th>\n",
       "      <td>12-25-0-0-0</td>\n",
       "      <td>12</td>\n",
       "      <td>12-25</td>\n",
       "      <td>12-25-0</td>\n",
       "      <td>12-25-0-0</td>\n",
       "      <td>Rock&gt;Punk&gt;Punk&gt;Punk&gt;Punk</td>\n",
       "    </tr>\n",
       "    <tr>\n",
       "      <th>4</th>\n",
       "      <td>12-25-89-0-0</td>\n",
       "      <td>12</td>\n",
       "      <td>12-25</td>\n",
       "      <td>12-25-89</td>\n",
       "      <td>12-25-89-0</td>\n",
       "      <td>Rock&gt;Punk&gt;Post-Punk&gt;Post-Punk&gt;Post-Punk</td>\n",
       "    </tr>\n",
       "    <tr>\n",
       "      <th>...</th>\n",
       "      <td>...</td>\n",
       "      <td>...</td>\n",
       "      <td>...</td>\n",
       "      <td>...</td>\n",
       "      <td>...</td>\n",
       "      <td>...</td>\n",
       "    </tr>\n",
       "    <tr>\n",
       "      <th>154</th>\n",
       "      <td>20-65-189-0-0</td>\n",
       "      <td>20</td>\n",
       "      <td>20-65</td>\n",
       "      <td>20-65-189</td>\n",
       "      <td>20-65-189-0</td>\n",
       "      <td>Spoken&gt;Radio&gt;Talk Radio&gt;Talk Radio&gt;Talk Radio</td>\n",
       "    </tr>\n",
       "    <tr>\n",
       "      <th>155</th>\n",
       "      <td>2-86-173-0-0</td>\n",
       "      <td>2</td>\n",
       "      <td>2-86</td>\n",
       "      <td>2-86-173</td>\n",
       "      <td>2-86-173-0</td>\n",
       "      <td>International&gt;Indian&gt;N. Indian Traditional&gt;N. ...</td>\n",
       "    </tr>\n",
       "    <tr>\n",
       "      <th>156</th>\n",
       "      <td>20-7-0-0-0</td>\n",
       "      <td>20</td>\n",
       "      <td>20-7</td>\n",
       "      <td>20-7-0</td>\n",
       "      <td>20-7-0-0</td>\n",
       "      <td>Spoken&gt;Comedy&gt;Comedy&gt;Comedy&gt;Comedy</td>\n",
       "    </tr>\n",
       "    <tr>\n",
       "      <th>157</th>\n",
       "      <td>2-46-808-0-0</td>\n",
       "      <td>2</td>\n",
       "      <td>2-46</td>\n",
       "      <td>2-46-808</td>\n",
       "      <td>2-46-808-0</td>\n",
       "      <td>International&gt;Latin America&gt;Salsa&gt;Salsa&gt;Salsa</td>\n",
       "    </tr>\n",
       "    <tr>\n",
       "      <th>158</th>\n",
       "      <td>5-444-0-0-0</td>\n",
       "      <td>5</td>\n",
       "      <td>5-444</td>\n",
       "      <td>5-444-0</td>\n",
       "      <td>5-444-0-0</td>\n",
       "      <td>Classical&gt;Symphony&gt;Symphony&gt;Symphony&gt;Symphony</td>\n",
       "    </tr>\n",
       "  </tbody>\n",
       "</table>\n",
       "<p>159 rows × 6 columns</p>\n",
       "</div>"
      ],
      "text/plain": [
       "            level5 level1 level2     level3       level4   \n",
       "0      12-66-0-0-0     12  12-66    12-66-0    12-66-0-0  \\\n",
       "1        5-0-0-0-0      5    5-0      5-0-0      5-0-0-0   \n",
       "2      5-659-0-0-0      5  5-659    5-659-0    5-659-0-0   \n",
       "3      12-25-0-0-0     12  12-25    12-25-0    12-25-0-0   \n",
       "4     12-25-89-0-0     12  12-25   12-25-89   12-25-89-0   \n",
       "..             ...    ...    ...        ...          ...   \n",
       "154  20-65-189-0-0     20  20-65  20-65-189  20-65-189-0   \n",
       "155   2-86-173-0-0      2   2-86   2-86-173   2-86-173-0   \n",
       "156     20-7-0-0-0     20   20-7     20-7-0     20-7-0-0   \n",
       "157   2-46-808-0-0      2   2-46   2-46-808   2-46-808-0   \n",
       "158    5-444-0-0-0      5  5-444    5-444-0    5-444-0-0   \n",
       "\n",
       "                                           level5_name  \n",
       "0     Rock>Indie-Rock>Indie-Rock>Indie-Rock>Indie-Rock  \n",
       "1    Classical>Classical>Classical>Classical>Classical  \n",
       "2    Classical>Contemporary Classical>Contemporary ...  \n",
       "3                             Rock>Punk>Punk>Punk>Punk  \n",
       "4              Rock>Punk>Post-Punk>Post-Punk>Post-Punk  \n",
       "..                                                 ...  \n",
       "154      Spoken>Radio>Talk Radio>Talk Radio>Talk Radio  \n",
       "155  International>Indian>N. Indian Traditional>N. ...  \n",
       "156                 Spoken>Comedy>Comedy>Comedy>Comedy  \n",
       "157      International>Latin America>Salsa>Salsa>Salsa  \n",
       "158      Classical>Symphony>Symphony>Symphony>Symphony  \n",
       "\n",
       "[159 rows x 6 columns]"
      ]
     },
     "execution_count": 105,
     "metadata": {},
     "output_type": "execute_result"
    }
   ],
   "source": [
    "categories_df"
   ]
  },
  {
   "cell_type": "code",
   "execution_count": 106,
   "id": "c2ced721-6c30-46da-95b5-a28b84b6a2a4",
   "metadata": {},
   "outputs": [],
   "source": [
    "def __create_labels__(categories_df):\n",
    "    data = {\n",
    "        \"label1\": {},\n",
    "        \"label2\": {},\n",
    "        \"label3\": {},\n",
    "        \"label4\": {},\n",
    "        \"label5\": {},\n",
    "        \"label1_inverse\": [],\n",
    "        \"label2_inverse\": [],\n",
    "        \"label3_inverse\": [],\n",
    "        \"label4_inverse\": [],\n",
    "        \"label5_inverse\": [],\n",
    "        \"label1_name\": {},\n",
    "        \"label2_name\": {},\n",
    "        \"label3_name\": {},\n",
    "        \"label4_name\": {},\n",
    "        \"label5_name\": {},\n",
    "    }\n",
    "\n",
    "    idx = 0\n",
    "    \n",
    "    for id_x, cat in enumerate(set(categories_df.level1.values.tolist())):\n",
    "        data['label1'][cat] = idx\n",
    "        data['label1_inverse'].append(cat)\n",
    "        data['label1_count'] = idx + 1\n",
    "        idx+=1\n",
    "\n",
    "    for id_x, cat in enumerate(set(categories_df.level2.values.tolist())):\n",
    "        data['label2'][cat] = idx\n",
    "        data['label2_inverse'].append(cat)\n",
    "        data['label2_count'] = idx + 1\n",
    "        idx+=1\n",
    "        \n",
    "    for id_x, cat in enumerate(set(categories_df.level3.values.tolist())):\n",
    "        data['label3'][cat] = idx\n",
    "        data['label3_inverse'].append(cat)\n",
    "        data['label3_count'] = idx + 1\n",
    "        idx+=1\n",
    "\n",
    "    for id_x, cat in enumerate(set(categories_df.level4.values.tolist())):\n",
    "        data['label4'][cat] = idx\n",
    "        data['label4_inverse'].append(cat)\n",
    "        data['label4_count'] = idx + 1\n",
    "        idx+=1\n",
    "        \n",
    "    for idx, cat in enumerate(set(categories_df.level5.values.tolist())):\n",
    "        data['label5'][cat] = idx\n",
    "        data['label5_inverse'].append(cat)\n",
    "        data['label5_count'] = idx + 1\n",
    "        idx+=1\n",
    "        \n",
    "    for cat5,cat1,cat2,cat3,cat4,name5 in categories_df.values:\n",
    "        \n",
    "        name1 = '>'.join(name5.split('>')[:1])\n",
    "        name2 = '>'.join(name5.split('>')[:2])\n",
    "        name3 = '>'.join(name5.split('>')[:3])\n",
    "        name4 = '>'.join(name5.split('>')[:4])\n",
    "        \n",
    "        \n",
    "        data['label1_name'][cat1] = name1\n",
    "        data['label2_name'][cat2] = name2\n",
    "        data['label3_name'][cat3] = name3\n",
    "        data['label4_name'][cat4] = name4\n",
    "        data['label5_name'][cat5] = name5\n",
    "        \n",
    "    return data"
   ]
  },
  {
   "cell_type": "code",
   "execution_count": 107,
   "id": "e7ccc947-b7ae-464d-a325-d61aa3cf5710",
   "metadata": {},
   "outputs": [],
   "source": [
    "with open(categories_labels_path, 'w+') as f:\n",
    "    f.write(json.dumps(__create_labels__(categories_df)))"
   ]
  },
  {
   "cell_type": "code",
   "execution_count": 108,
   "id": "3778cc5d-7def-4a1d-9f5b-b141bd08356c",
   "metadata": {},
   "outputs": [],
   "source": [
    "labels  = __create_labels__(categories_df)"
   ]
  },
  {
   "cell_type": "code",
   "execution_count": 109,
   "id": "a6b67e97-0813-492e-8323-f8588ca8d120",
   "metadata": {
    "tags": []
   },
   "outputs": [
    {
     "data": {
      "text/plain": [
       "{'12-26-113-0-0': 0,\n",
       " '15-468-0-0-0': 1,\n",
       " '12-26-0-0-0': 2,\n",
       " '12-25-64-0-0': 3,\n",
       " '4-37-0-0-0': 4,\n",
       " '15-337-0-0-0': 5,\n",
       " '2-46-502-0-0': 6,\n",
       " '2-172-0-0-0': 7,\n",
       " '38-514-0-0-0': 8,\n",
       " '2-86-0-0-0': 9,\n",
       " '15-184-0-0-0': 10,\n",
       " '12-440-0-0-0': 11,\n",
       " '15-296-0-0-0': 12,\n",
       " '12-31-167-0-0': 13,\n",
       " '20-7-0-0-0': 14,\n",
       " '9-63-0-0-0': 15,\n",
       " '20-0-0-0-0': 16,\n",
       " '20-378-0-0-0': 17,\n",
       " '12-31-101-0-0': 18,\n",
       " '2-46-0-0-0': 19,\n",
       " '15-0-0-0-0': 20,\n",
       " '2-176-0-0-0': 21,\n",
       " '15-695-0-0-0': 22,\n",
       " '5-322-0-0-0': 23,\n",
       " '5-441-0-0-0': 24,\n",
       " '20-65-0-0-0': 25,\n",
       " '38-0-0-0-0': 26,\n",
       " '38-41-0-0-0': 27,\n",
       " '13-311-0-0-0': 28,\n",
       " '2-86-173-0-0': 29,\n",
       " '38-125-0-0-0': 30,\n",
       " '3-0-0-0-0': 31,\n",
       " '4-97-0-0-0': 32,\n",
       " '12-36-0-0-0': 33,\n",
       " '1235-18-538-0-0': 34,\n",
       " '14-11-0-0-0': 35,\n",
       " '20-465-0-0-0': 36,\n",
       " '38-247-0-0-0': 37,\n",
       " '15-181-401-0-0': 38,\n",
       " '1235-0-0-0-0': 39,\n",
       " '20-138-0-0-0': 40,\n",
       " '12-25-0-0-0': 41,\n",
       " '38-456-0-0-0': 42,\n",
       " '2-118-0-0-0': 43,\n",
       " '17-103-0-0-0': 44,\n",
       " '12-314-0-0-0': 45,\n",
       " '17-180-0-0-0': 46,\n",
       " '14-0-0-0-0': 47,\n",
       " '5-443-0-0-0': 48,\n",
       " '21-693-0-0-0': 49,\n",
       " '13-170-0-0-0': 50,\n",
       " '13-810-0-0-0': 51,\n",
       " '5-444-0-0-0': 52,\n",
       " '2-46-1060-0-0': 53,\n",
       " '2-0-0-0-0': 54,\n",
       " '2-92-0-0-0': 55,\n",
       " '15-185-0-0-0': 56,\n",
       " '20-65-189-0-0': 57,\n",
       " '2-130-524-0-0': 58,\n",
       " '10-76-0-0-0': 59,\n",
       " '21-83-0-0-0': 60,\n",
       " '20-65-166-0-0': 61,\n",
       " '9-137-0-0-0': 62,\n",
       " '21-0-0-0-0': 63,\n",
       " '2-102-1032-0-0': 64,\n",
       " '12-25-89-0-0': 65,\n",
       " '12-0-0-0-0': 66,\n",
       " '2-79-602-0-0': 67,\n",
       " '10-0-0-0-0': 68,\n",
       " '12-66-0-0-0': 69,\n",
       " '2-46-808-0-0': 70,\n",
       " '12-88-0-0-0': 71,\n",
       " '17-33-0-0-0': 72,\n",
       " '3-567-0-0-0': 73,\n",
       " '2-232-0-0-0': 74,\n",
       " '9-169-0-0-0': 75,\n",
       " '15-182-400-0-0': 76,\n",
       " '12-25-111-0-0': 77,\n",
       " '12-98-0-0-0': 78,\n",
       " '1235-267-0-0-0': 79,\n",
       " '2-504-0-0-0': 80,\n",
       " '9-651-493-0-0': 81,\n",
       " '38-47-0-0-0': 82,\n",
       " '9-651-0-0-0': 83,\n",
       " '1235-107-0-0-0': 84,\n",
       " '1235-18-0-0-0': 85,\n",
       " '21-542-0-0-0': 86,\n",
       " '12-70-0-0-0': 87,\n",
       " '5-187-0-0-0': 88,\n",
       " '2-130-619-0-0': 89,\n",
       " '38-32-0-0-0': 90,\n",
       " '10-362-0-0-0': 91,\n",
       " '20-374-0-0-0': 92,\n",
       " '2-130-1156-0-0': 93,\n",
       " '21-811-0-0-0': 94,\n",
       " '12-85-0-0-0': 95,\n",
       " '4-179-0-0-0': 96,\n",
       " '2-130-741-0-0': 97,\n",
       " '38-186-0-0-0': 98,\n",
       " '15-297-240-0-0': 99,\n",
       " '15-236-0-0-0': 100,\n",
       " '20-188-0-0-0': 101,\n",
       " '2-92-214-0-0': 102,\n",
       " '2-171-0-0-0': 103,\n",
       " '2-86-174-0-0': 104,\n",
       " '12-31-0-0-0': 105,\n",
       " '2-77-0-0-0': 106,\n",
       " '38-30-0-0-0': 107,\n",
       " '38-6-16-763-0': 108,\n",
       " '12-25-71-0-0': 109,\n",
       " '20-428-0-0-0': 110,\n",
       " '15-286-0-0-0': 111,\n",
       " '12-27-0-0-0': 112,\n",
       " '4-0-0-0-0': 113,\n",
       " '38-22-0-0-0': 114,\n",
       " '5-0-0-0-0': 115,\n",
       " '21-580-0-0-0': 116,\n",
       " '8-0-0-0-0': 117,\n",
       " '38-1-0-0-0': 118,\n",
       " '12-45-53-0-0': 119,\n",
       " '15-495-0-0-0': 120,\n",
       " '38-6-0-0-0': 121,\n",
       " '38-224-0-0-0': 122,\n",
       " '4-906-0-0-0': 123,\n",
       " '20-65-43-0-0': 124,\n",
       " '2-79-0-0-0': 125,\n",
       " '12-25-109-361-0': 126,\n",
       " '15-181-0-0-0': 127,\n",
       " '2-102-0-0-0': 128,\n",
       " '9-0-0-0-0': 129,\n",
       " '12-359-0-0-0': 130,\n",
       " '12-85-404-0-0': 131,\n",
       " '2-130-0-0-0': 132,\n",
       " '12-45-53-90-0': 133,\n",
       " '17-94-0-0-0': 134,\n",
       " '15-297-0-0-0': 135,\n",
       " '2-92-81-0-0': 136,\n",
       " '12-45-0-0-0': 137,\n",
       " '15-182-0-0-0': 138,\n",
       " '4-74-0-0-0': 139,\n",
       " '38-6-360-0-0': 140,\n",
       " '17-49-0-0-0': 141,\n",
       " '12-31-439-0-0': 142,\n",
       " '5-659-0-0-0': 143,\n",
       " '21-539-0-0-0': 144,\n",
       " '14-19-0-0-0': 145,\n",
       " '38-250-0-0-0': 146,\n",
       " '13-0-0-0-0': 147,\n",
       " '5-442-0-0-0': 148,\n",
       " '12-25-109-0-0': 149,\n",
       " '12-58-0-0-0': 150,\n",
       " '21-100-0-0-0': 151,\n",
       " '15-468-491-0-0': 152,\n",
       " '15-183-0-0-0': 153,\n",
       " '2-117-0-0-0': 154,\n",
       " '17-0-0-0-0': 155,\n",
       " '15-42-0-0-0': 156,\n",
       " '38-6-16-763-1193': 157,\n",
       " '2-177-0-0-0': 158}"
      ]
     },
     "execution_count": 109,
     "metadata": {},
     "output_type": "execute_result"
    }
   ],
   "source": [
    "labels['label5']"
   ]
  },
  {
   "cell_type": "code",
   "execution_count": 110,
   "id": "676dd2f5-aa10-4a54-8542-fb86b770de22",
   "metadata": {},
   "outputs": [
    {
     "data": {
      "text/plain": [
       "16"
      ]
     },
     "execution_count": 110,
     "metadata": {},
     "output_type": "execute_result"
    }
   ],
   "source": [
    "labels['label1_count']"
   ]
  },
  {
   "cell_type": "code",
   "execution_count": 111,
   "id": "34af3ff3-11d0-415f-8736-519e5911ec59",
   "metadata": {},
   "outputs": [],
   "source": [
    "\n",
    "\n",
    "def parse_tfr_element(element):\n",
    "    #use the same structure as above; it's kinda an outline of the structure we now want to create\n",
    "    data = {\n",
    "        'emb' : tf.io.FixedLenFeature([], tf.string),\n",
    "        'track_id' : tf.io.FixedLenFeature([], tf.int64),\n",
    "    }\n",
    "    \n",
    "    content = tf.io.parse_single_example(element, data)\n",
    "\n",
    "    track_id = content['track_id']\n",
    "    emb = content['emb']\n",
    "    \n",
    "\n",
    "    #get our 'feature'-- our image -- and reshape it appropriately\n",
    "    feature = tf.io.parse_tensor(emb, out_type=tf.float32)\n",
    "    return (feature, track_id)\n",
    "\n",
    "\n",
    "def get_dataset(filename):\n",
    "    #create the dataset\n",
    "    dataset = tf.data.TFRecordDataset(filename)\n",
    "\n",
    "    #pass every single feature through our mapping function\n",
    "    dataset = dataset.map(\n",
    "        parse_tfr_element\n",
    "    )\n",
    "\n",
    "    return dataset\n",
    "\n",
    "\n"
   ]
  },
  {
   "cell_type": "code",
   "execution_count": 112,
   "id": "4580514b-0be9-4de5-a8d3-f987ba73134c",
   "metadata": {},
   "outputs": [],
   "source": [
    "import numpy as np\n",
    "\n",
    "\n",
    "def load_dataset(path,dataset=args.embeddings):\n",
    "    tfrecords_path = os.path.join(path,'tfrecords',dataset)\n",
    "    \n",
    "    \n",
    "    tfrecords_path = [os.path.join(tfrecords_path,path) for path in os.listdir(tfrecords_path)]\n",
    "    dataset = get_dataset(tfrecords_path)\n",
    "    \n",
    "    df = pd.DataFrame(\n",
    "        dataset.as_numpy_iterator(),\n",
    "        columns=['feature', 'track_id']\n",
    "    )\n",
    "        \n",
    "    df.dropna(inplace=True)\n",
    "    \n",
    "    \n",
    "    try:\n",
    "        df.feature = df.feature.apply(lambda x: x[0] if x.shape[0] != 0 else None)\n",
    "    except:\n",
    "        print(x)\n",
    "    \n",
    "    return df\n",
    "    \n"
   ]
  },
  {
   "cell_type": "code",
   "execution_count": 113,
   "id": "b5c8d2a5-ea5e-495a-a800-0d8cdede266f",
   "metadata": {},
   "outputs": [
    {
     "data": {
      "text/plain": [
       "labels_5\n",
       "38-0-0-0-0        6508\n",
       "1235-0-0-0-0      6043\n",
       "10-76-0-0-0       4126\n",
       "1235-107-0-0-0    3988\n",
       "17-103-0-0-0      3482\n",
       "                  ... \n",
       "9-651-493-0-0        4\n",
       "20-65-189-0-0        4\n",
       "2-86-173-0-0         4\n",
       "20-7-0-0-0           2\n",
       "5-444-0-0-0          2\n",
       "Name: count, Length: 159, dtype: int64"
      ]
     },
     "execution_count": 113,
     "metadata": {},
     "output_type": "execute_result"
    }
   ],
   "source": [
    "tracks_df['labels_5'].value_counts()"
   ]
  },
  {
   "cell_type": "code",
   "execution_count": 114,
   "id": "ecb34052-60dd-40db-9ba4-0a92c17f9eb0",
   "metadata": {},
   "outputs": [],
   "source": [
    "def __split_data__(group, percentage=0.1):\n",
    "    if len(group) == 1:\n",
    "        return group, group\n",
    "\n",
    "    shuffled = shuffle(group.values)\n",
    "    finish_test = int(ceil(len(group) * percentage))\n",
    "\n",
    "    first = pd.DataFrame(shuffled[:finish_test], columns=group.columns)\n",
    "    second = pd.DataFrame(shuffled[finish_test:], columns=group.columns)\n",
    "\n",
    "    return first, second"
   ]
  },
  {
   "cell_type": "code",
   "execution_count": 115,
   "id": "f6b687c1-660a-4e8c-a76a-6b2a85ae4d37",
   "metadata": {},
   "outputs": [],
   "source": [
    "def select_dataset(tracks_df):\n",
    "    \n",
    "#     dataset_testset_path = os.path.join(tfrecord_path,'test')\n",
    "#     dataset_validationset_path = os.path.join(tfrecord_path,'val')\n",
    "#     dataset_trainset_path = os.path.join(tfrecord_path,'train')\n",
    "    \n",
    "    df = load_dataset(args.dataset_path,dataset=args.embeddings)\n",
    "    \n",
    "    df.dropna(inplace=True)\n",
    "    \n",
    "    tracks_df = tracks_df.merge(df, on='track_id')\n",
    "    \n",
    "    tracks_df.loc[:,'labels_1'] = tracks_df.labels_1.astype(str).progress_apply(lambda x: labels['label1'][x])\n",
    "    tracks_df.loc[:,'labels_2'] = tracks_df.labels_2.astype(str).progress_apply(lambda x: labels['label2'][x])\n",
    "    tracks_df.loc[:,'labels_3'] = tracks_df.labels_3.astype(str).progress_apply(lambda x: labels['label3'][x])\n",
    "    tracks_df.loc[:,'labels_4'] = tracks_df.labels_4.astype(str).progress_apply(lambda x: labels['label4'][x])\n",
    "    tracks_df.loc[:,'labels_5'] = tracks_df.labels_5.astype(str).progress_apply(lambda x: labels['label5'][x])\n",
    "    \n",
    "    tests = []\n",
    "    trains = []\n",
    "    validations = []\n",
    "    groups = tracks_df.groupby(\"labels_5\")\n",
    "    \n",
    "    \n",
    "    count = 0\n",
    "    items_count = 0\n",
    "    total = len(groups)\n",
    "    total_items = len(tracks_df)\n",
    "    oversampling_size = 30  # int(group_sizes.mean() + group_sizes.std() * 2)\n",
    "    print(f\"oversampling_size: {oversampling_size}\")\n",
    "\n",
    "    for code, group in groups:\n",
    "        test, train_to_split = __split_data__(group, 0.01)  # 10%\n",
    "        train_to_split = train_to_split\n",
    "        validation, train = __split_data__(train_to_split, 0.01)  # %1\n",
    "\n",
    "        tests.append(test)\n",
    "        validations.append(validation)\n",
    "\n",
    "        ## this increase the numner of samples when classes has low quantity\n",
    "        count_train = len(train)\n",
    "        if count_train < oversampling_size:\n",
    "            train = train.sample(oversampling_size, replace=True)\n",
    "\n",
    "        trains.append(train)\n",
    "\n",
    "        count += 1\n",
    "        items_count += count_train\n",
    "        \n",
    "        \n",
    "    df_test = pd.concat(tests, sort=False).sample(frac=1).reset_index(drop=True)\n",
    "    # .to_csv(dataset_testset_path, index=False,quoting=csv.QUOTE_ALL)\n",
    "    df_val = pd.concat(validations, sort=False).sample(frac=1).reset_index(drop=True)\n",
    "    df_train = pd.concat(trains, sort=False).sample(frac=1).reset_index(drop=True)\n",
    "\n",
    "    return df_train,df_test,df_val"
   ]
  },
  {
   "cell_type": "code",
   "execution_count": 116,
   "id": "2935be5c-052f-4477-863a-acf7a160b9ea",
   "metadata": {
    "tags": []
   },
   "outputs": [
    {
     "name": "stderr",
     "output_type": "stream",
     "text": [
      "2023-06-26 14:39:27.056356: I tensorflow/core/common_runtime/executor.cc:1197] [/device:CPU:0] (DEBUG INFO) Executor start aborting (this does not indicate an error and you can ignore this message): INVALID_ARGUMENT: You must feed a value for placeholder tensor 'Placeholder/_0' with dtype string and shape [11]\n",
      "\t [[{{node Placeholder/_0}}]]\n"
     ]
    },
    {
     "data": {
      "application/vnd.jupyter.widget-view+json": {
       "model_id": "c80129b619744743ae69242f87edf15a",
       "version_major": 2,
       "version_minor": 0
      },
      "text/plain": [
       "  0%|          | 0/104169 [00:00<?, ?it/s]"
      ]
     },
     "metadata": {},
     "output_type": "display_data"
    },
    {
     "data": {
      "application/vnd.jupyter.widget-view+json": {
       "model_id": "644a8fccecd44e759137e4b49a4a522c",
       "version_major": 2,
       "version_minor": 0
      },
      "text/plain": [
       "  0%|          | 0/104169 [00:00<?, ?it/s]"
      ]
     },
     "metadata": {},
     "output_type": "display_data"
    },
    {
     "data": {
      "application/vnd.jupyter.widget-view+json": {
       "model_id": "bae4538697da4f9ba713770ef7d33330",
       "version_major": 2,
       "version_minor": 0
      },
      "text/plain": [
       "  0%|          | 0/104169 [00:00<?, ?it/s]"
      ]
     },
     "metadata": {},
     "output_type": "display_data"
    },
    {
     "data": {
      "application/vnd.jupyter.widget-view+json": {
       "model_id": "9502ba1672ad4c86ba0c8004adf716dd",
       "version_major": 2,
       "version_minor": 0
      },
      "text/plain": [
       "  0%|          | 0/104169 [00:00<?, ?it/s]"
      ]
     },
     "metadata": {},
     "output_type": "display_data"
    },
    {
     "data": {
      "application/vnd.jupyter.widget-view+json": {
       "model_id": "fc80d659e09d45f6830d70a5d9c14d3c",
       "version_major": 2,
       "version_minor": 0
      },
      "text/plain": [
       "  0%|          | 0/104169 [00:00<?, ?it/s]"
      ]
     },
     "metadata": {},
     "output_type": "display_data"
    },
    {
     "name": "stdout",
     "output_type": "stream",
     "text": [
      "oversampling_size: 30\n"
     ]
    }
   ],
   "source": [
    "df_train,df_test,df_val = select_dataset(tracks_df)"
   ]
  },
  {
   "cell_type": "code",
   "execution_count": 117,
   "id": "6ca3a658-7d5e-4bf6-a5e6-40dfe0b4813b",
   "metadata": {},
   "outputs": [
    {
     "data": {
      "text/html": [
       "<div>\n",
       "<style scoped>\n",
       "    .dataframe tbody tr th:only-of-type {\n",
       "        vertical-align: middle;\n",
       "    }\n",
       "\n",
       "    .dataframe tbody tr th {\n",
       "        vertical-align: top;\n",
       "    }\n",
       "\n",
       "    .dataframe thead th {\n",
       "        text-align: right;\n",
       "    }\n",
       "</style>\n",
       "<table border=\"1\" class=\"dataframe\">\n",
       "  <thead>\n",
       "    <tr style=\"text-align: right;\">\n",
       "      <th></th>\n",
       "      <th>track_id</th>\n",
       "      <th>full_genre_id</th>\n",
       "      <th>labels_1</th>\n",
       "      <th>labels_2</th>\n",
       "      <th>labels_3</th>\n",
       "      <th>labels_4</th>\n",
       "      <th>labels_5</th>\n",
       "      <th>feature</th>\n",
       "    </tr>\n",
       "  </thead>\n",
       "  <tbody>\n",
       "    <tr>\n",
       "      <th>0</th>\n",
       "      <td>98203</td>\n",
       "      <td>[15, 296]</td>\n",
       "      <td>8</td>\n",
       "      <td>40</td>\n",
       "      <td>220</td>\n",
       "      <td>347</td>\n",
       "      <td>12</td>\n",
       "      <td>[-0.023319623, -0.00013373296, 0.19044419, -0....</td>\n",
       "    </tr>\n",
       "    <tr>\n",
       "      <th>1</th>\n",
       "      <td>106253</td>\n",
       "      <td>[1235]</td>\n",
       "      <td>7</td>\n",
       "      <td>103</td>\n",
       "      <td>276</td>\n",
       "      <td>334</td>\n",
       "      <td>39</td>\n",
       "      <td>[-0.060997088, 0.05078725, 0.07981362, -0.0090...</td>\n",
       "    </tr>\n",
       "    <tr>\n",
       "      <th>2</th>\n",
       "      <td>31634</td>\n",
       "      <td>[15]</td>\n",
       "      <td>8</td>\n",
       "      <td>47</td>\n",
       "      <td>190</td>\n",
       "      <td>431</td>\n",
       "      <td>20</td>\n",
       "      <td>[-0.009909769, 0.017467469, 0.05052768, 0.0799...</td>\n",
       "    </tr>\n",
       "    <tr>\n",
       "      <th>3</th>\n",
       "      <td>123894</td>\n",
       "      <td>[17, 103]</td>\n",
       "      <td>3</td>\n",
       "      <td>91</td>\n",
       "      <td>189</td>\n",
       "      <td>337</td>\n",
       "      <td>44</td>\n",
       "      <td>[0.00019638737, 0.0022907455, 0.01411589, -0.0...</td>\n",
       "    </tr>\n",
       "    <tr>\n",
       "      <th>4</th>\n",
       "      <td>154601</td>\n",
       "      <td>[1235]</td>\n",
       "      <td>7</td>\n",
       "      <td>103</td>\n",
       "      <td>276</td>\n",
       "      <td>334</td>\n",
       "      <td>39</td>\n",
       "      <td>[-0.03563307, -0.02632151, -0.021588087, -0.05...</td>\n",
       "    </tr>\n",
       "    <tr>\n",
       "      <th>...</th>\n",
       "      <td>...</td>\n",
       "      <td>...</td>\n",
       "      <td>...</td>\n",
       "      <td>...</td>\n",
       "      <td>...</td>\n",
       "      <td>...</td>\n",
       "      <td>...</td>\n",
       "      <td>...</td>\n",
       "    </tr>\n",
       "    <tr>\n",
       "      <th>102226</th>\n",
       "      <td>118740</td>\n",
       "      <td>[17]</td>\n",
       "      <td>3</td>\n",
       "      <td>45</td>\n",
       "      <td>173</td>\n",
       "      <td>430</td>\n",
       "      <td>155</td>\n",
       "      <td>[0.006317248, -0.031279784, -0.06236591, -0.03...</td>\n",
       "    </tr>\n",
       "    <tr>\n",
       "      <th>102227</th>\n",
       "      <td>61896</td>\n",
       "      <td>[8]</td>\n",
       "      <td>0</td>\n",
       "      <td>130</td>\n",
       "      <td>229</td>\n",
       "      <td>405</td>\n",
       "      <td>117</td>\n",
       "      <td>[0.026928047, -0.0065342286, 0.00997134, 0.010...</td>\n",
       "    </tr>\n",
       "    <tr>\n",
       "      <th>102228</th>\n",
       "      <td>109610</td>\n",
       "      <td>[1235, 107]</td>\n",
       "      <td>7</td>\n",
       "      <td>97</td>\n",
       "      <td>202</td>\n",
       "      <td>366</td>\n",
       "      <td>84</td>\n",
       "      <td>[0.13790783, -0.0047743022, 0.026542058, 0.143...</td>\n",
       "    </tr>\n",
       "    <tr>\n",
       "      <th>102229</th>\n",
       "      <td>128257</td>\n",
       "      <td>[15]</td>\n",
       "      <td>8</td>\n",
       "      <td>47</td>\n",
       "      <td>190</td>\n",
       "      <td>431</td>\n",
       "      <td>20</td>\n",
       "      <td>[0.017631581, 0.011740317, 0.04893403, -0.0273...</td>\n",
       "    </tr>\n",
       "    <tr>\n",
       "      <th>102230</th>\n",
       "      <td>109726</td>\n",
       "      <td>[21]</td>\n",
       "      <td>6</td>\n",
       "      <td>96</td>\n",
       "      <td>158</td>\n",
       "      <td>388</td>\n",
       "      <td>63</td>\n",
       "      <td>[0.073815055, 0.047423046, -0.024702668, -0.04...</td>\n",
       "    </tr>\n",
       "  </tbody>\n",
       "</table>\n",
       "<p>102231 rows × 8 columns</p>\n",
       "</div>"
      ],
      "text/plain": [
       "       track_id full_genre_id labels_1 labels_2 labels_3 labels_4 labels_5   \n",
       "0         98203     [15, 296]        8       40      220      347       12  \\\n",
       "1        106253        [1235]        7      103      276      334       39   \n",
       "2         31634          [15]        8       47      190      431       20   \n",
       "3        123894     [17, 103]        3       91      189      337       44   \n",
       "4        154601        [1235]        7      103      276      334       39   \n",
       "...         ...           ...      ...      ...      ...      ...      ...   \n",
       "102226   118740          [17]        3       45      173      430      155   \n",
       "102227    61896           [8]        0      130      229      405      117   \n",
       "102228   109610   [1235, 107]        7       97      202      366       84   \n",
       "102229   128257          [15]        8       47      190      431       20   \n",
       "102230   109726          [21]        6       96      158      388       63   \n",
       "\n",
       "                                                  feature  \n",
       "0       [-0.023319623, -0.00013373296, 0.19044419, -0....  \n",
       "1       [-0.060997088, 0.05078725, 0.07981362, -0.0090...  \n",
       "2       [-0.009909769, 0.017467469, 0.05052768, 0.0799...  \n",
       "3       [0.00019638737, 0.0022907455, 0.01411589, -0.0...  \n",
       "4       [-0.03563307, -0.02632151, -0.021588087, -0.05...  \n",
       "...                                                   ...  \n",
       "102226  [0.006317248, -0.031279784, -0.06236591, -0.03...  \n",
       "102227  [0.026928047, -0.0065342286, 0.00997134, 0.010...  \n",
       "102228  [0.13790783, -0.0047743022, 0.026542058, 0.143...  \n",
       "102229  [0.017631581, 0.011740317, 0.04893403, -0.0273...  \n",
       "102230  [0.073815055, 0.047423046, -0.024702668, -0.04...  \n",
       "\n",
       "[102231 rows x 8 columns]"
      ]
     },
     "execution_count": 117,
     "metadata": {},
     "output_type": "execute_result"
    }
   ],
   "source": [
    "df_train"
   ]
  },
  {
   "cell_type": "code",
   "execution_count": 118,
   "id": "a882ada1-9d1f-4fc1-9d4c-c2c7a0279557",
   "metadata": {},
   "outputs": [],
   "source": [
    "def _bytes_feature(value):\n",
    "  ### Returns a bytes_list from a string / byte.\"\"\"\n",
    "    if isinstance(value, type(tf.constant(0))): # if value ist tensor\n",
    "        value = value.numpy() # get value of tensor\n",
    "    return tf.train.Feature(bytes_list=tf.train.BytesList(value=value))\n",
    "\n",
    "def _float_feature(value):\n",
    "  ### Returns a floast_list from a float / double.\"\"\"\n",
    "    return tf.train.Feature(float_list=tf.train.FloatList(value=value))\n",
    "\n",
    "def _int64List_feature(value):\n",
    "    return tf.train.Feature(int64_list=tf.train.Int64List(value=value))\n",
    "\n",
    "def _int64_feature(value):\n",
    "  ###  Returns an int64_list from a bool / enum / int / uint.\"\"\"\n",
    "    return tf.train.Feature(int64_list=tf.train.Int64List(value=[value]))\n",
    "\n",
    "def serialize_array(array):\n",
    "    array = tf.io.serialize_tensor(array)\n",
    "    return array"
   ]
  },
  {
   "cell_type": "code",
   "execution_count": 119,
   "id": "847ca375-63be-4f96-8bbe-9346d827c3bd",
   "metadata": {},
   "outputs": [],
   "source": [
    "def parse_single_music(data,labels):\n",
    "    track_id, _, cat1, cat2, cat3, cat4, cat5, music = data\n",
    "    \n",
    "    \n",
    "    label1 = np.array([cat1, labels['label1_count']], np.int64)\n",
    "    label2 = np.array([cat2, labels['label2_count']], np.int64)\n",
    "    label3 = np.array([cat3, labels['label3_count']], np.int64)\n",
    "    label4 = np.array([cat4, labels['label4_count']], np.int64)\n",
    "    label5 = np.array([cat5, labels['label5_count']], np.int64)\n",
    "    \n",
    "    \n",
    "    \n",
    "    #define the dictionary -- the structure -- of our single example\n",
    "    data = {\n",
    "        'label1': _int64List_feature(label1),\n",
    "        'label2': _int64List_feature(label2),\n",
    "        'label3': _int64List_feature(label3),\n",
    "        'label4': _int64List_feature(label4),\n",
    "        'label5': _int64List_feature(label5),\n",
    "        # 'features' : _bytes_feature(serialize_array(music)),\n",
    "        'features' : _float_feature(music),\n",
    "        'track_id' : _int64_feature(track_id)\n",
    "    }\n",
    "    #create an Example, wrapping the single features\n",
    "    out = tf.train.Example(features=tf.train.Features(feature=data))\n",
    "\n",
    "    return out"
   ]
  },
  {
   "cell_type": "code",
   "execution_count": 120,
   "id": "75a8419a-fe56-4e6b-818b-7198f9370311",
   "metadata": {},
   "outputs": [],
   "source": [
    "def generate_tf_record(df,tf_path='val'):\n",
    "    create_dir(tf_path)\n",
    "    \n",
    "    \n",
    "    batch_size = 1024 * 50 # 50k records from each file batch\n",
    "    count = 0\n",
    "    total = math.ceil(len(df) / batch_size)\n",
    "\n",
    "    for i in range(0, len(df), batch_size):\n",
    "        batch_df = df[i:i+batch_size]\n",
    "        \n",
    "        tfrecords = [parse_single_music(data, labels) for data in batch_df.values]\n",
    "        \n",
    "        path = f\"{tf_path}/{str(count).zfill(10)}.tfrecord\"\n",
    "        \n",
    "        #with tf.python_io.TFRecordWriter(path) as writer:\n",
    "        with tf.io.TFRecordWriter(path) as writer:\n",
    "            for tfrecord in tfrecords:\n",
    "                writer.write(tfrecord.SerializeToString())\n",
    "\n",
    "        print(f\"{count} {len(tfrecords)} {path}\")\n",
    "        count += 1\n",
    "        print(f\"{count}/{total} batchs / {count * batch_size} processed\")\n",
    "\n",
    "    print(f\"{count}/{total} batchs / {len(df)} processed\")\n",
    "    \n",
    "    return tf_path\n",
    "\n",
    "    "
   ]
  },
  {
   "cell_type": "code",
   "execution_count": 121,
   "id": "5bc708b4-0cdd-46b6-94b6-66998aaa2c2f",
   "metadata": {},
   "outputs": [
    {
     "data": {
      "text/plain": [
       "'/mnt/disks/data/fma/trains/hierarchical_all/tfrecords'"
      ]
     },
     "execution_count": 121,
     "metadata": {},
     "output_type": "execute_result"
    }
   ],
   "source": [
    "tfrecord_path"
   ]
  },
  {
   "cell_type": "code",
   "execution_count": 122,
   "id": "0149ac30-6fd3-44f6-8a98-e69dd2740419",
   "metadata": {},
   "outputs": [
    {
     "name": "stdout",
     "output_type": "stream",
     "text": [
      "0 1114 /mnt/disks/data/fma/trains/hierarchical_all/tfrecords/val/0000000000.tfrecord\n",
      "1/1 batchs / 51200 processed\n",
      "1/1 batchs / 1114 processed\n"
     ]
    }
   ],
   "source": [
    "val_path = generate_tf_record(df_val,tf_path=os.path.join(tfrecord_path,'val'))"
   ]
  },
  {
   "cell_type": "code",
   "execution_count": 123,
   "id": "770b69f6-8059-4fd7-a514-203302e1bd23",
   "metadata": {},
   "outputs": [
    {
     "name": "stdout",
     "output_type": "stream",
     "text": [
      "0 1125 /mnt/disks/data/fma/trains/hierarchical_all/tfrecords/test/0000000000.tfrecord\n",
      "1/1 batchs / 51200 processed\n",
      "1/1 batchs / 1125 processed\n"
     ]
    }
   ],
   "source": [
    "test_path = generate_tf_record(df_test,tf_path=os.path.join(tfrecord_path,'test'))"
   ]
  },
  {
   "cell_type": "code",
   "execution_count": 124,
   "id": "e9ef95bd-ead5-43ac-83e4-16cc24222a22",
   "metadata": {},
   "outputs": [
    {
     "name": "stdout",
     "output_type": "stream",
     "text": [
      "0 51200 /mnt/disks/data/fma/trains/hierarchical_all/tfrecords/train/0000000000.tfrecord\n",
      "1/2 batchs / 51200 processed\n",
      "1 51031 /mnt/disks/data/fma/trains/hierarchical_all/tfrecords/train/0000000001.tfrecord\n",
      "2/2 batchs / 102400 processed\n",
      "2/2 batchs / 102231 processed\n"
     ]
    }
   ],
   "source": [
    "train_path = generate_tf_record(df_train,tf_path=os.path.join(tfrecord_path,'train'))"
   ]
  },
  {
   "cell_type": "code",
   "execution_count": 125,
   "id": "cd97175f-4b2b-49e0-bb74-84d12a2999a7",
   "metadata": {},
   "outputs": [],
   "source": [
    "def create_metadata(metadata_path):\n",
    "\n",
    "    with open(metadata_path, 'w+') as f:\n",
    "        f.write(json.dumps({\n",
    "            'sequence_size': args.sequence_size,\n",
    "            'n_levels': labels_size,\n",
    "            'labels_size': [labels['label1_count'],labels['label2_count'],\n",
    "                           labels['label3_count'],labels['label4_count'],\n",
    "                           labels['label5_count']],\n",
    "            'val_path': val_path,\n",
    "            'train_path': train_path,\n",
    "            'test_path': test_path,\n",
    "            'trainset_count': len(df_train),\n",
    "            'validationset_count': len(df_val),\n",
    "            'testset_count': len(df_test)\n",
    "        }))"
   ]
  },
  {
   "cell_type": "code",
   "execution_count": 126,
   "id": "39a433f0-af90-4c10-afee-138b9f5c43a6",
   "metadata": {},
   "outputs": [],
   "source": [
    "create_metadata(metadata_path)"
   ]
  },
  {
   "cell_type": "code",
   "execution_count": 127,
   "id": "555117a3-5616-4cc8-9673-6413113f4d46",
   "metadata": {},
   "outputs": [
    {
     "data": {
      "text/plain": [
       "'/mnt/disks/data/fma/trains/hierarchical_all'"
      ]
     },
     "execution_count": 127,
     "metadata": {},
     "output_type": "execute_result"
    }
   ],
   "source": [
    "job_path"
   ]
  },
  {
   "cell_type": "code",
   "execution_count": 128,
   "id": "af5df190-01df-4f13-a475-35132a6712f4",
   "metadata": {},
   "outputs": [],
   "source": [
    "tracks_df.to_csv(os.path.join(job_path,\"tracks.csv\"),index=False)"
   ]
  },
  {
   "cell_type": "code",
   "execution_count": 129,
   "id": "339b8ce0-792b-4c94-b70e-3c031aa7b124",
   "metadata": {},
   "outputs": [],
   "source": [
    "with open(categories_labels_path, 'r') as f:\n",
    "    labels = json.loads(f.read())"
   ]
  },
  {
   "cell_type": "code",
   "execution_count": 130,
   "id": "32421389-d7bb-42aa-99ae-85b777698fc1",
   "metadata": {},
   "outputs": [],
   "source": [
    "levels_size = {'level1_size': labels['label1_count']-1,\n",
    "        'level2_size': labels['label2_count']-1,\n",
    "        'level3_size': labels['label3_count']-1,\n",
    "        'level4_size': labels['label4_count']-1,\n",
    "        'level5_size': labels['label5_count']-1}"
   ]
  },
  {
   "cell_type": "code",
   "execution_count": 131,
   "id": "b50d015a-86cd-40c1-86bf-f034d262d54c",
   "metadata": {},
   "outputs": [
    {
     "data": {
      "text/plain": [
       "15"
      ]
     },
     "execution_count": 131,
     "metadata": {},
     "output_type": "execute_result"
    }
   ],
   "source": [
    "levels_size['level1_size']"
   ]
  }
 ],
 "metadata": {
  "kernelspec": {
   "display_name": "Python 3 (ipykernel)",
   "language": "python",
   "name": "python3"
  },
  "language_info": {
   "codemirror_mode": {
    "name": "ipython",
    "version": 3
   },
   "file_extension": ".py",
   "mimetype": "text/x-python",
   "name": "python",
   "nbconvert_exporter": "python",
   "pygments_lexer": "ipython3",
   "version": "3.10.11"
  }
 },
 "nbformat": 4,
 "nbformat_minor": 5
}
