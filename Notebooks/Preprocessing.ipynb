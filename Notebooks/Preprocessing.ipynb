{
 "cells": [
  {
   "cell_type": "code",
   "execution_count": 1,
   "id": "4843caad-aa4a-420d-81f8-dcc1189318c6",
   "metadata": {
    "tags": []
   },
   "outputs": [
    {
     "name": "stderr",
     "output_type": "stream",
     "text": [
      "2023-05-22 17:05:56.171128: I tensorflow/core/platform/cpu_feature_guard.cc:182] This TensorFlow binary is optimized to use available CPU instructions in performance-critical operations.\n",
      "To enable the following instructions: AVX2 AVX512F FMA, in other operations, rebuild TensorFlow with the appropriate compiler flags.\n",
      "2023-05-22 17:05:57.285668: W tensorflow/compiler/tf2tensorrt/utils/py_utils.cc:38] TF-TRT Warning: Could not find TensorRT\n"
     ]
    }
   ],
   "source": [
    "import pandas as pd\n",
    "import numpy as np\n",
    "import tensorflow as tf\n",
    "import json\n",
    "import ast\n",
    "import os\n",
    "import csv\n",
    "import math\n",
    "from sklearn.utils import shuffle\n",
    "from math import ceil\n",
    "from sklearn.model_selection import train_test_split\n",
    "from tqdm.notebook import tqdm"
   ]
  },
  {
   "cell_type": "code",
   "execution_count": 2,
   "id": "47f36844-bc15-46f4-8994-6744042b62cd",
   "metadata": {},
   "outputs": [],
   "source": [
    "tqdm.pandas()"
   ]
  },
  {
   "cell_type": "code",
   "execution_count": 3,
   "id": "194b058a-a5c5-4d87-817d-aeb9e833cc2b",
   "metadata": {},
   "outputs": [],
   "source": [
    "\n",
    "args = pd.Series({\n",
    "    \"root_dir\":\"/mnt/disks/data/\",\n",
    "    \"dataset_path\":\"/mnt/disks/data/fma/fma_large\",\n",
    "    \"embeddings\":\"music_style\",\n",
    "    \"sequence_size\": 1280,\n",
    "    \"train_id\": \"hierarchical_all\",\n",
    "    'sample_size': 1\n",
    "})\n"
   ]
  },
  {
   "cell_type": "code",
   "execution_count": 4,
   "id": "87f3fe25-bd80-4976-ba77-ab30589a9cd6",
   "metadata": {},
   "outputs": [],
   "source": [
    "\n",
    "base_path = \"/mnt/disks/data/fma/trains\"\n",
    "\n",
    "\n",
    "job_path = os.path.join(base_path,args.train_id)\n",
    "\n",
    "\n",
    "tfrecord_path = os.path.join(job_path,\"tfrecords\")\n",
    "\n",
    "# In[16]:\n",
    "\n",
    "base_path = os.path.join(args.root_dir,\"fma\")\n",
    "\n",
    "# In[17]:\n",
    "\n",
    "models_path = os.path.join(args.root_dir,\"models\")\n",
    "\n",
    "\n",
    "metadata_path_fma = os.path.join(base_path,\"fma_metadata\")\n",
    "\n",
    "# In[18]:\n",
    "\n",
    "metadata_path = os.path.join(job_path,\"metadata.json\")\n",
    "\n",
    "\n",
    "categories_labels_path = os.path.join(job_path,\"labels.json\")\n"
   ]
  },
  {
   "cell_type": "code",
   "execution_count": 5,
   "id": "ffea2009-fdc3-425e-bd6b-a67696ab24da",
   "metadata": {},
   "outputs": [],
   "source": [
    "\n",
    "\n",
    "def __load_json__(path):\n",
    "    with open(path, 'r') as f:\n",
    "        tmp = json.loads(f.read())\n",
    "\n",
    "    return tmp\n",
    "\n",
    "\n"
   ]
  },
  {
   "cell_type": "code",
   "execution_count": 6,
   "id": "b413d7a2",
   "metadata": {},
   "outputs": [],
   "source": [
    "\n",
    "def create_dir(path):\n",
    "    # checking if the directory demo_folder2 \n",
    "    # exist or not.\n",
    "    if not os.path.isdir(path):\n",
    "\n",
    "        # if the demo_folder2 directory is \n",
    "        # not present then create it.\n",
    "        os.makedirs(path)\n",
    "    return True\n",
    "\n"
   ]
  },
  {
   "cell_type": "code",
   "execution_count": 7,
   "id": "dccd7294-d081-4124-993b-26f5b3a8ee56",
   "metadata": {},
   "outputs": [
    {
     "ename": "FileNotFoundError",
     "evalue": "[Errno 2] No such file or directory: '/mnt/disks/data/fma/trains/hierarchical_all'",
     "output_type": "error",
     "traceback": [
      "\u001b[0;31m---------------------------------------------------------------------------\u001b[0m",
      "\u001b[0;31mFileNotFoundError\u001b[0m                         Traceback (most recent call last)",
      "Cell \u001b[0;32mIn[7], line 2\u001b[0m\n\u001b[1;32m      1\u001b[0m \u001b[38;5;28;01mimport\u001b[39;00m \u001b[38;5;21;01mshutil\u001b[39;00m\n\u001b[0;32m----> 2\u001b[0m \u001b[43mshutil\u001b[49m\u001b[38;5;241;43m.\u001b[39;49m\u001b[43mrmtree\u001b[49m\u001b[43m(\u001b[49m\u001b[43mjob_path\u001b[49m\u001b[43m)\u001b[49m\n",
      "File \u001b[0;32m~/anaconda3/envs/fma/lib/python3.11/shutil.py:722\u001b[0m, in \u001b[0;36mrmtree\u001b[0;34m(path, ignore_errors, onerror, dir_fd)\u001b[0m\n\u001b[1;32m    720\u001b[0m     orig_st \u001b[38;5;241m=\u001b[39m os\u001b[38;5;241m.\u001b[39mlstat(path, dir_fd\u001b[38;5;241m=\u001b[39mdir_fd)\n\u001b[1;32m    721\u001b[0m \u001b[38;5;28;01mexcept\u001b[39;00m \u001b[38;5;167;01mException\u001b[39;00m:\n\u001b[0;32m--> 722\u001b[0m     \u001b[43monerror\u001b[49m\u001b[43m(\u001b[49m\u001b[43mos\u001b[49m\u001b[38;5;241;43m.\u001b[39;49m\u001b[43mlstat\u001b[49m\u001b[43m,\u001b[49m\u001b[43m \u001b[49m\u001b[43mpath\u001b[49m\u001b[43m,\u001b[49m\u001b[43m \u001b[49m\u001b[43msys\u001b[49m\u001b[38;5;241;43m.\u001b[39;49m\u001b[43mexc_info\u001b[49m\u001b[43m(\u001b[49m\u001b[43m)\u001b[49m\u001b[43m)\u001b[49m\n\u001b[1;32m    723\u001b[0m     \u001b[38;5;28;01mreturn\u001b[39;00m\n\u001b[1;32m    724\u001b[0m \u001b[38;5;28;01mtry\u001b[39;00m:\n",
      "File \u001b[0;32m~/anaconda3/envs/fma/lib/python3.11/shutil.py:720\u001b[0m, in \u001b[0;36mrmtree\u001b[0;34m(path, ignore_errors, onerror, dir_fd)\u001b[0m\n\u001b[1;32m    717\u001b[0m \u001b[38;5;66;03m# Note: To guard against symlink races, we use the standard\u001b[39;00m\n\u001b[1;32m    718\u001b[0m \u001b[38;5;66;03m# lstat()/open()/fstat() trick.\u001b[39;00m\n\u001b[1;32m    719\u001b[0m \u001b[38;5;28;01mtry\u001b[39;00m:\n\u001b[0;32m--> 720\u001b[0m     orig_st \u001b[38;5;241m=\u001b[39m \u001b[43mos\u001b[49m\u001b[38;5;241;43m.\u001b[39;49m\u001b[43mlstat\u001b[49m\u001b[43m(\u001b[49m\u001b[43mpath\u001b[49m\u001b[43m,\u001b[49m\u001b[43m \u001b[49m\u001b[43mdir_fd\u001b[49m\u001b[38;5;241;43m=\u001b[39;49m\u001b[43mdir_fd\u001b[49m\u001b[43m)\u001b[49m\n\u001b[1;32m    721\u001b[0m \u001b[38;5;28;01mexcept\u001b[39;00m \u001b[38;5;167;01mException\u001b[39;00m:\n\u001b[1;32m    722\u001b[0m     onerror(os\u001b[38;5;241m.\u001b[39mlstat, path, sys\u001b[38;5;241m.\u001b[39mexc_info())\n",
      "\u001b[0;31mFileNotFoundError\u001b[0m: [Errno 2] No such file or directory: '/mnt/disks/data/fma/trains/hierarchical_all'"
     ]
    }
   ],
   "source": [
    "import shutil\n",
    "shutil.rmtree(job_path)"
   ]
  },
  {
   "cell_type": "code",
   "execution_count": 10,
   "id": "be2f0fcc",
   "metadata": {},
   "outputs": [
    {
     "data": {
      "text/plain": [
       "True"
      ]
     },
     "execution_count": 10,
     "metadata": {},
     "output_type": "execute_result"
    }
   ],
   "source": [
    "create_dir(job_path)"
   ]
  },
  {
   "cell_type": "markdown",
   "id": "6ab3d0b4-fc7f-4c73-b0cc-9d89729bae84",
   "metadata": {
    "tags": []
   },
   "source": [
    "## Load genres file. Contains relationships beetwen genres"
   ]
  },
  {
   "cell_type": "code",
   "execution_count": 11,
   "id": "7596e665-526e-400b-93ad-432cb7eb0d79",
   "metadata": {},
   "outputs": [],
   "source": [
    "genres_df = pd.read_csv(os.path.join(metadata_path_fma,'genres.csv'))\n"
   ]
  },
  {
   "cell_type": "code",
   "execution_count": 12,
   "id": "582b4335-bf69-4c9a-873e-ffd8253ede25",
   "metadata": {},
   "outputs": [
    {
     "data": {
      "text/html": [
       "<div>\n",
       "<style scoped>\n",
       "    .dataframe tbody tr th:only-of-type {\n",
       "        vertical-align: middle;\n",
       "    }\n",
       "\n",
       "    .dataframe tbody tr th {\n",
       "        vertical-align: top;\n",
       "    }\n",
       "\n",
       "    .dataframe thead th {\n",
       "        text-align: right;\n",
       "    }\n",
       "</style>\n",
       "<table border=\"1\" class=\"dataframe\">\n",
       "  <thead>\n",
       "    <tr style=\"text-align: right;\">\n",
       "      <th></th>\n",
       "      <th>genre_id</th>\n",
       "      <th>#tracks</th>\n",
       "      <th>parent</th>\n",
       "      <th>title</th>\n",
       "      <th>top_level</th>\n",
       "    </tr>\n",
       "  </thead>\n",
       "  <tbody>\n",
       "    <tr>\n",
       "      <th>0</th>\n",
       "      <td>1</td>\n",
       "      <td>8693</td>\n",
       "      <td>38</td>\n",
       "      <td>Avant-Garde</td>\n",
       "      <td>38</td>\n",
       "    </tr>\n",
       "    <tr>\n",
       "      <th>1</th>\n",
       "      <td>2</td>\n",
       "      <td>5271</td>\n",
       "      <td>0</td>\n",
       "      <td>International</td>\n",
       "      <td>2</td>\n",
       "    </tr>\n",
       "    <tr>\n",
       "      <th>2</th>\n",
       "      <td>3</td>\n",
       "      <td>1752</td>\n",
       "      <td>0</td>\n",
       "      <td>Blues</td>\n",
       "      <td>3</td>\n",
       "    </tr>\n",
       "    <tr>\n",
       "      <th>3</th>\n",
       "      <td>4</td>\n",
       "      <td>4126</td>\n",
       "      <td>0</td>\n",
       "      <td>Jazz</td>\n",
       "      <td>4</td>\n",
       "    </tr>\n",
       "    <tr>\n",
       "      <th>4</th>\n",
       "      <td>5</td>\n",
       "      <td>4106</td>\n",
       "      <td>0</td>\n",
       "      <td>Classical</td>\n",
       "      <td>5</td>\n",
       "    </tr>\n",
       "    <tr>\n",
       "      <th>...</th>\n",
       "      <td>...</td>\n",
       "      <td>...</td>\n",
       "      <td>...</td>\n",
       "      <td>...</td>\n",
       "      <td>...</td>\n",
       "    </tr>\n",
       "    <tr>\n",
       "      <th>158</th>\n",
       "      <td>1032</td>\n",
       "      <td>60</td>\n",
       "      <td>102</td>\n",
       "      <td>Turkish</td>\n",
       "      <td>2</td>\n",
       "    </tr>\n",
       "    <tr>\n",
       "      <th>159</th>\n",
       "      <td>1060</td>\n",
       "      <td>30</td>\n",
       "      <td>46</td>\n",
       "      <td>Tango</td>\n",
       "      <td>2</td>\n",
       "    </tr>\n",
       "    <tr>\n",
       "      <th>160</th>\n",
       "      <td>1156</td>\n",
       "      <td>26</td>\n",
       "      <td>130</td>\n",
       "      <td>Fado</td>\n",
       "      <td>2</td>\n",
       "    </tr>\n",
       "    <tr>\n",
       "      <th>161</th>\n",
       "      <td>1193</td>\n",
       "      <td>72</td>\n",
       "      <td>763</td>\n",
       "      <td>Christmas</td>\n",
       "      <td>38</td>\n",
       "    </tr>\n",
       "    <tr>\n",
       "      <th>162</th>\n",
       "      <td>1235</td>\n",
       "      <td>14938</td>\n",
       "      <td>0</td>\n",
       "      <td>Instrumental</td>\n",
       "      <td>1235</td>\n",
       "    </tr>\n",
       "  </tbody>\n",
       "</table>\n",
       "<p>163 rows × 5 columns</p>\n",
       "</div>"
      ],
      "text/plain": [
       "     genre_id  #tracks  parent          title  top_level\n",
       "0           1     8693      38    Avant-Garde         38\n",
       "1           2     5271       0  International          2\n",
       "2           3     1752       0          Blues          3\n",
       "3           4     4126       0           Jazz          4\n",
       "4           5     4106       0      Classical          5\n",
       "..        ...      ...     ...            ...        ...\n",
       "158      1032       60     102        Turkish          2\n",
       "159      1060       30      46          Tango          2\n",
       "160      1156       26     130           Fado          2\n",
       "161      1193       72     763      Christmas         38\n",
       "162      1235    14938       0   Instrumental       1235\n",
       "\n",
       "[163 rows x 5 columns]"
      ]
     },
     "execution_count": 12,
     "metadata": {},
     "output_type": "execute_result"
    }
   ],
   "source": [
    "genres_df"
   ]
  },
  {
   "cell_type": "code",
   "execution_count": 13,
   "id": "d80be793-93db-4610-ae66-5f14bf99bd2b",
   "metadata": {},
   "outputs": [
    {
     "data": {
      "text/html": [
       "<div>\n",
       "<style scoped>\n",
       "    .dataframe tbody tr th:only-of-type {\n",
       "        vertical-align: middle;\n",
       "    }\n",
       "\n",
       "    .dataframe tbody tr th {\n",
       "        vertical-align: top;\n",
       "    }\n",
       "\n",
       "    .dataframe thead th {\n",
       "        text-align: right;\n",
       "    }\n",
       "</style>\n",
       "<table border=\"1\" class=\"dataframe\">\n",
       "  <thead>\n",
       "    <tr style=\"text-align: right;\">\n",
       "      <th></th>\n",
       "      <th>genre_id</th>\n",
       "      <th>#tracks</th>\n",
       "      <th>parent</th>\n",
       "      <th>title</th>\n",
       "      <th>top_level</th>\n",
       "    </tr>\n",
       "  </thead>\n",
       "  <tbody>\n",
       "    <tr>\n",
       "      <th>136</th>\n",
       "      <td>495</td>\n",
       "      <td>2061</td>\n",
       "      <td>15</td>\n",
       "      <td>Downtempo</td>\n",
       "      <td>15</td>\n",
       "    </tr>\n",
       "  </tbody>\n",
       "</table>\n",
       "</div>"
      ],
      "text/plain": [
       "     genre_id  #tracks  parent      title  top_level\n",
       "136       495     2061      15  Downtempo         15"
      ]
     },
     "execution_count": 13,
     "metadata": {},
     "output_type": "execute_result"
    }
   ],
   "source": [
    "genres_df[genres_df['genre_id'] == 495]"
   ]
  },
  {
   "cell_type": "code",
   "execution_count": 14,
   "id": "28762aaf-32a4-41a5-af9c-cee3eca712ad",
   "metadata": {},
   "outputs": [],
   "source": [
    "# Cria um dicionário que associa o ID de cada música aos IDs de seus gêneros musicais\n",
    "tracks_df = pd.read_csv(os.path.join(metadata_path_fma,'tracks_valid.csv'))"
   ]
  },
  {
   "cell_type": "code",
   "execution_count": 15,
   "id": "13ea402f-660b-4b95-8f91-563c01971578",
   "metadata": {},
   "outputs": [],
   "source": [
    "tracks_df = tracks_df.sample(frac=args.sample_size)"
   ]
  },
  {
   "cell_type": "code",
   "execution_count": 16,
   "id": "552289c1-6b0d-48a9-8cd9-a185c12f6c9a",
   "metadata": {},
   "outputs": [
    {
     "data": {
      "text/html": [
       "<div>\n",
       "<style scoped>\n",
       "    .dataframe tbody tr th:only-of-type {\n",
       "        vertical-align: middle;\n",
       "    }\n",
       "\n",
       "    .dataframe tbody tr th {\n",
       "        vertical-align: top;\n",
       "    }\n",
       "\n",
       "    .dataframe thead th {\n",
       "        text-align: right;\n",
       "    }\n",
       "</style>\n",
       "<table border=\"1\" class=\"dataframe\">\n",
       "  <thead>\n",
       "    <tr style=\"text-align: right;\">\n",
       "      <th></th>\n",
       "      <th>track_id</th>\n",
       "      <th>track_title</th>\n",
       "      <th>valid_genre</th>\n",
       "    </tr>\n",
       "  </thead>\n",
       "  <tbody>\n",
       "    <tr>\n",
       "      <th>214</th>\n",
       "      <td>422</td>\n",
       "      <td>Track3</td>\n",
       "      <td>['1', '18']</td>\n",
       "    </tr>\n",
       "    <tr>\n",
       "      <th>90801</th>\n",
       "      <td>136579</td>\n",
       "      <td>World Without...</td>\n",
       "      <td>['38', '41', '107']</td>\n",
       "    </tr>\n",
       "    <tr>\n",
       "      <th>45707</th>\n",
       "      <td>68650</td>\n",
       "      <td>Alpha Bombe Sabotage</td>\n",
       "      <td>['15', '236', '542']</td>\n",
       "    </tr>\n",
       "    <tr>\n",
       "      <th>22066</th>\n",
       "      <td>35231</td>\n",
       "      <td>Padded Walls (reEdit)</td>\n",
       "      <td>['15', '107', '236']</td>\n",
       "    </tr>\n",
       "    <tr>\n",
       "      <th>61934</th>\n",
       "      <td>95108</td>\n",
       "      <td>Bleak Problems</td>\n",
       "      <td>['1', '30', '38', '41', '247']</td>\n",
       "    </tr>\n",
       "    <tr>\n",
       "      <th>19346</th>\n",
       "      <td>31363</td>\n",
       "      <td>Praia da Solidao</td>\n",
       "      <td>['2', '10', '12', '17', '171']</td>\n",
       "    </tr>\n",
       "    <tr>\n",
       "      <th>60341</th>\n",
       "      <td>92174</td>\n",
       "      <td>Gemini (Instrumental Version)</td>\n",
       "      <td>['10', '17', '103']</td>\n",
       "    </tr>\n",
       "    <tr>\n",
       "      <th>31912</th>\n",
       "      <td>49376</td>\n",
       "      <td>Huhnenblut</td>\n",
       "      <td>['38', '125']</td>\n",
       "    </tr>\n",
       "    <tr>\n",
       "      <th>62442</th>\n",
       "      <td>95764</td>\n",
       "      <td>Canadian Toilet Rabbit</td>\n",
       "      <td>['38', '125']</td>\n",
       "    </tr>\n",
       "    <tr>\n",
       "      <th>70728</th>\n",
       "      <td>110016</td>\n",
       "      <td>opus_36</td>\n",
       "      <td>['1', '5', '38']</td>\n",
       "    </tr>\n",
       "    <tr>\n",
       "      <th>99585</th>\n",
       "      <td>148298</td>\n",
       "      <td>Moon Morning</td>\n",
       "      <td>['38', '41', '456', '514']</td>\n",
       "    </tr>\n",
       "    <tr>\n",
       "      <th>69298</th>\n",
       "      <td>108055</td>\n",
       "      <td>Not the same</td>\n",
       "      <td>['250']</td>\n",
       "    </tr>\n",
       "    <tr>\n",
       "      <th>8399</th>\n",
       "      <td>14385</td>\n",
       "      <td>Honeybee</td>\n",
       "      <td>['2', '103']</td>\n",
       "    </tr>\n",
       "    <tr>\n",
       "      <th>81366</th>\n",
       "      <td>123899</td>\n",
       "      <td>Rebel Angels</td>\n",
       "      <td>['103']</td>\n",
       "    </tr>\n",
       "    <tr>\n",
       "      <th>43314</th>\n",
       "      <td>65376</td>\n",
       "      <td>live at Etnofest</td>\n",
       "      <td>['2', '17', '118']</td>\n",
       "    </tr>\n",
       "    <tr>\n",
       "      <th>7124</th>\n",
       "      <td>12674</td>\n",
       "      <td>Sweet Georgia Brown</td>\n",
       "      <td>['179']</td>\n",
       "    </tr>\n",
       "    <tr>\n",
       "      <th>89875</th>\n",
       "      <td>134980</td>\n",
       "      <td>Growing Up (pt.1)</td>\n",
       "      <td>['17']</td>\n",
       "    </tr>\n",
       "    <tr>\n",
       "      <th>24085</th>\n",
       "      <td>38175</td>\n",
       "      <td>Bye Bye Altai</td>\n",
       "      <td>['538']</td>\n",
       "    </tr>\n",
       "    <tr>\n",
       "      <th>83034</th>\n",
       "      <td>126161</td>\n",
       "      <td>You and Me</td>\n",
       "      <td>['17', '66']</td>\n",
       "    </tr>\n",
       "    <tr>\n",
       "      <th>81916</th>\n",
       "      <td>124569</td>\n",
       "      <td>The 5th Season</td>\n",
       "      <td>['38', '232', '236']</td>\n",
       "    </tr>\n",
       "  </tbody>\n",
       "</table>\n",
       "</div>"
      ],
      "text/plain": [
       "       track_id                    track_title                     valid_genre\n",
       "214         422                         Track3                     ['1', '18']\n",
       "90801    136579               World Without...             ['38', '41', '107']\n",
       "45707     68650           Alpha Bombe Sabotage            ['15', '236', '542']\n",
       "22066     35231          Padded Walls (reEdit)            ['15', '107', '236']\n",
       "61934     95108                 Bleak Problems  ['1', '30', '38', '41', '247']\n",
       "19346     31363               Praia da Solidao  ['2', '10', '12', '17', '171']\n",
       "60341     92174  Gemini (Instrumental Version)             ['10', '17', '103']\n",
       "31912     49376                     Huhnenblut                   ['38', '125']\n",
       "62442     95764         Canadian Toilet Rabbit                   ['38', '125']\n",
       "70728    110016                        opus_36                ['1', '5', '38']\n",
       "99585    148298                   Moon Morning      ['38', '41', '456', '514']\n",
       "69298    108055                   Not the same                         ['250']\n",
       "8399      14385                       Honeybee                    ['2', '103']\n",
       "81366    123899                   Rebel Angels                         ['103']\n",
       "43314     65376               live at Etnofest              ['2', '17', '118']\n",
       "7124      12674            Sweet Georgia Brown                         ['179']\n",
       "89875    134980              Growing Up (pt.1)                          ['17']\n",
       "24085     38175                  Bye Bye Altai                         ['538']\n",
       "83034    126161                     You and Me                    ['17', '66']\n",
       "81916    124569                 The 5th Season            ['38', '232', '236']"
      ]
     },
     "execution_count": 16,
     "metadata": {},
     "output_type": "execute_result"
    }
   ],
   "source": [
    "tracks_df.sample(20)"
   ]
  },
  {
   "cell_type": "code",
   "execution_count": 17,
   "id": "fa6c0adc-32c6-4a14-a9aa-f0af12eacbf1",
   "metadata": {},
   "outputs": [
    {
     "data": {
      "text/plain": [
       "array([\"['42']\", \"['15', '1235']\", \"['25', '109']\", ..., \"['21', '811']\",\n",
       "       \"['58', '79']\", \"['15']\"], dtype=object)"
      ]
     },
     "execution_count": 17,
     "metadata": {},
     "output_type": "execute_result"
    }
   ],
   "source": [
    "tracks_df.valid_genre.values"
   ]
  },
  {
   "cell_type": "code",
   "execution_count": 18,
   "id": "31ad48bd-2868-46ed-81e6-02b6b26e2b1c",
   "metadata": {},
   "outputs": [
    {
     "data": {
      "text/plain": [
       "41970                                Part VIII\n",
       "94210                           Live the World\n",
       "81075                             Zasiaty Hnev\n",
       "65646                              Lonely Road\n",
       "23890        untitled / Ephraim (live on WFMU)\n",
       "                         ...                  \n",
       "43573            Variatio 7 a 1 ovvero 2 Clav.\n",
       "28791                                 Untitled\n",
       "36583                            Weed Man Skit\n",
       "15599                             Süper FM Dub\n",
       "54786    Zandzeepsodemineraalwatersteenstralen\n",
       "Name: track_title, Length: 104186, dtype: object"
      ]
     },
     "execution_count": 18,
     "metadata": {},
     "output_type": "execute_result"
    }
   ],
   "source": [
    "tracks_df.track_title"
   ]
  },
  {
   "cell_type": "code",
   "execution_count": 19,
   "id": "220d2eb1-95ba-41d8-9499-bd6278ef473a",
   "metadata": {},
   "outputs": [],
   "source": [
    "## Get complete genre structure\n",
    "def get_all_structure(estrutura,df_genres):\n",
    "    ## Get structure from df_genres\n",
    "    def get_all_structure_from_df(estrutura,df_genres,structure=[]):\n",
    "        if estrutura == 0:\n",
    "            return structure\n",
    "        else:\n",
    "            structure.append(int(estrutura))\n",
    "            get_all_structure_from_df(df_genres[df_genres[\"genre_id\"]==int(estrutura)].parent.values[0],df_genres,structure)\n",
    "            return structure\n",
    "    \n",
    "    return get_all_structure_from_df(estrutura,df_genres,structure=[])\n",
    "    "
   ]
  },
  {
   "cell_type": "code",
   "execution_count": 20,
   "id": "2e89c7be-57eb-46bf-8506-b966ab685b50",
   "metadata": {},
   "outputs": [],
   "source": [
    "# tracks_df['valid_genre'] = tracks_df.track_genres.apply(lambda x: x.strip('][').split(', ') if x != '[]' else None)\n",
    "tracks_df['valid_genre'] = tracks_df.valid_genre.apply(lambda x: ast.literal_eval(x))"
   ]
  },
  {
   "cell_type": "code",
   "execution_count": 21,
   "id": "b50f6d87-8a38-4b6a-92b7-c10a559de965",
   "metadata": {},
   "outputs": [],
   "source": [
    "tracks_df['last_genre_id'] = tracks_df.valid_genre.apply(lambda x:x[-1] if x != None else None)"
   ]
  },
  {
   "cell_type": "code",
   "execution_count": 22,
   "id": "5c1ccfaf-ad6a-4f6c-87d6-b6e8a74a8d0c",
   "metadata": {},
   "outputs": [
    {
     "data": {
      "text/html": [
       "<div>\n",
       "<style scoped>\n",
       "    .dataframe tbody tr th:only-of-type {\n",
       "        vertical-align: middle;\n",
       "    }\n",
       "\n",
       "    .dataframe tbody tr th {\n",
       "        vertical-align: top;\n",
       "    }\n",
       "\n",
       "    .dataframe thead th {\n",
       "        text-align: right;\n",
       "    }\n",
       "</style>\n",
       "<table border=\"1\" class=\"dataframe\">\n",
       "  <thead>\n",
       "    <tr style=\"text-align: right;\">\n",
       "      <th></th>\n",
       "      <th>track_id</th>\n",
       "      <th>track_title</th>\n",
       "      <th>valid_genre</th>\n",
       "      <th>last_genre_id</th>\n",
       "    </tr>\n",
       "  </thead>\n",
       "  <tbody>\n",
       "    <tr>\n",
       "      <th>56845</th>\n",
       "      <td>85712</td>\n",
       "      <td>Ovipositor</td>\n",
       "      <td>[15, 38, 42]</td>\n",
       "      <td>42</td>\n",
       "    </tr>\n",
       "    <tr>\n",
       "      <th>101612</th>\n",
       "      <td>151200</td>\n",
       "      <td>Thracian Racenitsa</td>\n",
       "      <td>[2, 17, 118]</td>\n",
       "      <td>118</td>\n",
       "    </tr>\n",
       "    <tr>\n",
       "      <th>79814</th>\n",
       "      <td>121810</td>\n",
       "      <td>Working-class playwright</td>\n",
       "      <td>[25]</td>\n",
       "      <td>25</td>\n",
       "    </tr>\n",
       "    <tr>\n",
       "      <th>58883</th>\n",
       "      <td>89791</td>\n",
       "      <td>Tampering of the Strains</td>\n",
       "      <td>[74, 250]</td>\n",
       "      <td>250</td>\n",
       "    </tr>\n",
       "    <tr>\n",
       "      <th>52535</th>\n",
       "      <td>80040</td>\n",
       "      <td>Radio Monks AM</td>\n",
       "      <td>[1, 32, 250]</td>\n",
       "      <td>250</td>\n",
       "    </tr>\n",
       "    <tr>\n",
       "      <th>94723</th>\n",
       "      <td>141878</td>\n",
       "      <td>II</td>\n",
       "      <td>[167]</td>\n",
       "      <td>167</td>\n",
       "    </tr>\n",
       "    <tr>\n",
       "      <th>65192</th>\n",
       "      <td>99963</td>\n",
       "      <td>Perversion Waves</td>\n",
       "      <td>[1, 30, 38, 41, 247]</td>\n",
       "      <td>247</td>\n",
       "    </tr>\n",
       "    <tr>\n",
       "      <th>89776</th>\n",
       "      <td>134839</td>\n",
       "      <td>Amichevole Vergogna</td>\n",
       "      <td>[15, 41, 42]</td>\n",
       "      <td>42</td>\n",
       "    </tr>\n",
       "    <tr>\n",
       "      <th>67664</th>\n",
       "      <td>105915</td>\n",
       "      <td>Deadman's Rag</td>\n",
       "      <td>[17, 103]</td>\n",
       "      <td>103</td>\n",
       "    </tr>\n",
       "    <tr>\n",
       "      <th>67613</th>\n",
       "      <td>105863</td>\n",
       "      <td>brush</td>\n",
       "      <td>[42, 107]</td>\n",
       "      <td>107</td>\n",
       "    </tr>\n",
       "    <tr>\n",
       "      <th>80356</th>\n",
       "      <td>122532</td>\n",
       "      <td>Agape Calypso Rage</td>\n",
       "      <td>[15, 38, 514]</td>\n",
       "      <td>514</td>\n",
       "    </tr>\n",
       "    <tr>\n",
       "      <th>41670</th>\n",
       "      <td>63228</td>\n",
       "      <td>Enough</td>\n",
       "      <td>[3, 12]</td>\n",
       "      <td>12</td>\n",
       "    </tr>\n",
       "    <tr>\n",
       "      <th>101980</th>\n",
       "      <td>151870</td>\n",
       "      <td>勇者</td>\n",
       "      <td>[15, 21, 183]</td>\n",
       "      <td>183</td>\n",
       "    </tr>\n",
       "    <tr>\n",
       "      <th>37280</th>\n",
       "      <td>57394</td>\n",
       "      <td>Belief</td>\n",
       "      <td>[359]</td>\n",
       "      <td>359</td>\n",
       "    </tr>\n",
       "    <tr>\n",
       "      <th>51255</th>\n",
       "      <td>76510</td>\n",
       "      <td>Brenes Said</td>\n",
       "      <td>[15, 286]</td>\n",
       "      <td>286</td>\n",
       "    </tr>\n",
       "    <tr>\n",
       "      <th>68896</th>\n",
       "      <td>107568</td>\n",
       "      <td>My Own Heart Let Me More Have Pity On</td>\n",
       "      <td>[17]</td>\n",
       "      <td>17</td>\n",
       "    </tr>\n",
       "    <tr>\n",
       "      <th>54736</th>\n",
       "      <td>83005</td>\n",
       "      <td>Этоже я</td>\n",
       "      <td>[10, 15, 66]</td>\n",
       "      <td>66</td>\n",
       "    </tr>\n",
       "    <tr>\n",
       "      <th>26764</th>\n",
       "      <td>41680</td>\n",
       "      <td>Intro</td>\n",
       "      <td>[15, 32]</td>\n",
       "      <td>32</td>\n",
       "    </tr>\n",
       "    <tr>\n",
       "      <th>36949</th>\n",
       "      <td>56929</td>\n",
       "      <td>Hit and Run</td>\n",
       "      <td>[25, 71]</td>\n",
       "      <td>71</td>\n",
       "    </tr>\n",
       "    <tr>\n",
       "      <th>4641</th>\n",
       "      <td>9195</td>\n",
       "      <td>Pan de muerto</td>\n",
       "      <td>[25]</td>\n",
       "      <td>25</td>\n",
       "    </tr>\n",
       "  </tbody>\n",
       "</table>\n",
       "</div>"
      ],
      "text/plain": [
       "        track_id                            track_title           valid_genre   \n",
       "56845      85712                             Ovipositor          [15, 38, 42]  \\\n",
       "101612    151200                     Thracian Racenitsa          [2, 17, 118]   \n",
       "79814     121810               Working-class playwright                  [25]   \n",
       "58883      89791               Tampering of the Strains             [74, 250]   \n",
       "52535      80040                         Radio Monks AM          [1, 32, 250]   \n",
       "94723     141878                                     II                 [167]   \n",
       "65192      99963                       Perversion Waves  [1, 30, 38, 41, 247]   \n",
       "89776     134839                    Amichevole Vergogna          [15, 41, 42]   \n",
       "67664     105915                          Deadman's Rag             [17, 103]   \n",
       "67613     105863                                  brush             [42, 107]   \n",
       "80356     122532                     Agape Calypso Rage         [15, 38, 514]   \n",
       "41670      63228                                 Enough               [3, 12]   \n",
       "101980    151870                                     勇者         [15, 21, 183]   \n",
       "37280      57394                                 Belief                 [359]   \n",
       "51255      76510                            Brenes Said             [15, 286]   \n",
       "68896     107568  My Own Heart Let Me More Have Pity On                  [17]   \n",
       "54736      83005                                Этоже я          [10, 15, 66]   \n",
       "26764      41680                                  Intro              [15, 32]   \n",
       "36949      56929                            Hit and Run              [25, 71]   \n",
       "4641        9195                          Pan de muerto                  [25]   \n",
       "\n",
       "       last_genre_id  \n",
       "56845             42  \n",
       "101612           118  \n",
       "79814             25  \n",
       "58883            250  \n",
       "52535            250  \n",
       "94723            167  \n",
       "65192            247  \n",
       "89776             42  \n",
       "67664            103  \n",
       "67613            107  \n",
       "80356            514  \n",
       "41670             12  \n",
       "101980           183  \n",
       "37280            359  \n",
       "51255            286  \n",
       "68896             17  \n",
       "54736             66  \n",
       "26764             32  \n",
       "36949             71  \n",
       "4641              25  "
      ]
     },
     "execution_count": 22,
     "metadata": {},
     "output_type": "execute_result"
    }
   ],
   "source": [
    "tracks_df.sample(20)"
   ]
  },
  {
   "cell_type": "code",
   "execution_count": 23,
   "id": "f5de1c7f-c2b6-487a-83bc-974ddb99008a",
   "metadata": {},
   "outputs": [],
   "source": [
    "tracks_df.dropna(inplace=True)"
   ]
  },
  {
   "cell_type": "code",
   "execution_count": 24,
   "id": "fcb10f3d-d6fa-4e7b-a4f0-d8536a1a2898",
   "metadata": {},
   "outputs": [
    {
     "data": {
      "text/html": [
       "<div>\n",
       "<style scoped>\n",
       "    .dataframe tbody tr th:only-of-type {\n",
       "        vertical-align: middle;\n",
       "    }\n",
       "\n",
       "    .dataframe tbody tr th {\n",
       "        vertical-align: top;\n",
       "    }\n",
       "\n",
       "    .dataframe thead th {\n",
       "        text-align: right;\n",
       "    }\n",
       "</style>\n",
       "<table border=\"1\" class=\"dataframe\">\n",
       "  <thead>\n",
       "    <tr style=\"text-align: right;\">\n",
       "      <th></th>\n",
       "      <th>track_id</th>\n",
       "      <th>track_title</th>\n",
       "      <th>valid_genre</th>\n",
       "      <th>last_genre_id</th>\n",
       "    </tr>\n",
       "  </thead>\n",
       "  <tbody>\n",
       "    <tr>\n",
       "      <th>41970</th>\n",
       "      <td>63668</td>\n",
       "      <td>Part VIII</td>\n",
       "      <td>[42]</td>\n",
       "      <td>42</td>\n",
       "    </tr>\n",
       "    <tr>\n",
       "      <th>94210</th>\n",
       "      <td>140846</td>\n",
       "      <td>Live the World</td>\n",
       "      <td>[15, 1235]</td>\n",
       "      <td>1235</td>\n",
       "    </tr>\n",
       "    <tr>\n",
       "      <th>81075</th>\n",
       "      <td>123522</td>\n",
       "      <td>Zasiaty Hnev</td>\n",
       "      <td>[25, 109]</td>\n",
       "      <td>109</td>\n",
       "    </tr>\n",
       "    <tr>\n",
       "      <th>65646</th>\n",
       "      <td>101483</td>\n",
       "      <td>Lonely Road</td>\n",
       "      <td>[9, 17, 137]</td>\n",
       "      <td>137</td>\n",
       "    </tr>\n",
       "    <tr>\n",
       "      <th>23890</th>\n",
       "      <td>37732</td>\n",
       "      <td>untitled / Ephraim (live on WFMU)</td>\n",
       "      <td>[38, 47, 322]</td>\n",
       "      <td>322</td>\n",
       "    </tr>\n",
       "    <tr>\n",
       "      <th>...</th>\n",
       "      <td>...</td>\n",
       "      <td>...</td>\n",
       "      <td>...</td>\n",
       "      <td>...</td>\n",
       "    </tr>\n",
       "    <tr>\n",
       "      <th>43573</th>\n",
       "      <td>65675</td>\n",
       "      <td>Variatio 7 a 1 ovvero 2 Clav.</td>\n",
       "      <td>[5]</td>\n",
       "      <td>5</td>\n",
       "    </tr>\n",
       "    <tr>\n",
       "      <th>28791</th>\n",
       "      <td>44293</td>\n",
       "      <td>Untitled</td>\n",
       "      <td>[33, 38, 41]</td>\n",
       "      <td>41</td>\n",
       "    </tr>\n",
       "    <tr>\n",
       "      <th>36583</th>\n",
       "      <td>56499</td>\n",
       "      <td>Weed Man Skit</td>\n",
       "      <td>[21, 811]</td>\n",
       "      <td>811</td>\n",
       "    </tr>\n",
       "    <tr>\n",
       "      <th>15599</th>\n",
       "      <td>25638</td>\n",
       "      <td>Süper FM Dub</td>\n",
       "      <td>[58, 79]</td>\n",
       "      <td>79</td>\n",
       "    </tr>\n",
       "    <tr>\n",
       "      <th>54786</th>\n",
       "      <td>83058</td>\n",
       "      <td>Zandzeepsodemineraalwatersteenstralen</td>\n",
       "      <td>[15]</td>\n",
       "      <td>15</td>\n",
       "    </tr>\n",
       "  </tbody>\n",
       "</table>\n",
       "<p>104185 rows × 4 columns</p>\n",
       "</div>"
      ],
      "text/plain": [
       "       track_id                            track_title    valid_genre   \n",
       "41970     63668                              Part VIII           [42]  \\\n",
       "94210    140846                         Live the World     [15, 1235]   \n",
       "81075    123522                           Zasiaty Hnev      [25, 109]   \n",
       "65646    101483                            Lonely Road   [9, 17, 137]   \n",
       "23890     37732      untitled / Ephraim (live on WFMU)  [38, 47, 322]   \n",
       "...         ...                                    ...            ...   \n",
       "43573     65675          Variatio 7 a 1 ovvero 2 Clav.            [5]   \n",
       "28791     44293                               Untitled   [33, 38, 41]   \n",
       "36583     56499                          Weed Man Skit      [21, 811]   \n",
       "15599     25638                           Süper FM Dub       [58, 79]   \n",
       "54786     83058  Zandzeepsodemineraalwatersteenstralen           [15]   \n",
       "\n",
       "      last_genre_id  \n",
       "41970            42  \n",
       "94210          1235  \n",
       "81075           109  \n",
       "65646           137  \n",
       "23890           322  \n",
       "...             ...  \n",
       "43573             5  \n",
       "28791            41  \n",
       "36583           811  \n",
       "15599            79  \n",
       "54786            15  \n",
       "\n",
       "[104185 rows x 4 columns]"
      ]
     },
     "execution_count": 24,
     "metadata": {},
     "output_type": "execute_result"
    }
   ],
   "source": [
    "tracks_df"
   ]
  },
  {
   "cell_type": "code",
   "execution_count": 25,
   "id": "8f713133-f471-4ca5-b7b1-ab06109bb31b",
   "metadata": {
    "tags": []
   },
   "outputs": [
    {
     "data": {
      "application/vnd.jupyter.widget-view+json": {
       "model_id": "1c426317626449db8e16b1c8366e89d3",
       "version_major": 2,
       "version_minor": 0
      },
      "text/plain": [
       "  0%|          | 0/104185 [00:00<?, ?it/s]"
      ]
     },
     "metadata": {},
     "output_type": "display_data"
    }
   ],
   "source": [
    "tracks_df['full_genre_id'] = tracks_df.last_genre_id.progress_apply(lambda x: get_all_structure(x,genres_df)[::-1])"
   ]
  },
  {
   "cell_type": "code",
   "execution_count": 26,
   "id": "69d80106-b330-4749-8aee-d2fbc451ecfb",
   "metadata": {},
   "outputs": [
    {
     "data": {
      "text/plain": [
       "41970         [15, 42]\n",
       "94210           [1235]\n",
       "81075    [12, 25, 109]\n",
       "65646         [9, 137]\n",
       "23890         [5, 322]\n",
       "             ...      \n",
       "43573              [5]\n",
       "28791         [38, 41]\n",
       "36583        [21, 811]\n",
       "15599          [2, 79]\n",
       "54786             [15]\n",
       "Name: full_genre_id, Length: 104185, dtype: object"
      ]
     },
     "execution_count": 26,
     "metadata": {},
     "output_type": "execute_result"
    }
   ],
   "source": [
    "tracks_df.full_genre_id"
   ]
  },
  {
   "cell_type": "code",
   "execution_count": 27,
   "id": "8cf91d85-a298-4064-aecc-4370639ea929",
   "metadata": {},
   "outputs": [
    {
     "data": {
      "text/plain": [
       "Index(['track_id', 'track_title', 'valid_genre', 'last_genre_id',\n",
       "       'full_genre_id'],\n",
       "      dtype='object')"
      ]
     },
     "execution_count": 27,
     "metadata": {},
     "output_type": "execute_result"
    }
   ],
   "source": [
    "tracks_df.columns"
   ]
  },
  {
   "cell_type": "code",
   "execution_count": 28,
   "id": "d7b72dad-6dfa-46c3-84ac-10602c852524",
   "metadata": {},
   "outputs": [],
   "source": [
    "tracks_df = tracks_df[['track_id','full_genre_id']]"
   ]
  },
  {
   "cell_type": "code",
   "execution_count": 29,
   "id": "c7d35e82-a0b0-4bda-be5e-f69340a00385",
   "metadata": {},
   "outputs": [
    {
     "data": {
      "text/plain": [
       "array([list([15, 42]), list([1235]), list([12, 25, 109]), ...,\n",
       "       list([21, 811]), list([2, 79]), list([15])], dtype=object)"
      ]
     },
     "execution_count": 29,
     "metadata": {},
     "output_type": "execute_result"
    }
   ],
   "source": [
    "tracks_df.full_genre_id.values"
   ]
  },
  {
   "cell_type": "code",
   "execution_count": 30,
   "id": "14106678-2380-40d6-8373-edf1fda9b3af",
   "metadata": {},
   "outputs": [
    {
     "data": {
      "text/plain": [
       "<bound method Series.info of 41970         [15, 42]\n",
       "94210           [1235]\n",
       "81075    [12, 25, 109]\n",
       "65646         [9, 137]\n",
       "23890         [5, 322]\n",
       "             ...      \n",
       "43573              [5]\n",
       "28791         [38, 41]\n",
       "36583        [21, 811]\n",
       "15599          [2, 79]\n",
       "54786             [15]\n",
       "Name: full_genre_id, Length: 104185, dtype: object>"
      ]
     },
     "execution_count": 30,
     "metadata": {},
     "output_type": "execute_result"
    }
   ],
   "source": [
    "tracks_df.full_genre_id.info"
   ]
  },
  {
   "cell_type": "code",
   "execution_count": 31,
   "id": "90068602-0c57-4e10-bd9b-64cd1c8d8ad8",
   "metadata": {},
   "outputs": [],
   "source": [
    "labels_size = tracks_df.full_genre_id.apply(lambda x: len(x))"
   ]
  },
  {
   "cell_type": "code",
   "execution_count": 32,
   "id": "70f2351f-2f55-4979-84c2-0cb142887a78",
   "metadata": {},
   "outputs": [],
   "source": [
    "labels_size = int(labels_size.max())"
   ]
  },
  {
   "cell_type": "code",
   "execution_count": 33,
   "id": "e1f6ac31-ca09-4e44-a120-cd4534cd851e",
   "metadata": {},
   "outputs": [
    {
     "data": {
      "text/plain": [
       "int"
      ]
     },
     "execution_count": 33,
     "metadata": {},
     "output_type": "execute_result"
    }
   ],
   "source": [
    "type(labels_size)"
   ]
  },
  {
   "cell_type": "markdown",
   "id": "74827c2e-072a-4213-9b96-f7bb24dee80e",
   "metadata": {},
   "source": [
    "### Parse of label to structure"
   ]
  },
  {
   "cell_type": "code",
   "execution_count": 34,
   "id": "093a84f2-25d1-4f95-81e5-c51e73933e95",
   "metadata": {},
   "outputs": [],
   "source": [
    "### Function for parse label to sctructure of hierarhical scheme\n",
    "\n",
    "def parse_label(label,label_size=5):\n",
    "    # label = label.split('-')\n",
    "    # preencher com 0 no caso de haver menos de 5 níveis\n",
    "    labels = np.zeros(label_size,dtype=int)\n",
    "    for i, label in enumerate(label):\n",
    "        if i == 5:\n",
    "            break\n",
    "        # Aqui você pode fazer a conversão do label em um índice inteiro usando um dicionário ou outro método\n",
    "        # Neste exemplo, estou apenas usando a posição da label na lista como índice\n",
    "        labels[i] = label\n",
    "    return labels"
   ]
  },
  {
   "cell_type": "code",
   "execution_count": 35,
   "id": "2a6adb21-c145-4c82-ba79-798d02c7d2fd",
   "metadata": {},
   "outputs": [],
   "source": [
    "parsed_labels = tracks_df.full_genre_id.apply(lambda x: parse_label(x))"
   ]
  },
  {
   "cell_type": "code",
   "execution_count": 36,
   "id": "5981a36f-cb76-4d1f-8bfe-7e58f3b002e5",
   "metadata": {},
   "outputs": [
    {
     "data": {
      "text/plain": [
       "41970         [15, 42]\n",
       "94210           [1235]\n",
       "81075    [12, 25, 109]\n",
       "65646         [9, 137]\n",
       "23890         [5, 322]\n",
       "             ...      \n",
       "43573              [5]\n",
       "28791         [38, 41]\n",
       "36583        [21, 811]\n",
       "15599          [2, 79]\n",
       "54786             [15]\n",
       "Name: full_genre_id, Length: 104185, dtype: object"
      ]
     },
     "execution_count": 36,
     "metadata": {},
     "output_type": "execute_result"
    }
   ],
   "source": [
    "tracks_df['full_genre_id']"
   ]
  },
  {
   "cell_type": "code",
   "execution_count": 37,
   "id": "d60b077d-993f-4cbb-a66b-407d97dba96e",
   "metadata": {},
   "outputs": [],
   "source": [
    "def convert_label_to_string(x,level=2):\n",
    "    return '-'.join([str(value) for value in x[:level]])"
   ]
  },
  {
   "cell_type": "code",
   "execution_count": 38,
   "id": "e463b489-81bf-4a7d-95db-1f78c7ca6d87",
   "metadata": {},
   "outputs": [
    {
     "data": {
      "application/vnd.jupyter.widget-view+json": {
       "model_id": "ee599cf7049b45938839bcee185a595b",
       "version_major": 2,
       "version_minor": 0
      },
      "text/plain": [
       "  0%|          | 0/104185 [00:00<?, ?it/s]"
      ]
     },
     "metadata": {},
     "output_type": "display_data"
    },
    {
     "name": "stderr",
     "output_type": "stream",
     "text": [
      "/tmp/ipykernel_410313/310633048.py:1: SettingWithCopyWarning: \n",
      "A value is trying to be set on a copy of a slice from a DataFrame.\n",
      "Try using .loc[row_indexer,col_indexer] = value instead\n",
      "\n",
      "See the caveats in the documentation: https://pandas.pydata.org/pandas-docs/stable/user_guide/indexing.html#returning-a-view-versus-a-copy\n",
      "  tracks_df['labels_1'] = parsed_labels.progress_apply(lambda x: str(x[:1][0]))\n"
     ]
    },
    {
     "data": {
      "application/vnd.jupyter.widget-view+json": {
       "model_id": "322113aca7e94da9a821ebd3f06cf9a0",
       "version_major": 2,
       "version_minor": 0
      },
      "text/plain": [
       "  0%|          | 0/104185 [00:00<?, ?it/s]"
      ]
     },
     "metadata": {},
     "output_type": "display_data"
    },
    {
     "name": "stderr",
     "output_type": "stream",
     "text": [
      "/tmp/ipykernel_410313/310633048.py:2: SettingWithCopyWarning: \n",
      "A value is trying to be set on a copy of a slice from a DataFrame.\n",
      "Try using .loc[row_indexer,col_indexer] = value instead\n",
      "\n",
      "See the caveats in the documentation: https://pandas.pydata.org/pandas-docs/stable/user_guide/indexing.html#returning-a-view-versus-a-copy\n",
      "  tracks_df['labels_2'] = parsed_labels.progress_apply(lambda x: convert_label_to_string(x,level=2))\n"
     ]
    },
    {
     "data": {
      "application/vnd.jupyter.widget-view+json": {
       "model_id": "4341ce69fc4949fa89a0c7b8e8a4dabf",
       "version_major": 2,
       "version_minor": 0
      },
      "text/plain": [
       "  0%|          | 0/104185 [00:00<?, ?it/s]"
      ]
     },
     "metadata": {},
     "output_type": "display_data"
    },
    {
     "data": {
      "application/vnd.jupyter.widget-view+json": {
       "model_id": "24c905f949254fb6a01fc98bf926cbcf",
       "version_major": 2,
       "version_minor": 0
      },
      "text/plain": [
       "  0%|          | 0/104185 [00:00<?, ?it/s]"
      ]
     },
     "metadata": {},
     "output_type": "display_data"
    },
    {
     "data": {
      "application/vnd.jupyter.widget-view+json": {
       "model_id": "195b32e1d75444f6bdec16fd1a018031",
       "version_major": 2,
       "version_minor": 0
      },
      "text/plain": [
       "  0%|          | 0/104185 [00:00<?, ?it/s]"
      ]
     },
     "metadata": {},
     "output_type": "display_data"
    }
   ],
   "source": [
    "tracks_df['labels_1'] = parsed_labels.progress_apply(lambda x: str(x[:1][0]))\n",
    "tracks_df['labels_2'] = parsed_labels.progress_apply(lambda x: convert_label_to_string(x,level=2))\n",
    "tracks_df['labels_3'] = parsed_labels.progress_apply(lambda x: convert_label_to_string(x,level=3))\n",
    "tracks_df['labels_4'] = parsed_labels.progress_apply(lambda x: convert_label_to_string(x,level=4))\n",
    "tracks_df['labels_5'] = parsed_labels.progress_apply(lambda x: convert_label_to_string(x,level=5))"
   ]
  },
  {
   "cell_type": "code",
   "execution_count": 39,
   "id": "04828399-6891-4cd6-b5d6-e6263c37a658",
   "metadata": {},
   "outputs": [],
   "source": [
    "# tracks_df = tracks_df[tracks_df['labels_1'].isin([\"38\",\"1235\"])]"
   ]
  },
  {
   "cell_type": "code",
   "execution_count": 40,
   "id": "86c81a9f-b819-4793-af3a-78f22b198aa7",
   "metadata": {},
   "outputs": [
    {
     "data": {
      "text/plain": [
       "labels_2\n",
       "38-0        6508\n",
       "1235-0      6043\n",
       "12-25       5706\n",
       "10-76       4126\n",
       "1235-107    3988\n",
       "            ... \n",
       "13-0          17\n",
       "20-374         9\n",
       "2-117          8\n",
       "20-7           2\n",
       "5-444          2\n",
       "Name: count, Length: 121, dtype: int64"
      ]
     },
     "execution_count": 40,
     "metadata": {},
     "output_type": "execute_result"
    }
   ],
   "source": [
    "tracks_df['labels_2'].value_counts()"
   ]
  },
  {
   "cell_type": "code",
   "execution_count": 41,
   "id": "a29b0317-181b-4cf9-ac27-3fd9505e1f7b",
   "metadata": {},
   "outputs": [
    {
     "data": {
      "text/plain": [
       "labels_5\n",
       "38-0-0-0-0        6508\n",
       "1235-0-0-0-0      6043\n",
       "10-76-0-0-0       4126\n",
       "1235-107-0-0-0    3988\n",
       "17-103-0-0-0      3482\n",
       "                  ... \n",
       "9-651-493-0-0        4\n",
       "2-86-173-0-0         4\n",
       "20-65-189-0-0        4\n",
       "20-7-0-0-0           2\n",
       "5-444-0-0-0          2\n",
       "Name: count, Length: 159, dtype: int64"
      ]
     },
     "execution_count": 41,
     "metadata": {},
     "output_type": "execute_result"
    }
   ],
   "source": [
    "tracks_df['labels_5'].value_counts()"
   ]
  },
  {
   "cell_type": "code",
   "execution_count": 42,
   "id": "304cd0a8-f7de-4862-8994-a9ed960cea5a",
   "metadata": {},
   "outputs": [],
   "source": [
    "# tracks_df = tracks_df[tracks_df['labels_1'].isin(['3','14'])]"
   ]
  },
  {
   "cell_type": "code",
   "execution_count": 43,
   "id": "d1e5f547-34ba-4d8d-b3ef-7d7eebc578fc",
   "metadata": {},
   "outputs": [],
   "source": [
    "categories_df = pd.DataFrame({'level5':tracks_df.labels_5.unique()})"
   ]
  },
  {
   "cell_type": "code",
   "execution_count": 44,
   "id": "39a3077d-9077-4f6b-be98-1e7d14e280e2",
   "metadata": {},
   "outputs": [
    {
     "data": {
      "application/vnd.jupyter.widget-view+json": {
       "model_id": "4a25ad2f5d664a279d0072d4a721a304",
       "version_major": 2,
       "version_minor": 0
      },
      "text/plain": [
       "  0%|          | 0/159 [00:00<?, ?it/s]"
      ]
     },
     "metadata": {},
     "output_type": "display_data"
    },
    {
     "data": {
      "application/vnd.jupyter.widget-view+json": {
       "model_id": "2db22f9723534fada20f8172a77c2ea6",
       "version_major": 2,
       "version_minor": 0
      },
      "text/plain": [
       "  0%|          | 0/159 [00:00<?, ?it/s]"
      ]
     },
     "metadata": {},
     "output_type": "display_data"
    },
    {
     "data": {
      "application/vnd.jupyter.widget-view+json": {
       "model_id": "f9835990233f4a6386a8b90dc474b4ef",
       "version_major": 2,
       "version_minor": 0
      },
      "text/plain": [
       "  0%|          | 0/159 [00:00<?, ?it/s]"
      ]
     },
     "metadata": {},
     "output_type": "display_data"
    },
    {
     "data": {
      "application/vnd.jupyter.widget-view+json": {
       "model_id": "d8fd0727c63e406fbba8105182c8ccf4",
       "version_major": 2,
       "version_minor": 0
      },
      "text/plain": [
       "  0%|          | 0/159 [00:00<?, ?it/s]"
      ]
     },
     "metadata": {},
     "output_type": "display_data"
    }
   ],
   "source": [
    "categories_df['level1'] = categories_df.level5.progress_apply(lambda x: '-'.join(x.split('-')[:1]))\n",
    "categories_df['level2'] = categories_df.level5.progress_apply(lambda x: '-'.join(x.split('-')[:2]))\n",
    "categories_df['level3'] = categories_df.level5.progress_apply(lambda x: '-'.join(x.split('-')[:3]))\n",
    "categories_df['level4'] = categories_df.level5.progress_apply(lambda x: '-'.join(x.split('-')[:4]))"
   ]
  },
  {
   "cell_type": "code",
   "execution_count": 45,
   "id": "d32d5387-bc51-4823-8245-9b715899af33",
   "metadata": {},
   "outputs": [
    {
     "data": {
      "text/html": [
       "<div>\n",
       "<style scoped>\n",
       "    .dataframe tbody tr th:only-of-type {\n",
       "        vertical-align: middle;\n",
       "    }\n",
       "\n",
       "    .dataframe tbody tr th {\n",
       "        vertical-align: top;\n",
       "    }\n",
       "\n",
       "    .dataframe thead th {\n",
       "        text-align: right;\n",
       "    }\n",
       "</style>\n",
       "<table border=\"1\" class=\"dataframe\">\n",
       "  <thead>\n",
       "    <tr style=\"text-align: right;\">\n",
       "      <th></th>\n",
       "      <th>level5</th>\n",
       "      <th>level1</th>\n",
       "      <th>level2</th>\n",
       "      <th>level3</th>\n",
       "      <th>level4</th>\n",
       "    </tr>\n",
       "  </thead>\n",
       "  <tbody>\n",
       "    <tr>\n",
       "      <th>0</th>\n",
       "      <td>15-42-0-0-0</td>\n",
       "      <td>15</td>\n",
       "      <td>15-42</td>\n",
       "      <td>15-42-0</td>\n",
       "      <td>15-42-0-0</td>\n",
       "    </tr>\n",
       "    <tr>\n",
       "      <th>1</th>\n",
       "      <td>1235-0-0-0-0</td>\n",
       "      <td>1235</td>\n",
       "      <td>1235-0</td>\n",
       "      <td>1235-0-0</td>\n",
       "      <td>1235-0-0-0</td>\n",
       "    </tr>\n",
       "    <tr>\n",
       "      <th>2</th>\n",
       "      <td>12-25-109-0-0</td>\n",
       "      <td>12</td>\n",
       "      <td>12-25</td>\n",
       "      <td>12-25-109</td>\n",
       "      <td>12-25-109-0</td>\n",
       "    </tr>\n",
       "    <tr>\n",
       "      <th>3</th>\n",
       "      <td>9-137-0-0-0</td>\n",
       "      <td>9</td>\n",
       "      <td>9-137</td>\n",
       "      <td>9-137-0</td>\n",
       "      <td>9-137-0-0</td>\n",
       "    </tr>\n",
       "    <tr>\n",
       "      <th>4</th>\n",
       "      <td>5-322-0-0-0</td>\n",
       "      <td>5</td>\n",
       "      <td>5-322</td>\n",
       "      <td>5-322-0</td>\n",
       "      <td>5-322-0-0</td>\n",
       "    </tr>\n",
       "    <tr>\n",
       "      <th>...</th>\n",
       "      <td>...</td>\n",
       "      <td>...</td>\n",
       "      <td>...</td>\n",
       "      <td>...</td>\n",
       "      <td>...</td>\n",
       "    </tr>\n",
       "    <tr>\n",
       "      <th>154</th>\n",
       "      <td>9-651-493-0-0</td>\n",
       "      <td>9</td>\n",
       "      <td>9-651</td>\n",
       "      <td>9-651-493</td>\n",
       "      <td>9-651-493-0</td>\n",
       "    </tr>\n",
       "    <tr>\n",
       "      <th>155</th>\n",
       "      <td>2-86-173-0-0</td>\n",
       "      <td>2</td>\n",
       "      <td>2-86</td>\n",
       "      <td>2-86-173</td>\n",
       "      <td>2-86-173-0</td>\n",
       "    </tr>\n",
       "    <tr>\n",
       "      <th>156</th>\n",
       "      <td>20-7-0-0-0</td>\n",
       "      <td>20</td>\n",
       "      <td>20-7</td>\n",
       "      <td>20-7-0</td>\n",
       "      <td>20-7-0-0</td>\n",
       "    </tr>\n",
       "    <tr>\n",
       "      <th>157</th>\n",
       "      <td>20-65-189-0-0</td>\n",
       "      <td>20</td>\n",
       "      <td>20-65</td>\n",
       "      <td>20-65-189</td>\n",
       "      <td>20-65-189-0</td>\n",
       "    </tr>\n",
       "    <tr>\n",
       "      <th>158</th>\n",
       "      <td>5-444-0-0-0</td>\n",
       "      <td>5</td>\n",
       "      <td>5-444</td>\n",
       "      <td>5-444-0</td>\n",
       "      <td>5-444-0-0</td>\n",
       "    </tr>\n",
       "  </tbody>\n",
       "</table>\n",
       "<p>159 rows × 5 columns</p>\n",
       "</div>"
      ],
      "text/plain": [
       "            level5 level1  level2     level3       level4\n",
       "0      15-42-0-0-0     15   15-42    15-42-0    15-42-0-0\n",
       "1     1235-0-0-0-0   1235  1235-0   1235-0-0   1235-0-0-0\n",
       "2    12-25-109-0-0     12   12-25  12-25-109  12-25-109-0\n",
       "3      9-137-0-0-0      9   9-137    9-137-0    9-137-0-0\n",
       "4      5-322-0-0-0      5   5-322    5-322-0    5-322-0-0\n",
       "..             ...    ...     ...        ...          ...\n",
       "154  9-651-493-0-0      9   9-651  9-651-493  9-651-493-0\n",
       "155   2-86-173-0-0      2    2-86   2-86-173   2-86-173-0\n",
       "156     20-7-0-0-0     20    20-7     20-7-0     20-7-0-0\n",
       "157  20-65-189-0-0     20   20-65  20-65-189  20-65-189-0\n",
       "158    5-444-0-0-0      5   5-444    5-444-0    5-444-0-0\n",
       "\n",
       "[159 rows x 5 columns]"
      ]
     },
     "execution_count": 45,
     "metadata": {},
     "output_type": "execute_result"
    }
   ],
   "source": [
    "categories_df"
   ]
  },
  {
   "cell_type": "code",
   "execution_count": 46,
   "id": "1c4326bd-6d17-4857-b29c-9fc868e7561d",
   "metadata": {},
   "outputs": [],
   "source": [
    "def get_labels_name(x,genres_df):\n",
    "    levels = 5\n",
    "    full_name = []\n",
    "    last_level = 0\n",
    "    genre_root = \"\"\n",
    "    for genre in x.split('-'):\n",
    "        genre_df = genres_df[genres_df['genre_id'] == int(genre)]\n",
    "        if genre_df.empty:\n",
    "            genre_name = genre_root \n",
    "        else:\n",
    "            genre_name = genre_df.title.values.tolist()[0]\n",
    "            genre_root = genre_name\n",
    "        \n",
    "        full_name.append(genre_name)\n",
    "    full_name = '>'.join(full_name)\n",
    "        \n",
    "    return full_name\n",
    "    # return genres_df[genres_df['genre_id'] == int(x)].title.values.tolist()[0]"
   ]
  },
  {
   "cell_type": "code",
   "execution_count": 47,
   "id": "5fa16276-5e41-4ee5-821b-dabd1620c76c",
   "metadata": {},
   "outputs": [],
   "source": [
    "categories_df['level5_name'] = categories_df.level5.apply(lambda x: get_labels_name(x,genres_df))"
   ]
  },
  {
   "cell_type": "code",
   "execution_count": 48,
   "id": "2d2099b6-cf3b-47ae-bca2-7d2cc8a1cb8d",
   "metadata": {},
   "outputs": [
    {
     "data": {
      "text/html": [
       "<div>\n",
       "<style scoped>\n",
       "    .dataframe tbody tr th:only-of-type {\n",
       "        vertical-align: middle;\n",
       "    }\n",
       "\n",
       "    .dataframe tbody tr th {\n",
       "        vertical-align: top;\n",
       "    }\n",
       "\n",
       "    .dataframe thead th {\n",
       "        text-align: right;\n",
       "    }\n",
       "</style>\n",
       "<table border=\"1\" class=\"dataframe\">\n",
       "  <thead>\n",
       "    <tr style=\"text-align: right;\">\n",
       "      <th></th>\n",
       "      <th>level5</th>\n",
       "      <th>level1</th>\n",
       "      <th>level2</th>\n",
       "      <th>level3</th>\n",
       "      <th>level4</th>\n",
       "      <th>level5_name</th>\n",
       "    </tr>\n",
       "  </thead>\n",
       "  <tbody>\n",
       "    <tr>\n",
       "      <th>0</th>\n",
       "      <td>15-42-0-0-0</td>\n",
       "      <td>15</td>\n",
       "      <td>15-42</td>\n",
       "      <td>15-42-0</td>\n",
       "      <td>15-42-0-0</td>\n",
       "      <td>Electronic&gt;Ambient Electronic&gt;Ambient Electron...</td>\n",
       "    </tr>\n",
       "    <tr>\n",
       "      <th>1</th>\n",
       "      <td>1235-0-0-0-0</td>\n",
       "      <td>1235</td>\n",
       "      <td>1235-0</td>\n",
       "      <td>1235-0-0</td>\n",
       "      <td>1235-0-0-0</td>\n",
       "      <td>Instrumental&gt;Instrumental&gt;Instrumental&gt;Instrum...</td>\n",
       "    </tr>\n",
       "    <tr>\n",
       "      <th>2</th>\n",
       "      <td>12-25-109-0-0</td>\n",
       "      <td>12</td>\n",
       "      <td>12-25</td>\n",
       "      <td>12-25-109</td>\n",
       "      <td>12-25-109-0</td>\n",
       "      <td>Rock&gt;Punk&gt;Hardcore&gt;Hardcore&gt;Hardcore</td>\n",
       "    </tr>\n",
       "    <tr>\n",
       "      <th>3</th>\n",
       "      <td>9-137-0-0-0</td>\n",
       "      <td>9</td>\n",
       "      <td>9-137</td>\n",
       "      <td>9-137-0</td>\n",
       "      <td>9-137-0-0</td>\n",
       "      <td>Country&gt;Americana&gt;Americana&gt;Americana&gt;Americana</td>\n",
       "    </tr>\n",
       "    <tr>\n",
       "      <th>4</th>\n",
       "      <td>5-322-0-0-0</td>\n",
       "      <td>5</td>\n",
       "      <td>5-322</td>\n",
       "      <td>5-322-0</td>\n",
       "      <td>5-322-0-0</td>\n",
       "      <td>Classical&gt;Composed Music&gt;Composed Music&gt;Compos...</td>\n",
       "    </tr>\n",
       "    <tr>\n",
       "      <th>...</th>\n",
       "      <td>...</td>\n",
       "      <td>...</td>\n",
       "      <td>...</td>\n",
       "      <td>...</td>\n",
       "      <td>...</td>\n",
       "      <td>...</td>\n",
       "    </tr>\n",
       "    <tr>\n",
       "      <th>154</th>\n",
       "      <td>9-651-493-0-0</td>\n",
       "      <td>9</td>\n",
       "      <td>9-651</td>\n",
       "      <td>9-651-493</td>\n",
       "      <td>9-651-493-0</td>\n",
       "      <td>Country&gt;Country &amp; Western&gt;Western Swing&gt;Wester...</td>\n",
       "    </tr>\n",
       "    <tr>\n",
       "      <th>155</th>\n",
       "      <td>2-86-173-0-0</td>\n",
       "      <td>2</td>\n",
       "      <td>2-86</td>\n",
       "      <td>2-86-173</td>\n",
       "      <td>2-86-173-0</td>\n",
       "      <td>International&gt;Indian&gt;N. Indian Traditional&gt;N. ...</td>\n",
       "    </tr>\n",
       "    <tr>\n",
       "      <th>156</th>\n",
       "      <td>20-7-0-0-0</td>\n",
       "      <td>20</td>\n",
       "      <td>20-7</td>\n",
       "      <td>20-7-0</td>\n",
       "      <td>20-7-0-0</td>\n",
       "      <td>Spoken&gt;Comedy&gt;Comedy&gt;Comedy&gt;Comedy</td>\n",
       "    </tr>\n",
       "    <tr>\n",
       "      <th>157</th>\n",
       "      <td>20-65-189-0-0</td>\n",
       "      <td>20</td>\n",
       "      <td>20-65</td>\n",
       "      <td>20-65-189</td>\n",
       "      <td>20-65-189-0</td>\n",
       "      <td>Spoken&gt;Radio&gt;Talk Radio&gt;Talk Radio&gt;Talk Radio</td>\n",
       "    </tr>\n",
       "    <tr>\n",
       "      <th>158</th>\n",
       "      <td>5-444-0-0-0</td>\n",
       "      <td>5</td>\n",
       "      <td>5-444</td>\n",
       "      <td>5-444-0</td>\n",
       "      <td>5-444-0-0</td>\n",
       "      <td>Classical&gt;Symphony&gt;Symphony&gt;Symphony&gt;Symphony</td>\n",
       "    </tr>\n",
       "  </tbody>\n",
       "</table>\n",
       "<p>159 rows × 6 columns</p>\n",
       "</div>"
      ],
      "text/plain": [
       "            level5 level1  level2     level3       level4   \n",
       "0      15-42-0-0-0     15   15-42    15-42-0    15-42-0-0  \\\n",
       "1     1235-0-0-0-0   1235  1235-0   1235-0-0   1235-0-0-0   \n",
       "2    12-25-109-0-0     12   12-25  12-25-109  12-25-109-0   \n",
       "3      9-137-0-0-0      9   9-137    9-137-0    9-137-0-0   \n",
       "4      5-322-0-0-0      5   5-322    5-322-0    5-322-0-0   \n",
       "..             ...    ...     ...        ...          ...   \n",
       "154  9-651-493-0-0      9   9-651  9-651-493  9-651-493-0   \n",
       "155   2-86-173-0-0      2    2-86   2-86-173   2-86-173-0   \n",
       "156     20-7-0-0-0     20    20-7     20-7-0     20-7-0-0   \n",
       "157  20-65-189-0-0     20   20-65  20-65-189  20-65-189-0   \n",
       "158    5-444-0-0-0      5   5-444    5-444-0    5-444-0-0   \n",
       "\n",
       "                                           level5_name  \n",
       "0    Electronic>Ambient Electronic>Ambient Electron...  \n",
       "1    Instrumental>Instrumental>Instrumental>Instrum...  \n",
       "2                 Rock>Punk>Hardcore>Hardcore>Hardcore  \n",
       "3      Country>Americana>Americana>Americana>Americana  \n",
       "4    Classical>Composed Music>Composed Music>Compos...  \n",
       "..                                                 ...  \n",
       "154  Country>Country & Western>Western Swing>Wester...  \n",
       "155  International>Indian>N. Indian Traditional>N. ...  \n",
       "156                 Spoken>Comedy>Comedy>Comedy>Comedy  \n",
       "157      Spoken>Radio>Talk Radio>Talk Radio>Talk Radio  \n",
       "158      Classical>Symphony>Symphony>Symphony>Symphony  \n",
       "\n",
       "[159 rows x 6 columns]"
      ]
     },
     "execution_count": 48,
     "metadata": {},
     "output_type": "execute_result"
    }
   ],
   "source": [
    "categories_df"
   ]
  },
  {
   "cell_type": "code",
   "execution_count": 49,
   "id": "c2ced721-6c30-46da-95b5-a28b84b6a2a4",
   "metadata": {},
   "outputs": [],
   "source": [
    "def __create_labels__(categories_df):\n",
    "    data = {\n",
    "        \"label1\": {},\n",
    "        \"label2\": {},\n",
    "        \"label3\": {},\n",
    "        \"label4\": {},\n",
    "        \"label5\": {},\n",
    "        \"label1_inverse\": [],\n",
    "        \"label2_inverse\": [],\n",
    "        \"label3_inverse\": [],\n",
    "        \"label4_inverse\": [],\n",
    "        \"label5_inverse\": [],\n",
    "        \"label1_name\": {},\n",
    "        \"label2_name\": {},\n",
    "        \"label3_name\": {},\n",
    "        \"label4_name\": {},\n",
    "        \"label5_name\": {},\n",
    "    }\n",
    "\n",
    "    idx = 0\n",
    "    \n",
    "    for id_x, cat in enumerate(set(categories_df.level1.values.tolist())):\n",
    "        data['label1'][cat] = idx\n",
    "        data['label1_inverse'].append(cat)\n",
    "        data['label1_count'] = idx + 1\n",
    "        idx+=1\n",
    "\n",
    "    for id_x, cat in enumerate(set(categories_df.level2.values.tolist())):\n",
    "        data['label2'][cat] = idx\n",
    "        data['label2_inverse'].append(cat)\n",
    "        data['label2_count'] = idx + 1\n",
    "        idx+=1\n",
    "        \n",
    "    for id_x, cat in enumerate(set(categories_df.level3.values.tolist())):\n",
    "        data['label3'][cat] = idx\n",
    "        data['label3_inverse'].append(cat)\n",
    "        data['label3_count'] = idx + 1\n",
    "        idx+=1\n",
    "\n",
    "    for id_x, cat in enumerate(set(categories_df.level4.values.tolist())):\n",
    "        data['label4'][cat] = idx\n",
    "        data['label4_inverse'].append(cat)\n",
    "        data['label4_count'] = idx + 1\n",
    "        idx+=1\n",
    "        \n",
    "    for idx, cat in enumerate(set(categories_df.level5.values.tolist())):\n",
    "        data['label5'][cat] = idx\n",
    "        data['label5_inverse'].append(cat)\n",
    "        data['label5_count'] = idx + 1\n",
    "        idx+=1\n",
    "        \n",
    "    for cat5,cat1,cat2,cat3,cat4,name5 in categories_df.values:\n",
    "        \n",
    "        name1 = '>'.join(name5.split('>')[:1])\n",
    "        name2 = '>'.join(name5.split('>')[:2])\n",
    "        name3 = '>'.join(name5.split('>')[:3])\n",
    "        name4 = '>'.join(name5.split('>')[:4])\n",
    "        \n",
    "        \n",
    "        data['label1_name'][cat1] = name1\n",
    "        data['label2_name'][cat2] = name2\n",
    "        data['label3_name'][cat3] = name3\n",
    "        data['label4_name'][cat4] = name4\n",
    "        data['label5_name'][cat5] = name5\n",
    "        \n",
    "    return data"
   ]
  },
  {
   "cell_type": "code",
   "execution_count": 50,
   "id": "e7ccc947-b7ae-464d-a325-d61aa3cf5710",
   "metadata": {},
   "outputs": [],
   "source": [
    "with open(categories_labels_path, 'w+') as f:\n",
    "    f.write(json.dumps(__create_labels__(categories_df)))"
   ]
  },
  {
   "cell_type": "code",
   "execution_count": 51,
   "id": "3778cc5d-7def-4a1d-9f5b-b141bd08356c",
   "metadata": {},
   "outputs": [],
   "source": [
    "labels  = __create_labels__(categories_df)"
   ]
  },
  {
   "cell_type": "code",
   "execution_count": 52,
   "id": "a6b67e97-0813-492e-8323-f8588ca8d120",
   "metadata": {
    "tags": []
   },
   "outputs": [
    {
     "data": {
      "text/plain": [
       "{'12-25-71-0': 293,\n",
       " '1235-18-538-0': 294,\n",
       " '2-130-741-0': 295,\n",
       " '12-31-167-0': 296,\n",
       " '15-297-0-0': 297,\n",
       " '15-495-0-0': 298,\n",
       " '4-906-0-0': 299,\n",
       " '13-170-0-0': 300,\n",
       " '38-30-0-0': 301,\n",
       " '38-247-0-0': 302,\n",
       " '21-542-0-0': 303,\n",
       " '4-97-0-0': 304,\n",
       " '12-31-0-0': 305,\n",
       " '38-32-0-0': 306,\n",
       " '2-79-0-0': 307,\n",
       " '15-695-0-0': 308,\n",
       " '38-6-0-0': 309,\n",
       " '20-65-43-0': 310,\n",
       " '12-85-404-0': 311,\n",
       " '1235-18-0-0': 312,\n",
       " '12-98-0-0': 313,\n",
       " '20-65-0-0': 314,\n",
       " '5-659-0-0': 315,\n",
       " '20-65-166-0': 316,\n",
       " '15-337-0-0': 317,\n",
       " '2-172-0-0': 318,\n",
       " '5-442-0-0': 319,\n",
       " '38-47-0-0': 320,\n",
       " '8-0-0-0': 321,\n",
       " '38-224-0-0': 322,\n",
       " '38-0-0-0': 323,\n",
       " '21-83-0-0': 324,\n",
       " '2-102-1032-0': 325,\n",
       " '17-33-0-0': 326,\n",
       " '5-187-0-0': 327,\n",
       " '12-25-111-0': 328,\n",
       " '9-651-0-0': 329,\n",
       " '38-514-0-0': 330,\n",
       " '38-6-360-0': 331,\n",
       " '14-19-0-0': 332,\n",
       " '21-693-0-0': 333,\n",
       " '38-1-0-0': 334,\n",
       " '15-286-0-0': 335,\n",
       " '2-171-0-0': 336,\n",
       " '12-45-0-0': 337,\n",
       " '15-296-0-0': 338,\n",
       " '12-27-0-0': 339,\n",
       " '13-311-0-0': 340,\n",
       " '12-26-113-0': 341,\n",
       " '15-0-0-0': 342,\n",
       " '10-76-0-0': 343,\n",
       " '2-86-0-0': 344,\n",
       " '2-92-0-0': 345,\n",
       " '12-45-53-90': 346,\n",
       " '12-25-89-0': 347,\n",
       " '13-810-0-0': 348,\n",
       " '2-46-1060-0': 349,\n",
       " '9-63-0-0': 350,\n",
       " '15-182-0-0': 351,\n",
       " '1235-107-0-0': 352,\n",
       " '1235-0-0-0': 353,\n",
       " '10-0-0-0': 354,\n",
       " '4-0-0-0': 355,\n",
       " '38-22-0-0': 356,\n",
       " '21-811-0-0': 357,\n",
       " '14-0-0-0': 358,\n",
       " '20-188-0-0': 359,\n",
       " '5-322-0-0': 360,\n",
       " '9-0-0-0': 361,\n",
       " '5-441-0-0': 362,\n",
       " '12-25-0-0': 363,\n",
       " '17-94-0-0': 364,\n",
       " '2-118-0-0': 365,\n",
       " '4-37-0-0': 366,\n",
       " '21-580-0-0': 367,\n",
       " '12-0-0-0': 368,\n",
       " '2-130-524-0': 369,\n",
       " '13-0-0-0': 370,\n",
       " '2-176-0-0': 371,\n",
       " '20-428-0-0': 372,\n",
       " '21-0-0-0': 373,\n",
       " '38-456-0-0': 374,\n",
       " '12-36-0-0': 375,\n",
       " '12-440-0-0': 376,\n",
       " '38-250-0-0': 377,\n",
       " '20-138-0-0': 378,\n",
       " '15-182-400-0': 379,\n",
       " '3-567-0-0': 380,\n",
       " '38-6-16-763': 381,\n",
       " '5-444-0-0': 382,\n",
       " '1235-267-0-0': 383,\n",
       " '2-92-214-0': 384,\n",
       " '12-25-64-0': 385,\n",
       " '20-0-0-0': 386,\n",
       " '17-0-0-0': 387,\n",
       " '17-49-0-0': 388,\n",
       " '12-31-439-0': 389,\n",
       " '12-85-0-0': 390,\n",
       " '14-11-0-0': 391,\n",
       " '15-42-0-0': 392,\n",
       " '2-504-0-0': 393,\n",
       " '20-7-0-0': 394,\n",
       " '4-179-0-0': 395,\n",
       " '2-79-602-0': 396,\n",
       " '21-100-0-0': 397,\n",
       " '3-0-0-0': 398,\n",
       " '2-46-502-0': 399,\n",
       " '12-31-101-0': 400,\n",
       " '12-58-0-0': 401,\n",
       " '9-137-0-0': 402,\n",
       " '15-183-0-0': 403,\n",
       " '12-359-0-0': 404,\n",
       " '2-130-619-0': 405,\n",
       " '17-103-0-0': 406,\n",
       " '20-378-0-0': 407,\n",
       " '12-25-109-0': 408,\n",
       " '12-45-53-0': 409,\n",
       " '12-70-0-0': 410,\n",
       " '12-314-0-0': 411,\n",
       " '5-443-0-0': 412,\n",
       " '38-186-0-0': 413,\n",
       " '21-539-0-0': 414,\n",
       " '12-26-0-0': 415,\n",
       " '15-468-491-0': 416,\n",
       " '15-185-0-0': 417,\n",
       " '15-236-0-0': 418,\n",
       " '15-184-0-0': 419,\n",
       " '2-232-0-0': 420,\n",
       " '12-88-0-0': 421,\n",
       " '4-74-0-0': 422,\n",
       " '2-177-0-0': 423,\n",
       " '12-25-109-361': 424,\n",
       " '2-46-808-0': 425,\n",
       " '2-86-174-0': 426,\n",
       " '38-41-0-0': 427,\n",
       " '2-130-0-0': 428,\n",
       " '15-181-401-0': 429,\n",
       " '15-181-0-0': 430,\n",
       " '2-92-81-0': 431,\n",
       " '10-362-0-0': 432,\n",
       " '17-180-0-0': 433,\n",
       " '9-169-0-0': 434,\n",
       " '2-77-0-0': 435,\n",
       " '15-468-0-0': 436,\n",
       " '5-0-0-0': 437,\n",
       " '2-46-0-0': 438,\n",
       " '20-465-0-0': 439,\n",
       " '20-374-0-0': 440,\n",
       " '15-297-240-0': 441,\n",
       " '2-0-0-0': 442,\n",
       " '2-86-173-0': 443,\n",
       " '2-130-1156-0': 444,\n",
       " '38-125-0-0': 445,\n",
       " '20-65-189-0': 446,\n",
       " '2-102-0-0': 447,\n",
       " '9-651-493-0': 448,\n",
       " '12-66-0-0': 449,\n",
       " '2-117-0-0': 450}"
      ]
     },
     "execution_count": 52,
     "metadata": {},
     "output_type": "execute_result"
    }
   ],
   "source": [
    "labels['label4']"
   ]
  },
  {
   "cell_type": "code",
   "execution_count": 53,
   "id": "676dd2f5-aa10-4a54-8542-fb86b770de22",
   "metadata": {},
   "outputs": [
    {
     "data": {
      "text/plain": [
       "16"
      ]
     },
     "execution_count": 53,
     "metadata": {},
     "output_type": "execute_result"
    }
   ],
   "source": [
    "labels['label1_count']"
   ]
  },
  {
   "cell_type": "code",
   "execution_count": 54,
   "id": "34af3ff3-11d0-415f-8736-519e5911ec59",
   "metadata": {},
   "outputs": [],
   "source": [
    "\n",
    "\n",
    "def parse_tfr_element(element):\n",
    "    #use the same structure as above; it's kinda an outline of the structure we now want to create\n",
    "    data = {\n",
    "        'emb' : tf.io.FixedLenFeature([], tf.string),\n",
    "        'track_id' : tf.io.FixedLenFeature([], tf.int64),\n",
    "    }\n",
    "    \n",
    "    content = tf.io.parse_single_example(element, data)\n",
    "\n",
    "    track_id = content['track_id']\n",
    "    emb = content['emb']\n",
    "    \n",
    "\n",
    "    #get our 'feature'-- our image -- and reshape it appropriately\n",
    "    feature = tf.io.parse_tensor(emb, out_type=tf.float32)\n",
    "    return (feature, track_id)\n",
    "\n",
    "\n",
    "def get_dataset(filename):\n",
    "    #create the dataset\n",
    "    dataset = tf.data.TFRecordDataset(filename)\n",
    "\n",
    "    #pass every single feature through our mapping function\n",
    "    dataset = dataset.map(\n",
    "        parse_tfr_element\n",
    "    )\n",
    "\n",
    "    return dataset\n",
    "\n",
    "\n"
   ]
  },
  {
   "cell_type": "code",
   "execution_count": 55,
   "id": "4580514b-0be9-4de5-a8d3-f987ba73134c",
   "metadata": {},
   "outputs": [],
   "source": [
    "import numpy as np\n",
    "\n",
    "\n",
    "def load_dataset(path,dataset=args.embeddings):\n",
    "    tfrecords_path = os.path.join(path,'tfrecords',dataset)\n",
    "    \n",
    "    \n",
    "    tfrecords_path = [os.path.join(tfrecords_path,path) for path in os.listdir(tfrecords_path)]\n",
    "    dataset = get_dataset(tfrecords_path)\n",
    "    \n",
    "    df = pd.DataFrame(\n",
    "        dataset.as_numpy_iterator(),\n",
    "        columns=['feature', 'track_id']\n",
    "    )\n",
    "        \n",
    "    df.dropna(inplace=True)\n",
    "    \n",
    "    \n",
    "    try:\n",
    "        df.feature = df.feature.apply(lambda x: x[0] if x.shape[0] != 0 else None)\n",
    "    except:\n",
    "        print(x)\n",
    "    \n",
    "    return df\n",
    "    \n"
   ]
  },
  {
   "cell_type": "code",
   "execution_count": 56,
   "id": "b5c8d2a5-ea5e-495a-a800-0d8cdede266f",
   "metadata": {},
   "outputs": [
    {
     "data": {
      "text/plain": [
       "labels_5\n",
       "38-0-0-0-0        6508\n",
       "1235-0-0-0-0      6043\n",
       "10-76-0-0-0       4126\n",
       "1235-107-0-0-0    3988\n",
       "17-103-0-0-0      3482\n",
       "                  ... \n",
       "9-651-493-0-0        4\n",
       "2-86-173-0-0         4\n",
       "20-65-189-0-0        4\n",
       "20-7-0-0-0           2\n",
       "5-444-0-0-0          2\n",
       "Name: count, Length: 159, dtype: int64"
      ]
     },
     "execution_count": 56,
     "metadata": {},
     "output_type": "execute_result"
    }
   ],
   "source": [
    "tracks_df['labels_5'].value_counts()"
   ]
  },
  {
   "cell_type": "code",
   "execution_count": 57,
   "id": "ecb34052-60dd-40db-9ba4-0a92c17f9eb0",
   "metadata": {},
   "outputs": [],
   "source": [
    "def __split_data__(group, percentage=0.1):\n",
    "    if len(group) == 1:\n",
    "        return group, group\n",
    "\n",
    "    shuffled = shuffle(group.values)\n",
    "    finish_test = int(ceil(len(group) * percentage))\n",
    "\n",
    "    first = pd.DataFrame(shuffled[:finish_test], columns=group.columns)\n",
    "    second = pd.DataFrame(shuffled[finish_test:], columns=group.columns)\n",
    "\n",
    "    return first, second"
   ]
  },
  {
   "cell_type": "code",
   "execution_count": 58,
   "id": "f6b687c1-660a-4e8c-a76a-6b2a85ae4d37",
   "metadata": {},
   "outputs": [],
   "source": [
    "def select_dataset(tracks_df):\n",
    "    \n",
    "#     dataset_testset_path = os.path.join(tfrecord_path,'test')\n",
    "#     dataset_validationset_path = os.path.join(tfrecord_path,'val')\n",
    "#     dataset_trainset_path = os.path.join(tfrecord_path,'train')\n",
    "    \n",
    "    df = load_dataset(args.dataset_path,dataset=args.embeddings)\n",
    "    \n",
    "    df.dropna(inplace=True)\n",
    "    \n",
    "    tracks_df = tracks_df.merge(df, on='track_id')\n",
    "    \n",
    "    tracks_df.loc[:,'labels_1'] = tracks_df.labels_1.astype(str).progress_apply(lambda x: labels['label1'][x])\n",
    "    tracks_df.loc[:,'labels_2'] = tracks_df.labels_2.astype(str).progress_apply(lambda x: labels['label2'][x])\n",
    "    tracks_df.loc[:,'labels_3'] = tracks_df.labels_3.astype(str).progress_apply(lambda x: labels['label3'][x])\n",
    "    tracks_df.loc[:,'labels_4'] = tracks_df.labels_4.astype(str).progress_apply(lambda x: labels['label4'][x])\n",
    "    tracks_df.loc[:,'labels_5'] = tracks_df.labels_5.astype(str).progress_apply(lambda x: labels['label5'][x])\n",
    "    \n",
    "    tests = []\n",
    "    trains = []\n",
    "    validations = []\n",
    "    groups = tracks_df.groupby(\"labels_5\")\n",
    "    \n",
    "    \n",
    "    count = 0\n",
    "    items_count = 0\n",
    "    total = len(groups)\n",
    "    total_items = len(tracks_df)\n",
    "    oversampling_size = 30  # int(group_sizes.mean() + group_sizes.std() * 2)\n",
    "    print(f\"oversampling_size: {oversampling_size}\")\n",
    "\n",
    "    for code, group in groups:\n",
    "        test, train_to_split = __split_data__(group, 0.01)  # 10%\n",
    "        train_to_split = train_to_split\n",
    "        validation, train = __split_data__(train_to_split, 0.01)  # %1\n",
    "\n",
    "        tests.append(test)\n",
    "        validations.append(validation)\n",
    "\n",
    "        ## this increase the numner of samples when classes has low quantity\n",
    "        count_train = len(train)\n",
    "        if count_train < oversampling_size:\n",
    "            train = train.sample(oversampling_size, replace=True)\n",
    "\n",
    "        trains.append(train)\n",
    "\n",
    "        count += 1\n",
    "        items_count += count_train\n",
    "        \n",
    "        \n",
    "    df_test = pd.concat(tests, sort=False).sample(frac=1).reset_index(drop=True)\n",
    "    # .to_csv(dataset_testset_path, index=False,quoting=csv.QUOTE_ALL)\n",
    "    df_val = pd.concat(validations, sort=False).sample(frac=1).reset_index(drop=True)\n",
    "    df_train = pd.concat(trains, sort=False).sample(frac=1).reset_index(drop=True)\n",
    "\n",
    "    return df_train,df_test,df_val"
   ]
  },
  {
   "cell_type": "code",
   "execution_count": 59,
   "id": "2935be5c-052f-4477-863a-acf7a160b9ea",
   "metadata": {
    "tags": []
   },
   "outputs": [
    {
     "name": "stderr",
     "output_type": "stream",
     "text": [
      "2023-05-22 17:07:13.443612: I tensorflow/core/common_runtime/gpu/gpu_device.cc:1635] Created device /job:localhost/replica:0/task:0/device:GPU:0 with 9574 MB memory:  -> device: 0, name: NVIDIA GeForce RTX 2080 Ti, pci bus id: 0000:65:00.0, compute capability: 7.5\n",
      "2023-05-22 17:07:13.785099: I tensorflow/core/common_runtime/executor.cc:1197] [/device:CPU:0] (DEBUG INFO) Executor start aborting (this does not indicate an error and you can ignore this message): INVALID_ARGUMENT: You must feed a value for placeholder tensor 'Placeholder/_0' with dtype string and shape [11]\n",
      "\t [[{{node Placeholder/_0}}]]\n"
     ]
    },
    {
     "data": {
      "application/vnd.jupyter.widget-view+json": {
       "model_id": "6476b422ef9f4b9e97f7ef7a5af9d47f",
       "version_major": 2,
       "version_minor": 0
      },
      "text/plain": [
       "  0%|          | 0/104169 [00:00<?, ?it/s]"
      ]
     },
     "metadata": {},
     "output_type": "display_data"
    },
    {
     "data": {
      "application/vnd.jupyter.widget-view+json": {
       "model_id": "e79b548a960845a8b862b221d89a3bac",
       "version_major": 2,
       "version_minor": 0
      },
      "text/plain": [
       "  0%|          | 0/104169 [00:00<?, ?it/s]"
      ]
     },
     "metadata": {},
     "output_type": "display_data"
    },
    {
     "data": {
      "application/vnd.jupyter.widget-view+json": {
       "model_id": "f238044d006a4dd99305e9e485ebaa00",
       "version_major": 2,
       "version_minor": 0
      },
      "text/plain": [
       "  0%|          | 0/104169 [00:00<?, ?it/s]"
      ]
     },
     "metadata": {},
     "output_type": "display_data"
    },
    {
     "data": {
      "application/vnd.jupyter.widget-view+json": {
       "model_id": "c3d565097afb486f9e92c4e5346e8ae6",
       "version_major": 2,
       "version_minor": 0
      },
      "text/plain": [
       "  0%|          | 0/104169 [00:00<?, ?it/s]"
      ]
     },
     "metadata": {},
     "output_type": "display_data"
    },
    {
     "data": {
      "application/vnd.jupyter.widget-view+json": {
       "model_id": "c50e8bd8b9354a00bfd703a98f85b9fd",
       "version_major": 2,
       "version_minor": 0
      },
      "text/plain": [
       "  0%|          | 0/104169 [00:00<?, ?it/s]"
      ]
     },
     "metadata": {},
     "output_type": "display_data"
    },
    {
     "name": "stdout",
     "output_type": "stream",
     "text": [
      "oversampling_size: 30\n"
     ]
    }
   ],
   "source": [
    "df_train,df_test,df_val = select_dataset(tracks_df)"
   ]
  },
  {
   "cell_type": "code",
   "execution_count": 60,
   "id": "6ca3a658-7d5e-4bf6-a5e6-40dfe0b4813b",
   "metadata": {},
   "outputs": [
    {
     "data": {
      "text/html": [
       "<div>\n",
       "<style scoped>\n",
       "    .dataframe tbody tr th:only-of-type {\n",
       "        vertical-align: middle;\n",
       "    }\n",
       "\n",
       "    .dataframe tbody tr th {\n",
       "        vertical-align: top;\n",
       "    }\n",
       "\n",
       "    .dataframe thead th {\n",
       "        text-align: right;\n",
       "    }\n",
       "</style>\n",
       "<table border=\"1\" class=\"dataframe\">\n",
       "  <thead>\n",
       "    <tr style=\"text-align: right;\">\n",
       "      <th></th>\n",
       "      <th>track_id</th>\n",
       "      <th>full_genre_id</th>\n",
       "      <th>labels_1</th>\n",
       "      <th>labels_2</th>\n",
       "      <th>labels_3</th>\n",
       "      <th>labels_4</th>\n",
       "      <th>labels_5</th>\n",
       "      <th>feature</th>\n",
       "    </tr>\n",
       "  </thead>\n",
       "  <tbody>\n",
       "    <tr>\n",
       "      <th>0</th>\n",
       "      <td>116707</td>\n",
       "      <td>[17]</td>\n",
       "      <td>13</td>\n",
       "      <td>62</td>\n",
       "      <td>171</td>\n",
       "      <td>387</td>\n",
       "      <td>26</td>\n",
       "      <td>[0.2919386, 0.010471642, 0.24575335, 0.0514789...</td>\n",
       "    </tr>\n",
       "    <tr>\n",
       "      <th>1</th>\n",
       "      <td>101866</td>\n",
       "      <td>[38, 514]</td>\n",
       "      <td>3</td>\n",
       "      <td>77</td>\n",
       "      <td>232</td>\n",
       "      <td>330</td>\n",
       "      <td>67</td>\n",
       "      <td>[0.0074932375, 0.002111127, -0.051343214, -0.0...</td>\n",
       "    </tr>\n",
       "    <tr>\n",
       "      <th>2</th>\n",
       "      <td>34743</td>\n",
       "      <td>[38, 1]</td>\n",
       "      <td>3</td>\n",
       "      <td>24</td>\n",
       "      <td>287</td>\n",
       "      <td>334</td>\n",
       "      <td>63</td>\n",
       "      <td>[0.13210748, -0.028764686, 0.026690245, -0.015...</td>\n",
       "    </tr>\n",
       "    <tr>\n",
       "      <th>3</th>\n",
       "      <td>327</td>\n",
       "      <td>[12, 25, 89]</td>\n",
       "      <td>10</td>\n",
       "      <td>33</td>\n",
       "      <td>180</td>\n",
       "      <td>347</td>\n",
       "      <td>62</td>\n",
       "      <td>[0.0022607148, -0.049402166, 0.036080647, -0.0...</td>\n",
       "    </tr>\n",
       "    <tr>\n",
       "      <th>4</th>\n",
       "      <td>77218</td>\n",
       "      <td>[15, 42]</td>\n",
       "      <td>12</td>\n",
       "      <td>60</td>\n",
       "      <td>266</td>\n",
       "      <td>392</td>\n",
       "      <td>24</td>\n",
       "      <td>[-0.004043897, 0.0030680199, 0.005546093, 0.01...</td>\n",
       "    </tr>\n",
       "    <tr>\n",
       "      <th>...</th>\n",
       "      <td>...</td>\n",
       "      <td>...</td>\n",
       "      <td>...</td>\n",
       "      <td>...</td>\n",
       "      <td>...</td>\n",
       "      <td>...</td>\n",
       "      <td>...</td>\n",
       "      <td>...</td>\n",
       "    </tr>\n",
       "    <tr>\n",
       "      <th>102226</th>\n",
       "      <td>98931</td>\n",
       "      <td>[15, 286]</td>\n",
       "      <td>12</td>\n",
       "      <td>84</td>\n",
       "      <td>160</td>\n",
       "      <td>335</td>\n",
       "      <td>110</td>\n",
       "      <td>[0.023100873, 0.009657304, -0.026914576, 0.045...</td>\n",
       "    </tr>\n",
       "    <tr>\n",
       "      <th>102227</th>\n",
       "      <td>114865</td>\n",
       "      <td>[2, 118]</td>\n",
       "      <td>11</td>\n",
       "      <td>21</td>\n",
       "      <td>290</td>\n",
       "      <td>365</td>\n",
       "      <td>69</td>\n",
       "      <td>[-0.015705734, 0.010014097, -0.019283215, -0.1...</td>\n",
       "    </tr>\n",
       "    <tr>\n",
       "      <th>102228</th>\n",
       "      <td>1323</td>\n",
       "      <td>[15]</td>\n",
       "      <td>12</td>\n",
       "      <td>65</td>\n",
       "      <td>159</td>\n",
       "      <td>342</td>\n",
       "      <td>153</td>\n",
       "      <td>[-0.009881387, -0.0030178826, 0.01275747, -0.0...</td>\n",
       "    </tr>\n",
       "    <tr>\n",
       "      <th>102229</th>\n",
       "      <td>87170</td>\n",
       "      <td>[38]</td>\n",
       "      <td>3</td>\n",
       "      <td>130</td>\n",
       "      <td>265</td>\n",
       "      <td>323</td>\n",
       "      <td>13</td>\n",
       "      <td>[0.21880543, -0.030020038, -0.041636806, 0.115...</td>\n",
       "    </tr>\n",
       "    <tr>\n",
       "      <th>102230</th>\n",
       "      <td>84549</td>\n",
       "      <td>[38]</td>\n",
       "      <td>3</td>\n",
       "      <td>130</td>\n",
       "      <td>265</td>\n",
       "      <td>323</td>\n",
       "      <td>13</td>\n",
       "      <td>[-0.013731648, 0.014799853, 0.050479878, -0.00...</td>\n",
       "    </tr>\n",
       "  </tbody>\n",
       "</table>\n",
       "<p>102231 rows × 8 columns</p>\n",
       "</div>"
      ],
      "text/plain": [
       "       track_id full_genre_id labels_1 labels_2 labels_3 labels_4 labels_5   \n",
       "0        116707          [17]       13       62      171      387       26  \\\n",
       "1        101866     [38, 514]        3       77      232      330       67   \n",
       "2         34743       [38, 1]        3       24      287      334       63   \n",
       "3           327  [12, 25, 89]       10       33      180      347       62   \n",
       "4         77218      [15, 42]       12       60      266      392       24   \n",
       "...         ...           ...      ...      ...      ...      ...      ...   \n",
       "102226    98931     [15, 286]       12       84      160      335      110   \n",
       "102227   114865      [2, 118]       11       21      290      365       69   \n",
       "102228     1323          [15]       12       65      159      342      153   \n",
       "102229    87170          [38]        3      130      265      323       13   \n",
       "102230    84549          [38]        3      130      265      323       13   \n",
       "\n",
       "                                                  feature  \n",
       "0       [0.2919386, 0.010471642, 0.24575335, 0.0514789...  \n",
       "1       [0.0074932375, 0.002111127, -0.051343214, -0.0...  \n",
       "2       [0.13210748, -0.028764686, 0.026690245, -0.015...  \n",
       "3       [0.0022607148, -0.049402166, 0.036080647, -0.0...  \n",
       "4       [-0.004043897, 0.0030680199, 0.005546093, 0.01...  \n",
       "...                                                   ...  \n",
       "102226  [0.023100873, 0.009657304, -0.026914576, 0.045...  \n",
       "102227  [-0.015705734, 0.010014097, -0.019283215, -0.1...  \n",
       "102228  [-0.009881387, -0.0030178826, 0.01275747, -0.0...  \n",
       "102229  [0.21880543, -0.030020038, -0.041636806, 0.115...  \n",
       "102230  [-0.013731648, 0.014799853, 0.050479878, -0.00...  \n",
       "\n",
       "[102231 rows x 8 columns]"
      ]
     },
     "execution_count": 60,
     "metadata": {},
     "output_type": "execute_result"
    }
   ],
   "source": [
    "df_train"
   ]
  },
  {
   "cell_type": "code",
   "execution_count": 61,
   "id": "a882ada1-9d1f-4fc1-9d4c-c2c7a0279557",
   "metadata": {},
   "outputs": [],
   "source": [
    "def _bytes_feature(value):\n",
    "  ### Returns a bytes_list from a string / byte.\"\"\"\n",
    "    if isinstance(value, type(tf.constant(0))): # if value ist tensor\n",
    "        value = value.numpy() # get value of tensor\n",
    "    return tf.train.Feature(bytes_list=tf.train.BytesList(value=value))\n",
    "\n",
    "def _float_feature(value):\n",
    "  ### Returns a floast_list from a float / double.\"\"\"\n",
    "    return tf.train.Feature(float_list=tf.train.FloatList(value=value))\n",
    "\n",
    "def _int64List_feature(value):\n",
    "    return tf.train.Feature(int64_list=tf.train.Int64List(value=value))\n",
    "\n",
    "def _int64_feature(value):\n",
    "  ###  Returns an int64_list from a bool / enum / int / uint.\"\"\"\n",
    "    return tf.train.Feature(int64_list=tf.train.Int64List(value=[value]))\n",
    "\n",
    "def serialize_array(array):\n",
    "    array = tf.io.serialize_tensor(array)\n",
    "    return array"
   ]
  },
  {
   "cell_type": "code",
   "execution_count": 62,
   "id": "847ca375-63be-4f96-8bbe-9346d827c3bd",
   "metadata": {},
   "outputs": [],
   "source": [
    "def parse_single_music(data,labels):\n",
    "    track_id, _, cat1, cat2, cat3, cat4, cat5, music = data\n",
    "    \n",
    "    \n",
    "    label1 = np.array([cat1, labels['label1_count']], np.int64)\n",
    "    label2 = np.array([cat2, labels['label2_count']], np.int64)\n",
    "    label3 = np.array([cat3, labels['label3_count']], np.int64)\n",
    "    label4 = np.array([cat4, labels['label4_count']], np.int64)\n",
    "    label5 = np.array([cat4, labels['label5_count']], np.int64)\n",
    "    \n",
    "    \n",
    "    \n",
    "    #define the dictionary -- the structure -- of our single example\n",
    "    data = {\n",
    "        'label1': _int64List_feature(label1),\n",
    "        'label2': _int64List_feature(label2),\n",
    "        'label3': _int64List_feature(label3),\n",
    "        'label4': _int64List_feature(label4),\n",
    "        'label5': _int64List_feature(label5),\n",
    "        # 'features' : _bytes_feature(serialize_array(music)),\n",
    "        'features' : _float_feature(music),\n",
    "        'track_id' : _int64_feature(track_id)\n",
    "    }\n",
    "    #create an Example, wrapping the single features\n",
    "    out = tf.train.Example(features=tf.train.Features(feature=data))\n",
    "\n",
    "    return out"
   ]
  },
  {
   "cell_type": "code",
   "execution_count": 63,
   "id": "75a8419a-fe56-4e6b-818b-7198f9370311",
   "metadata": {},
   "outputs": [],
   "source": [
    "def generate_tf_record(df,tf_path='val'):\n",
    "    create_dir(tf_path)\n",
    "    \n",
    "    \n",
    "    batch_size = 1024 * 50 # 50k records from each file batch\n",
    "    count = 0\n",
    "    total = math.ceil(len(df) / batch_size)\n",
    "\n",
    "    for i in range(0, len(df), batch_size):\n",
    "        batch_df = df[i:i+batch_size]\n",
    "        \n",
    "        tfrecords = [parse_single_music(data, labels) for data in batch_df.values]\n",
    "        \n",
    "        path = f\"{tf_path}/{str(count).zfill(10)}.tfrecord\"\n",
    "        \n",
    "        #with tf.python_io.TFRecordWriter(path) as writer:\n",
    "        with tf.io.TFRecordWriter(path) as writer:\n",
    "            for tfrecord in tfrecords:\n",
    "                writer.write(tfrecord.SerializeToString())\n",
    "\n",
    "        print(f\"{count} {len(tfrecords)} {path}\")\n",
    "        count += 1\n",
    "        print(f\"{count}/{total} batchs / {count * batch_size} processed\")\n",
    "\n",
    "    print(f\"{count}/{total} batchs / {len(df)} processed\")\n",
    "    \n",
    "    return tf_path\n",
    "\n",
    "    "
   ]
  },
  {
   "cell_type": "code",
   "execution_count": 64,
   "id": "5bc708b4-0cdd-46b6-94b6-66998aaa2c2f",
   "metadata": {},
   "outputs": [
    {
     "data": {
      "text/plain": [
       "'/mnt/disks/data/fma/trains/hierarchical_all/tfrecords'"
      ]
     },
     "execution_count": 64,
     "metadata": {},
     "output_type": "execute_result"
    }
   ],
   "source": [
    "tfrecord_path"
   ]
  },
  {
   "cell_type": "code",
   "execution_count": 65,
   "id": "0149ac30-6fd3-44f6-8a98-e69dd2740419",
   "metadata": {},
   "outputs": [
    {
     "name": "stdout",
     "output_type": "stream",
     "text": [
      "0 1114 /mnt/disks/data/fma/trains/hierarchical_all/tfrecords/val/0000000000.tfrecord\n",
      "1/1 batchs / 51200 processed\n",
      "1/1 batchs / 1114 processed\n"
     ]
    }
   ],
   "source": [
    "val_path = generate_tf_record(df_val,tf_path=os.path.join(tfrecord_path,'val'))"
   ]
  },
  {
   "cell_type": "code",
   "execution_count": 66,
   "id": "770b69f6-8059-4fd7-a514-203302e1bd23",
   "metadata": {},
   "outputs": [
    {
     "name": "stdout",
     "output_type": "stream",
     "text": [
      "0 1125 /mnt/disks/data/fma/trains/hierarchical_all/tfrecords/test/0000000000.tfrecord\n",
      "1/1 batchs / 51200 processed\n",
      "1/1 batchs / 1125 processed\n"
     ]
    }
   ],
   "source": [
    "test_path = generate_tf_record(df_test,tf_path=os.path.join(tfrecord_path,'test'))"
   ]
  },
  {
   "cell_type": "code",
   "execution_count": 67,
   "id": "e9ef95bd-ead5-43ac-83e4-16cc24222a22",
   "metadata": {},
   "outputs": [
    {
     "name": "stdout",
     "output_type": "stream",
     "text": [
      "0 51200 /mnt/disks/data/fma/trains/hierarchical_all/tfrecords/train/0000000000.tfrecord\n",
      "1/2 batchs / 51200 processed\n",
      "1 51031 /mnt/disks/data/fma/trains/hierarchical_all/tfrecords/train/0000000001.tfrecord\n",
      "2/2 batchs / 102400 processed\n",
      "2/2 batchs / 102231 processed\n"
     ]
    }
   ],
   "source": [
    "train_path = generate_tf_record(df_train,tf_path=os.path.join(tfrecord_path,'train'))"
   ]
  },
  {
   "cell_type": "code",
   "execution_count": 68,
   "id": "cd97175f-4b2b-49e0-bb74-84d12a2999a7",
   "metadata": {},
   "outputs": [],
   "source": [
    "def create_metadata(metadata_path):\n",
    "\n",
    "    with open(metadata_path, 'w+') as f:\n",
    "        f.write(json.dumps({\n",
    "            'sequence_size': args.sequence_size,\n",
    "            'n_levels': labels_size,\n",
    "            'labels_size': [labels['label1_count'],labels['label2_count'],\n",
    "                           labels['label3_count'],labels['label4_count'],\n",
    "                           labels['label5_count']],\n",
    "            'val_path': val_path,\n",
    "            'train_path': train_path,\n",
    "            'test_path': test_path,\n",
    "            'trainset_count': len(df_train),\n",
    "            'validationset_count': len(df_val),\n",
    "            'testset_count': len(df_test)\n",
    "        }))"
   ]
  },
  {
   "cell_type": "code",
   "execution_count": 69,
   "id": "39a433f0-af90-4c10-afee-138b9f5c43a6",
   "metadata": {},
   "outputs": [],
   "source": [
    "create_metadata(metadata_path)"
   ]
  },
  {
   "cell_type": "code",
   "execution_count": 70,
   "id": "555117a3-5616-4cc8-9673-6413113f4d46",
   "metadata": {},
   "outputs": [
    {
     "data": {
      "text/plain": [
       "'/mnt/disks/data/fma/trains/hierarchical_all'"
      ]
     },
     "execution_count": 70,
     "metadata": {},
     "output_type": "execute_result"
    }
   ],
   "source": [
    "job_path"
   ]
  },
  {
   "cell_type": "code",
   "execution_count": 71,
   "id": "af5df190-01df-4f13-a475-35132a6712f4",
   "metadata": {},
   "outputs": [],
   "source": [
    "tracks_df.to_csv(os.path.join(job_path,\"tracks.csv\"),index=False)"
   ]
  },
  {
   "cell_type": "code",
   "execution_count": 72,
   "id": "339b8ce0-792b-4c94-b70e-3c031aa7b124",
   "metadata": {},
   "outputs": [],
   "source": [
    "with open(categories_labels_path, 'r') as f:\n",
    "    labels = json.loads(f.read())"
   ]
  },
  {
   "cell_type": "code",
   "execution_count": 73,
   "id": "32421389-d7bb-42aa-99ae-85b777698fc1",
   "metadata": {},
   "outputs": [],
   "source": [
    "levels_size = {'level1_size': labels['label1_count']-1,\n",
    "        'level2_size': labels['label2_count']-1,\n",
    "        'level3_size': labels['label3_count']-1,\n",
    "        'level4_size': labels['label4_count']-1,\n",
    "        'level5_size': labels['label5_count']-1}"
   ]
  },
  {
   "cell_type": "code",
   "execution_count": 74,
   "id": "b50d015a-86cd-40c1-86bf-f034d262d54c",
   "metadata": {},
   "outputs": [
    {
     "data": {
      "text/plain": [
       "15"
      ]
     },
     "execution_count": 74,
     "metadata": {},
     "output_type": "execute_result"
    }
   ],
   "source": [
    "levels_size['level1_size']"
   ]
  }
 ],
 "metadata": {
  "kernelspec": {
   "display_name": "Python 3 (ipykernel)",
   "language": "python",
   "name": "python3"
  },
  "language_info": {
   "codemirror_mode": {
    "name": "ipython",
    "version": 3
   },
   "file_extension": ".py",
   "mimetype": "text/x-python",
   "name": "python",
   "nbconvert_exporter": "python",
   "pygments_lexer": "ipython3",
   "version": "3.10.11"
  }
 },
 "nbformat": 4,
 "nbformat_minor": 5
}
