{
 "cells": [
  {
   "cell_type": "code",
   "execution_count": 8,
   "id": "4d9fb572-bb1b-435a-b329-5c295067093a",
   "metadata": {},
   "outputs": [],
   "source": [
    "import os\n",
    "import json\n",
    "\n",
    "from sklearn.linear_model import LogisticRegression\n",
    "from hiclass import LocalClassifierPerNode\n",
    "\n",
    "import tensorflow as tf\n",
    "import pandas as pd\n",
    "import pickle\n",
    "from tqdm.notebook import tqdm\n",
    "import logging\n",
    "import ast\n"
   ]
  },
  {
   "cell_type": "code",
   "execution_count": 9,
   "id": "f1500e7c-e11f-4e7e-9fb3-ad06f08ca7d7",
   "metadata": {},
   "outputs": [],
   "source": [
    "\n",
    "args = pd.Series({\n",
    "    \"root_dir\":\"/mnt/disks/data/\",\n",
    "    \"dataset_path\":\"/mnt/disks/data/fma/fma_large\",\n",
    "    \"embeddings\":\"music_style\",\n",
    "    \"train_id\": \"hierarchical_all\"\n",
    "})\n"
   ]
  },
  {
   "cell_type": "code",
   "execution_count": 10,
   "id": "de612e34-baf4-4d04-aa16-3a931e2ae188",
   "metadata": {},
   "outputs": [],
   "source": [
    "\n",
    "job_path = \"/mnt/disks/data/fma/trains\"\n",
    "\n",
    "\n",
    "# In[15]:\n",
    "\n",
    "\n",
    "train_path = os.path.join(job_path,args.train_id)\n",
    "\n",
    "\n",
    "# In[16]:\n",
    "\n",
    "\n",
    "base_path = os.path.join(args.root_dir,\"fma\")\n",
    "\n",
    "\n",
    "# In[17]:\n",
    "\n",
    "\n",
    "models_path = os.path.join(args.root_dir,\"models\")\n",
    "\n",
    "\n",
    "metadata_path_fma = os.path.join(base_path,\"fma_metadata\")\n",
    "\n",
    "\n",
    "# In[18]:\n",
    "\n",
    "\n",
    "metadata_file = os.path.join(train_path,\"metadata.json\")\n",
    "\n",
    "\n",
    "labels_file = os.path.join(train_path,\"labels.json\")\n"
   ]
  },
  {
   "cell_type": "code",
   "execution_count": 11,
   "id": "1e024261-df17-48aa-8876-e8cea69e4866",
   "metadata": {},
   "outputs": [],
   "source": [
    "\n",
    "\n",
    "def __load_json__(path):\n",
    "    with open(path, 'r') as f:\n",
    "        tmp = json.loads(f.read())\n",
    "\n",
    "    return tmp\n",
    "\n",
    "\n"
   ]
  },
  {
   "cell_type": "code",
   "execution_count": 12,
   "id": "f0369afd-5070-44a7-b14c-d5a58c762969",
   "metadata": {},
   "outputs": [],
   "source": [
    "\n",
    "def _bytes_feature(value):\n",
    "    \"\"\"Returns a bytes_list from a string / byte.\"\"\"\n",
    "    if isinstance(value, type(tf.constant(0))): # if value ist tensor\n",
    "        value = value.numpy() # get value of tensor\n",
    "    return tf.train.Feature(bytes_list=tf.train.BytesList(value=[value]))\n",
    "\n",
    "def _float_feature(value):\n",
    "  \"\"\"Returns a floast_list from a float / double.\"\"\"\n",
    "  return tf.train.Feature(float_list=tf.train.FloatList(value=[value]))\n",
    "\n",
    "def _int64_feature(value):\n",
    "  \"\"\"Returns an int64_list from a bool / enum / int / uint.\"\"\"\n",
    "  return tf.train.Feature(int64_list=tf.train.Int64List(value=[value]))\n",
    "\n",
    "def serialize_array(array):\n",
    "    array = tf.io.serialize_tensor(array)\n",
    "    return array\n",
    "\n",
    "\n",
    "\n",
    "\n",
    "def parse_tfr_element(element):\n",
    "    #use the same structure as above; it's kinda an outline of the structure we now want to create\n",
    "    data = {\n",
    "        'emb' : tf.io.FixedLenFeature([], tf.string),\n",
    "        'track_id' : tf.io.FixedLenFeature([], tf.int64),\n",
    "    }\n",
    "    \n",
    "    content = tf.io.parse_single_example(element, data)\n",
    "\n",
    "    track_id = content['track_id']\n",
    "    emb = content['emb']\n",
    "    \n",
    "\n",
    "    #get our 'feature'-- our image -- and reshape it appropriately\n",
    "    feature = tf.io.parse_tensor(emb, out_type=tf.float32)\n",
    "    return (feature, track_id)\n",
    "\n",
    "\n",
    "def get_dataset(filename):\n",
    "    #create the dataset\n",
    "    dataset = tf.data.TFRecordDataset(filename)\n",
    "\n",
    "    #pass every single feature through our mapping function\n",
    "    dataset = dataset.map(\n",
    "        parse_tfr_element\n",
    "    )\n",
    "\n",
    "    return dataset\n",
    "\n",
    "\n"
   ]
  },
  {
   "cell_type": "code",
   "execution_count": 13,
   "id": "55db55f5-ab4a-4325-8764-544eb506d885",
   "metadata": {},
   "outputs": [],
   "source": [
    "import numpy as np\n",
    "\n",
    "\n",
    "def load_dataset(path,dataset=args.embeddings):\n",
    "    tfrecords_path = os.path.join(path,'tfrecords',dataset)\n",
    "    \n",
    "    \n",
    "    tfrecords_path = [os.path.join(tfrecords_path,path) for path in os.listdir(tfrecords_path)]\n",
    "    dataset = get_dataset(tfrecords_path)\n",
    "    \n",
    "    df = pd.DataFrame(\n",
    "        dataset.as_numpy_iterator(),\n",
    "        columns=['feature', 'track_id']\n",
    "    )\n",
    "        \n",
    "    df.dropna(inplace=True)\n",
    "    \n",
    "    \n",
    "    try:\n",
    "        df.feature = df.feature.apply(lambda x: x[0] if x.shape[0] != 0 else None)\n",
    "    except:\n",
    "        print(x)\n",
    "    \n",
    "    return df\n",
    "    \n"
   ]
  },
  {
   "cell_type": "code",
   "execution_count": 14,
   "id": "4a9f55ee",
   "metadata": {},
   "outputs": [
    {
     "name": "stderr",
     "output_type": "stream",
     "text": [
      "2023-05-12 16:59:00.779185: I tensorflow/core/common_runtime/gpu/gpu_device.cc:1635] Created device /job:localhost/replica:0/task:0/device:GPU:0 with 8494 MB memory:  -> device: 0, name: NVIDIA GeForce RTX 2080 Ti, pci bus id: 0000:65:00.0, compute capability: 7.5\n",
      "2023-05-12 16:59:03.072236: I tensorflow/core/common_runtime/executor.cc:1197] [/device:CPU:0] (DEBUG INFO) Executor start aborting (this does not indicate an error and you can ignore this message): INVALID_ARGUMENT: You must feed a value for placeholder tensor 'Placeholder/_0' with dtype string and shape [11]\n",
      "\t [[{{node Placeholder/_0}}]]\n"
     ]
    }
   ],
   "source": [
    "df = load_dataset(args.dataset_path,dataset=args.embeddings)"
   ]
  },
  {
   "cell_type": "code",
   "execution_count": 9,
   "id": "09eaba76-bd76-4ff9-aff7-eb913fc46e91",
   "metadata": {},
   "outputs": [
    {
     "name": "stdout",
     "output_type": "stream",
     "text": [
      "                                                  feature  track_id\n",
      "0       [0.0008698702, 0.008201729, 0.018753221, -0.03...    124573\n",
      "1       [-0.00097459555, -0.0051385164, -0.024011323, ...    124574\n",
      "2       [0.039855253, 0.0076441965, -0.00922821, -0.04...    124575\n",
      "3       [0.0029335518, 0.020818433, 0.04269241, -0.016...    124576\n",
      "4       [0.057992022, -0.0510619, -0.048113894, -0.032...    124577\n",
      "...                                                   ...       ...\n",
      "104181  [-0.0080008805, 6.110469e-05, 0.18494046, 0.02...     94245\n",
      "104182  [0.017404526, 0.0132987695, 0.004312843, 0.048...     94246\n",
      "104183  [0.01726994, 0.005624622, 0.10627997, 0.007201...     94247\n",
      "104184  [0.07001238, -3.400445e-05, 0.03528729, 0.0683...     94248\n",
      "104185  [-0.013616562, -0.012981772, -0.0065422454, -0...     94249\n",
      "\n",
      "[104186 rows x 2 columns]\n"
     ]
    }
   ],
   "source": [
    "print(df)"
   ]
  },
  {
   "cell_type": "code",
   "execution_count": 17,
   "id": "1be8365a-1dba-4045-9ab9-26fad70e5533",
   "metadata": {},
   "outputs": [
    {
     "name": "stdout",
     "output_type": "stream",
     "text": [
      "(1280,)\n"
     ]
    }
   ],
   "source": [
    "print(df.feature.iloc[1].shape)"
   ]
  },
  {
   "cell_type": "code",
   "execution_count": 10,
   "id": "512cc653-38d8-4535-b902-d59cda07d506",
   "metadata": {},
   "outputs": [],
   "source": [
    "df.dropna(inplace=True)"
   ]
  },
  {
   "cell_type": "code",
   "execution_count": 11,
   "id": "c80c731a-298c-4477-b96c-9be6ecc6eaef",
   "metadata": {},
   "outputs": [
    {
     "data": {
      "text/html": [
       "<div>\n",
       "<style scoped>\n",
       "    .dataframe tbody tr th:only-of-type {\n",
       "        vertical-align: middle;\n",
       "    }\n",
       "\n",
       "    .dataframe tbody tr th {\n",
       "        vertical-align: top;\n",
       "    }\n",
       "\n",
       "    .dataframe thead th {\n",
       "        text-align: right;\n",
       "    }\n",
       "</style>\n",
       "<table border=\"1\" class=\"dataframe\">\n",
       "  <thead>\n",
       "    <tr style=\"text-align: right;\">\n",
       "      <th></th>\n",
       "      <th>feature</th>\n",
       "      <th>track_id</th>\n",
       "    </tr>\n",
       "  </thead>\n",
       "  <tbody>\n",
       "    <tr>\n",
       "      <th>0</th>\n",
       "      <td>[0.0008698702, 0.008201729, 0.018753221, -0.03...</td>\n",
       "      <td>124573</td>\n",
       "    </tr>\n",
       "    <tr>\n",
       "      <th>1</th>\n",
       "      <td>[-0.00097459555, -0.0051385164, -0.024011323, ...</td>\n",
       "      <td>124574</td>\n",
       "    </tr>\n",
       "    <tr>\n",
       "      <th>2</th>\n",
       "      <td>[0.039855253, 0.0076441965, -0.00922821, -0.04...</td>\n",
       "      <td>124575</td>\n",
       "    </tr>\n",
       "    <tr>\n",
       "      <th>3</th>\n",
       "      <td>[0.0029335518, 0.020818433, 0.04269241, -0.016...</td>\n",
       "      <td>124576</td>\n",
       "    </tr>\n",
       "    <tr>\n",
       "      <th>4</th>\n",
       "      <td>[0.057992022, -0.0510619, -0.048113894, -0.032...</td>\n",
       "      <td>124577</td>\n",
       "    </tr>\n",
       "    <tr>\n",
       "      <th>...</th>\n",
       "      <td>...</td>\n",
       "      <td>...</td>\n",
       "    </tr>\n",
       "    <tr>\n",
       "      <th>104181</th>\n",
       "      <td>[-0.0080008805, 6.110469e-05, 0.18494046, 0.02...</td>\n",
       "      <td>94245</td>\n",
       "    </tr>\n",
       "    <tr>\n",
       "      <th>104182</th>\n",
       "      <td>[0.017404526, 0.0132987695, 0.004312843, 0.048...</td>\n",
       "      <td>94246</td>\n",
       "    </tr>\n",
       "    <tr>\n",
       "      <th>104183</th>\n",
       "      <td>[0.01726994, 0.005624622, 0.10627997, 0.007201...</td>\n",
       "      <td>94247</td>\n",
       "    </tr>\n",
       "    <tr>\n",
       "      <th>104184</th>\n",
       "      <td>[0.07001238, -3.400445e-05, 0.03528729, 0.0683...</td>\n",
       "      <td>94248</td>\n",
       "    </tr>\n",
       "    <tr>\n",
       "      <th>104185</th>\n",
       "      <td>[-0.013616562, -0.012981772, -0.0065422454, -0...</td>\n",
       "      <td>94249</td>\n",
       "    </tr>\n",
       "  </tbody>\n",
       "</table>\n",
       "<p>104170 rows × 2 columns</p>\n",
       "</div>"
      ],
      "text/plain": [
       "                                                  feature  track_id\n",
       "0       [0.0008698702, 0.008201729, 0.018753221, -0.03...    124573\n",
       "1       [-0.00097459555, -0.0051385164, -0.024011323, ...    124574\n",
       "2       [0.039855253, 0.0076441965, -0.00922821, -0.04...    124575\n",
       "3       [0.0029335518, 0.020818433, 0.04269241, -0.016...    124576\n",
       "4       [0.057992022, -0.0510619, -0.048113894, -0.032...    124577\n",
       "...                                                   ...       ...\n",
       "104181  [-0.0080008805, 6.110469e-05, 0.18494046, 0.02...     94245\n",
       "104182  [0.017404526, 0.0132987695, 0.004312843, 0.048...     94246\n",
       "104183  [0.01726994, 0.005624622, 0.10627997, 0.007201...     94247\n",
       "104184  [0.07001238, -3.400445e-05, 0.03528729, 0.0683...     94248\n",
       "104185  [-0.013616562, -0.012981772, -0.0065422454, -0...     94249\n",
       "\n",
       "[104170 rows x 2 columns]"
      ]
     },
     "execution_count": 11,
     "metadata": {},
     "output_type": "execute_result"
    }
   ],
   "source": [
    "df"
   ]
  },
  {
   "cell_type": "code",
   "execution_count": 12,
   "id": "5dc7f941-56f4-43bc-9d35-8fc233bb2a48",
   "metadata": {},
   "outputs": [],
   "source": [
    "tracks_df = pd.read_csv(os.path.join(train_path,\"tracks.csv\"))"
   ]
  },
  {
   "cell_type": "code",
   "execution_count": 13,
   "id": "e58ed135-884f-4a4a-b206-d57b3453ac01",
   "metadata": {},
   "outputs": [
    {
     "data": {
      "text/html": [
       "<div>\n",
       "<style scoped>\n",
       "    .dataframe tbody tr th:only-of-type {\n",
       "        vertical-align: middle;\n",
       "    }\n",
       "\n",
       "    .dataframe tbody tr th {\n",
       "        vertical-align: top;\n",
       "    }\n",
       "\n",
       "    .dataframe thead th {\n",
       "        text-align: right;\n",
       "    }\n",
       "</style>\n",
       "<table border=\"1\" class=\"dataframe\">\n",
       "  <thead>\n",
       "    <tr style=\"text-align: right;\">\n",
       "      <th></th>\n",
       "      <th>track_id</th>\n",
       "      <th>full_genre_id</th>\n",
       "      <th>labels_1</th>\n",
       "      <th>labels_2</th>\n",
       "      <th>labels_3</th>\n",
       "      <th>labels_4</th>\n",
       "      <th>labels_5</th>\n",
       "    </tr>\n",
       "  </thead>\n",
       "  <tbody>\n",
       "    <tr>\n",
       "      <th>0</th>\n",
       "      <td>103580</td>\n",
       "      <td>[17, 103]</td>\n",
       "      <td>17</td>\n",
       "      <td>17-103</td>\n",
       "      <td>17-103-0</td>\n",
       "      <td>17-103-0-0</td>\n",
       "      <td>17-103-0-0-0</td>\n",
       "    </tr>\n",
       "    <tr>\n",
       "      <th>1</th>\n",
       "      <td>101111</td>\n",
       "      <td>[2, 46, 502]</td>\n",
       "      <td>2</td>\n",
       "      <td>2-46</td>\n",
       "      <td>2-46-502</td>\n",
       "      <td>2-46-502-0</td>\n",
       "      <td>2-46-502-0-0</td>\n",
       "    </tr>\n",
       "    <tr>\n",
       "      <th>2</th>\n",
       "      <td>106704</td>\n",
       "      <td>[15]</td>\n",
       "      <td>15</td>\n",
       "      <td>15-0</td>\n",
       "      <td>15-0-0</td>\n",
       "      <td>15-0-0-0</td>\n",
       "      <td>15-0-0-0-0</td>\n",
       "    </tr>\n",
       "    <tr>\n",
       "      <th>3</th>\n",
       "      <td>86412</td>\n",
       "      <td>[4, 97]</td>\n",
       "      <td>4</td>\n",
       "      <td>4-97</td>\n",
       "      <td>4-97-0</td>\n",
       "      <td>4-97-0-0</td>\n",
       "      <td>4-97-0-0-0</td>\n",
       "    </tr>\n",
       "    <tr>\n",
       "      <th>4</th>\n",
       "      <td>51008</td>\n",
       "      <td>[2]</td>\n",
       "      <td>2</td>\n",
       "      <td>2-0</td>\n",
       "      <td>2-0-0</td>\n",
       "      <td>2-0-0-0</td>\n",
       "      <td>2-0-0-0-0</td>\n",
       "    </tr>\n",
       "    <tr>\n",
       "      <th>...</th>\n",
       "      <td>...</td>\n",
       "      <td>...</td>\n",
       "      <td>...</td>\n",
       "      <td>...</td>\n",
       "      <td>...</td>\n",
       "      <td>...</td>\n",
       "      <td>...</td>\n",
       "    </tr>\n",
       "    <tr>\n",
       "      <th>104180</th>\n",
       "      <td>59987</td>\n",
       "      <td>[38, 456]</td>\n",
       "      <td>38</td>\n",
       "      <td>38-456</td>\n",
       "      <td>38-456-0</td>\n",
       "      <td>38-456-0-0</td>\n",
       "      <td>38-456-0-0-0</td>\n",
       "    </tr>\n",
       "    <tr>\n",
       "      <th>104181</th>\n",
       "      <td>8370</td>\n",
       "      <td>[38, 22]</td>\n",
       "      <td>38</td>\n",
       "      <td>38-22</td>\n",
       "      <td>38-22-0</td>\n",
       "      <td>38-22-0-0</td>\n",
       "      <td>38-22-0-0-0</td>\n",
       "    </tr>\n",
       "    <tr>\n",
       "      <th>104182</th>\n",
       "      <td>100857</td>\n",
       "      <td>[1235, 18]</td>\n",
       "      <td>1235</td>\n",
       "      <td>1235-18</td>\n",
       "      <td>1235-18-0</td>\n",
       "      <td>1235-18-0-0</td>\n",
       "      <td>1235-18-0-0-0</td>\n",
       "    </tr>\n",
       "    <tr>\n",
       "      <th>104183</th>\n",
       "      <td>140400</td>\n",
       "      <td>[38]</td>\n",
       "      <td>38</td>\n",
       "      <td>38-0</td>\n",
       "      <td>38-0-0</td>\n",
       "      <td>38-0-0-0</td>\n",
       "      <td>38-0-0-0-0</td>\n",
       "    </tr>\n",
       "    <tr>\n",
       "      <th>104184</th>\n",
       "      <td>106576</td>\n",
       "      <td>[1235, 107]</td>\n",
       "      <td>1235</td>\n",
       "      <td>1235-107</td>\n",
       "      <td>1235-107-0</td>\n",
       "      <td>1235-107-0-0</td>\n",
       "      <td>1235-107-0-0-0</td>\n",
       "    </tr>\n",
       "  </tbody>\n",
       "</table>\n",
       "<p>104185 rows × 7 columns</p>\n",
       "</div>"
      ],
      "text/plain": [
       "        track_id full_genre_id  labels_1  labels_2    labels_3      labels_4  \\\n",
       "0         103580     [17, 103]        17    17-103    17-103-0    17-103-0-0   \n",
       "1         101111  [2, 46, 502]         2      2-46    2-46-502    2-46-502-0   \n",
       "2         106704          [15]        15      15-0      15-0-0      15-0-0-0   \n",
       "3          86412       [4, 97]         4      4-97      4-97-0      4-97-0-0   \n",
       "4          51008           [2]         2       2-0       2-0-0       2-0-0-0   \n",
       "...          ...           ...       ...       ...         ...           ...   \n",
       "104180     59987     [38, 456]        38    38-456    38-456-0    38-456-0-0   \n",
       "104181      8370      [38, 22]        38     38-22     38-22-0     38-22-0-0   \n",
       "104182    100857    [1235, 18]      1235   1235-18   1235-18-0   1235-18-0-0   \n",
       "104183    140400          [38]        38      38-0      38-0-0      38-0-0-0   \n",
       "104184    106576   [1235, 107]      1235  1235-107  1235-107-0  1235-107-0-0   \n",
       "\n",
       "              labels_5  \n",
       "0         17-103-0-0-0  \n",
       "1         2-46-502-0-0  \n",
       "2           15-0-0-0-0  \n",
       "3           4-97-0-0-0  \n",
       "4            2-0-0-0-0  \n",
       "...                ...  \n",
       "104180    38-456-0-0-0  \n",
       "104181     38-22-0-0-0  \n",
       "104182   1235-18-0-0-0  \n",
       "104183      38-0-0-0-0  \n",
       "104184  1235-107-0-0-0  \n",
       "\n",
       "[104185 rows x 7 columns]"
      ]
     },
     "execution_count": 13,
     "metadata": {},
     "output_type": "execute_result"
    }
   ],
   "source": [
    "tracks_df"
   ]
  },
  {
   "cell_type": "code",
   "execution_count": 14,
   "id": "84371fd1-f1f6-42a4-9d4e-209525e6b181",
   "metadata": {},
   "outputs": [],
   "source": [
    "labels = __load_json__(labels_file)"
   ]
  },
  {
   "cell_type": "code",
   "execution_count": 15,
   "id": "95ee8372-0865-4a6f-aa5d-e5508d37c27b",
   "metadata": {
    "collapsed": true,
    "jupyter": {
     "outputs_hidden": true
    },
    "tags": []
   },
   "outputs": [
    {
     "data": {
      "text/plain": [
       "{'17-103': 16,\n",
       " '2-118': 17,\n",
       " '12-66': 18,\n",
       " '4-179': 19,\n",
       " '38-6': 20,\n",
       " '12-88': 21,\n",
       " '20-465': 22,\n",
       " '38-125': 23,\n",
       " '13-0': 24,\n",
       " '12-27': 25,\n",
       " '15-184': 26,\n",
       " '12-25': 27,\n",
       " '2-177': 28,\n",
       " '21-539': 29,\n",
       " '1235-267': 30,\n",
       " '17-180': 31,\n",
       " '5-441': 32,\n",
       " '15-0': 33,\n",
       " '20-7': 34,\n",
       " '10-76': 35,\n",
       " '13-810': 36,\n",
       " '38-1': 37,\n",
       " '15-236': 38,\n",
       " '5-443': 39,\n",
       " '12-31': 40,\n",
       " '12-45': 41,\n",
       " '12-70': 42,\n",
       " '17-49': 43,\n",
       " '2-117': 44,\n",
       " '1235-0': 45,\n",
       " '5-659': 46,\n",
       " '2-46': 47,\n",
       " '3-0': 48,\n",
       " '15-337': 49,\n",
       " '9-0': 50,\n",
       " '5-444': 51,\n",
       " '21-580': 52,\n",
       " '2-176': 53,\n",
       " '2-77': 54,\n",
       " '1235-107': 55,\n",
       " '12-314': 56,\n",
       " '20-374': 57,\n",
       " '12-36': 58,\n",
       " '13-170': 59,\n",
       " '12-440': 60,\n",
       " '17-0': 61,\n",
       " '4-0': 62,\n",
       " '12-359': 63,\n",
       " '38-514': 64,\n",
       " '4-74': 65,\n",
       " '15-185': 66,\n",
       " '38-250': 67,\n",
       " '38-224': 68,\n",
       " '2-92': 69,\n",
       " '2-0': 70,\n",
       " '15-468': 71,\n",
       " '21-100': 72,\n",
       " '15-286': 73,\n",
       " '2-504': 74,\n",
       " '38-22': 75,\n",
       " '38-456': 76,\n",
       " '12-0': 77,\n",
       " '21-693': 78,\n",
       " '15-181': 79,\n",
       " '14-0': 80,\n",
       " '2-130': 81,\n",
       " '38-32': 82,\n",
       " '1235-18': 83,\n",
       " '5-0': 84,\n",
       " '20-138': 85,\n",
       " '2-86': 86,\n",
       " '12-58': 87,\n",
       " '15-495': 88,\n",
       " '2-79': 89,\n",
       " '38-186': 90,\n",
       " '15-297': 91,\n",
       " '21-542': 92,\n",
       " '9-651': 93,\n",
       " '20-65': 94,\n",
       " '38-41': 95,\n",
       " '3-567': 96,\n",
       " '38-0': 97,\n",
       " '15-183': 98,\n",
       " '8-0': 99,\n",
       " '15-42': 100,\n",
       " '15-182': 101,\n",
       " '38-247': 102,\n",
       " '38-47': 103,\n",
       " '4-97': 104,\n",
       " '13-311': 105,\n",
       " '2-171': 106,\n",
       " '38-30': 107,\n",
       " '10-0': 108,\n",
       " '12-26': 109,\n",
       " '12-85': 110,\n",
       " '2-232': 111,\n",
       " '14-11': 112,\n",
       " '20-188': 113,\n",
       " '17-94': 114,\n",
       " '12-98': 115,\n",
       " '10-362': 116,\n",
       " '9-63': 117,\n",
       " '2-172': 118,\n",
       " '9-137': 119,\n",
       " '15-695': 120,\n",
       " '4-906': 121,\n",
       " '20-428': 122,\n",
       " '5-187': 123,\n",
       " '20-0': 124,\n",
       " '2-102': 125,\n",
       " '9-169': 126,\n",
       " '5-442': 127,\n",
       " '5-322': 128,\n",
       " '20-378': 129,\n",
       " '21-0': 130,\n",
       " '15-296': 131,\n",
       " '14-19': 132,\n",
       " '4-37': 133,\n",
       " '21-811': 134,\n",
       " '17-33': 135,\n",
       " '21-83': 136}"
      ]
     },
     "execution_count": 15,
     "metadata": {},
     "output_type": "execute_result"
    }
   ],
   "source": [
    "labels['label2']"
   ]
  },
  {
   "cell_type": "code",
   "execution_count": 16,
   "id": "d4d2ea80-6443-4553-9bd2-5d559a718594",
   "metadata": {},
   "outputs": [],
   "source": [
    "tqdm.pandas()"
   ]
  },
  {
   "cell_type": "code",
   "execution_count": null,
   "id": "c9bc6e91-7522-41d9-b1fb-0c536e9b6d4a",
   "metadata": {},
   "outputs": [],
   "source": [
    "# tracks_df.loc[:,'labels_1'] = tracks_df.labels_1.astype(str).progress_apply(lambda x: labels['label1'][x])\n",
    "\n",
    "# tracks_df.loc[:,'labels_2'] = tracks_df.labels_2.astype(str).progress_apply(lambda x: labels['label2'][x])\n",
    "\n",
    "# tracks_df.loc[:,'labels_3'] = tracks_df.labels_3.astype(str).progress_apply(lambda x: labels['label3'][x])\n",
    "\n",
    "# tracks_df.loc[:,'labels_4'] = tracks_df.labels_4.astype(str).progress_apply(lambda x: labels['label4'][x])\n",
    "\n",
    "# tracks_df.loc[:,'labels_5'] = tracks_df.labels_5.astype(str).progress_apply(lambda x: labels['label5'][x])\n"
   ]
  },
  {
   "cell_type": "code",
   "execution_count": 18,
   "id": "29b16dec-27e3-4304-8daa-3b3ee7d1ed85",
   "metadata": {},
   "outputs": [],
   "source": [
    "tracks_df = tracks_df.merge(df, on='track_id')"
   ]
  },
  {
   "cell_type": "code",
   "execution_count": 19,
   "id": "71b60a4c-723b-4a37-a49e-cc0f32ca05fa",
   "metadata": {},
   "outputs": [],
   "source": [
    "# genres_df = tracks_df.drop_duplicates(subset=['labels_5'])[['labels_1','labels_2','labels_3','labels_4','labels_5']]\n",
    "# genres_df = tracks_df.drop_duplicates(subset=['labels_2'])[['labels_1','labels_2','labels_3','labels_4']]"
   ]
  },
  {
   "cell_type": "code",
   "execution_count": 20,
   "id": "f2997159-fd08-448b-9565-6dade087116f",
   "metadata": {},
   "outputs": [],
   "source": [
    "from sklearn import svm\n",
    "from sklearn import tree\n",
    "from sklearn.preprocessing import Binarizer\n",
    "from sklearn.preprocessing import LabelEncoder\n",
    "from sklearn.decomposition import TruncatedSVD\n",
    "from sklearn.metrics import classification_report\n",
    "from sklearn.model_selection import train_test_split\n",
    "from sklearn.pipeline import make_pipeline"
   ]
  },
  {
   "cell_type": "code",
   "execution_count": 21,
   "id": "f1aee729-2c55-4a83-be7c-61a6eaf38b93",
   "metadata": {},
   "outputs": [
    {
     "data": {
      "text/plain": [
       "0            [17, 103]\n",
       "1         [2, 46, 502]\n",
       "2                 [15]\n",
       "3              [4, 97]\n",
       "4                  [2]\n",
       "              ...     \n",
       "104164       [38, 456]\n",
       "104165        [38, 22]\n",
       "104166      [1235, 18]\n",
       "104167            [38]\n",
       "104168     [1235, 107]\n",
       "Name: full_genre_id, Length: 104169, dtype: object"
      ]
     },
     "execution_count": 21,
     "metadata": {},
     "output_type": "execute_result"
    }
   ],
   "source": [
    "tracks_df['full_genre_id']"
   ]
  },
  {
   "cell_type": "code",
   "execution_count": 22,
   "id": "d8f01c83-e69b-415a-b84d-d0e7a23e8d7a",
   "metadata": {},
   "outputs": [],
   "source": [
    "tracks_df['full_genre_id'] = tracks_df.full_genre_id.apply(lambda x: ast.literal_eval(x))"
   ]
  },
  {
   "cell_type": "code",
   "execution_count": null,
   "id": "8ac6a590-93f0-4918-9cbb-aeb3564740b9",
   "metadata": {
    "tags": []
   },
   "outputs": [],
   "source": [
    "X_train, X_test, y_train, y_test = train_test_split(\n",
    "    tracks_df.feature.values.tolist(),\n",
    "    tracks_df.full_genre_id.values.tolist(),\n",
    "    test_size=0.05,\n",
    "    random_state=25,\n",
    "    stratify=tracks_df.full_genre_id.values,\n",
    ")\n"
   ]
  },
  {
   "cell_type": "code",
   "execution_count": 25,
   "id": "78bc3253-2dca-44dd-9add-052b4550ed8f",
   "metadata": {},
   "outputs": [],
   "source": [
    "import xgboost as xgb"
   ]
  },
  {
   "cell_type": "code",
   "execution_count": 26,
   "id": "4ca20cda-03df-41aa-9ebd-02d33d9d4519",
   "metadata": {},
   "outputs": [],
   "source": [
    "xgb_model = xgb.XGBClassifier(random_state=42,eval_metric=\"auc\",n_jobs=20)"
   ]
  },
  {
   "cell_type": "code",
   "execution_count": 27,
   "id": "870c13d6-8e7b-4dc6-a5e7-c79cd2b7488a",
   "metadata": {},
   "outputs": [],
   "source": [
    "# Show all messages, including ones pertaining to debugging\n",
    "xgb.set_config(verbosity=0)\n",
    "\n",
    "# Get current value of global configuration\n",
    "# This is a dict containing all parameters in the global configuration,\n",
    "# including 'verbosity'\n",
    "config = xgb.get_config()\n",
    "assert config['verbosity'] == 0\n",
    "\n",
    "# Example of using the context manager xgb.config_context().\n",
    "# The context manager will restore the previous value of the global\n",
    "# configuration upon exiting.\n",
    "assert xgb.get_config()['verbosity'] == 0  # old value restored"
   ]
  },
  {
   "cell_type": "code",
   "execution_count": 28,
   "id": "f164dc3a-f47e-4256-9e33-450ca1a1fb55",
   "metadata": {},
   "outputs": [],
   "source": [
    "# xgb_model.fit(df_train.Feature.values.tolist()[:100], df_train.Label.values.tolist()[:100], eval_set=[(df_val.Feature.values.tolist(), df_val.Label.values.tolist())])"
   ]
  },
  {
   "cell_type": "code",
   "execution_count": 29,
   "id": "23668cac-7365-4ee6-9ae2-7da5cc249c2b",
   "metadata": {},
   "outputs": [],
   "source": [
    "# Use random forest classifiers for every node\n",
    "logistic_estimator = LogisticRegression(penalty='l2',n_jobs=8,multi_class='multinomial',max_iter=1000)"
   ]
  },
  {
   "cell_type": "code",
   "execution_count": 30,
   "id": "778c2ceb-bc9a-4d66-917a-39304f80ee74",
   "metadata": {},
   "outputs": [],
   "source": [
    "svm_estimator = make_pipeline(\n",
    "    svm.SVC(\n",
    "        kernel=\"rbf\",\n",
    "        probability=True\n",
    "    ),\n",
    ")\n"
   ]
  },
  {
   "cell_type": "code",
   "execution_count": 31,
   "id": "6f917b1d-cbb6-4a51-9c90-ac0695605c7d",
   "metadata": {},
   "outputs": [],
   "source": [
    "xgb_estimator = xgb.XGBClassifier(random_state=42,eval_metric=\"auc\",n_jobs=20)"
   ]
  },
  {
   "cell_type": "code",
   "execution_count": 32,
   "id": "1fc0b77d-7181-49e2-b45f-b9dab8eebb2e",
   "metadata": {},
   "outputs": [],
   "source": [
    "tree_estimator = tree.DecisionTreeClassifier(min_samples_leaf=7,max_features='sqrt')\n"
   ]
  },
  {
   "cell_type": "code",
   "execution_count": 33,
   "id": "dbfcc0f7-d520-4c55-a188-d8d409616610",
   "metadata": {},
   "outputs": [],
   "source": [
    "classifier = LocalClassifierPerNode(local_classifier=xgb_estimator,n_jobs=8,verbose=1)"
   ]
  },
  {
   "cell_type": "code",
   "execution_count": null,
   "id": "0913ac85-1c2a-4524-956f-6f853eb457c3",
   "metadata": {},
   "outputs": [
    {
     "name": "stderr",
     "output_type": "stream",
     "text": [
      "/home/bruno/.local/lib/python3.10/site-packages/sklearn/utils/_array_api.py:185: VisibleDeprecationWarning: Creating an ndarray from ragged nested sequences (which is a list-or-tuple of lists-or-tuples-or ndarrays with different lengths or shapes) is deprecated. If you meant to do this, you must specify 'dtype=object' when creating the ndarray.\n",
      "  array = numpy.asarray(array, order=order, dtype=dtype)\n",
      "2023-04-24 22:25:17,620 - LCPN - INFO - Creating digraph from 98960 2D labels\n",
      "2023-04-24 22:25:18,692 - LCPN - INFO - Detected 16 roots\n",
      "2023-04-24 22:25:18,693 - LCPN - INFO - Initializing local classifiers\n",
      "2023-04-24 22:25:18,702 - LCPN - INFO - Initializing siblings binary policy\n",
      "2023-04-24 22:25:18,703 - LCPN - INFO - Fitting local classifiers\n",
      "/home/bruno/anaconda3/lib/python3.10/site-packages/xgboost/core.py:617: FutureWarning: Pass `sample_weight` as keyword args.\n",
      "  warnings.warn(msg, FutureWarning)\n",
      "/home/bruno/anaconda3/lib/python3.10/site-packages/xgboost/core.py:617: FutureWarning: Pass `sample_weight` as keyword args.\n",
      "  warnings.warn(msg, FutureWarning)\n",
      "/home/bruno/anaconda3/lib/python3.10/site-packages/xgboost/core.py:617: FutureWarning: Pass `sample_weight` as keyword args.\n",
      "  warnings.warn(msg, FutureWarning)\n",
      "/home/bruno/anaconda3/lib/python3.10/site-packages/xgboost/core.py:617: FutureWarning: Pass `sample_weight` as keyword args.\n",
      "  warnings.warn(msg, FutureWarning)\n",
      "/home/bruno/anaconda3/lib/python3.10/site-packages/xgboost/core.py:617: FutureWarning: Pass `sample_weight` as keyword args.\n",
      "  warnings.warn(msg, FutureWarning)\n",
      "/home/bruno/anaconda3/lib/python3.10/site-packages/xgboost/core.py:617: FutureWarning: Pass `sample_weight` as keyword args.\n",
      "  warnings.warn(msg, FutureWarning)\n",
      "/home/bruno/anaconda3/lib/python3.10/site-packages/xgboost/core.py:617: FutureWarning: Pass `sample_weight` as keyword args.\n",
      "  warnings.warn(msg, FutureWarning)\n",
      "/home/bruno/anaconda3/lib/python3.10/site-packages/xgboost/core.py:617: FutureWarning: Pass `sample_weight` as keyword args.\n",
      "  warnings.warn(msg, FutureWarning)\n"
     ]
    }
   ],
   "source": [
    "model = classifier.fit(X_train, y_train)"
   ]
  },
  {
   "cell_type": "code",
   "execution_count": null,
   "id": "f696d06d-fb13-4dc8-a8ee-f5e175f0bae7",
   "metadata": {},
   "outputs": [],
   "source": [
    "filename = os.path.join(train_path,'lxgb.model')\n",
    "pickle.dump(model, open(filename, 'wb'))\n"
   ]
  },
  {
   "cell_type": "code",
   "execution_count": null,
   "id": "7042ecd2-5def-49b0-8fb4-b4da71b1400b",
   "metadata": {
    "tags": []
   },
   "outputs": [],
   "source": [
    "y_pred = model.predict(X_test)"
   ]
  },
  {
   "cell_type": "code",
   "execution_count": null,
   "id": "166e08a8-82f6-4723-bb4f-8c2d864a647d",
   "metadata": {},
   "outputs": [],
   "source": [
    "print(\"Classification Report:\\n\", classification_report([int(x[0]) for x in y_test], [int(x[0]) for x in y_pred]))"
   ]
  },
  {
   "cell_type": "code",
   "execution_count": null,
   "id": "8ab97fc5-dc46-474e-be8d-79b3cce3a412",
   "metadata": {},
   "outputs": [],
   "source": []
  }
 ],
 "metadata": {
  "kernelspec": {
   "display_name": "Python 3 (ipykernel)",
   "language": "python",
   "name": "python3"
  },
  "language_info": {
   "codemirror_mode": {
    "name": "ipython",
    "version": 3
   },
   "file_extension": ".py",
   "mimetype": "text/x-python",
   "name": "python",
   "nbconvert_exporter": "python",
   "pygments_lexer": "ipython3",
   "version": "3.11.3"
  }
 },
 "nbformat": 4,
 "nbformat_minor": 5
}
