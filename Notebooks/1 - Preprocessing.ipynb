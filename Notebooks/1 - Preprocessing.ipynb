{
 "cells": [
  {
   "cell_type": "code",
   "execution_count": 83,
   "id": "4843caad-aa4a-420d-81f8-dcc1189318c6",
   "metadata": {
    "tags": []
   },
   "outputs": [],
   "source": [
    "import pandas as pd\n",
    "import numpy as np\n",
    "import tensorflow as tf\n",
    "import json\n",
    "import ast\n",
    "import os\n",
    "import csv\n",
    "import math\n",
    "from sklearn.utils import shuffle\n",
    "from math import ceil\n",
    "\n",
    "from sklearn.model_selection import train_test_split\n",
    "from tqdm.notebook import tqdm"
   ]
  },
  {
   "cell_type": "code",
   "execution_count": 4,
   "id": "47f36844-bc15-46f4-8994-6744042b62cd",
   "metadata": {},
   "outputs": [],
   "source": [
    "tqdm.pandas()"
   ]
  },
  {
   "cell_type": "code",
   "execution_count": 5,
   "id": "194b058a-a5c5-4d87-817d-aeb9e833cc2b",
   "metadata": {},
   "outputs": [],
   "source": [
    "\n",
    "args = pd.Series({\n",
    "    \"root_dir\":\"/mnt/disks/data/\",\n",
    "    \"dataset_path\":\"/mnt/disks/data/fma/fma_large\",\n",
    "    \"embeddings\":\"music_style\",\n",
    "    \"sequence_size\": 1280,\n",
    "    \"train_id\": \"hierarchical_top_sample\",\n",
    "    'sample_size': 0.1\n",
    "})\n"
   ]
  },
  {
   "cell_type": "code",
   "execution_count": 74,
   "id": "87f3fe25-bd80-4976-ba77-ab30589a9cd6",
   "metadata": {},
   "outputs": [],
   "source": [
    "\n",
    "job_path = \"/mnt/disks/data/fma/trains\"\n",
    "\n",
    "# In[15]:\n",
    "\n",
    "train_path = os.path.join(job_path,args.train_id)\n",
    "\n",
    "\n",
    "tfrecord_path = os.path.join(train_path,\"tfrecords\")\n",
    "\n",
    "# In[16]:\n",
    "\n",
    "base_path = os.path.join(args.root_dir,\"fma\")\n",
    "\n",
    "# In[17]:\n",
    "\n",
    "models_path = os.path.join(args.root_dir,\"models\")\n",
    "\n",
    "\n",
    "metadata_path_fma = os.path.join(base_path,\"fma_metadata\")\n",
    "\n",
    "# In[18]:\n",
    "\n",
    "metadata_path = os.path.join(train_path,\"metadata.json\")\n",
    "\n",
    "\n",
    "categories_labels_path = os.path.join(train_path,\"labels.json\")\n"
   ]
  },
  {
   "cell_type": "code",
   "execution_count": 7,
   "id": "ffea2009-fdc3-425e-bd6b-a67696ab24da",
   "metadata": {},
   "outputs": [],
   "source": [
    "\n",
    "\n",
    "def __load_json__(path):\n",
    "    with open(path, 'r') as f:\n",
    "        tmp = json.loads(f.read())\n",
    "\n",
    "    return tmp\n",
    "\n",
    "\n"
   ]
  },
  {
   "cell_type": "code",
   "execution_count": 8,
   "id": "b413d7a2",
   "metadata": {},
   "outputs": [],
   "source": [
    "\n",
    "def create_dir(path):\n",
    "    # checking if the directory demo_folder2 \n",
    "    # exist or not.\n",
    "    if not os.path.isdir(path):\n",
    "\n",
    "        # if the demo_folder2 directory is \n",
    "        # not present then create it.\n",
    "        os.makedirs(path)\n",
    "    return True\n",
    "\n"
   ]
  },
  {
   "cell_type": "code",
   "execution_count": 9,
   "id": "be2f0fcc",
   "metadata": {},
   "outputs": [
    {
     "data": {
      "text/plain": [
       "True"
      ]
     },
     "execution_count": 9,
     "metadata": {},
     "output_type": "execute_result"
    }
   ],
   "source": [
    "create_dir(train_path)"
   ]
  },
  {
   "cell_type": "markdown",
   "id": "6ab3d0b4-fc7f-4c73-b0cc-9d89729bae84",
   "metadata": {
    "tags": []
   },
   "source": [
    "## Load genres file. Contains relationships beetwen genres"
   ]
  },
  {
   "cell_type": "code",
   "execution_count": 10,
   "id": "7596e665-526e-400b-93ad-432cb7eb0d79",
   "metadata": {},
   "outputs": [],
   "source": [
    "genres_df = pd.read_csv(os.path.join(metadata_path_fma,'genres.csv'))\n"
   ]
  },
  {
   "cell_type": "code",
   "execution_count": 11,
   "id": "582b4335-bf69-4c9a-873e-ffd8253ede25",
   "metadata": {},
   "outputs": [
    {
     "data": {
      "text/html": [
       "<div>\n",
       "<style scoped>\n",
       "    .dataframe tbody tr th:only-of-type {\n",
       "        vertical-align: middle;\n",
       "    }\n",
       "\n",
       "    .dataframe tbody tr th {\n",
       "        vertical-align: top;\n",
       "    }\n",
       "\n",
       "    .dataframe thead th {\n",
       "        text-align: right;\n",
       "    }\n",
       "</style>\n",
       "<table border=\"1\" class=\"dataframe\">\n",
       "  <thead>\n",
       "    <tr style=\"text-align: right;\">\n",
       "      <th></th>\n",
       "      <th>genre_id</th>\n",
       "      <th>#tracks</th>\n",
       "      <th>parent</th>\n",
       "      <th>title</th>\n",
       "      <th>top_level</th>\n",
       "    </tr>\n",
       "  </thead>\n",
       "  <tbody>\n",
       "    <tr>\n",
       "      <th>0</th>\n",
       "      <td>1</td>\n",
       "      <td>8693</td>\n",
       "      <td>38</td>\n",
       "      <td>Avant-Garde</td>\n",
       "      <td>38</td>\n",
       "    </tr>\n",
       "    <tr>\n",
       "      <th>1</th>\n",
       "      <td>2</td>\n",
       "      <td>5271</td>\n",
       "      <td>0</td>\n",
       "      <td>International</td>\n",
       "      <td>2</td>\n",
       "    </tr>\n",
       "    <tr>\n",
       "      <th>2</th>\n",
       "      <td>3</td>\n",
       "      <td>1752</td>\n",
       "      <td>0</td>\n",
       "      <td>Blues</td>\n",
       "      <td>3</td>\n",
       "    </tr>\n",
       "    <tr>\n",
       "      <th>3</th>\n",
       "      <td>4</td>\n",
       "      <td>4126</td>\n",
       "      <td>0</td>\n",
       "      <td>Jazz</td>\n",
       "      <td>4</td>\n",
       "    </tr>\n",
       "    <tr>\n",
       "      <th>4</th>\n",
       "      <td>5</td>\n",
       "      <td>4106</td>\n",
       "      <td>0</td>\n",
       "      <td>Classical</td>\n",
       "      <td>5</td>\n",
       "    </tr>\n",
       "    <tr>\n",
       "      <th>...</th>\n",
       "      <td>...</td>\n",
       "      <td>...</td>\n",
       "      <td>...</td>\n",
       "      <td>...</td>\n",
       "      <td>...</td>\n",
       "    </tr>\n",
       "    <tr>\n",
       "      <th>158</th>\n",
       "      <td>1032</td>\n",
       "      <td>60</td>\n",
       "      <td>102</td>\n",
       "      <td>Turkish</td>\n",
       "      <td>2</td>\n",
       "    </tr>\n",
       "    <tr>\n",
       "      <th>159</th>\n",
       "      <td>1060</td>\n",
       "      <td>30</td>\n",
       "      <td>46</td>\n",
       "      <td>Tango</td>\n",
       "      <td>2</td>\n",
       "    </tr>\n",
       "    <tr>\n",
       "      <th>160</th>\n",
       "      <td>1156</td>\n",
       "      <td>26</td>\n",
       "      <td>130</td>\n",
       "      <td>Fado</td>\n",
       "      <td>2</td>\n",
       "    </tr>\n",
       "    <tr>\n",
       "      <th>161</th>\n",
       "      <td>1193</td>\n",
       "      <td>72</td>\n",
       "      <td>763</td>\n",
       "      <td>Christmas</td>\n",
       "      <td>38</td>\n",
       "    </tr>\n",
       "    <tr>\n",
       "      <th>162</th>\n",
       "      <td>1235</td>\n",
       "      <td>14938</td>\n",
       "      <td>0</td>\n",
       "      <td>Instrumental</td>\n",
       "      <td>1235</td>\n",
       "    </tr>\n",
       "  </tbody>\n",
       "</table>\n",
       "<p>163 rows × 5 columns</p>\n",
       "</div>"
      ],
      "text/plain": [
       "     genre_id  #tracks  parent          title  top_level\n",
       "0           1     8693      38    Avant-Garde         38\n",
       "1           2     5271       0  International          2\n",
       "2           3     1752       0          Blues          3\n",
       "3           4     4126       0           Jazz          4\n",
       "4           5     4106       0      Classical          5\n",
       "..        ...      ...     ...            ...        ...\n",
       "158      1032       60     102        Turkish          2\n",
       "159      1060       30      46          Tango          2\n",
       "160      1156       26     130           Fado          2\n",
       "161      1193       72     763      Christmas         38\n",
       "162      1235    14938       0   Instrumental       1235\n",
       "\n",
       "[163 rows x 5 columns]"
      ]
     },
     "execution_count": 11,
     "metadata": {},
     "output_type": "execute_result"
    }
   ],
   "source": [
    "genres_df"
   ]
  },
  {
   "cell_type": "code",
   "execution_count": 12,
   "id": "d80be793-93db-4610-ae66-5f14bf99bd2b",
   "metadata": {},
   "outputs": [
    {
     "data": {
      "text/html": [
       "<div>\n",
       "<style scoped>\n",
       "    .dataframe tbody tr th:only-of-type {\n",
       "        vertical-align: middle;\n",
       "    }\n",
       "\n",
       "    .dataframe tbody tr th {\n",
       "        vertical-align: top;\n",
       "    }\n",
       "\n",
       "    .dataframe thead th {\n",
       "        text-align: right;\n",
       "    }\n",
       "</style>\n",
       "<table border=\"1\" class=\"dataframe\">\n",
       "  <thead>\n",
       "    <tr style=\"text-align: right;\">\n",
       "      <th></th>\n",
       "      <th>genre_id</th>\n",
       "      <th>#tracks</th>\n",
       "      <th>parent</th>\n",
       "      <th>title</th>\n",
       "      <th>top_level</th>\n",
       "    </tr>\n",
       "  </thead>\n",
       "  <tbody>\n",
       "    <tr>\n",
       "      <th>136</th>\n",
       "      <td>495</td>\n",
       "      <td>2061</td>\n",
       "      <td>15</td>\n",
       "      <td>Downtempo</td>\n",
       "      <td>15</td>\n",
       "    </tr>\n",
       "  </tbody>\n",
       "</table>\n",
       "</div>"
      ],
      "text/plain": [
       "     genre_id  #tracks  parent      title  top_level\n",
       "136       495     2061      15  Downtempo         15"
      ]
     },
     "execution_count": 12,
     "metadata": {},
     "output_type": "execute_result"
    }
   ],
   "source": [
    "genres_df[genres_df['genre_id'] == 495]"
   ]
  },
  {
   "cell_type": "code",
   "execution_count": 13,
   "id": "28762aaf-32a4-41a5-af9c-cee3eca712ad",
   "metadata": {},
   "outputs": [],
   "source": [
    "# Cria um dicionário que associa o ID de cada música aos IDs de seus gêneros musicais\n",
    "tracks_df = pd.read_csv(os.path.join(metadata_path_fma,'tracks_valid.csv'))"
   ]
  },
  {
   "cell_type": "code",
   "execution_count": 14,
   "id": "13ea402f-660b-4b95-8f91-563c01971578",
   "metadata": {},
   "outputs": [],
   "source": [
    "tracks_df = tracks_df.sample(frac=args.sample_size)"
   ]
  },
  {
   "cell_type": "code",
   "execution_count": 15,
   "id": "552289c1-6b0d-48a9-8cd9-a185c12f6c9a",
   "metadata": {},
   "outputs": [
    {
     "data": {
      "text/html": [
       "<div>\n",
       "<style scoped>\n",
       "    .dataframe tbody tr th:only-of-type {\n",
       "        vertical-align: middle;\n",
       "    }\n",
       "\n",
       "    .dataframe tbody tr th {\n",
       "        vertical-align: top;\n",
       "    }\n",
       "\n",
       "    .dataframe thead th {\n",
       "        text-align: right;\n",
       "    }\n",
       "</style>\n",
       "<table border=\"1\" class=\"dataframe\">\n",
       "  <thead>\n",
       "    <tr style=\"text-align: right;\">\n",
       "      <th></th>\n",
       "      <th>track_id</th>\n",
       "      <th>track_title</th>\n",
       "      <th>valid_genre</th>\n",
       "    </tr>\n",
       "  </thead>\n",
       "  <tbody>\n",
       "    <tr>\n",
       "      <th>49066</th>\n",
       "      <td>73374</td>\n",
       "      <td>Musta Tupa Ja Perunamaa</td>\n",
       "      <td>['38', '47', '49']</td>\n",
       "    </tr>\n",
       "    <tr>\n",
       "      <th>93808</th>\n",
       "      <td>140274</td>\n",
       "      <td>Elegant Culture</td>\n",
       "      <td>['15']</td>\n",
       "    </tr>\n",
       "    <tr>\n",
       "      <th>37800</th>\n",
       "      <td>58084</td>\n",
       "      <td>Fear</td>\n",
       "      <td>['27', '314', '362']</td>\n",
       "    </tr>\n",
       "    <tr>\n",
       "      <th>78967</th>\n",
       "      <td>120608</td>\n",
       "      <td>Hyperpiano 4a-4d</td>\n",
       "      <td>['1', '30', '38', '41', '247']</td>\n",
       "    </tr>\n",
       "    <tr>\n",
       "      <th>40064</th>\n",
       "      <td>60907</td>\n",
       "      <td>Tilt</td>\n",
       "      <td>['1', '38', '42']</td>\n",
       "    </tr>\n",
       "    <tr>\n",
       "      <th>57887</th>\n",
       "      <td>87091</td>\n",
       "      <td>Farewell</td>\n",
       "      <td>['26', '38', '107']</td>\n",
       "    </tr>\n",
       "    <tr>\n",
       "      <th>99106</th>\n",
       "      <td>147686</td>\n",
       "      <td>Playground Pigeon</td>\n",
       "      <td>['1235']</td>\n",
       "    </tr>\n",
       "    <tr>\n",
       "      <th>81020</th>\n",
       "      <td>123456</td>\n",
       "      <td>Solphadeen - Demo Tape Track 3</td>\n",
       "      <td>['18']</td>\n",
       "    </tr>\n",
       "    <tr>\n",
       "      <th>64220</th>\n",
       "      <td>98383</td>\n",
       "      <td>RENEWED RIVALRY</td>\n",
       "      <td>['1', '4', '5', '38', '41', '322']</td>\n",
       "    </tr>\n",
       "    <tr>\n",
       "      <th>101093</th>\n",
       "      <td>150266</td>\n",
       "      <td>Here</td>\n",
       "      <td>['18', '107', '1235']</td>\n",
       "    </tr>\n",
       "    <tr>\n",
       "      <th>1672</th>\n",
       "      <td>2126</td>\n",
       "      <td>Mergatroid</td>\n",
       "      <td>['12']</td>\n",
       "    </tr>\n",
       "    <tr>\n",
       "      <th>34343</th>\n",
       "      <td>52867</td>\n",
       "      <td>Conceptuality/Life/Game of Universe (w/ Willia...</td>\n",
       "      <td>['1', '38', '659']</td>\n",
       "    </tr>\n",
       "    <tr>\n",
       "      <th>74354</th>\n",
       "      <td>114637</td>\n",
       "      <td>jenscape</td>\n",
       "      <td>['10', '15', '38']</td>\n",
       "    </tr>\n",
       "    <tr>\n",
       "      <th>389</th>\n",
       "      <td>622</td>\n",
       "      <td>Paper Cup</td>\n",
       "      <td>['17']</td>\n",
       "    </tr>\n",
       "    <tr>\n",
       "      <th>15169</th>\n",
       "      <td>24768</td>\n",
       "      <td>Ajisai</td>\n",
       "      <td>['42', '76', '172']</td>\n",
       "    </tr>\n",
       "    <tr>\n",
       "      <th>59368</th>\n",
       "      <td>90801</td>\n",
       "      <td>An Attempt of Infinite Invasion (888 Steps)</td>\n",
       "      <td>['22', '47']</td>\n",
       "    </tr>\n",
       "    <tr>\n",
       "      <th>36728</th>\n",
       "      <td>56652</td>\n",
       "      <td>Bad Time</td>\n",
       "      <td>['25', '85']</td>\n",
       "    </tr>\n",
       "    <tr>\n",
       "      <th>51920</th>\n",
       "      <td>78983</td>\n",
       "      <td>Beginning (Words From Dat Kidd)</td>\n",
       "      <td>['21']</td>\n",
       "    </tr>\n",
       "    <tr>\n",
       "      <th>38282</th>\n",
       "      <td>58748</td>\n",
       "      <td>BWV 549: Prelude and Fugue in C Minor - 1. Pra...</td>\n",
       "      <td>['5']</td>\n",
       "    </tr>\n",
       "    <tr>\n",
       "      <th>84366</th>\n",
       "      <td>127910</td>\n",
       "      <td>Set You Off</td>\n",
       "      <td>['10']</td>\n",
       "    </tr>\n",
       "  </tbody>\n",
       "</table>\n",
       "</div>"
      ],
      "text/plain": [
       "        track_id                                        track_title  \\\n",
       "49066      73374                            Musta Tupa Ja Perunamaa   \n",
       "93808     140274                                    Elegant Culture   \n",
       "37800      58084                                               Fear   \n",
       "78967     120608                                   Hyperpiano 4a-4d   \n",
       "40064      60907                                               Tilt   \n",
       "57887      87091                                           Farewell   \n",
       "99106     147686                                  Playground Pigeon   \n",
       "81020     123456                     Solphadeen - Demo Tape Track 3   \n",
       "64220      98383                                    RENEWED RIVALRY   \n",
       "101093    150266                                               Here   \n",
       "1672        2126                                         Mergatroid   \n",
       "34343      52867  Conceptuality/Life/Game of Universe (w/ Willia...   \n",
       "74354     114637                                           jenscape   \n",
       "389          622                                          Paper Cup   \n",
       "15169      24768                                             Ajisai   \n",
       "59368      90801        An Attempt of Infinite Invasion (888 Steps)   \n",
       "36728      56652                                           Bad Time   \n",
       "51920      78983                    Beginning (Words From Dat Kidd)   \n",
       "38282      58748  BWV 549: Prelude and Fugue in C Minor - 1. Pra...   \n",
       "84366     127910                                        Set You Off   \n",
       "\n",
       "                               valid_genre  \n",
       "49066                   ['38', '47', '49']  \n",
       "93808                               ['15']  \n",
       "37800                 ['27', '314', '362']  \n",
       "78967       ['1', '30', '38', '41', '247']  \n",
       "40064                    ['1', '38', '42']  \n",
       "57887                  ['26', '38', '107']  \n",
       "99106                             ['1235']  \n",
       "81020                               ['18']  \n",
       "64220   ['1', '4', '5', '38', '41', '322']  \n",
       "101093               ['18', '107', '1235']  \n",
       "1672                                ['12']  \n",
       "34343                   ['1', '38', '659']  \n",
       "74354                   ['10', '15', '38']  \n",
       "389                                 ['17']  \n",
       "15169                  ['42', '76', '172']  \n",
       "59368                         ['22', '47']  \n",
       "36728                         ['25', '85']  \n",
       "51920                               ['21']  \n",
       "38282                                ['5']  \n",
       "84366                               ['10']  "
      ]
     },
     "execution_count": 15,
     "metadata": {},
     "output_type": "execute_result"
    }
   ],
   "source": [
    "tracks_df.sample(20)"
   ]
  },
  {
   "cell_type": "code",
   "execution_count": 16,
   "id": "fa6c0adc-32c6-4a14-a9aa-f0af12eacbf1",
   "metadata": {},
   "outputs": [
    {
     "data": {
      "text/plain": [
       "array([\"['15', '64']\", \"['15', '32', '47', '58', '76', '250']\",\n",
       "       \"['22', '38']\", ..., \"['107']\", \"['38', '183', '236']\",\n",
       "       \"['15', '38', '58']\"], dtype=object)"
      ]
     },
     "execution_count": 16,
     "metadata": {},
     "output_type": "execute_result"
    }
   ],
   "source": [
    "tracks_df.valid_genre.values"
   ]
  },
  {
   "cell_type": "code",
   "execution_count": 17,
   "id": "31ad48bd-2868-46ed-81e6-02b6b26e2b1c",
   "metadata": {},
   "outputs": [
    {
     "data": {
      "text/plain": [
       "85419                       Knives Cut\n",
       "18565              Looking in a mirror\n",
       "5837                              1990\n",
       "9740     Now What Do You Think of That\n",
       "2898         spanish lady 00000 ending\n",
       "                     ...              \n",
       "42606                     I Don't Care\n",
       "52163                    Cyborg Sniper\n",
       "74138                         Thinking\n",
       "40505                 Doepfer Fantasie\n",
       "40820               The Final Bro Down\n",
       "Name: track_title, Length: 10419, dtype: object"
      ]
     },
     "execution_count": 17,
     "metadata": {},
     "output_type": "execute_result"
    }
   ],
   "source": [
    "tracks_df.track_title"
   ]
  },
  {
   "cell_type": "code",
   "execution_count": 18,
   "id": "220d2eb1-95ba-41d8-9499-bd6278ef473a",
   "metadata": {},
   "outputs": [],
   "source": [
    "## Get complete genre structure\n",
    "def get_all_structure(estrutura,df_genres):\n",
    "    ## Get structure from df_genres\n",
    "    def get_all_structure_from_df(estrutura,df_genres,structure=[]):\n",
    "        if estrutura == 0:\n",
    "            return structure\n",
    "        else:\n",
    "            structure.append(int(estrutura))\n",
    "            get_all_structure_from_df(df_genres[df_genres[\"genre_id\"]==int(estrutura)].parent.values[0],df_genres,structure)\n",
    "            return structure\n",
    "    \n",
    "    return get_all_structure_from_df(estrutura,df_genres,structure=[])\n",
    "    "
   ]
  },
  {
   "cell_type": "code",
   "execution_count": 19,
   "id": "2e89c7be-57eb-46bf-8506-b966ab685b50",
   "metadata": {},
   "outputs": [],
   "source": [
    "# tracks_df['valid_genre'] = tracks_df.track_genres.apply(lambda x: x.strip('][').split(', ') if x != '[]' else None)\n",
    "tracks_df['valid_genre'] = tracks_df.valid_genre.apply(lambda x: ast.literal_eval(x))"
   ]
  },
  {
   "cell_type": "code",
   "execution_count": 20,
   "id": "b50f6d87-8a38-4b6a-92b7-c10a559de965",
   "metadata": {},
   "outputs": [],
   "source": [
    "tracks_df['last_genre_id'] = tracks_df.valid_genre.apply(lambda x:x[-1] if x != None else None)"
   ]
  },
  {
   "cell_type": "code",
   "execution_count": 21,
   "id": "5c1ccfaf-ad6a-4f6c-87d6-b6e8a74a8d0c",
   "metadata": {},
   "outputs": [
    {
     "data": {
      "text/html": [
       "<div>\n",
       "<style scoped>\n",
       "    .dataframe tbody tr th:only-of-type {\n",
       "        vertical-align: middle;\n",
       "    }\n",
       "\n",
       "    .dataframe tbody tr th {\n",
       "        vertical-align: top;\n",
       "    }\n",
       "\n",
       "    .dataframe thead th {\n",
       "        text-align: right;\n",
       "    }\n",
       "</style>\n",
       "<table border=\"1\" class=\"dataframe\">\n",
       "  <thead>\n",
       "    <tr style=\"text-align: right;\">\n",
       "      <th></th>\n",
       "      <th>track_id</th>\n",
       "      <th>track_title</th>\n",
       "      <th>valid_genre</th>\n",
       "      <th>last_genre_id</th>\n",
       "    </tr>\n",
       "  </thead>\n",
       "  <tbody>\n",
       "    <tr>\n",
       "      <th>75363</th>\n",
       "      <td>115979</td>\n",
       "      <td>Pianochocolate - Smell of the sea</td>\n",
       "      <td>[5, 1235]</td>\n",
       "      <td>1235</td>\n",
       "    </tr>\n",
       "    <tr>\n",
       "      <th>10162</th>\n",
       "      <td>16941</td>\n",
       "      <td>Fields 3</td>\n",
       "      <td>[38, 47]</td>\n",
       "      <td>47</td>\n",
       "    </tr>\n",
       "    <tr>\n",
       "      <th>60347</th>\n",
       "      <td>92180</td>\n",
       "      <td>The Handyman's Lament</td>\n",
       "      <td>[12, 17, 103]</td>\n",
       "      <td>103</td>\n",
       "    </tr>\n",
       "    <tr>\n",
       "      <th>89405</th>\n",
       "      <td>134309</td>\n",
       "      <td>Wild</td>\n",
       "      <td>[17, 66, 103]</td>\n",
       "      <td>103</td>\n",
       "    </tr>\n",
       "    <tr>\n",
       "      <th>53126</th>\n",
       "      <td>80962</td>\n",
       "      <td>Compliance 2</td>\n",
       "      <td>[1, 38, 188]</td>\n",
       "      <td>188</td>\n",
       "    </tr>\n",
       "    <tr>\n",
       "      <th>83885</th>\n",
       "      <td>127294</td>\n",
       "      <td>Autopsy</td>\n",
       "      <td>[10]</td>\n",
       "      <td>10</td>\n",
       "    </tr>\n",
       "    <tr>\n",
       "      <th>23192</th>\n",
       "      <td>36707</td>\n",
       "      <td>Moja Krypta</td>\n",
       "      <td>[101]</td>\n",
       "      <td>101</td>\n",
       "    </tr>\n",
       "    <tr>\n",
       "      <th>12749</th>\n",
       "      <td>21069</td>\n",
       "      <td>Call From Restricted</td>\n",
       "      <td>[66]</td>\n",
       "      <td>66</td>\n",
       "    </tr>\n",
       "    <tr>\n",
       "      <th>86571</th>\n",
       "      <td>130909</td>\n",
       "      <td>Purification</td>\n",
       "      <td>[15, 240, 297]</td>\n",
       "      <td>297</td>\n",
       "    </tr>\n",
       "    <tr>\n",
       "      <th>26739</th>\n",
       "      <td>41615</td>\n",
       "      <td>Track 3</td>\n",
       "      <td>[31, 32, 38, 47]</td>\n",
       "      <td>47</td>\n",
       "    </tr>\n",
       "    <tr>\n",
       "      <th>19924</th>\n",
       "      <td>32197</td>\n",
       "      <td>Orygun</td>\n",
       "      <td>[76, 224]</td>\n",
       "      <td>224</td>\n",
       "    </tr>\n",
       "    <tr>\n",
       "      <th>39783</th>\n",
       "      <td>60559</td>\n",
       "      <td>Bitter Business</td>\n",
       "      <td>[15, 21, 468]</td>\n",
       "      <td>468</td>\n",
       "    </tr>\n",
       "    <tr>\n",
       "      <th>36976</th>\n",
       "      <td>56957</td>\n",
       "      <td>George</td>\n",
       "      <td>[15, 224, 906]</td>\n",
       "      <td>906</td>\n",
       "    </tr>\n",
       "    <tr>\n",
       "      <th>2731</th>\n",
       "      <td>4685</td>\n",
       "      <td>Ever Somber</td>\n",
       "      <td>[21]</td>\n",
       "      <td>21</td>\n",
       "    </tr>\n",
       "    <tr>\n",
       "      <th>2189</th>\n",
       "      <td>3906</td>\n",
       "      <td>Sometimes</td>\n",
       "      <td>[17]</td>\n",
       "      <td>17</td>\n",
       "    </tr>\n",
       "    <tr>\n",
       "      <th>71837</th>\n",
       "      <td>111501</td>\n",
       "      <td>nxPE-2014-11-14_05_35_10</td>\n",
       "      <td>[1, 30, 38, 41, 247]</td>\n",
       "      <td>247</td>\n",
       "    </tr>\n",
       "    <tr>\n",
       "      <th>2117</th>\n",
       "      <td>3828</td>\n",
       "      <td>Part 03</td>\n",
       "      <td>[1, 138]</td>\n",
       "      <td>138</td>\n",
       "    </tr>\n",
       "    <tr>\n",
       "      <th>62059</th>\n",
       "      <td>95240</td>\n",
       "      <td>Nousevat</td>\n",
       "      <td>[42, 47, 107]</td>\n",
       "      <td>107</td>\n",
       "    </tr>\n",
       "    <tr>\n",
       "      <th>3301</th>\n",
       "      <td>5964</td>\n",
       "      <td>Our Tears Help The Flowers Grow</td>\n",
       "      <td>[15, 70, 71]</td>\n",
       "      <td>71</td>\n",
       "    </tr>\n",
       "    <tr>\n",
       "      <th>73817</th>\n",
       "      <td>113953</td>\n",
       "      <td>Desert</td>\n",
       "      <td>[33, 88, 495, 810]</td>\n",
       "      <td>810</td>\n",
       "    </tr>\n",
       "  </tbody>\n",
       "</table>\n",
       "</div>"
      ],
      "text/plain": [
       "       track_id                        track_title           valid_genre  \\\n",
       "75363    115979  Pianochocolate - Smell of the sea             [5, 1235]   \n",
       "10162     16941                           Fields 3              [38, 47]   \n",
       "60347     92180              The Handyman's Lament         [12, 17, 103]   \n",
       "89405    134309                               Wild         [17, 66, 103]   \n",
       "53126     80962                       Compliance 2          [1, 38, 188]   \n",
       "83885    127294                            Autopsy                  [10]   \n",
       "23192     36707                        Moja Krypta                 [101]   \n",
       "12749     21069               Call From Restricted                  [66]   \n",
       "86571    130909                       Purification        [15, 240, 297]   \n",
       "26739     41615                            Track 3      [31, 32, 38, 47]   \n",
       "19924     32197                             Orygun             [76, 224]   \n",
       "39783     60559                    Bitter Business         [15, 21, 468]   \n",
       "36976     56957                             George        [15, 224, 906]   \n",
       "2731       4685                        Ever Somber                  [21]   \n",
       "2189       3906                          Sometimes                  [17]   \n",
       "71837    111501           nxPE-2014-11-14_05_35_10  [1, 30, 38, 41, 247]   \n",
       "2117       3828                            Part 03              [1, 138]   \n",
       "62059     95240                           Nousevat         [42, 47, 107]   \n",
       "3301       5964    Our Tears Help The Flowers Grow          [15, 70, 71]   \n",
       "73817    113953                             Desert    [33, 88, 495, 810]   \n",
       "\n",
       "      last_genre_id  \n",
       "75363          1235  \n",
       "10162            47  \n",
       "60347           103  \n",
       "89405           103  \n",
       "53126           188  \n",
       "83885            10  \n",
       "23192           101  \n",
       "12749            66  \n",
       "86571           297  \n",
       "26739            47  \n",
       "19924           224  \n",
       "39783           468  \n",
       "36976           906  \n",
       "2731             21  \n",
       "2189             17  \n",
       "71837           247  \n",
       "2117            138  \n",
       "62059           107  \n",
       "3301             71  \n",
       "73817           810  "
      ]
     },
     "execution_count": 21,
     "metadata": {},
     "output_type": "execute_result"
    }
   ],
   "source": [
    "tracks_df.sample(20)"
   ]
  },
  {
   "cell_type": "code",
   "execution_count": 22,
   "id": "f5de1c7f-c2b6-487a-83bc-974ddb99008a",
   "metadata": {},
   "outputs": [],
   "source": [
    "tracks_df.dropna(inplace=True)"
   ]
  },
  {
   "cell_type": "code",
   "execution_count": 23,
   "id": "fcb10f3d-d6fa-4e7b-a4f0-d8536a1a2898",
   "metadata": {},
   "outputs": [
    {
     "data": {
      "text/html": [
       "<div>\n",
       "<style scoped>\n",
       "    .dataframe tbody tr th:only-of-type {\n",
       "        vertical-align: middle;\n",
       "    }\n",
       "\n",
       "    .dataframe tbody tr th {\n",
       "        vertical-align: top;\n",
       "    }\n",
       "\n",
       "    .dataframe thead th {\n",
       "        text-align: right;\n",
       "    }\n",
       "</style>\n",
       "<table border=\"1\" class=\"dataframe\">\n",
       "  <thead>\n",
       "    <tr style=\"text-align: right;\">\n",
       "      <th></th>\n",
       "      <th>track_id</th>\n",
       "      <th>track_title</th>\n",
       "      <th>valid_genre</th>\n",
       "      <th>last_genre_id</th>\n",
       "    </tr>\n",
       "  </thead>\n",
       "  <tbody>\n",
       "    <tr>\n",
       "      <th>85419</th>\n",
       "      <td>129446</td>\n",
       "      <td>Knives Cut</td>\n",
       "      <td>[15, 64]</td>\n",
       "      <td>64</td>\n",
       "    </tr>\n",
       "    <tr>\n",
       "      <th>18565</th>\n",
       "      <td>30107</td>\n",
       "      <td>Looking in a mirror</td>\n",
       "      <td>[15, 32, 47, 58, 76, 250]</td>\n",
       "      <td>250</td>\n",
       "    </tr>\n",
       "    <tr>\n",
       "      <th>5837</th>\n",
       "      <td>10990</td>\n",
       "      <td>1990</td>\n",
       "      <td>[22, 38]</td>\n",
       "      <td>38</td>\n",
       "    </tr>\n",
       "    <tr>\n",
       "      <th>9740</th>\n",
       "      <td>16385</td>\n",
       "      <td>Now What Do You Think of That</td>\n",
       "      <td>[8]</td>\n",
       "      <td>8</td>\n",
       "    </tr>\n",
       "    <tr>\n",
       "      <th>2898</th>\n",
       "      <td>4895</td>\n",
       "      <td>spanish lady 00000 ending</td>\n",
       "      <td>[30, 65]</td>\n",
       "      <td>65</td>\n",
       "    </tr>\n",
       "    <tr>\n",
       "      <th>...</th>\n",
       "      <td>...</td>\n",
       "      <td>...</td>\n",
       "      <td>...</td>\n",
       "      <td>...</td>\n",
       "    </tr>\n",
       "    <tr>\n",
       "      <th>42606</th>\n",
       "      <td>64488</td>\n",
       "      <td>I Don't Care</td>\n",
       "      <td>[25, 85]</td>\n",
       "      <td>85</td>\n",
       "    </tr>\n",
       "    <tr>\n",
       "      <th>52163</th>\n",
       "      <td>79547</td>\n",
       "      <td>Cyborg Sniper</td>\n",
       "      <td>[15, 38]</td>\n",
       "      <td>38</td>\n",
       "    </tr>\n",
       "    <tr>\n",
       "      <th>74138</th>\n",
       "      <td>114374</td>\n",
       "      <td>Thinking</td>\n",
       "      <td>[107]</td>\n",
       "      <td>107</td>\n",
       "    </tr>\n",
       "    <tr>\n",
       "      <th>40505</th>\n",
       "      <td>61644</td>\n",
       "      <td>Doepfer Fantasie</td>\n",
       "      <td>[38, 183, 236]</td>\n",
       "      <td>236</td>\n",
       "    </tr>\n",
       "    <tr>\n",
       "      <th>40820</th>\n",
       "      <td>62104</td>\n",
       "      <td>The Final Bro Down</td>\n",
       "      <td>[15, 38, 58]</td>\n",
       "      <td>58</td>\n",
       "    </tr>\n",
       "  </tbody>\n",
       "</table>\n",
       "<p>10419 rows × 4 columns</p>\n",
       "</div>"
      ],
      "text/plain": [
       "       track_id                    track_title                valid_genre  \\\n",
       "85419    129446                     Knives Cut                   [15, 64]   \n",
       "18565     30107            Looking in a mirror  [15, 32, 47, 58, 76, 250]   \n",
       "5837      10990                           1990                   [22, 38]   \n",
       "9740      16385  Now What Do You Think of That                        [8]   \n",
       "2898       4895      spanish lady 00000 ending                   [30, 65]   \n",
       "...         ...                            ...                        ...   \n",
       "42606     64488                   I Don't Care                   [25, 85]   \n",
       "52163     79547                  Cyborg Sniper                   [15, 38]   \n",
       "74138    114374                       Thinking                      [107]   \n",
       "40505     61644               Doepfer Fantasie             [38, 183, 236]   \n",
       "40820     62104             The Final Bro Down               [15, 38, 58]   \n",
       "\n",
       "      last_genre_id  \n",
       "85419            64  \n",
       "18565           250  \n",
       "5837             38  \n",
       "9740              8  \n",
       "2898             65  \n",
       "...             ...  \n",
       "42606            85  \n",
       "52163            38  \n",
       "74138           107  \n",
       "40505           236  \n",
       "40820            58  \n",
       "\n",
       "[10419 rows x 4 columns]"
      ]
     },
     "execution_count": 23,
     "metadata": {},
     "output_type": "execute_result"
    }
   ],
   "source": [
    "tracks_df"
   ]
  },
  {
   "cell_type": "code",
   "execution_count": 24,
   "id": "8f713133-f471-4ca5-b7b1-ab06109bb31b",
   "metadata": {
    "tags": []
   },
   "outputs": [
    {
     "data": {
      "application/vnd.jupyter.widget-view+json": {
       "model_id": "1a4c71a719bb4c6b95686ee23645a0ca",
       "version_major": 2,
       "version_minor": 0
      },
      "text/plain": [
       "  0%|          | 0/10419 [00:00<?, ?it/s]"
      ]
     },
     "metadata": {},
     "output_type": "display_data"
    }
   ],
   "source": [
    "tracks_df['full_genre_id'] = tracks_df.last_genre_id.progress_apply(lambda x: get_all_structure(x,genres_df)[::-1])"
   ]
  },
  {
   "cell_type": "code",
   "execution_count": 25,
   "id": "69d80106-b330-4749-8aee-d2fbc451ecfb",
   "metadata": {},
   "outputs": [
    {
     "data": {
      "text/plain": [
       "[38]              645\n",
       "[1235]            624\n",
       "[10, 76]          453\n",
       "[1235, 107]       425\n",
       "[21]              347\n",
       "                 ... \n",
       "[2, 130, 1156]      2\n",
       "[20]                1\n",
       "[2, 117]            1\n",
       "[2, 232]            1\n",
       "[2, 86, 174]        1\n",
       "Name: full_genre_id, Length: 152, dtype: int64"
      ]
     },
     "execution_count": 25,
     "metadata": {},
     "output_type": "execute_result"
    }
   ],
   "source": [
    "tracks_df.full_genre_id.value_counts()"
   ]
  },
  {
   "cell_type": "code",
   "execution_count": 26,
   "id": "8cf91d85-a298-4064-aecc-4370639ea929",
   "metadata": {},
   "outputs": [
    {
     "data": {
      "text/plain": [
       "Index(['track_id', 'track_title', 'valid_genre', 'last_genre_id',\n",
       "       'full_genre_id'],\n",
       "      dtype='object')"
      ]
     },
     "execution_count": 26,
     "metadata": {},
     "output_type": "execute_result"
    }
   ],
   "source": [
    "tracks_df.columns"
   ]
  },
  {
   "cell_type": "code",
   "execution_count": 27,
   "id": "d7b72dad-6dfa-46c3-84ac-10602c852524",
   "metadata": {},
   "outputs": [],
   "source": [
    "tracks_df = tracks_df[['track_id','full_genre_id']]"
   ]
  },
  {
   "cell_type": "code",
   "execution_count": 28,
   "id": "c7d35e82-a0b0-4bda-be5e-f69340a00385",
   "metadata": {},
   "outputs": [
    {
     "data": {
      "text/plain": [
       "array([list([12, 25, 64]), list([38, 250]), list([38]), ...,\n",
       "       list([1235, 107]), list([15, 236]), list([12, 58])], dtype=object)"
      ]
     },
     "execution_count": 28,
     "metadata": {},
     "output_type": "execute_result"
    }
   ],
   "source": [
    "tracks_df.full_genre_id.values"
   ]
  },
  {
   "cell_type": "code",
   "execution_count": 29,
   "id": "14106678-2380-40d6-8373-edf1fda9b3af",
   "metadata": {},
   "outputs": [
    {
     "data": {
      "text/plain": [
       "<bound method Series.info of 85419    [12, 25, 64]\n",
       "18565       [38, 250]\n",
       "5837             [38]\n",
       "9740              [8]\n",
       "2898         [20, 65]\n",
       "             ...     \n",
       "42606        [12, 85]\n",
       "52163            [38]\n",
       "74138     [1235, 107]\n",
       "40505       [15, 236]\n",
       "40820        [12, 58]\n",
       "Name: full_genre_id, Length: 10419, dtype: object>"
      ]
     },
     "execution_count": 29,
     "metadata": {},
     "output_type": "execute_result"
    }
   ],
   "source": [
    "tracks_df.full_genre_id.info"
   ]
  },
  {
   "cell_type": "code",
   "execution_count": 30,
   "id": "90068602-0c57-4e10-bd9b-64cd1c8d8ad8",
   "metadata": {},
   "outputs": [],
   "source": [
    "labels_size = tracks_df.full_genre_id.apply(lambda x: len(x))"
   ]
  },
  {
   "cell_type": "code",
   "execution_count": 31,
   "id": "70f2351f-2f55-4979-84c2-0cb142887a78",
   "metadata": {},
   "outputs": [],
   "source": [
    "labels_size = labels_size.max()"
   ]
  },
  {
   "cell_type": "code",
   "execution_count": 32,
   "id": "e1f6ac31-ca09-4e44-a120-cd4534cd851e",
   "metadata": {},
   "outputs": [
    {
     "data": {
      "text/plain": [
       "5"
      ]
     },
     "execution_count": 32,
     "metadata": {},
     "output_type": "execute_result"
    }
   ],
   "source": [
    "labels_size"
   ]
  },
  {
   "cell_type": "markdown",
   "id": "74827c2e-072a-4213-9b96-f7bb24dee80e",
   "metadata": {},
   "source": [
    "### Parse of label to structure"
   ]
  },
  {
   "cell_type": "code",
   "execution_count": 33,
   "id": "093a84f2-25d1-4f95-81e5-c51e73933e95",
   "metadata": {},
   "outputs": [],
   "source": [
    "### Function for parse label to sctructure of hierarhical scheme\n",
    "\n",
    "def parse_label(label,label_size=5):\n",
    "    # label = label.split('-')\n",
    "    # preencher com 0 no caso de haver menos de 5 níveis\n",
    "    labels = np.zeros(label_size,dtype=int)\n",
    "    for i, label in enumerate(label):\n",
    "        if i == 5:\n",
    "            break\n",
    "        # Aqui você pode fazer a conversão do label em um índice inteiro usando um dicionário ou outro método\n",
    "        # Neste exemplo, estou apenas usando a posição da label na lista como índice\n",
    "        labels[i] = label\n",
    "    return labels"
   ]
  },
  {
   "cell_type": "code",
   "execution_count": 34,
   "id": "2a6adb21-c145-4c82-ba79-798d02c7d2fd",
   "metadata": {},
   "outputs": [],
   "source": [
    "parsed_labels = tracks_df.full_genre_id.apply(lambda x: parse_label(x))"
   ]
  },
  {
   "cell_type": "code",
   "execution_count": 35,
   "id": "5981a36f-cb76-4d1f-8bfe-7e58f3b002e5",
   "metadata": {},
   "outputs": [
    {
     "data": {
      "text/plain": [
       "85419    [12, 25, 64]\n",
       "18565       [38, 250]\n",
       "5837             [38]\n",
       "9740              [8]\n",
       "2898         [20, 65]\n",
       "             ...     \n",
       "42606        [12, 85]\n",
       "52163            [38]\n",
       "74138     [1235, 107]\n",
       "40505       [15, 236]\n",
       "40820        [12, 58]\n",
       "Name: full_genre_id, Length: 10419, dtype: object"
      ]
     },
     "execution_count": 35,
     "metadata": {},
     "output_type": "execute_result"
    }
   ],
   "source": [
    "tracks_df['full_genre_id']"
   ]
  },
  {
   "cell_type": "code",
   "execution_count": 36,
   "id": "d60b077d-993f-4cbb-a66b-407d97dba96e",
   "metadata": {},
   "outputs": [],
   "source": [
    "def convert_label_to_string(x,level=2):\n",
    "    return '-'.join([str(value) for value in x[:level]])"
   ]
  },
  {
   "cell_type": "code",
   "execution_count": 37,
   "id": "e463b489-81bf-4a7d-95db-1f78c7ca6d87",
   "metadata": {},
   "outputs": [
    {
     "data": {
      "application/vnd.jupyter.widget-view+json": {
       "model_id": "f854a2953cbd4c2d8d4af1215444e08e",
       "version_major": 2,
       "version_minor": 0
      },
      "text/plain": [
       "  0%|          | 0/10419 [00:00<?, ?it/s]"
      ]
     },
     "metadata": {},
     "output_type": "display_data"
    },
    {
     "name": "stderr",
     "output_type": "stream",
     "text": [
      "/tmp/ipykernel_43478/310633048.py:1: SettingWithCopyWarning: \n",
      "A value is trying to be set on a copy of a slice from a DataFrame.\n",
      "Try using .loc[row_indexer,col_indexer] = value instead\n",
      "\n",
      "See the caveats in the documentation: https://pandas.pydata.org/pandas-docs/stable/user_guide/indexing.html#returning-a-view-versus-a-copy\n",
      "  tracks_df['labels_1'] = parsed_labels.progress_apply(lambda x: str(x[:1][0]))\n"
     ]
    },
    {
     "data": {
      "application/vnd.jupyter.widget-view+json": {
       "model_id": "c460b8c5c3074c71ac0c62b846ce3a47",
       "version_major": 2,
       "version_minor": 0
      },
      "text/plain": [
       "  0%|          | 0/10419 [00:00<?, ?it/s]"
      ]
     },
     "metadata": {},
     "output_type": "display_data"
    },
    {
     "name": "stderr",
     "output_type": "stream",
     "text": [
      "/tmp/ipykernel_43478/310633048.py:2: SettingWithCopyWarning: \n",
      "A value is trying to be set on a copy of a slice from a DataFrame.\n",
      "Try using .loc[row_indexer,col_indexer] = value instead\n",
      "\n",
      "See the caveats in the documentation: https://pandas.pydata.org/pandas-docs/stable/user_guide/indexing.html#returning-a-view-versus-a-copy\n",
      "  tracks_df['labels_2'] = parsed_labels.progress_apply(lambda x: convert_label_to_string(x,level=2))\n"
     ]
    },
    {
     "data": {
      "application/vnd.jupyter.widget-view+json": {
       "model_id": "cfaec8cb04b6437fb5363c25cb753482",
       "version_major": 2,
       "version_minor": 0
      },
      "text/plain": [
       "  0%|          | 0/10419 [00:00<?, ?it/s]"
      ]
     },
     "metadata": {},
     "output_type": "display_data"
    },
    {
     "data": {
      "application/vnd.jupyter.widget-view+json": {
       "model_id": "781a5a229a2544319b88292f58b195e8",
       "version_major": 2,
       "version_minor": 0
      },
      "text/plain": [
       "  0%|          | 0/10419 [00:00<?, ?it/s]"
      ]
     },
     "metadata": {},
     "output_type": "display_data"
    },
    {
     "data": {
      "application/vnd.jupyter.widget-view+json": {
       "model_id": "76d9bb1d8c8f43d8af0d095d7c52ad78",
       "version_major": 2,
       "version_minor": 0
      },
      "text/plain": [
       "  0%|          | 0/10419 [00:00<?, ?it/s]"
      ]
     },
     "metadata": {},
     "output_type": "display_data"
    }
   ],
   "source": [
    "tracks_df['labels_1'] = parsed_labels.progress_apply(lambda x: str(x[:1][0]))\n",
    "tracks_df['labels_2'] = parsed_labels.progress_apply(lambda x: convert_label_to_string(x,level=2))\n",
    "tracks_df['labels_3'] = parsed_labels.progress_apply(lambda x: convert_label_to_string(x,level=3))\n",
    "tracks_df['labels_4'] = parsed_labels.progress_apply(lambda x: convert_label_to_string(x,level=4))\n",
    "tracks_df['labels_5'] = parsed_labels.progress_apply(lambda x: convert_label_to_string(x,level=5))"
   ]
  },
  {
   "cell_type": "code",
   "execution_count": 38,
   "id": "7a3d673f-7dbb-4b46-a5c0-fcd760f745cb",
   "metadata": {
    "tags": []
   },
   "outputs": [
    {
     "data": {
      "text/plain": [
       "38      2226\n",
       "12      2145\n",
       "15      1791\n",
       "1235    1158\n",
       "10       699\n",
       "17       674\n",
       "21       635\n",
       "2        324\n",
       "5        267\n",
       "4        112\n",
       "20       106\n",
       "9         88\n",
       "8         61\n",
       "14        58\n",
       "13        51\n",
       "3         24\n",
       "Name: labels_1, dtype: int64"
      ]
     },
     "execution_count": 38,
     "metadata": {},
     "output_type": "execute_result"
    }
   ],
   "source": [
    "tracks_df.labels_1.value_counts()"
   ]
  },
  {
   "cell_type": "code",
   "execution_count": 39,
   "id": "86c81a9f-b819-4793-af3a-78f22b198aa7",
   "metadata": {},
   "outputs": [
    {
     "data": {
      "text/plain": [
       "38-0        645\n",
       "1235-0      624\n",
       "12-25       532\n",
       "10-76       453\n",
       "1235-107    425\n",
       "           ... \n",
       "21-83         3\n",
       "20-465        2\n",
       "20-0          1\n",
       "2-117         1\n",
       "2-232         1\n",
       "Name: labels_2, Length: 118, dtype: int64"
      ]
     },
     "execution_count": 39,
     "metadata": {},
     "output_type": "execute_result"
    }
   ],
   "source": [
    "tracks_df['labels_2'].value_counts()"
   ]
  },
  {
   "cell_type": "code",
   "execution_count": 40,
   "id": "304cd0a8-f7de-4862-8994-a9ed960cea5a",
   "metadata": {},
   "outputs": [],
   "source": [
    "# tracks_df = tracks_df[tracks_df['labels_1'].isin(['3','14'])]"
   ]
  },
  {
   "cell_type": "code",
   "execution_count": 41,
   "id": "d1e5f547-34ba-4d8d-b3ef-7d7eebc578fc",
   "metadata": {},
   "outputs": [],
   "source": [
    "categories_df = pd.DataFrame({'level5':tracks_df.labels_5.unique()})"
   ]
  },
  {
   "cell_type": "code",
   "execution_count": 42,
   "id": "39a3077d-9077-4f6b-be98-1e7d14e280e2",
   "metadata": {},
   "outputs": [
    {
     "data": {
      "application/vnd.jupyter.widget-view+json": {
       "model_id": "c043aae887d9484bbe226d3c5049877f",
       "version_major": 2,
       "version_minor": 0
      },
      "text/plain": [
       "  0%|          | 0/152 [00:00<?, ?it/s]"
      ]
     },
     "metadata": {},
     "output_type": "display_data"
    },
    {
     "data": {
      "application/vnd.jupyter.widget-view+json": {
       "model_id": "11ae88f0483e475b95a86a4507315104",
       "version_major": 2,
       "version_minor": 0
      },
      "text/plain": [
       "  0%|          | 0/152 [00:00<?, ?it/s]"
      ]
     },
     "metadata": {},
     "output_type": "display_data"
    },
    {
     "data": {
      "application/vnd.jupyter.widget-view+json": {
       "model_id": "bd4ee9df36ad462fb59023d64c45b687",
       "version_major": 2,
       "version_minor": 0
      },
      "text/plain": [
       "  0%|          | 0/152 [00:00<?, ?it/s]"
      ]
     },
     "metadata": {},
     "output_type": "display_data"
    },
    {
     "data": {
      "application/vnd.jupyter.widget-view+json": {
       "model_id": "ed12d6fe524a47098e0b690bda85b5e8",
       "version_major": 2,
       "version_minor": 0
      },
      "text/plain": [
       "  0%|          | 0/152 [00:00<?, ?it/s]"
      ]
     },
     "metadata": {},
     "output_type": "display_data"
    }
   ],
   "source": [
    "categories_df['level1'] = categories_df.level5.progress_apply(lambda x: '-'.join(x.split('-')[:1]))\n",
    "categories_df['level2'] = categories_df.level5.progress_apply(lambda x: '-'.join(x.split('-')[:2]))\n",
    "categories_df['level3'] = categories_df.level5.progress_apply(lambda x: '-'.join(x.split('-')[:3]))\n",
    "categories_df['level4'] = categories_df.level5.progress_apply(lambda x: '-'.join(x.split('-')[:4]))"
   ]
  },
  {
   "cell_type": "code",
   "execution_count": 43,
   "id": "d32d5387-bc51-4823-8245-9b715899af33",
   "metadata": {},
   "outputs": [
    {
     "data": {
      "text/html": [
       "<div>\n",
       "<style scoped>\n",
       "    .dataframe tbody tr th:only-of-type {\n",
       "        vertical-align: middle;\n",
       "    }\n",
       "\n",
       "    .dataframe tbody tr th {\n",
       "        vertical-align: top;\n",
       "    }\n",
       "\n",
       "    .dataframe thead th {\n",
       "        text-align: right;\n",
       "    }\n",
       "</style>\n",
       "<table border=\"1\" class=\"dataframe\">\n",
       "  <thead>\n",
       "    <tr style=\"text-align: right;\">\n",
       "      <th></th>\n",
       "      <th>level5</th>\n",
       "      <th>level1</th>\n",
       "      <th>level2</th>\n",
       "      <th>level3</th>\n",
       "      <th>level4</th>\n",
       "    </tr>\n",
       "  </thead>\n",
       "  <tbody>\n",
       "    <tr>\n",
       "      <th>0</th>\n",
       "      <td>12-25-64-0-0</td>\n",
       "      <td>12</td>\n",
       "      <td>12-25</td>\n",
       "      <td>12-25-64</td>\n",
       "      <td>12-25-64-0</td>\n",
       "    </tr>\n",
       "    <tr>\n",
       "      <th>1</th>\n",
       "      <td>38-250-0-0-0</td>\n",
       "      <td>38</td>\n",
       "      <td>38-250</td>\n",
       "      <td>38-250-0</td>\n",
       "      <td>38-250-0-0</td>\n",
       "    </tr>\n",
       "    <tr>\n",
       "      <th>2</th>\n",
       "      <td>38-0-0-0-0</td>\n",
       "      <td>38</td>\n",
       "      <td>38-0</td>\n",
       "      <td>38-0-0</td>\n",
       "      <td>38-0-0-0</td>\n",
       "    </tr>\n",
       "    <tr>\n",
       "      <th>3</th>\n",
       "      <td>8-0-0-0-0</td>\n",
       "      <td>8</td>\n",
       "      <td>8-0</td>\n",
       "      <td>8-0-0</td>\n",
       "      <td>8-0-0-0</td>\n",
       "    </tr>\n",
       "    <tr>\n",
       "      <th>4</th>\n",
       "      <td>20-65-0-0-0</td>\n",
       "      <td>20</td>\n",
       "      <td>20-65</td>\n",
       "      <td>20-65-0</td>\n",
       "      <td>20-65-0-0</td>\n",
       "    </tr>\n",
       "    <tr>\n",
       "      <th>...</th>\n",
       "      <td>...</td>\n",
       "      <td>...</td>\n",
       "      <td>...</td>\n",
       "      <td>...</td>\n",
       "      <td>...</td>\n",
       "    </tr>\n",
       "    <tr>\n",
       "      <th>147</th>\n",
       "      <td>20-65-43-0-0</td>\n",
       "      <td>20</td>\n",
       "      <td>20-65</td>\n",
       "      <td>20-65-43</td>\n",
       "      <td>20-65-43-0</td>\n",
       "    </tr>\n",
       "    <tr>\n",
       "      <th>148</th>\n",
       "      <td>2-117-0-0-0</td>\n",
       "      <td>2</td>\n",
       "      <td>2-117</td>\n",
       "      <td>2-117-0</td>\n",
       "      <td>2-117-0-0</td>\n",
       "    </tr>\n",
       "    <tr>\n",
       "      <th>149</th>\n",
       "      <td>2-130-1156-0-0</td>\n",
       "      <td>2</td>\n",
       "      <td>2-130</td>\n",
       "      <td>2-130-1156</td>\n",
       "      <td>2-130-1156-0</td>\n",
       "    </tr>\n",
       "    <tr>\n",
       "      <th>150</th>\n",
       "      <td>2-232-0-0-0</td>\n",
       "      <td>2</td>\n",
       "      <td>2-232</td>\n",
       "      <td>2-232-0</td>\n",
       "      <td>2-232-0-0</td>\n",
       "    </tr>\n",
       "    <tr>\n",
       "      <th>151</th>\n",
       "      <td>2-86-174-0-0</td>\n",
       "      <td>2</td>\n",
       "      <td>2-86</td>\n",
       "      <td>2-86-174</td>\n",
       "      <td>2-86-174-0</td>\n",
       "    </tr>\n",
       "  </tbody>\n",
       "</table>\n",
       "<p>152 rows × 5 columns</p>\n",
       "</div>"
      ],
      "text/plain": [
       "             level5 level1  level2      level3        level4\n",
       "0      12-25-64-0-0     12   12-25    12-25-64    12-25-64-0\n",
       "1      38-250-0-0-0     38  38-250    38-250-0    38-250-0-0\n",
       "2        38-0-0-0-0     38    38-0      38-0-0      38-0-0-0\n",
       "3         8-0-0-0-0      8     8-0       8-0-0       8-0-0-0\n",
       "4       20-65-0-0-0     20   20-65     20-65-0     20-65-0-0\n",
       "..              ...    ...     ...         ...           ...\n",
       "147    20-65-43-0-0     20   20-65    20-65-43    20-65-43-0\n",
       "148     2-117-0-0-0      2   2-117     2-117-0     2-117-0-0\n",
       "149  2-130-1156-0-0      2   2-130  2-130-1156  2-130-1156-0\n",
       "150     2-232-0-0-0      2   2-232     2-232-0     2-232-0-0\n",
       "151    2-86-174-0-0      2    2-86    2-86-174    2-86-174-0\n",
       "\n",
       "[152 rows x 5 columns]"
      ]
     },
     "execution_count": 43,
     "metadata": {},
     "output_type": "execute_result"
    }
   ],
   "source": [
    "categories_df"
   ]
  },
  {
   "cell_type": "code",
   "execution_count": 44,
   "id": "1c4326bd-6d17-4857-b29c-9fc868e7561d",
   "metadata": {},
   "outputs": [],
   "source": [
    "def get_labels_name(x,genres_df):\n",
    "    levels = 5\n",
    "    full_name = []\n",
    "    last_level = 0\n",
    "    genre_root = \"\"\n",
    "    for genre in x.split('-'):\n",
    "        genre_df = genres_df[genres_df['genre_id'] == int(genre)]\n",
    "        if genre_df.empty:\n",
    "            genre_name = genre_root \n",
    "        else:\n",
    "            genre_name = genre_df.title.values.tolist()[0]\n",
    "            genre_root = genre_name\n",
    "        \n",
    "        full_name.append(genre_name)\n",
    "    full_name = '>'.join(full_name)\n",
    "        \n",
    "    return full_name\n",
    "    # return genres_df[genres_df['genre_id'] == int(x)].title.values.tolist()[0]"
   ]
  },
  {
   "cell_type": "code",
   "execution_count": 45,
   "id": "5fa16276-5e41-4ee5-821b-dabd1620c76c",
   "metadata": {},
   "outputs": [],
   "source": [
    "categories_df['level5_name'] = categories_df.level5.apply(lambda x: get_labels_name(x,genres_df))"
   ]
  },
  {
   "cell_type": "code",
   "execution_count": 46,
   "id": "2d2099b6-cf3b-47ae-bca2-7d2cc8a1cb8d",
   "metadata": {},
   "outputs": [
    {
     "data": {
      "text/html": [
       "<div>\n",
       "<style scoped>\n",
       "    .dataframe tbody tr th:only-of-type {\n",
       "        vertical-align: middle;\n",
       "    }\n",
       "\n",
       "    .dataframe tbody tr th {\n",
       "        vertical-align: top;\n",
       "    }\n",
       "\n",
       "    .dataframe thead th {\n",
       "        text-align: right;\n",
       "    }\n",
       "</style>\n",
       "<table border=\"1\" class=\"dataframe\">\n",
       "  <thead>\n",
       "    <tr style=\"text-align: right;\">\n",
       "      <th></th>\n",
       "      <th>level5</th>\n",
       "      <th>level1</th>\n",
       "      <th>level2</th>\n",
       "      <th>level3</th>\n",
       "      <th>level4</th>\n",
       "      <th>level5_name</th>\n",
       "    </tr>\n",
       "  </thead>\n",
       "  <tbody>\n",
       "    <tr>\n",
       "      <th>0</th>\n",
       "      <td>12-25-64-0-0</td>\n",
       "      <td>12</td>\n",
       "      <td>12-25</td>\n",
       "      <td>12-25-64</td>\n",
       "      <td>12-25-64-0</td>\n",
       "      <td>Rock&gt;Punk&gt;Electro-Punk&gt;Electro-Punk&gt;Electro-Punk</td>\n",
       "    </tr>\n",
       "    <tr>\n",
       "      <th>1</th>\n",
       "      <td>38-250-0-0-0</td>\n",
       "      <td>38</td>\n",
       "      <td>38-250</td>\n",
       "      <td>38-250-0</td>\n",
       "      <td>38-250-0-0</td>\n",
       "      <td>Experimental&gt;Improv&gt;Improv&gt;Improv&gt;Improv</td>\n",
       "    </tr>\n",
       "    <tr>\n",
       "      <th>2</th>\n",
       "      <td>38-0-0-0-0</td>\n",
       "      <td>38</td>\n",
       "      <td>38-0</td>\n",
       "      <td>38-0-0</td>\n",
       "      <td>38-0-0-0</td>\n",
       "      <td>Experimental&gt;Experimental&gt;Experimental&gt;Experim...</td>\n",
       "    </tr>\n",
       "    <tr>\n",
       "      <th>3</th>\n",
       "      <td>8-0-0-0-0</td>\n",
       "      <td>8</td>\n",
       "      <td>8-0</td>\n",
       "      <td>8-0-0</td>\n",
       "      <td>8-0-0-0</td>\n",
       "      <td>Old-Time / Historic&gt;Old-Time / Historic&gt;Old-Ti...</td>\n",
       "    </tr>\n",
       "    <tr>\n",
       "      <th>4</th>\n",
       "      <td>20-65-0-0-0</td>\n",
       "      <td>20</td>\n",
       "      <td>20-65</td>\n",
       "      <td>20-65-0</td>\n",
       "      <td>20-65-0-0</td>\n",
       "      <td>Spoken&gt;Radio&gt;Radio&gt;Radio&gt;Radio</td>\n",
       "    </tr>\n",
       "    <tr>\n",
       "      <th>...</th>\n",
       "      <td>...</td>\n",
       "      <td>...</td>\n",
       "      <td>...</td>\n",
       "      <td>...</td>\n",
       "      <td>...</td>\n",
       "      <td>...</td>\n",
       "    </tr>\n",
       "    <tr>\n",
       "      <th>147</th>\n",
       "      <td>20-65-43-0-0</td>\n",
       "      <td>20</td>\n",
       "      <td>20-65</td>\n",
       "      <td>20-65-43</td>\n",
       "      <td>20-65-43-0</td>\n",
       "      <td>Spoken&gt;Radio&gt;Radio Art&gt;Radio Art&gt;Radio Art</td>\n",
       "    </tr>\n",
       "    <tr>\n",
       "      <th>148</th>\n",
       "      <td>2-117-0-0-0</td>\n",
       "      <td>2</td>\n",
       "      <td>2-117</td>\n",
       "      <td>2-117-0</td>\n",
       "      <td>2-117-0-0</td>\n",
       "      <td>International&gt;Polka&gt;Polka&gt;Polka&gt;Polka</td>\n",
       "    </tr>\n",
       "    <tr>\n",
       "      <th>149</th>\n",
       "      <td>2-130-1156-0-0</td>\n",
       "      <td>2</td>\n",
       "      <td>2-130</td>\n",
       "      <td>2-130-1156</td>\n",
       "      <td>2-130-1156-0</td>\n",
       "      <td>International&gt;Europe&gt;Fado&gt;Fado&gt;Fado</td>\n",
       "    </tr>\n",
       "    <tr>\n",
       "      <th>150</th>\n",
       "      <td>2-232-0-0-0</td>\n",
       "      <td>2</td>\n",
       "      <td>2-232</td>\n",
       "      <td>2-232-0</td>\n",
       "      <td>2-232-0-0</td>\n",
       "      <td>International&gt;Flamenco&gt;Flamenco&gt;Flamenco&gt;Flamenco</td>\n",
       "    </tr>\n",
       "    <tr>\n",
       "      <th>151</th>\n",
       "      <td>2-86-174-0-0</td>\n",
       "      <td>2</td>\n",
       "      <td>2-86</td>\n",
       "      <td>2-86-174</td>\n",
       "      <td>2-86-174-0</td>\n",
       "      <td>International&gt;Indian&gt;South Indian Traditional&gt;...</td>\n",
       "    </tr>\n",
       "  </tbody>\n",
       "</table>\n",
       "<p>152 rows × 6 columns</p>\n",
       "</div>"
      ],
      "text/plain": [
       "             level5 level1  level2      level3        level4  \\\n",
       "0      12-25-64-0-0     12   12-25    12-25-64    12-25-64-0   \n",
       "1      38-250-0-0-0     38  38-250    38-250-0    38-250-0-0   \n",
       "2        38-0-0-0-0     38    38-0      38-0-0      38-0-0-0   \n",
       "3         8-0-0-0-0      8     8-0       8-0-0       8-0-0-0   \n",
       "4       20-65-0-0-0     20   20-65     20-65-0     20-65-0-0   \n",
       "..              ...    ...     ...         ...           ...   \n",
       "147    20-65-43-0-0     20   20-65    20-65-43    20-65-43-0   \n",
       "148     2-117-0-0-0      2   2-117     2-117-0     2-117-0-0   \n",
       "149  2-130-1156-0-0      2   2-130  2-130-1156  2-130-1156-0   \n",
       "150     2-232-0-0-0      2   2-232     2-232-0     2-232-0-0   \n",
       "151    2-86-174-0-0      2    2-86    2-86-174    2-86-174-0   \n",
       "\n",
       "                                           level5_name  \n",
       "0     Rock>Punk>Electro-Punk>Electro-Punk>Electro-Punk  \n",
       "1             Experimental>Improv>Improv>Improv>Improv  \n",
       "2    Experimental>Experimental>Experimental>Experim...  \n",
       "3    Old-Time / Historic>Old-Time / Historic>Old-Ti...  \n",
       "4                       Spoken>Radio>Radio>Radio>Radio  \n",
       "..                                                 ...  \n",
       "147         Spoken>Radio>Radio Art>Radio Art>Radio Art  \n",
       "148              International>Polka>Polka>Polka>Polka  \n",
       "149                International>Europe>Fado>Fado>Fado  \n",
       "150  International>Flamenco>Flamenco>Flamenco>Flamenco  \n",
       "151  International>Indian>South Indian Traditional>...  \n",
       "\n",
       "[152 rows x 6 columns]"
      ]
     },
     "execution_count": 46,
     "metadata": {},
     "output_type": "execute_result"
    }
   ],
   "source": [
    "categories_df"
   ]
  },
  {
   "cell_type": "code",
   "execution_count": 47,
   "id": "c2ced721-6c30-46da-95b5-a28b84b6a2a4",
   "metadata": {},
   "outputs": [],
   "source": [
    "def __create_labels__(categories_df):\n",
    "    data = {\n",
    "        \"label1\": {},\n",
    "        \"label2\": {},\n",
    "        \"label3\": {},\n",
    "        \"label4\": {},\n",
    "        \"label5\": {},\n",
    "        \"label1_inverse\": [],\n",
    "        \"label2_inverse\": [],\n",
    "        \"label3_inverse\": [],\n",
    "        \"label4_inverse\": [],\n",
    "        \"label5_inverse\": [],\n",
    "        \"label1_name\": {},\n",
    "        \"label2_name\": {},\n",
    "        \"label3_name\": {},\n",
    "        \"label4_name\": {},\n",
    "        \"label5_name\": {},\n",
    "    }\n",
    "\n",
    "    idx = 0\n",
    "    \n",
    "    for id_x, cat in enumerate(set(categories_df.level1.values.tolist())):\n",
    "        data['label1'][cat] = idx\n",
    "        data['label1_inverse'].append(cat)\n",
    "        data['label1_count'] = idx + 1\n",
    "        idx+=1\n",
    "\n",
    "    for id_x, cat in enumerate(set(categories_df.level2.values.tolist())):\n",
    "        data['label2'][cat] = idx\n",
    "        data['label2_inverse'].append(cat)\n",
    "        data['label2_count'] = idx + 1\n",
    "        idx+=1\n",
    "        \n",
    "    for id_x, cat in enumerate(set(categories_df.level3.values.tolist())):\n",
    "        data['label3'][cat] = idx\n",
    "        data['label3_inverse'].append(cat)\n",
    "        data['label3_count'] = idx + 1\n",
    "        idx+=1\n",
    "\n",
    "    for id_x, cat in enumerate(set(categories_df.level4.values.tolist())):\n",
    "        data['label4'][cat] = idx\n",
    "        data['label4_inverse'].append(cat)\n",
    "        data['label4_count'] = idx + 1\n",
    "        idx+=1\n",
    "        \n",
    "    for idx, cat in enumerate(set(categories_df.level5.values.tolist())):\n",
    "        data['label5'][cat] = idx\n",
    "        data['label5_inverse'].append(cat)\n",
    "        data['label5_count'] = idx + 1\n",
    "        idx+=1\n",
    "        \n",
    "    for cat5,cat1,cat2,cat3,cat4,name5 in categories_df.values:\n",
    "        \n",
    "        name1 = '>'.join(name5.split('>')[:1])\n",
    "        name2 = '>'.join(name5.split('>')[:2])\n",
    "        name3 = '>'.join(name5.split('>')[:3])\n",
    "        name4 = '>'.join(name5.split('>')[:4])\n",
    "        \n",
    "        \n",
    "        data['label1_name'][cat1] = name1\n",
    "        data['label2_name'][cat2] = name2\n",
    "        data['label3_name'][cat3] = name3\n",
    "        data['label4_name'][cat4] = name4\n",
    "        data['label5_name'][cat5] = name5\n",
    "        \n",
    "    return data"
   ]
  },
  {
   "cell_type": "code",
   "execution_count": 48,
   "id": "e7ccc947-b7ae-464d-a325-d61aa3cf5710",
   "metadata": {},
   "outputs": [],
   "source": [
    "with open(categories_labels_path, 'w+') as f:\n",
    "    f.write(json.dumps(__create_labels__(categories_df)))"
   ]
  },
  {
   "cell_type": "code",
   "execution_count": 49,
   "id": "3778cc5d-7def-4a1d-9f5b-b141bd08356c",
   "metadata": {},
   "outputs": [],
   "source": [
    "labels  = __create_labels__(categories_df)"
   ]
  },
  {
   "cell_type": "code",
   "execution_count": 50,
   "id": "a6b67e97-0813-492e-8323-f8588ca8d120",
   "metadata": {
    "tags": []
   },
   "outputs": [
    {
     "data": {
      "text/plain": [
       "{'12-359-0-0': 283,\n",
       " '2-130-1156-0': 284,\n",
       " '12-0-0-0': 285,\n",
       " '1235-18-538-0': 286,\n",
       " '2-130-619-0': 287,\n",
       " '20-428-0-0': 288,\n",
       " '13-170-0-0': 289,\n",
       " '38-250-0-0': 290,\n",
       " '12-26-113-0': 291,\n",
       " '12-45-53-90': 292,\n",
       " '15-296-0-0': 293,\n",
       " '12-85-404-0': 294,\n",
       " '2-86-0-0': 295,\n",
       " '38-22-0-0': 296,\n",
       " '5-0-0-0': 297,\n",
       " '12-31-439-0': 298,\n",
       " '10-76-0-0': 299,\n",
       " '15-181-401-0': 300,\n",
       " '12-314-0-0': 301,\n",
       " '13-810-0-0': 302,\n",
       " '38-514-0-0': 303,\n",
       " '20-65-43-0': 304,\n",
       " '2-79-602-0': 305,\n",
       " '15-184-0-0': 306,\n",
       " '15-297-0-0': 307,\n",
       " '12-70-0-0': 308,\n",
       " '2-117-0-0': 309,\n",
       " '4-97-0-0': 310,\n",
       " '15-297-240-0': 311,\n",
       " '13-311-0-0': 312,\n",
       " '2-46-1060-0': 313,\n",
       " '12-36-0-0': 314,\n",
       " '12-25-109-0': 315,\n",
       " '12-25-71-0': 316,\n",
       " '4-0-0-0': 317,\n",
       " '12-25-64-0': 318,\n",
       " '20-0-0-0': 319,\n",
       " '15-468-0-0': 320,\n",
       " '12-25-0-0': 321,\n",
       " '20-188-0-0': 322,\n",
       " '15-495-0-0': 323,\n",
       " '21-693-0-0': 324,\n",
       " '1235-267-0-0': 325,\n",
       " '2-176-0-0': 326,\n",
       " '12-440-0-0': 327,\n",
       " '2-102-1032-0': 328,\n",
       " '38-32-0-0': 329,\n",
       " '12-98-0-0': 330,\n",
       " '21-0-0-0': 331,\n",
       " '17-94-0-0': 332,\n",
       " '2-46-502-0': 333,\n",
       " '2-232-0-0': 334,\n",
       " '3-0-0-0': 335,\n",
       " '17-180-0-0': 336,\n",
       " '4-179-0-0': 337,\n",
       " '15-42-0-0': 338,\n",
       " '12-58-0-0': 339,\n",
       " '2-86-174-0': 340,\n",
       " '21-539-0-0': 341,\n",
       " '2-118-0-0': 342,\n",
       " '12-31-167-0': 343,\n",
       " '15-183-0-0': 344,\n",
       " '9-63-0-0': 345,\n",
       " '12-25-111-0': 346,\n",
       " '5-442-0-0': 347,\n",
       " '10-0-0-0': 348,\n",
       " '21-83-0-0': 349,\n",
       " '38-6-360-0': 350,\n",
       " '21-811-0-0': 351,\n",
       " '2-77-0-0': 352,\n",
       " '21-580-0-0': 353,\n",
       " '12-25-109-361': 354,\n",
       " '1235-0-0-0': 355,\n",
       " '2-171-0-0': 356,\n",
       " '9-0-0-0': 357,\n",
       " '12-85-0-0': 358,\n",
       " '2-504-0-0': 359,\n",
       " '38-1-0-0': 360,\n",
       " '12-88-0-0': 361,\n",
       " '4-37-0-0': 362,\n",
       " '15-236-0-0': 363,\n",
       " '2-102-0-0': 364,\n",
       " '2-92-81-0': 365,\n",
       " '2-130-741-0': 366,\n",
       " '2-130-524-0': 367,\n",
       " '17-49-0-0': 368,\n",
       " '4-906-0-0': 369,\n",
       " '38-30-0-0': 370,\n",
       " '8-0-0-0': 371,\n",
       " '15-695-0-0': 372,\n",
       " '15-468-491-0': 373,\n",
       " '21-542-0-0': 374,\n",
       " '20-378-0-0': 375,\n",
       " '12-45-0-0': 376,\n",
       " '5-659-0-0': 377,\n",
       " '2-172-0-0': 378,\n",
       " '15-181-0-0': 379,\n",
       " '13-0-0-0': 380,\n",
       " '38-186-0-0': 381,\n",
       " '12-45-53-0': 382,\n",
       " '5-187-0-0': 383,\n",
       " '15-0-0-0': 384,\n",
       " '2-177-0-0': 385,\n",
       " '20-65-0-0': 386,\n",
       " '38-224-0-0': 387,\n",
       " '20-465-0-0': 388,\n",
       " '38-125-0-0': 389,\n",
       " '5-322-0-0': 390,\n",
       " '1235-107-0-0': 391,\n",
       " '12-31-101-0': 392,\n",
       " '38-0-0-0': 393,\n",
       " '15-185-0-0': 394,\n",
       " '14-0-0-0': 395,\n",
       " '9-137-0-0': 396,\n",
       " '14-19-0-0': 397,\n",
       " '2-0-0-0': 398,\n",
       " '4-74-0-0': 399,\n",
       " '17-33-0-0': 400,\n",
       " '21-100-0-0': 401,\n",
       " '10-362-0-0': 402,\n",
       " '15-182-400-0': 403,\n",
       " '15-286-0-0': 404,\n",
       " '12-26-0-0': 405,\n",
       " '9-169-0-0': 406,\n",
       " '17-103-0-0': 407,\n",
       " '38-247-0-0': 408,\n",
       " '2-92-0-0': 409,\n",
       " '9-651-0-0': 410,\n",
       " '2-46-0-0': 411,\n",
       " '5-441-0-0': 412,\n",
       " '38-456-0-0': 413,\n",
       " '38-47-0-0': 414,\n",
       " '15-182-0-0': 415,\n",
       " '5-443-0-0': 416,\n",
       " '2-92-214-0': 417,\n",
       " '12-31-0-0': 418,\n",
       " '20-65-166-0': 419,\n",
       " '20-138-0-0': 420,\n",
       " '38-6-0-0': 421,\n",
       " '38-41-0-0': 422,\n",
       " '2-79-0-0': 423,\n",
       " '1235-18-0-0': 424,\n",
       " '14-11-0-0': 425,\n",
       " '38-6-16-763': 426,\n",
       " '3-567-0-0': 427,\n",
       " '15-337-0-0': 428,\n",
       " '2-130-0-0': 429,\n",
       " '12-66-0-0': 430,\n",
       " '12-25-89-0': 431,\n",
       " '17-0-0-0': 432,\n",
       " '12-27-0-0': 433}"
      ]
     },
     "execution_count": 50,
     "metadata": {},
     "output_type": "execute_result"
    }
   ],
   "source": [
    "labels['label4']"
   ]
  },
  {
   "cell_type": "code",
   "execution_count": 51,
   "id": "676dd2f5-aa10-4a54-8542-fb86b770de22",
   "metadata": {},
   "outputs": [
    {
     "data": {
      "text/plain": [
       "16"
      ]
     },
     "execution_count": 51,
     "metadata": {},
     "output_type": "execute_result"
    }
   ],
   "source": [
    "labels['label1_count']"
   ]
  },
  {
   "cell_type": "code",
   "execution_count": 52,
   "id": "34af3ff3-11d0-415f-8736-519e5911ec59",
   "metadata": {},
   "outputs": [],
   "source": [
    "\n",
    "\n",
    "def parse_tfr_element(element):\n",
    "    #use the same structure as above; it's kinda an outline of the structure we now want to create\n",
    "    data = {\n",
    "        'emb' : tf.io.FixedLenFeature([], tf.string),\n",
    "        'track_id' : tf.io.FixedLenFeature([], tf.int64),\n",
    "    }\n",
    "    \n",
    "    content = tf.io.parse_single_example(element, data)\n",
    "\n",
    "    track_id = content['track_id']\n",
    "    emb = content['emb']\n",
    "    \n",
    "\n",
    "    #get our 'feature'-- our image -- and reshape it appropriately\n",
    "    feature = tf.io.parse_tensor(emb, out_type=tf.float32)\n",
    "    return (feature, track_id)\n",
    "\n",
    "\n",
    "def get_dataset(filename):\n",
    "    #create the dataset\n",
    "    dataset = tf.data.TFRecordDataset(filename)\n",
    "\n",
    "    #pass every single feature through our mapping function\n",
    "    dataset = dataset.map(\n",
    "        parse_tfr_element\n",
    "    )\n",
    "\n",
    "    return dataset\n",
    "\n",
    "\n"
   ]
  },
  {
   "cell_type": "code",
   "execution_count": 53,
   "id": "4580514b-0be9-4de5-a8d3-f987ba73134c",
   "metadata": {},
   "outputs": [],
   "source": [
    "import numpy as np\n",
    "\n",
    "\n",
    "def load_dataset(path,dataset=args.embeddings):\n",
    "    tfrecords_path = os.path.join(path,'tfrecords',dataset)\n",
    "    \n",
    "    \n",
    "    tfrecords_path = [os.path.join(tfrecords_path,path) for path in os.listdir(tfrecords_path)]\n",
    "    dataset = get_dataset(tfrecords_path)\n",
    "    \n",
    "    df = pd.DataFrame(\n",
    "        dataset.as_numpy_iterator(),\n",
    "        columns=['feature', 'track_id']\n",
    "    )\n",
    "        \n",
    "    df.dropna(inplace=True)\n",
    "    \n",
    "    \n",
    "    try:\n",
    "        df.feature = df.feature.apply(lambda x: x[0] if x.shape[0] != 0 else None)\n",
    "    except:\n",
    "        print(x)\n",
    "    \n",
    "    return df\n",
    "    \n"
   ]
  },
  {
   "cell_type": "code",
   "execution_count": 54,
   "id": "b5c8d2a5-ea5e-495a-a800-0d8cdede266f",
   "metadata": {},
   "outputs": [
    {
     "data": {
      "text/plain": [
       "85419      12-25-64-0-0\n",
       "18565      38-250-0-0-0\n",
       "5837         38-0-0-0-0\n",
       "9740          8-0-0-0-0\n",
       "2898        20-65-0-0-0\n",
       "              ...      \n",
       "42606       12-85-0-0-0\n",
       "52163        38-0-0-0-0\n",
       "74138    1235-107-0-0-0\n",
       "40505      15-236-0-0-0\n",
       "40820       12-58-0-0-0\n",
       "Name: labels_5, Length: 10419, dtype: object"
      ]
     },
     "execution_count": 54,
     "metadata": {},
     "output_type": "execute_result"
    }
   ],
   "source": [
    "tracks_df['labels_5']"
   ]
  },
  {
   "cell_type": "code",
   "execution_count": 55,
   "id": "ecb34052-60dd-40db-9ba4-0a92c17f9eb0",
   "metadata": {},
   "outputs": [],
   "source": [
    "def __split_data__(group, percentage=0.1):\n",
    "    if len(group) == 1:\n",
    "        return group, group\n",
    "\n",
    "    shuffled = shuffle(group.values)\n",
    "    finish_test = int(ceil(len(group) * percentage))\n",
    "\n",
    "    first = pd.DataFrame(shuffled[:finish_test], columns=group.columns)\n",
    "    second = pd.DataFrame(shuffled[finish_test:], columns=group.columns)\n",
    "\n",
    "    return first, second"
   ]
  },
  {
   "cell_type": "code",
   "execution_count": 75,
   "id": "f6b687c1-660a-4e8c-a76a-6b2a85ae4d37",
   "metadata": {},
   "outputs": [],
   "source": [
    "def select_dataset(tracks_df):\n",
    "    \n",
    "#     dataset_testset_path = os.path.join(tfrecord_path,'test')\n",
    "#     dataset_validationset_path = os.path.join(tfrecord_path,'val')\n",
    "#     dataset_trainset_path = os.path.join(tfrecord_path,'train')\n",
    "    \n",
    "    df = load_dataset(args.dataset_path,dataset=args.embeddings)\n",
    "    \n",
    "    df.dropna(inplace=True)\n",
    "    \n",
    "    tracks_df = tracks_df.merge(df, on='track_id')\n",
    "    \n",
    "    tracks_df.loc[:,'labels_1'] = tracks_df.labels_1.astype(str).progress_apply(lambda x: labels['label1'][x])\n",
    "    tracks_df.loc[:,'labels_2'] = tracks_df.labels_2.astype(str).progress_apply(lambda x: labels['label2'][x])\n",
    "    tracks_df.loc[:,'labels_3'] = tracks_df.labels_3.astype(str).progress_apply(lambda x: labels['label3'][x])\n",
    "    tracks_df.loc[:,'labels_4'] = tracks_df.labels_4.astype(str).progress_apply(lambda x: labels['label4'][x])\n",
    "    tracks_df.loc[:,'labels_5'] = tracks_df.labels_5.astype(str).progress_apply(lambda x: labels['label5'][x])\n",
    "    \n",
    "    tests = []\n",
    "    trains = []\n",
    "    validations = []\n",
    "    groups = tracks_df.groupby(\"labels_5\")\n",
    "    \n",
    "    \n",
    "    count = 0\n",
    "    items_count = 0\n",
    "    total = len(groups)\n",
    "    total_items = len(tracks_df)\n",
    "    oversampling_size = 30  # int(group_sizes.mean() + group_sizes.std() * 2)\n",
    "    print(f\"oversampling_size: {oversampling_size}\")\n",
    "\n",
    "    for code, group in groups:\n",
    "        test, train_to_split = __split_data__(group, 0.01)  # 10%\n",
    "        train_to_split = train_to_split\n",
    "        validation, train = __split_data__(train_to_split, 0.01)  # %1\n",
    "\n",
    "        tests.append(test)\n",
    "        validations.append(validation)\n",
    "\n",
    "        ## this increase the numner of samples when classes has low quantity\n",
    "        count_train = len(train)\n",
    "        if count_train < oversampling_size:\n",
    "            train = train.sample(oversampling_size, replace=True)\n",
    "\n",
    "        trains.append(train)\n",
    "\n",
    "        count += 1\n",
    "        items_count += count_train\n",
    "        \n",
    "        \n",
    "    df_test = pd.concat(tests, sort=False).sample(frac=1).reset_index(drop=True)\n",
    "    # .to_csv(dataset_testset_path, index=False,quoting=csv.QUOTE_ALL)\n",
    "    df_val = pd.concat(validations, sort=False).sample(frac=1).reset_index(drop=True)\n",
    "    df_train = pd.concat(trains, sort=False).sample(frac=1).reset_index(drop=True)\n",
    "\n",
    "    return df_train,df_test,df_val"
   ]
  },
  {
   "cell_type": "code",
   "execution_count": 76,
   "id": "2935be5c-052f-4477-863a-acf7a160b9ea",
   "metadata": {
    "tags": []
   },
   "outputs": [
    {
     "name": "stderr",
     "output_type": "stream",
     "text": [
      "2023-05-08 17:46:59.823325: I tensorflow/core/common_runtime/executor.cc:1197] [/device:CPU:0] (DEBUG INFO) Executor start aborting (this does not indicate an error and you can ignore this message): INVALID_ARGUMENT: You must feed a value for placeholder tensor 'Placeholder/_0' with dtype string and shape [11]\n",
      "\t [[{{node Placeholder/_0}}]]\n"
     ]
    },
    {
     "data": {
      "application/vnd.jupyter.widget-view+json": {
       "model_id": "3f17389f7dbc4dcfa3f9bfd0aa6a4204",
       "version_major": 2,
       "version_minor": 0
      },
      "text/plain": [
       "  0%|          | 0/10419 [00:00<?, ?it/s]"
      ]
     },
     "metadata": {},
     "output_type": "display_data"
    },
    {
     "name": "stderr",
     "output_type": "stream",
     "text": [
      "/tmp/ipykernel_43478/3658527219.py:13: DeprecationWarning: In a future version, `df.iloc[:, i] = newvals` will attempt to set the values inplace instead of always setting a new array. To retain the old behavior, use either `df[df.columns[i]] = newvals` or, if columns are non-unique, `df.isetitem(i, newvals)`\n",
      "  tracks_df.loc[:,'labels_1'] = tracks_df.labels_1.astype(str).progress_apply(lambda x: labels['label1'][x])\n"
     ]
    },
    {
     "data": {
      "application/vnd.jupyter.widget-view+json": {
       "model_id": "fd4c30a7f1f948e48590dbbeacd238c0",
       "version_major": 2,
       "version_minor": 0
      },
      "text/plain": [
       "  0%|          | 0/10419 [00:00<?, ?it/s]"
      ]
     },
     "metadata": {},
     "output_type": "display_data"
    },
    {
     "name": "stderr",
     "output_type": "stream",
     "text": [
      "/tmp/ipykernel_43478/3658527219.py:14: DeprecationWarning: In a future version, `df.iloc[:, i] = newvals` will attempt to set the values inplace instead of always setting a new array. To retain the old behavior, use either `df[df.columns[i]] = newvals` or, if columns are non-unique, `df.isetitem(i, newvals)`\n",
      "  tracks_df.loc[:,'labels_2'] = tracks_df.labels_2.astype(str).progress_apply(lambda x: labels['label2'][x])\n"
     ]
    },
    {
     "data": {
      "application/vnd.jupyter.widget-view+json": {
       "model_id": "20f6f22a35ed414ba041981da756b88d",
       "version_major": 2,
       "version_minor": 0
      },
      "text/plain": [
       "  0%|          | 0/10419 [00:00<?, ?it/s]"
      ]
     },
     "metadata": {},
     "output_type": "display_data"
    },
    {
     "name": "stderr",
     "output_type": "stream",
     "text": [
      "/tmp/ipykernel_43478/3658527219.py:15: DeprecationWarning: In a future version, `df.iloc[:, i] = newvals` will attempt to set the values inplace instead of always setting a new array. To retain the old behavior, use either `df[df.columns[i]] = newvals` or, if columns are non-unique, `df.isetitem(i, newvals)`\n",
      "  tracks_df.loc[:,'labels_3'] = tracks_df.labels_3.astype(str).progress_apply(lambda x: labels['label3'][x])\n"
     ]
    },
    {
     "data": {
      "application/vnd.jupyter.widget-view+json": {
       "model_id": "315e1963a5c945dcac5c34d81d210b80",
       "version_major": 2,
       "version_minor": 0
      },
      "text/plain": [
       "  0%|          | 0/10419 [00:00<?, ?it/s]"
      ]
     },
     "metadata": {},
     "output_type": "display_data"
    },
    {
     "name": "stderr",
     "output_type": "stream",
     "text": [
      "/tmp/ipykernel_43478/3658527219.py:16: DeprecationWarning: In a future version, `df.iloc[:, i] = newvals` will attempt to set the values inplace instead of always setting a new array. To retain the old behavior, use either `df[df.columns[i]] = newvals` or, if columns are non-unique, `df.isetitem(i, newvals)`\n",
      "  tracks_df.loc[:,'labels_4'] = tracks_df.labels_4.astype(str).progress_apply(lambda x: labels['label4'][x])\n"
     ]
    },
    {
     "data": {
      "application/vnd.jupyter.widget-view+json": {
       "model_id": "34a4a8557a754602977b4843da9f047c",
       "version_major": 2,
       "version_minor": 0
      },
      "text/plain": [
       "  0%|          | 0/10419 [00:00<?, ?it/s]"
      ]
     },
     "metadata": {},
     "output_type": "display_data"
    },
    {
     "name": "stderr",
     "output_type": "stream",
     "text": [
      "/tmp/ipykernel_43478/3658527219.py:17: DeprecationWarning: In a future version, `df.iloc[:, i] = newvals` will attempt to set the values inplace instead of always setting a new array. To retain the old behavior, use either `df[df.columns[i]] = newvals` or, if columns are non-unique, `df.isetitem(i, newvals)`\n",
      "  tracks_df.loc[:,'labels_5'] = tracks_df.labels_5.astype(str).progress_apply(lambda x: labels['label5'][x])\n"
     ]
    },
    {
     "name": "stdout",
     "output_type": "stream",
     "text": [
      "oversampling_size: 30\n"
     ]
    }
   ],
   "source": [
    "df_train,df_test,df_val = select_dataset(tracks_df)"
   ]
  },
  {
   "cell_type": "code",
   "execution_count": 78,
   "id": "6ca3a658-7d5e-4bf6-a5e6-40dfe0b4813b",
   "metadata": {},
   "outputs": [
    {
     "data": {
      "text/html": [
       "<div>\n",
       "<style scoped>\n",
       "    .dataframe tbody tr th:only-of-type {\n",
       "        vertical-align: middle;\n",
       "    }\n",
       "\n",
       "    .dataframe tbody tr th {\n",
       "        vertical-align: top;\n",
       "    }\n",
       "\n",
       "    .dataframe thead th {\n",
       "        text-align: right;\n",
       "    }\n",
       "</style>\n",
       "<table border=\"1\" class=\"dataframe\">\n",
       "  <thead>\n",
       "    <tr style=\"text-align: right;\">\n",
       "      <th></th>\n",
       "      <th>track_id</th>\n",
       "      <th>full_genre_id</th>\n",
       "      <th>labels_1</th>\n",
       "      <th>labels_2</th>\n",
       "      <th>labels_3</th>\n",
       "      <th>labels_4</th>\n",
       "      <th>labels_5</th>\n",
       "      <th>feature</th>\n",
       "    </tr>\n",
       "  </thead>\n",
       "  <tbody>\n",
       "    <tr>\n",
       "      <th>0</th>\n",
       "      <td>21159</td>\n",
       "      <td>[15, 296]</td>\n",
       "      <td>3</td>\n",
       "      <td>52</td>\n",
       "      <td>193</td>\n",
       "      <td>293</td>\n",
       "      <td>53</td>\n",
       "      <td>[0.14478458, -0.017100343, 0.008137767, 0.1190...</td>\n",
       "    </tr>\n",
       "    <tr>\n",
       "      <th>1</th>\n",
       "      <td>82443</td>\n",
       "      <td>[15, 236]</td>\n",
       "      <td>3</td>\n",
       "      <td>113</td>\n",
       "      <td>174</td>\n",
       "      <td>363</td>\n",
       "      <td>147</td>\n",
       "      <td>[0.0057163932, 0.08835802, 0.08281917, -0.0385...</td>\n",
       "    </tr>\n",
       "    <tr>\n",
       "      <th>2</th>\n",
       "      <td>142588</td>\n",
       "      <td>[12, 26]</td>\n",
       "      <td>2</td>\n",
       "      <td>131</td>\n",
       "      <td>250</td>\n",
       "      <td>405</td>\n",
       "      <td>129</td>\n",
       "      <td>[-0.0020183325, -0.027405122, -0.046768416, -0...</td>\n",
       "    </tr>\n",
       "    <tr>\n",
       "      <th>3</th>\n",
       "      <td>92763</td>\n",
       "      <td>[9, 169]</td>\n",
       "      <td>8</td>\n",
       "      <td>118</td>\n",
       "      <td>139</td>\n",
       "      <td>406</td>\n",
       "      <td>98</td>\n",
       "      <td>[0.09024087, -0.043394577, 0.093729414, 0.1540...</td>\n",
       "    </tr>\n",
       "    <tr>\n",
       "      <th>4</th>\n",
       "      <td>41130</td>\n",
       "      <td>[15, 468]</td>\n",
       "      <td>3</td>\n",
       "      <td>122</td>\n",
       "      <td>261</td>\n",
       "      <td>320</td>\n",
       "      <td>39</td>\n",
       "      <td>[0.024159094, -0.006362796, 0.22809465, 0.2140...</td>\n",
       "    </tr>\n",
       "    <tr>\n",
       "      <th>...</th>\n",
       "      <td>...</td>\n",
       "      <td>...</td>\n",
       "      <td>...</td>\n",
       "      <td>...</td>\n",
       "      <td>...</td>\n",
       "      <td>...</td>\n",
       "      <td>...</td>\n",
       "      <td>...</td>\n",
       "    </tr>\n",
       "    <tr>\n",
       "      <th>11633</th>\n",
       "      <td>151874</td>\n",
       "      <td>[15, 183]</td>\n",
       "      <td>3</td>\n",
       "      <td>90</td>\n",
       "      <td>252</td>\n",
       "      <td>344</td>\n",
       "      <td>74</td>\n",
       "      <td>[0.032073956, 0.008359601, 0.13315788, -0.0574...</td>\n",
       "    </tr>\n",
       "    <tr>\n",
       "      <th>11634</th>\n",
       "      <td>132059</td>\n",
       "      <td>[1235]</td>\n",
       "      <td>5</td>\n",
       "      <td>41</td>\n",
       "      <td>209</td>\n",
       "      <td>355</td>\n",
       "      <td>72</td>\n",
       "      <td>[-0.010686775, -0.008971523, -0.05980732, 0.02...</td>\n",
       "    </tr>\n",
       "    <tr>\n",
       "      <th>11635</th>\n",
       "      <td>1593</td>\n",
       "      <td>[12]</td>\n",
       "      <td>2</td>\n",
       "      <td>78</td>\n",
       "      <td>211</td>\n",
       "      <td>285</td>\n",
       "      <td>143</td>\n",
       "      <td>[-0.036503952, 0.052119505, 0.03817637, 0.0360...</td>\n",
       "    </tr>\n",
       "    <tr>\n",
       "      <th>11636</th>\n",
       "      <td>129222</td>\n",
       "      <td>[12, 36]</td>\n",
       "      <td>2</td>\n",
       "      <td>64</td>\n",
       "      <td>208</td>\n",
       "      <td>314</td>\n",
       "      <td>19</td>\n",
       "      <td>[-0.032589257, 0.05484901, 0.11774453, -0.0373...</td>\n",
       "    </tr>\n",
       "    <tr>\n",
       "      <th>11637</th>\n",
       "      <td>27780</td>\n",
       "      <td>[2, 117]</td>\n",
       "      <td>12</td>\n",
       "      <td>25</td>\n",
       "      <td>140</td>\n",
       "      <td>309</td>\n",
       "      <td>50</td>\n",
       "      <td>[0.005949537, 0.01556018, 0.004019817, -0.0176...</td>\n",
       "    </tr>\n",
       "  </tbody>\n",
       "</table>\n",
       "<p>11638 rows × 8 columns</p>\n",
       "</div>"
      ],
      "text/plain": [
       "      track_id full_genre_id labels_1 labels_2 labels_3 labels_4 labels_5  \\\n",
       "0        21159     [15, 296]        3       52      193      293       53   \n",
       "1        82443     [15, 236]        3      113      174      363      147   \n",
       "2       142588      [12, 26]        2      131      250      405      129   \n",
       "3        92763      [9, 169]        8      118      139      406       98   \n",
       "4        41130     [15, 468]        3      122      261      320       39   \n",
       "...        ...           ...      ...      ...      ...      ...      ...   \n",
       "11633   151874     [15, 183]        3       90      252      344       74   \n",
       "11634   132059        [1235]        5       41      209      355       72   \n",
       "11635     1593          [12]        2       78      211      285      143   \n",
       "11636   129222      [12, 36]        2       64      208      314       19   \n",
       "11637    27780      [2, 117]       12       25      140      309       50   \n",
       "\n",
       "                                                 feature  \n",
       "0      [0.14478458, -0.017100343, 0.008137767, 0.1190...  \n",
       "1      [0.0057163932, 0.08835802, 0.08281917, -0.0385...  \n",
       "2      [-0.0020183325, -0.027405122, -0.046768416, -0...  \n",
       "3      [0.09024087, -0.043394577, 0.093729414, 0.1540...  \n",
       "4      [0.024159094, -0.006362796, 0.22809465, 0.2140...  \n",
       "...                                                  ...  \n",
       "11633  [0.032073956, 0.008359601, 0.13315788, -0.0574...  \n",
       "11634  [-0.010686775, -0.008971523, -0.05980732, 0.02...  \n",
       "11635  [-0.036503952, 0.052119505, 0.03817637, 0.0360...  \n",
       "11636  [-0.032589257, 0.05484901, 0.11774453, -0.0373...  \n",
       "11637  [0.005949537, 0.01556018, 0.004019817, -0.0176...  \n",
       "\n",
       "[11638 rows x 8 columns]"
      ]
     },
     "execution_count": 78,
     "metadata": {},
     "output_type": "execute_result"
    }
   ],
   "source": [
    "df_train"
   ]
  },
  {
   "cell_type": "code",
   "execution_count": 91,
   "id": "a882ada1-9d1f-4fc1-9d4c-c2c7a0279557",
   "metadata": {},
   "outputs": [],
   "source": [
    "\n",
    "def _bytes_feature(value):\n",
    "    \"\"\"Returns a bytes_list from a string / byte.\"\"\"\n",
    "    if isinstance(value, type(tf.constant(0))): # if value ist tensor\n",
    "        value = value.numpy() # get value of tensor\n",
    "    return tf.train.Feature(bytes_list=tf.train.BytesList(value=[value]))\n",
    "\n",
    "def _float_feature(value):\n",
    "  \"\"\"Returns a floast_list from a float / double.\"\"\"\n",
    "  return tf.train.Feature(float_list=tf.train.FloatList(value=[value]))\n",
    "\n",
    "def _int64_feature(value):\n",
    "  \"\"\"Returns an int64_list from a bool / enum / int / uint.\"\"\"\n",
    "  return tf.train.Feature(int64_list=tf.train.Int64List(value=[value]))\n",
    "\n",
    "def serialize_array(array):\n",
    "  array = tf.io.serialize_tensor(array)\n",
    "  return array\n"
   ]
  },
  {
   "cell_type": "code",
   "execution_count": 92,
   "id": "847ca375-63be-4f96-8bbe-9346d827c3bd",
   "metadata": {},
   "outputs": [],
   "source": [
    "def parse_single_music(data,labels):\n",
    "    # cat1, cat2, cat3, cat4, cat5 = data\n",
    "    track_id, _, cat1, cat2, cat3, cat4, cat5, music = data\n",
    "    \n",
    "    label1 = np.array([cat1, labels['label1_count']], np.int64)\n",
    "    label2 = np.array([cat2, labels['label2_count']], np.int64)\n",
    "    label3 = np.array([cat3, labels['label3_count']], np.int64)\n",
    "    label4 = np.array([cat4, labels['label4_count']], np.int64)\n",
    "    label5 = np.array([cat5, labels['label5_count']], np.int64)\n",
    "    \n",
    "    \n",
    "    #define the dictionary -- the structure -- of our single example\n",
    "    data = {\n",
    "        'label1': tf.train.Feature(int64_list=tf.train.Int64List(value=label1)),\n",
    "        'label2': tf.train.Feature(int64_list=tf.train.Int64List(value=label2)),\n",
    "        'label3': tf.train.Feature(int64_list=tf.train.Int64List(value=label3)),\n",
    "        'label4': tf.train.Feature(int64_list=tf.train.Int64List(value=label4)),\n",
    "        'emb' : _bytes_feature(serialize_array(music)),\n",
    "        'track_id' : _int64_feature(track_id)\n",
    "    }\n",
    "    #create an Example, wrapping the single features\n",
    "    out = tf.train.Example(features=tf.train.Features(feature=data))\n",
    "\n",
    "    return out"
   ]
  },
  {
   "cell_type": "code",
   "execution_count": 95,
   "id": "75a8419a-fe56-4e6b-818b-7198f9370311",
   "metadata": {},
   "outputs": [],
   "source": [
    "def generate_tf_record(df,tf_path='tfrecords/val'):\n",
    "    create_dir(tf_path)\n",
    "    \n",
    "    \n",
    "    batch_size = 1024 * 50 # 50k records from each file batch\n",
    "    count = 0\n",
    "    total = math.ceil(len(df) / batch_size)\n",
    "\n",
    "    for i in range(0, len(df), batch_size):\n",
    "        batch_df = df[i:i+batch_size]\n",
    "        \n",
    "        tfrecords = [parse_single_music(data, labels) for data in batch_df.values]\n",
    "        \n",
    "        path = f\"{tf_path}/{str(count).zfill(10)}.tfrecord\"\n",
    "        \n",
    "        #with tf.python_io.TFRecordWriter(path) as writer:\n",
    "        with tf.io.TFRecordWriter(path) as writer:\n",
    "            for tfrecord in tfrecords:\n",
    "                writer.write(tfrecord.SerializeToString())\n",
    "\n",
    "        print(f\"{count} {len(tfrecords)} {path}\")\n",
    "        count += 1\n",
    "        print(f\"{count}/{total} batchs / {count * batch_size} processed\")\n",
    "\n",
    "    print(f\"{count}/{total} batchs / {len(df)} processed\")\n",
    "\n",
    "    "
   ]
  },
  {
   "cell_type": "code",
   "execution_count": 96,
   "id": "0149ac30-6fd3-44f6-8a98-e69dd2740419",
   "metadata": {},
   "outputs": [
    {
     "name": "stdout",
     "output_type": "stream",
     "text": [
      "0 208 /mnt/disks/data/fma/trains/hierarchical_top_sample/tfrecords/val/0000000000.tfrecord\n",
      "1/1 batchs / 51200 processed\n",
      "1/1 batchs / 208 processed\n"
     ]
    }
   ],
   "source": [
    "generate_tf_record(df_val,tf_path=os.path.join(tfrecord_path,'val'))"
   ]
  },
  {
   "cell_type": "code",
   "execution_count": 97,
   "id": "770b69f6-8059-4fd7-a514-203302e1bd23",
   "metadata": {},
   "outputs": [
    {
     "name": "stdout",
     "output_type": "stream",
     "text": [
      "0 209 /mnt/disks/data/fma/trains/hierarchical_top_sample/tfrecords/test/0000000000.tfrecord\n",
      "1/1 batchs / 51200 processed\n",
      "1/1 batchs / 209 processed\n"
     ]
    }
   ],
   "source": [
    "generate_tf_record(df_test,tf_path=os.path.join(tfrecord_path,'test'))"
   ]
  },
  {
   "cell_type": "code",
   "execution_count": 98,
   "id": "e9ef95bd-ead5-43ac-83e4-16cc24222a22",
   "metadata": {},
   "outputs": [
    {
     "name": "stdout",
     "output_type": "stream",
     "text": [
      "0 11638 /mnt/disks/data/fma/trains/hierarchical_top_sample/tfrecords/train/0000000000.tfrecord\n",
      "1/1 batchs / 51200 processed\n",
      "1/1 batchs / 11638 processed\n"
     ]
    }
   ],
   "source": [
    "generate_tf_record(df_train,tf_path=os.path.join(tfrecord_path,'train'))"
   ]
  },
  {
   "cell_type": "code",
   "execution_count": 62,
   "id": "cd97175f-4b2b-49e0-bb74-84d12a2999a7",
   "metadata": {},
   "outputs": [
    {
     "ename": "SyntaxError",
     "evalue": "expression expected after dictionary key and ':' (4164871504.py, line 6)",
     "output_type": "error",
     "traceback": [
      "\u001b[0;36m  Cell \u001b[0;32mIn[62], line 6\u001b[0;36m\u001b[0m\n\u001b[0;31m    'sequence_size': ,\u001b[0m\n\u001b[0m                   ^\u001b[0m\n\u001b[0;31mSyntaxError\u001b[0m\u001b[0;31m:\u001b[0m expression expected after dictionary key and ':'\n"
     ]
    }
   ],
   "source": [
    "def create_metadata(metadata_path):\n",
    "    job_path = context['ti'].xcom_pull(task_ids='create_job_id', key=\"job_path\")\n",
    "\n",
    "    with open(metadata_path, 'w+') as f:\n",
    "        f.write(json.dumps({\n",
    "            'sequence_size': args.sequence_size,\n",
    "            'n_levels': labels_size,\n",
    "            'labels_size' [labels['label1_count'],labels['label2_count'],\n",
    "                           labels['label3_count'],labels['label4_count'],\n",
    "                           labels['label5_count']]\n",
    "            'trainset_count': ,\n",
    "            'validationset_count': ,\n",
    "            'testset_count': \n",
    "        }))"
   ]
  },
  {
   "cell_type": "code",
   "execution_count": 141,
   "id": "af5df190-01df-4f13-a475-35132a6712f4",
   "metadata": {},
   "outputs": [],
   "source": [
    "tracks_df.to_csv(os.path.join(train_path,\"tracks.csv\"),index=False)"
   ]
  },
  {
   "cell_type": "code",
   "execution_count": 142,
   "id": "5dc7f941-56f4-43bc-9d35-8fc233bb2a48",
   "metadata": {},
   "outputs": [],
   "source": [
    "tracks_df = pd.read_csv(os.path.join(train_path,\"tracks.csv\"))"
   ]
  }
 ],
 "metadata": {
  "kernelspec": {
   "display_name": "Python 3 (ipykernel)",
   "language": "python",
   "name": "python3"
  },
  "language_info": {
   "codemirror_mode": {
    "name": "ipython",
    "version": 3
   },
   "file_extension": ".py",
   "mimetype": "text/x-python",
   "name": "python",
   "nbconvert_exporter": "python",
   "pygments_lexer": "ipython3",
   "version": "3.10.9"
  }
 },
 "nbformat": 4,
 "nbformat_minor": 5
}
