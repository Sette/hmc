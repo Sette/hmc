{
 "cells": [
  {
   "cell_type": "code",
   "execution_count": 57,
   "id": "4843caad-aa4a-420d-81f8-dcc1189318c6",
   "metadata": {
    "tags": []
   },
   "outputs": [],
   "source": [
    "import pandas as pd\n",
    "import numpy as np\n",
    "import json\n",
    "import ast\n",
    "import os"
   ]
  },
  {
   "cell_type": "code",
   "execution_count": 58,
   "id": "24ecd036-1b51-4c28-983e-6790fb733546",
   "metadata": {},
   "outputs": [],
   "source": [
    "from tqdm.notebook import tqdm"
   ]
  },
  {
   "cell_type": "code",
   "execution_count": 59,
   "id": "47f36844-bc15-46f4-8994-6744042b62cd",
   "metadata": {},
   "outputs": [],
   "source": [
    "tqdm.pandas()"
   ]
  },
  {
   "cell_type": "code",
   "execution_count": 60,
   "id": "194b058a-a5c5-4d87-817d-aeb9e833cc2b",
   "metadata": {},
   "outputs": [],
   "source": [
    "\n",
    "args = pd.Series({\n",
    "    \"root_dir\":\"/mnt/disks/data/\",\n",
    "    \"dataset_path\":\"/mnt/disks/data/fma/fma_large\",\n",
    "    \"embeddings\":\"music_style\",\n",
    "    \"train_id\": \"hierarchical_all\",\n",
    "    'sample_size': 1\n",
    "})\n"
   ]
  },
  {
   "cell_type": "code",
   "execution_count": 61,
   "id": "87f3fe25-bd80-4976-ba77-ab30589a9cd6",
   "metadata": {},
   "outputs": [],
   "source": [
    "\n",
    "job_path = \"/mnt/disks/data/fma/trains\"\n",
    "\n",
    "# In[15]:\n",
    "\n",
    "train_path = os.path.join(job_path,args.train_id)\n",
    "\n",
    "# In[16]:\n",
    "\n",
    "base_path = os.path.join(args.root_dir,\"fma\")\n",
    "\n",
    "# In[17]:\n",
    "\n",
    "models_path = os.path.join(args.root_dir,\"models\")\n",
    "\n",
    "\n",
    "metadata_path_fma = os.path.join(base_path,\"fma_metadata\")\n",
    "\n",
    "# In[18]:\n",
    "\n",
    "metadata_file = os.path.join(train_path,\"metadata.json\")\n",
    "\n",
    "\n",
    "categories_labels_path = os.path.join(train_path,\"labels.json\")\n"
   ]
  },
  {
   "cell_type": "code",
   "execution_count": 62,
   "id": "ffea2009-fdc3-425e-bd6b-a67696ab24da",
   "metadata": {},
   "outputs": [],
   "source": [
    "\n",
    "\n",
    "def __load_json__(path):\n",
    "    with open(path, 'r') as f:\n",
    "        tmp = json.loads(f.read())\n",
    "\n",
    "    return tmp\n",
    "\n",
    "\n"
   ]
  },
  {
   "cell_type": "code",
   "execution_count": 63,
   "id": "b413d7a2",
   "metadata": {},
   "outputs": [],
   "source": [
    "\n",
    "def create_dir(path):\n",
    "    # checking if the directory demo_folder2 \n",
    "    # exist or not.\n",
    "    if not os.path.isdir(path):\n",
    "\n",
    "        # if the demo_folder2 directory is \n",
    "        # not present then create it.\n",
    "        os.makedirs(path)\n",
    "    return True\n",
    "\n"
   ]
  },
  {
   "cell_type": "code",
   "execution_count": 64,
   "id": "be2f0fcc",
   "metadata": {},
   "outputs": [
    {
     "data": {
      "text/plain": [
       "True"
      ]
     },
     "execution_count": 64,
     "metadata": {},
     "output_type": "execute_result"
    }
   ],
   "source": [
    "create_dir(train_path)"
   ]
  },
  {
   "cell_type": "markdown",
   "id": "6ab3d0b4-fc7f-4c73-b0cc-9d89729bae84",
   "metadata": {
    "tags": []
   },
   "source": [
    "## Load genres file. Contains relationships beetwen genres"
   ]
  },
  {
   "cell_type": "code",
   "execution_count": 65,
   "id": "7596e665-526e-400b-93ad-432cb7eb0d79",
   "metadata": {},
   "outputs": [],
   "source": [
    "genres_df = pd.read_csv(os.path.join(metadata_path_fma,'genres.csv'))\n"
   ]
  },
  {
   "cell_type": "code",
   "execution_count": 66,
   "id": "582b4335-bf69-4c9a-873e-ffd8253ede25",
   "metadata": {},
   "outputs": [
    {
     "data": {
      "text/html": [
       "<div>\n",
       "<style scoped>\n",
       "    .dataframe tbody tr th:only-of-type {\n",
       "        vertical-align: middle;\n",
       "    }\n",
       "\n",
       "    .dataframe tbody tr th {\n",
       "        vertical-align: top;\n",
       "    }\n",
       "\n",
       "    .dataframe thead th {\n",
       "        text-align: right;\n",
       "    }\n",
       "</style>\n",
       "<table border=\"1\" class=\"dataframe\">\n",
       "  <thead>\n",
       "    <tr style=\"text-align: right;\">\n",
       "      <th></th>\n",
       "      <th>genre_id</th>\n",
       "      <th>#tracks</th>\n",
       "      <th>parent</th>\n",
       "      <th>title</th>\n",
       "      <th>top_level</th>\n",
       "    </tr>\n",
       "  </thead>\n",
       "  <tbody>\n",
       "    <tr>\n",
       "      <th>0</th>\n",
       "      <td>1</td>\n",
       "      <td>8693</td>\n",
       "      <td>38</td>\n",
       "      <td>Avant-Garde</td>\n",
       "      <td>38</td>\n",
       "    </tr>\n",
       "    <tr>\n",
       "      <th>1</th>\n",
       "      <td>2</td>\n",
       "      <td>5271</td>\n",
       "      <td>0</td>\n",
       "      <td>International</td>\n",
       "      <td>2</td>\n",
       "    </tr>\n",
       "    <tr>\n",
       "      <th>2</th>\n",
       "      <td>3</td>\n",
       "      <td>1752</td>\n",
       "      <td>0</td>\n",
       "      <td>Blues</td>\n",
       "      <td>3</td>\n",
       "    </tr>\n",
       "    <tr>\n",
       "      <th>3</th>\n",
       "      <td>4</td>\n",
       "      <td>4126</td>\n",
       "      <td>0</td>\n",
       "      <td>Jazz</td>\n",
       "      <td>4</td>\n",
       "    </tr>\n",
       "    <tr>\n",
       "      <th>4</th>\n",
       "      <td>5</td>\n",
       "      <td>4106</td>\n",
       "      <td>0</td>\n",
       "      <td>Classical</td>\n",
       "      <td>5</td>\n",
       "    </tr>\n",
       "    <tr>\n",
       "      <th>...</th>\n",
       "      <td>...</td>\n",
       "      <td>...</td>\n",
       "      <td>...</td>\n",
       "      <td>...</td>\n",
       "      <td>...</td>\n",
       "    </tr>\n",
       "    <tr>\n",
       "      <th>158</th>\n",
       "      <td>1032</td>\n",
       "      <td>60</td>\n",
       "      <td>102</td>\n",
       "      <td>Turkish</td>\n",
       "      <td>2</td>\n",
       "    </tr>\n",
       "    <tr>\n",
       "      <th>159</th>\n",
       "      <td>1060</td>\n",
       "      <td>30</td>\n",
       "      <td>46</td>\n",
       "      <td>Tango</td>\n",
       "      <td>2</td>\n",
       "    </tr>\n",
       "    <tr>\n",
       "      <th>160</th>\n",
       "      <td>1156</td>\n",
       "      <td>26</td>\n",
       "      <td>130</td>\n",
       "      <td>Fado</td>\n",
       "      <td>2</td>\n",
       "    </tr>\n",
       "    <tr>\n",
       "      <th>161</th>\n",
       "      <td>1193</td>\n",
       "      <td>72</td>\n",
       "      <td>763</td>\n",
       "      <td>Christmas</td>\n",
       "      <td>38</td>\n",
       "    </tr>\n",
       "    <tr>\n",
       "      <th>162</th>\n",
       "      <td>1235</td>\n",
       "      <td>14938</td>\n",
       "      <td>0</td>\n",
       "      <td>Instrumental</td>\n",
       "      <td>1235</td>\n",
       "    </tr>\n",
       "  </tbody>\n",
       "</table>\n",
       "<p>163 rows × 5 columns</p>\n",
       "</div>"
      ],
      "text/plain": [
       "     genre_id  #tracks  parent          title  top_level\n",
       "0           1     8693      38    Avant-Garde         38\n",
       "1           2     5271       0  International          2\n",
       "2           3     1752       0          Blues          3\n",
       "3           4     4126       0           Jazz          4\n",
       "4           5     4106       0      Classical          5\n",
       "..        ...      ...     ...            ...        ...\n",
       "158      1032       60     102        Turkish          2\n",
       "159      1060       30      46          Tango          2\n",
       "160      1156       26     130           Fado          2\n",
       "161      1193       72     763      Christmas         38\n",
       "162      1235    14938       0   Instrumental       1235\n",
       "\n",
       "[163 rows x 5 columns]"
      ]
     },
     "execution_count": 66,
     "metadata": {},
     "output_type": "execute_result"
    }
   ],
   "source": [
    "genres_df"
   ]
  },
  {
   "cell_type": "code",
   "execution_count": 67,
   "id": "d80be793-93db-4610-ae66-5f14bf99bd2b",
   "metadata": {},
   "outputs": [
    {
     "data": {
      "text/html": [
       "<div>\n",
       "<style scoped>\n",
       "    .dataframe tbody tr th:only-of-type {\n",
       "        vertical-align: middle;\n",
       "    }\n",
       "\n",
       "    .dataframe tbody tr th {\n",
       "        vertical-align: top;\n",
       "    }\n",
       "\n",
       "    .dataframe thead th {\n",
       "        text-align: right;\n",
       "    }\n",
       "</style>\n",
       "<table border=\"1\" class=\"dataframe\">\n",
       "  <thead>\n",
       "    <tr style=\"text-align: right;\">\n",
       "      <th></th>\n",
       "      <th>genre_id</th>\n",
       "      <th>#tracks</th>\n",
       "      <th>parent</th>\n",
       "      <th>title</th>\n",
       "      <th>top_level</th>\n",
       "    </tr>\n",
       "  </thead>\n",
       "  <tbody>\n",
       "    <tr>\n",
       "      <th>136</th>\n",
       "      <td>495</td>\n",
       "      <td>2061</td>\n",
       "      <td>15</td>\n",
       "      <td>Downtempo</td>\n",
       "      <td>15</td>\n",
       "    </tr>\n",
       "  </tbody>\n",
       "</table>\n",
       "</div>"
      ],
      "text/plain": [
       "     genre_id  #tracks  parent      title  top_level\n",
       "136       495     2061      15  Downtempo         15"
      ]
     },
     "execution_count": 67,
     "metadata": {},
     "output_type": "execute_result"
    }
   ],
   "source": [
    "genres_df[genres_df['genre_id'] == 495]"
   ]
  },
  {
   "cell_type": "code",
   "execution_count": 68,
   "id": "28762aaf-32a4-41a5-af9c-cee3eca712ad",
   "metadata": {},
   "outputs": [],
   "source": [
    "# Cria um dicionário que associa o ID de cada música aos IDs de seus gêneros musicais\n",
    "tracks_df = pd.read_csv(os.path.join(metadata_path_fma,'tracks_valid.csv'))"
   ]
  },
  {
   "cell_type": "code",
   "execution_count": 69,
   "id": "13ea402f-660b-4b95-8f91-563c01971578",
   "metadata": {},
   "outputs": [],
   "source": [
    "tracks_df = tracks_df.sample(frac=args.sample_size)"
   ]
  },
  {
   "cell_type": "code",
   "execution_count": 70,
   "id": "552289c1-6b0d-48a9-8cd9-a185c12f6c9a",
   "metadata": {},
   "outputs": [
    {
     "data": {
      "text/html": [
       "<div>\n",
       "<style scoped>\n",
       "    .dataframe tbody tr th:only-of-type {\n",
       "        vertical-align: middle;\n",
       "    }\n",
       "\n",
       "    .dataframe tbody tr th {\n",
       "        vertical-align: top;\n",
       "    }\n",
       "\n",
       "    .dataframe thead th {\n",
       "        text-align: right;\n",
       "    }\n",
       "</style>\n",
       "<table border=\"1\" class=\"dataframe\">\n",
       "  <thead>\n",
       "    <tr style=\"text-align: right;\">\n",
       "      <th></th>\n",
       "      <th>track_id</th>\n",
       "      <th>track_title</th>\n",
       "      <th>valid_genre</th>\n",
       "    </tr>\n",
       "  </thead>\n",
       "  <tbody>\n",
       "    <tr>\n",
       "      <th>3463</th>\n",
       "      <td>6638</td>\n",
       "      <td>Erosion of Civil Liberties/Untitled</td>\n",
       "      <td>['97']</td>\n",
       "    </tr>\n",
       "    <tr>\n",
       "      <th>65719</th>\n",
       "      <td>101920</td>\n",
       "      <td>Dolphin Island</td>\n",
       "      <td>['3', '85', '103']</td>\n",
       "    </tr>\n",
       "    <tr>\n",
       "      <th>18307</th>\n",
       "      <td>29768</td>\n",
       "      <td>Level Completed</td>\n",
       "      <td>['15', '297']</td>\n",
       "    </tr>\n",
       "    <tr>\n",
       "      <th>25475</th>\n",
       "      <td>40023</td>\n",
       "      <td>C'mon</td>\n",
       "      <td>['12']</td>\n",
       "    </tr>\n",
       "    <tr>\n",
       "      <th>37964</th>\n",
       "      <td>58316</td>\n",
       "      <td>Black One</td>\n",
       "      <td>['2', '12', '38']</td>\n",
       "    </tr>\n",
       "    <tr>\n",
       "      <th>38677</th>\n",
       "      <td>59172</td>\n",
       "      <td>Ethio Song</td>\n",
       "      <td>['3', '33']</td>\n",
       "    </tr>\n",
       "    <tr>\n",
       "      <th>26356</th>\n",
       "      <td>41164</td>\n",
       "      <td>Aïbug</td>\n",
       "      <td>['236']</td>\n",
       "    </tr>\n",
       "    <tr>\n",
       "      <th>55862</th>\n",
       "      <td>84481</td>\n",
       "      <td>Variation 5</td>\n",
       "      <td>['38', '468', '514']</td>\n",
       "    </tr>\n",
       "    <tr>\n",
       "      <th>76430</th>\n",
       "      <td>117465</td>\n",
       "      <td>Change</td>\n",
       "      <td>['66']</td>\n",
       "    </tr>\n",
       "    <tr>\n",
       "      <th>66186</th>\n",
       "      <td>103885</td>\n",
       "      <td>Transcendental Ego (ft. Vladislav Žemba) .mp3</td>\n",
       "      <td>['1', '2', '38']</td>\n",
       "    </tr>\n",
       "    <tr>\n",
       "      <th>68011</th>\n",
       "      <td>106456</td>\n",
       "      <td>freedom</td>\n",
       "      <td>['94']</td>\n",
       "    </tr>\n",
       "    <tr>\n",
       "      <th>44485</th>\n",
       "      <td>66707</td>\n",
       "      <td>MOZART - Fantasy in C minor, K. 475, and Piano...</td>\n",
       "      <td>['5']</td>\n",
       "    </tr>\n",
       "    <tr>\n",
       "      <th>86514</th>\n",
       "      <td>130851</td>\n",
       "      <td>Sunny Blue</td>\n",
       "      <td>['12', '21', '100']</td>\n",
       "    </tr>\n",
       "    <tr>\n",
       "      <th>85046</th>\n",
       "      <td>128984</td>\n",
       "      <td>Astral Vomitory Rave</td>\n",
       "      <td>['15', '27', '38']</td>\n",
       "    </tr>\n",
       "    <tr>\n",
       "      <th>90687</th>\n",
       "      <td>136412</td>\n",
       "      <td>Trip</td>\n",
       "      <td>['15', '76']</td>\n",
       "    </tr>\n",
       "    <tr>\n",
       "      <th>8739</th>\n",
       "      <td>14906</td>\n",
       "      <td>Heartbreak To Hide</td>\n",
       "      <td>['9']</td>\n",
       "    </tr>\n",
       "    <tr>\n",
       "      <th>93933</th>\n",
       "      <td>140405</td>\n",
       "      <td>Echoing your voice</td>\n",
       "      <td>['12', '32', '38']</td>\n",
       "    </tr>\n",
       "    <tr>\n",
       "      <th>20714</th>\n",
       "      <td>33191</td>\n",
       "      <td>Big Hunk of Love</td>\n",
       "      <td>['12']</td>\n",
       "    </tr>\n",
       "    <tr>\n",
       "      <th>37897</th>\n",
       "      <td>58213</td>\n",
       "      <td>B*tch You Ain't A Barbie</td>\n",
       "      <td>['21']</td>\n",
       "    </tr>\n",
       "    <tr>\n",
       "      <th>83416</th>\n",
       "      <td>126682</td>\n",
       "      <td>Details</td>\n",
       "      <td>['66', '137', '651']</td>\n",
       "    </tr>\n",
       "  </tbody>\n",
       "</table>\n",
       "</div>"
      ],
      "text/plain": [
       "       track_id                                        track_title  \\\n",
       "3463       6638                Erosion of Civil Liberties/Untitled   \n",
       "65719    101920                                     Dolphin Island   \n",
       "18307     29768                                    Level Completed   \n",
       "25475     40023                                              C'mon   \n",
       "37964     58316                                          Black One   \n",
       "38677     59172                                         Ethio Song   \n",
       "26356     41164                                             Aïbug   \n",
       "55862     84481                                        Variation 5   \n",
       "76430    117465                                             Change   \n",
       "66186    103885      Transcendental Ego (ft. Vladislav Žemba) .mp3   \n",
       "68011    106456                                            freedom   \n",
       "44485     66707  MOZART - Fantasy in C minor, K. 475, and Piano...   \n",
       "86514    130851                                         Sunny Blue   \n",
       "85046    128984                               Astral Vomitory Rave   \n",
       "90687    136412                                               Trip   \n",
       "8739      14906                                 Heartbreak To Hide   \n",
       "93933    140405                                 Echoing your voice   \n",
       "20714     33191                                   Big Hunk of Love   \n",
       "37897     58213                           B*tch You Ain't A Barbie   \n",
       "83416    126682                                            Details   \n",
       "\n",
       "                valid_genre  \n",
       "3463                 ['97']  \n",
       "65719    ['3', '85', '103']  \n",
       "18307         ['15', '297']  \n",
       "25475                ['12']  \n",
       "37964     ['2', '12', '38']  \n",
       "38677           ['3', '33']  \n",
       "26356               ['236']  \n",
       "55862  ['38', '468', '514']  \n",
       "76430                ['66']  \n",
       "66186      ['1', '2', '38']  \n",
       "68011                ['94']  \n",
       "44485                 ['5']  \n",
       "86514   ['12', '21', '100']  \n",
       "85046    ['15', '27', '38']  \n",
       "90687          ['15', '76']  \n",
       "8739                  ['9']  \n",
       "93933    ['12', '32', '38']  \n",
       "20714                ['12']  \n",
       "37897                ['21']  \n",
       "83416  ['66', '137', '651']  "
      ]
     },
     "execution_count": 70,
     "metadata": {},
     "output_type": "execute_result"
    }
   ],
   "source": [
    "tracks_df.sample(20)"
   ]
  },
  {
   "cell_type": "code",
   "execution_count": 71,
   "id": "fa6c0adc-32c6-4a14-a9aa-f0af12eacbf1",
   "metadata": {},
   "outputs": [
    {
     "data": {
      "text/plain": [
       "array([\"['3', '27', '33', '58', '76', '103']\", \"['79', '502']\",\n",
       "       \"['11', '15']\", ..., \"['18']\", \"['17', '18', '38']\",\n",
       "       \"['5', '18', '107']\"], dtype=object)"
      ]
     },
     "execution_count": 71,
     "metadata": {},
     "output_type": "execute_result"
    }
   ],
   "source": [
    "tracks_df.valid_genre.values"
   ]
  },
  {
   "cell_type": "code",
   "execution_count": 72,
   "id": "31ad48bd-2868-46ed-81e6-02b6b26e2b1c",
   "metadata": {},
   "outputs": [
    {
     "data": {
      "text/plain": [
       "66010                                    A Yellow Moth\n",
       "65572                                             Nena\n",
       "68219    You do not touch the earth, you are the earth\n",
       "57446                                              One\n",
       "32824                                      Beach Party\n",
       "                             ...                      \n",
       "39361                   The Snow That Never Falls Down\n",
       "4163                                          Track 15\n",
       "65461                                            Slide\n",
       "93928                              Pirates libertaires\n",
       "68099                                     Waking Stars\n",
       "Name: track_title, Length: 104186, dtype: object"
      ]
     },
     "execution_count": 72,
     "metadata": {},
     "output_type": "execute_result"
    }
   ],
   "source": [
    "tracks_df.track_title"
   ]
  },
  {
   "cell_type": "code",
   "execution_count": 73,
   "id": "220d2eb1-95ba-41d8-9499-bd6278ef473a",
   "metadata": {},
   "outputs": [],
   "source": [
    "## Get complete genre structure\n",
    "def get_all_structure(estrutura,df_genres):\n",
    "    ## Get structure from df_genres\n",
    "    def get_all_structure_from_df(estrutura,df_genres,structure=[]):\n",
    "        if estrutura == 0:\n",
    "            return structure\n",
    "        else:\n",
    "            structure.append(int(estrutura))\n",
    "            get_all_structure_from_df(df_genres[df_genres[\"genre_id\"]==int(estrutura)].parent.values[0],df_genres,structure)\n",
    "            return structure\n",
    "    \n",
    "    return get_all_structure_from_df(estrutura,df_genres,structure=[])\n",
    "    "
   ]
  },
  {
   "cell_type": "code",
   "execution_count": 74,
   "id": "2e89c7be-57eb-46bf-8506-b966ab685b50",
   "metadata": {},
   "outputs": [],
   "source": [
    "# tracks_df['valid_genre'] = tracks_df.track_genres.apply(lambda x: x.strip('][').split(', ') if x != '[]' else None)\n",
    "tracks_df['valid_genre'] = tracks_df.valid_genre.apply(lambda x: ast.literal_eval(x))"
   ]
  },
  {
   "cell_type": "code",
   "execution_count": 75,
   "id": "b50f6d87-8a38-4b6a-92b7-c10a559de965",
   "metadata": {},
   "outputs": [],
   "source": [
    "tracks_df['last_genre_id'] = tracks_df.valid_genre.apply(lambda x:x[-1] if x != None else None)"
   ]
  },
  {
   "cell_type": "code",
   "execution_count": 76,
   "id": "5c1ccfaf-ad6a-4f6c-87d6-b6e8a74a8d0c",
   "metadata": {},
   "outputs": [
    {
     "data": {
      "text/html": [
       "<div>\n",
       "<style scoped>\n",
       "    .dataframe tbody tr th:only-of-type {\n",
       "        vertical-align: middle;\n",
       "    }\n",
       "\n",
       "    .dataframe tbody tr th {\n",
       "        vertical-align: top;\n",
       "    }\n",
       "\n",
       "    .dataframe thead th {\n",
       "        text-align: right;\n",
       "    }\n",
       "</style>\n",
       "<table border=\"1\" class=\"dataframe\">\n",
       "  <thead>\n",
       "    <tr style=\"text-align: right;\">\n",
       "      <th></th>\n",
       "      <th>track_id</th>\n",
       "      <th>track_title</th>\n",
       "      <th>valid_genre</th>\n",
       "      <th>last_genre_id</th>\n",
       "    </tr>\n",
       "  </thead>\n",
       "  <tbody>\n",
       "    <tr>\n",
       "      <th>97852</th>\n",
       "      <td>146010</td>\n",
       "      <td>Skärhamn</td>\n",
       "      <td>[15, 66]</td>\n",
       "      <td>66</td>\n",
       "    </tr>\n",
       "    <tr>\n",
       "      <th>2231</th>\n",
       "      <td>3950</td>\n",
       "      <td>Click Click Bang Bang</td>\n",
       "      <td>[12, 85]</td>\n",
       "      <td>85</td>\n",
       "    </tr>\n",
       "    <tr>\n",
       "      <th>58079</th>\n",
       "      <td>87333</td>\n",
       "      <td>Gabe and Yas - The Ting Song</td>\n",
       "      <td>[15, 38, 811]</td>\n",
       "      <td>811</td>\n",
       "    </tr>\n",
       "    <tr>\n",
       "      <th>94203</th>\n",
       "      <td>140839</td>\n",
       "      <td>Likelihood Of Confusion</td>\n",
       "      <td>[58]</td>\n",
       "      <td>58</td>\n",
       "    </tr>\n",
       "    <tr>\n",
       "      <th>27343</th>\n",
       "      <td>42380</td>\n",
       "      <td>Indigenous Disguised</td>\n",
       "      <td>[3, 27, 33, 38, 49, 94, 103]</td>\n",
       "      <td>103</td>\n",
       "    </tr>\n",
       "    <tr>\n",
       "      <th>93683</th>\n",
       "      <td>140085</td>\n",
       "      <td>Camp Lily Dale</td>\n",
       "      <td>[33, 47]</td>\n",
       "      <td>47</td>\n",
       "    </tr>\n",
       "    <tr>\n",
       "      <th>61379</th>\n",
       "      <td>94175</td>\n",
       "      <td>Fons will fix it</td>\n",
       "      <td>[5, 18]</td>\n",
       "      <td>18</td>\n",
       "    </tr>\n",
       "    <tr>\n",
       "      <th>56251</th>\n",
       "      <td>84945</td>\n",
       "      <td>spineapple</td>\n",
       "      <td>[32, 41]</td>\n",
       "      <td>41</td>\n",
       "    </tr>\n",
       "    <tr>\n",
       "      <th>44974</th>\n",
       "      <td>67323</td>\n",
       "      <td>Honours</td>\n",
       "      <td>[27, 76]</td>\n",
       "      <td>76</td>\n",
       "    </tr>\n",
       "    <tr>\n",
       "      <th>98051</th>\n",
       "      <td>146313</td>\n",
       "      <td>Cat's Eye</td>\n",
       "      <td>[18, 456, 1235]</td>\n",
       "      <td>1235</td>\n",
       "    </tr>\n",
       "    <tr>\n",
       "      <th>19420</th>\n",
       "      <td>31473</td>\n",
       "      <td>Apple Confiture</td>\n",
       "      <td>[12, 17, 27, 250]</td>\n",
       "      <td>250</td>\n",
       "    </tr>\n",
       "    <tr>\n",
       "      <th>84225</th>\n",
       "      <td>127735</td>\n",
       "      <td>The Curse Of The Albatross</td>\n",
       "      <td>[188, 189, 378]</td>\n",
       "      <td>378</td>\n",
       "    </tr>\n",
       "    <tr>\n",
       "      <th>38932</th>\n",
       "      <td>59481</td>\n",
       "      <td>I Guess You Found Out</td>\n",
       "      <td>[14]</td>\n",
       "      <td>14</td>\n",
       "    </tr>\n",
       "    <tr>\n",
       "      <th>9665</th>\n",
       "      <td>16288</td>\n",
       "      <td>Human Cannonball</td>\n",
       "      <td>[25, 85]</td>\n",
       "      <td>85</td>\n",
       "    </tr>\n",
       "    <tr>\n",
       "      <th>9824</th>\n",
       "      <td>16520</td>\n",
       "      <td>Cruel World</td>\n",
       "      <td>[1, 15, 32, 38]</td>\n",
       "      <td>38</td>\n",
       "    </tr>\n",
       "    <tr>\n",
       "      <th>78681</th>\n",
       "      <td>120220</td>\n",
       "      <td>пусто-</td>\n",
       "      <td>[1, 18, 38, 107, 247, 250, 659, 1235]</td>\n",
       "      <td>1235</td>\n",
       "    </tr>\n",
       "    <tr>\n",
       "      <th>71550</th>\n",
       "      <td>111173</td>\n",
       "      <td>carnage sur l'autoroute</td>\n",
       "      <td>[15, 186, 362]</td>\n",
       "      <td>362</td>\n",
       "    </tr>\n",
       "    <tr>\n",
       "      <th>76000</th>\n",
       "      <td>116776</td>\n",
       "      <td>Always</td>\n",
       "      <td>[41, 66, 103]</td>\n",
       "      <td>103</td>\n",
       "    </tr>\n",
       "    <tr>\n",
       "      <th>94316</th>\n",
       "      <td>141045</td>\n",
       "      <td>Tornado</td>\n",
       "      <td>[15, 18, 1235]</td>\n",
       "      <td>1235</td>\n",
       "    </tr>\n",
       "    <tr>\n",
       "      <th>87111</th>\n",
       "      <td>131567</td>\n",
       "      <td>Their Business Model Doesn't Coincide With Rea...</td>\n",
       "      <td>[32, 224]</td>\n",
       "      <td>224</td>\n",
       "    </tr>\n",
       "  </tbody>\n",
       "</table>\n",
       "</div>"
      ],
      "text/plain": [
       "       track_id                                        track_title  \\\n",
       "97852    146010                                           Skärhamn   \n",
       "2231       3950                              Click Click Bang Bang   \n",
       "58079     87333                       Gabe and Yas - The Ting Song   \n",
       "94203    140839                            Likelihood Of Confusion   \n",
       "27343     42380                               Indigenous Disguised   \n",
       "93683    140085                                     Camp Lily Dale   \n",
       "61379     94175                                   Fons will fix it   \n",
       "56251     84945                                         spineapple   \n",
       "44974     67323                                            Honours   \n",
       "98051    146313                                          Cat's Eye   \n",
       "19420     31473                                    Apple Confiture   \n",
       "84225    127735                         The Curse Of The Albatross   \n",
       "38932     59481                              I Guess You Found Out   \n",
       "9665      16288                                   Human Cannonball   \n",
       "9824      16520                                        Cruel World   \n",
       "78681    120220                                             пусто-   \n",
       "71550    111173                            carnage sur l'autoroute   \n",
       "76000    116776                                             Always   \n",
       "94316    141045                                            Tornado   \n",
       "87111    131567  Their Business Model Doesn't Coincide With Rea...   \n",
       "\n",
       "                                 valid_genre last_genre_id  \n",
       "97852                               [15, 66]            66  \n",
       "2231                                [12, 85]            85  \n",
       "58079                          [15, 38, 811]           811  \n",
       "94203                                   [58]            58  \n",
       "27343           [3, 27, 33, 38, 49, 94, 103]           103  \n",
       "93683                               [33, 47]            47  \n",
       "61379                                [5, 18]            18  \n",
       "56251                               [32, 41]            41  \n",
       "44974                               [27, 76]            76  \n",
       "98051                        [18, 456, 1235]          1235  \n",
       "19420                      [12, 17, 27, 250]           250  \n",
       "84225                        [188, 189, 378]           378  \n",
       "38932                                   [14]            14  \n",
       "9665                                [25, 85]            85  \n",
       "9824                         [1, 15, 32, 38]            38  \n",
       "78681  [1, 18, 38, 107, 247, 250, 659, 1235]          1235  \n",
       "71550                         [15, 186, 362]           362  \n",
       "76000                          [41, 66, 103]           103  \n",
       "94316                         [15, 18, 1235]          1235  \n",
       "87111                              [32, 224]           224  "
      ]
     },
     "execution_count": 76,
     "metadata": {},
     "output_type": "execute_result"
    }
   ],
   "source": [
    "tracks_df.sample(20)"
   ]
  },
  {
   "cell_type": "code",
   "execution_count": 77,
   "id": "f5de1c7f-c2b6-487a-83bc-974ddb99008a",
   "metadata": {},
   "outputs": [],
   "source": [
    "tracks_df.dropna(inplace=True)"
   ]
  },
  {
   "cell_type": "code",
   "execution_count": 78,
   "id": "fcb10f3d-d6fa-4e7b-a4f0-d8536a1a2898",
   "metadata": {},
   "outputs": [
    {
     "data": {
      "text/html": [
       "<div>\n",
       "<style scoped>\n",
       "    .dataframe tbody tr th:only-of-type {\n",
       "        vertical-align: middle;\n",
       "    }\n",
       "\n",
       "    .dataframe tbody tr th {\n",
       "        vertical-align: top;\n",
       "    }\n",
       "\n",
       "    .dataframe thead th {\n",
       "        text-align: right;\n",
       "    }\n",
       "</style>\n",
       "<table border=\"1\" class=\"dataframe\">\n",
       "  <thead>\n",
       "    <tr style=\"text-align: right;\">\n",
       "      <th></th>\n",
       "      <th>track_id</th>\n",
       "      <th>track_title</th>\n",
       "      <th>valid_genre</th>\n",
       "      <th>last_genre_id</th>\n",
       "    </tr>\n",
       "  </thead>\n",
       "  <tbody>\n",
       "    <tr>\n",
       "      <th>66010</th>\n",
       "      <td>103580</td>\n",
       "      <td>A Yellow Moth</td>\n",
       "      <td>[3, 27, 33, 58, 76, 103]</td>\n",
       "      <td>103</td>\n",
       "    </tr>\n",
       "    <tr>\n",
       "      <th>65572</th>\n",
       "      <td>101111</td>\n",
       "      <td>Nena</td>\n",
       "      <td>[79, 502]</td>\n",
       "      <td>502</td>\n",
       "    </tr>\n",
       "    <tr>\n",
       "      <th>68219</th>\n",
       "      <td>106704</td>\n",
       "      <td>You do not touch the earth, you are the earth</td>\n",
       "      <td>[11, 15]</td>\n",
       "      <td>15</td>\n",
       "    </tr>\n",
       "    <tr>\n",
       "      <th>57446</th>\n",
       "      <td>86412</td>\n",
       "      <td>One</td>\n",
       "      <td>[4, 97]</td>\n",
       "      <td>97</td>\n",
       "    </tr>\n",
       "    <tr>\n",
       "      <th>32824</th>\n",
       "      <td>51008</td>\n",
       "      <td>Beach Party</td>\n",
       "      <td>[2]</td>\n",
       "      <td>2</td>\n",
       "    </tr>\n",
       "    <tr>\n",
       "      <th>...</th>\n",
       "      <td>...</td>\n",
       "      <td>...</td>\n",
       "      <td>...</td>\n",
       "      <td>...</td>\n",
       "    </tr>\n",
       "    <tr>\n",
       "      <th>39361</th>\n",
       "      <td>59987</td>\n",
       "      <td>The Snow That Never Falls Down</td>\n",
       "      <td>[4, 15, 26, 42, 456]</td>\n",
       "      <td>456</td>\n",
       "    </tr>\n",
       "    <tr>\n",
       "      <th>4163</th>\n",
       "      <td>8370</td>\n",
       "      <td>Track 15</td>\n",
       "      <td>[22]</td>\n",
       "      <td>22</td>\n",
       "    </tr>\n",
       "    <tr>\n",
       "      <th>65461</th>\n",
       "      <td>100857</td>\n",
       "      <td>Slide</td>\n",
       "      <td>[18]</td>\n",
       "      <td>18</td>\n",
       "    </tr>\n",
       "    <tr>\n",
       "      <th>93928</th>\n",
       "      <td>140400</td>\n",
       "      <td>Pirates libertaires</td>\n",
       "      <td>[17, 18, 38]</td>\n",
       "      <td>38</td>\n",
       "    </tr>\n",
       "    <tr>\n",
       "      <th>68099</th>\n",
       "      <td>106576</td>\n",
       "      <td>Waking Stars</td>\n",
       "      <td>[5, 18, 107]</td>\n",
       "      <td>107</td>\n",
       "    </tr>\n",
       "  </tbody>\n",
       "</table>\n",
       "<p>104185 rows × 4 columns</p>\n",
       "</div>"
      ],
      "text/plain": [
       "       track_id                                    track_title  \\\n",
       "66010    103580                                  A Yellow Moth   \n",
       "65572    101111                                           Nena   \n",
       "68219    106704  You do not touch the earth, you are the earth   \n",
       "57446     86412                                            One   \n",
       "32824     51008                                    Beach Party   \n",
       "...         ...                                            ...   \n",
       "39361     59987                 The Snow That Never Falls Down   \n",
       "4163       8370                                       Track 15   \n",
       "65461    100857                                          Slide   \n",
       "93928    140400                            Pirates libertaires   \n",
       "68099    106576                                   Waking Stars   \n",
       "\n",
       "                    valid_genre last_genre_id  \n",
       "66010  [3, 27, 33, 58, 76, 103]           103  \n",
       "65572                 [79, 502]           502  \n",
       "68219                  [11, 15]            15  \n",
       "57446                   [4, 97]            97  \n",
       "32824                       [2]             2  \n",
       "...                         ...           ...  \n",
       "39361      [4, 15, 26, 42, 456]           456  \n",
       "4163                       [22]            22  \n",
       "65461                      [18]            18  \n",
       "93928              [17, 18, 38]            38  \n",
       "68099              [5, 18, 107]           107  \n",
       "\n",
       "[104185 rows x 4 columns]"
      ]
     },
     "execution_count": 78,
     "metadata": {},
     "output_type": "execute_result"
    }
   ],
   "source": [
    "tracks_df"
   ]
  },
  {
   "cell_type": "code",
   "execution_count": 79,
   "id": "8f713133-f471-4ca5-b7b1-ab06109bb31b",
   "metadata": {
    "tags": []
   },
   "outputs": [
    {
     "data": {
      "application/vnd.jupyter.widget-view+json": {
       "model_id": "874a0ac2dbc746fd9bddd3fa0289b7f3",
       "version_major": 2,
       "version_minor": 0
      },
      "text/plain": [
       "  0%|          | 0/104185 [00:00<?, ?it/s]"
      ]
     },
     "metadata": {},
     "output_type": "display_data"
    }
   ],
   "source": [
    "tracks_df['full_genre_id'] = tracks_df.last_genre_id.progress_apply(lambda x: get_all_structure(x,genres_df)[::-1])"
   ]
  },
  {
   "cell_type": "code",
   "execution_count": 80,
   "id": "69d80106-b330-4749-8aee-d2fbc451ecfb",
   "metadata": {},
   "outputs": [
    {
     "data": {
      "text/plain": [
       "[38]             6508\n",
       "[1235]           6043\n",
       "[10, 76]         4126\n",
       "[1235, 107]      3988\n",
       "[17, 103]        3482\n",
       "                 ... \n",
       "[20, 65, 189]       4\n",
       "[9, 651, 493]       4\n",
       "[2, 86, 173]        4\n",
       "[20, 7]             2\n",
       "[5, 444]            2\n",
       "Name: full_genre_id, Length: 159, dtype: int64"
      ]
     },
     "execution_count": 80,
     "metadata": {},
     "output_type": "execute_result"
    }
   ],
   "source": [
    "tracks_df.full_genre_id.value_counts()"
   ]
  },
  {
   "cell_type": "code",
   "execution_count": 81,
   "id": "8cf91d85-a298-4064-aecc-4370639ea929",
   "metadata": {},
   "outputs": [
    {
     "data": {
      "text/plain": [
       "Index(['track_id', 'track_title', 'valid_genre', 'last_genre_id',\n",
       "       'full_genre_id'],\n",
       "      dtype='object')"
      ]
     },
     "execution_count": 81,
     "metadata": {},
     "output_type": "execute_result"
    }
   ],
   "source": [
    "tracks_df.columns"
   ]
  },
  {
   "cell_type": "code",
   "execution_count": 82,
   "id": "d7b72dad-6dfa-46c3-84ac-10602c852524",
   "metadata": {},
   "outputs": [],
   "source": [
    "tracks_df = tracks_df[['track_id','full_genre_id']]"
   ]
  },
  {
   "cell_type": "code",
   "execution_count": 83,
   "id": "c7d35e82-a0b0-4bda-be5e-f69340a00385",
   "metadata": {},
   "outputs": [
    {
     "data": {
      "text/plain": [
       "array([list([17, 103]), list([2, 46, 502]), list([15]), ...,\n",
       "       list([1235, 18]), list([38]), list([1235, 107])], dtype=object)"
      ]
     },
     "execution_count": 83,
     "metadata": {},
     "output_type": "execute_result"
    }
   ],
   "source": [
    "tracks_df.full_genre_id.values"
   ]
  },
  {
   "cell_type": "code",
   "execution_count": 84,
   "id": "14106678-2380-40d6-8373-edf1fda9b3af",
   "metadata": {},
   "outputs": [
    {
     "data": {
      "text/plain": [
       "<bound method Series.info of 66010       [17, 103]\n",
       "65572    [2, 46, 502]\n",
       "68219            [15]\n",
       "57446         [4, 97]\n",
       "32824             [2]\n",
       "             ...     \n",
       "39361       [38, 456]\n",
       "4163         [38, 22]\n",
       "65461      [1235, 18]\n",
       "93928            [38]\n",
       "68099     [1235, 107]\n",
       "Name: full_genre_id, Length: 104185, dtype: object>"
      ]
     },
     "execution_count": 84,
     "metadata": {},
     "output_type": "execute_result"
    }
   ],
   "source": [
    "tracks_df.full_genre_id.info"
   ]
  },
  {
   "cell_type": "code",
   "execution_count": 85,
   "id": "90068602-0c57-4e10-bd9b-64cd1c8d8ad8",
   "metadata": {},
   "outputs": [],
   "source": [
    "labels_size = tracks_df.full_genre_id.apply(lambda x: len(x))"
   ]
  },
  {
   "cell_type": "code",
   "execution_count": 86,
   "id": "70f2351f-2f55-4979-84c2-0cb142887a78",
   "metadata": {},
   "outputs": [],
   "source": [
    "labels_size = labels_size.max()"
   ]
  },
  {
   "cell_type": "code",
   "execution_count": 87,
   "id": "e1f6ac31-ca09-4e44-a120-cd4534cd851e",
   "metadata": {},
   "outputs": [
    {
     "data": {
      "text/plain": [
       "5"
      ]
     },
     "execution_count": 87,
     "metadata": {},
     "output_type": "execute_result"
    }
   ],
   "source": [
    "labels_size"
   ]
  },
  {
   "cell_type": "code",
   "execution_count": 88,
   "id": "2b78849a-c456-4f04-9076-8d4a1ee5be97",
   "metadata": {},
   "outputs": [],
   "source": [
    "import pandas as pd\n",
    "import os"
   ]
  },
  {
   "cell_type": "markdown",
   "id": "74827c2e-072a-4213-9b96-f7bb24dee80e",
   "metadata": {},
   "source": [
    "### Parse of label to structure"
   ]
  },
  {
   "cell_type": "code",
   "execution_count": 89,
   "id": "093a84f2-25d1-4f95-81e5-c51e73933e95",
   "metadata": {},
   "outputs": [],
   "source": [
    "### Function for parse label to sctructure of hierarhical scheme\n",
    "\n",
    "def parse_label(label,label_size=5):\n",
    "    # label = label.split('-')\n",
    "    # preencher com 0 no caso de haver menos de 5 níveis\n",
    "    labels = np.zeros(label_size,dtype=int)\n",
    "    for i, label in enumerate(label):\n",
    "        if i == 5:\n",
    "            break\n",
    "        # Aqui você pode fazer a conversão do label em um índice inteiro usando um dicionário ou outro método\n",
    "        # Neste exemplo, estou apenas usando a posição da label na lista como índice\n",
    "        labels[i] = label\n",
    "    return labels"
   ]
  },
  {
   "cell_type": "code",
   "execution_count": 90,
   "id": "2a6adb21-c145-4c82-ba79-798d02c7d2fd",
   "metadata": {},
   "outputs": [],
   "source": [
    "parsed_labels = tracks_df.full_genre_id.apply(lambda x: parse_label(x))"
   ]
  },
  {
   "cell_type": "code",
   "execution_count": 91,
   "id": "5981a36f-cb76-4d1f-8bfe-7e58f3b002e5",
   "metadata": {},
   "outputs": [
    {
     "data": {
      "text/plain": [
       "66010       [17, 103]\n",
       "65572    [2, 46, 502]\n",
       "68219            [15]\n",
       "57446         [4, 97]\n",
       "32824             [2]\n",
       "             ...     \n",
       "39361       [38, 456]\n",
       "4163         [38, 22]\n",
       "65461      [1235, 18]\n",
       "93928            [38]\n",
       "68099     [1235, 107]\n",
       "Name: full_genre_id, Length: 104185, dtype: object"
      ]
     },
     "execution_count": 91,
     "metadata": {},
     "output_type": "execute_result"
    }
   ],
   "source": [
    "tracks_df['full_genre_id']"
   ]
  },
  {
   "cell_type": "code",
   "execution_count": 92,
   "id": "d60b077d-993f-4cbb-a66b-407d97dba96e",
   "metadata": {},
   "outputs": [],
   "source": [
    "def convert_label_to_string(x,level=2):\n",
    "    return '-'.join([str(value) for value in x[:level]])"
   ]
  },
  {
   "cell_type": "code",
   "execution_count": 93,
   "id": "e463b489-81bf-4a7d-95db-1f78c7ca6d87",
   "metadata": {},
   "outputs": [
    {
     "data": {
      "application/vnd.jupyter.widget-view+json": {
       "model_id": "b8b8fda22a3543588492b01feb2d143a",
       "version_major": 2,
       "version_minor": 0
      },
      "text/plain": [
       "  0%|          | 0/104185 [00:00<?, ?it/s]"
      ]
     },
     "metadata": {},
     "output_type": "display_data"
    },
    {
     "name": "stderr",
     "output_type": "stream",
     "text": [
      "/tmp/ipykernel_211846/310633048.py:1: SettingWithCopyWarning: \n",
      "A value is trying to be set on a copy of a slice from a DataFrame.\n",
      "Try using .loc[row_indexer,col_indexer] = value instead\n",
      "\n",
      "See the caveats in the documentation: https://pandas.pydata.org/pandas-docs/stable/user_guide/indexing.html#returning-a-view-versus-a-copy\n",
      "  tracks_df['labels_1'] = parsed_labels.progress_apply(lambda x: str(x[:1][0]))\n"
     ]
    },
    {
     "data": {
      "application/vnd.jupyter.widget-view+json": {
       "model_id": "31f35eda45004bd3acadf3ac650c70ef",
       "version_major": 2,
       "version_minor": 0
      },
      "text/plain": [
       "  0%|          | 0/104185 [00:00<?, ?it/s]"
      ]
     },
     "metadata": {},
     "output_type": "display_data"
    },
    {
     "name": "stderr",
     "output_type": "stream",
     "text": [
      "/tmp/ipykernel_211846/310633048.py:2: SettingWithCopyWarning: \n",
      "A value is trying to be set on a copy of a slice from a DataFrame.\n",
      "Try using .loc[row_indexer,col_indexer] = value instead\n",
      "\n",
      "See the caveats in the documentation: https://pandas.pydata.org/pandas-docs/stable/user_guide/indexing.html#returning-a-view-versus-a-copy\n",
      "  tracks_df['labels_2'] = parsed_labels.progress_apply(lambda x: convert_label_to_string(x,level=2))\n"
     ]
    },
    {
     "data": {
      "application/vnd.jupyter.widget-view+json": {
       "model_id": "b411f771c0614f36bb5eb8898d8daaa1",
       "version_major": 2,
       "version_minor": 0
      },
      "text/plain": [
       "  0%|          | 0/104185 [00:00<?, ?it/s]"
      ]
     },
     "metadata": {},
     "output_type": "display_data"
    },
    {
     "data": {
      "application/vnd.jupyter.widget-view+json": {
       "model_id": "23c67c8599484a6aabb76994c2144251",
       "version_major": 2,
       "version_minor": 0
      },
      "text/plain": [
       "  0%|          | 0/104185 [00:00<?, ?it/s]"
      ]
     },
     "metadata": {},
     "output_type": "display_data"
    },
    {
     "data": {
      "application/vnd.jupyter.widget-view+json": {
       "model_id": "81c68cb838ab40d49c6d59b9f43b56f4",
       "version_major": 2,
       "version_minor": 0
      },
      "text/plain": [
       "  0%|          | 0/104185 [00:00<?, ?it/s]"
      ]
     },
     "metadata": {},
     "output_type": "display_data"
    }
   ],
   "source": [
    "tracks_df['labels_1'] = parsed_labels.progress_apply(lambda x: str(x[:1][0]))\n",
    "tracks_df['labels_2'] = parsed_labels.progress_apply(lambda x: convert_label_to_string(x,level=2))\n",
    "tracks_df['labels_3'] = parsed_labels.progress_apply(lambda x: convert_label_to_string(x,level=3))\n",
    "tracks_df['labels_4'] = parsed_labels.progress_apply(lambda x: convert_label_to_string(x,level=4))\n",
    "tracks_df['labels_5'] = parsed_labels.progress_apply(lambda x: convert_label_to_string(x,level=5))"
   ]
  },
  {
   "cell_type": "code",
   "execution_count": 94,
   "id": "7a3d673f-7dbb-4b46-a5c0-fcd760f745cb",
   "metadata": {
    "tags": []
   },
   "outputs": [
    {
     "data": {
      "text/plain": [
       "38      22066\n",
       "12      21710\n",
       "15      18492\n",
       "1235    11214\n",
       "17       6900\n",
       "10       6514\n",
       "21       6453\n",
       "2        3331\n",
       "5        2456\n",
       "20       1183\n",
       "4        1147\n",
       "9        1023\n",
       "8         620\n",
       "13        466\n",
       "14        430\n",
       "3         180\n",
       "Name: labels_1, dtype: int64"
      ]
     },
     "execution_count": 94,
     "metadata": {},
     "output_type": "execute_result"
    }
   ],
   "source": [
    "tracks_df.labels_1.value_counts()"
   ]
  },
  {
   "cell_type": "code",
   "execution_count": 95,
   "id": "86c81a9f-b819-4793-af3a-78f22b198aa7",
   "metadata": {},
   "outputs": [
    {
     "data": {
      "text/plain": [
       "38      22066\n",
       "12      21710\n",
       "15      18492\n",
       "1235    11214\n",
       "17       6900\n",
       "10       6514\n",
       "21       6453\n",
       "2        3331\n",
       "5        2456\n",
       "20       1183\n",
       "4        1147\n",
       "9        1023\n",
       "8         620\n",
       "13        466\n",
       "14        430\n",
       "3         180\n",
       "Name: labels_1, dtype: int64"
      ]
     },
     "execution_count": 95,
     "metadata": {},
     "output_type": "execute_result"
    }
   ],
   "source": [
    "tracks_df['labels_1'].value_counts()"
   ]
  },
  {
   "cell_type": "code",
   "execution_count": 96,
   "id": "304cd0a8-f7de-4862-8994-a9ed960cea5a",
   "metadata": {},
   "outputs": [],
   "source": [
    "# tracks_df = tracks_df[tracks_df['labels_1'].isin(['3','14'])]"
   ]
  },
  {
   "cell_type": "code",
   "execution_count": 97,
   "id": "af5df190-01df-4f13-a475-35132a6712f4",
   "metadata": {},
   "outputs": [],
   "source": [
    "tracks_df.to_csv(os.path.join(train_path,\"tracks.csv\"),index=False)"
   ]
  },
  {
   "cell_type": "code",
   "execution_count": 98,
   "id": "5dc7f941-56f4-43bc-9d35-8fc233bb2a48",
   "metadata": {},
   "outputs": [],
   "source": [
    "tracks_df = pd.read_csv(os.path.join(train_path,\"tracks.csv\"))"
   ]
  },
  {
   "cell_type": "code",
   "execution_count": 99,
   "id": "d1e5f547-34ba-4d8d-b3ef-7d7eebc578fc",
   "metadata": {},
   "outputs": [],
   "source": [
    "categories_df = pd.DataFrame({'level5':tracks_df.labels_5.unique()})"
   ]
  },
  {
   "cell_type": "code",
   "execution_count": 100,
   "id": "39a3077d-9077-4f6b-be98-1e7d14e280e2",
   "metadata": {},
   "outputs": [
    {
     "data": {
      "application/vnd.jupyter.widget-view+json": {
       "model_id": "7c143914dd2940a5b6ce0e37aa175e77",
       "version_major": 2,
       "version_minor": 0
      },
      "text/plain": [
       "  0%|          | 0/159 [00:00<?, ?it/s]"
      ]
     },
     "metadata": {},
     "output_type": "display_data"
    },
    {
     "data": {
      "application/vnd.jupyter.widget-view+json": {
       "model_id": "fa9d773c692742799f09d91f827ddc9a",
       "version_major": 2,
       "version_minor": 0
      },
      "text/plain": [
       "  0%|          | 0/159 [00:00<?, ?it/s]"
      ]
     },
     "metadata": {},
     "output_type": "display_data"
    },
    {
     "data": {
      "application/vnd.jupyter.widget-view+json": {
       "model_id": "2a26f719e4874ed1a061a417933b032a",
       "version_major": 2,
       "version_minor": 0
      },
      "text/plain": [
       "  0%|          | 0/159 [00:00<?, ?it/s]"
      ]
     },
     "metadata": {},
     "output_type": "display_data"
    },
    {
     "data": {
      "application/vnd.jupyter.widget-view+json": {
       "model_id": "199e6bed5a17460a99db6266f0c973d4",
       "version_major": 2,
       "version_minor": 0
      },
      "text/plain": [
       "  0%|          | 0/159 [00:00<?, ?it/s]"
      ]
     },
     "metadata": {},
     "output_type": "display_data"
    }
   ],
   "source": [
    "categories_df['level1'] = categories_df.level5.progress_apply(lambda x: '-'.join(x.split('-')[:1]))\n",
    "categories_df['level2'] = categories_df.level5.progress_apply(lambda x: '-'.join(x.split('-')[:2]))\n",
    "categories_df['level3'] = categories_df.level5.progress_apply(lambda x: '-'.join(x.split('-')[:3]))\n",
    "categories_df['level4'] = categories_df.level5.progress_apply(lambda x: '-'.join(x.split('-')[:4]))"
   ]
  },
  {
   "cell_type": "code",
   "execution_count": 101,
   "id": "d32d5387-bc51-4823-8245-9b715899af33",
   "metadata": {},
   "outputs": [
    {
     "data": {
      "text/html": [
       "<div>\n",
       "<style scoped>\n",
       "    .dataframe tbody tr th:only-of-type {\n",
       "        vertical-align: middle;\n",
       "    }\n",
       "\n",
       "    .dataframe tbody tr th {\n",
       "        vertical-align: top;\n",
       "    }\n",
       "\n",
       "    .dataframe thead th {\n",
       "        text-align: right;\n",
       "    }\n",
       "</style>\n",
       "<table border=\"1\" class=\"dataframe\">\n",
       "  <thead>\n",
       "    <tr style=\"text-align: right;\">\n",
       "      <th></th>\n",
       "      <th>level5</th>\n",
       "      <th>level1</th>\n",
       "      <th>level2</th>\n",
       "      <th>level3</th>\n",
       "      <th>level4</th>\n",
       "    </tr>\n",
       "  </thead>\n",
       "  <tbody>\n",
       "    <tr>\n",
       "      <th>0</th>\n",
       "      <td>17-103-0-0-0</td>\n",
       "      <td>17</td>\n",
       "      <td>17-103</td>\n",
       "      <td>17-103-0</td>\n",
       "      <td>17-103-0-0</td>\n",
       "    </tr>\n",
       "    <tr>\n",
       "      <th>1</th>\n",
       "      <td>2-46-502-0-0</td>\n",
       "      <td>2</td>\n",
       "      <td>2-46</td>\n",
       "      <td>2-46-502</td>\n",
       "      <td>2-46-502-0</td>\n",
       "    </tr>\n",
       "    <tr>\n",
       "      <th>2</th>\n",
       "      <td>15-0-0-0-0</td>\n",
       "      <td>15</td>\n",
       "      <td>15-0</td>\n",
       "      <td>15-0-0</td>\n",
       "      <td>15-0-0-0</td>\n",
       "    </tr>\n",
       "    <tr>\n",
       "      <th>3</th>\n",
       "      <td>4-97-0-0-0</td>\n",
       "      <td>4</td>\n",
       "      <td>4-97</td>\n",
       "      <td>4-97-0</td>\n",
       "      <td>4-97-0-0</td>\n",
       "    </tr>\n",
       "    <tr>\n",
       "      <th>4</th>\n",
       "      <td>2-0-0-0-0</td>\n",
       "      <td>2</td>\n",
       "      <td>2-0</td>\n",
       "      <td>2-0-0</td>\n",
       "      <td>2-0-0-0</td>\n",
       "    </tr>\n",
       "    <tr>\n",
       "      <th>...</th>\n",
       "      <td>...</td>\n",
       "      <td>...</td>\n",
       "      <td>...</td>\n",
       "      <td>...</td>\n",
       "      <td>...</td>\n",
       "    </tr>\n",
       "    <tr>\n",
       "      <th>154</th>\n",
       "      <td>2-46-808-0-0</td>\n",
       "      <td>2</td>\n",
       "      <td>2-46</td>\n",
       "      <td>2-46-808</td>\n",
       "      <td>2-46-808-0</td>\n",
       "    </tr>\n",
       "    <tr>\n",
       "      <th>155</th>\n",
       "      <td>2-86-174-0-0</td>\n",
       "      <td>2</td>\n",
       "      <td>2-86</td>\n",
       "      <td>2-86-174</td>\n",
       "      <td>2-86-174-0</td>\n",
       "    </tr>\n",
       "    <tr>\n",
       "      <th>156</th>\n",
       "      <td>20-7-0-0-0</td>\n",
       "      <td>20</td>\n",
       "      <td>20-7</td>\n",
       "      <td>20-7-0</td>\n",
       "      <td>20-7-0-0</td>\n",
       "    </tr>\n",
       "    <tr>\n",
       "      <th>157</th>\n",
       "      <td>5-444-0-0-0</td>\n",
       "      <td>5</td>\n",
       "      <td>5-444</td>\n",
       "      <td>5-444-0</td>\n",
       "      <td>5-444-0-0</td>\n",
       "    </tr>\n",
       "    <tr>\n",
       "      <th>158</th>\n",
       "      <td>2-86-173-0-0</td>\n",
       "      <td>2</td>\n",
       "      <td>2-86</td>\n",
       "      <td>2-86-173</td>\n",
       "      <td>2-86-173-0</td>\n",
       "    </tr>\n",
       "  </tbody>\n",
       "</table>\n",
       "<p>159 rows × 5 columns</p>\n",
       "</div>"
      ],
      "text/plain": [
       "           level5 level1  level2    level3      level4\n",
       "0    17-103-0-0-0     17  17-103  17-103-0  17-103-0-0\n",
       "1    2-46-502-0-0      2    2-46  2-46-502  2-46-502-0\n",
       "2      15-0-0-0-0     15    15-0    15-0-0    15-0-0-0\n",
       "3      4-97-0-0-0      4    4-97    4-97-0    4-97-0-0\n",
       "4       2-0-0-0-0      2     2-0     2-0-0     2-0-0-0\n",
       "..            ...    ...     ...       ...         ...\n",
       "154  2-46-808-0-0      2    2-46  2-46-808  2-46-808-0\n",
       "155  2-86-174-0-0      2    2-86  2-86-174  2-86-174-0\n",
       "156    20-7-0-0-0     20    20-7    20-7-0    20-7-0-0\n",
       "157   5-444-0-0-0      5   5-444   5-444-0   5-444-0-0\n",
       "158  2-86-173-0-0      2    2-86  2-86-173  2-86-173-0\n",
       "\n",
       "[159 rows x 5 columns]"
      ]
     },
     "execution_count": 101,
     "metadata": {},
     "output_type": "execute_result"
    }
   ],
   "source": [
    "categories_df"
   ]
  },
  {
   "cell_type": "code",
   "execution_count": 102,
   "id": "1c4326bd-6d17-4857-b29c-9fc868e7561d",
   "metadata": {},
   "outputs": [],
   "source": [
    "def get_labels_name(x,genres_df):\n",
    "    levels = 5\n",
    "    full_name = []\n",
    "    last_level = 0\n",
    "    genre_root = \"\"\n",
    "    for genre in x.split('-'):\n",
    "        genre_df = genres_df[genres_df['genre_id'] == int(genre)]\n",
    "        if genre_df.empty:\n",
    "            genre_name = genre_root \n",
    "        else:\n",
    "            genre_name = genre_df.title.values.tolist()[0]\n",
    "            genre_root = genre_name\n",
    "        \n",
    "        full_name.append(genre_name)\n",
    "    full_name = '>'.join(full_name)\n",
    "        \n",
    "    return full_name\n",
    "    # return genres_df[genres_df['genre_id'] == int(x)].title.values.tolist()[0]"
   ]
  },
  {
   "cell_type": "code",
   "execution_count": 103,
   "id": "5fa16276-5e41-4ee5-821b-dabd1620c76c",
   "metadata": {},
   "outputs": [],
   "source": [
    "categories_df['level5_name'] = categories_df.level5.apply(lambda x: get_labels_name(x,genres_df))"
   ]
  },
  {
   "cell_type": "code",
   "execution_count": 104,
   "id": "2d2099b6-cf3b-47ae-bca2-7d2cc8a1cb8d",
   "metadata": {},
   "outputs": [
    {
     "data": {
      "text/html": [
       "<div>\n",
       "<style scoped>\n",
       "    .dataframe tbody tr th:only-of-type {\n",
       "        vertical-align: middle;\n",
       "    }\n",
       "\n",
       "    .dataframe tbody tr th {\n",
       "        vertical-align: top;\n",
       "    }\n",
       "\n",
       "    .dataframe thead th {\n",
       "        text-align: right;\n",
       "    }\n",
       "</style>\n",
       "<table border=\"1\" class=\"dataframe\">\n",
       "  <thead>\n",
       "    <tr style=\"text-align: right;\">\n",
       "      <th></th>\n",
       "      <th>level5</th>\n",
       "      <th>level1</th>\n",
       "      <th>level2</th>\n",
       "      <th>level3</th>\n",
       "      <th>level4</th>\n",
       "      <th>level5_name</th>\n",
       "    </tr>\n",
       "  </thead>\n",
       "  <tbody>\n",
       "    <tr>\n",
       "      <th>0</th>\n",
       "      <td>17-103-0-0-0</td>\n",
       "      <td>17</td>\n",
       "      <td>17-103</td>\n",
       "      <td>17-103-0</td>\n",
       "      <td>17-103-0-0</td>\n",
       "      <td>Folk&gt;Singer-Songwriter&gt;Singer-Songwriter&gt;Singe...</td>\n",
       "    </tr>\n",
       "    <tr>\n",
       "      <th>1</th>\n",
       "      <td>2-46-502-0-0</td>\n",
       "      <td>2</td>\n",
       "      <td>2-46</td>\n",
       "      <td>2-46-502</td>\n",
       "      <td>2-46-502-0</td>\n",
       "      <td>International&gt;Latin America&gt;Cumbia&gt;Cumbia&gt;Cumbia</td>\n",
       "    </tr>\n",
       "    <tr>\n",
       "      <th>2</th>\n",
       "      <td>15-0-0-0-0</td>\n",
       "      <td>15</td>\n",
       "      <td>15-0</td>\n",
       "      <td>15-0-0</td>\n",
       "      <td>15-0-0-0</td>\n",
       "      <td>Electronic&gt;Electronic&gt;Electronic&gt;Electronic&gt;El...</td>\n",
       "    </tr>\n",
       "    <tr>\n",
       "      <th>3</th>\n",
       "      <td>4-97-0-0-0</td>\n",
       "      <td>4</td>\n",
       "      <td>4-97</td>\n",
       "      <td>4-97-0</td>\n",
       "      <td>4-97-0-0</td>\n",
       "      <td>Jazz&gt;Jazz: Out&gt;Jazz: Out&gt;Jazz: Out&gt;Jazz: Out</td>\n",
       "    </tr>\n",
       "    <tr>\n",
       "      <th>4</th>\n",
       "      <td>2-0-0-0-0</td>\n",
       "      <td>2</td>\n",
       "      <td>2-0</td>\n",
       "      <td>2-0-0</td>\n",
       "      <td>2-0-0-0</td>\n",
       "      <td>International&gt;International&gt;International&gt;Inte...</td>\n",
       "    </tr>\n",
       "    <tr>\n",
       "      <th>...</th>\n",
       "      <td>...</td>\n",
       "      <td>...</td>\n",
       "      <td>...</td>\n",
       "      <td>...</td>\n",
       "      <td>...</td>\n",
       "      <td>...</td>\n",
       "    </tr>\n",
       "    <tr>\n",
       "      <th>154</th>\n",
       "      <td>2-46-808-0-0</td>\n",
       "      <td>2</td>\n",
       "      <td>2-46</td>\n",
       "      <td>2-46-808</td>\n",
       "      <td>2-46-808-0</td>\n",
       "      <td>International&gt;Latin America&gt;Salsa&gt;Salsa&gt;Salsa</td>\n",
       "    </tr>\n",
       "    <tr>\n",
       "      <th>155</th>\n",
       "      <td>2-86-174-0-0</td>\n",
       "      <td>2</td>\n",
       "      <td>2-86</td>\n",
       "      <td>2-86-174</td>\n",
       "      <td>2-86-174-0</td>\n",
       "      <td>International&gt;Indian&gt;South Indian Traditional&gt;...</td>\n",
       "    </tr>\n",
       "    <tr>\n",
       "      <th>156</th>\n",
       "      <td>20-7-0-0-0</td>\n",
       "      <td>20</td>\n",
       "      <td>20-7</td>\n",
       "      <td>20-7-0</td>\n",
       "      <td>20-7-0-0</td>\n",
       "      <td>Spoken&gt;Comedy&gt;Comedy&gt;Comedy&gt;Comedy</td>\n",
       "    </tr>\n",
       "    <tr>\n",
       "      <th>157</th>\n",
       "      <td>5-444-0-0-0</td>\n",
       "      <td>5</td>\n",
       "      <td>5-444</td>\n",
       "      <td>5-444-0</td>\n",
       "      <td>5-444-0-0</td>\n",
       "      <td>Classical&gt;Symphony&gt;Symphony&gt;Symphony&gt;Symphony</td>\n",
       "    </tr>\n",
       "    <tr>\n",
       "      <th>158</th>\n",
       "      <td>2-86-173-0-0</td>\n",
       "      <td>2</td>\n",
       "      <td>2-86</td>\n",
       "      <td>2-86-173</td>\n",
       "      <td>2-86-173-0</td>\n",
       "      <td>International&gt;Indian&gt;N. Indian Traditional&gt;N. ...</td>\n",
       "    </tr>\n",
       "  </tbody>\n",
       "</table>\n",
       "<p>159 rows × 6 columns</p>\n",
       "</div>"
      ],
      "text/plain": [
       "           level5 level1  level2    level3      level4  \\\n",
       "0    17-103-0-0-0     17  17-103  17-103-0  17-103-0-0   \n",
       "1    2-46-502-0-0      2    2-46  2-46-502  2-46-502-0   \n",
       "2      15-0-0-0-0     15    15-0    15-0-0    15-0-0-0   \n",
       "3      4-97-0-0-0      4    4-97    4-97-0    4-97-0-0   \n",
       "4       2-0-0-0-0      2     2-0     2-0-0     2-0-0-0   \n",
       "..            ...    ...     ...       ...         ...   \n",
       "154  2-46-808-0-0      2    2-46  2-46-808  2-46-808-0   \n",
       "155  2-86-174-0-0      2    2-86  2-86-174  2-86-174-0   \n",
       "156    20-7-0-0-0     20    20-7    20-7-0    20-7-0-0   \n",
       "157   5-444-0-0-0      5   5-444   5-444-0   5-444-0-0   \n",
       "158  2-86-173-0-0      2    2-86  2-86-173  2-86-173-0   \n",
       "\n",
       "                                           level5_name  \n",
       "0    Folk>Singer-Songwriter>Singer-Songwriter>Singe...  \n",
       "1     International>Latin America>Cumbia>Cumbia>Cumbia  \n",
       "2    Electronic>Electronic>Electronic>Electronic>El...  \n",
       "3         Jazz>Jazz: Out>Jazz: Out>Jazz: Out>Jazz: Out  \n",
       "4    International>International>International>Inte...  \n",
       "..                                                 ...  \n",
       "154      International>Latin America>Salsa>Salsa>Salsa  \n",
       "155  International>Indian>South Indian Traditional>...  \n",
       "156                 Spoken>Comedy>Comedy>Comedy>Comedy  \n",
       "157      Classical>Symphony>Symphony>Symphony>Symphony  \n",
       "158  International>Indian>N. Indian Traditional>N. ...  \n",
       "\n",
       "[159 rows x 6 columns]"
      ]
     },
     "execution_count": 104,
     "metadata": {},
     "output_type": "execute_result"
    }
   ],
   "source": [
    "categories_df"
   ]
  },
  {
   "cell_type": "code",
   "execution_count": 105,
   "id": "c2ced721-6c30-46da-95b5-a28b84b6a2a4",
   "metadata": {},
   "outputs": [],
   "source": [
    "def __create_labels__(categories_df):\n",
    "    data = {\n",
    "        \"label1\": {},\n",
    "        \"label2\": {},\n",
    "        \"label3\": {},\n",
    "        \"label4\": {},\n",
    "        \"label5\": {},\n",
    "        \"label1_inverse\": [],\n",
    "        \"label2_inverse\": [],\n",
    "        \"label3_inverse\": [],\n",
    "        \"label4_inverse\": [],\n",
    "        \"label5_inverse\": [],\n",
    "        \"label1_name\": {},\n",
    "        \"label2_name\": {},\n",
    "        \"label3_name\": {},\n",
    "        \"label4_name\": {},\n",
    "        \"label5_name\": {},\n",
    "    }\n",
    "\n",
    "    idx = 0\n",
    "    \n",
    "    for id_x, cat in enumerate(set(categories_df.level1.values.tolist())):\n",
    "        data['label1'][cat] = idx\n",
    "        data['label1_inverse'].append(cat)\n",
    "        data['label1_count'] = idx + 1\n",
    "        idx+=1\n",
    "\n",
    "    for id_x, cat in enumerate(set(categories_df.level2.values.tolist())):\n",
    "        data['label2'][cat] = idx\n",
    "        data['label2_inverse'].append(cat)\n",
    "        data['label2_count'] = idx + 1\n",
    "        idx+=1\n",
    "        \n",
    "    for id_x, cat in enumerate(set(categories_df.level3.values.tolist())):\n",
    "        data['label3'][cat] = idx\n",
    "        data['label3_inverse'].append(cat)\n",
    "        data['label3_count'] = idx + 1\n",
    "        idx+=1\n",
    "\n",
    "    for id_x, cat in enumerate(set(categories_df.level4.values.tolist())):\n",
    "        data['label4'][cat] = idx\n",
    "        data['label4_inverse'].append(cat)\n",
    "        data['label4_count'] = idx + 1\n",
    "        idx+=1\n",
    "        \n",
    "    for idx, cat in enumerate(set(categories_df.level5.values.tolist())):\n",
    "        data['label5'][cat] = idx\n",
    "        data['label5_inverse'].append(cat)\n",
    "        data['label5_count'] = idx + 1\n",
    "        idx+=1\n",
    "        \n",
    "    for cat5,cat1,cat2,cat3,cat4,name5 in categories_df.values:\n",
    "        \n",
    "        name1 = '>'.join(name5.split('>')[:1])\n",
    "        name2 = '>'.join(name5.split('>')[:2])\n",
    "        name3 = '>'.join(name5.split('>')[:3])\n",
    "        name4 = '>'.join(name5.split('>')[:4])\n",
    "        \n",
    "        \n",
    "        data['label1_name'][cat1] = name1\n",
    "        data['label2_name'][cat2] = name2\n",
    "        data['label3_name'][cat3] = name3\n",
    "        data['label4_name'][cat4] = name4\n",
    "        data['label5_name'][cat5] = name5\n",
    "        \n",
    "    return data"
   ]
  },
  {
   "cell_type": "code",
   "execution_count": 106,
   "id": "e7ccc947-b7ae-464d-a325-d61aa3cf5710",
   "metadata": {},
   "outputs": [],
   "source": [
    "with open(categories_labels_path, 'w+') as f:\n",
    "    f.write(json.dumps(__create_labels__(categories_df)))"
   ]
  },
  {
   "cell_type": "code",
   "execution_count": 107,
   "id": "3778cc5d-7def-4a1d-9f5b-b141bd08356c",
   "metadata": {},
   "outputs": [],
   "source": [
    "labels  = __create_labels__(categories_df)"
   ]
  },
  {
   "cell_type": "code",
   "execution_count": 108,
   "id": "a6b67e97-0813-492e-8323-f8588ca8d120",
   "metadata": {
    "collapsed": true,
    "jupyter": {
     "outputs_hidden": true
    },
    "tags": []
   },
   "outputs": [
    {
     "data": {
      "text/plain": [
       "{'2-130-0-0': 293,\n",
       " '12-45-53-90': 294,\n",
       " '2-92-0-0': 295,\n",
       " '2-171-0-0': 296,\n",
       " '2-86-0-0': 297,\n",
       " '2-86-174-0': 298,\n",
       " '15-296-0-0': 299,\n",
       " '5-441-0-0': 300,\n",
       " '12-27-0-0': 301,\n",
       " '15-337-0-0': 302,\n",
       " '2-130-524-0': 303,\n",
       " '21-83-0-0': 304,\n",
       " '20-65-166-0': 305,\n",
       " '12-0-0-0': 306,\n",
       " '12-31-101-0': 307,\n",
       " '2-102-0-0': 308,\n",
       " '2-46-808-0': 309,\n",
       " '20-428-0-0': 310,\n",
       " '38-30-0-0': 311,\n",
       " '3-567-0-0': 312,\n",
       " '2-117-0-0': 313,\n",
       " '5-187-0-0': 314,\n",
       " '15-468-491-0': 315,\n",
       " '1235-107-0-0': 316,\n",
       " '15-182-400-0': 317,\n",
       " '20-65-0-0': 318,\n",
       " '38-0-0-0': 319,\n",
       " '38-247-0-0': 320,\n",
       " '12-314-0-0': 321,\n",
       " '15-236-0-0': 322,\n",
       " '20-65-189-0': 323,\n",
       " '17-103-0-0': 324,\n",
       " '17-0-0-0': 325,\n",
       " '38-250-0-0': 326,\n",
       " '38-6-360-0': 327,\n",
       " '2-130-1156-0': 328,\n",
       " '12-25-71-0': 329,\n",
       " '2-118-0-0': 330,\n",
       " '17-33-0-0': 331,\n",
       " '12-25-109-0': 332,\n",
       " '4-37-0-0': 333,\n",
       " '13-0-0-0': 334,\n",
       " '21-100-0-0': 335,\n",
       " '17-94-0-0': 336,\n",
       " '2-46-502-0': 337,\n",
       " '9-0-0-0': 338,\n",
       " '20-188-0-0': 339,\n",
       " '14-11-0-0': 340,\n",
       " '2-102-1032-0': 341,\n",
       " '20-374-0-0': 342,\n",
       " '12-25-89-0': 343,\n",
       " '12-31-0-0': 344,\n",
       " '9-169-0-0': 345,\n",
       " '3-0-0-0': 346,\n",
       " '15-183-0-0': 347,\n",
       " '4-74-0-0': 348,\n",
       " '12-36-0-0': 349,\n",
       " '2-130-619-0': 350,\n",
       " '20-138-0-0': 351,\n",
       " '14-19-0-0': 352,\n",
       " '15-181-401-0': 353,\n",
       " '15-495-0-0': 354,\n",
       " '15-42-0-0': 355,\n",
       " '12-440-0-0': 356,\n",
       " '2-79-602-0': 357,\n",
       " '9-651-0-0': 358,\n",
       " '38-41-0-0': 359,\n",
       " '38-125-0-0': 360,\n",
       " '2-77-0-0': 361,\n",
       " '4-179-0-0': 362,\n",
       " '5-444-0-0': 363,\n",
       " '38-456-0-0': 364,\n",
       " '12-45-0-0': 365,\n",
       " '12-58-0-0': 366,\n",
       " '15-182-0-0': 367,\n",
       " '13-810-0-0': 368,\n",
       " '13-170-0-0': 369,\n",
       " '21-811-0-0': 370,\n",
       " '4-97-0-0': 371,\n",
       " '38-514-0-0': 372,\n",
       " '12-31-167-0': 373,\n",
       " '21-542-0-0': 374,\n",
       " '12-88-0-0': 375,\n",
       " '15-0-0-0': 376,\n",
       " '12-66-0-0': 377,\n",
       " '10-362-0-0': 378,\n",
       " '38-186-0-0': 379,\n",
       " '2-92-81-0': 380,\n",
       " '2-46-0-0': 381,\n",
       " '21-693-0-0': 382,\n",
       " '20-0-0-0': 383,\n",
       " '17-49-0-0': 384,\n",
       " '12-25-109-361': 385,\n",
       " '20-7-0-0': 386,\n",
       " '5-659-0-0': 387,\n",
       " '9-651-493-0': 388,\n",
       " '15-184-0-0': 389,\n",
       " '38-22-0-0': 390,\n",
       " '38-47-0-0': 391,\n",
       " '15-297-240-0': 392,\n",
       " '12-25-111-0': 393,\n",
       " '38-1-0-0': 394,\n",
       " '2-92-214-0': 395,\n",
       " '21-539-0-0': 396,\n",
       " '21-0-0-0': 397,\n",
       " '15-695-0-0': 398,\n",
       " '1235-18-538-0': 399,\n",
       " '10-76-0-0': 400,\n",
       " '12-85-404-0': 401,\n",
       " '12-25-64-0': 402,\n",
       " '2-46-1060-0': 403,\n",
       " '12-31-439-0': 404,\n",
       " '2-0-0-0': 405,\n",
       " '5-442-0-0': 406,\n",
       " '15-286-0-0': 407,\n",
       " '38-6-0-0': 408,\n",
       " '2-177-0-0': 409,\n",
       " '12-98-0-0': 410,\n",
       " '17-180-0-0': 411,\n",
       " '12-26-0-0': 412,\n",
       " '12-85-0-0': 413,\n",
       " '9-63-0-0': 414,\n",
       " '38-224-0-0': 415,\n",
       " '15-185-0-0': 416,\n",
       " '5-443-0-0': 417,\n",
       " '2-172-0-0': 418,\n",
       " '20-65-43-0': 419,\n",
       " '2-86-173-0': 420,\n",
       " '15-181-0-0': 421,\n",
       " '20-378-0-0': 422,\n",
       " '12-25-0-0': 423,\n",
       " '4-0-0-0': 424,\n",
       " '2-176-0-0': 425,\n",
       " '5-0-0-0': 426,\n",
       " '15-297-0-0': 427,\n",
       " '12-70-0-0': 428,\n",
       " '14-0-0-0': 429,\n",
       " '21-580-0-0': 430,\n",
       " '12-359-0-0': 431,\n",
       " '1235-0-0-0': 432,\n",
       " '13-311-0-0': 433,\n",
       " '4-906-0-0': 434,\n",
       " '12-26-113-0': 435,\n",
       " '15-468-0-0': 436,\n",
       " '38-6-16-763': 437,\n",
       " '2-79-0-0': 438,\n",
       " '1235-267-0-0': 439,\n",
       " '8-0-0-0': 440,\n",
       " '10-0-0-0': 441,\n",
       " '1235-18-0-0': 442,\n",
       " '2-504-0-0': 443,\n",
       " '9-137-0-0': 444,\n",
       " '2-130-741-0': 445,\n",
       " '2-232-0-0': 446,\n",
       " '5-322-0-0': 447,\n",
       " '12-45-53-0': 448,\n",
       " '38-32-0-0': 449,\n",
       " '20-465-0-0': 450}"
      ]
     },
     "execution_count": 108,
     "metadata": {},
     "output_type": "execute_result"
    }
   ],
   "source": [
    "labels['label4']"
   ]
  },
  {
   "cell_type": "code",
   "execution_count": null,
   "id": "cd97175f-4b2b-49e0-bb74-84d12a2999a7",
   "metadata": {},
   "outputs": [],
   "source": []
  },
  {
   "cell_type": "code",
   "execution_count": null,
   "id": "37bd9a30-b2d4-421f-b3c4-0ca415578881",
   "metadata": {},
   "outputs": [],
   "source": []
  }
 ],
 "metadata": {
  "kernelspec": {
   "display_name": "Python 3 (ipykernel)",
   "language": "python",
   "name": "python3"
  },
  "language_info": {
   "codemirror_mode": {
    "name": "ipython",
    "version": 3
   },
   "file_extension": ".py",
   "mimetype": "text/x-python",
   "name": "python",
   "nbconvert_exporter": "python",
   "pygments_lexer": "ipython3",
   "version": "3.10.9"
  }
 },
 "nbformat": 4,
 "nbformat_minor": 5
}
