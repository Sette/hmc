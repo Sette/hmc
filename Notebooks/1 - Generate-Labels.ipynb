{
 "cells": [
  {
   "cell_type": "code",
   "execution_count": 1,
   "id": "4843caad-aa4a-420d-81f8-dcc1189318c6",
   "metadata": {
    "tags": []
   },
   "outputs": [],
   "source": [
    "import pandas as pd\n",
    "import numpy as np\n",
    "import json\n",
    "import ast\n",
    "import os"
   ]
  },
  {
   "cell_type": "code",
   "execution_count": 2,
   "id": "24ecd036-1b51-4c28-983e-6790fb733546",
   "metadata": {},
   "outputs": [],
   "source": [
    "from tqdm.notebook import tqdm"
   ]
  },
  {
   "cell_type": "code",
   "execution_count": 3,
   "id": "47f36844-bc15-46f4-8994-6744042b62cd",
   "metadata": {},
   "outputs": [],
   "source": [
    "tqdm.pandas()"
   ]
  },
  {
   "cell_type": "code",
   "execution_count": 4,
   "id": "194b058a-a5c5-4d87-817d-aeb9e833cc2b",
   "metadata": {},
   "outputs": [],
   "source": [
    "\n",
    "args = pd.Series({\n",
    "    \"root_dir\":\"/mnt/disks/data/\",\n",
    "    \"dataset_path\":\"/mnt/disks/data/fma/fma_large\",\n",
    "    \"embeddings\":\"music_style\",\n",
    "    \"train_id\": \"hierarchical_single\",\n",
    "    'sample_size': 1\n",
    "})\n"
   ]
  },
  {
   "cell_type": "code",
   "execution_count": 5,
   "id": "87f3fe25-bd80-4976-ba77-ab30589a9cd6",
   "metadata": {},
   "outputs": [],
   "source": [
    "\n",
    "job_path = \"/mnt/disks/data/fma/trains\"\n",
    "\n",
    "# In[15]:\n",
    "\n",
    "train_path = os.path.join(job_path,args.train_id)\n",
    "\n",
    "# In[16]:\n",
    "\n",
    "base_path = os.path.join(args.root_dir,\"fma\")\n",
    "\n",
    "# In[17]:\n",
    "\n",
    "models_path = os.path.join(args.root_dir,\"models\")\n",
    "\n",
    "\n",
    "metadata_path_fma = os.path.join(base_path,\"fma_metadata\")\n",
    "\n",
    "# In[18]:\n",
    "\n",
    "metadata_file = os.path.join(train_path,\"metadata.json\")\n",
    "\n",
    "\n",
    "categories_labels_path = os.path.join(train_path,\"labels.json\")\n"
   ]
  },
  {
   "cell_type": "code",
   "execution_count": 6,
   "id": "ffea2009-fdc3-425e-bd6b-a67696ab24da",
   "metadata": {},
   "outputs": [],
   "source": [
    "\n",
    "\n",
    "def __load_json__(path):\n",
    "    with open(path, 'r') as f:\n",
    "        tmp = json.loads(f.read())\n",
    "\n",
    "    return tmp\n",
    "\n",
    "\n"
   ]
  },
  {
   "cell_type": "code",
   "execution_count": 7,
   "id": "b413d7a2",
   "metadata": {},
   "outputs": [],
   "source": [
    "\n",
    "def create_dir(path):\n",
    "    # checking if the directory demo_folder2 \n",
    "    # exist or not.\n",
    "    if not os.path.isdir(path):\n",
    "\n",
    "        # if the demo_folder2 directory is \n",
    "        # not present then create it.\n",
    "        os.makedirs(path)\n",
    "    return True\n",
    "\n"
   ]
  },
  {
   "cell_type": "code",
   "execution_count": 8,
   "id": "be2f0fcc",
   "metadata": {},
   "outputs": [
    {
     "data": {
      "text/plain": [
       "True"
      ]
     },
     "execution_count": 8,
     "metadata": {},
     "output_type": "execute_result"
    }
   ],
   "source": [
    "create_dir(train_path)"
   ]
  },
  {
   "cell_type": "markdown",
   "id": "6ab3d0b4-fc7f-4c73-b0cc-9d89729bae84",
   "metadata": {
    "tags": []
   },
   "source": [
    "## Load genres file. Contains relationships beetwen genres"
   ]
  },
  {
   "cell_type": "code",
   "execution_count": 9,
   "id": "7596e665-526e-400b-93ad-432cb7eb0d79",
   "metadata": {},
   "outputs": [],
   "source": [
    "genres_df = pd.read_csv(os.path.join(metadata_path_fma,'genres.csv'))\n"
   ]
  },
  {
   "cell_type": "code",
   "execution_count": 10,
   "id": "582b4335-bf69-4c9a-873e-ffd8253ede25",
   "metadata": {},
   "outputs": [
    {
     "data": {
      "text/html": [
       "<div>\n",
       "<style scoped>\n",
       "    .dataframe tbody tr th:only-of-type {\n",
       "        vertical-align: middle;\n",
       "    }\n",
       "\n",
       "    .dataframe tbody tr th {\n",
       "        vertical-align: top;\n",
       "    }\n",
       "\n",
       "    .dataframe thead th {\n",
       "        text-align: right;\n",
       "    }\n",
       "</style>\n",
       "<table border=\"1\" class=\"dataframe\">\n",
       "  <thead>\n",
       "    <tr style=\"text-align: right;\">\n",
       "      <th></th>\n",
       "      <th>genre_id</th>\n",
       "      <th>#tracks</th>\n",
       "      <th>parent</th>\n",
       "      <th>title</th>\n",
       "      <th>top_level</th>\n",
       "    </tr>\n",
       "  </thead>\n",
       "  <tbody>\n",
       "    <tr>\n",
       "      <th>0</th>\n",
       "      <td>1</td>\n",
       "      <td>8693</td>\n",
       "      <td>38</td>\n",
       "      <td>Avant-Garde</td>\n",
       "      <td>38</td>\n",
       "    </tr>\n",
       "    <tr>\n",
       "      <th>1</th>\n",
       "      <td>2</td>\n",
       "      <td>5271</td>\n",
       "      <td>0</td>\n",
       "      <td>International</td>\n",
       "      <td>2</td>\n",
       "    </tr>\n",
       "    <tr>\n",
       "      <th>2</th>\n",
       "      <td>3</td>\n",
       "      <td>1752</td>\n",
       "      <td>0</td>\n",
       "      <td>Blues</td>\n",
       "      <td>3</td>\n",
       "    </tr>\n",
       "    <tr>\n",
       "      <th>3</th>\n",
       "      <td>4</td>\n",
       "      <td>4126</td>\n",
       "      <td>0</td>\n",
       "      <td>Jazz</td>\n",
       "      <td>4</td>\n",
       "    </tr>\n",
       "    <tr>\n",
       "      <th>4</th>\n",
       "      <td>5</td>\n",
       "      <td>4106</td>\n",
       "      <td>0</td>\n",
       "      <td>Classical</td>\n",
       "      <td>5</td>\n",
       "    </tr>\n",
       "    <tr>\n",
       "      <th>...</th>\n",
       "      <td>...</td>\n",
       "      <td>...</td>\n",
       "      <td>...</td>\n",
       "      <td>...</td>\n",
       "      <td>...</td>\n",
       "    </tr>\n",
       "    <tr>\n",
       "      <th>158</th>\n",
       "      <td>1032</td>\n",
       "      <td>60</td>\n",
       "      <td>102</td>\n",
       "      <td>Turkish</td>\n",
       "      <td>2</td>\n",
       "    </tr>\n",
       "    <tr>\n",
       "      <th>159</th>\n",
       "      <td>1060</td>\n",
       "      <td>30</td>\n",
       "      <td>46</td>\n",
       "      <td>Tango</td>\n",
       "      <td>2</td>\n",
       "    </tr>\n",
       "    <tr>\n",
       "      <th>160</th>\n",
       "      <td>1156</td>\n",
       "      <td>26</td>\n",
       "      <td>130</td>\n",
       "      <td>Fado</td>\n",
       "      <td>2</td>\n",
       "    </tr>\n",
       "    <tr>\n",
       "      <th>161</th>\n",
       "      <td>1193</td>\n",
       "      <td>72</td>\n",
       "      <td>763</td>\n",
       "      <td>Christmas</td>\n",
       "      <td>38</td>\n",
       "    </tr>\n",
       "    <tr>\n",
       "      <th>162</th>\n",
       "      <td>1235</td>\n",
       "      <td>14938</td>\n",
       "      <td>0</td>\n",
       "      <td>Instrumental</td>\n",
       "      <td>1235</td>\n",
       "    </tr>\n",
       "  </tbody>\n",
       "</table>\n",
       "<p>163 rows × 5 columns</p>\n",
       "</div>"
      ],
      "text/plain": [
       "     genre_id  #tracks  parent          title  top_level\n",
       "0           1     8693      38    Avant-Garde         38\n",
       "1           2     5271       0  International          2\n",
       "2           3     1752       0          Blues          3\n",
       "3           4     4126       0           Jazz          4\n",
       "4           5     4106       0      Classical          5\n",
       "..        ...      ...     ...            ...        ...\n",
       "158      1032       60     102        Turkish          2\n",
       "159      1060       30      46          Tango          2\n",
       "160      1156       26     130           Fado          2\n",
       "161      1193       72     763      Christmas         38\n",
       "162      1235    14938       0   Instrumental       1235\n",
       "\n",
       "[163 rows x 5 columns]"
      ]
     },
     "execution_count": 10,
     "metadata": {},
     "output_type": "execute_result"
    }
   ],
   "source": [
    "genres_df"
   ]
  },
  {
   "cell_type": "code",
   "execution_count": 11,
   "id": "d80be793-93db-4610-ae66-5f14bf99bd2b",
   "metadata": {},
   "outputs": [
    {
     "data": {
      "text/html": [
       "<div>\n",
       "<style scoped>\n",
       "    .dataframe tbody tr th:only-of-type {\n",
       "        vertical-align: middle;\n",
       "    }\n",
       "\n",
       "    .dataframe tbody tr th {\n",
       "        vertical-align: top;\n",
       "    }\n",
       "\n",
       "    .dataframe thead th {\n",
       "        text-align: right;\n",
       "    }\n",
       "</style>\n",
       "<table border=\"1\" class=\"dataframe\">\n",
       "  <thead>\n",
       "    <tr style=\"text-align: right;\">\n",
       "      <th></th>\n",
       "      <th>genre_id</th>\n",
       "      <th>#tracks</th>\n",
       "      <th>parent</th>\n",
       "      <th>title</th>\n",
       "      <th>top_level</th>\n",
       "    </tr>\n",
       "  </thead>\n",
       "  <tbody>\n",
       "    <tr>\n",
       "      <th>136</th>\n",
       "      <td>495</td>\n",
       "      <td>2061</td>\n",
       "      <td>15</td>\n",
       "      <td>Downtempo</td>\n",
       "      <td>15</td>\n",
       "    </tr>\n",
       "  </tbody>\n",
       "</table>\n",
       "</div>"
      ],
      "text/plain": [
       "     genre_id  #tracks  parent      title  top_level\n",
       "136       495     2061      15  Downtempo         15"
      ]
     },
     "execution_count": 11,
     "metadata": {},
     "output_type": "execute_result"
    }
   ],
   "source": [
    "genres_df[genres_df['genre_id'] == 495]"
   ]
  },
  {
   "cell_type": "code",
   "execution_count": 12,
   "id": "28762aaf-32a4-41a5-af9c-cee3eca712ad",
   "metadata": {},
   "outputs": [],
   "source": [
    "# Cria um dicionário que associa o ID de cada música aos IDs de seus gêneros musicais\n",
    "tracks_df = pd.read_csv(os.path.join(metadata_path_fma,'tracks_valid.csv'))"
   ]
  },
  {
   "cell_type": "code",
   "execution_count": 13,
   "id": "13ea402f-660b-4b95-8f91-563c01971578",
   "metadata": {},
   "outputs": [],
   "source": [
    "tracks_df = tracks_df.sample(frac=args.sample_size)"
   ]
  },
  {
   "cell_type": "code",
   "execution_count": 14,
   "id": "552289c1-6b0d-48a9-8cd9-a185c12f6c9a",
   "metadata": {},
   "outputs": [
    {
     "data": {
      "text/html": [
       "<div>\n",
       "<style scoped>\n",
       "    .dataframe tbody tr th:only-of-type {\n",
       "        vertical-align: middle;\n",
       "    }\n",
       "\n",
       "    .dataframe tbody tr th {\n",
       "        vertical-align: top;\n",
       "    }\n",
       "\n",
       "    .dataframe thead th {\n",
       "        text-align: right;\n",
       "    }\n",
       "</style>\n",
       "<table border=\"1\" class=\"dataframe\">\n",
       "  <thead>\n",
       "    <tr style=\"text-align: right;\">\n",
       "      <th></th>\n",
       "      <th>track_id</th>\n",
       "      <th>track_title</th>\n",
       "      <th>valid_genre</th>\n",
       "    </tr>\n",
       "  </thead>\n",
       "  <tbody>\n",
       "    <tr>\n",
       "      <th>5649</th>\n",
       "      <td>10657</td>\n",
       "      <td>Absorbed III</td>\n",
       "      <td>['1', '15', '38']</td>\n",
       "    </tr>\n",
       "    <tr>\n",
       "      <th>48533</th>\n",
       "      <td>72582</td>\n",
       "      <td>100 Miles</td>\n",
       "      <td>['76', '113']</td>\n",
       "    </tr>\n",
       "    <tr>\n",
       "      <th>17624</th>\n",
       "      <td>28857</td>\n",
       "      <td>Eat Dust</td>\n",
       "      <td>['1', '19', '38']</td>\n",
       "    </tr>\n",
       "    <tr>\n",
       "      <th>87556</th>\n",
       "      <td>132127</td>\n",
       "      <td>Lost Keys</td>\n",
       "      <td>['15', '495']</td>\n",
       "    </tr>\n",
       "    <tr>\n",
       "      <th>63762</th>\n",
       "      <td>97705</td>\n",
       "      <td>LAmentos</td>\n",
       "      <td>['27', '70', '181']</td>\n",
       "    </tr>\n",
       "    <tr>\n",
       "      <th>24531</th>\n",
       "      <td>38771</td>\n",
       "      <td>Favela feat. Kit</td>\n",
       "      <td>['15', '21', '468']</td>\n",
       "    </tr>\n",
       "    <tr>\n",
       "      <th>33920</th>\n",
       "      <td>52361</td>\n",
       "      <td>Lose Yourself at the Nymphaeum</td>\n",
       "      <td>['12', '314']</td>\n",
       "    </tr>\n",
       "    <tr>\n",
       "      <th>102807</th>\n",
       "      <td>153359</td>\n",
       "      <td>02 - l'hymne</td>\n",
       "      <td>['64']</td>\n",
       "    </tr>\n",
       "    <tr>\n",
       "      <th>43632</th>\n",
       "      <td>65747</td>\n",
       "      <td>Friday Night Knife Fight</td>\n",
       "      <td>['10']</td>\n",
       "    </tr>\n",
       "    <tr>\n",
       "      <th>93703</th>\n",
       "      <td>140108</td>\n",
       "      <td>The Restoration [35:49—42:33]</td>\n",
       "      <td>['25', '38', '97']</td>\n",
       "    </tr>\n",
       "    <tr>\n",
       "      <th>64576</th>\n",
       "      <td>98867</td>\n",
       "      <td>Dready Monk</td>\n",
       "      <td>['15', '286', '495']</td>\n",
       "    </tr>\n",
       "    <tr>\n",
       "      <th>64365</th>\n",
       "      <td>98591</td>\n",
       "      <td>X-Problems Ft. QuESt (Prod. By Joel Johnston)</td>\n",
       "      <td>['21', '539']</td>\n",
       "    </tr>\n",
       "    <tr>\n",
       "      <th>12154</th>\n",
       "      <td>20131</td>\n",
       "      <td>They All Do The Charlie Chaplin Walk</td>\n",
       "      <td>['8']</td>\n",
       "    </tr>\n",
       "    <tr>\n",
       "      <th>26181</th>\n",
       "      <td>40903</td>\n",
       "      <td>The Devil is a Sad Spirit</td>\n",
       "      <td>['12']</td>\n",
       "    </tr>\n",
       "    <tr>\n",
       "      <th>7798</th>\n",
       "      <td>13664</td>\n",
       "      <td>Alot of history in a very short time</td>\n",
       "      <td>['12']</td>\n",
       "    </tr>\n",
       "    <tr>\n",
       "      <th>52710</th>\n",
       "      <td>80344</td>\n",
       "      <td>Ela Kai Pame</td>\n",
       "      <td>['2', '118']</td>\n",
       "    </tr>\n",
       "    <tr>\n",
       "      <th>63283</th>\n",
       "      <td>97096</td>\n",
       "      <td>Lady Grinning Soul</td>\n",
       "      <td>['38', '42', '111']</td>\n",
       "    </tr>\n",
       "    <tr>\n",
       "      <th>87831</th>\n",
       "      <td>132455</td>\n",
       "      <td>Answers</td>\n",
       "      <td>['103']</td>\n",
       "    </tr>\n",
       "    <tr>\n",
       "      <th>29723</th>\n",
       "      <td>46045</td>\n",
       "      <td>phuffy hance</td>\n",
       "      <td>['1', '38', '41']</td>\n",
       "    </tr>\n",
       "    <tr>\n",
       "      <th>2202</th>\n",
       "      <td>3920</td>\n",
       "      <td>Fragrant Rota</td>\n",
       "      <td>['17']</td>\n",
       "    </tr>\n",
       "  </tbody>\n",
       "</table>\n",
       "</div>"
      ],
      "text/plain": [
       "        track_id                                    track_title  \\\n",
       "5649       10657                                   Absorbed III   \n",
       "48533      72582                                      100 Miles   \n",
       "17624      28857                                       Eat Dust   \n",
       "87556     132127                                      Lost Keys   \n",
       "63762      97705                                       LAmentos   \n",
       "24531      38771                               Favela feat. Kit   \n",
       "33920      52361                 Lose Yourself at the Nymphaeum   \n",
       "102807    153359                                   02 - l'hymne   \n",
       "43632      65747                       Friday Night Knife Fight   \n",
       "93703     140108                  The Restoration [35:49—42:33]   \n",
       "64576      98867                                    Dready Monk   \n",
       "64365      98591  X-Problems Ft. QuESt (Prod. By Joel Johnston)   \n",
       "12154      20131           They All Do The Charlie Chaplin Walk   \n",
       "26181      40903                      The Devil is a Sad Spirit   \n",
       "7798       13664           Alot of history in a very short time   \n",
       "52710      80344                                   Ela Kai Pame   \n",
       "63283      97096                             Lady Grinning Soul   \n",
       "87831     132455                                        Answers   \n",
       "29723      46045                                   phuffy hance   \n",
       "2202        3920                                  Fragrant Rota   \n",
       "\n",
       "                 valid_genre  \n",
       "5649       ['1', '15', '38']  \n",
       "48533          ['76', '113']  \n",
       "17624      ['1', '19', '38']  \n",
       "87556          ['15', '495']  \n",
       "63762    ['27', '70', '181']  \n",
       "24531    ['15', '21', '468']  \n",
       "33920          ['12', '314']  \n",
       "102807                ['64']  \n",
       "43632                 ['10']  \n",
       "93703     ['25', '38', '97']  \n",
       "64576   ['15', '286', '495']  \n",
       "64365          ['21', '539']  \n",
       "12154                  ['8']  \n",
       "26181                 ['12']  \n",
       "7798                  ['12']  \n",
       "52710           ['2', '118']  \n",
       "63283    ['38', '42', '111']  \n",
       "87831                ['103']  \n",
       "29723      ['1', '38', '41']  \n",
       "2202                  ['17']  "
      ]
     },
     "execution_count": 14,
     "metadata": {},
     "output_type": "execute_result"
    }
   ],
   "source": [
    "tracks_df.sample(20)"
   ]
  },
  {
   "cell_type": "code",
   "execution_count": 15,
   "id": "fa6c0adc-32c6-4a14-a9aa-f0af12eacbf1",
   "metadata": {},
   "outputs": [
    {
     "data": {
      "text/plain": [
       "array([\"['53', '58']\", \"['2', '8', '214']\", \"['15', '38', '41']\", ...,\n",
       "       \"['66', '111']\", \"['15']\", \"['322']\"], dtype=object)"
      ]
     },
     "execution_count": 15,
     "metadata": {},
     "output_type": "execute_result"
    }
   ],
   "source": [
    "tracks_df.valid_genre.values"
   ]
  },
  {
   "cell_type": "code",
   "execution_count": 16,
   "id": "31ad48bd-2868-46ed-81e6-02b6b26e2b1c",
   "metadata": {},
   "outputs": [
    {
     "data": {
      "text/plain": [
       "8664                                     Axis Mundi\n",
       "5521                          El-Ouache-Ouel-Ghorba\n",
       "32590                                        Wander\n",
       "77967                                  Le telephoné\n",
       "85648    La Màgia de l'Ànima Impossible - desfilada\n",
       "                            ...                    \n",
       "81032      Carol Annes Crunch - Studio Tape Track 5\n",
       "26640                                 Vacío Estelar\n",
       "42217                                       Grifted\n",
       "16772                                   s6c6wr3m7x2\n",
       "50839                                       Prelude\n",
       "Name: track_title, Length: 104186, dtype: object"
      ]
     },
     "execution_count": 16,
     "metadata": {},
     "output_type": "execute_result"
    }
   ],
   "source": [
    "tracks_df.track_title"
   ]
  },
  {
   "cell_type": "code",
   "execution_count": 17,
   "id": "220d2eb1-95ba-41d8-9499-bd6278ef473a",
   "metadata": {},
   "outputs": [],
   "source": [
    "## Get complete genre structure\n",
    "def get_all_structure(estrutura,df_genres):\n",
    "    ## Get structure from df_genres\n",
    "    def get_all_structure_from_df(estrutura,df_genres,structure=[]):\n",
    "        if estrutura == 0:\n",
    "            return structure\n",
    "        else:\n",
    "            structure.append(estrutura)\n",
    "            get_all_structure_from_df(df_genres[df_genres[\"genre_id\"]==int(estrutura)].parent.values[0],df_genres,structure)\n",
    "            return structure\n",
    "    \n",
    "    return get_all_structure_from_df(estrutura,df_genres,structure=[])\n",
    "    "
   ]
  },
  {
   "cell_type": "code",
   "execution_count": 18,
   "id": "2e89c7be-57eb-46bf-8506-b966ab685b50",
   "metadata": {},
   "outputs": [],
   "source": [
    "# tracks_df['valid_genre'] = tracks_df.track_genres.apply(lambda x: x.strip('][').split(', ') if x != '[]' else None)\n",
    "tracks_df['valid_genre'] = tracks_df.valid_genre.apply(lambda x: ast.literal_eval(x))"
   ]
  },
  {
   "cell_type": "code",
   "execution_count": 19,
   "id": "049fdc8c-85ac-431f-8091-6b6575e8282a",
   "metadata": {},
   "outputs": [
    {
     "data": {
      "text/plain": [
       "8664               [53, 58]\n",
       "5521            [2, 8, 214]\n",
       "32590          [15, 38, 41]\n",
       "77967                   [1]\n",
       "85648         [15, 42, 296]\n",
       "                ...        \n",
       "81032                  [18]\n",
       "26640    [12, 31, 109, 619]\n",
       "42217             [66, 111]\n",
       "16772                  [15]\n",
       "50839                 [322]\n",
       "Name: valid_genre, Length: 104186, dtype: object"
      ]
     },
     "execution_count": 19,
     "metadata": {},
     "output_type": "execute_result"
    }
   ],
   "source": [
    "tracks_df['valid_genre']"
   ]
  },
  {
   "cell_type": "code",
   "execution_count": 20,
   "id": "b50f6d87-8a38-4b6a-92b7-c10a559de965",
   "metadata": {},
   "outputs": [],
   "source": [
    "tracks_df['last_genre_id'] = tracks_df.valid_genre.apply(lambda x:x[-1] if x != None else None)"
   ]
  },
  {
   "cell_type": "code",
   "execution_count": 21,
   "id": "5c1ccfaf-ad6a-4f6c-87d6-b6e8a74a8d0c",
   "metadata": {},
   "outputs": [
    {
     "data": {
      "text/html": [
       "<div>\n",
       "<style scoped>\n",
       "    .dataframe tbody tr th:only-of-type {\n",
       "        vertical-align: middle;\n",
       "    }\n",
       "\n",
       "    .dataframe tbody tr th {\n",
       "        vertical-align: top;\n",
       "    }\n",
       "\n",
       "    .dataframe thead th {\n",
       "        text-align: right;\n",
       "    }\n",
       "</style>\n",
       "<table border=\"1\" class=\"dataframe\">\n",
       "  <thead>\n",
       "    <tr style=\"text-align: right;\">\n",
       "      <th></th>\n",
       "      <th>track_id</th>\n",
       "      <th>track_title</th>\n",
       "      <th>valid_genre</th>\n",
       "      <th>last_genre_id</th>\n",
       "    </tr>\n",
       "  </thead>\n",
       "  <tbody>\n",
       "    <tr>\n",
       "      <th>78482</th>\n",
       "      <td>120020</td>\n",
       "      <td>Drift</td>\n",
       "      <td>[2, 311]</td>\n",
       "      <td>311</td>\n",
       "    </tr>\n",
       "    <tr>\n",
       "      <th>26087</th>\n",
       "      <td>40799</td>\n",
       "      <td>hoaaaaa!!!</td>\n",
       "      <td>[15, 296]</td>\n",
       "      <td>296</td>\n",
       "    </tr>\n",
       "    <tr>\n",
       "      <th>25834</th>\n",
       "      <td>40499</td>\n",
       "      <td>He was an ok man but he's dead now</td>\n",
       "      <td>[76, 224]</td>\n",
       "      <td>224</td>\n",
       "    </tr>\n",
       "    <tr>\n",
       "      <th>7744</th>\n",
       "      <td>13561</td>\n",
       "      <td>The Dao of Sun Zoo</td>\n",
       "      <td>[21]</td>\n",
       "      <td>21</td>\n",
       "    </tr>\n",
       "    <tr>\n",
       "      <th>60016</th>\n",
       "      <td>91647</td>\n",
       "      <td>Recueillement</td>\n",
       "      <td>[94, 98]</td>\n",
       "      <td>98</td>\n",
       "    </tr>\n",
       "    <tr>\n",
       "      <th>94422</th>\n",
       "      <td>141181</td>\n",
       "      <td>Stay (Teknique Remix) (Featuring Jeff Barringer)</td>\n",
       "      <td>[10, 362]</td>\n",
       "      <td>362</td>\n",
       "    </tr>\n",
       "    <tr>\n",
       "      <th>65298</th>\n",
       "      <td>100380</td>\n",
       "      <td>Dark Ophrys</td>\n",
       "      <td>[1, 30, 38, 41, 247]</td>\n",
       "      <td>247</td>\n",
       "    </tr>\n",
       "    <tr>\n",
       "      <th>39894</th>\n",
       "      <td>60687</td>\n",
       "      <td>Alone and Forsaken</td>\n",
       "      <td>[12]</td>\n",
       "      <td>12</td>\n",
       "    </tr>\n",
       "    <tr>\n",
       "      <th>43052</th>\n",
       "      <td>65040</td>\n",
       "      <td>Anxiety Ejection</td>\n",
       "      <td>[15, 468]</td>\n",
       "      <td>468</td>\n",
       "    </tr>\n",
       "    <tr>\n",
       "      <th>49019</th>\n",
       "      <td>73319</td>\n",
       "      <td>Untitled Edit</td>\n",
       "      <td>[1, 30, 38, 41, 247]</td>\n",
       "      <td>247</td>\n",
       "    </tr>\n",
       "    <tr>\n",
       "      <th>41600</th>\n",
       "      <td>63146</td>\n",
       "      <td>phish phood</td>\n",
       "      <td>[27, 66, 76]</td>\n",
       "      <td>76</td>\n",
       "    </tr>\n",
       "    <tr>\n",
       "      <th>96552</th>\n",
       "      <td>144441</td>\n",
       "      <td>The place I called Home</td>\n",
       "      <td>[5, 322, 1235]</td>\n",
       "      <td>1235</td>\n",
       "    </tr>\n",
       "    <tr>\n",
       "      <th>79811</th>\n",
       "      <td>121807</td>\n",
       "      <td>Self Defence Against Fresh Fruit</td>\n",
       "      <td>[25]</td>\n",
       "      <td>25</td>\n",
       "    </tr>\n",
       "    <tr>\n",
       "      <th>102022</th>\n",
       "      <td>151919</td>\n",
       "      <td>Floodlights</td>\n",
       "      <td>[30, 42, 107]</td>\n",
       "      <td>107</td>\n",
       "    </tr>\n",
       "    <tr>\n",
       "      <th>89823</th>\n",
       "      <td>134925</td>\n",
       "      <td>Improv1@halas.am</td>\n",
       "      <td>[1, 38, 41, 187, 250]</td>\n",
       "      <td>250</td>\n",
       "    </tr>\n",
       "    <tr>\n",
       "      <th>54291</th>\n",
       "      <td>82368</td>\n",
       "      <td>Kingdom of Scandalia</td>\n",
       "      <td>[1, 4, 38]</td>\n",
       "      <td>38</td>\n",
       "    </tr>\n",
       "    <tr>\n",
       "      <th>40886</th>\n",
       "      <td>62184</td>\n",
       "      <td>le malin</td>\n",
       "      <td>[81, 92]</td>\n",
       "      <td>92</td>\n",
       "    </tr>\n",
       "    <tr>\n",
       "      <th>99847</th>\n",
       "      <td>148578</td>\n",
       "      <td>Ça ne l'intéresse pas</td>\n",
       "      <td>[10]</td>\n",
       "      <td>10</td>\n",
       "    </tr>\n",
       "    <tr>\n",
       "      <th>20866</th>\n",
       "      <td>33420</td>\n",
       "      <td>M U N A K U  L L A W A Y</td>\n",
       "      <td>[46]</td>\n",
       "      <td>46</td>\n",
       "    </tr>\n",
       "    <tr>\n",
       "      <th>7872</th>\n",
       "      <td>13749</td>\n",
       "      <td>110% (radio edit)</td>\n",
       "      <td>[21]</td>\n",
       "      <td>21</td>\n",
       "    </tr>\n",
       "  </tbody>\n",
       "</table>\n",
       "</div>"
      ],
      "text/plain": [
       "        track_id                                       track_title  \\\n",
       "78482     120020                                             Drift   \n",
       "26087      40799                                        hoaaaaa!!!   \n",
       "25834      40499                He was an ok man but he's dead now   \n",
       "7744       13561                                The Dao of Sun Zoo   \n",
       "60016      91647                                     Recueillement   \n",
       "94422     141181  Stay (Teknique Remix) (Featuring Jeff Barringer)   \n",
       "65298     100380                                       Dark Ophrys   \n",
       "39894      60687                                Alone and Forsaken   \n",
       "43052      65040                                  Anxiety Ejection   \n",
       "49019      73319                                     Untitled Edit   \n",
       "41600      63146                                       phish phood   \n",
       "96552     144441                           The place I called Home   \n",
       "79811     121807                  Self Defence Against Fresh Fruit   \n",
       "102022    151919                                       Floodlights   \n",
       "89823     134925                                  Improv1@halas.am   \n",
       "54291      82368                              Kingdom of Scandalia   \n",
       "40886      62184                                          le malin   \n",
       "99847     148578                             Ça ne l'intéresse pas   \n",
       "20866      33420                          M U N A K U  L L A W A Y   \n",
       "7872       13749                                 110% (radio edit)   \n",
       "\n",
       "                  valid_genre last_genre_id  \n",
       "78482                [2, 311]           311  \n",
       "26087               [15, 296]           296  \n",
       "25834               [76, 224]           224  \n",
       "7744                     [21]            21  \n",
       "60016                [94, 98]            98  \n",
       "94422               [10, 362]           362  \n",
       "65298    [1, 30, 38, 41, 247]           247  \n",
       "39894                    [12]            12  \n",
       "43052               [15, 468]           468  \n",
       "49019    [1, 30, 38, 41, 247]           247  \n",
       "41600            [27, 66, 76]            76  \n",
       "96552          [5, 322, 1235]          1235  \n",
       "79811                    [25]            25  \n",
       "102022          [30, 42, 107]           107  \n",
       "89823   [1, 38, 41, 187, 250]           250  \n",
       "54291              [1, 4, 38]            38  \n",
       "40886                [81, 92]            92  \n",
       "99847                    [10]            10  \n",
       "20866                    [46]            46  \n",
       "7872                     [21]            21  "
      ]
     },
     "execution_count": 21,
     "metadata": {},
     "output_type": "execute_result"
    }
   ],
   "source": [
    "tracks_df.sample(20)"
   ]
  },
  {
   "cell_type": "code",
   "execution_count": 22,
   "id": "f5de1c7f-c2b6-487a-83bc-974ddb99008a",
   "metadata": {},
   "outputs": [],
   "source": [
    "# tracks_df.dropna(inplace=True)"
   ]
  },
  {
   "cell_type": "code",
   "execution_count": 23,
   "id": "fcb10f3d-d6fa-4e7b-a4f0-d8536a1a2898",
   "metadata": {},
   "outputs": [
    {
     "data": {
      "text/html": [
       "<div>\n",
       "<style scoped>\n",
       "    .dataframe tbody tr th:only-of-type {\n",
       "        vertical-align: middle;\n",
       "    }\n",
       "\n",
       "    .dataframe tbody tr th {\n",
       "        vertical-align: top;\n",
       "    }\n",
       "\n",
       "    .dataframe thead th {\n",
       "        text-align: right;\n",
       "    }\n",
       "</style>\n",
       "<table border=\"1\" class=\"dataframe\">\n",
       "  <thead>\n",
       "    <tr style=\"text-align: right;\">\n",
       "      <th></th>\n",
       "      <th>track_id</th>\n",
       "      <th>track_title</th>\n",
       "      <th>valid_genre</th>\n",
       "      <th>last_genre_id</th>\n",
       "    </tr>\n",
       "  </thead>\n",
       "  <tbody>\n",
       "    <tr>\n",
       "      <th>8664</th>\n",
       "      <td>14758</td>\n",
       "      <td>Axis Mundi</td>\n",
       "      <td>[53, 58]</td>\n",
       "      <td>58</td>\n",
       "    </tr>\n",
       "    <tr>\n",
       "      <th>5521</th>\n",
       "      <td>10512</td>\n",
       "      <td>El-Ouache-Ouel-Ghorba</td>\n",
       "      <td>[2, 8, 214]</td>\n",
       "      <td>214</td>\n",
       "    </tr>\n",
       "    <tr>\n",
       "      <th>32590</th>\n",
       "      <td>50627</td>\n",
       "      <td>Wander</td>\n",
       "      <td>[15, 38, 41]</td>\n",
       "      <td>41</td>\n",
       "    </tr>\n",
       "    <tr>\n",
       "      <th>77967</th>\n",
       "      <td>119401</td>\n",
       "      <td>Le telephoné</td>\n",
       "      <td>[1]</td>\n",
       "      <td>1</td>\n",
       "    </tr>\n",
       "    <tr>\n",
       "      <th>85648</th>\n",
       "      <td>129741</td>\n",
       "      <td>La Màgia de l'Ànima Impossible - desfilada</td>\n",
       "      <td>[15, 42, 296]</td>\n",
       "      <td>296</td>\n",
       "    </tr>\n",
       "    <tr>\n",
       "      <th>...</th>\n",
       "      <td>...</td>\n",
       "      <td>...</td>\n",
       "      <td>...</td>\n",
       "      <td>...</td>\n",
       "    </tr>\n",
       "    <tr>\n",
       "      <th>81032</th>\n",
       "      <td>123468</td>\n",
       "      <td>Carol Annes Crunch - Studio Tape Track 5</td>\n",
       "      <td>[18]</td>\n",
       "      <td>18</td>\n",
       "    </tr>\n",
       "    <tr>\n",
       "      <th>26640</th>\n",
       "      <td>41499</td>\n",
       "      <td>Vacío Estelar</td>\n",
       "      <td>[12, 31, 109, 619]</td>\n",
       "      <td>619</td>\n",
       "    </tr>\n",
       "    <tr>\n",
       "      <th>42217</th>\n",
       "      <td>64029</td>\n",
       "      <td>Grifted</td>\n",
       "      <td>[66, 111]</td>\n",
       "      <td>111</td>\n",
       "    </tr>\n",
       "    <tr>\n",
       "      <th>16772</th>\n",
       "      <td>27634</td>\n",
       "      <td>s6c6wr3m7x2</td>\n",
       "      <td>[15]</td>\n",
       "      <td>15</td>\n",
       "    </tr>\n",
       "    <tr>\n",
       "      <th>50839</th>\n",
       "      <td>75913</td>\n",
       "      <td>Prelude</td>\n",
       "      <td>[322]</td>\n",
       "      <td>322</td>\n",
       "    </tr>\n",
       "  </tbody>\n",
       "</table>\n",
       "<p>104186 rows × 4 columns</p>\n",
       "</div>"
      ],
      "text/plain": [
       "       track_id                                 track_title  \\\n",
       "8664      14758                                  Axis Mundi   \n",
       "5521      10512                       El-Ouache-Ouel-Ghorba   \n",
       "32590     50627                                      Wander   \n",
       "77967    119401                                Le telephoné   \n",
       "85648    129741  La Màgia de l'Ànima Impossible - desfilada   \n",
       "...         ...                                         ...   \n",
       "81032    123468    Carol Annes Crunch - Studio Tape Track 5   \n",
       "26640     41499                               Vacío Estelar   \n",
       "42217     64029                                     Grifted   \n",
       "16772     27634                                 s6c6wr3m7x2   \n",
       "50839     75913                                     Prelude   \n",
       "\n",
       "              valid_genre last_genre_id  \n",
       "8664             [53, 58]            58  \n",
       "5521          [2, 8, 214]           214  \n",
       "32590        [15, 38, 41]            41  \n",
       "77967                 [1]             1  \n",
       "85648       [15, 42, 296]           296  \n",
       "...                   ...           ...  \n",
       "81032                [18]            18  \n",
       "26640  [12, 31, 109, 619]           619  \n",
       "42217           [66, 111]           111  \n",
       "16772                [15]            15  \n",
       "50839               [322]           322  \n",
       "\n",
       "[104186 rows x 4 columns]"
      ]
     },
     "execution_count": 23,
     "metadata": {},
     "output_type": "execute_result"
    }
   ],
   "source": [
    "tracks_df"
   ]
  },
  {
   "cell_type": "code",
   "execution_count": 24,
   "id": "8f713133-f471-4ca5-b7b1-ab06109bb31b",
   "metadata": {
    "tags": []
   },
   "outputs": [],
   "source": [
    "tracks_df['full_genre_id'] = tracks_df.last_genre_id.apply(lambda x: get_all_structure(x,genres_df)[::-1])"
   ]
  },
  {
   "cell_type": "code",
   "execution_count": 25,
   "id": "69d80106-b330-4749-8aee-d2fbc451ecfb",
   "metadata": {},
   "outputs": [
    {
     "data": {
      "text/plain": [
       "[38]             6508\n",
       "[1235]           6043\n",
       "[10, 76]         4126\n",
       "[1235, 107]      3988\n",
       "[17, 103]        3482\n",
       "                 ... \n",
       "[2, 86, 173]        4\n",
       "[20, 65, 189]       4\n",
       "[9, 651, 493]       4\n",
       "[5, 444]            2\n",
       "[20, 7]             2\n",
       "Name: full_genre_id, Length: 159, dtype: int64"
      ]
     },
     "execution_count": 25,
     "metadata": {},
     "output_type": "execute_result"
    }
   ],
   "source": [
    "tracks_df.full_genre_id.value_counts()"
   ]
  },
  {
   "cell_type": "code",
   "execution_count": 26,
   "id": "8cf91d85-a298-4064-aecc-4370639ea929",
   "metadata": {},
   "outputs": [
    {
     "data": {
      "text/plain": [
       "Index(['track_id', 'track_title', 'valid_genre', 'last_genre_id',\n",
       "       'full_genre_id'],\n",
       "      dtype='object')"
      ]
     },
     "execution_count": 26,
     "metadata": {},
     "output_type": "execute_result"
    }
   ],
   "source": [
    "tracks_df.columns"
   ]
  },
  {
   "cell_type": "code",
   "execution_count": 27,
   "id": "d7b72dad-6dfa-46c3-84ac-10602c852524",
   "metadata": {},
   "outputs": [],
   "source": [
    "tracks_df = tracks_df[['track_id','full_genre_id']]"
   ]
  },
  {
   "cell_type": "code",
   "execution_count": 28,
   "id": "c7d35e82-a0b0-4bda-be5e-f69340a00385",
   "metadata": {},
   "outputs": [
    {
     "data": {
      "text/plain": [
       "[38]             6508\n",
       "[1235]           6043\n",
       "[10, 76]         4126\n",
       "[1235, 107]      3988\n",
       "[17, 103]        3482\n",
       "                 ... \n",
       "[2, 86, 173]        4\n",
       "[20, 65, 189]       4\n",
       "[9, 651, 493]       4\n",
       "[5, 444]            2\n",
       "[20, 7]             2\n",
       "Name: full_genre_id, Length: 159, dtype: int64"
      ]
     },
     "execution_count": 28,
     "metadata": {},
     "output_type": "execute_result"
    }
   ],
   "source": [
    "tracks_df.full_genre_id.value_counts()"
   ]
  },
  {
   "cell_type": "code",
   "execution_count": 29,
   "id": "14106678-2380-40d6-8373-edf1fda9b3af",
   "metadata": {},
   "outputs": [
    {
     "data": {
      "text/plain": [
       "<bound method Series.info of 8664          [12, 58]\n",
       "5521      [2, 92, 214]\n",
       "32590         [38, 41]\n",
       "77967          [38, 1]\n",
       "85648        [15, 296]\n",
       "             ...      \n",
       "81032       [1235, 18]\n",
       "26640    [2, 130, 619]\n",
       "42217    [12, 25, 111]\n",
       "16772             [15]\n",
       "50839         [5, 322]\n",
       "Name: full_genre_id, Length: 104186, dtype: object>"
      ]
     },
     "execution_count": 29,
     "metadata": {},
     "output_type": "execute_result"
    }
   ],
   "source": [
    "tracks_df.full_genre_id.info"
   ]
  },
  {
   "cell_type": "code",
   "execution_count": 30,
   "id": "90068602-0c57-4e10-bd9b-64cd1c8d8ad8",
   "metadata": {},
   "outputs": [],
   "source": [
    "labels_size = tracks_df.full_genre_id.apply(lambda x: len(x))"
   ]
  },
  {
   "cell_type": "code",
   "execution_count": 31,
   "id": "70f2351f-2f55-4979-84c2-0cb142887a78",
   "metadata": {},
   "outputs": [],
   "source": [
    "labels_size = labels_size.max()"
   ]
  },
  {
   "cell_type": "code",
   "execution_count": 32,
   "id": "e1f6ac31-ca09-4e44-a120-cd4534cd851e",
   "metadata": {},
   "outputs": [
    {
     "data": {
      "text/plain": [
       "5"
      ]
     },
     "execution_count": 32,
     "metadata": {},
     "output_type": "execute_result"
    }
   ],
   "source": [
    "labels_size"
   ]
  },
  {
   "cell_type": "code",
   "execution_count": 33,
   "id": "2b78849a-c456-4f04-9076-8d4a1ee5be97",
   "metadata": {},
   "outputs": [],
   "source": [
    "import pandas as pd\n",
    "import os"
   ]
  },
  {
   "cell_type": "markdown",
   "id": "74827c2e-072a-4213-9b96-f7bb24dee80e",
   "metadata": {},
   "source": [
    "### Parse of label to structure"
   ]
  },
  {
   "cell_type": "code",
   "execution_count": 34,
   "id": "093a84f2-25d1-4f95-81e5-c51e73933e95",
   "metadata": {},
   "outputs": [],
   "source": [
    "### Function for parse label to sctructure of hierarhical scheme\n",
    "\n",
    "def parse_label(label,label_size=5):\n",
    "    # label = label.split('-')\n",
    "    # preencher com 0 no caso de haver menos de 5 níveis\n",
    "    labels = np.zeros(label_size,dtype=int)\n",
    "    for i, label in enumerate(label):\n",
    "        if i == 5:\n",
    "            break\n",
    "        # Aqui você pode fazer a conversão do label em um índice inteiro usando um dicionário ou outro método\n",
    "        # Neste exemplo, estou apenas usando a posição da label na lista como índice\n",
    "        labels[i] = label\n",
    "    return labels"
   ]
  },
  {
   "cell_type": "code",
   "execution_count": 35,
   "id": "7ecb279e-adf3-4da6-b318-03b9880e2cc9",
   "metadata": {},
   "outputs": [
    {
     "data": {
      "text/plain": [
       "[38]             6508\n",
       "[1235]           6043\n",
       "[10, 76]         4126\n",
       "[1235, 107]      3988\n",
       "[17, 103]        3482\n",
       "                 ... \n",
       "[2, 86, 173]        4\n",
       "[20, 65, 189]       4\n",
       "[9, 651, 493]       4\n",
       "[5, 444]            2\n",
       "[20, 7]             2\n",
       "Name: full_genre_id, Length: 159, dtype: int64"
      ]
     },
     "execution_count": 35,
     "metadata": {},
     "output_type": "execute_result"
    }
   ],
   "source": [
    "tracks_df.full_genre_id.value_counts()"
   ]
  },
  {
   "cell_type": "code",
   "execution_count": 36,
   "id": "2a6adb21-c145-4c82-ba79-798d02c7d2fd",
   "metadata": {},
   "outputs": [],
   "source": [
    "parsed_labels = tracks_df.full_genre_id.apply(lambda x: parse_label(x))"
   ]
  },
  {
   "cell_type": "code",
   "execution_count": 37,
   "id": "d60b077d-993f-4cbb-a66b-407d97dba96e",
   "metadata": {},
   "outputs": [],
   "source": [
    "def convert_label_to_string(x,level=2):\n",
    "    return '-'.join([str(value) for value in x[:level]])"
   ]
  },
  {
   "cell_type": "code",
   "execution_count": 38,
   "id": "e463b489-81bf-4a7d-95db-1f78c7ca6d87",
   "metadata": {},
   "outputs": [
    {
     "data": {
      "application/vnd.jupyter.widget-view+json": {
       "model_id": "8ab0311f0e084675bcc85f1908b27b4d",
       "version_major": 2,
       "version_minor": 0
      },
      "text/plain": [
       "  0%|          | 0/104186 [00:00<?, ?it/s]"
      ]
     },
     "metadata": {},
     "output_type": "display_data"
    },
    {
     "name": "stderr",
     "output_type": "stream",
     "text": [
      "/tmp/ipykernel_201279/310633048.py:1: SettingWithCopyWarning: \n",
      "A value is trying to be set on a copy of a slice from a DataFrame.\n",
      "Try using .loc[row_indexer,col_indexer] = value instead\n",
      "\n",
      "See the caveats in the documentation: https://pandas.pydata.org/pandas-docs/stable/user_guide/indexing.html#returning-a-view-versus-a-copy\n",
      "  tracks_df['labels_1'] = parsed_labels.progress_apply(lambda x: str(x[:1][0]))\n"
     ]
    },
    {
     "data": {
      "application/vnd.jupyter.widget-view+json": {
       "model_id": "af6cc57a68814074a37760494c1b0070",
       "version_major": 2,
       "version_minor": 0
      },
      "text/plain": [
       "  0%|          | 0/104186 [00:00<?, ?it/s]"
      ]
     },
     "metadata": {},
     "output_type": "display_data"
    },
    {
     "name": "stderr",
     "output_type": "stream",
     "text": [
      "/tmp/ipykernel_201279/310633048.py:2: SettingWithCopyWarning: \n",
      "A value is trying to be set on a copy of a slice from a DataFrame.\n",
      "Try using .loc[row_indexer,col_indexer] = value instead\n",
      "\n",
      "See the caveats in the documentation: https://pandas.pydata.org/pandas-docs/stable/user_guide/indexing.html#returning-a-view-versus-a-copy\n",
      "  tracks_df['labels_2'] = parsed_labels.progress_apply(lambda x: convert_label_to_string(x,level=2))\n"
     ]
    },
    {
     "data": {
      "application/vnd.jupyter.widget-view+json": {
       "model_id": "4c998bd423f348489d80aadc30b399a1",
       "version_major": 2,
       "version_minor": 0
      },
      "text/plain": [
       "  0%|          | 0/104186 [00:00<?, ?it/s]"
      ]
     },
     "metadata": {},
     "output_type": "display_data"
    },
    {
     "data": {
      "application/vnd.jupyter.widget-view+json": {
       "model_id": "5725c29d4b614442b73c5d4e47f89816",
       "version_major": 2,
       "version_minor": 0
      },
      "text/plain": [
       "  0%|          | 0/104186 [00:00<?, ?it/s]"
      ]
     },
     "metadata": {},
     "output_type": "display_data"
    },
    {
     "data": {
      "application/vnd.jupyter.widget-view+json": {
       "model_id": "39c3f6d0a7aa470aa06040a09e6b495c",
       "version_major": 2,
       "version_minor": 0
      },
      "text/plain": [
       "  0%|          | 0/104186 [00:00<?, ?it/s]"
      ]
     },
     "metadata": {},
     "output_type": "display_data"
    }
   ],
   "source": [
    "tracks_df['labels_1'] = parsed_labels.progress_apply(lambda x: str(x[:1][0]))\n",
    "tracks_df['labels_2'] = parsed_labels.progress_apply(lambda x: convert_label_to_string(x,level=2))\n",
    "tracks_df['labels_3'] = parsed_labels.progress_apply(lambda x: convert_label_to_string(x,level=3))\n",
    "tracks_df['labels_4'] = parsed_labels.progress_apply(lambda x: convert_label_to_string(x,level=4))\n",
    "tracks_df['labels_5'] = parsed_labels.progress_apply(lambda x: convert_label_to_string(x,level=5))"
   ]
  },
  {
   "cell_type": "code",
   "execution_count": 39,
   "id": "7a3d673f-7dbb-4b46-a5c0-fcd760f745cb",
   "metadata": {
    "tags": []
   },
   "outputs": [
    {
     "data": {
      "text/plain": [
       "38      22066\n",
       "12      21710\n",
       "15      18493\n",
       "1235    11214\n",
       "17       6900\n",
       "10       6514\n",
       "21       6453\n",
       "2        3331\n",
       "5        2456\n",
       "20       1183\n",
       "4        1147\n",
       "9        1023\n",
       "8         620\n",
       "13        466\n",
       "14        430\n",
       "3         180\n",
       "Name: labels_1, dtype: int64"
      ]
     },
     "execution_count": 39,
     "metadata": {},
     "output_type": "execute_result"
    }
   ],
   "source": [
    "tracks_df.labels_1.value_counts()"
   ]
  },
  {
   "cell_type": "code",
   "execution_count": 40,
   "id": "86c81a9f-b819-4793-af3a-78f22b198aa7",
   "metadata": {},
   "outputs": [
    {
     "data": {
      "text/plain": [
       "38      22066\n",
       "12      21710\n",
       "15      18493\n",
       "1235    11214\n",
       "17       6900\n",
       "10       6514\n",
       "21       6453\n",
       "2        3331\n",
       "5        2456\n",
       "20       1183\n",
       "4        1147\n",
       "9        1023\n",
       "8         620\n",
       "13        466\n",
       "14        430\n",
       "3         180\n",
       "Name: labels_1, dtype: int64"
      ]
     },
     "execution_count": 40,
     "metadata": {},
     "output_type": "execute_result"
    }
   ],
   "source": [
    "tracks_df['labels_1'].value_counts()"
   ]
  },
  {
   "cell_type": "code",
   "execution_count": 41,
   "id": "304cd0a8-f7de-4862-8994-a9ed960cea5a",
   "metadata": {},
   "outputs": [],
   "source": [
    "tracks_df = tracks_df[tracks_df['labels_1'].isin(['3','14'])]"
   ]
  },
  {
   "cell_type": "code",
   "execution_count": 42,
   "id": "af5df190-01df-4f13-a475-35132a6712f4",
   "metadata": {},
   "outputs": [],
   "source": [
    "tracks_df.to_csv(os.path.join(train_path,\"tracks.csv\"),index=False)"
   ]
  },
  {
   "cell_type": "code",
   "execution_count": 43,
   "id": "5dc7f941-56f4-43bc-9d35-8fc233bb2a48",
   "metadata": {},
   "outputs": [],
   "source": [
    "tracks_df = pd.read_csv(os.path.join(train_path,\"tracks.csv\"))"
   ]
  },
  {
   "cell_type": "code",
   "execution_count": 44,
   "id": "d1e5f547-34ba-4d8d-b3ef-7d7eebc578fc",
   "metadata": {},
   "outputs": [],
   "source": [
    "categories_df = pd.DataFrame({'level5':tracks_df.labels_5.unique()})"
   ]
  },
  {
   "cell_type": "code",
   "execution_count": 45,
   "id": "39a3077d-9077-4f6b-be98-1e7d14e280e2",
   "metadata": {},
   "outputs": [
    {
     "data": {
      "application/vnd.jupyter.widget-view+json": {
       "model_id": "e5156fffa28847a690e102b961ceadeb",
       "version_major": 2,
       "version_minor": 0
      },
      "text/plain": [
       "  0%|          | 0/5 [00:00<?, ?it/s]"
      ]
     },
     "metadata": {},
     "output_type": "display_data"
    },
    {
     "data": {
      "application/vnd.jupyter.widget-view+json": {
       "model_id": "2cb0f3340da74b609b2226712e9700fc",
       "version_major": 2,
       "version_minor": 0
      },
      "text/plain": [
       "  0%|          | 0/5 [00:00<?, ?it/s]"
      ]
     },
     "metadata": {},
     "output_type": "display_data"
    },
    {
     "data": {
      "application/vnd.jupyter.widget-view+json": {
       "model_id": "8e73937572dd4e9d9d78d6414a656270",
       "version_major": 2,
       "version_minor": 0
      },
      "text/plain": [
       "  0%|          | 0/5 [00:00<?, ?it/s]"
      ]
     },
     "metadata": {},
     "output_type": "display_data"
    },
    {
     "data": {
      "application/vnd.jupyter.widget-view+json": {
       "model_id": "1bc958fb51274c86ae6a225b89908322",
       "version_major": 2,
       "version_minor": 0
      },
      "text/plain": [
       "  0%|          | 0/5 [00:00<?, ?it/s]"
      ]
     },
     "metadata": {},
     "output_type": "display_data"
    }
   ],
   "source": [
    "categories_df['level1'] = categories_df.level5.progress_apply(lambda x: '-'.join(x.split('-')[:1]))\n",
    "categories_df['level2'] = categories_df.level5.progress_apply(lambda x: '-'.join(x.split('-')[:2]))\n",
    "categories_df['level3'] = categories_df.level5.progress_apply(lambda x: '-'.join(x.split('-')[:3]))\n",
    "categories_df['level4'] = categories_df.level5.progress_apply(lambda x: '-'.join(x.split('-')[:4]))"
   ]
  },
  {
   "cell_type": "code",
   "execution_count": 46,
   "id": "d32d5387-bc51-4823-8245-9b715899af33",
   "metadata": {},
   "outputs": [
    {
     "data": {
      "text/html": [
       "<div>\n",
       "<style scoped>\n",
       "    .dataframe tbody tr th:only-of-type {\n",
       "        vertical-align: middle;\n",
       "    }\n",
       "\n",
       "    .dataframe tbody tr th {\n",
       "        vertical-align: top;\n",
       "    }\n",
       "\n",
       "    .dataframe thead th {\n",
       "        text-align: right;\n",
       "    }\n",
       "</style>\n",
       "<table border=\"1\" class=\"dataframe\">\n",
       "  <thead>\n",
       "    <tr style=\"text-align: right;\">\n",
       "      <th></th>\n",
       "      <th>level5</th>\n",
       "      <th>level1</th>\n",
       "      <th>level2</th>\n",
       "      <th>level3</th>\n",
       "      <th>level4</th>\n",
       "    </tr>\n",
       "  </thead>\n",
       "  <tbody>\n",
       "    <tr>\n",
       "      <th>0</th>\n",
       "      <td>14-19-0-0-0</td>\n",
       "      <td>14</td>\n",
       "      <td>14-19</td>\n",
       "      <td>14-19-0</td>\n",
       "      <td>14-19-0-0</td>\n",
       "    </tr>\n",
       "    <tr>\n",
       "      <th>1</th>\n",
       "      <td>3-567-0-0-0</td>\n",
       "      <td>3</td>\n",
       "      <td>3-567</td>\n",
       "      <td>3-567-0</td>\n",
       "      <td>3-567-0-0</td>\n",
       "    </tr>\n",
       "    <tr>\n",
       "      <th>2</th>\n",
       "      <td>14-11-0-0-0</td>\n",
       "      <td>14</td>\n",
       "      <td>14-11</td>\n",
       "      <td>14-11-0</td>\n",
       "      <td>14-11-0-0</td>\n",
       "    </tr>\n",
       "    <tr>\n",
       "      <th>3</th>\n",
       "      <td>3-0-0-0-0</td>\n",
       "      <td>3</td>\n",
       "      <td>3-0</td>\n",
       "      <td>3-0-0</td>\n",
       "      <td>3-0-0-0</td>\n",
       "    </tr>\n",
       "    <tr>\n",
       "      <th>4</th>\n",
       "      <td>14-0-0-0-0</td>\n",
       "      <td>14</td>\n",
       "      <td>14-0</td>\n",
       "      <td>14-0-0</td>\n",
       "      <td>14-0-0-0</td>\n",
       "    </tr>\n",
       "  </tbody>\n",
       "</table>\n",
       "</div>"
      ],
      "text/plain": [
       "        level5 level1 level2   level3     level4\n",
       "0  14-19-0-0-0     14  14-19  14-19-0  14-19-0-0\n",
       "1  3-567-0-0-0      3  3-567  3-567-0  3-567-0-0\n",
       "2  14-11-0-0-0     14  14-11  14-11-0  14-11-0-0\n",
       "3    3-0-0-0-0      3    3-0    3-0-0    3-0-0-0\n",
       "4   14-0-0-0-0     14   14-0   14-0-0   14-0-0-0"
      ]
     },
     "execution_count": 46,
     "metadata": {},
     "output_type": "execute_result"
    }
   ],
   "source": [
    "categories_df"
   ]
  },
  {
   "cell_type": "code",
   "execution_count": 47,
   "id": "1c4326bd-6d17-4857-b29c-9fc868e7561d",
   "metadata": {},
   "outputs": [],
   "source": [
    "def get_labels_name(x,genres_df):\n",
    "    levels = 5\n",
    "    full_name = []\n",
    "    last_level = 0\n",
    "    genre_root = \"\"\n",
    "    for genre in x.split('-'):\n",
    "        genre_df = genres_df[genres_df['genre_id'] == int(genre)]\n",
    "        if genre_df.empty:\n",
    "            genre_name = genre_root \n",
    "        else:\n",
    "            genre_name = genre_df.title.values.tolist()[0]\n",
    "            genre_root = genre_name\n",
    "        \n",
    "        full_name.append(genre_name)\n",
    "    full_name = '>'.join(full_name)\n",
    "        \n",
    "    return full_name\n",
    "    # return genres_df[genres_df['genre_id'] == int(x)].title.values.tolist()[0]"
   ]
  },
  {
   "cell_type": "code",
   "execution_count": 48,
   "id": "5fa16276-5e41-4ee5-821b-dabd1620c76c",
   "metadata": {},
   "outputs": [],
   "source": [
    "categories_df['level5_name'] = categories_df.level5.apply(lambda x: get_labels_name(x,genres_df))"
   ]
  },
  {
   "cell_type": "code",
   "execution_count": 49,
   "id": "2d2099b6-cf3b-47ae-bca2-7d2cc8a1cb8d",
   "metadata": {},
   "outputs": [
    {
     "data": {
      "text/html": [
       "<div>\n",
       "<style scoped>\n",
       "    .dataframe tbody tr th:only-of-type {\n",
       "        vertical-align: middle;\n",
       "    }\n",
       "\n",
       "    .dataframe tbody tr th {\n",
       "        vertical-align: top;\n",
       "    }\n",
       "\n",
       "    .dataframe thead th {\n",
       "        text-align: right;\n",
       "    }\n",
       "</style>\n",
       "<table border=\"1\" class=\"dataframe\">\n",
       "  <thead>\n",
       "    <tr style=\"text-align: right;\">\n",
       "      <th></th>\n",
       "      <th>level5</th>\n",
       "      <th>level1</th>\n",
       "      <th>level2</th>\n",
       "      <th>level3</th>\n",
       "      <th>level4</th>\n",
       "      <th>level5_name</th>\n",
       "    </tr>\n",
       "  </thead>\n",
       "  <tbody>\n",
       "    <tr>\n",
       "      <th>0</th>\n",
       "      <td>14-19-0-0-0</td>\n",
       "      <td>14</td>\n",
       "      <td>14-19</td>\n",
       "      <td>14-19-0</td>\n",
       "      <td>14-19-0-0</td>\n",
       "      <td>Soul-RnB&gt;Funk&gt;Funk&gt;Funk&gt;Funk</td>\n",
       "    </tr>\n",
       "    <tr>\n",
       "      <th>1</th>\n",
       "      <td>3-567-0-0-0</td>\n",
       "      <td>3</td>\n",
       "      <td>3-567</td>\n",
       "      <td>3-567-0</td>\n",
       "      <td>3-567-0-0</td>\n",
       "      <td>Blues&gt;Gospel&gt;Gospel&gt;Gospel&gt;Gospel</td>\n",
       "    </tr>\n",
       "    <tr>\n",
       "      <th>2</th>\n",
       "      <td>14-11-0-0-0</td>\n",
       "      <td>14</td>\n",
       "      <td>14-11</td>\n",
       "      <td>14-11-0</td>\n",
       "      <td>14-11-0-0</td>\n",
       "      <td>Soul-RnB&gt;Disco&gt;Disco&gt;Disco&gt;Disco</td>\n",
       "    </tr>\n",
       "    <tr>\n",
       "      <th>3</th>\n",
       "      <td>3-0-0-0-0</td>\n",
       "      <td>3</td>\n",
       "      <td>3-0</td>\n",
       "      <td>3-0-0</td>\n",
       "      <td>3-0-0-0</td>\n",
       "      <td>Blues&gt;Blues&gt;Blues&gt;Blues&gt;Blues</td>\n",
       "    </tr>\n",
       "    <tr>\n",
       "      <th>4</th>\n",
       "      <td>14-0-0-0-0</td>\n",
       "      <td>14</td>\n",
       "      <td>14-0</td>\n",
       "      <td>14-0-0</td>\n",
       "      <td>14-0-0-0</td>\n",
       "      <td>Soul-RnB&gt;Soul-RnB&gt;Soul-RnB&gt;Soul-RnB&gt;Soul-RnB</td>\n",
       "    </tr>\n",
       "  </tbody>\n",
       "</table>\n",
       "</div>"
      ],
      "text/plain": [
       "        level5 level1 level2   level3     level4  \\\n",
       "0  14-19-0-0-0     14  14-19  14-19-0  14-19-0-0   \n",
       "1  3-567-0-0-0      3  3-567  3-567-0  3-567-0-0   \n",
       "2  14-11-0-0-0     14  14-11  14-11-0  14-11-0-0   \n",
       "3    3-0-0-0-0      3    3-0    3-0-0    3-0-0-0   \n",
       "4   14-0-0-0-0     14   14-0   14-0-0   14-0-0-0   \n",
       "\n",
       "                                    level5_name  \n",
       "0                  Soul-RnB>Funk>Funk>Funk>Funk  \n",
       "1             Blues>Gospel>Gospel>Gospel>Gospel  \n",
       "2              Soul-RnB>Disco>Disco>Disco>Disco  \n",
       "3                 Blues>Blues>Blues>Blues>Blues  \n",
       "4  Soul-RnB>Soul-RnB>Soul-RnB>Soul-RnB>Soul-RnB  "
      ]
     },
     "execution_count": 49,
     "metadata": {},
     "output_type": "execute_result"
    }
   ],
   "source": [
    "categories_df"
   ]
  },
  {
   "cell_type": "code",
   "execution_count": 51,
   "id": "c2ced721-6c30-46da-95b5-a28b84b6a2a4",
   "metadata": {},
   "outputs": [],
   "source": [
    "def __create_labels__(categories_df):\n",
    "    data = {\n",
    "        \"label1\": {},\n",
    "        \"label2\": {},\n",
    "        \"label3\": {},\n",
    "        \"label4\": {},\n",
    "        \"label5\": {},\n",
    "        \"label1_inverse\": [],\n",
    "        \"label2_inverse\": [],\n",
    "        \"label3_inverse\": [],\n",
    "        \"label4_inverse\": [],\n",
    "        \"label5_inverse\": [],\n",
    "        \"label1_name\": {},\n",
    "        \"label2_name\": {},\n",
    "        \"label3_name\": {},\n",
    "        \"label4_name\": {},\n",
    "        \"label5_name\": {},\n",
    "    }\n",
    "\n",
    "    idx = 0\n",
    "    \n",
    "    for id_x, cat in enumerate(set(categories_df.level1.values.tolist())):\n",
    "        data['label1'][cat] = idx\n",
    "        data['label1_inverse'].append(cat)\n",
    "        data['label1_count'] = idx + 1\n",
    "        idx+=1\n",
    "\n",
    "    for id_x, cat in enumerate(set(categories_df.level2.values.tolist())):\n",
    "        data['label2'][cat] = idx\n",
    "        data['label2_inverse'].append(cat)\n",
    "        data['label2_count'] = idx + 1\n",
    "        idx+=1\n",
    "        \n",
    "    for id_x, cat in enumerate(set(categories_df.level3.values.tolist())):\n",
    "        data['label3'][cat] = idx\n",
    "        data['label3_inverse'].append(cat)\n",
    "        data['label3_count'] = idx + 1\n",
    "        idx+=1\n",
    "\n",
    "    for id_x, cat in enumerate(set(categories_df.level4.values.tolist())):\n",
    "        data['label4'][cat] = idx\n",
    "        data['label4_inverse'].append(cat)\n",
    "        data['label4_count'] = idx + 1\n",
    "        idx+=1\n",
    "        \n",
    "    for idx, cat in enumerate(set(categories_df.level5.values.tolist())):\n",
    "        data['label5'][cat] = idx\n",
    "        data['label5_inverse'].append(cat)\n",
    "        data['label5_count'] = idx + 1\n",
    "        idx+=1\n",
    "        \n",
    "    for cat5,cat1,cat2,cat3,cat4,name5 in categories_df.values:\n",
    "        \n",
    "        name1 = '>'.join(name5.split('>')[:1])\n",
    "        name2 = '>'.join(name5.split('>')[:2])\n",
    "        name3 = '>'.join(name5.split('>')[:3])\n",
    "        name4 = '>'.join(name5.split('>')[:4])\n",
    "        \n",
    "        \n",
    "        data['label1_name'][cat1] = name1\n",
    "        data['label2_name'][cat2] = name2\n",
    "        data['label3_name'][cat3] = name3\n",
    "        data['label4_name'][cat4] = name4\n",
    "        data['label5_name'][cat5] = name5\n",
    "        \n",
    "    return data"
   ]
  },
  {
   "cell_type": "code",
   "execution_count": 58,
   "id": "e7ccc947-b7ae-464d-a325-d61aa3cf5710",
   "metadata": {},
   "outputs": [],
   "source": [
    "with open(categories_labels_path, 'w+') as f:\n",
    "    f.write(json.dumps(__create_labels__(categories_df)))"
   ]
  },
  {
   "cell_type": "code",
   "execution_count": 52,
   "id": "3778cc5d-7def-4a1d-9f5b-b141bd08356c",
   "metadata": {},
   "outputs": [],
   "source": [
    "labels  = __create_labels__(categories_df)"
   ]
  },
  {
   "cell_type": "code",
   "execution_count": 57,
   "id": "a6b67e97-0813-492e-8323-f8588ca8d120",
   "metadata": {
    "tags": []
   },
   "outputs": [
    {
     "data": {
      "text/plain": [
       "{'3-0-0-0': 12,\n",
       " '14-0-0-0': 13,\n",
       " '3-567-0-0': 14,\n",
       " '14-19-0-0': 15,\n",
       " '14-11-0-0': 16}"
      ]
     },
     "execution_count": 57,
     "metadata": {},
     "output_type": "execute_result"
    }
   ],
   "source": [
    "labels['label4']"
   ]
  },
  {
   "cell_type": "code",
   "execution_count": null,
   "id": "cd97175f-4b2b-49e0-bb74-84d12a2999a7",
   "metadata": {},
   "outputs": [],
   "source": []
  }
 ],
 "metadata": {
  "kernelspec": {
   "display_name": "Python 3 (ipykernel)",
   "language": "python",
   "name": "python3"
  },
  "language_info": {
   "codemirror_mode": {
    "name": "ipython",
    "version": 3
   },
   "file_extension": ".py",
   "mimetype": "text/x-python",
   "name": "python",
   "nbconvert_exporter": "python",
   "pygments_lexer": "ipython3",
   "version": "3.10.9"
  }
 },
 "nbformat": 4,
 "nbformat_minor": 5
}
