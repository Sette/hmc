{
 "cells": [
  {
   "cell_type": "markdown",
   "id": "9249182c-b61e-482e-a10c-0aacb96e6e4e",
   "metadata": {},
   "source": [
    "## Análise do genres.csv"
   ]
  },
  {
   "cell_type": "code",
   "execution_count": 1,
   "id": "0039d522-edbf-426b-9185-5aa8d71d0d4a",
   "metadata": {
    "tags": []
   },
   "outputs": [
    {
     "name": "stderr",
     "output_type": "stream",
     "text": [
      "2023-03-17 17:27:20.390752: I tensorflow/stream_executor/platform/default/dso_loader.cc:53] Successfully opened dynamic library libcudart.so.11.0\n",
      "[   INFO   ] MusicExtractorSVM: no classifier models were configured by default\n",
      "2023-03-17 17:27:20.803192: I tensorflow/core/platform/cpu_feature_guard.cc:142] This TensorFlow binary is optimized with oneAPI Deep Neural Network Library (oneDNN) to use the following CPU instructions in performance-critical operations:  SSE3 SSE4.1 SSE4.2 AVX AVX2 AVX512F FMA\n",
      "To enable them in other operations, rebuild TensorFlow with the appropriate compiler flags.\n",
      "2023-03-17 17:27:20.805070: I tensorflow/stream_executor/platform/default/dso_loader.cc:53] Successfully opened dynamic library libcuda.so.1\n",
      "2023-03-17 17:27:20.838458: I tensorflow/core/common_runtime/gpu/gpu_device.cc:1733] Found device 0 with properties: \n",
      "pciBusID: 0000:65:00.0 name: NVIDIA GeForce RTX 2080 Ti computeCapability: 7.5\n",
      "coreClock: 1.65GHz coreCount: 68 deviceMemorySize: 10.76GiB deviceMemoryBandwidth: 573.69GiB/s\n",
      "2023-03-17 17:27:20.838486: I tensorflow/stream_executor/platform/default/dso_loader.cc:53] Successfully opened dynamic library libcudart.so.11.0\n",
      "2023-03-17 17:27:20.843288: I tensorflow/stream_executor/platform/default/dso_loader.cc:53] Successfully opened dynamic library libcublas.so.11\n",
      "2023-03-17 17:27:20.843350: I tensorflow/stream_executor/platform/default/dso_loader.cc:53] Successfully opened dynamic library libcublasLt.so.11\n",
      "2023-03-17 17:27:20.867721: I tensorflow/stream_executor/platform/default/dso_loader.cc:53] Successfully opened dynamic library libcufft.so.10\n",
      "2023-03-17 17:27:20.868012: I tensorflow/stream_executor/platform/default/dso_loader.cc:53] Successfully opened dynamic library libcurand.so.10\n",
      "2023-03-17 17:27:20.868384: I tensorflow/stream_executor/platform/default/dso_loader.cc:53] Successfully opened dynamic library libcusolver.so.11\n",
      "2023-03-17 17:27:20.868967: I tensorflow/stream_executor/platform/default/dso_loader.cc:53] Successfully opened dynamic library libcusparse.so.11\n",
      "2023-03-17 17:27:20.869109: I tensorflow/stream_executor/platform/default/dso_loader.cc:53] Successfully opened dynamic library libcudnn.so.8\n",
      "2023-03-17 17:27:20.869505: I tensorflow/core/common_runtime/gpu/gpu_device.cc:1871] Adding visible gpu devices: 0\n",
      "2023-03-17 17:27:21.405525: I tensorflow/core/common_runtime/gpu/gpu_device.cc:1258] Device interconnect StreamExecutor with strength 1 edge matrix:\n",
      "2023-03-17 17:27:21.405550: I tensorflow/core/common_runtime/gpu/gpu_device.cc:1264]      0 \n",
      "2023-03-17 17:27:21.405555: I tensorflow/core/common_runtime/gpu/gpu_device.cc:1277] 0:   N \n",
      "2023-03-17 17:27:21.406089: I tensorflow/core/common_runtime/gpu/gpu_device.cc:1418] Created TensorFlow device (/job:localhost/replica:0/task:0/device:GPU:0 with 9214 MB memory) -> physical GPU (device: 0, name: NVIDIA GeForce RTX 2080 Ti, pci bus id: 0000:65:00.0, compute capability: 7.5)\n",
      "2023-03-17 17:27:21.411098: I tensorflow/core/common_runtime/gpu/gpu_device.cc:1733] Found device 0 with properties: \n",
      "pciBusID: 0000:65:00.0 name: NVIDIA GeForce RTX 2080 Ti computeCapability: 7.5\n",
      "coreClock: 1.65GHz coreCount: 68 deviceMemorySize: 10.76GiB deviceMemoryBandwidth: 573.69GiB/s\n",
      "2023-03-17 17:27:21.411347: I tensorflow/core/common_runtime/gpu/gpu_device.cc:1871] Adding visible gpu devices: 0\n",
      "2023-03-17 17:27:21.411364: I tensorflow/core/common_runtime/gpu/gpu_device.cc:1258] Device interconnect StreamExecutor with strength 1 edge matrix:\n",
      "2023-03-17 17:27:21.411368: I tensorflow/core/common_runtime/gpu/gpu_device.cc:1264]      0 \n",
      "2023-03-17 17:27:21.411372: I tensorflow/core/common_runtime/gpu/gpu_device.cc:1277] 0:   N \n",
      "2023-03-17 17:27:21.411626: I tensorflow/core/common_runtime/gpu/gpu_device.cc:1418] Created TensorFlow device (/job:localhost/replica:0/task:0/device:GPU:0 with 9214 MB memory) -> physical GPU (device: 0, name: NVIDIA GeForce RTX 2080 Ti, pci bus id: 0000:65:00.0, compute capability: 7.5)\n",
      "2023-03-17 17:27:21.415425: I tensorflow/core/common_runtime/gpu/gpu_device.cc:1733] Found device 0 with properties: \n",
      "pciBusID: 0000:65:00.0 name: NVIDIA GeForce RTX 2080 Ti computeCapability: 7.5\n",
      "coreClock: 1.65GHz coreCount: 68 deviceMemorySize: 10.76GiB deviceMemoryBandwidth: 573.69GiB/s\n",
      "2023-03-17 17:27:21.415684: I tensorflow/core/common_runtime/gpu/gpu_device.cc:1871] Adding visible gpu devices: 0\n",
      "2023-03-17 17:27:21.415698: I tensorflow/core/common_runtime/gpu/gpu_device.cc:1258] Device interconnect StreamExecutor with strength 1 edge matrix:\n",
      "2023-03-17 17:27:21.415702: I tensorflow/core/common_runtime/gpu/gpu_device.cc:1264]      0 \n",
      "2023-03-17 17:27:21.415705: I tensorflow/core/common_runtime/gpu/gpu_device.cc:1277] 0:   N \n",
      "2023-03-17 17:27:21.415957: I tensorflow/core/common_runtime/gpu/gpu_device.cc:1418] Created TensorFlow device (/job:localhost/replica:0/task:0/device:GPU:0 with 9214 MB memory) -> physical GPU (device: 0, name: NVIDIA GeForce RTX 2080 Ti, pci bus id: 0000:65:00.0, compute capability: 7.5)\n",
      "2023-03-17 17:27:21.721359: I tensorflow/core/common_runtime/gpu/gpu_device.cc:1733] Found device 0 with properties: \n",
      "pciBusID: 0000:65:00.0 name: NVIDIA GeForce RTX 2080 Ti computeCapability: 7.5\n",
      "coreClock: 1.65GHz coreCount: 68 deviceMemorySize: 10.76GiB deviceMemoryBandwidth: 573.69GiB/s\n",
      "2023-03-17 17:27:21.721619: I tensorflow/core/common_runtime/gpu/gpu_device.cc:1871] Adding visible gpu devices: 0\n",
      "2023-03-17 17:27:21.721638: I tensorflow/core/common_runtime/gpu/gpu_device.cc:1258] Device interconnect StreamExecutor with strength 1 edge matrix:\n",
      "2023-03-17 17:27:21.721643: I tensorflow/core/common_runtime/gpu/gpu_device.cc:1264]      0 \n",
      "2023-03-17 17:27:21.721646: I tensorflow/core/common_runtime/gpu/gpu_device.cc:1277] 0:   N \n",
      "2023-03-17 17:27:21.721908: I tensorflow/core/common_runtime/gpu/gpu_device.cc:1418] Created TensorFlow device (/job:localhost/replica:0/task:0/device:GPU:0 with 9214 MB memory) -> physical GPU (device: 0, name: NVIDIA GeForce RTX 2080 Ti, pci bus id: 0000:65:00.0, compute capability: 7.5)\n",
      "2023-03-17 17:27:21.728935: I tensorflow/core/common_runtime/gpu/gpu_device.cc:1733] Found device 0 with properties: \n",
      "pciBusID: 0000:65:00.0 name: NVIDIA GeForce RTX 2080 Ti computeCapability: 7.5\n",
      "coreClock: 1.65GHz coreCount: 68 deviceMemorySize: 10.76GiB deviceMemoryBandwidth: 573.69GiB/s\n",
      "2023-03-17 17:27:21.729205: I tensorflow/core/common_runtime/gpu/gpu_device.cc:1871] Adding visible gpu devices: 0\n",
      "2023-03-17 17:27:21.729225: I tensorflow/core/common_runtime/gpu/gpu_device.cc:1258] Device interconnect StreamExecutor with strength 1 edge matrix:\n",
      "2023-03-17 17:27:21.729229: I tensorflow/core/common_runtime/gpu/gpu_device.cc:1264]      0 \n",
      "2023-03-17 17:27:21.729233: I tensorflow/core/common_runtime/gpu/gpu_device.cc:1277] 0:   N \n",
      "2023-03-17 17:27:21.729494: I tensorflow/core/common_runtime/gpu/gpu_device.cc:1418] Created TensorFlow device (/job:localhost/replica:0/task:0/device:GPU:0 with 9214 MB memory) -> physical GPU (device: 0, name: NVIDIA GeForce RTX 2080 Ti, pci bus id: 0000:65:00.0, compute capability: 7.5)\n",
      "2023-03-17 17:27:21.732200: I tensorflow/core/common_runtime/gpu/gpu_device.cc:1733] Found device 0 with properties: \n",
      "pciBusID: 0000:65:00.0 name: NVIDIA GeForce RTX 2080 Ti computeCapability: 7.5\n",
      "coreClock: 1.65GHz coreCount: 68 deviceMemorySize: 10.76GiB deviceMemoryBandwidth: 573.69GiB/s\n",
      "2023-03-17 17:27:21.732430: I tensorflow/core/common_runtime/gpu/gpu_device.cc:1871] Adding visible gpu devices: 0\n",
      "2023-03-17 17:27:21.732447: I tensorflow/core/common_runtime/gpu/gpu_device.cc:1258] Device interconnect StreamExecutor with strength 1 edge matrix:\n",
      "2023-03-17 17:27:21.732451: I tensorflow/core/common_runtime/gpu/gpu_device.cc:1264]      0 \n",
      "2023-03-17 17:27:21.732454: I tensorflow/core/common_runtime/gpu/gpu_device.cc:1277] 0:   N \n",
      "2023-03-17 17:27:21.732686: I tensorflow/core/common_runtime/gpu/gpu_device.cc:1418] Created TensorFlow device (/job:localhost/replica:0/task:0/device:GPU:0 with 9214 MB memory) -> physical GPU (device: 0, name: NVIDIA GeForce RTX 2080 Ti, pci bus id: 0000:65:00.0, compute capability: 7.5)\n",
      "2023-03-17 17:27:21.736959: I tensorflow/core/common_runtime/gpu/gpu_device.cc:1733] Found device 0 with properties: \n",
      "pciBusID: 0000:65:00.0 name: NVIDIA GeForce RTX 2080 Ti computeCapability: 7.5\n",
      "coreClock: 1.65GHz coreCount: 68 deviceMemorySize: 10.76GiB deviceMemoryBandwidth: 573.69GiB/s\n",
      "2023-03-17 17:27:21.737217: I tensorflow/core/common_runtime/gpu/gpu_device.cc:1871] Adding visible gpu devices: 0\n",
      "2023-03-17 17:27:21.737235: I tensorflow/core/common_runtime/gpu/gpu_device.cc:1258] Device interconnect StreamExecutor with strength 1 edge matrix:\n",
      "2023-03-17 17:27:21.737239: I tensorflow/core/common_runtime/gpu/gpu_device.cc:1264]      0 \n",
      "2023-03-17 17:27:21.737244: I tensorflow/core/common_runtime/gpu/gpu_device.cc:1277] 0:   N \n",
      "2023-03-17 17:27:21.737495: I tensorflow/core/common_runtime/gpu/gpu_device.cc:1418] Created TensorFlow device (/job:localhost/replica:0/task:0/device:GPU:0 with 9214 MB memory) -> physical GPU (device: 0, name: NVIDIA GeForce RTX 2080 Ti, pci bus id: 0000:65:00.0, compute capability: 7.5)\n",
      "2023-03-17 17:27:21.737859: I tensorflow/core/common_runtime/gpu/gpu_device.cc:1733] Found device 0 with properties: \n",
      "pciBusID: 0000:65:00.0 name: NVIDIA GeForce RTX 2080 Ti computeCapability: 7.5\n",
      "coreClock: 1.65GHz coreCount: 68 deviceMemorySize: 10.76GiB deviceMemoryBandwidth: 573.69GiB/s\n",
      "2023-03-17 17:27:21.738090: I tensorflow/core/common_runtime/gpu/gpu_device.cc:1871] Adding visible gpu devices: 0\n",
      "2023-03-17 17:27:21.738102: I tensorflow/core/common_runtime/gpu/gpu_device.cc:1258] Device interconnect StreamExecutor with strength 1 edge matrix:\n",
      "2023-03-17 17:27:21.738106: I tensorflow/core/common_runtime/gpu/gpu_device.cc:1264]      0 \n",
      "2023-03-17 17:27:21.738110: I tensorflow/core/common_runtime/gpu/gpu_device.cc:1277] 0:   N \n",
      "2023-03-17 17:27:21.738355: I tensorflow/core/common_runtime/gpu/gpu_device.cc:1418] Created TensorFlow device (/job:localhost/replica:0/task:0/device:GPU:0 with 9214 MB memory) -> physical GPU (device: 0, name: NVIDIA GeForce RTX 2080 Ti, pci bus id: 0000:65:00.0, compute capability: 7.5)\n",
      "2023-03-17 17:27:21.739603: I tensorflow/core/common_runtime/gpu/gpu_device.cc:1733] Found device 0 with properties: \n",
      "pciBusID: 0000:65:00.0 name: NVIDIA GeForce RTX 2080 Ti computeCapability: 7.5\n",
      "coreClock: 1.65GHz coreCount: 68 deviceMemorySize: 10.76GiB deviceMemoryBandwidth: 573.69GiB/s\n",
      "2023-03-17 17:27:21.739833: I tensorflow/core/common_runtime/gpu/gpu_device.cc:1871] Adding visible gpu devices: 0\n",
      "2023-03-17 17:27:21.739845: I tensorflow/core/common_runtime/gpu/gpu_device.cc:1258] Device interconnect StreamExecutor with strength 1 edge matrix:\n",
      "2023-03-17 17:27:21.739849: I tensorflow/core/common_runtime/gpu/gpu_device.cc:1264]      0 \n",
      "2023-03-17 17:27:21.739852: I tensorflow/core/common_runtime/gpu/gpu_device.cc:1277] 0:   N \n",
      "2023-03-17 17:27:21.740099: I tensorflow/core/common_runtime/gpu/gpu_device.cc:1418] Created TensorFlow device (/job:localhost/replica:0/task:0/device:GPU:0 with 9214 MB memory) -> physical GPU (device: 0, name: NVIDIA GeForce RTX 2080 Ti, pci bus id: 0000:65:00.0, compute capability: 7.5)\n",
      "2023-03-17 17:27:21.741699: I tensorflow/core/common_runtime/gpu/gpu_device.cc:1733] Found device 0 with properties: \n",
      "pciBusID: 0000:65:00.0 name: NVIDIA GeForce RTX 2080 Ti computeCapability: 7.5\n",
      "coreClock: 1.65GHz coreCount: 68 deviceMemorySize: 10.76GiB deviceMemoryBandwidth: 573.69GiB/s\n",
      "2023-03-17 17:27:21.741937: I tensorflow/core/common_runtime/gpu/gpu_device.cc:1871] Adding visible gpu devices: "
     ]
    }
   ],
   "source": [
    "import pandas as pd\n",
    "import os\n",
    "import json\n",
    "from essentia.standard import MonoLoader"
   ]
  },
  {
   "cell_type": "code",
   "execution_count": null,
   "id": "80941e86-128d-45f0-8675-3c79644f5d72",
   "metadata": {},
   "outputs": [],
   "source": []
  },
  {
   "cell_type": "code",
   "execution_count": null,
   "id": "4e6f605a-6a55-49de-880e-f49def133806",
   "metadata": {},
   "outputs": [],
   "source": [
    "base_path = \"/mnt/disks/data/fma\""
   ]
  },
  {
   "cell_type": "code",
   "execution_count": null,
   "id": "1d837e45-f763-4869-b6a6-4f5ef1036509",
   "metadata": {},
   "outputs": [],
   "source": [
    "metadata_path = os.path.join(base_path,\"fma_metadata\")"
   ]
  },
  {
   "cell_type": "code",
   "execution_count": null,
   "id": "7e5bfb29-7ac8-4153-9456-6b8dbd05aa0d",
   "metadata": {},
   "outputs": [],
   "source": [
    "dataset_path =  os.path.join(base_path,\"fma_large\")"
   ]
  },
  {
   "cell_type": "markdown",
   "id": "83fb10ea-5bca-465e-a294-99195b3a05a7",
   "metadata": {},
   "source": [
    "## Análise do raw_genres.csv"
   ]
  },
  {
   "cell_type": "code",
   "execution_count": null,
   "id": "65843915-d5ce-47eb-a36b-2792eb61b47f",
   "metadata": {},
   "outputs": [],
   "source": [
    "raw_genres = os.path.join(metadata_path,\"raw_genres.csv\")"
   ]
  },
  {
   "cell_type": "code",
   "execution_count": null,
   "id": "1b3a2b4c-1a94-4839-99cd-ec4ef3b5b1d7",
   "metadata": {},
   "outputs": [],
   "source": [
    "df_raw_genres = pd.read_csv(raw_genres)"
   ]
  },
  {
   "cell_type": "code",
   "execution_count": null,
   "id": "cc42c4b6-2b73-4922-a173-d682592447f7",
   "metadata": {},
   "outputs": [],
   "source": [
    "df_raw_genres"
   ]
  },
  {
   "cell_type": "code",
   "execution_count": null,
   "id": "ec7383f4-71bb-4c71-af2b-95a7b9500cef",
   "metadata": {},
   "outputs": [],
   "source": [
    "df_raw_genres.genre_id.unique()"
   ]
  },
  {
   "cell_type": "code",
   "execution_count": null,
   "id": "4464fd83-3303-4243-bdd9-6ffcb34177c4",
   "metadata": {},
   "outputs": [],
   "source": [
    "df_raw_genres.genre_id.unique()"
   ]
  },
  {
   "cell_type": "markdown",
   "id": "77b7ebd8-909a-4508-805b-5cca9f5fdfab",
   "metadata": {},
   "source": [
    "## Análise do genres.csv"
   ]
  },
  {
   "cell_type": "code",
   "execution_count": 2,
   "id": "a748adfc-6023-4e68-9e22-661f415ded1a",
   "metadata": {},
   "outputs": [
    {
     "ename": "NameError",
     "evalue": "name 'metadata_path' is not defined",
     "output_type": "error",
     "traceback": [
      "\u001b[0;31m---------------------------------------------------------------------------\u001b[0m",
      "\u001b[0;31mNameError\u001b[0m                                 Traceback (most recent call last)",
      "Cell \u001b[0;32mIn[2], line 1\u001b[0m\n\u001b[0;32m----> 1\u001b[0m genres \u001b[38;5;241m=\u001b[39m os\u001b[38;5;241m.\u001b[39mpath\u001b[38;5;241m.\u001b[39mjoin(\u001b[43mmetadata_path\u001b[49m,\u001b[38;5;124m\"\u001b[39m\u001b[38;5;124mgenres.csv\u001b[39m\u001b[38;5;124m\"\u001b[39m)\n",
      "\u001b[0;31mNameError\u001b[0m: name 'metadata_path' is not defined"
     ]
    }
   ],
   "source": [
    "genres = os.path.join(metadata_path,\"genres.csv\")"
   ]
  },
  {
   "cell_type": "code",
   "execution_count": null,
   "id": "e7bc8442-f5f9-4eba-8efb-dd7cdbe25958",
   "metadata": {},
   "outputs": [],
   "source": [
    "df_genres = pd.read_csv(genres)"
   ]
  },
  {
   "cell_type": "code",
   "execution_count": null,
   "id": "9d2350a6-4abe-4f57-8168-c067ddbe2bdb",
   "metadata": {},
   "outputs": [],
   "source": [
    "df_genres"
   ]
  },
  {
   "cell_type": "markdown",
   "id": "6a8f134d-0ffe-47c4-83aa-2bcdf049b054",
   "metadata": {},
   "source": [
    "## Análise do raw_tracks.csv"
   ]
  },
  {
   "cell_type": "code",
   "execution_count": 3,
   "id": "fd3fd123-a7d4-4e9c-a5a1-7c25e57ef3a5",
   "metadata": {},
   "outputs": [
    {
     "ename": "NameError",
     "evalue": "name 'metadata_path' is not defined",
     "output_type": "error",
     "traceback": [
      "\u001b[0;31m---------------------------------------------------------------------------\u001b[0m",
      "\u001b[0;31mNameError\u001b[0m                                 Traceback (most recent call last)",
      "Cell \u001b[0;32mIn[3], line 1\u001b[0m\n\u001b[0;32m----> 1\u001b[0m raw_tracks \u001b[38;5;241m=\u001b[39m os\u001b[38;5;241m.\u001b[39mpath\u001b[38;5;241m.\u001b[39mjoin(\u001b[43mmetadata_path\u001b[49m,\u001b[38;5;124m\"\u001b[39m\u001b[38;5;124mraw_tracks.csv\u001b[39m\u001b[38;5;124m\"\u001b[39m)\n",
      "\u001b[0;31mNameError\u001b[0m: name 'metadata_path' is not defined"
     ]
    }
   ],
   "source": [
    "raw_tracks = os.path.join(metadata_path,\"raw_tracks.csv\")"
   ]
  },
  {
   "cell_type": "code",
   "execution_count": 4,
   "id": "afa2dab7-9949-47f7-ba0b-ff1996e6efe3",
   "metadata": {},
   "outputs": [
    {
     "ename": "NameError",
     "evalue": "name 'raw_tracks' is not defined",
     "output_type": "error",
     "traceback": [
      "\u001b[0;31m---------------------------------------------------------------------------\u001b[0m",
      "\u001b[0;31mNameError\u001b[0m                                 Traceback (most recent call last)",
      "Cell \u001b[0;32mIn[4], line 1\u001b[0m\n\u001b[0;32m----> 1\u001b[0m df_raw_tracks \u001b[38;5;241m=\u001b[39m pd\u001b[38;5;241m.\u001b[39mread_csv(\u001b[43mraw_tracks\u001b[49m)\n",
      "\u001b[0;31mNameError\u001b[0m: name 'raw_tracks' is not defined"
     ]
    }
   ],
   "source": [
    "df_raw_tracks = pd.read_csv(raw_tracks)"
   ]
  },
  {
   "cell_type": "code",
   "execution_count": null,
   "id": "e0efd2c5-2f03-4b5d-bd77-91b828b80201",
   "metadata": {},
   "outputs": [],
   "source": [
    "df_raw_tracks"
   ]
  },
  {
   "cell_type": "markdown",
   "id": "4db0c21f-242d-4039-b04c-121593384fce",
   "metadata": {},
   "source": [
    "## Análise do tracks.csv"
   ]
  },
  {
   "cell_type": "code",
   "execution_count": 5,
   "id": "2a2799b4-eca6-4233-8782-a17e4cb7856e",
   "metadata": {},
   "outputs": [
    {
     "ename": "NameError",
     "evalue": "name 'metadata_path' is not defined",
     "output_type": "error",
     "traceback": [
      "\u001b[0;31m---------------------------------------------------------------------------\u001b[0m",
      "\u001b[0;31mNameError\u001b[0m                                 Traceback (most recent call last)",
      "Cell \u001b[0;32mIn[5], line 1\u001b[0m\n\u001b[0;32m----> 1\u001b[0m tracks \u001b[38;5;241m=\u001b[39m os\u001b[38;5;241m.\u001b[39mpath\u001b[38;5;241m.\u001b[39mjoin(\u001b[43mmetadata_path\u001b[49m,\u001b[38;5;124m\"\u001b[39m\u001b[38;5;124mtracks.csv\u001b[39m\u001b[38;5;124m\"\u001b[39m)\n",
      "\u001b[0;31mNameError\u001b[0m: name 'metadata_path' is not defined"
     ]
    }
   ],
   "source": [
    "tracks = os.path.join(metadata_path,\"tracks.csv\")"
   ]
  },
  {
   "cell_type": "code",
   "execution_count": 6,
   "id": "5e828426-7527-4d3b-abcf-d70ce19dc62e",
   "metadata": {},
   "outputs": [
    {
     "ename": "NameError",
     "evalue": "name 'tracks' is not defined",
     "output_type": "error",
     "traceback": [
      "\u001b[0;31m---------------------------------------------------------------------------\u001b[0m",
      "\u001b[0;31mNameError\u001b[0m                                 Traceback (most recent call last)",
      "Cell \u001b[0;32mIn[6], line 1\u001b[0m\n\u001b[0;32m----> 1\u001b[0m df_tracks \u001b[38;5;241m=\u001b[39m pd\u001b[38;5;241m.\u001b[39mread_csv(\u001b[43mtracks\u001b[49m,header\u001b[38;5;241m=\u001b[39m[\u001b[38;5;241m1\u001b[39m])\n",
      "\u001b[0;31mNameError\u001b[0m: name 'tracks' is not defined"
     ]
    }
   ],
   "source": [
    "df_tracks = pd.read_csv(tracks,header=[1])"
   ]
  },
  {
   "cell_type": "code",
   "execution_count": null,
   "id": "95d2cfe1-0215-4cdb-a678-ace7b0631128",
   "metadata": {},
   "outputs": [],
   "source": [
    "df_tracks.rename(columns={\"Unnamed: 0\":\"track_id\"},inplace=True)\n",
    "df_tracks.drop(index=[0],inplace=True)"
   ]
  },
  {
   "cell_type": "code",
   "execution_count": null,
   "id": "898b0e14-43bb-427f-ac3b-863498062487",
   "metadata": {},
   "outputs": [],
   "source": [
    "df_tracks.reset_index(inplace=True)\n",
    "df_tracks.drop(columns=['index'],inplace=True)"
   ]
  },
  {
   "cell_type": "code",
   "execution_count": 20,
   "id": "7a21fdb3-2bb6-4755-acff-cd55c4bb5408",
   "metadata": {},
   "outputs": [],
   "source": [
    "def get_structure(df,values):\n",
    "    if values[2] == 0:\n",
    "        return f'{values[0]}'\n",
    "    else:\n",
    "        return f'{values[0]}-{retorna_estrutura(df,df[df[\"genre_id\"]==values[2]].values[0])}'"
   ]
  },
  {
   "cell_type": "code",
   "execution_count": 21,
   "id": "f0481c72-0564-4d18-8900-6dc2ebfff66a",
   "metadata": {},
   "outputs": [],
   "source": [
    "import re"
   ]
  },
  {
   "cell_type": "code",
   "execution_count": 22,
   "id": "85bcb335-ed73-4a0a-8b17-8598ada24e24",
   "metadata": {},
   "outputs": [],
   "source": [
    "df_tracks.genres.dropna(inplace=True)"
   ]
  },
  {
   "cell_type": "code",
   "execution_count": 23,
   "id": "b059d714-a5f9-4a73-9c12-3f2c2c561e30",
   "metadata": {},
   "outputs": [],
   "source": [
    "def convert_to_int(lista):\n",
    "    lista.reverse()\n",
    "    value = sum([(10**i)*number for i,number in enumerate(lista)])\n",
    "    return value"
   ]
  },
  {
   "cell_type": "code",
   "execution_count": 24,
   "id": "411bb783-cd4f-4ec4-adc1-57ff04dbed5d",
   "metadata": {},
   "outputs": [],
   "source": [
    "def extract_id_from_string(sentence):\n",
    "    s = []\n",
    "    for t in re.sub(\"[[]]\",\"\", sentence.split()[0]):\n",
    "        try:\n",
    "            s.append(int(t))\n",
    "        except ValueError:\n",
    "            pass\n",
    "    return convert_to_int(s)"
   ]
  },
  {
   "cell_type": "code",
   "execution_count": 25,
   "id": "f6566875-6896-4a83-b06e-0013ffeb0317",
   "metadata": {},
   "outputs": [
    {
     "name": "stderr",
     "output_type": "stream",
     "text": [
      "/tmp/ipykernel_2437642/453805256.py:3: FutureWarning: Possible nested set at position 1\n",
      "  for t in re.sub(\"[[]]\",\"\", sentence.split()[0]):\n"
     ]
    }
   ],
   "source": [
    "df_tracks[\"first_genre_id\"] = df_tracks.genres.apply(lambda x : extract_id_from_string(x))"
   ]
  },
  {
   "cell_type": "code",
   "execution_count": 26,
   "id": "000c3ac6-341a-4101-92c5-5898d2af9306",
   "metadata": {},
   "outputs": [
    {
     "data": {
      "text/plain": [
       "array([  21,   10,   76,   45,    1,   17,    4,   25,   26,   30,   27,\n",
       "         15,   12,   31,   32,   89,   36,    3,   37,    0,   41,   43,\n",
       "         79,   46,   11,   38,    2,   47,   33,   49,  250,  138,   53,\n",
       "         58,   22,  103,   64,   66,   42,   70,   71,    5,   98,   74,\n",
       "         85,  166,  188,   63,    9,  118,  111,  109,   97,  117,   92,\n",
       "         77,   13,  137,  102,    8,  185,  101,  224,   94,   20,  125,\n",
       "        180,  113,    7,  100,  906,   14,  538,    6,  107,   18,  286,\n",
       "        236,   90,   88,  297,   65,  337,   86,  763,  314,  167,  172,\n",
       "        179,  214,   19,  184,  181,  359,  361,  362,  183,  374,   81,\n",
       "        322,  240,  186,  187,  440,  247,  171,  311,  296,  468,  182,\n",
       "        495,  130, 1060,  443,   16,  542,  491,  456,  514,  169,  404,\n",
       "        177, 1193,  741,  524,  360,  808,  659,  400,  189,  811,  539,\n",
       "        439, 1235,  810,  442,  651,  267,   83,  504,  695,  378,  428,\n",
       "        602,  444, 1032,  502,  173,  170])"
      ]
     },
     "execution_count": 26,
     "metadata": {},
     "output_type": "execute_result"
    }
   ],
   "source": [
    "df_tracks.first_genre_id.unique()"
   ]
  },
  {
   "cell_type": "markdown",
   "id": "d13b327c-fb81-48fc-9fc4-af60dcb6ed68",
   "metadata": {},
   "source": [
    "## Join com tabela de generos"
   ]
  },
  {
   "cell_type": "markdown",
   "id": "e15b7d57-f1eb-4087-b3e0-8731897a8b39",
   "metadata": {
    "tags": []
   },
   "source": [
    "### Geração da hierarquia a partir das tracks\n"
   ]
  },
  {
   "cell_type": "code",
   "execution_count": 27,
   "id": "4ebe06c6-326f-4bdd-aff1-1695997ea671",
   "metadata": {},
   "outputs": [],
   "source": [
    "\n",
    "## Get complete genre structure\n",
    "def get_all_structure(estrutura):\n",
    "    ## Get structure from df_genres\n",
    "    genres = os.path.join(metadata_path,\"genres.csv\")\n",
    "    df_genres = pd.read_csv(genres)\n",
    "    \n",
    "    \n",
    "    def get_all_structure_from_df(df_genres,estrutura):\n",
    "\n",
    "        if estrutura == 0:\n",
    "            return f'{estrutura}'\n",
    "        else:\n",
    "            return f'{estrutura}-{get_all_structure_from_df(df_genres,df_genres[df_genres[\"genre_id\"]==estrutura].parent.values[0])}'\n",
    "        \n",
    "    \n",
    "    return get_all_structure_from_df(df_genres,estrutura)\n",
    "    "
   ]
  },
  {
   "cell_type": "code",
   "execution_count": 28,
   "id": "13414725-c3d8-42e8-bf98-c5e38fab6c9d",
   "metadata": {},
   "outputs": [
    {
     "name": "stdout",
     "output_type": "stream",
     "text": [
      "89-25-12-0\n"
     ]
    }
   ],
   "source": [
    "print(get_all_structure(df_tracks.iloc[158].first_genre_id))"
   ]
  },
  {
   "cell_type": "code",
   "execution_count": 29,
   "id": "1fa5af9e-3af1-481c-8138-de55d5b32909",
   "metadata": {},
   "outputs": [
    {
     "data": {
      "text/plain": [
       "track_id                                                           346\n",
       "comments                                                           0.0\n",
       "date_created                                       2008-11-26 01:58:50\n",
       "date_released                                      2009-01-01 00:00:00\n",
       "engineer                                                           NaN\n",
       "favorites                                                          1.0\n",
       "id                                                               112.0\n",
       "information          <p>What's this? One lion, two moles, two zoo k...\n",
       "listens                                                        11086.0\n",
       "producer                                                           NaN\n",
       "tags                                                                []\n",
       "title                                  30th Anniversary Blah Blah Blah\n",
       "tracks                                                            21.0\n",
       "type                                                             Album\n",
       "active_year_begin                                                  NaN\n",
       "active_year_end                                                    NaN\n",
       "associated_labels                                                  NaN\n",
       "bio                  <p><a title=\"Blah Latest\" href=\"https://www.fa...\n",
       "comments.1                                                         8.0\n",
       "date_created.1                                     2008-11-26 01:55:23\n",
       "favorites.1                                                       20.0\n",
       "id.1                                                              84.0\n",
       "latitude                                                           NaN\n",
       "location                                                 Colchester UK\n",
       "longitude                                                          NaN\n",
       "members              Martin Croxford, Peter Wiggins, Vicky Jones, I...\n",
       "name                                                    Blah Blah Blah\n",
       "related_projects                                                   NaN\n",
       "tags.1                             ['blah blah blah', 'chris andrews']\n",
       "website              http://sirhcswerdna.wix.com/chris-andrews#!bla...\n",
       "wikipedia_page                                                     NaN\n",
       "split                                                         training\n",
       "subset                                                           large\n",
       "bit_rate                                                      256000.0\n",
       "comments.2                                                         0.0\n",
       "composer                                                           NaN\n",
       "date_created.2                                     2008-11-26 01:54:21\n",
       "date_recorded                                      1981-01-01 00:00:00\n",
       "duration                                                         158.0\n",
       "favorites.2                                                        0.0\n",
       "genre_top                                                         Rock\n",
       "genres                                                            [89]\n",
       "genres_all                                                [89, 12, 25]\n",
       "information.1                                                      NaN\n",
       "interest                                                         252.0\n",
       "language_code                                                       en\n",
       "license              Attribution-Noncommercial-No Derivative Works ...\n",
       "listens.1                                                        181.0\n",
       "lyricist                                                           NaN\n",
       "number                                                             0.0\n",
       "publisher                                        Cherry Red Music (UK)\n",
       "tags.2                                                              []\n",
       "title.1                                                    Disco Ghoul\n",
       "first_genre_id                                                      89\n",
       "Name: 158, dtype: object"
      ]
     },
     "execution_count": 29,
     "metadata": {},
     "output_type": "execute_result"
    }
   ],
   "source": [
    "df_tracks.iloc[158]"
   ]
  },
  {
   "cell_type": "code",
   "execution_count": null,
   "id": "efd47e22-ba72-44b4-ad70-ac610bd2d8d6",
   "metadata": {
    "tags": []
   },
   "outputs": [],
   "source": [
    "df_tracks[\"full_genre_id\"] = [get_all_structure(item.first_genre_id) for i,item in df_tracks.iterrows()]"
   ]
  },
  {
   "cell_type": "code",
   "execution_count": null,
   "id": "a66cbba3-0648-4993-ac42-c38d0a068b25",
   "metadata": {},
   "outputs": [],
   "source": [
    "df_tracks"
   ]
  },
  {
   "cell_type": "code",
   "execution_count": null,
   "id": "b229532d-da03-4154-aef4-cd2b39a1946d",
   "metadata": {},
   "outputs": [],
   "source": [
    "dataset_path"
   ]
  },
  {
   "cell_type": "code",
   "execution_count": null,
   "id": "a4c27bbd-fa50-45b2-b38d-319820a9e1c0",
   "metadata": {},
   "outputs": [],
   "source": [
    "def find_path(track_id,dataset_path):\n",
    "    track_id = track_id.zfill(6)\n",
    "    folder_id = track_id[0:3]\n",
    "    file_path = os.path.join(dataset_path,folder_id,track_id+'.mp3')\n",
    "    return file_path\n",
    "    "
   ]
  },
  {
   "cell_type": "code",
   "execution_count": null,
   "id": "8aa35f3d-3f1e-44de-8550-e3e59ab44aa1",
   "metadata": {},
   "outputs": [],
   "source": [
    "df_tracks['file_path'] = df_tracks.track_id.apply(lambda x: find_path(str(x),dataset_path))"
   ]
  },
  {
   "cell_type": "code",
   "execution_count": null,
   "id": "c7970c18-a92e-4896-86fd-81b291ea2912",
   "metadata": {},
   "outputs": [],
   "source": [
    "df_tracks.iloc[0].file_path"
   ]
  },
  {
   "cell_type": "code",
   "execution_count": null,
   "id": "b5393df1-7bb6-4eea-b11e-78e89edfda25",
   "metadata": {},
   "outputs": [],
   "source": [
    "def valid_music(file_path):\n",
    "    try:\n",
    "        # we start by instantiating the audio loader:\n",
    "        loader = MonoLoader(filename=file_path)\n",
    "\n",
    "        # and then we actually perform the loading:\n",
    "        audio = loader()\n",
    "        \n",
    "        return True\n",
    "    except:\n",
    "        return False"
   ]
  },
  {
   "cell_type": "code",
   "execution_count": null,
   "id": "9350a4d2-472a-4d9b-96e6-07bc94aaf9a1",
   "metadata": {},
   "outputs": [],
   "source": [
    "from tqdm.notebook import tqdm"
   ]
  },
  {
   "cell_type": "code",
   "execution_count": null,
   "id": "bc250024-35c6-4906-9e34-73192c002c87",
   "metadata": {},
   "outputs": [],
   "source": [
    "tqdm.pandas()"
   ]
  },
  {
   "cell_type": "code",
   "execution_count": null,
   "id": "5349ac19-1b82-49b9-95cc-8d1977473570",
   "metadata": {},
   "outputs": [],
   "source": [
    "df_tracks['valid'] = df_tracks.file_path.progress_apply(lambda x: valid_music(x))"
   ]
  },
  {
   "cell_type": "code",
   "execution_count": null,
   "id": "23985a2b-d838-41da-b789-462ca28c9f61",
   "metadata": {},
   "outputs": [],
   "source": [
    "df_tracks.to_csv(os.path.join(metadata_path,\"tracks_genres_id_full.csv\"),index=False)"
   ]
  },
  {
   "cell_type": "code",
   "execution_count": null,
   "id": "24bb2a79-7ba1-4350-b2c0-e4ef7a79b0f5",
   "metadata": {},
   "outputs": [],
   "source": [
    "import pandas as pd\n",
    "import os"
   ]
  },
  {
   "cell_type": "code",
   "execution_count": null,
   "id": "60bde171-be0f-4934-b48a-8f782a4937be",
   "metadata": {},
   "outputs": [],
   "source": [
    "df = pd.read_csv(os.path.join(metadata_path,\"tracks_genres_id_full.csv\"))"
   ]
  },
  {
   "cell_type": "code",
   "execution_count": null,
   "id": "17062bf7-0e28-4096-b3b7-5679fe932ac9",
   "metadata": {},
   "outputs": [],
   "source": [
    "df = df[df['valid'] == True]"
   ]
  },
  {
   "cell_type": "code",
   "execution_count": null,
   "id": "b0b17a14-79fb-4ed2-974f-b17f368a2eda",
   "metadata": {},
   "outputs": [],
   "source": [
    "df.columns"
   ]
  },
  {
   "cell_type": "code",
   "execution_count": null,
   "id": "1872fb1f-89af-435f-bb39-df9ec83106cd",
   "metadata": {},
   "outputs": [],
   "source": [
    "df = df[['file_path','first_genre_id']]"
   ]
  },
  {
   "cell_type": "code",
   "execution_count": null,
   "id": "6280bc31-1ce2-4c8b-bd72-ded6f31a2077",
   "metadata": {},
   "outputs": [],
   "source": [
    "df.to_csv(os.path.join(metadata_path,\"tracks_genres_id_full_clear.csv\"),index=False)"
   ]
  },
  {
   "cell_type": "code",
   "execution_count": null,
   "id": "7bdc45ea-4115-438a-a002-bc4b7b24a81e",
   "metadata": {},
   "outputs": [],
   "source": [
    "df.columns"
   ]
  },
  {
   "cell_type": "code",
   "execution_count": null,
   "id": "201fc46b-7fef-45a4-8007-b61024cfd439",
   "metadata": {},
   "outputs": [],
   "source": []
  }
 ],
 "metadata": {
  "environment": {
   "kernel": "python3",
   "name": "tf2-gpu.2-8.m102",
   "type": "gcloud",
   "uri": "gcr.io/deeplearning-platform-release/tf2-gpu.2-8:m102"
  },
  "kernelspec": {
   "display_name": "Python 3 (ipykernel)",
   "language": "python",
   "name": "python3"
  },
  "language_info": {
   "codemirror_mode": {
    "name": "ipython",
    "version": 3
   },
   "file_extension": ".py",
   "mimetype": "text/x-python",
   "name": "python",
   "nbconvert_exporter": "python",
   "pygments_lexer": "ipython3",
   "version": "3.9.12"
  }
 },
 "nbformat": 4,
 "nbformat_minor": 5
}
