{
 "cells": [
  {
   "cell_type": "markdown",
   "id": "80e49046-96f8-41af-a87b-2fd242357ede",
   "metadata": {
    "tags": []
   },
   "source": [
    "## Pipeline for pré-processing FMA Large dataset- Downloaded in: https://github.com/mdeff/fma\n"
   ]
  },
  {
   "cell_type": "code",
   "execution_count": null,
   "id": "fda2ef0d",
   "metadata": {
    "tags": []
   },
   "outputs": [],
   "source": [
    "import os\n",
    "import csv\n",
    "import json\n",
    "import pandas as pd\n",
    "import numpy as np\n",
    "import tensorflow as tf\n",
    "from math import ceil\n",
    "from sklearn.utils import shuffle\n",
    "\n",
    "from tqdm import tqdm\n",
    "\n",
    "from sklearn.model_selection import train_test_split\n"
   ]
  },
  {
   "cell_type": "code",
   "execution_count": null,
   "id": "9350a4d2-472a-4d9b-96e6-07bc94aaf9a1",
   "metadata": {},
   "outputs": [],
   "source": [
    "from tqdm.notebook import tqdm"
   ]
  },
  {
   "cell_type": "code",
   "execution_count": null,
   "id": "bc250024-35c6-4906-9e34-73192c002c87",
   "metadata": {},
   "outputs": [],
   "source": [
    "tqdm.pandas()"
   ]
  },
  {
   "cell_type": "code",
   "execution_count": null,
   "id": "9dfcc4a7",
   "metadata": {},
   "outputs": [],
   "source": [
    "\n",
    "args = pd.Series({\n",
    "    \"root_dir\":\"/mnt/disks/data/\",\n",
    "    \"dataset_path\":\"/mnt/disks/data/fma/fma_large\",\n",
    "    \"embeddings\":\"music_style\",\n",
    "    \"train_id\": \"hierarchical_mini_test\",\n",
    "    'sample_size':0.01\n",
    "})\n"
   ]
  },
  {
   "cell_type": "code",
   "execution_count": null,
   "id": "34024816",
   "metadata": {},
   "outputs": [],
   "source": [
    "\n",
    "job_path = \"/mnt/disks/data/fma/trains\"\n",
    "\n",
    "\n",
    "# In[15]:\n",
    "\n",
    "\n",
    "train_path = os.path.join(job_path,args.train_id)\n",
    "\n",
    "\n",
    "# In[16]:\n",
    "\n",
    "\n",
    "base_path = os.path.join(args.root_dir,\"fma\")\n",
    "\n",
    "\n",
    "# In[17]:\n",
    "\n",
    "\n",
    "models_path = os.path.join(args.root_dir,\"models\")\n",
    "\n",
    "\n",
    "metadata_path_fma = os.path.join(base_path,\"fma_metadata\")\n",
    "\n",
    "\n",
    "# In[18]:\n",
    "\n",
    "\n",
    "metadata_file = os.path.join(train_path,\"metadata.json\")\n",
    "\n",
    "\n",
    "labels_file = os.path.join(train_path,\"labels.json\")\n"
   ]
  },
  {
   "cell_type": "code",
   "execution_count": null,
   "id": "b413d7a2",
   "metadata": {},
   "outputs": [],
   "source": [
    "\n",
    "def create_dir(path):\n",
    "    # checking if the directory demo_folder2 \n",
    "    # exist or not.\n",
    "    if not os.path.isdir(path):\n",
    "\n",
    "        # if the demo_folder2 directory is \n",
    "        # not present then create it.\n",
    "        os.makedirs(path)\n",
    "    return True\n",
    "\n"
   ]
  },
  {
   "cell_type": "code",
   "execution_count": null,
   "id": "be2f0fcc",
   "metadata": {},
   "outputs": [],
   "source": [
    "create_dir(train_path)"
   ]
  },
  {
   "cell_type": "code",
   "execution_count": null,
   "id": "65d0a6a4",
   "metadata": {},
   "outputs": [],
   "source": [
    "\n",
    "if args.embeddings == \"music_style\":\n",
    "    model_path = os.path.join(models_path,args.embeddings,\"discogs-effnet-bs64-1.pb\")\n",
    "\n"
   ]
  },
  {
   "cell_type": "code",
   "execution_count": 9,
   "id": "addfbafe-fd96-4b65-aefd-010c743a5b3a",
   "metadata": {},
   "outputs": [],
   "source": [
    "\n",
    "def __load_json__(path):\n",
    "    with open(path, 'r') as f:\n",
    "        tmp = json.loads(f.read())\n",
    "\n",
    "    return tmp\n"
   ]
  },
  {
   "cell_type": "code",
   "execution_count": 10,
   "id": "24bb2a79-7ba1-4350-b2c0-e4ef7a79b0f5",
   "metadata": {},
   "outputs": [],
   "source": [
    "import pandas as pd\n",
    "import os"
   ]
  },
  {
   "cell_type": "code",
   "execution_count": 11,
   "id": "075a9947-d175-48c6-94b5-295399b37a1e",
   "metadata": {},
   "outputs": [],
   "source": [
    "df = pd.read_csv(os.path.join(train_path,\"tracks.csv\"))"
   ]
  },
  {
   "cell_type": "code",
   "execution_count": 12,
   "id": "a98ffe27-8808-4fda-bd34-0e65ac72fb20",
   "metadata": {},
   "outputs": [],
   "source": [
    "labels = __load_json__(labels_file)"
   ]
  },
  {
   "cell_type": "code",
   "execution_count": 18,
   "id": "a8ebfdf0-386b-45cb-987a-1de3b7c62087",
   "metadata": {
    "collapsed": true,
    "jupyter": {
     "outputs_hidden": true
    },
    "tags": []
   },
   "outputs": [
    {
     "data": {
      "text/plain": [
       "{'53-45-12-0-0': 0,\n",
       " '188-20-0-0-0': 1,\n",
       " '361-109-25-12-0': 2,\n",
       " '428-20-0-0-0': 3,\n",
       " '374-20-0-0-0': 4,\n",
       " '1-38-0-0-0': 5,\n",
       " '166-65-20-0-0': 6,\n",
       " '65-20-0-0-0': 7,\n",
       " '45-12-0-0-0': 8,\n",
       " '468-15-0-0-0': 9,\n",
       " '378-20-0-0-0': 10,\n",
       " '3-0-0-0-0': 11,\n",
       " '10-0-0-0-0': 12,\n",
       " '286-15-0-0-0': 13,\n",
       " '11-14-0-0-0': 14,\n",
       " '79-2-0-0-0': 15,\n",
       " '83-21-0-0-0': 16,\n",
       " '296-15-0-0-0': 17,\n",
       " '297-15-0-0-0': 18,\n",
       " '38-0-0-0-0': 19,\n",
       " '97-4-0-0-0': 20,\n",
       " '491-468-15-0-0': 21,\n",
       " '171-2-0-0-0': 22,\n",
       " '250-38-0-0-0': 23,\n",
       " '439-31-12-0-0': 24,\n",
       " '6-38-0-0-0': 25,\n",
       " '539-21-0-0-0': 26,\n",
       " '9-0-0-0-0': 27,\n",
       " '504-2-0-0-0': 28,\n",
       " '1235-0-0-0-0': 29,\n",
       " '117-2-0-0-0': 30,\n",
       " '4-0-0-0-0': 31,\n",
       " '102-2-0-0-0': 32,\n",
       " '21-0-0-0-0': 33,\n",
       " '41-38-0-0-0': 34,\n",
       " '12-0-0-0-0': 35,\n",
       " '76-10-0-0-0': 36,\n",
       " '184-15-0-0-0': 37,\n",
       " '538-18-1235-0-0': 38,\n",
       " '13-0-0-0-0': 39,\n",
       " '179-4-0-0-0': 40,\n",
       " '81-92-2-0-0': 41,\n",
       " '98-12-0-0-0': 42,\n",
       " '337-15-0-0-0': 43,\n",
       " '810-13-0-0-0': 44,\n",
       " '177-2-0-0-0': 45,\n",
       " '240-297-15-0-0': 46,\n",
       " '14-0-0-0-0': 47,\n",
       " '181-15-0-0-0': 48,\n",
       " '524-130-2-0-0': 49,\n",
       " '111-25-12-0-0': 50,\n",
       " '189-65-20-0-0': 51,\n",
       " '17-0-0-0-0': 52,\n",
       " '107-1235-0-0-0': 53,\n",
       " '442-5-0-0-0': 54,\n",
       " '808-46-2-0-0': 55,\n",
       " '186-38-0-0-0': 56,\n",
       " '86-2-0-0-0': 57,\n",
       " '185-15-0-0-0': 58,\n",
       " '18-1235-0-0-0': 59,\n",
       " '20-0-0-0-0': 60,\n",
       " '138-20-0-0-0': 61,\n",
       " '8-0-0-0-0': 62,\n",
       " '514-38-0-0-0': 63,\n",
       " '30-38-0-0-0': 64,\n",
       " '47-38-0-0-0': 65,\n",
       " '359-12-0-0-0': 66,\n",
       " '440-12-0-0-0': 67,\n",
       " '32-38-0-0-0': 68,\n",
       " '130-2-0-0-0': 69,\n",
       " '267-1235-0-0-0': 70,\n",
       " '66-12-0-0-0': 71,\n",
       " '180-17-0-0-0': 72,\n",
       " '444-5-0-0-0': 73,\n",
       " '26-12-0-0-0': 74,\n",
       " '1060-46-2-0-0': 75,\n",
       " '811-21-0-0-0': 76,\n",
       " '5-0-0-0-0': 77,\n",
       " '651-9-0-0-0': 78,\n",
       " '187-5-0-0-0': 79,\n",
       " '70-12-0-0-0': 80,\n",
       " '314-12-0-0-0': 81,\n",
       " '71-25-12-0-0': 82,\n",
       " '659-5-0-0-0': 83,\n",
       " '42-15-0-0-0': 84,\n",
       " '906-4-0-0-0': 85,\n",
       " '167-31-12-0-0': 86,\n",
       " '182-15-0-0-0': 87,\n",
       " '502-46-2-0-0': 88,\n",
       " '542-21-0-0-0': 89,\n",
       " '43-65-20-0-0': 90,\n",
       " '15-0-0-0-0': 91,\n",
       " '224-38-0-0-0': 92,\n",
       " '46-2-0-0-0': 93,\n",
       " '214-92-2-0-0': 94,\n",
       " '25-12-0-0-0': 95,\n",
       " '113-26-12-0-0': 96,\n",
       " '404-85-12-0-0': 97,\n",
       " '77-2-0-0-0': 98,\n",
       " '170-13-0-0-0': 99,\n",
       " '311-13-0-0-0': 100,\n",
       " '322-5-0-0-0': 101,\n",
       " '763-16-6-38-0': 102,\n",
       " '63-9-0-0-0': 103,\n",
       " '118-2-0-0-0': 104,\n",
       " '183-15-0-0-0': 105,\n",
       " '1032-102-2-0-0': 106,\n",
       " '64-25-12-0-0': 107,\n",
       " '58-12-0-0-0': 108,\n",
       " '74-4-0-0-0': 109,\n",
       " '7-20-0-0-0': 110,\n",
       " '100-21-0-0-0': 111,\n",
       " '602-79-2-0-0': 112,\n",
       " '741-130-2-0-0': 113,\n",
       " '695-15-0-0-0': 114,\n",
       " '236-15-0-0-0': 115,\n",
       " '85-12-0-0-0': 116,\n",
       " '19-14-0-0-0': 117,\n",
       " '247-38-0-0-0': 118,\n",
       " '92-2-0-0-0': 119,\n",
       " '94-17-0-0-0': 120,\n",
       " '27-12-0-0-0': 121,\n",
       " '443-5-0-0-0': 122,\n",
       " '173-86-2-0-0': 123,\n",
       " '90-53-45-12-0': 124,\n",
       " '88-12-0-0-0': 125,\n",
       " '172-2-0-0-0': 126,\n",
       " '101-31-12-0-0': 127,\n",
       " '456-38-0-0-0': 128,\n",
       " '362-10-0-0-0': 129,\n",
       " '169-9-0-0-0': 130,\n",
       " '31-12-0-0-0': 131,\n",
       " '36-12-0-0-0': 132,\n",
       " '2-0-0-0-0': 133,\n",
       " '109-25-12-0-0': 134,\n",
       " '22-38-0-0-0': 135,\n",
       " '137-9-0-0-0': 136,\n",
       " '400-182-15-0-0': 137,\n",
       " '49-17-0-0-0': 138,\n",
       " '89-25-12-0-0': 139,\n",
       " '125-38-0-0-0': 140,\n",
       " '360-6-38-0-0': 141,\n",
       " '1193-763-16-6-38': 142,\n",
       " '33-17-0-0-0': 143,\n",
       " '16-6-38-0-0': 144,\n",
       " '37-4-0-0-0': 145,\n",
       " '495-15-0-0-0': 146,\n",
       " '103-17-0-0-0': 147}"
      ]
     },
     "execution_count": 18,
     "metadata": {},
     "output_type": "execute_result"
    }
   ],
   "source": [
    "labels['label5']"
   ]
  },
  {
   "cell_type": "code",
   "execution_count": 13,
   "id": "7774dce5-034d-4049-b4eb-a45612a08bb3",
   "metadata": {},
   "outputs": [
    {
     "data": {
      "text/plain": [
       "dict_keys(['label1', 'label2', 'label3', 'label4', 'label5', 'label1_inverse', 'label2_inverse', 'label3_inverse', 'label4_inverse', 'label5_inverse', 'label1_name', 'label2_name', 'label3_name', 'label4_name', 'label5_name', 'label1_count', 'label2_count', 'label3_count', 'label4_count', 'label5_count'])"
      ]
     },
     "execution_count": 13,
     "metadata": {},
     "output_type": "execute_result"
    }
   ],
   "source": [
    "labels.keys()"
   ]
  },
  {
   "cell_type": "code",
   "execution_count": 14,
   "id": "14af5f97-ad98-4ae6-96bd-8720dd61fc81",
   "metadata": {},
   "outputs": [
    {
     "data": {
      "text/plain": [
       "Index(['track_id', 'valid_genre', 'first_genre_id', 'full_genre_id',\n",
       "       'file_path', 'Valid', 'labels', 'labels_1', 'labels_2', 'labels_3',\n",
       "       'labels_4', 'labels_5'],\n",
       "      dtype='object')"
      ]
     },
     "execution_count": 14,
     "metadata": {},
     "output_type": "execute_result"
    }
   ],
   "source": [
    "df.columns"
   ]
  },
  {
   "cell_type": "code",
   "execution_count": 15,
   "id": "d151bba3-8986-4043-ab0b-ead119ae41e7",
   "metadata": {},
   "outputs": [],
   "source": [
    "df = df[['track_id', 'file_path', 'labels_1', 'labels_2', 'labels_3',\n",
    "       'labels_4', 'labels_5']]"
   ]
  },
  {
   "cell_type": "code",
   "execution_count": 16,
   "id": "ea9b6c2c-a5b4-4d6a-b585-cffb2865c834",
   "metadata": {},
   "outputs": [
    {
     "data": {
      "application/vnd.jupyter.widget-view+json": {
       "model_id": "077a340731bd48ca8ba7df47b2d9676e",
       "version_major": 2,
       "version_minor": 0
      },
      "text/plain": [
       "  0%|          | 0/104186 [00:00<?, ?it/s]"
      ]
     },
     "metadata": {},
     "output_type": "display_data"
    },
    {
     "data": {
      "application/vnd.jupyter.widget-view+json": {
       "model_id": "0124c3d578484cac87c6d0635333499d",
       "version_major": 2,
       "version_minor": 0
      },
      "text/plain": [
       "  0%|          | 0/104186 [00:00<?, ?it/s]"
      ]
     },
     "metadata": {},
     "output_type": "display_data"
    },
    {
     "data": {
      "application/vnd.jupyter.widget-view+json": {
       "model_id": "fd91562d6c4f4c50881112d8ab6f7617",
       "version_major": 2,
       "version_minor": 0
      },
      "text/plain": [
       "  0%|          | 0/104186 [00:00<?, ?it/s]"
      ]
     },
     "metadata": {},
     "output_type": "display_data"
    },
    {
     "data": {
      "application/vnd.jupyter.widget-view+json": {
       "model_id": "2737560aefd64c6b841c723034d1a665",
       "version_major": 2,
       "version_minor": 0
      },
      "text/plain": [
       "  0%|          | 0/104186 [00:00<?, ?it/s]"
      ]
     },
     "metadata": {},
     "output_type": "display_data"
    },
    {
     "data": {
      "application/vnd.jupyter.widget-view+json": {
       "model_id": "cef0320579cf4d59a2acf24bfc869f46",
       "version_major": 2,
       "version_minor": 0
      },
      "text/plain": [
       "  0%|          | 0/104186 [00:00<?, ?it/s]"
      ]
     },
     "metadata": {},
     "output_type": "display_data"
    }
   ],
   "source": [
    "df.loc[:,'labels_1'] = df.labels_1.astype(str).progress_apply(lambda x: labels['label1'][x])\n",
    "df.loc[:,'labels_2'] = df.labels_2.astype(str).progress_apply(lambda x: labels['label2'][x])\n",
    "df.loc[:,'labels_3'] = df.labels_3.astype(str).progress_apply(lambda x: labels['label3'][x])\n",
    "df.loc[:,'labels_4'] = df.labels_4.astype(str).progress_apply(lambda x: labels['label4'][x])\n",
    "df.loc[:,'labels_5'] = df.labels_5.astype(str).progress_apply(lambda x: labels['label5'][x])"
   ]
  },
  {
   "cell_type": "code",
   "execution_count": 17,
   "id": "7573eb27-6529-4a82-b7a7-ef40de4e4f0e",
   "metadata": {
    "tags": []
   },
   "outputs": [
    {
     "data": {
      "text/plain": [
       "91     20307\n",
       "5       8678\n",
       "19      6692\n",
       "35      6635\n",
       "12      5906\n",
       "       ...  \n",
       "73         2\n",
       "44         2\n",
       "88         2\n",
       "123        1\n",
       "99         1\n",
       "Name: labels_5, Length: 148, dtype: int64"
      ]
     },
     "execution_count": 17,
     "metadata": {},
     "output_type": "execute_result"
    }
   ],
   "source": [
    "df.labels_5.value_counts()"
   ]
  },
  {
   "cell_type": "code",
   "execution_count": 18,
   "id": "e9dcb368",
   "metadata": {
    "tags": []
   },
   "outputs": [
    {
     "name": "stderr",
     "output_type": "stream",
     "text": [
      "2023-03-24 13:46:39.056151: I tensorflow/core/common_runtime/gpu/gpu_device.cc:1733] Found device 0 with properties: \n",
      "pciBusID: 0000:65:00.0 name: NVIDIA GeForce RTX 2080 Ti computeCapability: 7.5\n",
      "coreClock: 1.65GHz coreCount: 68 deviceMemorySize: 10.76GiB deviceMemoryBandwidth: 573.69GiB/s\n",
      "2023-03-24 13:46:39.056428: I tensorflow/core/common_runtime/gpu/gpu_device.cc:1871] Adding visible gpu devices: 0\n",
      "2023-03-24 13:46:39.056448: I tensorflow/core/common_runtime/gpu/gpu_device.cc:1258] Device interconnect StreamExecutor with strength 1 edge matrix:\n",
      "2023-03-24 13:46:39.056453: I tensorflow/core/common_runtime/gpu/gpu_device.cc:1264]      0 \n",
      "2023-03-24 13:46:39.056456: I tensorflow/core/common_runtime/gpu/gpu_device.cc:1277] 0:   N \n",
      "2023-03-24 13:46:39.056714: I tensorflow/core/common_runtime/gpu/gpu_device.cc:1418] Created TensorFlow device (/job:localhost/replica:0/task:0/device:GPU:0 with 9493 MB memory) -> physical GPU (device: 0, name: NVIDIA GeForce RTX 2080 Ti, pci bus id: 0000:65:00.0, compute capability: 7.5)\n",
      "2023-03-24 13:46:39.060549: I tensorflow/core/common_runtime/gpu/gpu_device.cc:1733] Found device 0 with properties: \n",
      "pciBusID: 0000:65:00.0 name: NVIDIA GeForce RTX 2080 Ti computeCapability: 7.5\n",
      "coreClock: 1.65GHz coreCount: 68 deviceMemorySize: 10.76GiB deviceMemoryBandwidth: 573.69GiB/s\n",
      "2023-03-24 13:46:39.060801: I tensorflow/core/common_runtime/gpu/gpu_device.cc:1871] Adding visible gpu devices: 0\n",
      "2023-03-24 13:46:39.060818: I tensorflow/core/common_runtime/gpu/gpu_device.cc:1258] Device interconnect StreamExecutor with strength 1 edge matrix:\n",
      "2023-03-24 13:46:39.060823: I tensorflow/core/common_runtime/gpu/gpu_device.cc:1264]      0 \n",
      "2023-03-24 13:46:39.060826: I tensorflow/core/common_runtime/gpu/gpu_device.cc:1277] 0:   N \n",
      "2023-03-24 13:46:39.061078: I tensorflow/core/common_runtime/gpu/gpu_device.cc:1418] Created TensorFlow device (/job:localhost/replica:0/task:0/device:GPU:0 with 9493 MB memory) -> physical GPU (device: 0, name: NVIDIA GeForce RTX 2080 Ti, pci bus id: 0000:65:00.0, compute capability: 7.5)\n",
      "2023-03-24 13:46:39.064038: I tensorflow/core/common_runtime/gpu/gpu_device.cc:1733] Found device 0 with properties: \n",
      "pciBusID: 0000:65:00.0 name: NVIDIA GeForce RTX 2080 Ti computeCapability: 7.5\n",
      "coreClock: 1.65GHz coreCount: 68 deviceMemorySize: 10.76GiB deviceMemoryBandwidth: 573.69GiB/s\n",
      "2023-03-24 13:46:39.064285: I tensorflow/core/common_runtime/gpu/gpu_device.cc:1871] Adding visible gpu devices: 0\n",
      "2023-03-24 13:46:39.064301: I tensorflow/core/common_runtime/gpu/gpu_device.cc:1258] Device interconnect StreamExecutor with strength 1 edge matrix:\n",
      "2023-03-24 13:46:39.064305: I tensorflow/core/common_runtime/gpu/gpu_device.cc:1264]      0 \n",
      "2023-03-24 13:46:39.064309: I tensorflow/core/common_runtime/gpu/gpu_device.cc:1277] 0:   N \n",
      "2023-03-24 13:46:39.064556: I tensorflow/core/common_runtime/gpu/gpu_device.cc:1418] Created TensorFlow device (/job:localhost/replica:0/task:0/device:GPU:0 with 9493 MB memory) -> physical GPU (device: 0, name: NVIDIA GeForce RTX 2080 Ti, pci bus id: 0000:65:00.0, compute capability: 7.5)\n",
      "[   INFO   ] TensorflowPredict: Successfully loaded graph file: `/mnt/disks/data/models/music_style/discogs-effnet-bs64-1.pb`\n",
      "2023-03-24 13:46:39.124530: I tensorflow/core/common_runtime/gpu/gpu_device.cc:1733] Found device 0 with properties: \n",
      "pciBusID: 0000:65:00.0 name: NVIDIA GeForce RTX 2080 Ti computeCapability: 7.5\n",
      "coreClock: 1.65GHz coreCount: 68 deviceMemorySize: 10.76GiB deviceMemoryBandwidth: 573.69GiB/s\n",
      "2023-03-24 13:46:39.124880: I tensorflow/core/common_runtime/gpu/gpu_device.cc:1871] Adding visible gpu devices: 0\n",
      "2023-03-24 13:46:39.124899: I tensorflow/core/common_runtime/gpu/gpu_device.cc:1258] Device interconnect StreamExecutor with strength 1 edge matrix:\n",
      "2023-03-24 13:46:39.124903: I tensorflow/core/common_runtime/gpu/gpu_device.cc:1264]      0 \n",
      "2023-03-24 13:46:39.124906: I tensorflow/core/common_runtime/gpu/gpu_device.cc:1277] 0:   N \n",
      "2023-03-24 13:46:39.125161: I tensorflow/core/common_runtime/gpu/gpu_device.cc:1418] Created TensorFlow device (/job:localhost/replica:0/task:0/device:GPU:0 with 9493 MB memory) -> physical GPU (device: 0, name: NVIDIA GeForce RTX 2080 Ti, pci bus id: 0000:65:00.0, compute capability: 7.5)\n",
      "2023-03-24 13:46:39.203041: I tensorflow/core/platform/profile_utils/cpu_utils.cc:114] CPU Frequency: 3299990000 Hz\n",
      "2023-03-24 13:46:39.898620: I tensorflow/stream_executor/platform/default/dso_loader.cc:53] Successfully opened dynamic library libcudnn.so.8\n",
      "2023-03-24 13:46:40.594639: I tensorflow/stream_executor/cuda/cuda_dnn.cc:359] Loaded cuDNN version 8800\n",
      "2023-03-24 13:46:41.211484: I tensorflow/stream_executor/platform/default/dso_loader.cc:53] Successfully opened dynamic library libcublas.so.11\n",
      "2023-03-24 13:46:41.212045: I tensorflow/stream_executor/platform/default/dso_loader.cc:53] Successfully opened dynamic library libcublasLt.so.11\n",
      "2023-03-24 13:46:41.497926: I tensorflow/core/common_runtime/gpu/gpu_device.cc:1733] Found device 0 with properties: \n",
      "pciBusID: 0000:65:00.0 name: NVIDIA GeForce RTX 2080 Ti computeCapability: 7.5\n",
      "coreClock: 1.65GHz coreCount: 68 deviceMemorySize: 10.76GiB deviceMemoryBandwidth: 573.69GiB/s\n",
      "2023-03-24 13:46:41.499128: I tensorflow/core/common_runtime/gpu/gpu_device.cc:1871] Addi"
     ]
    }
   ],
   "source": [
    "### Exemplo de extração de features\n",
    "audio = MonoLoader(filename=df.iloc[1].file_path, sampleRate=16000)()\n",
    "model = TensorflowPredictEffnetDiscogs(graphFilename=model_path,output=\"PartitionedCall:1\")\n",
    "activations = model(audio)"
   ]
  },
  {
   "cell_type": "code",
   "execution_count": 19,
   "id": "48a059ca",
   "metadata": {
    "scrolled": true,
    "tags": []
   },
   "outputs": [
    {
     "name": "stderr",
     "output_type": "stream",
     "text": [
      "ng visible gpu devices: 0\n",
      "2023-03-24 13:46:41.499163: I tensorflow/core/common_runtime/gpu/gpu_device.cc:1258] Device interconnect StreamExecutor with strength 1 edge matrix:\n",
      "2023-03-24 13:46:41.499171: I tensorflow/core/common_runtime/gpu/gpu_device.cc:1264]      0 \n",
      "2023-03-24 13:46:41.499177: I tensorflow/core/common_runtime/gpu/gpu_device.cc:1277] 0:   N \n",
      "2023-03-24 13:46:41.499619: I tensorflow/core/common_runtime/gpu/gpu_device.cc:1418] Created TensorFlow device (/job:localhost/replica:0/task:0/device:GPU:0 with 9493 MB memory) -> physical GPU (device: 0, name: NVIDIA GeForce RTX 2080 Ti, pci bus id: 0000:65:00.0, compute capability: 7.5)\n",
      "2023-03-24 13:46:42.799981: I tensorflow/core/common_runtime/gpu/gpu_device.cc:1733] Found device 0 with properties: \n",
      "pciBusID: 0000:65:00.0 name: NVIDIA GeForce RTX 2080 Ti computeCapability: 7.5\n",
      "coreClock: 1.65GHz coreCount: 68 deviceMemorySize: 10.76GiB deviceMemoryBandwidth: 573.69GiB/s\n",
      "2023-03-24 13:46:42.800915: I tensorflow/core/common_runtime/gpu/gpu_device.cc:1871] Adding visible gpu devices: 0\n",
      "2023-03-24 13:46:42.800953: I tensorflow/core/common_runtime/gpu/gpu_device.cc:1258] Device interconnect StreamExecutor with strength 1 edge matrix:\n",
      "2023-03-24 13:46:42.800963: I tensorflow/core/common_runtime/gpu/gpu_device.cc:1264]      0 \n",
      "2023-03-24 13:46:42.800968: I tensorflow/core/common_runtime/gpu/gpu_device.cc:1277] 0:   N \n",
      "2023-03-24 13:46:42.801449: I tensorflow/core/common_runtime/gpu/gpu_device.cc:1418] Created TensorFlow device (/job:localhost/replica:0/task:0/device:GPU:0 with 9493 MB memory) -> physical GPU (device: 0, name: NVIDIA GeForce RTX 2080 Ti, pci bus id: 0000:65:00.0, compute capability: 7.5)\n"
     ]
    }
   ],
   "source": [
    "activations = model(audio)"
   ]
  },
  {
   "cell_type": "code",
   "execution_count": 20,
   "id": "9bab9adb-4329-493f-82ee-7ec14b1e621a",
   "metadata": {},
   "outputs": [
    {
     "data": {
      "text/plain": [
       "(29, 1280)"
      ]
     },
     "execution_count": 20,
     "metadata": {},
     "output_type": "execute_result"
    }
   ],
   "source": [
    "activations.shape"
   ]
  },
  {
   "cell_type": "code",
   "execution_count": 21,
   "id": "93077edb",
   "metadata": {},
   "outputs": [],
   "source": [
    "groups = df.groupby(\"labels_5\")\n"
   ]
  },
  {
   "cell_type": "code",
   "execution_count": 22,
   "id": "f348999a",
   "metadata": {},
   "outputs": [],
   "source": [
    "\n",
    "def __split_data__(group, percentage=0.1):\n",
    "    if len(group) == 1:\n",
    "        return group, group\n",
    "\n",
    "    shuffled = shuffle(group.values)\n",
    "    finish_test = int(ceil(len(group) * percentage))\n",
    "\n",
    "    first = pd.DataFrame(shuffled[:finish_test], columns=group.columns)\n",
    "    second = pd.DataFrame(shuffled[finish_test:], columns=group.columns)\n",
    "\n",
    "    return first, second\n",
    "\n",
    "\n",
    "# In[32]:\n",
    "\n",
    "\n",
    "def __split_data_sample(groups):\n",
    "    dataset_trainset_path = os.path.join(train_path,\"trainset.csv\")\n",
    "    dataset_testset_path = os.path.join(train_path,\"testset.csv\")\n",
    "    dataset_validationset_path = os.path.join(train_path,\"validationset.csv\")\n",
    "    \n",
    "    \n",
    "    X_train,y_train,X_test,y_test,X_val,y_val = (list(),list(),list(),list(),list(),list())\n",
    "    for code, group in groups:\n",
    "        \n",
    "        test, train_to_split  = __split_data__(group, 0.05) # 10%\n",
    "        validation, train = __split_data__(train_to_split, 0.05) # %10\n",
    "        #rint(test)\n",
    "        \n",
    "        X_train.append(train)\n",
    "        X_test.append(test)\n",
    "        X_val.append(validation)\n",
    "        \n",
    "    X_train = pd.concat(X_train, sort=False).sample(frac=1).reset_index(drop=True)\n",
    "    X_train.to_csv(dataset_trainset_path, index=False, quoting=csv.QUOTE_ALL)\n",
    "    print(dataset_trainset_path)\n",
    "    \n",
    "    X_test = pd.concat(X_test, sort=False).sample(frac=1).reset_index(drop=True)\n",
    "    X_test.to_csv(dataset_testset_path, index=False, quoting=csv.QUOTE_ALL)\n",
    "    print(dataset_testset_path)\n",
    "\n",
    "    X_val = pd.concat(X_val, sort=False).sample(frac=1).reset_index(drop=True)\n",
    "    X_val.to_csv(dataset_validationset_path, index=False, quoting=csv.QUOTE_ALL)\n",
    "    print(dataset_validationset_path)\n",
    "    \n",
    "    return X_train,X_test,X_val\n",
    "\n"
   ]
  },
  {
   "cell_type": "code",
   "execution_count": 23,
   "id": "088be178",
   "metadata": {},
   "outputs": [
    {
     "name": "stdout",
     "output_type": "stream",
     "text": [
      "/mnt/disks/data/fma/trains/hierarchical_mini_test/trainset.csv\n",
      "/mnt/disks/data/fma/trains/hierarchical_mini_test/testset.csv\n",
      "/mnt/disks/data/fma/trains/hierarchical_mini_test/validationset.csv\n"
     ]
    }
   ],
   "source": [
    "\n",
    "\n",
    "X_train,X_test,X_validation = __split_data_sample(groups)\n"
   ]
  },
  {
   "cell_type": "code",
   "execution_count": 24,
   "id": "9e78d5b2",
   "metadata": {},
   "outputs": [],
   "source": [
    "\n",
    "def extract_feature(file_path,model):\n",
    "    ### Configuração do model para extrair a representação do aúdio\n",
    "    # model = TensorflowPredictEffnetDiscogs(graphFilename=model_path)\n",
    "    audio = MonoLoader(filename=file_path, sampleRate=16000)()\n",
    "    activations = model(audio)\n",
    "    return activations\n",
    "\n",
    "# In[44]:\n",
    "\n",
    "def _bytes_feature(value):\n",
    "    \"\"\"Returns a bytes_list from a string / byte.\"\"\"\n",
    "    if isinstance(value, type(tf.constant(0))): # if value ist tensor\n",
    "        value = value.numpy() # get value of tensor\n",
    "    return tf.train.Feature(bytes_list=tf.train.BytesList(value=[value]))\n",
    "\n",
    "def _float_feature(value):\n",
    "  \"\"\"Returns a floast_list from a float / double.\"\"\"\n",
    "  return tf.train.Feature(float_list=tf.train.FloatList(value=[value]))\n",
    "\n",
    "def _int64_feature(value):\n",
    "  \"\"\"Returns an int64_list from a bool / enum / int / uint.\"\"\"\n",
    "  return tf.train.Feature(int64_list=tf.train.Int64List(value=value))\n",
    "\n",
    "def serialize_array(array):\n",
    "  array = tf.io.serialize_tensor(array)\n",
    "  return array\n",
    "\n",
    "\n",
    "def parse_single_music(data,music,labels):\n",
    "    # cat1, cat2, cat3, cat4, cat5 = data\n",
    "    label = [tf.train.Feature(int64_list=tf.train.Int64List(value=label_value)) for label_value in data]\n",
    "    \n",
    "    \n",
    "    #define the dictionary -- the structure -- of our single example\n",
    "    data = {\n",
    "        'emb' : _bytes_feature(serialize_array(music)),\n",
    "        'label' : _int64_feature(label)\n",
    "    }\n",
    "    #create an Example, wrapping the single features\n",
    "    out = tf.train.Example(features=tf.train.Features(feature=data))\n",
    "\n",
    "    return out\n",
    "# In[45]:\n",
    "\n",
    "\n"
   ]
  },
  {
   "cell_type": "code",
   "execution_count": 25,
   "id": "d1d039e4",
   "metadata": {},
   "outputs": [],
   "source": [
    "\n",
    "def generate_tf_records(df,labels,model,filename=\"train\"):\n",
    "    \n",
    "    tfrecords_path = os.path.join(train_path,\"tfrecords\",filename)\n",
    "    \n",
    "    create_dir(tfrecords_path)\n",
    "    \n",
    "    labels = {k:labels[k] for k in ('label1','label2','label3', 'label4', 'label5') if k in labels}\n",
    "    \n",
    "    \n",
    "    batch_size = 1024 * 10  # 10k records from each file batch\n",
    "    count = 0\n",
    "    total = ceil(len(df) / batch_size)\n",
    "    \n",
    "    for i in range(0, len(df), batch_size):\n",
    "        batch_df = df[i:i+batch_size]\n",
    "        \n",
    "        tqdm.pandas()\n",
    "        \n",
    "        X = batch_df.file_path.progress_apply(lambda x: extract_feature(x,model))   \n",
    "        \n",
    "        print(\"Extraiu as features\")\n",
    "        \n",
    "        batch_df = batch_df[['labels_1','labels_2','labels_3','labels_4','laels_5']]\n",
    "        \n",
    "        tfrecords = [parse_single_music(data, x,labels) for data, x in zip(batch_df.values, X)]\n",
    "        \n",
    "        path = os.path.join(tfrecords_path,f\"{str(count).zfill(10)}.tfrecord\")\n",
    "\n",
    "        #with tf.python_io.TFRecordWriter(path) as writer:\n",
    "        with tf.io.TFRecordWriter(path) as writer:\n",
    "            for tfrecord in tfrecords:\n",
    "                writer.write(tfrecord.SerializeToString())\n",
    "\n",
    "        print(f\"{count} {len(tfrecords)} {path}\")\n",
    "        count += 1\n",
    "        print(f\"{count}/{total} batchs / {count * batch_size} processed\")\n",
    "\n",
    "    print(f\"{count}/{total} batchs / {len(df)} processed\")\n",
    "\n"
   ]
  },
  {
   "cell_type": "code",
   "execution_count": 26,
   "id": "2240744f-eaa3-4dc8-a1dd-a0d410d7cbff",
   "metadata": {},
   "outputs": [
    {
     "data": {
      "text/plain": [
       "'/mnt/disks/data/fma/fma_large/000/000005.mp3'"
      ]
     },
     "execution_count": 26,
     "metadata": {},
     "output_type": "execute_result"
    }
   ],
   "source": [
    "df.file_path.iloc[2]"
   ]
  },
  {
   "cell_type": "code",
   "execution_count": 27,
   "id": "bb230b80-d775-43e8-8b76-41602f9dbe9a",
   "metadata": {},
   "outputs": [
    {
     "data": {
      "text/plain": [
       "'/mnt/disks/data/models/music_style/discogs-effnet-bs64-1.pb'"
      ]
     },
     "execution_count": 27,
     "metadata": {},
     "output_type": "execute_result"
    }
   ],
   "source": [
    "model_path"
   ]
  },
  {
   "cell_type": "code",
   "execution_count": 28,
   "id": "ac494b50-0a18-4001-89d2-93948c9fae3a",
   "metadata": {},
   "outputs": [
    {
     "data": {
      "text/plain": [
       "<essentia.standard._create_essentia_class.<locals>.Algo at 0x7f2e807e2980>"
      ]
     },
     "execution_count": 28,
     "metadata": {},
     "output_type": "execute_result"
    }
   ],
   "source": [
    "model"
   ]
  },
  {
   "cell_type": "code",
   "execution_count": 29,
   "id": "7e5db635",
   "metadata": {
    "collapsed": true,
    "jupyter": {
     "outputs_hidden": true
    },
    "tags": []
   },
   "outputs": [
    {
     "name": "stderr",
     "output_type": "stream",
     "text": [
      "[ WARNING  ] No network created, or last created network has been deleted...\n",
      "[ WARNING  ] No network created, or last created network has been deleted...\n",
      "[ WARNING  ] No network created, or last created network has been deleted...\n",
      "[ WARNING  ] No network created, or last created network has been deleted...\n",
      "[ WARNING  ] No network created, or last created network has been deleted...\n",
      "[ WARNING  ] No network created, or last created network has been deleted...\n",
      "[ WARNING  ] No network created, or last created network has been deleted...\n",
      "[ WARNING  ] No network created, or last created network has been deleted...\n",
      "[ WARNING  ] No network created, or last created network has been deleted...\n",
      "[ WARNING  ] No network created, or last created network has been deleted...\n",
      "[ WARNING  ] No network created, or last created network has been deleted...\n",
      "[ WARNING  ] No network created, or last created network has been deleted...\n",
      "[ WARNING  ] No network created, or last created network has been deleted...\n",
      "[ WARNING  ] No network created, or last created network has been deleted...\n",
      "[ WARNING  ] No network created, or last created network has been deleted...\n",
      "[ WARNING  ] No network created, or last created network has been deleted...\n",
      "[ WARNING  ] No network created, or last created network has been deleted...\n",
      "[ WARNING  ] No network created, or last created network has been deleted...\n",
      "[ WARNING  ] No network created, or last created network has been deleted...\n",
      "[ WARNING  ] No network created, or last created network has been deleted...\n",
      "[ WARNING  ] No network created, or last created network has been deleted...\n",
      "[ WARNING  ] No network created, or last created network has been deleted...\n",
      "[ WARNING  ] No network created, or last created network has been deleted...\n",
      "[ WARNING  ] No network created, or last created network has been deleted...\n",
      "[ WARNING  ] No network created, or last created network has been deleted...\n",
      "[ WARNING  ] No network created, or last created network has been deleted...\n",
      "[ WARNING  ] No network created, or last created network has been deleted...\n",
      "[ WARNING  ] No network created, or last created network has been deleted...\n",
      "[ WARNING  ] No network created, or last created network has been deleted...\n",
      "[ WARNING  ] No network created, or last created network has been deleted...\n",
      "[ WARNING  ] No network created, or last created network has been deleted...\n",
      "[ WARNING  ] No network created, or last created network has been deleted...\n",
      "[ WARNING  ] No network created, or last created network has been deleted...\n",
      "[ WARNING  ] No network created, or last created network has been deleted...\n",
      "[ WARNING  ] No network created, or last created network has been deleted...\n",
      "[ WARNING  ] No network created, or last created network has been deleted...\n",
      "[ WARNING  ] No network created, or last created network has been deleted...\n",
      "[ WARNING  ] No network created, or last created network has been deleted...\n",
      "[ WARNING  ] No network created, or last created network has been deleted...\n",
      "[ WARNING  ] No network created, or last created network has been deleted...\n",
      "[ WARNING  ] No network created, or last created network has been deleted...\n",
      "[ WARNING  ] No network created, or last created network has been deleted...\n",
      "[ WARNING  ] No network created, or last created network has been deleted...\n",
      "[ WARNING  ] No network created, or last created network has been deleted...\n",
      "[ WARNING  ] No network created, or last created network has been deleted...\n",
      "[ WARNING  ] No network created, or last created network has been deleted...\n",
      "[ WARNING  ] No network created, or last created network has been deleted...\n",
      "[ WARNING  ] No network created, or last created network has been deleted...\n",
      "[ WARNING  ] No network created, or last created network has been deleted...\n",
      "[ WARNING  ] No network created, or last created network has been deleted...\n",
      "[ WARNING  ] No network created, or last created network has been deleted...\n",
      "[ WARNING  ] No network created, or last created network has been deleted...\n",
      "[ WARNING  ] No network created, or last created network has been deleted...\n",
      "[ WARNING  ] No network created, or last created network has been deleted...\n",
      "[ WARNING  ] No network created, or last created network has been deleted...\n",
      "[ WARNING  ] No network created, or last created network has been deleted...\n",
      "[ WARNING  ] No network created, or last created network has been deleted...\n",
      "[ WARNING  ] No network created, or last created network has been deleted...\n",
      "[ WARNING  ] No network created, or last created network has been deleted...\n",
      "[ WARNING  ] No network created, or last created network has been deleted...\n",
      "[ WARNING  ] No network created, or last created network has been deleted...\n",
      "[ WARNING  ] No network created, or last created network has been deleted...\n",
      "[ WARNING  ] No network created, or last created network has been deleted...\n",
      "[ WARNING  ] No network created, or last created network has been deleted...\n",
      "[ WARNING  ] No network created, or last created network has been deleted...\n",
      "[ WARNING  ] No network created, or last created network has been deleted...\n",
      "[ WARNING  ] No network created, or last created network has been deleted...\n",
      "[ WARNING  ] No network created, or last created network has been deleted...\n",
      "[ WARNING  ] No network created, or last created network has been deleted...\n",
      "[ WARNING  ] No network created, or last created network has been deleted...\n",
      "[ WARNING  ] No network created, or last created network has been deleted...\n",
      "[ WARNING  ] No network created, or last created network has been deleted...\n",
      "[ WARNING  ] No network created, or last created network has been deleted...\n",
      "[ WARNING  ] No network created, or last created network has been deleted...\n",
      "[ WARNING  ] No network created, or last created network has been deleted...\n",
      "[ WARNING  ] No network created, or last created network has been deleted...\n",
      "[ WARNING  ] No network created, or last created network has been deleted...\n",
      "[ WARNING  ] No network created, or last created network has been deleted...\n",
      "[ WARNING  ] No network created, or last created network has been deleted...\n",
      "[ WARNING  ] No network created, or last created network has been deleted...\n",
      "[ WARNING  ] No network created, or last created network has been deleted...\n",
      "[ WARNING  ] No network created, or last created network has been deleted...\n",
      "[ WARNING  ] No network created, or last created network has been deleted...\n",
      "[ WARNING  ] No network created, or last created network has been deleted...\n",
      "[ WARNING  ] No network created, or last created network has been deleted...\n",
      "[ WARNING  ] No network created, or last created network has been deleted...\n",
      "[ WARNING  ] No network created, or last created network has been deleted...\n",
      "[ WARNING  ] No network created, or last created network has been deleted...\n",
      "[ WARNING  ] No network created, or last created network has been deleted...\n",
      "[ WARNING  ] No network created, or last created network has been deleted...\n",
      "[ WARNING  ] No network created, or last created network has been deleted...\n",
      "[ WARNING  ] No network created, or last created network has been deleted...\n",
      "[ WARNING  ] No network created, or last created network has been deleted...\n",
      "[ WARNING  ] No network created, or last created network has been deleted...\n",
      "[ WARNING  ] No network created, or last created network has been deleted...\n",
      "[ WARNING  ] No network created, or last created network has been deleted...\n",
      "[ WARNING  ] No network created, or last created network has been deleted...\n",
      "[ WARNING  ] No network created, or last created network has been deleted...\n",
      "[ WARNING  ] No network created, or last created network has been deleted...\n",
      "[ WARNING  ] No network created, or last created network has been deleted...\n",
      "[ WARNING  ] No network created, or last created network has been deleted...\n",
      "[ WARNING  ] No network created, or last created network has been deleted...\n",
      "[ WARNING  ] No network created, or last created network has been deleted...\n",
      "[ WARNING  ] No network created, or last created network has been deleted...\n",
      "[ WARNING  ] No network created, or last created network has been deleted...\n",
      "[ WARNING  ] No network created, or last created network has been deleted...\n",
      "[ WARNING  ] No network created, or last created network has been deleted...\n",
      "[ WARNING  ] No network created, or last created network has been deleted...\n",
      "[ WARNING  ] No network created, or last created network has been deleted...\n",
      "[ WARNING  ] No network created, or last created network has been deleted...\n",
      "[ WARNING  ] No network created, or last created network has been deleted...\n",
      "[ WARNING  ] No network created, or last created network has been deleted...\n",
      "[ WARNING  ] No network created, or last created network has been deleted...\n",
      "[ WARNING  ] No network created, or last created network has been deleted...\n",
      "[ WARNING  ] No network created, or last created network has been deleted...\n",
      "[ WARNING  ] No network created, or last created network has been deleted...\n",
      "[ WARNING  ] No network created, or last created network has been deleted...\n",
      "[ WARNING  ] No network created, or last created network has been deleted...\n",
      "[ WARNING  ] No network created, or last created network has been deleted...\n",
      "[ WARNING  ] No network created, or last created network has been deleted...\n",
      "[ WARNING  ] No network created, or last created network has been deleted...\n",
      "[ WARNING  ] No network created, or last created network has been deleted...\n",
      "[ WARNING  ] No network created, or last created network has been deleted...\n",
      "[ WARNING  ] No network created, or last created network has been deleted...\n",
      "[ WARNING  ] No network created, or last created network has been deleted...\n",
      "[ WARNING  ] No network created, or last created network has been deleted...\n",
      "[ WARNING  ] No network created, or last created network has been deleted...\n",
      "[ WARNING  ] No network created, or last created network has been deleted...\n",
      "[ WARNING  ] No network created, or last created network has been deleted...\n",
      "[ WARNING  ] No network created, or last created network has been deleted...\n",
      "[ WARNING  ] No network created, or last created network has been deleted...\n",
      "[ WARNING  ] No network created, or last created network has been deleted...\n",
      "[ WARNING  ] No network created, or last created network has been deleted...\n",
      "[ WARNING  ] No network created, or last created network has been deleted...\n",
      "[ WARNING  ] No network created, or last created network has been deleted...\n",
      "[ WARNING  ] No network created, or last created network has been deleted...\n",
      "[ WARNING  ] No network created, or last created network has been deleted...\n",
      "[ WARNING  ] No network created, or last created network has been deleted...\n",
      "[ WARNING  ] No network created, or last created network has been deleted...\n",
      "[ WARNING  ] No network created, or last created network has been deleted...\n",
      "[ WARNING  ] No network created, or last created network has been deleted...\n",
      "[ WARNING  ] No network created, or last created network has been deleted...\n",
      "[ WARNING  ] No network created, or last created network has been deleted...\n",
      "[ WARNING  ] No network created, or last created network has been deleted...\n",
      "[ WARNING  ] No network created, or last created network has been deleted...\n",
      "[ WARNING  ] No network created, or last created network has been deleted...\n",
      "[ WARNING  ] No network created, or last created network has been deleted...\n",
      "[ WARNING  ] No network created, or last created network has been deleted...\n",
      "[ WARNING  ] No network created, or last created network has been deleted...\n",
      "[ WARNING  ] No network created, or last created network has been deleted...\n",
      "[ WARNING  ] No network created, or last created network has been deleted...\n",
      "[ WARNING  ] No network created, or last created network has been deleted...\n",
      "[ WARNING  ] No network created, or last created network has been deleted...\n",
      "[ WARNING  ] No network created, or last created network has been deleted...\n",
      "[ WARNING  ] No network created, or last created network has been deleted...\n",
      "[ WARNING  ] No network created, or last created network has been deleted...\n",
      "[ WARNING  ] No network created, or last created network has beenException ignored in: <function tqdm.__del__ at 0x7f2ebc354700>\n",
      "Traceback (most recent call last):\n",
      "  File \"/home/bruno/anaconda3/lib/python3.9/site-packages/tqdm/std.py\", line 1161, in __del__\n",
      "KeyboardInterrupt: \n",
      " deleted...\n",
      "[ WARNING  ] No network created, or last created network has been deleted...\n",
      "[ WARNING  ] No network created, or last created network has been deleted...\n",
      "[ WARNING  ] No network created, or last created network has been deleted...\n",
      "[ WARNING  ] No network created, or last created network has been deleted...\n",
      "[ WARNING  ] No network created, or last created network has been deleted...\n",
      "[ WARNING  ] No network created, or last created network has been deleted...\n",
      "[ WARNING  ] No network created, or last created network has been deleted...\n",
      "[ WARNING  ] No network created, or last created network has been deleted...\n",
      "[ WARNING  ] No network created, or last created network has been deleted...\n",
      "[ WARNING  ] No network created, or last created network has been deleted...\n",
      "[ WARNING  ] No network created, or last created network has been deleted...\n",
      "[ WARNING  ] No network created, or last created network has been deleted...\n",
      "[ WARNING  ] No network created, or last created network has been deleted...\n",
      "[ WARNING  ] No network created, or last created network has been deleted...\n",
      "[ WARNING  ] No network created, or last created network has been deleted...\n",
      "[ WARNING  ] No network created, or last created network has been deleted...\n",
      "[ WARNING  ] No network created, or last created network has been deleted...\n",
      "[ WARNING  ] No network created, or last created network has been deleted...\n",
      "[ WARNING  ] No network created, or last created network has been deleted...\n",
      "[ WARNING  ] No network created, or last created network has been deleted...\n",
      "[ WARNING  ] No network created, or last created network has been deleted...\n",
      "[ WARNING  ] No network created, or last created network has been deleted...\n",
      "[ WARNING  ] No network created, or last created network has been deleted...\n",
      "[ WARNING  ] No network created, or last created network has been deleted...\n",
      "[ WARNING  ] No network created, or last created network has been deleted...\n",
      "[ WARNING  ] No network created, or last created network has been deleted...\n",
      "[ WARNING  ] No network created, or last created network has been deleted...\n",
      "[ WARNING  ] No network created, or last created network has been deleted...\n",
      "[ WARNING  ] No network created, or last created network has been deleted...\n",
      "[ WARNING  ] No network created, or last created network has been deleted...\n",
      "[ WARNING  ] No network created, or last created network has been deleted...\n",
      "[ WARNING  ] No network created, or last created network has been deleted...\n",
      "[ WARNING  ] No network created, or last created network has been deleted...\n",
      "[ WARNING  ] No network created, or last created network has been deleted...\n",
      "[ WARNING  ] No network created, or last created network has been deleted...\n",
      "[ WARNING  ] No network created, or last created network has been deleted...\n",
      "[ WARNING  ] No network created, or last created network has been deleted...\n",
      "[ WARNING  ] No network created, or last created network has been deleted...\n",
      "[ WARNING  ] No network created, or last created network has been deleted...\n",
      "[ WARNING  ] No network created, or last created network has been deleted...\n",
      "[ WARNING  ] No network created, or last created network has been deleted...\n",
      "[ WARNING  ] No network created, or last created network has been deleted...\n",
      "[ WARNING  ] No network created, or last created network has been deleted...\n",
      "[ WARNING  ] No network created, or last created network has been deleted...\n",
      "[ WARNING  ] No network created, or last created network has been deleted...\n",
      "[ WARNING  ] No network created, or last created network has been deleted...\n",
      "[ WARNING  ] No network created, or last created network has been deleted...\n",
      "[ WARNING  ] No network created, or last created network has been deleted...\n",
      "[ WARNING  ] No network created, or last created network has been deleted...\n",
      "[ WARNING  ] No network created, or last created network has been deleted...\n",
      "[ WARNING  ] No network created, or last created network has been deleted...\n",
      "[ WARNING  ] No network created, or last created network has been deleted...\n",
      "[ WARNING  ] No network created, or last created network has been deleted...\n",
      "[ WARNING  ] No network created, or last created network has been deleted...\n",
      "[ WARNING  ] No network created, or last created network has been deleted...\n",
      "[ WARNING  ] No network created, or last created network has been deleted...\n",
      "[ WARNING  ] No network created, or last created network has been deleted...\n",
      "[ WARNING  ] No network created, or last created network has been deleted...\n",
      "[ WARNING  ] No network created, or last created network has been deleted...\n",
      "[ WARNING  ] No network created, or last created network has been deleted...\n",
      "[ WARNING  ] No network created, or last created network has been deleted...\n",
      "[ WARNING  ] No network created, or last created network has been deleted...\n",
      "[ WARNING  ] No network created, or last created network has been deleted...\n",
      "[ WARNING  ] No network created, or last created network has been deleted...\n",
      "[ WARNING  ] No network created, or last created network has been deleted...\n",
      "[ WARNING  ] No network created, or last created network has been deleted...\n",
      "[ WARNING  ] No network created, or last created network has been deleted...\n",
      "[ WARNING  ] No network created, or last created network has been deleted...\n",
      "[ WARNING  ] No network created, or last created network has been deleted...\n",
      "[ WARNING  ] No network created, or last created network has been deleted...\n",
      "[ WARNING  ] No network created, or last created network has been deleted...\n",
      "[ WARNING  ] No network created, or last created network has been deleted...\n",
      "[ WARNING  ] No network created, or last created network has been deleted...\n",
      "[ WARNING  ] No network created, or last created network has been deleted...\n",
      "[ WARNING  ] No network created, or last created network has been deleted...\n",
      "[ WARNING  ] No network created, or last created network has been deleted...\n",
      "[ WARNING  ] No network created, or last created network has been deleted...\n",
      "[ WARNING  ] No network created, or last created network has been deleted...\n",
      "[ WARNING  ] No network created, or last created network has been deleted...\n",
      "[ WARNING  ] No network created, or last created network has been deleted...\n",
      "[ WARNING  ] No network created, or last created network has been deleted...\n",
      "[ WARNING  ] No network created, or last created network has been deleted...\n",
      "[ WARNING  ] No network created, or last created network has been deleted...\n",
      "[ WARNING  ] No network created, or last created network has been deleted...\n",
      "[ WARNING  ] No network created, or last created network has been deleted...\n",
      "[ WARNING  ] No network created, or last created network has been deleted...\n",
      "[ WARNING  ] No network created, or last created network has been deleted...\n",
      "[ WARNING  ] No network created, or last created network has been deleted...\n",
      "[ WARNING  ] No network created, or last created network has been deleted...\n",
      "[ WARNING  ] No network created, or last created network has been deleted...\n",
      "[ WARNING  ] No network created, or last created network has been deleted...\n",
      "[ WARNING  ] No network created, or last created network has been deleted...\n",
      "[ WARNING  ] No network created, or last created network has been deleted...\n",
      "[ WARNING  ] No network created, or last created network has been deleted...\n",
      "[ WARNING  ] No network created, or last created network has been deleted...\n",
      "[ WARNING  ] No network created, or last created network has been deleted...\n",
      "[ WARNING  ] No network created, or last created network has been deleted...\n",
      "[ WARNING  ] No network created, or last created network has been deleted...\n",
      "[ WARNING  ] No network created, or last created network has been deleted...\n",
      "[ WARNING  ] No network created, or last created network has been deleted...\n",
      "[ WARNING  ] No network created, or last created network has been deleted...\n",
      "[ WARNING  ] No network created, or last created network has been deleted...\n",
      "[ WARNING  ] No network created, or last created network has been deleted...\n",
      "[ WARNING  ] No network created, or last created network has been deleted...\n",
      "[ WARNING  ] No network created, or last created network has been deleted...\n",
      "[ WARNING  ] No network created, or last created network has been deleted...\n",
      "[ WARNING  ] No network created, or last created network has been deleted...\n",
      "[ WARNING  ] No network created, or last created network has been deleted...\n",
      "[ WARNING  ] No network created, or last created network has been deleted...\n",
      "[ WARNING  ] No network created, or last created network has been deleted...\n",
      "[ WARNING  ] No network created, or last created network has been deleted...\n",
      "[ WARNING  ] No network created, or last created network has been deleted...\n",
      "[ WARNING  ] No network created, or last created network has been deleted...\n",
      "[ WARNING  ] No network created, or last created network has been deleted...\n",
      "[ WARNING  ] No network created, or last created network has been deleted...\n",
      "[ WARNING  ] No network created, or last created network has been deleted...\n",
      "[ WARNING  ] No network created, or last created network has been deleted...\n",
      "[ WARNING  ] No network created, or last created network has been deleted...\n",
      "[ WARNING  ] No network created, or last created network has been deleted...\n",
      "[ WARNING  ] No network created, or last created network has been deleted...\n",
      "[ WARNING  ] No network created, or last created network has been deleted...\n",
      "[ WARNING  ] No network created, or last created network has been deleted...\n",
      "[ WARNING  ] No network created, or last created network has been deleted...\n",
      "[ WARNING  ] No network created, or last created network has been deleted...\n",
      "[ WARNING  ] No network created, or last created network has been deleted...\n",
      "[ WARNING  ] No network created, or last created network has been deleted...\n",
      "[ WARNING  ] No network created, or last created network has been deleted...\n",
      "[ WARNING  ] No network created, or last created network has been deleted...\n",
      "[ WARNING  ] No network created, or last created network has been deleted...\n",
      "[ WARNING  ] No network created, or last created network has been deleted...\n",
      "[ WARNING  ] No network created, or last created network has been deleted...\n",
      "[ WARNING  ] No network created, or last created network has been deleted...\n",
      "[ WARNING  ] No network created, or last created network has been deleted...\n",
      "[ WARNING  ] No network created, or last created network has been deleted...\n",
      "[ WARNING  ] No network created, or last created network has been deleted...\n",
      "[ WARNING  ] No network created, or last created network has been deleted...\n",
      "[ WARNING  ] No network created, or last created network has been deleted...\n",
      "[ WARNING  ] No network created, or last created network has been deleted...\n",
      "[ WARNING  ] No network created, or last created network has been deleted...\n",
      "[ WARNING  ] No network created, or last created network has been deleted...\n",
      "[ WARNING  ] No network created, or last created network has been deleted...\n",
      "[ WARNING  ] No network created, or last created network has been deleted...\n",
      "[ WARNING  ] No network created, or last created network has been deleted...\n",
      "[ WARNING  ] No network created, or last created network has been deleted...\n",
      "[ WARNING  ] No network created, or last created network has been deleted...\n",
      "[ WARNING  ] No network created, or last created network has been deleted...\n",
      "[ WARNING  ] No network created, or last created network has been deleted...\n",
      "[ WARNING  ] No network created, or last created network has been deleted...\n",
      "[ WARNING  ] No network created, or last created network has been deleted...\n",
      "[ WARNING  ] No network created, or last created network has been deleted...\n",
      "[ WARNING  ] No network created, or last created network has been deleted...\n",
      "[ WARNING  ] No network created, or last created network has been deleted...\n",
      "[ WARNING  ] No network created, or last created network has been deleted...\n",
      "[ WARNING  ] No network created, or last created network has been deleted...\n",
      "[ WARNING  ] No network created, or last created network has been deleted...\n",
      "[ WARNING  ] No network created, or last created network has been deleted...\n",
      "[ WARNING  ] No network created, or last created network has been deleted...\n",
      "[ WARNING  ] No network created, or last created network has been deleted...\n",
      "[ WARNING  ] No network created, or last created network has been deleted...\n",
      "[ WARNING  ] No network created, or last created network has been deleted...\n",
      "[ WARNING  ] No network created, or last created network has been deleted...\n",
      "[ WARNING  ] No network created, or last created network has been deleted...\n",
      "[ WARNING  ] No network created, or last created network has been deleted...\n",
      "[ WARNING  ] No network created, or last created network has been deleted...\n",
      "[ WARNING  ] No network created, or last created network has been deleted...\n",
      "[ WARNING  ] No network created, or last created network has been deleted...\n",
      "[ WARNING  ] No network created, or last created network has been deleted...\n",
      "[ WARNING  ] No network created, or last created network has been deleted...\n",
      "[ WARNING  ] No network created, or last created network has been deleted...\n",
      "[ WARNING  ] No network created, or last created network has been deleted...\n",
      "[ WARNING  ] No network created, or last created network has been deleted...\n",
      "[ WARNING  ] No network created, or last created network has been deleted...\n",
      "[ WARNING  ] No network created, or last created network has been deleted...\n",
      "[ WARNING  ] No network created, or last created network has been deleted...\n",
      "[ WARNING  ] No network created, or last created network has been deleted...\n",
      "[ WARNING  ] No network created, or last created network has been deleted...\n",
      "[ WARNING  ] No network created, or last created network has been deleted...\n",
      "[ WARNING  ] No network created, or last created network has been deleted...\n",
      "[ WARNING  ] No network created, or last created network has been deleted...\n",
      "[ WARNING  ] No network created, or last created network has been deleted...\n",
      "[ WARNING  ] No network created, or last created network has been deleted...\n",
      "[ WARNING  ] No network created, or last created network has been deleted...\n",
      "[ WARNING  ] No network created, or last created network has been deleted...\n",
      "[ WARNING  ] No network created, or last created network has been deleted...\n",
      "[ WARNING  ] No network created, or last created network has been deleted...\n",
      "[ WARNING  ] No network created, or last created network has been deleted...\n",
      "[ WARNING  ] No network created, or last created network has been deleted...\n",
      "[ WARNING  ] No network created, or last created network has been deleted...\n",
      "[ WARNING  ] No network created, or last created network has been deleted...\n",
      "[ WARNING  ] No network created, or last created network has been deleted...\n",
      "[ WARNING  ] No network created, or last created network has been deleted...\n",
      "[ WARNING  ] No network created, or last created network has been deleted...\n",
      "[ WARNING  ] No network created, or last created network has been deleted...\n",
      "[ WARNING  ] No network created, or last created network has been deleted...\n",
      "[ WARNING  ] No network created, or last created n\n",
      "KeyboardInterrupt\n",
      "\n",
      "etwork has been deleted...\n",
      "[ WARNING  ] No network created, or last created network has been deleted...\n",
      "[ WARNING  ] No network created, or last created network has been deleted...\n",
      "[ WARNING  ] No network created, or last created network has been deleted...\n",
      "[ WARNING  ] No network created, or last created network has been deleted...\n",
      "[ WARNING  ] No network created, or last created network has been deleted...\n",
      "[ WARNING  ] No network created, or last created network has been deleted...\n",
      "[ WARNING  ] No network created, or last created network has been deleted...\n",
      "[ WARNING  ] No network created, or last created network has been deleted...\n",
      "[ WARNING  ] No network created, or last created network has been deleted...\n",
      "[ WARNING  ] No network created, or last created network has been deleted...\n",
      "[ WARNING  ] No network created, or last created network has been deleted...\n",
      "[ WARNING  ] No network created, or last created network has been deleted...\n",
      "[ WARNING  ] No network created, or last created network has been deleted...\n",
      "[ WARNING  ] No network created, or last created network has been deleted...\n",
      "[ WARNING  ] No network created, or last created network has been deleted...\n",
      "[ WARNING  ] No network created, or last created network has been deleted...\n",
      "[ WARNING  ] No network created, or last created network has been deleted...\n",
      "[ WARNING  ] No network created, or last created network has been deleted...\n",
      "[ WARNING  ] No network created, or last created network has been deleted...\n",
      "[ WARNING  ] No network created, or last created network has been deleted...\n",
      "[ WARNING  ] No network created, or last created network has been deleted...\n",
      "[ WARNING  ] No network created, or last created network has been deleted...\n",
      "[ WARNING  ] No network created, or last created network has been deleted...\n",
      "[ WARNING  ] No network created, or last created network has been deleted...\n",
      "[ WARNING  ] No network created, or last created network has been deleted...\n",
      "[ WARNING  ] No network created, or last created network has been deleted...\n",
      "[ WARNING  ] No network created, or last created network has been deleted...\n",
      "[ WARNING  ] No network created, or last created network has been deleted...\n",
      "[ WARNING  ] No network created, or last created network has been deleted...\n",
      "[ WARNING  ] No network created, or last created network has been deleted...\n",
      "[ WARNING  ] No network created, or last created network has been deleted...\n",
      "[ WARNING  ] No network created, or last created network has been deleted...\n",
      "[ WARNING  ] No network created, or last created network has been deleted...\n",
      "[ WARNING  ] No network created, or last created network has been deleted...\n",
      "[ WARNING  ] No network created, or last created network has been deleted...\n",
      "[ WARNING  ] No network created, or last created network has been deleted...\n",
      "[ WARNING  ] No network created, or last created network has been deleted...\n",
      "[ WARNING  ] No network created, or last created network has been deleted...\n",
      "[ WARNING  ] No network created, or last created network has been deleted...\n",
      "[ WARNING  ] No network created, or last created network has been deleted...\n",
      "[ WARNING  ] No network created, or last created network has been deleted...\n",
      "[ WARNING  ] No network created, or last created network has been deleted...\n",
      "[ WARNING  ] No network created, or last created network has been deleted...\n",
      "[ WARNING  ] No network created, or last created network has been deleted...\n",
      "[ WARNING  ] No network created, or last created network has been deleted...\n",
      "[ WARNING  ] No network created, or last created network has been deleted...\n",
      "[ WARNING  ] No network created, or last created network has been deleted...\n",
      "[ WARNING  ] No network created, or last created network has been deleted...\n",
      "[ WARNING  ] No network created, or last created network has been deleted...\n",
      "[ WARNING  ] No network created, or last created network has been deleted...\n",
      "[ WARNING  ] No network created, or last created network has been deleted...\n",
      "[ WARNING  ] No network created, or last created network has been deleted...\n",
      "[ WARNING  ] No network created, or last created network has been deleted...\n",
      "[ WARNING  ] No network created, or last created network has been deleted...\n",
      "[ WARNING  ] No network created, or last created network has been deleted...\n",
      "[ WARNING  ] No network created, or last created network has been deleted...\n",
      "[ WARNING  ] No network created, or last created network has been deleted...\n",
      "[ WARNING  ] No network created, or last created network has been deleted...\n",
      "[ WARNING  ] No network created, or last created network has been deleted...\n",
      "[ WARNING  ] No network created, or last created network has been deleted...\n",
      "[ WARNING  ] No network created, or last created network has been deleted...\n",
      "[ WARNING  ] No network created, or last created network has been deleted...\n",
      "[ WARNING  ] No network created, or last created network has been deleted...\n",
      "[ WARNING  ] No network created, or last created network has been deleted...\n",
      "[ WARNING  ] No network created, or last created network has been deleted...\n",
      "[ WARNING  ] No network created, or last created network has been deleted...\n",
      "[ WARNING  ] No network created, or last created network has been deleted...\n",
      "[ WARNING  ] No network created, or last created network has been deleted...\n",
      "[ WARNING  ] No network created, or last created network has been deleted...\n",
      "[ WARNING  ] No network created, or last created network has been deleted...\n",
      "[ WARNING  ] No network created, or last created network has been deleted...\n",
      "[ WARNING  ] No network created, or last created network has been deleted...\n",
      "[ WARNING  ] No network created, or last created network has been deleted...\n",
      "[ WARNING  ] No network created, or last created network has been deleted...\n",
      "[ WARNING  ] No network created, or last created network has been deleted...\n",
      "[ WARNING  ] No network created, or last created network has been deleted...\n",
      "[ WARNING  ] No network created, or last created network has been deleted...\n",
      "[ WARNING  ] No network created, or last created network has been deleted...\n",
      "[ WARNING  ] No network created, or last created network has been deleted...\n",
      "[ WARNING  ] No network created, or last created network has been deleted...\n",
      "[ WARNING  ] No network created, or last created network has been deleted...\n",
      "[ WARNING  ] No network created, or last created network has been deleted...\n",
      "[ WARNING  ] No network created, or last created network has been deleted...\n",
      "[ WARNING  ] No network created, or last created network has been deleted...\n",
      "[ WARNING  ] No network created, or last created network has been deleted...\n",
      "[ WARNING  ] No network created, or last created network has been deleted...\n",
      "[ WARNING  ] No network created, or last created network has been deleted...\n",
      "[ WARNING  ] No network created, or last created network has been deleted...\n",
      "[ WARNING  ] No network created, or last created network has been deleted...\n",
      "[ WARNING  ] No network created, or last created network has been deleted...\n",
      "[ WARNING  ] No network created, or last cr"
     ]
    }
   ],
   "source": [
    "\n",
    "extract_feature(df.file_path.iloc[2],model)\n"
   ]
  },
  {
   "cell_type": "code",
   "execution_count": 30,
   "id": "7ec517fa-0c75-40f8-a446-0e99c9cc2545",
   "metadata": {},
   "outputs": [],
   "source": [
    "\n",
    "dataset_names = [\"train\",\"test\",\"validation\"]\n",
    "\n",
    "datasets = [X_train,X_test,X_validation]"
   ]
  },
  {
   "cell_type": "code",
   "execution_count": 31,
   "id": "d6d4d053-9b2c-4e12-836d-e20468e01400",
   "metadata": {},
   "outputs": [
    {
     "data": {
      "text/html": [
       "<div>\n",
       "<style scoped>\n",
       "    .dataframe tbody tr th:only-of-type {\n",
       "        vertical-align: middle;\n",
       "    }\n",
       "\n",
       "    .dataframe tbody tr th {\n",
       "        vertical-align: top;\n",
       "    }\n",
       "\n",
       "    .dataframe thead th {\n",
       "        text-align: right;\n",
       "    }\n",
       "</style>\n",
       "<table border=\"1\" class=\"dataframe\">\n",
       "  <thead>\n",
       "    <tr style=\"text-align: right;\">\n",
       "      <th></th>\n",
       "      <th>track_id</th>\n",
       "      <th>file_path</th>\n",
       "      <th>labels_1</th>\n",
       "      <th>labels_2</th>\n",
       "      <th>labels_3</th>\n",
       "      <th>labels_4</th>\n",
       "      <th>labels_5</th>\n",
       "    </tr>\n",
       "  </thead>\n",
       "  <tbody>\n",
       "    <tr>\n",
       "      <th>0</th>\n",
       "      <td>52677.0</td>\n",
       "      <td>/mnt/disks/data/fma/fma_large/052/052677.mp3</td>\n",
       "      <td>6</td>\n",
       "      <td>147</td>\n",
       "      <td>131</td>\n",
       "      <td>81</td>\n",
       "      <td>27</td>\n",
       "    </tr>\n",
       "    <tr>\n",
       "      <th>1</th>\n",
       "      <td>130284.0</td>\n",
       "      <td>/mnt/disks/data/fma/fma_large/130/130284.mp3</td>\n",
       "      <td>99</td>\n",
       "      <td>115</td>\n",
       "      <td>76</td>\n",
       "      <td>143</td>\n",
       "      <td>19</td>\n",
       "    </tr>\n",
       "    <tr>\n",
       "      <th>2</th>\n",
       "      <td>91949.0</td>\n",
       "      <td>/mnt/disks/data/fma/fma_large/091/091949.mp3</td>\n",
       "      <td>1</td>\n",
       "      <td>97</td>\n",
       "      <td>39</td>\n",
       "      <td>103</td>\n",
       "      <td>91</td>\n",
       "    </tr>\n",
       "    <tr>\n",
       "      <th>3</th>\n",
       "      <td>64678.0</td>\n",
       "      <td>/mnt/disks/data/fma/fma_large/064/064678.mp3</td>\n",
       "      <td>122</td>\n",
       "      <td>14</td>\n",
       "      <td>47</td>\n",
       "      <td>25</td>\n",
       "      <td>143</td>\n",
       "    </tr>\n",
       "    <tr>\n",
       "      <th>4</th>\n",
       "      <td>4832.0</td>\n",
       "      <td>/mnt/disks/data/fma/fma_large/004/004832.mp3</td>\n",
       "      <td>37</td>\n",
       "      <td>138</td>\n",
       "      <td>46</td>\n",
       "      <td>77</td>\n",
       "      <td>35</td>\n",
       "    </tr>\n",
       "    <tr>\n",
       "      <th>...</th>\n",
       "      <td>...</td>\n",
       "      <td>...</td>\n",
       "      <td>...</td>\n",
       "      <td>...</td>\n",
       "      <td>...</td>\n",
       "      <td>...</td>\n",
       "      <td>...</td>\n",
       "    </tr>\n",
       "    <tr>\n",
       "      <th>93881</th>\n",
       "      <td>129700.0</td>\n",
       "      <td>/mnt/disks/data/fma/fma_large/129/129700.mp3</td>\n",
       "      <td>1</td>\n",
       "      <td>97</td>\n",
       "      <td>39</td>\n",
       "      <td>103</td>\n",
       "      <td>91</td>\n",
       "    </tr>\n",
       "    <tr>\n",
       "      <th>93882</th>\n",
       "      <td>108359.0</td>\n",
       "      <td>/mnt/disks/data/fma/fma_large/108/108359.mp3</td>\n",
       "      <td>37</td>\n",
       "      <td>138</td>\n",
       "      <td>46</td>\n",
       "      <td>77</td>\n",
       "      <td>35</td>\n",
       "    </tr>\n",
       "    <tr>\n",
       "      <th>93883</th>\n",
       "      <td>39734.0</td>\n",
       "      <td>/mnt/disks/data/fma/fma_large/039/039734.mp3</td>\n",
       "      <td>107</td>\n",
       "      <td>43</td>\n",
       "      <td>38</td>\n",
       "      <td>4</td>\n",
       "      <td>68</td>\n",
       "    </tr>\n",
       "    <tr>\n",
       "      <th>93884</th>\n",
       "      <td>140378.0</td>\n",
       "      <td>/mnt/disks/data/fma/fma_large/140/140378.mp3</td>\n",
       "      <td>1</td>\n",
       "      <td>97</td>\n",
       "      <td>39</td>\n",
       "      <td>103</td>\n",
       "      <td>91</td>\n",
       "    </tr>\n",
       "    <tr>\n",
       "      <th>93885</th>\n",
       "      <td>48606.0</td>\n",
       "      <td>/mnt/disks/data/fma/fma_large/048/048606.mp3</td>\n",
       "      <td>1</td>\n",
       "      <td>97</td>\n",
       "      <td>39</td>\n",
       "      <td>103</td>\n",
       "      <td>91</td>\n",
       "    </tr>\n",
       "  </tbody>\n",
       "</table>\n",
       "<p>93886 rows × 7 columns</p>\n",
       "</div>"
      ],
      "text/plain": [
       "       track_id                                     file_path labels_1  \\\n",
       "0       52677.0  /mnt/disks/data/fma/fma_large/052/052677.mp3        6   \n",
       "1      130284.0  /mnt/disks/data/fma/fma_large/130/130284.mp3       99   \n",
       "2       91949.0  /mnt/disks/data/fma/fma_large/091/091949.mp3        1   \n",
       "3       64678.0  /mnt/disks/data/fma/fma_large/064/064678.mp3      122   \n",
       "4        4832.0  /mnt/disks/data/fma/fma_large/004/004832.mp3       37   \n",
       "...         ...                                           ...      ...   \n",
       "93881  129700.0  /mnt/disks/data/fma/fma_large/129/129700.mp3        1   \n",
       "93882  108359.0  /mnt/disks/data/fma/fma_large/108/108359.mp3       37   \n",
       "93883   39734.0  /mnt/disks/data/fma/fma_large/039/039734.mp3      107   \n",
       "93884  140378.0  /mnt/disks/data/fma/fma_large/140/140378.mp3        1   \n",
       "93885   48606.0  /mnt/disks/data/fma/fma_large/048/048606.mp3        1   \n",
       "\n",
       "      labels_2 labels_3 labels_4 labels_5  \n",
       "0          147      131       81       27  \n",
       "1          115       76      143       19  \n",
       "2           97       39      103       91  \n",
       "3           14       47       25      143  \n",
       "4          138       46       77       35  \n",
       "...        ...      ...      ...      ...  \n",
       "93881       97       39      103       91  \n",
       "93882      138       46       77       35  \n",
       "93883       43       38        4       68  \n",
       "93884       97       39      103       91  \n",
       "93885       97       39      103       91  \n",
       "\n",
       "[93886 rows x 7 columns]"
      ]
     },
     "execution_count": 31,
     "metadata": {},
     "output_type": "execute_result"
    }
   ],
   "source": [
    "X_train"
   ]
  },
  {
   "cell_type": "code",
   "execution_count": null,
   "id": "0a72193d",
   "metadata": {
    "tags": []
   },
   "outputs": [
    {
     "name": "stdout",
     "output_type": "stream",
     "text": [
      "Estamos usando paralelismo!!!\n"
     ]
    },
    {
     "data": {
      "application/vnd.jupyter.widget-view+json": {
       "model_id": "ce19d5cc2d86490392fb8fcee5090f1a",
       "version_major": 2,
       "version_minor": 0
      },
      "text/plain": [
       "  0%|          | 0/5284 [00:00<?, ?it/s]"
      ]
     },
     "metadata": {},
     "output_type": "display_data"
    },
    {
     "data": {
      "application/vnd.jupyter.widget-view+json": {
       "model_id": "57bb3efd48f040e291684c412a770cb6",
       "version_major": 2,
       "version_minor": 0
      },
      "text/plain": [
       "  0%|          | 0/5023 [00:00<?, ?it/s]"
      ]
     },
     "metadata": {},
     "output_type": "display_data"
    },
    {
     "data": {
      "application/vnd.jupyter.widget-view+json": {
       "model_id": "1533a7bb2ca54c2a85abce290bcf1d4b",
       "version_major": 2,
       "version_minor": 0
      },
      "text/plain": [
       "  0%|          | 0/10240 [00:00<?, ?it/s]"
      ]
     },
     "metadata": {},
     "output_type": "display_data"
    }
   ],
   "source": [
    "with Parallel(n_jobs=3, require='sharedmem') as para:\n",
    "    print(\"Estamos usando paralelismo!!!\")\n",
    "    para(delayed(generate_tf_records)(dataset,labels,model,dataset_name) for (dataset_name,dataset) in zip(dataset_names,datasets))\n",
    "\n"
   ]
  },
  {
   "cell_type": "code",
   "execution_count": null,
   "id": "aaedddc8",
   "metadata": {},
   "outputs": [],
   "source": [
    "\n",
    "metadata = {\n",
    "    \"train_count\":len(X_train),\n",
    "    \"test_count\":len(X_test),\n",
    "    \"val_count\":len(X_validation),\n",
    "    \"labels_size\": len(labels['label1'])\n",
    "    \"root_dir\":args.root_dir,\n",
    "    \"embeddings\":args.embeddings,\n",
    "    \"train_id\": args.train_id\n",
    "}\n",
    "\n",
    "\n",
    "# In[ ]:\n",
    "\n",
    "\n",
    "\n",
    "\n",
    "# In[ ]:\n",
    "\n",
    "\n",
    "with open(metadata_file, 'w+') as f:\n",
    "    f.write(json.dumps(metadata))\n",
    "\n",
    "\n",
    "# In[ ]:\n"
   ]
  },
  {
   "cell_type": "code",
   "execution_count": null,
   "id": "6fe566dc-d025-4f96-9b6b-9958a08bea45",
   "metadata": {},
   "outputs": [],
   "source": []
  },
  {
   "cell_type": "code",
   "execution_count": null,
   "id": "366ee405-ce87-4a08-adb7-07519e4f66d2",
   "metadata": {},
   "outputs": [],
   "source": []
  }
 ],
 "metadata": {
  "environment": {
   "kernel": "python3",
   "name": "tf2-gpu.2-8.m102",
   "type": "gcloud",
   "uri": "gcr.io/deeplearning-platform-release/tf2-gpu.2-8:m102"
  },
  "kernelspec": {
   "display_name": "Python 3 (ipykernel)",
   "language": "python",
   "name": "python3"
  },
  "language_info": {
   "codemirror_mode": {
    "name": "ipython",
    "version": 3
   },
   "file_extension": ".py",
   "mimetype": "text/x-python",
   "name": "python",
   "nbconvert_exporter": "python",
   "pygments_lexer": "ipython3",
   "version": "3.10.9"
  }
 },
 "nbformat": 4,
 "nbformat_minor": 5
}
