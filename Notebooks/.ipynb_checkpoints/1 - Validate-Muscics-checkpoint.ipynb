{
 "cells": [
  {
   "cell_type": "code",
   "execution_count": 36,
   "id": "d286e021-1ae2-4a48-a5d5-f66b17bcf230",
   "metadata": {
    "tags": []
   },
   "outputs": [],
   "source": [
    "import pandas as pd\n",
    "import numpy as np\n",
    "import ast\n",
    "import json\n",
    "import os\n",
    "from essentia.standard import MonoLoader"
   ]
  },
  {
   "cell_type": "code",
   "execution_count": 3,
   "id": "4408f908-9cb1-432d-a8d2-2f2bf874b457",
   "metadata": {},
   "outputs": [],
   "source": [
    "from tqdm.notebook import tqdm"
   ]
  },
  {
   "cell_type": "code",
   "execution_count": 4,
   "id": "d47eb29a-107d-436b-83c3-dbf706302be3",
   "metadata": {},
   "outputs": [],
   "source": [
    "tqdm.pandas()"
   ]
  },
  {
   "cell_type": "code",
   "execution_count": null,
   "id": "00d9634c-b595-4ee4-8430-5b4f69466d85",
   "metadata": {},
   "outputs": [],
   "source": [
    "\n",
    "args = pd.Series({\n",
    "    \"root_dir\":\"/mnt/disks/data/\",\n",
    "    \"dataset_path\":\"/mnt/disks/data/fma/fma_large\",\n",
    "    \"embeddings\":\"music_style\",\n",
    "    \"train_id\": \"hierarchical_mini_test\",\n",
    "    'sample_size':0.01\n",
    "})\n"
   ]
  },
  {
   "cell_type": "code",
   "execution_count": 13,
   "id": "d1811e18-8ee4-4118-9ba2-fe53b17ec20c",
   "metadata": {},
   "outputs": [],
   "source": [
    "\n",
    "\n",
    "\n",
    "job_path = \"/mnt/disks/data/fma/trains\"\n",
    "\n",
    "\n",
    "# In[15]:\n",
    "\n",
    "\n",
    "train_path = os.path.join(job_path,args.train_id)\n",
    "\n",
    "\n",
    "\n",
    "# In[16]:\n",
    "\n",
    "\n",
    "base_path = os.path.join(args.root_dir,\"fma\")\n",
    "\n",
    "\n",
    "# In[17]:\n",
    "\n",
    "metadata_path_fma = os.path.join(base_path,\"fma_metadata\")\n",
    "\n"
   ]
  },
  {
   "cell_type": "code",
   "execution_count": 123,
   "id": "fbf453f9-1353-4eb4-8e28-196ecbf04a2e",
   "metadata": {},
   "outputs": [],
   "source": [
    "# Cria um dicionário que associa o ID de cada música aos IDs de seus gêneros musicais\n",
    "tracks_df = pd.read_csv(os.path.join(metadata_path_fma,'tracks.csv'), header=[0,1], index_col=0)"
   ]
  },
  {
   "cell_type": "code",
   "execution_count": 124,
   "id": "bc29a297-f00c-4990-9945-9572229a66d7",
   "metadata": {},
   "outputs": [],
   "source": [
    "tracks_df.columns = ['_'.join(col) for col in tracks_df.columns.values]"
   ]
  },
  {
   "cell_type": "code",
   "execution_count": 125,
   "id": "70fcf0d6-d21d-45f2-993a-360bc4b1f8bd",
   "metadata": {},
   "outputs": [
    {
     "data": {
      "text/plain": [
       "track_id\n",
       "2                  [21]\n",
       "3                  [21]\n",
       "5                  [21]\n",
       "10                 [10]\n",
       "20            [76, 103]\n",
       "              ...      \n",
       "155316             [25]\n",
       "155317             [25]\n",
       "155318             [25]\n",
       "155319             [25]\n",
       "155320    [10, 12, 169]\n",
       "Name: track_genres, Length: 106574, dtype: object"
      ]
     },
     "execution_count": 125,
     "metadata": {},
     "output_type": "execute_result"
    }
   ],
   "source": [
    "tracks_df.track_genres"
   ]
  },
  {
   "cell_type": "code",
   "execution_count": 126,
   "id": "3a0f6d4c-3973-4051-bf4e-6608d56c6ffd",
   "metadata": {},
   "outputs": [
    {
     "data": {
      "text/plain": [
       "[21]                    2735\n",
       "[15]                    2689\n",
       "[]                      2231\n",
       "[12]                    1896\n",
       "[1, 30, 38, 41, 247]    1633\n",
       "                        ... \n",
       "[12, 542]                  1\n",
       "[92, 602]                  1\n",
       "[102, 189]                 1\n",
       "[14, 30, 92]               1\n",
       "[10, 12, 169]              1\n",
       "Name: track_genres, Length: 4768, dtype: int64"
      ]
     },
     "execution_count": 126,
     "metadata": {},
     "output_type": "execute_result"
    }
   ],
   "source": [
    "tracks_df.track_genres.value_counts()"
   ]
  },
  {
   "cell_type": "code",
   "execution_count": 129,
   "id": "f3e0e5a5-29b3-4123-bfb7-b40fcfa3b0d3",
   "metadata": {},
   "outputs": [],
   "source": [
    "tracks_df.reset_index(inplace=True)"
   ]
  },
  {
   "cell_type": "code",
   "execution_count": 132,
   "id": "c30ec398-b80f-46fe-ab92-1016faa69ae9",
   "metadata": {},
   "outputs": [],
   "source": [
    "tracks_df = tracks_df[['track_id','track_title']]"
   ]
  },
  {
   "cell_type": "code",
   "execution_count": 133,
   "id": "ef8eae9d-541a-4bad-9e59-c0bf679acef2",
   "metadata": {},
   "outputs": [],
   "source": [
    "## Fazer o valid genre aqui"
   ]
  },
  {
   "cell_type": "code",
   "execution_count": 49,
   "id": "7e8cdb2d-d559-4ece-b969-3bccbdfe0391",
   "metadata": {},
   "outputs": [],
   "source": [
    "def valid_music(file_path):\n",
    "    try:\n",
    "        # we start by instantiating the audio loader:\n",
    "        loader = MonoLoader(filename=file_path)\n",
    "\n",
    "        return True\n",
    "    except:\n",
    "        return False"
   ]
  },
  {
   "cell_type": "code",
   "execution_count": 141,
   "id": "8f7b12c5-30ba-478a-a859-38271e2e7a6f",
   "metadata": {},
   "outputs": [
    {
     "data": {
      "text/plain": [
       "True"
      ]
     },
     "execution_count": 141,
     "metadata": {},
     "output_type": "execute_result"
    }
   ],
   "source": [
    "valid_music('/mnt/disks/data/fma/fma_large/000/000002.mp3')"
   ]
  },
  {
   "cell_type": "code",
   "execution_count": 138,
   "id": "7469ebf5-217b-4548-afb5-c92862834fc0",
   "metadata": {},
   "outputs": [],
   "source": [
    "valid_df = pd.read_csv(os.path.join(train_path,'tracks_genres_id_full_valid.csv'))"
   ]
  },
  {
   "cell_type": "code",
   "execution_count": 141,
   "id": "ad132cf1-93c3-4bce-a256-55d4b6aa8bc6",
   "metadata": {},
   "outputs": [
    {
     "data": {
      "text/html": [
       "<div>\n",
       "<style scoped>\n",
       "    .dataframe tbody tr th:only-of-type {\n",
       "        vertical-align: middle;\n",
       "    }\n",
       "\n",
       "    .dataframe tbody tr th {\n",
       "        vertical-align: top;\n",
       "    }\n",
       "\n",
       "    .dataframe thead th {\n",
       "        text-align: right;\n",
       "    }\n",
       "</style>\n",
       "<table border=\"1\" class=\"dataframe\">\n",
       "  <thead>\n",
       "    <tr style=\"text-align: right;\">\n",
       "      <th></th>\n",
       "      <th>track_id</th>\n",
       "      <th>valid_genre</th>\n",
       "    </tr>\n",
       "  </thead>\n",
       "  <tbody>\n",
       "    <tr>\n",
       "      <th>0</th>\n",
       "      <td>2.0</td>\n",
       "      <td>['21']</td>\n",
       "    </tr>\n",
       "    <tr>\n",
       "      <th>1</th>\n",
       "      <td>3.0</td>\n",
       "      <td>['21']</td>\n",
       "    </tr>\n",
       "    <tr>\n",
       "      <th>2</th>\n",
       "      <td>5.0</td>\n",
       "      <td>['21']</td>\n",
       "    </tr>\n",
       "    <tr>\n",
       "      <th>3</th>\n",
       "      <td>10.0</td>\n",
       "      <td>['10']</td>\n",
       "    </tr>\n",
       "    <tr>\n",
       "      <th>4</th>\n",
       "      <td>20.0</td>\n",
       "      <td>['76', '103']</td>\n",
       "    </tr>\n",
       "    <tr>\n",
       "      <th>...</th>\n",
       "      <td>...</td>\n",
       "      <td>...</td>\n",
       "    </tr>\n",
       "    <tr>\n",
       "      <th>104181</th>\n",
       "      <td>155316.0</td>\n",
       "      <td>['25']</td>\n",
       "    </tr>\n",
       "    <tr>\n",
       "      <th>104182</th>\n",
       "      <td>155317.0</td>\n",
       "      <td>['25']</td>\n",
       "    </tr>\n",
       "    <tr>\n",
       "      <th>104183</th>\n",
       "      <td>155318.0</td>\n",
       "      <td>['25']</td>\n",
       "    </tr>\n",
       "    <tr>\n",
       "      <th>104184</th>\n",
       "      <td>155319.0</td>\n",
       "      <td>['25']</td>\n",
       "    </tr>\n",
       "    <tr>\n",
       "      <th>104185</th>\n",
       "      <td>155320.0</td>\n",
       "      <td>['10', '12', '169']</td>\n",
       "    </tr>\n",
       "  </tbody>\n",
       "</table>\n",
       "<p>104186 rows × 2 columns</p>\n",
       "</div>"
      ],
      "text/plain": [
       "        track_id          valid_genre\n",
       "0            2.0               ['21']\n",
       "1            3.0               ['21']\n",
       "2            5.0               ['21']\n",
       "3           10.0               ['10']\n",
       "4           20.0        ['76', '103']\n",
       "...          ...                  ...\n",
       "104181  155316.0               ['25']\n",
       "104182  155317.0               ['25']\n",
       "104183  155318.0               ['25']\n",
       "104184  155319.0               ['25']\n",
       "104185  155320.0  ['10', '12', '169']\n",
       "\n",
       "[104186 rows x 2 columns]"
      ]
     },
     "execution_count": 141,
     "metadata": {},
     "output_type": "execute_result"
    }
   ],
   "source": [
    "valid_df"
   ]
  },
  {
   "cell_type": "code",
   "execution_count": 140,
   "id": "cc81adaa-f4e3-4d64-a3de-7e015ce59dc5",
   "metadata": {},
   "outputs": [],
   "source": [
    "valid_df = valid_df[['track_id','valid_genre']]"
   ]
  },
  {
   "cell_type": "code",
   "execution_count": 142,
   "id": "aac6eb0f-50fe-465b-a44c-91a3fee3ffdb",
   "metadata": {},
   "outputs": [],
   "source": [
    "df_merge = pd.merge(tracks_df,valid_df,on='track_id')"
   ]
  },
  {
   "cell_type": "code",
   "execution_count": 143,
   "id": "fc32e30d-1a0d-45e7-a2bd-7b9c15509873",
   "metadata": {},
   "outputs": [
    {
     "data": {
      "text/plain": [
       "array([\"['21']\", \"['21']\", \"['21']\", ..., \"['25']\", \"['25']\",\n",
       "       \"['10', '12', '169']\"], dtype=object)"
      ]
     },
     "execution_count": 143,
     "metadata": {},
     "output_type": "execute_result"
    }
   ],
   "source": [
    "df_merge.valid_genre.values"
   ]
  },
  {
   "cell_type": "code",
   "execution_count": 144,
   "id": "ac841fe3-ce1e-498c-a9ea-120b1850fc27",
   "metadata": {},
   "outputs": [],
   "source": [
    "df_merge.to_csv(os.path.join(metadata_path_fma,'tracks_valid.csv'),index=False)"
   ]
  },
  {
   "cell_type": "code",
   "execution_count": null,
   "id": "6b485094-6a6c-40c4-9260-a4f7dcc042a3",
   "metadata": {},
   "outputs": [],
   "source": []
  }
 ],
 "metadata": {
  "kernelspec": {
   "display_name": "Python 3 (ipykernel)",
   "language": "python",
   "name": "python3"
  },
  "language_info": {
   "codemirror_mode": {
    "name": "ipython",
    "version": 3
   },
   "file_extension": ".py",
   "mimetype": "text/x-python",
   "name": "python",
   "nbconvert_exporter": "python",
   "pygments_lexer": "ipython3",
   "version": "3.9.16"
  }
 },
 "nbformat": 4,
 "nbformat_minor": 5
}
