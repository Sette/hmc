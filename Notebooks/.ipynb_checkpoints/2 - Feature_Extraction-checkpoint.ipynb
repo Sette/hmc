{
 "cells": [
  {
   "cell_type": "code",
   "execution_count": 1,
   "id": "f540b855-be15-4cf6-a417-e7fe57053e07",
   "metadata": {
    "collapsed": true,
    "jupyter": {
     "outputs_hidden": true
    },
    "tags": []
   },
   "outputs": [
    {
     "name": "stderr",
     "output_type": "stream",
     "text": [
      "2023-01-27 14:22:34.705429: I tensorflow/core/platform/cpu_feature_guard.cc:193] This TensorFlow binary is optimized with oneAPI Deep Neural Network Library (oneDNN) to use the following CPU instructions in performance-critical operations:  AVX2 AVX512F FMA\n",
      "To enable them in other operations, rebuild TensorFlow with the appropriate compiler flags.\n",
      "2023-01-27 14:22:34.865643: E tensorflow/stream_executor/cuda/cuda_blas.cc:2981] Unable to register cuBLAS factory: Attempting to register factory for plugin cuBLAS when one has already been registered\n",
      "2023-01-27 14:22:35.379443: W tensorflow/stream_executor/platform/default/dso_loader.cc:64] Could not load dynamic library 'libnvinfer.so.7'; dlerror: libnvinfer.so.7: cannot open shared object file: No such file or directory; LD_LIBRARY_PATH: /usr/local/cuda-11.7/lib64:/usr/local/cuda-11.7/lib64:/usr/local/cuda-11.7/lib64:\n",
      "2023-01-27 14:22:35.379525: W tensorflow/stream_executor/platform/default/dso_loader.cc:64] Could not load dynamic library 'libnvinfer_plugin.so.7'; dlerror: libnvinfer_plugin.so.7: cannot open shared object file: No such file or directory; LD_LIBRARY_PATH: /usr/local/cuda-11.7/lib64:/usr/local/cuda-11.7/lib64:/usr/local/cuda-11.7/lib64:\n",
      "2023-01-27 14:22:35.379531: W tensorflow/compiler/tf2tensorrt/utils/py_utils.cc:38] TF-TRT Warning: Cannot dlopen some TensorRT libraries. If you would like to use Nvidia GPU with TensorRT, please make sure the missing libraries mentioned above are installed properly.\n",
      "2023-01-27 14:22:36.233375: I tensorflow/stream_executor/platform/default/dso_loader.cc:53] Successfully opened dynamic library libcudart.so.11.0\n",
      "[   INFO   ] MusicExtractorSVM: no classifier models were configured by default\n",
      "2023-01-27 14:22:36.628337: I tensorflow/core/platform/cpu_feature_guard.cc:142] This TensorFlow binary is optimized with oneAPI Deep Neural Network Library (oneDNN) to use the following CPU instructions in performance-critical operations:  SSE3 SSE4.1 SSE4.2 AVX AVX2 AVX512F FMA\n",
      "To enable them in other operations, rebuild TensorFlow with the appropriate compiler flags.\n",
      "2023-01-27 14:22:36.630031: I tensorflow/stream_executor/platform/default/dso_loader.cc:53] Successfully opened dynamic library libcuda.so.1\n",
      "2023-01-27 14:22:36.718575: I tensorflow/core/common_runtime/gpu/gpu_device.cc:1733] Found device 0 with properties: \n",
      "pciBusID: 0000:65:00.0 name: NVIDIA GeForce RTX 2080 Ti computeCapability: 7.5\n",
      "coreClock: 1.65GHz coreCount: 68 deviceMemorySize: 10.76GiB deviceMemoryBandwidth: 573.69GiB/s\n",
      "2023-01-27 14:22:36.718611: I tensorflow/stream_executor/platform/default/dso_loader.cc:53] Successfully opened dynamic library libcudart.so.11.0\n",
      "2023-01-27 14:22:36.723311: I tensorflow/stream_executor/platform/default/dso_loader.cc:53] Successfully opened dynamic library libcublas.so.11\n",
      "2023-01-27 14:22:36.723402: I tensorflow/stream_executor/platform/default/dso_loader.cc:53] Successfully opened dynamic library libcublasLt.so.11\n",
      "2023-01-27 14:22:36.744572: I tensorflow/stream_executor/platform/default/dso_loader.cc:53] Successfully opened dynamic library libcufft.so.10\n",
      "2023-01-27 14:22:36.744899: I tensorflow/stream_executor/platform/default/dso_loader.cc:53] Successfully opened dynamic library libcurand.so.10\n",
      "2023-01-27 14:22:36.745407: I tensorflow/stream_executor/platform/default/dso_loader.cc:53] Successfully opened dynamic library libcusolver.so.11\n",
      "2023-01-27 14:22:36.746056: I tensorflow/stream_executor/platform/default/dso_loader.cc:53] Successfully opened dynamic library libcusparse.so.11\n",
      "2023-01-27 14:22:36.746218: I tensorflow/stream_executor/platform/default/dso_loader.cc:53] Successfully opened dynamic library libcudnn.so.8\n",
      "2023-01-27 14:22:36.746589: I tensorflow/core/common_runtime/gpu/gpu_device.cc:1871] Adding visible gpu devices: 0\n",
      "2023-01-27 14:22:37.744439: I tensorflow/core/common_runtime/gpu/gpu_device.cc:1258] Device interconnect StreamExecutor with strength 1 edge matrix:\n",
      "2023-01-27 14:22:37.744457: I tensorflow/core/common_runtime/gpu/gpu_device.cc:1264]      0 \n",
      "2023-01-27 14:22:37.744462: I tensorflow/core/common_runtime/gpu/gpu_device.cc:1277] 0:   N \n",
      "2023-01-27 14:22:37.745075: I tensorflow/core/common_runtime/gpu/gpu_device.cc:1418] Created TensorFlow device (/job:localhost/replica:0/task:0/device:GPU:0 with 9497 MB memory) -> physical GPU (device: 0, name: NVIDIA GeForce RTX 2080 Ti, pci bus id: 0000:65:00.0, compute capability: 7.5)\n",
      "2023-01-27 14:22:37.755698: I tensorflow/core/common_runtime/gpu/gpu_device.cc:1733] Found device 0 with properties: \n",
      "pciBusID: 0000:65:00.0 name: NVIDIA GeForce RTX 2080 Ti computeCapability: 7.5\n",
      "coreClock: 1.65GHz coreCount: 68 deviceMemorySize: 10.76GiB deviceMemoryBandwidth: 573.69GiB/s\n",
      "2023-01-27 14:22:37.756485: I tensorflow/core/common_runtime/gpu/gpu_device.cc:1871] Adding visible gpu devices: 0\n",
      "2023-01-27 14:22:37.756525: I tensorflow/core/common_runtime/gpu/gpu_device.cc:1258] Device interconnect StreamExecutor with strength 1 edge matrix:\n",
      "2023-01-27 14:22:37.756540: I tensorflow/core/common_runtime/gpu/gpu_device.cc:1264]      0 \n",
      "2023-01-27 14:22:37.756553: I tensorflow/core/common_runtime/gpu/gpu_device.cc:1277] 0:   N \n",
      "2023-01-27 14:22:37.757386: I tensorflow/core/common_runtime/gpu/gpu_device.cc:1418] Created TensorFlow device (/job:localhost/replica:0/task:0/device:GPU:0 with 9497 MB memory) -> physical GPU (device: 0, name: NVIDIA GeForce RTX 2080 Ti, pci bus id: 0000:65:00.0, compute capability: 7.5)\n",
      "2023-01-27 14:22:37.760619: I tensorflow/core/common_runtime/gpu/gpu_device.cc:1733] Found device 0 with properties: \n",
      "pciBusID: 0000:65:00.0 name: NVIDIA GeForce RTX 2080 Ti computeCapability: 7.5\n",
      "coreClock: 1.65GHz coreCount: 68 deviceMemorySize: 10.76GiB deviceMemoryBandwidth: 573.69GiB/s\n",
      "2023-01-27 14:22:37.761387: I tensorflow/core/common_runtime/gpu/gpu_device.cc:1871] Adding visible gpu devices: 0\n",
      "2023-01-27 14:22:37.761424: I tensorflow/core/common_runtime/gpu/gpu_device.cc:1258] Device interconnect StreamExecutor with strength 1 edge matrix:\n",
      "2023-01-27 14:22:37.761438: I tensorflow/core/common_runtime/gpu/gpu_device.cc:1264]      0 \n",
      "2023-01-27 14:22:37.761451: I tensorflow/core/common_runtime/gpu/gpu_device.cc:1277] 0:   N \n",
      "2023-01-27 14:22:37.762238: I tensorflow/core/common_runtime/gpu/gpu_device.cc:1418] Created TensorFlow device (/job:localhost/replica:0/task:0/device:GPU:0 with 9497 MB memory) -> physical GPU (device: 0, name: NVIDIA GeForce RTX 2080 Ti, pci bus id: 0000:65:00.0, compute capability: 7.5)\n",
      "2023-01-27 14:22:38.105315: I tensorflow/core/common_runtime/gpu/gpu_device.cc:1733] Found device 0 with properties: \n",
      "pciBusID: 0000:65:00.0 name: NVIDIA GeForce RTX 2080 Ti computeCapability: 7.5\n",
      "coreClock: 1.65GHz coreCount: 68 deviceMemorySize: 10.76GiB deviceMemoryBandwidth: 573.69GiB/s\n",
      "2023-01-27 14:22:38.105611: I tensorflow/core/common_runtime/gpu/gpu_device.cc:1871] Adding visible gpu devices: 0\n",
      "2023-01-27 14:22:38.105632: I tensorflow/core/common_runtime/gpu/gpu_device.cc:1258] Device interconnect StreamExecutor with strength 1 edge matrix:\n",
      "2023-01-27 14:22:38.105637: I tensorflow/core/common_runtime/gpu/gpu_device.cc:1264]      0 \n",
      "2023-01-27 14:22:38.105641: I tensorflow/core/common_runtime/gpu/gpu_device.cc:1277] 0:   N \n",
      "2023-01-27 14:22:38.105906: I tensorflow/core/common_runtime/gpu/gpu_device.cc:1418] Created TensorFlow device (/job:localhost/replica:0/task:0/device:GPU:0 with 9497 MB memory) -> physical GPU (device: 0, name: NVIDIA GeForce RTX 2080 Ti, pci bus id: 0000:65:00.0, compute capability: 7.5)\n",
      "2023-01-27 14:22:38.113181: I tensorflow/core/common_runtime/gpu/gpu_device.cc:1733] Found device 0 with properties: \n",
      "pciBusID: 0000:65:00.0 name: NVIDIA GeForce RTX 2080 Ti computeCapability: 7.5\n",
      "coreClock: 1.65GHz coreCount: 68 deviceMemorySize: 10.76GiB deviceMemoryBandwidth: 573.69GiB/s\n",
      "2023-01-27 14:22:38.113450: I tensorflow/core/common_runtime/gpu/gpu_device.cc:1871] Adding visible gpu devices: 0\n",
      "2023-01-27 14:22:38.113471: I tensorflow/core/common_runtime/gpu/gpu_device.cc:1258] Device interconnect StreamExecutor with strength 1 edge matrix:\n",
      "2023-01-27 14:22:38.113475: I tensorflow/core/common_runtime/gpu/gpu_device.cc:1264]      0 \n",
      "2023-01-27 14:22:38.113478: I tensorflow/core/common_runtime/gpu/gpu_device.cc:1277] 0:   N \n",
      "2023-01-27 14:22:38.113723: I tensorflow/core/common_runtime/gpu/gpu_device.cc:1418] Created TensorFlow device (/job:localhost/replica:0/task:0/device:GPU:0 with 9497 MB memory) -> physical GPU (device: 0, name: NVIDIA GeForce RTX 2080 Ti, pci bus id: 0000:65:00.0, compute capability: 7.5)\n",
      "2023-01-27 14:22:38.116642: I tensorflow/core/common_runtime/gpu/gpu_device.cc:1733] Found device 0 with properties: \n",
      "pciBusID: 0000:65:00.0 name: NVIDIA GeForce RTX 2080 Ti computeCapability: 7.5\n",
      "coreClock: 1.65GHz coreCount: 68 deviceMemorySize: 10.76GiB deviceMemoryBandwidth: 573.69GiB/s\n",
      "2023-01-27 14:22:38.116919: I tensorflow/core/common_runtime/gpu/gpu_device.cc:1871] Adding visible gpu devices: 0\n",
      "2023-01-27 14:22:38.116939: I tensorflow/core/common_runtime/gpu/gpu_device.cc:1258] Device interconnect StreamExecutor with strength 1 edge matrix:\n",
      "2023-01-27 14:22:38.116944: I tensorflow/core/common_runtime/gpu/gpu_device.cc:1264]      0 \n",
      "2023-01-27 14:22:38.116948: I tensorflow/core/common_runtime/gpu/gpu_device.cc:1277] 0:   N \n",
      "2023-01-27 14:22:38.117209: I tensorflow/core/common_runtime/gpu/gpu_device.cc:1418] Created TensorFlow device (/job:localhost/replica:0/task:0/device:GPU:0 with 9497 MB memory) -> physical GPU (device: 0, name: NVIDIA GeForce RTX 2080 Ti, pci bus id: 0000:65:00.0, compute capability: 7.5)\n",
      "2023-01-27 14:22:38.121891: I tensorflow/core/common_runtime/gpu/gpu_device.cc:1733] Found device 0 with properties: \n",
      "pciBusID: 0000:65:00.0 name: NVIDIA GeForce RTX 2080 Ti computeCapability: 7.5\n",
      "coreClock: 1.65GHz coreCount: 68 deviceMemorySize: 10.76GiB deviceMemoryBandwidth: 573.69GiB/s\n",
      "2023-01-27 14:22:38.122169: I tensorflow/core/common_runtime/gpu/gpu_device.cc:1871] Adding visible gpu devices: 0\n",
      "2023-01-27 14:22:38.122188: I tensorflow/core/common_runtime/gpu/gpu_device.cc:1258] Device interconnect StreamExecutor with strength 1 edge matrix:\n",
      "2023-01-27 14:22:38.122192: I tensorflow/core/common_runtime/gpu/gpu_device.cc:1264]      0 \n",
      "2023-01-27 14:22:38.122198: I tensorflow/core/common_runtime/gpu/gpu_device.cc:1277] 0:   N \n",
      "2023-01-27 14:22:38.122464: I tensorflow/core/common_runtime/gpu/gpu_device.cc:1418] Created TensorFlow device (/job:localhost/replica:0/task:0/device:GPU:0 with 9497 MB memory) -> physical GPU (device: 0, name: NVIDIA GeForce RTX 2080 Ti, pci bus id: 0000:65:00.0, compute capability: 7.5)\n",
      "2023-01-27 14:22:38.122887: I tensorflow/core/common_runtime/gpu/gpu_device.cc:1733] Found device 0 with properties: \n",
      "pciBusID: 0000:65:00.0 name: NVIDIA GeForce RTX 2080 Ti computeCapability: 7.5\n",
      "coreClock: 1.65GHz coreCount: 68 deviceMemorySize: 10.76GiB deviceMemoryBandwidth: 573.69GiB/s\n",
      "2023-01-27 14:22:38.123137: I tensorflow/core/common_runtime/gpu/gpu_device.cc:1871] Adding visible gpu devices: 0\n",
      "2023-01-27 14:22:38.123149: I tensorflow/core/common_runtime/gpu/gpu_device.cc:1258] Device interconnect StreamExecutor with strength 1 edge matrix:\n",
      "2023-01-27 14:22:38.123154: I tensorflow/core/common_runtime/gpu/gpu_device.cc:1264]      0 \n",
      "2023-01-27 14:22:38.123157: I tensorflow/core/common_runtime/gpu/gpu_device.cc:1277] 0:   N \n",
      "2023-01-27 14:22:38.123427: I tensorflow/core/common_runtime/gpu/gpu_device.cc:1418] Created TensorFlow device (/job:localhost/replica:0/task:0/device:GPU:0 with 9497 MB memory) -> physical GPU (device: 0, name: NVIDIA GeForce RTX 2080 Ti, pci bus id: 0000:65:00.0, compute capability: 7.5)\n",
      "2023-01-27 14:22:38.124753: I tensorflow/core/common_runtime/gpu/gpu_device.cc:1733] Found device 0 with properties: \n",
      "pciBusID: 0000:65:00.0 name: NVIDIA GeForce RTX 2080 Ti computeCapability: 7.5\n",
      "coreClock: 1.65GHz coreCount: 68 deviceMemorySize: 10.76GiB deviceMemoryBandwidth: 573.69GiB/s\n",
      "2023-01-27 14:22:38.124979: I tensorflow/core/common_runtime/gpu/gpu_device.cc:1871] Adding visible gpu devices: 0\n",
      "2023-01-27 14:22:38.124989: I tensorflow/core/common_runtime/gpu/gpu_device.cc:1258] Device interconnect StreamExecutor with strength 1 edge matrix:\n",
      "2023-01-27 14:22:38.124993: I tensorflow/core/common_runtime/gpu/gpu_device.cc:1264]      0 \n",
      "2023-01-27 14:22:38.124997: I tensorflow/core/common_runtime/gpu/gpu_device.cc:1277] 0:   N \n",
      "2023-01-27 14:22:38.125228: I tensorflow/core/common_runtime/gpu/gpu_device.cc:1418] Created TensorFlow device (/job:localhost/replica:0/task:0/device:GPU:0 with 9497 MB memory) -> physical GPU (device: 0, name: NVIDIA GeForce RTX 2080 Ti, pci bus id: 0000:65:00.0, compute capability: 7.5)\n",
      "2023-01-27 14:22:38.126815: I tensorflow/core/common_runtime/gpu/gpu_device.cc:1733] Found device 0 with properties: \n",
      "pciBusID: 0000:65:00.0 name: NVIDIA GeForce RTX 2080 Ti computeCapability: 7.5\n",
      "coreClock: 1.65GHz coreCount: 68 deviceMemorySize: 10.76GiB deviceMemoryBandwidth: 573.69GiB/s\n",
      "2023-01-27 14:22:38.127081: I tensorflow/core/common_runtime/gpu/gpu_device.cc:1871] Adding visible gpu devices: 0\n",
      "2023-01-27 14:22:38.127093: I tensorflow/core/common_runtime/gpu/gpu_device.cc:1258] Device interconnect StreamExecutor with strength 1 edge matrix:\n",
      "2023-01-27 14:22:38.127097: I tensorflow/core/common_runtime/gpu/gpu_device.cc:1264]      0 \n",
      "2023-01-27 14:22:38.127101: I tensorflow/core/common_runtime/gpu/gpu_device.cc:1277] 0:   N \n",
      "2023-01-27 14:22:38.127358: I tensorflow/core/common_runtime/gpu/gpu_device.cc:1418] Created TensorFlow device (/job:localhost/replica:0/task:0/device:GPU:0 with 9497 MB memory) -> physical GPU (device: 0, name: NVIDIA GeForce RTX 2080 Ti, pci bus id: 0000:65:00.0, compute capability: 7.5)\n",
      "2023-01-27 14:22:38.128595: I tensorflow/core/common_runtime/gpu/gpu_device.cc:1733] Found device 0 with properties: \n",
      "pciBusID: 0000:65:00.0 name: NVIDIA GeForce RTX 2080 Ti computeCapability: 7.5\n",
      "coreClock: 1.65GHz coreCount: 68 deviceMemorySize: 10.76GiB deviceMemoryBandwidth: 573.69GiB/s\n",
      "2023-01-27 14:22:38.128821: I tensorflow/core/common_runtime/gpu/gpu_device.cc:1871] Adding visible gpu devices: 0\n",
      "2023-01-27 14:22:38.128832: I tensorflow/core/common_runtime/gpu/gpu_device.cc:1258] Device interconnect StreamExecutor with strength 1 edge matrix:\n",
      "2023-01-27 14:22:38.128837: I tensorflow/core/common_runtime/gpu/gpu_device.cc:1264]      0 \n",
      "2023-01-27 14:22:38.128840: I tensorflow/core/common_runtime/gpu/gpu_device.cc:1277] 0:   N \n",
      "2023-01-27 14:22:38.129074: I tensorflow/core/common_runtime/gpu/gpu_device.cc:1418] Created TensorFlow device (/job:localhost/replica:0/task:0/device:GPU:0 with 9497 MB memory) -> physical GPU (device: 0, name: NVIDIA GeForce RTX 2080 Ti, pci bus id: 0000:65:00.0, compute capability: 7.5)\n",
      "2023-01-27 14:22:38.130862: I tensorflow/core/common_runtime/gpu/gpu_device.cc:1733] Found device 0 with properties: \n",
      "pciBusID: 0000:65:00.0 name: NVIDIA GeForce RTX 2080 Ti computeCapability: 7.5\n",
      "coreClock: 1.65GHz coreCount: 68 deviceMemorySize: 10.76GiB deviceMemoryBandwidth: 573.69GiB/s\n",
      "2023-01-27 14:22:38.131139: I tensorflow/core/common_runtime/gpu/gpu_device.cc:1871] Adding visible gpu devices: 0\n",
      "2023-01-27 14:22:38.131151: I tensorflow/core/common_runtime/gpu/gpu_device.cc:1258] Device interconnect StreamExecutor with strength 1 edge matrix:\n",
      "2023-01-27 14:22:38.131156: I tensorflow/core/common_runtime/gpu/gpu_device.cc:1264]      0 \n",
      "2023-01-27 14:22:38.131160: I tensorflow/core/common_runtime/gpu/gpu_device.cc:1277] 0:   N \n",
      "2023-01-27 14:22:38.131417: I tensorflow/core/common_runtime/gpu/gpu_device.cc:1418] Created TensorFlow device (/job:localhost/replica:0/task:0/device:GPU:0 with 9497 MB memory) -> physical GPU (device: 0, name: NVIDIA GeForce RTX 2080 Ti, pci bus id: 0000:65:00.0, compute capability: 7.5)\n",
      "2023-01-27 14:22:38.134223: I tensorflow/core/common_runtime/gpu/gpu_device.cc:1733] Found device 0 with properties: \n",
      "pciBusID: 0000:65:00.0 name: NVIDIA GeForce RTX 2080 Ti computeCapability: 7.5\n",
      "coreClock: 1.65GHz coreCount: 68 deviceMemorySize: 10.76GiB deviceMemoryBandwidth: 573.69GiB/s\n",
      "2023-01-27 14:22:38.134458: I tensorflow/core/common_runtime/gpu/gpu_device.cc:1871] Adding visible gpu devices: 0\n",
      "2023-01-27 14:22:38.134470: I tensorflow/core/common_runtime/gpu/gpu_device.cc:1258] Device interconnect StreamExecutor with strength 1 edge matrix:\n",
      "2023-01-27 14:22:38.134473: I tensorflow/core/common_runtime/gpu/gpu_device.cc:1264]      0 \n",
      "2023-01-27 14:22:38.134477: I tensorflow/core/common_runtime/gpu/gpu_device.cc:1277] 0:   N \n",
      "2023-01-27 14:22:38.134711: I tensorflow/core/common_runtime/gpu/gpu_device.cc:1418] Created TensorFlow device (/job:localhost/replica:0/task:0/device:GPU:0 with 9497 MB memory) -> physical GPU (device: 0, name: NVIDIA GeForce RTX 2080 Ti, pci bus id: 0000:65:00.0, compute capability: 7.5)\n",
      "2023-01-27 14:22:38.137982: I tensorflow/core/common_runtime/gpu/gpu_device.cc:1733] Found device 0 with properties: \n",
      "pciBusID: 0000:65:00.0 name: NVIDIA GeForce RTX 2080 Ti computeCapability: 7.5\n",
      "coreClock: 1.65GHz coreCount: 68 deviceMemorySize: 10.76GiB deviceMemoryBandwidth: 573.69GiB/s\n",
      "2023-01-27 14:22:38.138243: I tensorflow/core/common_runtime/gpu/gpu_device.cc:1871] Adding visible gpu devices: 0\n",
      "2023-01-27 14:22:38.138257: I tensorflow/core/common_runtime/gpu/gpu_device.cc:1258] Device interconnect StreamExecutor with strength 1 edge matrix:\n",
      "2023-01-27 14:22:38.138261: I tensorflow/core/common_runtime/gpu/gpu_device.cc:1264]      0 \n",
      "2023-01-27 14:22:38.138265: I tensorflow/core/common_runtime/gpu/gpu_device.cc:1277] 0:   N \n",
      "2023-01-27 14:22:38.138537: I tensorflow/core/common_runtime/gpu/gpu_device.cc:1418] Created TensorFlow device (/job:localhost/replica:0/task:0/device:GPU:0 with 9497 MB memory) -> physical GPU (device: 0, name: NVIDIA GeForce RTX 2080 Ti, pci bus id: 0000:65:00.0, compute capability: 7.5)\n",
      "2023-01-27 14:22:38.141460: I tensorflow/core/common_runtime/gpu/gpu_device.cc:1733] Found device 0 with properties: \n",
      "pciBusID: 0000:65:00.0 name: NVIDIA GeForce RTX 2080 Ti computeCapability: 7.5\n",
      "coreClock: 1.65GHz coreCount: 68 deviceMemorySize: 10.76GiB deviceMemoryBandwidth: 573.69GiB/s\n",
      "2023-01-27 14:22:38.141724: I tensorflow/core/common_runtime/gpu/gpu_device.cc:1871] Adding visible gpu devices: 0\n",
      "2023-01-27 14:22:38.141740: I tensorflow/core/common_runtime/gpu/gpu_device.cc:1258] Device interconnect StreamExecutor with strength 1 edge matrix:\n",
      "2023-01-27 14:22:38.141745: I tensorflow/core/common_runtime/gpu/gpu_device.cc:1264]      0 \n",
      "2023-01-27 14:22:38.141749: I tensorflow/core/common_runtime/gpu/gpu_device.cc:1277] 0:   N \n",
      "2023-01-27 14:22:38.142006: I tensorflow/core/common_runtime/gpu/gpu_device.cc:1418] Created TensorFlow device (/job:localhost/replica:0/task:0/device:GPU:0 with 9497 MB memory) -> physical GPU (device: 0, name: NVIDIA GeForce RTX 2080 Ti, pci bus id: 0000:65:00.0, compute capability: 7.5)\n",
      "2023-01-27 14:22:38.145257: I tensorflow/core/common_runtime/gpu/gpu_device.cc:1733] Found device 0 with properties: \n",
      "pciBusID: 0000:65:00.0 name: NVIDIA GeForce RTX 2080 Ti computeCapability: 7.5\n",
      "coreClock: 1.65GHz coreCount: 68 deviceMemorySize: 10.76GiB deviceMemoryBandwidth: 573.69GiB/s\n",
      "2023-01-27 14:22:38.145520: I tensorflow/core/common_runtime/gpu/gpu_device.cc:1871] Adding visible gpu devices: 0\n",
      "2023-01-27 14:22:38.145537: I tensorflow/core/common_runtime/gpu/gpu_device.cc:1258] Device interconnect StreamExecutor with strength 1 edge matrix:\n",
      "2023-01-27 14:22:38.145541: I tensorflow/core/common_runtime/gpu/gpu_device.cc:1264]      0 \n",
      "2023-01-27 14:22:38.145545: I tensorflow/core/common_runtime/gpu/gpu_device.cc:1277] 0:   N \n",
      "2023-01-27 14:22:38.145821: I tensorflow/core/common_runtime/gpu/gpu_device.cc:1418] Created TensorFlow device (/job:localhost/replica:0/task:0/device:GPU:0 with 9497 MB memory) -> physical GPU (device: 0, name: NVIDIA GeForce RTX 2080 Ti, pci bus id: 0000:65:00.0, compute capability: 7.5)\n",
      "2023-01-27 14:22:38.148724: I tensorflow/core/common_runtime/gpu/gpu_device.cc:1733] Found device 0 with properties: \n",
      "pciBusID: 0000:65:00.0 name: NVIDIA GeForce RTX 2080 Ti computeCapability: 7.5\n",
      "coreClock: 1.65GHz coreCount: 68 deviceMemorySize: 10.76GiB deviceMemoryBandwidth: 573.69GiB/s\n",
      "2023-01-27 14:22:38.149011: I tensorflow/core/common_runtime/gpu/gpu_device.cc:1871] Adding visible gpu devices: 0\n",
      "2023-01-27 14:22:38.149028: I tensorflow/core/common_runtime/gpu/gpu_device.cc:1258] Device interconnect StreamExecutor with strength 1 edge matrix:\n",
      "2023-01-27 14:22:38.149033: I tensorflow/core/common_runtime/gpu/gpu_device.cc:1264]      0 \n",
      "2023-01-27 14:22:38.149037: I tensorflow/core/common_runtime/gpu/gpu_device.cc:1277] 0:   N \n",
      "2023-01-27 14:22:38.149300: I tensorflow/core/common_runtime/gpu/gpu_device.cc:1418] Created TensorFlow device (/job:localhost/replica:0/task:0/device:GPU:0 with 9497 MB memory) -> physical GPU (device: 0, name: NVIDIA GeForce RTX 2080 Ti, pci bus id: 0000:65:00.0, compute capability: 7.5)\n",
      "2023-01-27 14:22:38.152751: I tensorflow/core/common_runtime/gpu/gpu_device.cc:1733] Found device 0 with properties: \n",
      "pciBusID: 0000:65:00.0 name: NVIDIA GeForce RTX 2080 Ti computeCapability: 7.5\n",
      "coreClock: 1.65GHz coreCount: 68 deviceMemorySize: 10.76GiB deviceMemoryBandwidth: 573.69GiB/s\n",
      "2023-01-27 14:22:38.152997: I tensorflow/core/common_runtime/gpu/gpu_device.cc:1871] Adding visible gpu devices: 0\n",
      "2023-01-27 14:22:38.153014: I tensorflow/core/common_runtime/gpu/gpu_device.cc:1258] Device interconnect StreamExecutor with strength 1 edge matrix:\n",
      "2023-01-27 14:22:38.153018: I tensorflow/core/common_runtime/gpu/gpu_device.cc:1264]      0 \n",
      "2023-01-27 14:22:38.153022: I tensorflow/core/common_runtime/gpu/gpu_device.cc:1277] 0:   N \n",
      "2023-01-27 14:22:38.153263: I tensorflow/core/common_runtime/gpu/gpu_device.cc:1418] Created TensorFlow device (/job:localhost/replica:0/task:0/device:GPU:0 with 9497 MB memory) -> physical GPU (device: 0, name: NVIDIA GeForce RTX 2080 Ti, pci bus id: 0000:65:00.0, compute capability: 7.5)\n",
      "2023-01-27 14:22:38.156189: I tensorflow/core/common_runtime/gpu/gpu_device.cc:1733] Found device 0 with properties: \n",
      "pciBusID: 0000:65:00.0 name: NVIDIA GeForce RTX 2080 Ti computeCapability: 7.5\n",
      "coreClock: 1.65GHz coreCount: 68 deviceMemorySize: 10.76GiB deviceMemoryBandwidth: 573.69GiB/s\n",
      "2023-01-27 14:22:38.156463: I tensorflow/core/common_runtime/gpu/gpu_device.cc:1871] Adding visible gpu devices: 0\n",
      "2023-01-27 14:22:38.156480: I tensorflow/core/common_runtime/gpu/gpu_device.cc:1258] Device interconnect StreamExecutor with strength 1 edge matrix:\n",
      "2023-01-27 14:22:38.156485: I tensorflow/core/common_runtime/gpu/gpu_device.cc:1264]      0 \n",
      "2023-01-27 14:22:38.156489: I tensorflow/core/common_runtime/gpu/gpu_device.cc:1277] 0:   N \n",
      "2023-01-27 14:22:38.156764: I tensorflow/core/common_runtime/gpu/gpu_device.cc:1418] Created TensorFlow device (/job:localhost/replica:0/task:0/device:GPU:0 with 9497 MB memory) -> physical GPU (device: 0, name: NVIDIA GeForce RTX 2080 Ti, pci bus id: 0000:65:00.0, compute capability: 7.5)\n"
     ]
    }
   ],
   "source": [
    "import os\n",
    "import csv\n",
    "import pandas as pd\n",
    "import numpy as np\n",
    "import tensorflow as tf\n",
    "from math import ceil\n",
    "from sklearn.utils import shuffle\n",
    "\n",
    "from tqdm.notebook import tqdm\n",
    "\n",
    "from essentia.standard import MonoLoader, TensorflowPredictEffnetDiscogs\n",
    "from sklearn.model_selection import train_test_split"
   ]
  },
  {
   "cell_type": "markdown",
   "id": "31323e06-4735-4321-8303-748f661831cd",
   "metadata": {},
   "source": [
    "#### Remove depreciated package and install from official repository of essentia"
   ]
  },
  {
   "cell_type": "code",
   "execution_count": 2,
   "id": "729b6931-1b7a-41df-9cb3-aa6de9a48b14",
   "metadata": {},
   "outputs": [],
   "source": [
    "# !pip uninstall essentia-tensorflow -y"
   ]
  },
  {
   "cell_type": "code",
   "execution_count": 3,
   "id": "9c14160e-af3a-467b-8238-61c340cfe9e5",
   "metadata": {},
   "outputs": [],
   "source": [
    "# !pip install -f https://essentia.upf.edu/python-wheels/ essentia-tensorflow --no-cache-dir"
   ]
  },
  {
   "cell_type": "markdown",
   "id": "6292a842-bfbe-4f6b-8726-0d4a38291857",
   "metadata": {
    "tags": []
   },
   "source": [
    "### Define paths"
   ]
  },
  {
   "cell_type": "code",
   "execution_count": 4,
   "id": "c39a1001-0493-417d-9b48-ff5376b4f4a3",
   "metadata": {},
   "outputs": [],
   "source": [
    "args = pd.Series({\n",
    "    \"root_dir\":\"/mnt/disks/data/\",\n",
    "    \"embeddings\":\"music_style\",\n",
    "    \"train_id\": \"global_sample_test\"\n",
    "})"
   ]
  },
  {
   "cell_type": "code",
   "execution_count": 5,
   "id": "4ae8e2b4-9ae9-4b53-86b1-7dee24971edf",
   "metadata": {},
   "outputs": [],
   "source": [
    "train_id = \"global_sample_test\""
   ]
  },
  {
   "cell_type": "code",
   "execution_count": 13,
   "id": "d316f9f5-c1f8-4144-8604-46e7a3f15e68",
   "metadata": {},
   "outputs": [],
   "source": [
    "sample_size = 0.1 ## 10% do conjunto de dados"
   ]
  },
  {
   "cell_type": "code",
   "execution_count": 14,
   "id": "7ad2e0b2-c87b-44d8-98c1-4b4d17995286",
   "metadata": {},
   "outputs": [],
   "source": [
    "job_path = \"/mnt/disks/data/fma/trains\""
   ]
  },
  {
   "cell_type": "code",
   "execution_count": 15,
   "id": "b5faa347-7b51-41de-a370-8cd32782f882",
   "metadata": {},
   "outputs": [],
   "source": [
    "train_path = os.path.join(job_path,train_id)"
   ]
  },
  {
   "cell_type": "code",
   "execution_count": 16,
   "id": "4e6f605a-6a55-49de-880e-f49def133806",
   "metadata": {},
   "outputs": [],
   "source": [
    "base_path = os.path.join(args.root_dir,\"fma\")"
   ]
  },
  {
   "cell_type": "code",
   "execution_count": 17,
   "id": "35e40493-7b56-4bc9-8999-d0b7b8b6e6fe",
   "metadata": {},
   "outputs": [],
   "source": [
    "models_path = os.path.join(args.root_dir,\"models\")"
   ]
  },
  {
   "cell_type": "code",
   "execution_count": 18,
   "id": "1d837e45-f763-4869-b6a6-4f5ef1036509",
   "metadata": {},
   "outputs": [],
   "source": [
    "metadata_path = os.path.join(base_path,\"fma_metadata\")"
   ]
  },
  {
   "cell_type": "code",
   "execution_count": 19,
   "id": "0fb366a6-d30b-454d-afce-46de2b4136d8",
   "metadata": {},
   "outputs": [],
   "source": [
    "import os\n",
    "\n",
    "# checking if the directory demo_folder2 \n",
    "# exist or not.\n",
    "if not os.path.isdir(train_path):\n",
    "    \n",
    "    # if the demo_folder2 directory is \n",
    "    # not present then create it.\n",
    "    os.makedirs(train_path)"
   ]
  },
  {
   "cell_type": "code",
   "execution_count": 20,
   "id": "faa10018-e2f8-48ef-98c6-ecc05be6e8b7",
   "metadata": {},
   "outputs": [],
   "source": [
    "if args.embeddings == \"music_style\":\n",
    "    model_path = os.path.join(models_path,args.embeddings,\"discogs-effnet-bs64-1.pb\")"
   ]
  },
  {
   "cell_type": "markdown",
   "id": "6ab070e1-4ee5-4d7b-b4ff-70c25d350df6",
   "metadata": {},
   "source": [
    "#### Load dataset csv generated by \"1 - Generate-Labels\""
   ]
  },
  {
   "cell_type": "code",
   "execution_count": 21,
   "id": "520e8db2-1b5f-432c-a314-6516532d379b",
   "metadata": {},
   "outputs": [],
   "source": [
    "df = pd.read_csv(os.path.join(metadata_path,\"tracks_genres_id_full.csv\"))"
   ]
  },
  {
   "cell_type": "code",
   "execution_count": 22,
   "id": "6f2d0b27-0b06-43ea-bf8d-8639b3e19804",
   "metadata": {},
   "outputs": [
    {
     "data": {
      "text/plain": [
       "True     106412\n",
       "False       162\n",
       "Name: valid, dtype: int64"
      ]
     },
     "execution_count": 22,
     "metadata": {},
     "output_type": "execute_result"
    }
   ],
   "source": [
    "df.valid.value_counts()"
   ]
  },
  {
   "cell_type": "code",
   "execution_count": 23,
   "id": "d6e00771-a9c4-4d14-aadb-d0630cc73f4f",
   "metadata": {},
   "outputs": [],
   "source": [
    "df = df[df['valid'] == True]"
   ]
  },
  {
   "cell_type": "code",
   "execution_count": 24,
   "id": "887e6d4d-a636-45a5-96bb-971ceae2090d",
   "metadata": {},
   "outputs": [],
   "source": [
    "df = df.sample(frac=sample_size)"
   ]
  },
  {
   "cell_type": "code",
   "execution_count": 25,
   "id": "790c999b-7e4c-434d-abfd-efb7d7f46f39",
   "metadata": {},
   "outputs": [
    {
     "data": {
      "text/plain": [
       "'/mnt/disks/data/models/music_style/discogs-effnet-bs64-1.pb'"
      ]
     },
     "execution_count": 25,
     "metadata": {},
     "output_type": "execute_result"
    }
   ],
   "source": [
    "model_path"
   ]
  },
  {
   "cell_type": "code",
   "execution_count": 26,
   "id": "bbfbaffc-0498-46f4-b83c-1d86910ab277",
   "metadata": {
    "collapsed": true,
    "jupyter": {
     "outputs_hidden": true
    },
    "tags": []
   },
   "outputs": [
    {
     "name": "stderr",
     "output_type": "stream",
     "text": [
      "2023-01-27 14:23:00.405392: I tensorflow/core/common_runtime/gpu/gpu_device.cc:1733] Found device 0 with properties: \n",
      "pciBusID: 0000:65:00.0 name: NVIDIA GeForce RTX 2080 Ti computeCapability: 7.5\n",
      "coreClock: 1.65GHz coreCount: 68 deviceMemorySize: 10.76GiB deviceMemoryBandwidth: 573.69GiB/s\n",
      "2023-01-27 14:23:00.405697: I tensorflow/core/common_runtime/gpu/gpu_device.cc:1871] Adding visible gpu devices: 0\n",
      "2023-01-27 14:23:00.405720: I tensorflow/core/common_runtime/gpu/gpu_device.cc:1258] Device interconnect StreamExecutor with strength 1 edge matrix:\n",
      "2023-01-27 14:23:00.405724: I tensorflow/core/common_runtime/gpu/gpu_device.cc:1264]      0 \n",
      "2023-01-27 14:23:00.405729: I tensorflow/core/common_runtime/gpu/gpu_device.cc:1277] 0:   N \n",
      "2023-01-27 14:23:00.406014: I tensorflow/core/common_runtime/gpu/gpu_device.cc:1418] Created TensorFlow device (/job:localhost/replica:0/task:0/device:GPU:0 with 9497 MB memory) -> physical GPU (device: 0, name: NVIDIA GeForce RTX 2080 Ti, pci bus id: 0000:65:00.0, compute capability: 7.5)\n",
      "2023-01-27 14:23:00.409946: I tensorflow/core/common_runtime/gpu/gpu_device.cc:1733] Found device 0 with properties: \n",
      "pciBusID: 0000:65:00.0 name: NVIDIA GeForce RTX 2080 Ti computeCapability: 7.5\n",
      "coreClock: 1.65GHz coreCount: 68 deviceMemorySize: 10.76GiB deviceMemoryBandwidth: 573.69GiB/s\n",
      "2023-01-27 14:23:00.410233: I tensorflow/core/common_runtime/gpu/gpu_device.cc:1871] Adding visible gpu devices: 0\n",
      "2023-01-27 14:23:00.410249: I tensorflow/core/common_runtime/gpu/gpu_device.cc:1258] Device interconnect StreamExecutor with strength 1 edge matrix:\n",
      "2023-01-27 14:23:00.410254: I tensorflow/core/common_runtime/gpu/gpu_device.cc:1264]      0 \n",
      "2023-01-27 14:23:00.410258: I tensorflow/core/common_runtime/gpu/gpu_device.cc:1277] 0:   N \n",
      "2023-01-27 14:23:00.410533: I tensorflow/core/common_runtime/gpu/gpu_device.cc:1418] Created TensorFlow device (/job:localhost/replica:0/task:0/device:GPU:0 with 9497 MB memory) -> physical GPU (device: 0, name: NVIDIA GeForce RTX 2080 Ti, pci bus id: 0000:65:00.0, compute capability: 7.5)\n",
      "2023-01-27 14:23:00.414278: I tensorflow/core/common_runtime/gpu/gpu_device.cc:1733] Found device 0 with properties: \n",
      "pciBusID: 0000:65:00.0 name: NVIDIA GeForce RTX 2080 Ti computeCapability: 7.5\n",
      "coreClock: 1.65GHz coreCount: 68 deviceMemorySize: 10.76GiB deviceMemoryBandwidth: 573.69GiB/s\n",
      "2023-01-27 14:23:00.414568: I tensorflow/core/common_runtime/gpu/gpu_device.cc:1871] Adding visible gpu devices: 0\n",
      "2023-01-27 14:23:00.414585: I tensorflow/core/common_runtime/gpu/gpu_device.cc:1258] Device interconnect StreamExecutor with strength 1 edge matrix:\n",
      "2023-01-27 14:23:00.414589: I tensorflow/core/common_runtime/gpu/gpu_device.cc:1264]      0 \n",
      "2023-01-27 14:23:00.414593: I tensorflow/core/common_runtime/gpu/gpu_device.cc:1277] 0:   N \n",
      "2023-01-27 14:23:00.414889: I tensorflow/core/common_runtime/gpu/gpu_device.cc:1418] Created TensorFlow device (/job:localhost/replica:0/task:0/device:GPU:0 with 9497 MB memory) -> physical GPU (device: 0, name: NVIDIA GeForce RTX 2080 Ti, pci bus id: 0000:65:00.0, compute capability: 7.5)\n",
      "[   INFO   ] TensorflowPredict: Successfully loaded graph file: `/mnt/disks/data/models/music_style/discogs-effnet-bs64-1.pb`\n",
      "2023-01-27 14:23:00.478576: I tensorflow/core/common_runtime/gpu/gpu_device.cc:1733] Found device 0 with properties: \n",
      "pciBusID: 0000:65:00.0 name: NVIDIA GeForce RTX 2080 Ti computeCapability: 7.5\n",
      "coreClock: 1.65GHz coreCount: 68 deviceMemorySize: 10.76GiB deviceMemoryBandwidth: 573.69GiB/s\n",
      "2023-01-27 14:23:00.478962: I tensorflow/core/common_runtime/gpu/gpu_device.cc:1871] Adding visible gpu devices: 0\n",
      "2023-01-27 14:23:00.478985: I tensorflow/core/common_runtime/gpu/gpu_device.cc:1258] Device interconnect StreamExecutor with strength 1 edge matrix:\n",
      "2023-01-27 14:23:00.478990: I tensorflow/core/common_runtime/gpu/gpu_device.cc:1264]      0 \n",
      "2023-01-27 14:23:00.478994: I tensorflow/core/common_runtime/gpu/gpu_device.cc:1277] 0:   N \n",
      "2023-01-27 14:23:00.479278: I tensorflow/core/common_runtime/gpu/gpu_device.cc:1418] Created TensorFlow device (/job:localhost/replica:0/task:0/device:GPU:0 with 9497 MB memory) -> physical GPU (device: 0, name: NVIDIA GeForce RTX 2080 Ti, pci bus id: 0000:65:00.0, compute capability: 7.5)\n",
      "2023-01-27 14:23:00.706992: I tensorflow/core/platform/profile_utils/cpu_utils.cc:114] CPU Frequency: 3299990000 Hz\n",
      "2023-01-27 14:23:01.577085: I tensorflow/stream_executor/platform/default/dso_loader.cc:53] Successfully opened dynamic library libcudnn.so.8\n",
      "2023-01-27 14:23:02.283933: I tensorflow/stream_executor/cuda/cuda_dnn.cc:359] Loaded cuDNN version 8401\n",
      "2023-01-27 14:23:02.889190: E tensorflow/core/platform/default/subprocess.cc:304] Start cannot spawn child process: No such file or directory\n",
      "2023-01-27 14:23:02.889246: W tensorflow/stream_executor/gpu/asm_compiler.cc:56] Couldn't invoke ptxas --version\n",
      "2023-01-27 14:23:02.890059: E tensorflow/core/platform/default/subprocess.cc:304] Start cannot spawn child process: No such file or directory\n",
      "2023-01-27 14:23:02.890156: W tensorflow/stream_executor/gpu/redzone_allocator.cc:314] Internal: Failed to launch ptxas\n",
      "Relying on driver to perform ptx compilation. \n",
      "Modify $PATH to customize ptxas location.\n",
      "This message will be only logged once.\n",
      "2023-01-27 14:23:02.901456: I tensorflow/stream_executor/platform/default/dso_loader.cc:53] Successfully opened dynamic library libcublas.so.11\n",
      "2023-01-27 14:23:02.902012: I tensorflow/stream_executor/platform/default/dso_loader.cc:53] Successfully opened dynamic library libcublasLt.so.11\n",
      "2023-01-27 14:23:03.294311: I tensorflow/core/common_runtime/gpu/gpu_device.cc:1733] Found device 0 with properties: \n",
      "pciBusID: 0000:65:00.0 name: NVIDIA GeForce RTX 2080 Ti computeCapability: 7.5\n",
      "coreClock: 1.65GHz coreCount: 68 deviceMemorySize: 10.76GiB deviceMemoryBandwidth: 573.69GiB/s\n",
      "2023-01-27 14:23:03.295481: I tensorflow/core/common_runtime/gpu/gpu_device.cc:1871] Adding visible gpu devices: 0\n",
      "2023-01-27 14:23:03.295507: I tensorflow/core/common_runtime/gpu/gpu_device.cc:1258] Device interconnect StreamExecutor with strength 1 edge matrix:\n",
      "2023-01-27 14:23:03.295512: I tensorflow/core/common_runtime/gpu/gpu_device.cc:1264]      0 \n",
      "2023-01-27 14:23:03.295516: I tensorflow/core/common_runtime/gpu/gpu_device.cc:1277] 0:   N \n",
      "2023-01-27 14:23:03.295799: I tensorflow/core/common_runtime/gpu/gpu_device.cc:1418] Created TensorFlow device (/job:localhost/replica:0/task:0/device:GPU:0 with 9497 MB memory) -> physical GPU (device: 0, name: NVIDIA GeForce RTX 2080 Ti, pci bus id: 0000:65:00.0, compute capability: 7.5)\n"
     ]
    }
   ],
   "source": [
    "### Exemplo de extração de features\n",
    "audio = MonoLoader(filename=df.iloc[1].file_path, sampleRate=16000)()\n",
    "model = TensorflowPredictEffnetDiscogs(graphFilename=model_path)\n",
    "activations = model(audio)"
   ]
  },
  {
   "cell_type": "code",
   "execution_count": 27,
   "id": "3fbf8784-3f98-4ece-89e9-e6b44bfd3b44",
   "metadata": {},
   "outputs": [
    {
     "data": {
      "text/plain": [
       "(29, 400)"
      ]
     },
     "execution_count": 27,
     "metadata": {},
     "output_type": "execute_result"
    }
   ],
   "source": [
    "activations.shape"
   ]
  },
  {
   "cell_type": "code",
   "execution_count": 28,
   "id": "5b94aa34-92af-47aa-b749-dc3b1455245c",
   "metadata": {},
   "outputs": [
    {
     "data": {
      "text/plain": [
       "(10641, 58)"
      ]
     },
     "execution_count": 28,
     "metadata": {},
     "output_type": "execute_result"
    }
   ],
   "source": [
    "df.shape"
   ]
  },
  {
   "cell_type": "code",
   "execution_count": 29,
   "id": "c055daf5-58e3-49c0-974f-3a4e9159cf01",
   "metadata": {},
   "outputs": [],
   "source": [
    "groups = df.groupby(\"first_genre_id_label\")"
   ]
  },
  {
   "cell_type": "code",
   "execution_count": 30,
   "id": "9a061819-1397-4944-a564-ccfe3fa4382a",
   "metadata": {},
   "outputs": [
    {
     "data": {
      "text/plain": [
       "<pandas.core.groupby.generic.DataFrameGroupBy object at 0x7f9a1476edc0>"
      ]
     },
     "execution_count": 30,
     "metadata": {},
     "output_type": "execute_result"
    }
   ],
   "source": [
    "groups"
   ]
  },
  {
   "cell_type": "code",
   "execution_count": 31,
   "id": "4b6647d4-d936-490d-b66e-c27d6f2d5dbc",
   "metadata": {},
   "outputs": [],
   "source": [
    "def __split_data__(group, percentage=0.1):\n",
    "    if len(group) == 1:\n",
    "        return group, group\n",
    "\n",
    "    shuffled = shuffle(group.values)\n",
    "    finish_test = int(ceil(len(group) * percentage))\n",
    "\n",
    "    first = pd.DataFrame(shuffled[:finish_test], columns=group.columns)\n",
    "    second = pd.DataFrame(shuffled[finish_test:], columns=group.columns)\n",
    "\n",
    "    return first, second"
   ]
  },
  {
   "cell_type": "code",
   "execution_count": 32,
   "id": "f71941cd-d90b-469e-9786-2d2da403a333",
   "metadata": {},
   "outputs": [],
   "source": [
    "def __split_data_sample(groups):\n",
    "    dataset_trainset_path = os.path.join(train_path,\"trainset.csv\")\n",
    "    dataset_testset_path = os.path.join(train_path,\"testset.csv\")\n",
    "    dataset_validationset_path = os.path.join(train_path,\"validationset.csv\")\n",
    "    \n",
    "    \n",
    "    X_train,y_train,X_test,y_test,X_val,y_val = (list(),list(),list(),list(),list(),list())\n",
    "    for code, group in groups:\n",
    "        \n",
    "        test, train_to_split  = __split_data__(group, 0.05) # 10%\n",
    "        validation, train = __split_data__(train_to_split, 0.05) # %10\n",
    "        #rint(test)\n",
    "        \n",
    "        X_train.append(train)\n",
    "        X_test.append(test)\n",
    "        X_val.append(validation)\n",
    "        \n",
    "    X_train = pd.concat(X_train, sort=False).sample(frac=1).reset_index(drop=True)\n",
    "    X_train.to_csv(dataset_trainset_path, index=False, quoting=csv.QUOTE_ALL)\n",
    "    print(dataset_trainset_path)\n",
    "    \n",
    "    X_test = pd.concat(X_test, sort=False).sample(frac=1).reset_index(drop=True)\n",
    "    X_test.to_csv(dataset_testset_path, index=False, quoting=csv.QUOTE_ALL)\n",
    "    print(dataset_testset_path)\n",
    "\n",
    "    X_val = pd.concat(X_val, sort=False).sample(frac=1).reset_index(drop=True)\n",
    "    X_val.to_csv(dataset_validationset_path, index=False, quoting=csv.QUOTE_ALL)\n",
    "    print(dataset_validationset_path)\n",
    "    \n",
    "    return X_train,X_test,X_val"
   ]
  },
  {
   "cell_type": "code",
   "execution_count": 33,
   "id": "de9acbda-0ba8-44d3-8f0c-c0ad3bd97e7d",
   "metadata": {},
   "outputs": [
    {
     "name": "stdout",
     "output_type": "stream",
     "text": [
      "/mnt/disks/data/fma/trains/global_sample_test/trainset.csv\n",
      "/mnt/disks/data/fma/trains/global_sample_test/testset.csv\n",
      "/mnt/disks/data/fma/trains/global_sample_test/validationset.csv\n"
     ]
    }
   ],
   "source": [
    "X_train,X_test,X_validation = __split_data_sample(groups)"
   ]
  },
  {
   "cell_type": "code",
   "execution_count": 36,
   "id": "a6d4df05-185c-4a52-8dc4-6bfe00636d8e",
   "metadata": {},
   "outputs": [
    {
     "data": {
      "text/plain": [
       "(590, 58)"
      ]
     },
     "execution_count": 36,
     "metadata": {},
     "output_type": "execute_result"
    }
   ],
   "source": [
    "X_validation.shape"
   ]
  },
  {
   "cell_type": "code",
   "execution_count": null,
   "id": "b4994d35-732d-4400-b0ab-79c46f70a23f",
   "metadata": {},
   "outputs": [],
   "source": [
    "def extract_feature(file_path,model):\n",
    "    ### Configuração do model para extrair a representação do aúdio\n",
    "    # model = TensorflowPredictMusiCNN(graphFilename=model_path, output=\"model/dense/BiasAdd\")\n",
    "    audio = MonoLoader(filename=file_path, sampleRate=16000)()\n",
    "    activations = model(audio)\n",
    "    return activations"
   ]
  },
  {
   "cell_type": "code",
   "execution_count": 44,
   "id": "e860edbf-58e7-4d6b-a754-a6f1903cc8f8",
   "metadata": {},
   "outputs": [],
   "source": [
    "def _bytes_feature(value):\n",
    "    \"\"\"Returns a bytes_list from a string / byte.\"\"\"\n",
    "    if isinstance(value, type(tf.constant(0))): # if value ist tensor\n",
    "        value = value.numpy() # get value of tensor\n",
    "    return tf.train.Feature(bytes_list=tf.train.BytesList(value=[value]))\n",
    "\n",
    "def _float_feature(value):\n",
    "  \"\"\"Returns a floast_list from a float / double.\"\"\"\n",
    "  return tf.train.Feature(float_list=tf.train.FloatList(value=[value]))\n",
    "\n",
    "def _int64_feature(value):\n",
    "  \"\"\"Returns an int64_list from a bool / enum / int / uint.\"\"\"\n",
    "  return tf.train.Feature(int64_list=tf.train.Int64List(value=[value]))\n",
    "\n",
    "def serialize_array(array):\n",
    "  array = tf.io.serialize_tensor(array)\n",
    "  return array"
   ]
  },
  {
   "cell_type": "code",
   "execution_count": 45,
   "id": "32f76e5a-e75a-4056-a5ff-bc2ee3ee5dbc",
   "metadata": {},
   "outputs": [],
   "source": [
    "from tqdm.notebook import tqdm"
   ]
  },
  {
   "cell_type": "code",
   "execution_count": 54,
   "id": "b9a2c676-10d7-44e5-a419-df6117abfd8b",
   "metadata": {
    "tags": []
   },
   "outputs": [],
   "source": [
    "def generate_tf_records(df,labels,model,filename=\"train\"):\n",
    "    batch_size = 1024 * 1 # 50k records from each file batch\n",
    "    count = 0\n",
    "    total = ceil(len(df) / batch_size)\n",
    "    \n",
    "    for i in range(0, len(df), batch_size):\n",
    "        batch_df = df[i:i+batch_size]\n",
    "        \n",
    "        tqdm.pandas()\n",
    "        \n",
    "        X = batch_df.file_path.progress_apply(lambda x: extract_feature(x,model))   \n",
    "        \n",
    "        print(\"Extraiu as features\")\n",
    "        \n",
    "        \n",
    "        tfrecords = [parse_single_music(data, x, labels) for data, x in zip(batch_df.values, X)]\n",
    "        \n",
    "        path = f\"{job_path}/tfrecords/{filename}/{str(count).zfill(10)}.tfrecord\"\n",
    "\n",
    "        #with tf.python_io.TFRecordWriter(path) as writer:\n",
    "        with tf.io.TFRecordWriter(path) as writer:\n",
    "            for tfrecord in tfrecords:\n",
    "                writer.write(tfrecord.SerializeToString())\n",
    "\n",
    "        print(f\"{count} {len(tfrecords)} {path}\")\n",
    "        count += 1\n",
    "        print(f\"{count}/{total} batchs / {count * batch_size} processed\")\n",
    "\n",
    "    print(f\"{count}/{total} batchs / {len(df)} processed\")"
   ]
  },
  {
   "cell_type": "code",
   "execution_count": 52,
   "id": "f6d06879-d765-4901-a55a-101638e5f159",
   "metadata": {
    "tags": []
   },
   "outputs": [
    {
     "name": "stderr",
     "output_type": "stream",
     "text": [
      "2023-01-27 14:31:17.374360: I tensorflow/core/common_runtime/gpu/gpu_device.cc:1733] Found device 0 with properties: \n",
      "pciBusID: 0000:65:00.0 name: NVIDIA GeForce RTX 2080 Ti computeCapability: 7.5\n",
      "coreClock: 1.65GHz coreCount: 68 deviceMemorySize: 10.76GiB deviceMemoryBandwidth: 573.69GiB/s\n"
     ]
    },
    {
     "data": {
      "text/plain": [
       "array([[4.8553036e-04, 1.5060761e-04, 1.6321393e-03, ..., 7.8088784e-04,\n",
       "        6.3391142e-03, 1.8655378e-03],\n",
       "       [6.6907657e-04, 7.1259886e-03, 7.6524219e-03, ..., 2.9326293e-03,\n",
       "        1.5174143e-02, 6.5064887e-03],\n",
       "       [2.3396109e-04, 1.4642334e-03, 1.8339229e-03, ..., 5.1590013e-03,\n",
       "        2.2276644e-02, 9.2526702e-03],\n",
       "       ...,\n",
       "       [1.2447182e-03, 2.8372684e-02, 1.4524954e-02, ..., 8.9484863e-03,\n",
       "        3.3013899e-02, 9.2452029e-03],\n",
       "       [1.0500212e-03, 3.8518198e-03, 6.5818164e-03, ..., 6.7481247e-04,\n",
       "        1.0556912e-02, 2.0409739e-03],\n",
       "       [2.5539341e-05, 1.0329894e-04, 4.9728912e-04, ..., 1.4027438e-04,\n",
       "        4.8879841e-03, 3.1869637e-04]], dtype=float32)"
      ]
     },
     "execution_count": 52,
     "metadata": {},
     "output_type": "execute_result"
    },
    {
     "name": "stderr",
     "output_type": "stream",
     "text": [
      "2023-01-27 14:31:17.374779: I tensorflow/core/common_runtime/gpu/gpu_device.cc:1871] Adding visible gpu devices: 0\n",
      "2023-01-27 14:31:17.374804: I tensorflow/core/common_runtime/gpu/gpu_device.cc:1258] Device interconnect StreamExecutor with strength 1 edge matrix:\n",
      "2023-01-27 14:31:17.374811: I tensorflow/core/common_runtime/gpu/gpu_device.cc:1264]      0 \n",
      "2023-01-27 14:31:17.374816: I tensorflow/core/common_runtime/gpu/gpu_device.cc:1277] 0:   N \n",
      "2023-01-27 14:31:17.375177: I tensorflow/core/common_runtime/gpu/gpu_device.cc:1418] Created TensorFlow device (/job:localhost/replica:0/task:0/device:GPU:0 with 9497 MB memory) -> physical GPU (device: 0, name: NVIDIA GeForce RTX 2080 Ti, pci bus id: 0000:65:00.0, compute capability: 7.5)\n"
     ]
    }
   ],
   "source": [
    "extract_feature(df.file_path.iloc[2],model)"
   ]
  },
  {
   "cell_type": "code",
   "execution_count": null,
   "id": "ebca8561-cd86-40e2-aa52-a7ff683a42c5",
   "metadata": {
    "tags": []
   },
   "outputs": [
    {
     "data": {
      "application/vnd.jupyter.widget-view+json": {
       "model_id": "e3076bab797c406b971aa68796746d90",
       "version_major": 2,
       "version_minor": 0
      },
      "text/plain": [
       "  0%|          | 0/615 [00:00<?, ?it/s]"
      ]
     },
     "metadata": {},
     "output_type": "display_data"
    }
   ],
   "source": [
    "count_test = generate_tf_records(X_test,X_test.first_genre_id_label.tolist(),model,filename=\"fma_test\")"
   ]
  },
  {
   "cell_type": "code",
   "execution_count": null,
   "id": "69ec3cb8-bf95-4633-a233-7f7ab96309c7",
   "metadata": {},
   "outputs": [],
   "source": [
    "count_train = generate_tf_records(X_train,X_train.first_genre_id_label.tolist(),model,filename=\"fma_train\")"
   ]
  },
  {
   "cell_type": "code",
   "execution_count": null,
   "id": "ea97dccc-1aa4-4314-8dd6-272f9b3f4362",
   "metadata": {
    "tags": []
   },
   "outputs": [],
   "source": [
    "count_val = generate_tf_records(X_val,X_val.first_genre_id_label.tolist(),model,filename=\"fma_val\")"
   ]
  },
  {
   "cell_type": "code",
   "execution_count": null,
   "id": "1a510c0a-044d-4fed-9ad5-fe60e05fdd49",
   "metadata": {},
   "outputs": [],
   "source": [
    "metadata = {\n",
    "    \"train_count\":count_train,\n",
    "    \"test_count\":count_test,\n",
    "    \"val_count\":count_val,\n",
    "    \"root_dir\":args.root_dir,\n",
    "    \"embeddings\":args.embeddings,\n",
    "    \"train_id\": args.train_id\n",
    "}"
   ]
  },
  {
   "cell_type": "code",
   "execution_count": null,
   "id": "0b7b240a-0608-48b7-a282-d3e5c864e435",
   "metadata": {},
   "outputs": [],
   "source": [
    "metadata_file_path = os.path.join(metadata_path,\"metadata.json\")"
   ]
  },
  {
   "cell_type": "code",
   "execution_count": null,
   "id": "661c3488-e2a1-4ac4-9cfc-812574dc82f0",
   "metadata": {},
   "outputs": [],
   "source": [
    "with open(metadata_file_path, 'w+') as f:\n",
    "    f.write(json.dumps(metadata))"
   ]
  },
  {
   "cell_type": "code",
   "execution_count": null,
   "id": "b1d2fb60-8752-48a7-94a5-7d6acd65ebac",
   "metadata": {},
   "outputs": [],
   "source": []
  }
 ],
 "metadata": {
  "environment": {
   "kernel": "python3",
   "name": "tf2-gpu.2-8.m102",
   "type": "gcloud",
   "uri": "gcr.io/deeplearning-platform-release/tf2-gpu.2-8:m102"
  },
  "kernelspec": {
   "display_name": "Python 3 (ipykernel)",
   "language": "python",
   "name": "python3"
  },
  "language_info": {
   "codemirror_mode": {
    "name": "ipython",
    "version": 3
   },
   "file_extension": ".py",
   "mimetype": "text/x-python",
   "name": "python",
   "nbconvert_exporter": "python",
   "pygments_lexer": "ipython3",
   "version": "3.9.12"
  }
 },
 "nbformat": 4,
 "nbformat_minor": 5
}
