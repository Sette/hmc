{
 "cells": [
  {
   "cell_type": "code",
   "execution_count": 1,
   "id": "dcd03c36-910f-41a1-b5a1-36b0cc58e545",
   "metadata": {
    "tags": []
   },
   "outputs": [
    {
     "name": "stderr",
     "output_type": "stream",
     "text": [
      "2023-05-08 15:53:58.939175: I tensorflow/core/platform/cpu_feature_guard.cc:182] This TensorFlow binary is optimized to use available CPU instructions in performance-critical operations.\n",
      "To enable the following instructions: AVX2 AVX512F FMA, in other operations, rebuild TensorFlow with the appropriate compiler flags.\n",
      "2023-05-08 15:53:59.622151: W tensorflow/compiler/tf2tensorrt/utils/py_utils.cc:38] TF-TRT Warning: Could not find TensorRT\n"
     ]
    },
    {
     "ename": "ModuleNotFoundError",
     "evalue": "No module named 'essentia'",
     "output_type": "error",
     "traceback": [
      "\u001b[0;31m---------------------------------------------------------------------------\u001b[0m",
      "\u001b[0;31mModuleNotFoundError\u001b[0m                       Traceback (most recent call last)",
      "Cell \u001b[0;32mIn[1], line 14\u001b[0m\n\u001b[1;32m     11\u001b[0m \u001b[38;5;28;01mimport\u001b[39;00m \u001b[38;5;21;01mmultiprocessing\u001b[39;00m\n\u001b[1;32m     12\u001b[0m \u001b[38;5;28;01mfrom\u001b[39;00m \u001b[38;5;21;01mtqdm\u001b[39;00m\u001b[38;5;21;01m.\u001b[39;00m\u001b[38;5;21;01mnotebook\u001b[39;00m \u001b[38;5;28;01mimport\u001b[39;00m tqdm\n\u001b[0;32m---> 14\u001b[0m \u001b[38;5;28;01mfrom\u001b[39;00m \u001b[38;5;21;01messentia\u001b[39;00m\u001b[38;5;21;01m.\u001b[39;00m\u001b[38;5;21;01mstandard\u001b[39;00m \u001b[38;5;28;01mimport\u001b[39;00m MonoLoader, TensorflowPredictEffnetDiscogs\n",
      "\u001b[0;31mModuleNotFoundError\u001b[0m: No module named 'essentia'"
     ]
    }
   ],
   "source": [
    "import os\n",
    "import csv\n",
    "import json\n",
    "import pandas as pd\n",
    "import numpy as np\n",
    "import tensorflow as tf\n",
    "\n",
    "from math import ceil\n",
    "from joblib import Parallel, delayed\n",
    "\n",
    "import multiprocessing\n",
    "from tqdm.notebook import tqdm\n",
    "\n",
    "from essentia.standard import MonoLoader, TensorflowPredictEffnetDiscogs"
   ]
  },
  {
   "cell_type": "code",
   "execution_count": null,
   "id": "00cf098a-7545-4d65-8dab-fc6925a47ba0",
   "metadata": {},
   "outputs": [],
   "source": [
    "from tqdm.notebook import tqdm"
   ]
  },
  {
   "cell_type": "code",
   "execution_count": null,
   "id": "de93c71a-2677-4187-a664-9a55dd44591f",
   "metadata": {},
   "outputs": [],
   "source": [
    "tqdm.pandas()"
   ]
  },
  {
   "cell_type": "code",
   "execution_count": 4,
   "id": "e9c833f2-093d-4fa5-877d-ac49b6607a55",
   "metadata": {},
   "outputs": [],
   "source": [
    "\n",
    "args = pd.Series({\n",
    "    \"root_dir\":\"/mnt/disks/data/\",\n",
    "    \"dataset_path\":\"/mnt/disks/data/fma/fma_large\",\n",
    "    \"embeddings\":\"music_style\"\n",
    "})\n"
   ]
  },
  {
   "cell_type": "code",
   "execution_count": 5,
   "id": "9edf8d76-8573-4203-9bcf-9ad3255ad4b0",
   "metadata": {},
   "outputs": [],
   "source": [
    "\n",
    "# In[16]:\n",
    "\n",
    "\n",
    "base_path = os.path.join(args.root_dir,\"fma\")\n",
    "\n",
    "\n",
    "# In[17]:\n",
    "\n",
    "\n",
    "models_path = os.path.join(args.root_dir,\"models\")\n",
    "\n",
    "\n",
    "metadata_path_fma = os.path.join(base_path,\"fma_metadata\")\n",
    "\n"
   ]
  },
  {
   "cell_type": "code",
   "execution_count": 6,
   "id": "65d0a6a4",
   "metadata": {},
   "outputs": [],
   "source": [
    "\n",
    "if args.embeddings == \"music_style\":\n",
    "    model_path = os.path.join(models_path,args.embeddings,\"discogs-effnet-bs64-1.pb\")\n",
    "\n"
   ]
  },
  {
   "cell_type": "code",
   "execution_count": 7,
   "id": "fb7679c2-e564-49cc-9ae3-6aa64fe1d8e2",
   "metadata": {},
   "outputs": [],
   "source": [
    "df = pd.read_csv(os.path.join(metadata_path_fma,\"tracks_valid.csv\"))"
   ]
  },
  {
   "cell_type": "code",
   "execution_count": 8,
   "id": "40b5a7c2-e479-4eae-bc94-400246de39dc",
   "metadata": {
    "tags": []
   },
   "outputs": [
    {
     "name": "stderr",
     "output_type": "stream",
     "text": [
      "2023-03-28 14:18:45.513457: I tensorflow/core/common_runtime/gpu/gpu_device.cc:1733] Found device 0 with properties: \n",
      "pciBusID: 0000:65:00.0 name: NVIDIA GeForce RTX 2080 Ti computeCapability: 7.5\n",
      "coreClock: 1.65GHz coreCount: 68 deviceMemorySize: 10.76GiB deviceMemoryBandwidth: 573.69GiB/s\n",
      "2023-03-28 14:18:45.513942: I tensorflow/core/common_runtime/gpu/gpu_device.cc:1871] Adding visible gpu devices: 0\n",
      "2023-03-28 14:18:45.513975: I tensorflow/core/common_runtime/gpu/gpu_device.cc:1258] Device interconnect StreamExecutor with strength 1 edge matrix:\n",
      "2023-03-28 14:18:45.513984: I tensorflow/core/common_runtime/gpu/gpu_device.cc:1264]      0 \n",
      "2023-03-28 14:18:45.513991: I tensorflow/core/common_runtime/gpu/gpu_device.cc:1277] 0:   N \n",
      "2023-03-28 14:18:45.514447: I tensorflow/core/common_runtime/gpu/gpu_device.cc:1418] Created TensorFlow device (/job:localhost/replica:0/task:0/device:GPU:0 with 8322 MB memory) -> physical GPU (device: 0, name: NVIDIA GeForce RTX 2080 Ti, pci bus id: 0000:65:00.0, compute capability: 7.5)\n",
      "2023-03-28 14:18:45.520979: I tensorflow/core/common_runtime/gpu/gpu_device.cc:1733] Found device 0 with properties: \n",
      "pciBusID: 0000:65:00.0 name: NVIDIA GeForce RTX 2080 Ti computeCapability: 7.5\n",
      "coreClock: 1.65GHz coreCount: 68 deviceMemorySize: 10.76GiB deviceMemoryBandwidth: 573.69GiB/s\n",
      "2023-03-28 14:18:45.521443: I tensorflow/core/common_runtime/gpu/gpu_device.cc:1871] Adding visible gpu devices: 0\n",
      "2023-03-28 14:18:45.521477: I tensorflow/core/common_runtime/gpu/gpu_device.cc:1258] Device interconnect StreamExecutor with strength 1 edge matrix:\n",
      "2023-03-28 14:18:45.521489: I tensorflow/core/common_runtime/gpu/gpu_device.cc:1264]      0 \n",
      "2023-03-28 14:18:45.521501: I tensorflow/core/common_runtime/gpu/gpu_device.cc:1277] 0:   N \n",
      "2023-03-28 14:18:45.522002: I tensorflow/core/common_runtime/gpu/gpu_device.cc:1418] Created TensorFlow device (/job:localhost/replica:0/task:0/device:GPU:0 with 8322 MB memory) -> physical GPU (device: 0, name: NVIDIA GeForce RTX 2080 Ti, pci bus id: 0000:65:00.0, compute capability: 7.5)\n",
      "2023-03-28 14:18:45.526417: I tensorflow/core/common_runtime/gpu/gpu_device.cc:1733] Found device 0 with properties: \n",
      "pciBusID: 0000:65:00.0 name: NVIDIA GeForce RTX 2080 Ti computeCapability: 7.5\n",
      "coreClock: 1.65GHz coreCount: 68 deviceMemorySize: 10.76GiB deviceMemoryBandwidth: 573.69GiB/s\n",
      "2023-03-28 14:18:45.526730: I tensorflow/core/common_runtime/gpu/gpu_device.cc:1871] Adding visible gpu devices: 0\n",
      "2023-03-28 14:18:45.526753: I tensorflow/core/common_runtime/gpu/gpu_device.cc:1258] Device interconnect StreamExecutor with strength 1 edge matrix:\n",
      "2023-03-28 14:18:45.526758: I tensorflow/core/common_runtime/gpu/gpu_device.cc:1264]      0 \n",
      "2023-03-28 14:18:45.526763: I tensorflow/core/common_runtime/gpu/gpu_device.cc:1277] 0:   N \n",
      "2023-03-28 14:18:45.527077: I tensorflow/core/common_runtime/gpu/gpu_device.cc:1418] Created TensorFlow device (/job:localhost/replica:0/task:0/device:GPU:0 with 8322 MB memory) -> physical GPU (device: 0, name: NVIDIA GeForce RTX 2080 Ti, pci bus id: 0000:65:00.0, compute capability: 7.5)\n",
      "[   INFO   ] TensorflowPredict: Successfully loaded graph file: `/mnt/disks/data/models/music_style/discogs-effnet-bs64-1.pb`\n",
      "2023-03-28 14:18:45.753287: I tensorflow/core/common_runtime/gpu/gpu_device.cc:1733] Found device 0 with properties: \n",
      "pciBusID: 0000:65:00.0 name: NVIDIA GeForce RTX 2080 Ti computeCapability: 7.5\n",
      "coreClock: 1.65GHz coreCount: 68 deviceMemorySize: 10.76GiB deviceMemoryBandwidth: 573.69GiB/s\n",
      "2023-03-28 14:18:45.753615: I tensorflow/core/common_runtime/gpu/gpu_device.cc:1871] Adding visible gpu devices: 0\n",
      "2023-03-28 14:18:45.753647: I tensorflow/core/common_runtime/gpu/gpu_device.cc:1258] Device interconnect StreamExecutor with strength 1 edge matrix:\n",
      "2023-03-28 14:18:45.753652: I tensorflow/core/common_runtime/gpu/gpu_device.cc:1264]      0 \n",
      "2023-03-28 14:18:45.753656: I tensorflow/core/common_runtime/gpu/gpu_device.cc:1277] 0:   N \n",
      "2023-03-28 14:18:45.753936: I tensorflow/core/common_runtime/gpu/gpu_device.cc:1418] Created TensorFlow device (/job:localhost/replica:0/task:0/device:GPU:0 with 8322 MB memory) -> physical GPU (device: 0, name: NVIDIA GeForce RTX 2080 Ti, pci bus id: 0000:65:00.0, compute capability: 7.5)\n"
     ]
    }
   ],
   "source": [
    "model = TensorflowPredictEffnetDiscogs(graphFilename=model_path,output=\"PartitionedCall:1\")"
   ]
  },
  {
   "cell_type": "code",
   "execution_count": 9,
   "id": "4a12a71b-021c-465b-9cdb-f69f2c962827",
   "metadata": {
    "tags": []
   },
   "outputs": [],
   "source": [
    "\n",
    "def create_dir(path):\n",
    "    # checking if the directory demo_folder2 \n",
    "    # exist or not.\n",
    "    if not os.path.isdir(path):\n",
    "\n",
    "        # if the demo_folder2 directory is \n",
    "        # not present then create it.\n",
    "        os.makedirs(path)\n",
    "    return True\n",
    "\n",
    "\n",
    "def extract_feature(file_path,model):\n",
    "    ### Configuração do model para extrair a representação do aúdio\n",
    "    # model = TensorflowPredictEffnetDiscogs(graphFilename=model_path)\n",
    "    \n",
    "    \n",
    "    audio = MonoLoader(filename=file_path, sampleRate=16000)()\n",
    "    activations = model(audio)\n",
    "    \n",
    "    \n",
    "    return activations\n"
   ]
  },
  {
   "cell_type": "code",
   "execution_count": 10,
   "id": "95042c85-0e2a-413f-8507-15a1fcb96769",
   "metadata": {
    "tags": []
   },
   "outputs": [],
   "source": [
    "def find_path(track_id,dataset_path):\n",
    "    track_id = track_id.zfill(6)\n",
    "    folder_id = track_id[0:3]\n",
    "    file_path = os.path.join(dataset_path,folder_id,track_id+'.mp3')\n",
    "    return file_path\n",
    "    \n",
    "\n",
    "\n",
    "# In[36]:\n",
    "\n",
    "\n",
    "df['file_path'] = df.track_id.apply(lambda x: find_path(str(x),args.dataset_path))\n",
    "\n"
   ]
  },
  {
   "cell_type": "code",
   "execution_count": 11,
   "id": "6f977845-d0bb-4a66-8100-9735165b43af",
   "metadata": {
    "tags": []
   },
   "outputs": [],
   "source": [
    "\n",
    "def _bytes_feature(value):\n",
    "    \"\"\"Returns a bytes_list from a string / byte.\"\"\"\n",
    "    if isinstance(value, type(tf.constant(0))): # if value ist tensor\n",
    "        value = value.numpy() # get value of tensor\n",
    "    return tf.train.Feature(bytes_list=tf.train.BytesList(value=[value]))\n",
    "\n",
    "def _float_feature(value):\n",
    "  \"\"\"Returns a floast_list from a float / double.\"\"\"\n",
    "  return tf.train.Feature(float_list=tf.train.FloatList(value=[value]))\n",
    "\n",
    "def _int64_feature(value):\n",
    "  \"\"\"Returns an int64_list from a bool / enum / int / uint.\"\"\"\n",
    "  return tf.train.Feature(int64_list=tf.train.Int64List(value=[value]))\n",
    "\n",
    "def serialize_array(array):\n",
    "  array = tf.io.serialize_tensor(array)\n",
    "  return array\n",
    "\n",
    "\n",
    "def parse_single_music(data,music):\n",
    "    # cat1, cat2, cat3, cat4, cat5 = data\n",
    "    track_id, track_title, valid_genre, file_path = data\n",
    "    \n",
    "    #define the dictionary -- the structure -- of our single example\n",
    "    data = {\n",
    "        'emb' : _bytes_feature(serialize_array(music)),\n",
    "        'track_id' : _int64_feature(track_id)\n",
    "    }\n",
    "    #create an Example, wrapping the single features\n",
    "    out = tf.train.Example(features=tf.train.Features(feature=data))\n",
    "\n",
    "    return out\n",
    "# In[45]:\n",
    "\n",
    "\n"
   ]
  },
  {
   "cell_type": "code",
   "execution_count": 13,
   "id": "989119eb-a5df-482a-91f5-9336377bd891",
   "metadata": {
    "tags": []
   },
   "outputs": [],
   "source": [
    "\n",
    "\n",
    "# In[24]:\n",
    "\n",
    "def process_df(df,i,count,batch_size,tfrecords_path):\n",
    "    batch_df = df[i:i+batch_size]\n",
    "        \n",
    "    tqdm.pandas()\n",
    "\n",
    "    X = batch_df.file_path.progress_apply(lambda x: extract_feature(x,model))   \n",
    "\n",
    "    print(\"Extraiu as features\")\n",
    "\n",
    "    batch_df = batch_df[['first_genre_id_label']]\n",
    "\n",
    "\n",
    "    tfrecords = [parse_single_music(data, x,labels) for data, x in zip(batch_df.values, X)]\n",
    "\n",
    "    path = os.path.join(tfrecords_path,f\"{str(count).zfill(10)}.tfrecord\")\n",
    "\n",
    "    #with tf.python_io.TFRecordWriter(path) as writer:\n",
    "    with tf.io.TFRecordWriter(path) as writer:\n",
    "        for tfrecord in tfrecords:\n",
    "            writer.write(tfrecord.SerializeToString())\n",
    "\n",
    "    print(f\"{count} {len(tfrecords)} {path}\")\n",
    "\n",
    "\n",
    "def generate_tf_records(df,model,filename=\"train\"):\n",
    "    \n",
    "    tfrecords_path = os.path.join(args.dataset_path,\"tfrecords\",filename)\n",
    "    \n",
    "    create_dir(tfrecords_path)\n",
    "    \n",
    "    \n",
    "    batch_size = 1024 * 10  # 10k records from each file batch\n",
    "    count = 0\n",
    "    total = ceil(len(df) / batch_size)\n",
    "    \n",
    "    with Parallel(n_jobs=20, require='sharedmem') as para:\n",
    "        print(\"Estamos usando paralelismo!!!\")\n",
    "        para(delayed(process_df)(df,i,count,batch_size,tfrecords_path) for count,i in enumerate(range(0, len(df), batch_size)))\n",
    "    \n",
    "\n",
    "# In[31]:\n"
   ]
  },
  {
   "cell_type": "code",
   "execution_count": 14,
   "id": "99204aa1-5f72-4931-82cb-f81e2b618597",
   "metadata": {
    "tags": []
   },
   "outputs": [
    {
     "data": {
      "text/html": [
       "<div>\n",
       "<style scoped>\n",
       "    .dataframe tbody tr th:only-of-type {\n",
       "        vertical-align: middle;\n",
       "    }\n",
       "\n",
       "    .dataframe tbody tr th {\n",
       "        vertical-align: top;\n",
       "    }\n",
       "\n",
       "    .dataframe thead th {\n",
       "        text-align: right;\n",
       "    }\n",
       "</style>\n",
       "<table border=\"1\" class=\"dataframe\">\n",
       "  <thead>\n",
       "    <tr style=\"text-align: right;\">\n",
       "      <th></th>\n",
       "      <th>track_id</th>\n",
       "      <th>track_title</th>\n",
       "      <th>valid_genre</th>\n",
       "      <th>file_path</th>\n",
       "    </tr>\n",
       "  </thead>\n",
       "  <tbody>\n",
       "    <tr>\n",
       "      <th>0</th>\n",
       "      <td>2</td>\n",
       "      <td>Food</td>\n",
       "      <td>['21']</td>\n",
       "      <td>/mnt/disks/data/fma/fma_large/000/000002.mp3</td>\n",
       "    </tr>\n",
       "    <tr>\n",
       "      <th>1</th>\n",
       "      <td>3</td>\n",
       "      <td>Electric Ave</td>\n",
       "      <td>['21']</td>\n",
       "      <td>/mnt/disks/data/fma/fma_large/000/000003.mp3</td>\n",
       "    </tr>\n",
       "    <tr>\n",
       "      <th>2</th>\n",
       "      <td>5</td>\n",
       "      <td>This World</td>\n",
       "      <td>['21']</td>\n",
       "      <td>/mnt/disks/data/fma/fma_large/000/000005.mp3</td>\n",
       "    </tr>\n",
       "    <tr>\n",
       "      <th>3</th>\n",
       "      <td>10</td>\n",
       "      <td>Freeway</td>\n",
       "      <td>['10']</td>\n",
       "      <td>/mnt/disks/data/fma/fma_large/000/000010.mp3</td>\n",
       "    </tr>\n",
       "    <tr>\n",
       "      <th>4</th>\n",
       "      <td>20</td>\n",
       "      <td>Spiritual Level</td>\n",
       "      <td>['76', '103']</td>\n",
       "      <td>/mnt/disks/data/fma/fma_large/000/000020.mp3</td>\n",
       "    </tr>\n",
       "    <tr>\n",
       "      <th>...</th>\n",
       "      <td>...</td>\n",
       "      <td>...</td>\n",
       "      <td>...</td>\n",
       "      <td>...</td>\n",
       "    </tr>\n",
       "    <tr>\n",
       "      <th>104181</th>\n",
       "      <td>155316</td>\n",
       "      <td>The Auger</td>\n",
       "      <td>['25']</td>\n",
       "      <td>/mnt/disks/data/fma/fma_large/155/155316.mp3</td>\n",
       "    </tr>\n",
       "    <tr>\n",
       "      <th>104182</th>\n",
       "      <td>155317</td>\n",
       "      <td>Let's Skin Ruby</td>\n",
       "      <td>['25']</td>\n",
       "      <td>/mnt/disks/data/fma/fma_large/155/155317.mp3</td>\n",
       "    </tr>\n",
       "    <tr>\n",
       "      <th>104183</th>\n",
       "      <td>155318</td>\n",
       "      <td>My House Smells Like Kim Deal/Pulp</td>\n",
       "      <td>['25']</td>\n",
       "      <td>/mnt/disks/data/fma/fma_large/155/155318.mp3</td>\n",
       "    </tr>\n",
       "    <tr>\n",
       "      <th>104184</th>\n",
       "      <td>155319</td>\n",
       "      <td>The Man With Two Mouths</td>\n",
       "      <td>['25']</td>\n",
       "      <td>/mnt/disks/data/fma/fma_large/155/155319.mp3</td>\n",
       "    </tr>\n",
       "    <tr>\n",
       "      <th>104185</th>\n",
       "      <td>155320</td>\n",
       "      <td>Another Trick Up My Sleeve (Instrumental)</td>\n",
       "      <td>['10', '12', '169']</td>\n",
       "      <td>/mnt/disks/data/fma/fma_large/155/155320.mp3</td>\n",
       "    </tr>\n",
       "  </tbody>\n",
       "</table>\n",
       "<p>104186 rows × 4 columns</p>\n",
       "</div>"
      ],
      "text/plain": [
       "        track_id                                track_title  \\\n",
       "0              2                                       Food   \n",
       "1              3                               Electric Ave   \n",
       "2              5                                 This World   \n",
       "3             10                                    Freeway   \n",
       "4             20                            Spiritual Level   \n",
       "...          ...                                        ...   \n",
       "104181    155316                                  The Auger   \n",
       "104182    155317                            Let's Skin Ruby   \n",
       "104183    155318         My House Smells Like Kim Deal/Pulp   \n",
       "104184    155319                    The Man With Two Mouths   \n",
       "104185    155320  Another Trick Up My Sleeve (Instrumental)   \n",
       "\n",
       "                valid_genre                                     file_path  \n",
       "0                    ['21']  /mnt/disks/data/fma/fma_large/000/000002.mp3  \n",
       "1                    ['21']  /mnt/disks/data/fma/fma_large/000/000003.mp3  \n",
       "2                    ['21']  /mnt/disks/data/fma/fma_large/000/000005.mp3  \n",
       "3                    ['10']  /mnt/disks/data/fma/fma_large/000/000010.mp3  \n",
       "4             ['76', '103']  /mnt/disks/data/fma/fma_large/000/000020.mp3  \n",
       "...                     ...                                           ...  \n",
       "104181               ['25']  /mnt/disks/data/fma/fma_large/155/155316.mp3  \n",
       "104182               ['25']  /mnt/disks/data/fma/fma_large/155/155317.mp3  \n",
       "104183               ['25']  /mnt/disks/data/fma/fma_large/155/155318.mp3  \n",
       "104184               ['25']  /mnt/disks/data/fma/fma_large/155/155319.mp3  \n",
       "104185  ['10', '12', '169']  /mnt/disks/data/fma/fma_large/155/155320.mp3  \n",
       "\n",
       "[104186 rows x 4 columns]"
      ]
     },
     "execution_count": 14,
     "metadata": {},
     "output_type": "execute_result"
    }
   ],
   "source": [
    "df"
   ]
  },
  {
   "cell_type": "code",
   "execution_count": null,
   "id": "5247096b-d06e-4687-befe-39e766aa5fa9",
   "metadata": {
    "tags": []
   },
   "outputs": [
    {
     "name": "stdout",
     "output_type": "stream",
     "text": [
      "Estamos usando paralelismo!!!\n"
     ]
    },
    {
     "data": {
      "application/vnd.jupyter.widget-view+json": {
       "model_id": "563f12fc4dc64cd2a8ec39d68c5909db",
       "version_major": 2,
       "version_minor": 0
      },
      "text/plain": [
       "  0%|          | 0/10240 [00:00<?, ?it/s]"
      ]
     },
     "metadata": {},
     "output_type": "display_data"
    }
   ],
   "source": [
    "generate_tf_records(df,model,filename=args.embeddings)"
   ]
  },
  {
   "cell_type": "code",
   "execution_count": null,
   "id": "c4c923cb-078a-4232-a5ee-d652b04f5b4c",
   "metadata": {},
   "outputs": [],
   "source": []
  },
  {
   "cell_type": "code",
   "execution_count": null,
   "id": "edf88444-5b91-4c8d-968a-487dc9d38fb1",
   "metadata": {},
   "outputs": [],
   "source": []
  }
 ],
 "metadata": {
  "kernelspec": {
   "display_name": "Python 3 (ipykernel)",
   "language": "python",
   "name": "python3"
  },
  "language_info": {
   "codemirror_mode": {
    "name": "ipython",
    "version": 3
   },
   "file_extension": ".py",
   "mimetype": "text/x-python",
   "name": "python",
   "nbconvert_exporter": "python",
   "pygments_lexer": "ipython3",
   "version": "3.11.4"
  }
 },
 "nbformat": 4,
 "nbformat_minor": 5
}
