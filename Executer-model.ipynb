{
 "cells": [
  {
   "cell_type": "code",
   "execution_count": 1,
   "id": "bbc291da-2fb7-4e0d-95ba-3b822d9cfaab",
   "metadata": {
    "ExecuteTime": {
     "end_time": "2024-03-09T21:10:04.916381Z",
     "start_time": "2024-03-09T21:10:04.117703Z"
    }
   },
   "outputs": [
    {
     "name": "stderr",
     "output_type": "stream",
     "text": [
      "2024-06-01 17:49:25.276987: I tensorflow/core/platform/cpu_feature_guard.cc:210] This TensorFlow binary is optimized to use available CPU instructions in performance-critical operations.\n",
      "To enable the following instructions: AVX2 AVX512F FMA, in other operations, rebuild TensorFlow with the appropriate compiler flags.\n",
      "2024-06-01 17:49:26.186082: W tensorflow/compiler/tf2tensorrt/utils/py_utils.cc:38] TF-TRT Warning: Could not find TensorRT\n"
     ]
    }
   ],
   "source": [
    "import os\n",
    "import json\n",
    "import pandas as pd\n",
    "import tensorflow as tf\n",
    "from datetime import datetime as dt\n",
    "\n",
    "from hmc.utils.dir import create_dir\n",
    "from hmc.model.arguments import  build"
   ]
  },
  {
   "cell_type": "code",
   "execution_count": 2,
   "id": "ecaa0482-fc28-4adb-b63e-b2b39ec98287",
   "metadata": {},
   "outputs": [],
   "source": [
    "from tqdm.notebook import tqdm"
   ]
  },
  {
   "cell_type": "code",
   "execution_count": 3,
   "id": "3d90f8a5-dd7e-4b0c-93d6-4e710c159fa1",
   "metadata": {},
   "outputs": [
    {
     "name": "stdout",
     "output_type": "stream",
     "text": [
      "Num GPUs Available:  1\n"
     ]
    }
   ],
   "source": [
    "print(\"Num GPUs Available: \", len(tf.config.list_physical_devices('GPU')))"
   ]
  },
  {
   "cell_type": "code",
   "execution_count": 4,
   "id": "2552d83d-8b8f-4dd7-88d4-f3d97e5938fa",
   "metadata": {},
   "outputs": [],
   "source": [
    "import os\n",
    "from datetime import datetime\n",
    "\n",
    "def horario_atual_para_diretorio():\n",
    "    # Obtém a data e hora atual\n",
    "    data_hora_atual = datetime.now()\n",
    "    \n",
    "    # Formata a data e hora para o formato de diretório desejado\n",
    "    diretorio = data_hora_atual.strftime('%Y_%m_%d_%H_%M_%S')\n",
    "    \n",
    "    return diretorio\n",
    "\n",
    "# Exemplo de uso\n",
    "diretorio_formatado = horario_atual_para_diretorio()"
   ]
  },
  {
   "cell_type": "code",
   "execution_count": 5,
   "id": "33a92da5-e8c4-4a52-87ea-fef1d0605416",
   "metadata": {},
   "outputs": [],
   "source": [
    "# Set python level verbosity\n",
    "tf.compat.v1.logging.set_verbosity(tf.compat.v1.logging.DEBUG)\n",
    "\n",
    "# Set C++ Graph Execution level verbosity\n",
    "os.environ['TF_CPP_MIN_LOG_LEVEL'] = str(tf.compat.v1.logging.DEBUG)\n",
    "\n",
    "base_path = \"/mnt/disks/data/fma/trains\"\n",
    "sample_id = \"hierarchical_tworoots_dev\"\n",
    "\n",
    "\n",
    "train_path = os.path.join(base_path, sample_id)\n",
    "tfrecords_path =os.path.join(train_path,'tfrecords')\n",
    "metadata_path = os.path.join(train_path,\"metadata.json\")\n",
    "labels_path = os.path.join(train_path,\"labels.json\")\n",
    "\n",
    "model_id = diretorio_formatado\n",
    "\n",
    "model_path = os.path.join(train_path, model_id)\n",
    "\n",
    "args = pd.Series({\n",
    "    \"batch_size\":32,\n",
    "    \"epochs\":10,\n",
    "    \"dropout\":0.3,\n",
    "    'patience':1,\n",
    "    'max_queue_size':64,\n",
    "    \"labels_path\": labels_path,\n",
    "    \"metadata_path\": metadata_path,\n",
    "    \"trainset_pattern\": os.path.join(tfrecords_path,'train'),\n",
    "    \"testset_pattern\": os.path.join(tfrecords_path,'test'),\n",
    "    \"valset_pattern\": os.path.join(tfrecords_path,'val'),\n",
    "    \"model_path\":model_path\n",
    "})\n"
   ]
  },
  {
   "cell_type": "code",
   "execution_count": 6,
   "id": "b53b46a1-0880-46e6-a9ab-ae437901e2e4",
   "metadata": {},
   "outputs": [
    {
     "data": {
      "text/plain": [
       "True"
      ]
     },
     "execution_count": 6,
     "metadata": {},
     "output_type": "execute_result"
    }
   ],
   "source": [
    "create_dir(model_path)"
   ]
  },
  {
   "cell_type": "code",
   "execution_count": 7,
   "id": "9605e507-64f7-4bad-88ba-49388a2ac3fa",
   "metadata": {},
   "outputs": [],
   "source": [
    "\n",
    "import multiprocessing\n",
    "\n",
    "\n",
    "BUFFER_SIZE = 10\n",
    "\n",
    "\n",
    "class Dataset:\n",
    "    def __init__(self,files,epochs, batch_size, levels_size):\n",
    "        self.epochs = epochs\n",
    "        self.batch_size = batch_size\n",
    "        self.files = files\n",
    "        self.depth = len(levels_size)\n",
    "        self.levels_size = levels_size\n",
    "\n",
    "    def load_dataframe(self, dataset):\n",
    "        columns = ['features','labels']\n",
    "        \n",
    "        \n",
    "        df = pd.DataFrame(\n",
    "            dataset.as_numpy_iterator(),\n",
    "            columns=columns\n",
    "        )\n",
    "    \n",
    "        df.dropna(inplace=True)\n",
    "    \n",
    "        return df\n",
    "\n",
    "    def build(self,df=False):\n",
    "        \n",
    "        files = [os.path.join(self.files,file) for file in os.listdir(self.files)]\n",
    "\n",
    "        ds = tf.data.TFRecordDataset(files)\n",
    "        \n",
    "        '''''\n",
    "            Shuffle and reapeat\n",
    "        '''''\n",
    "        \n",
    "        #ds = ds.shuffle(buffer_size=1024 * 50 * 10)\n",
    "        #ds = ds.repeat(count=self.epochs)\n",
    "        \n",
    "        \n",
    "        '''''\n",
    "            Map and batch\n",
    "        '''''\n",
    "        \n",
    "                      \n",
    "        ds = ds.map(self.__parse__, num_parallel_calls=None)\n",
    "\n",
    "        if df==True:\n",
    "            return self.load_dataframe(ds)\n",
    "        \n",
    "        ds = ds.batch(self.batch_size,drop_remainder=False)\n",
    "        \n",
    "        \n",
    "                      \n",
    "        ds = ds.prefetch(buffer_size=5)\n",
    "        \n",
    "        \n",
    "        return ds\n",
    "\n",
    "    def convert_to_binary(self, label, num_classes):\n",
    "        # Filtrar índices negativos\n",
    "        valid_indices = tf.boolean_mask(label, label >= 0)\n",
    "        \n",
    "        # Inicializar vetor binário\n",
    "        binary_label = tf.zeros(num_classes, dtype=tf.float32)\n",
    "        \n",
    "        # Atualizar vetor binário com base nos rótulos válidos\n",
    "        indices = tf.expand_dims(valid_indices, 1)\n",
    "        updates = tf.ones_like(valid_indices, dtype=tf.float32)\n",
    "        binary_label = tf.tensor_scatter_nd_update(binary_label, indices, updates)\n",
    "\n",
    "        return binary_label\n",
    "\n",
    "    def __parse__(self, element):\n",
    "        data = {}\n",
    "        for level in range(1, self.depth+1):\n",
    "            data[f'label{level}'] = tf.io.FixedLenSequenceFeature([], tf.int64, allow_missing=True)\n",
    "        \n",
    "        data.update({\n",
    "            'features': tf.io.FixedLenFeature([1280], tf.float32),\n",
    "            'track_id' : tf.io.FixedLenFeature([], tf.int64),\n",
    "        })\n",
    "        \n",
    "        content = tf.io.parse_single_example(element, data)\n",
    "\n",
    "        labels = {}\n",
    "        for level in range(1, self.depth+1):\n",
    "            local_label = content[f'label{level}']\n",
    "            binary_label = self.convert_to_binary(local_label, self.levels_size[f'level{level}'])\n",
    "            labels.update({f'level{level}_output': binary_label})\n",
    "        \n",
    "\n",
    "        inp = {\"features\":content['features'] }\n",
    "\n",
    "        return inp, labels\n"
   ]
  },
  {
   "cell_type": "code",
   "execution_count": 21,
   "id": "eafea662-1fd5-48ff-9aa1-e5232953e15e",
   "metadata": {},
   "outputs": [],
   "source": [
    "from keras import layers\n",
    "from keras.layers import Dense, Dropout, Reshape, Concatenate, Flatten, Input, Normalization\n",
    "from keras.optimizers import Adam\n",
    "\n",
    "import numpy as np\n",
    "\n",
    "# class OutputNormalization(layers.Layer):\n",
    "#     def call(self, x, **kwargs):\n",
    "#         norm_output = tf.one_hot(tf.math.argmax(x, axis=1), x.shape[1], dtype=x.dtype)\n",
    "#         norm_output = Flatten()(norm_output)\n",
    "#         norm_output = Reshape((1,))(norm_output)\n",
    "#         return norm_output\n",
    "\n",
    "#     def compute_output_shape(self, input_shape):\n",
    "#         return input_shape\n",
    "\n",
    "class OutputNormalization(tf.keras.layers.Layer):\n",
    "    def call(self, inputs):\n",
    "        return tf.nn.softmax(inputs)  # Exemplo de normalização, ajuste conforme necessário\n",
    "\n",
    "\n",
    "def _load_weights(model, weights_path):\n",
    "    print(model.summary())\n",
    "\n",
    "    if weights_path and tf.io.gfile.exists(f\"{weights_path}.index\"):\n",
    "        print(f\"load weights for model {model.name}. weights_path={weights_path}\")\n",
    "        model.load_weights(weights_path)\n",
    "\n",
    "    return model\n",
    "\n",
    "\n",
    "def build_cnn(feature, input_shape):\n",
    "    x: object = Normalization(input_shape=[input_shape, 1], axis=None)(feature)\n",
    "    x = layers.Conv1D(128, 3, activation='relu', padding=\"valid\")(x)\n",
    "    x = layers.MaxPooling1D()(x)\n",
    "    x = layers.Conv1D(64, 3, activation='relu', padding=\"valid\")(x)\n",
    "    x = layers.MaxPooling1D()(x)\n",
    "    x = layers.Conv1D(32, 3, activation='relu', padding=\"valid\")(x)\n",
    "    x = layers.MaxPooling1D()(x)\n",
    "    x = layers.Flatten()(x)\n",
    "\n",
    "    return x\n",
    "\n",
    "\n",
    "def build_classification(x, size, dropout, input_shape=1024, name='level1'):\n",
    "    #x: object = Dense(input_shape, activation='relu')(x)\n",
    "    #x = Dropout(dropout)(x)\n",
    "    #x = Dense(int(input_shape/2), activation='relu')(x)\n",
    "    #x = Dropout(dropout)(x)\n",
    "    x = Dense(int(input_shape/2), activation='relu')(x)\n",
    "    x = Dropout(dropout)(x)\n",
    "    x = Dense(size, activation='sigmoid', name=name+'_output')(x)\n",
    "\n",
    "    return x\n",
    "\n",
    "\n",
    "def build_model(levels_size: dict, sequence_size: int = 1280, dropout: float = 0.7) -> tf.keras.models.Model:\n",
    "    \"\"\"\n",
    "\n",
    "    :rtype: tf.keras.models.Model\n",
    "    \"\"\"\n",
    "    input_shape = (sequence_size, 1)\n",
    "    fcn_size = 1024\n",
    "    input_layer = Input(shape=input_shape, dtype=tf.float32, name=\"features\")\n",
    "    x = Dense(fcn_size, activation='relu')(input_layer)\n",
    "    x = Dropout(dropout)(x)\n",
    "    x = Dense(int(fcn_size / 2), activation='relu')(x)\n",
    "    x = Dropout(dropout)(x)\n",
    "    #x_flat = Flatten()(input_layer)\n",
    "    \n",
    "    depth = len(levels_size)\n",
    "\n",
    "    #x: object = build_cnn(music, input_shape)\n",
    "\n",
    "    # Construção das camadas sequencialmente\n",
    "    prev_output = x\n",
    "    outputs = []\n",
    "    for level, size in levels_size.items():\n",
    "        # Construir a camada atual\n",
    "        current_input = prev_output \n",
    "        #current_input = prev_output if level == 'level1' else Concatenate(axis=1)([Flatten()(OutputNormalization()(prev_output)), input_layer])\n",
    "        output = build_classification(current_input, size, dropout,\n",
    "                                              input_shape=fcn_size, name=level)\n",
    "\n",
    "        # Atualizar a saída anterior para a próxima iteração\n",
    "        prev_output = output\n",
    "        outputs.append(prev_output)\n",
    "    \n",
    "\n",
    "    model = tf.keras.models.Model(inputs=input_layer, outputs=outputs, name=\"Essentia\")\n",
    "\n",
    "    #     _load_weights(model, weights_path)\n",
    "    \n",
    "    optimizer = Adam(learning_rate=0.001, beta_1=0.9, beta_2=0.999, epsilon=1e-08)\n",
    "\n",
    "    model.compile(optimizer=optimizer,\n",
    "                   loss='binary_crossentropy', metrics=['accuracy']*4)\n",
    "\n",
    "    return model\n"
   ]
  },
  {
   "cell_type": "code",
   "execution_count": 22,
   "id": "ca856c25-97fd-4f11-ad9d-5eb1e7d1c452",
   "metadata": {},
   "outputs": [
    {
     "name": "stdout",
     "output_type": "stream",
     "text": [
      "{'sequence_size': 1280, 'max_depth': 4, 'levels_size': [2, 30, 16], 'val_path': '/mnt/disks/data/fma/trains/hierarchical_tworoots_dev/tfrecords/val', 'train_path': '/mnt/disks/data/fma/trains/hierarchical_tworoots_dev/tfrecords/train', 'test_path': '/mnt/disks/data/fma/trains/hierarchical_tworoots_dev/tfrecords/test', 'val_csv': '/mnt/disks/data/fma/trains/hierarchical_tworoots_dev/val.csv', 'train_csv': '/mnt/disks/data/fma/trains/hierarchical_tworoots_dev/train.csv', 'test_csv': '/mnt/disks/data/fma/trains/hierarchical_tworoots_dev/test.csv', 'trainset_count': 16791, 'validationset_count': 2007, 'testset_count': 4814}\n"
     ]
    }
   ],
   "source": [
    "with open(args.metadata_path, 'r') as f:\n",
    "    metadata = json.loads(f.read())\n",
    "    print(metadata)"
   ]
  },
  {
   "cell_type": "code",
   "execution_count": 23,
   "id": "87c09479-b7b0-46eb-8cac-6c3d469169ab",
   "metadata": {},
   "outputs": [
    {
     "data": {
      "text/plain": [
       "16791"
      ]
     },
     "execution_count": 23,
     "metadata": {},
     "output_type": "execute_result"
    }
   ],
   "source": [
    "metadata['trainset_count']"
   ]
  },
  {
   "cell_type": "code",
   "execution_count": 24,
   "id": "6733704f-f78c-466c-8118-26724c513eca",
   "metadata": {},
   "outputs": [],
   "source": [
    "with open(args.labels_path, 'r') as f:\n",
    "    labels = json.loads(f.read())"
   ]
  },
  {
   "cell_type": "code",
   "execution_count": 25,
   "id": "85384b3a-8c26-4f6b-95c8-676eb5c19835",
   "metadata": {},
   "outputs": [],
   "source": [
    "levels_size = {'level1': labels['label_1_count'] ,\n",
    "                   'level2': labels['label_2_count'] ,\n",
    "                   'level3': labels['label_3_count'] ,\n",
    "                   'level4': labels['label_4_count'] }"
   ]
  },
  {
   "cell_type": "code",
   "execution_count": 27,
   "id": "2aaadaf4-55a6-4287-94dc-890161b1bec6",
   "metadata": {},
   "outputs": [
    {
     "name": "stdout",
     "output_type": "stream",
     "text": [
      "level1\n",
      "level2\n",
      "level3\n",
      "level4\n"
     ]
    }
   ],
   "source": [
    "for level, labels in levels_size.items():\n",
    "    print(level)"
   ]
  },
  {
   "cell_type": "code",
   "execution_count": 14,
   "id": "a5762a07-fd43-491b-aa2f-5dd9dddd87ea",
   "metadata": {},
   "outputs": [],
   "source": [
    "depth = len(levels_size)"
   ]
  },
  {
   "cell_type": "code",
   "execution_count": 15,
   "id": "e836ce7f-9859-4e2d-96f4-b5afe10711ce",
   "metadata": {},
   "outputs": [],
   "source": [
    "#ds_train = Dataset(args.trainset_pattern, args.epochs, args.batch_size, levels_size).build(df=False)"
   ]
  },
  {
   "cell_type": "code",
   "execution_count": 16,
   "id": "76cd697f-0c8f-465f-8bd9-13f649f334c6",
   "metadata": {},
   "outputs": [],
   "source": [
    "#df_train = Dataset(args.trainset_pattern, args.epochs, args.batch_size, levels_size).build(df=True)"
   ]
  },
  {
   "cell_type": "code",
   "execution_count": 18,
   "id": "232e1d65-7a7e-44a3-a878-9d04bd9ce7a9",
   "metadata": {},
   "outputs": [],
   "source": [
    "from keras.callbacks import EarlyStopping\n",
    "# from sabotage.model.callback import ValidateCallback, BackupAndRestoreCheckpoint\n",
    "\n",
    "def run(args: object):\n",
    "    print(args)\n",
    "\n",
    "    with open(args.metadata_path, 'r') as f:\n",
    "        metadata = json.loads(f.read())\n",
    "        print(metadata)\n",
    "\n",
    "    with open(args.labels_path, 'r') as f:\n",
    "        labels = json.loads(f.read())\n",
    "\n",
    "    levels_size = {'level1': labels['label_1_count'] ,\n",
    "                   'level2': labels['label_2_count'] ,\n",
    "                   'level3': labels['label_3_count'] ,\n",
    "                   'level4': labels['label_4_count'] }\n",
    "\n",
    "    params: dict = {\n",
    "        'levels_size': levels_size,\n",
    "        'sequence_size': metadata['sequence_size'],\n",
    "        'dropout': args.dropout\n",
    "    }\n",
    "\n",
    "    print(params)\n",
    "    model = build_model(**params)\n",
    "    print(model.summary())\n",
    "    \n",
    "    tf.keras.utils.plot_model(\n",
    "        model,\n",
    "        to_file=\"model.png\",\n",
    "        show_shapes=False,\n",
    "        show_dtype=False,\n",
    "        show_layer_names=True,\n",
    "        rankdir=\"TB\",\n",
    "        expand_nested=False,\n",
    "        dpi=96,\n",
    "        layer_range=None,\n",
    "        show_layer_activations=False,\n",
    "        show_trainable=False,\n",
    "    )\n",
    "\n",
    "    depth = len(params['levels_size'])\n",
    "    \n",
    "    ds_train = Dataset(args.trainset_pattern, args.epochs, args.batch_size, params['levels_size']).build(df=False)\n",
    "    ds_validation = Dataset(args.valset_pattern, args.epochs, args.batch_size, params['levels_size']).build(df=False)\n",
    "    callbacks = [EarlyStopping(monitor='loss', patience=args.patience, verbose=1)]\n",
    "    model.fit(ds_train,\n",
    "              validation_data=ds_validation,\n",
    "              steps_per_epoch=metadata['trainset_count'] // args.batch_size,\n",
    "              validation_steps=metadata['validationset_count'] // args.batch_size,\n",
    "              epochs=args.epochs,\n",
    "              callbacks=callbacks)\n",
    "\n",
    "    model.save(os.path.join(args.model_path, 'best_binary.keras'))\n"
   ]
  },
  {
   "cell_type": "code",
   "execution_count": 168,
   "id": "b033032f-4cb5-46bf-8ecc-3517ddaf6f51",
   "metadata": {
    "tags": []
   },
   "outputs": [
    {
     "name": "stdout",
     "output_type": "stream",
     "text": [
      "[<built-in function id>] Experiment started at 01:11:34\n",
      ".......................................\n",
      "batch_size                                                         32\n",
      "epochs                                                             10\n",
      "dropout                                                           0.3\n",
      "patience                                                            1\n",
      "max_queue_size                                                     64\n",
      "labels_path         /mnt/disks/data/fma/trains/hierarchical_tworoo...\n",
      "metadata_path       /mnt/disks/data/fma/trains/hierarchical_tworoo...\n",
      "trainset_pattern    /mnt/disks/data/fma/trains/hierarchical_tworoo...\n",
      "testset_pattern     /mnt/disks/data/fma/trains/hierarchical_tworoo...\n",
      "valset_pattern      /mnt/disks/data/fma/trains/hierarchical_tworoo...\n",
      "model_path          /mnt/disks/data/fma/trains/hierarchical_tworoo...\n",
      "dtype: object\n",
      "batch_size                                                         32\n",
      "epochs                                                             10\n",
      "dropout                                                           0.3\n",
      "patience                                                            1\n",
      "max_queue_size                                                     64\n",
      "labels_path         /mnt/disks/data/fma/trains/hierarchical_tworoo...\n",
      "metadata_path       /mnt/disks/data/fma/trains/hierarchical_tworoo...\n",
      "trainset_pattern    /mnt/disks/data/fma/trains/hierarchical_tworoo...\n",
      "testset_pattern     /mnt/disks/data/fma/trains/hierarchical_tworoo...\n",
      "valset_pattern      /mnt/disks/data/fma/trains/hierarchical_tworoo...\n",
      "model_path          /mnt/disks/data/fma/trains/hierarchical_tworoo...\n",
      "dtype: object\n",
      "{'sequence_size': 1280, 'max_depth': 4, 'levels_size': [2, 30, 16], 'val_path': '/mnt/disks/data/fma/trains/hierarchical_tworoots_dev/tfrecords/val', 'train_path': '/mnt/disks/data/fma/trains/hierarchical_tworoots_dev/tfrecords/train', 'test_path': '/mnt/disks/data/fma/trains/hierarchical_tworoots_dev/tfrecords/test', 'val_csv': '/mnt/disks/data/fma/trains/hierarchical_tworoots_dev/val.csv', 'train_csv': '/mnt/disks/data/fma/trains/hierarchical_tworoots_dev/train.csv', 'test_csv': '/mnt/disks/data/fma/trains/hierarchical_tworoots_dev/test.csv', 'trainset_count': 16791, 'validationset_count': 2007, 'testset_count': 4814}\n",
      "{'levels_size': {'level1': 2, 'level2': 30, 'level3': 16, 'level4': 3}, 'sequence_size': 1280, 'dropout': 0.3}\n"
     ]
    },
    {
     "data": {
      "text/html": [
       "<pre style=\"white-space:pre;overflow-x:auto;line-height:normal;font-family:Menlo,'DejaVu Sans Mono',consolas,'Courier New',monospace\"><span style=\"font-weight: bold\">Model: \"Essentia\"</span>\n",
       "</pre>\n"
      ],
      "text/plain": [
       "\u001b[1mModel: \"Essentia\"\u001b[0m\n"
      ]
     },
     "metadata": {},
     "output_type": "display_data"
    },
    {
     "data": {
      "text/html": [
       "<pre style=\"white-space:pre;overflow-x:auto;line-height:normal;font-family:Menlo,'DejaVu Sans Mono',consolas,'Courier New',monospace\">┏━━━━━━━━━━━━━━━━━━━━━━━━━━━━━━━━━┳━━━━━━━━━━━━━━━━━━━━━━━━┳━━━━━━━━━━━━━━━┓\n",
       "┃<span style=\"font-weight: bold\"> Layer (type)                    </span>┃<span style=\"font-weight: bold\"> Output Shape           </span>┃<span style=\"font-weight: bold\">       Param # </span>┃\n",
       "┡━━━━━━━━━━━━━━━━━━━━━━━━━━━━━━━━━╇━━━━━━━━━━━━━━━━━━━━━━━━╇━━━━━━━━━━━━━━━┩\n",
       "│ features (<span style=\"color: #0087ff; text-decoration-color: #0087ff\">InputLayer</span>)           │ (<span style=\"color: #00d7ff; text-decoration-color: #00d7ff\">None</span>, <span style=\"color: #00af00; text-decoration-color: #00af00\">1280</span>, <span style=\"color: #00af00; text-decoration-color: #00af00\">1</span>)        │             <span style=\"color: #00af00; text-decoration-color: #00af00\">0</span> │\n",
       "├─────────────────────────────────┼────────────────────────┼───────────────┤\n",
       "│ dense_69 (<span style=\"color: #0087ff; text-decoration-color: #0087ff\">Dense</span>)                │ (<span style=\"color: #00d7ff; text-decoration-color: #00d7ff\">None</span>, <span style=\"color: #00af00; text-decoration-color: #00af00\">1280</span>, <span style=\"color: #00af00; text-decoration-color: #00af00\">512</span>)      │         <span style=\"color: #00af00; text-decoration-color: #00af00\">1,024</span> │\n",
       "├─────────────────────────────────┼────────────────────────┼───────────────┤\n",
       "│ dropout_67 (<span style=\"color: #0087ff; text-decoration-color: #0087ff\">Dropout</span>)            │ (<span style=\"color: #00d7ff; text-decoration-color: #00d7ff\">None</span>, <span style=\"color: #00af00; text-decoration-color: #00af00\">1280</span>, <span style=\"color: #00af00; text-decoration-color: #00af00\">512</span>)      │             <span style=\"color: #00af00; text-decoration-color: #00af00\">0</span> │\n",
       "├─────────────────────────────────┼────────────────────────┼───────────────┤\n",
       "│ level1_output (<span style=\"color: #0087ff; text-decoration-color: #0087ff\">Dense</span>)           │ (<span style=\"color: #00d7ff; text-decoration-color: #00d7ff\">None</span>, <span style=\"color: #00af00; text-decoration-color: #00af00\">1280</span>, <span style=\"color: #00af00; text-decoration-color: #00af00\">2</span>)        │         <span style=\"color: #00af00; text-decoration-color: #00af00\">1,026</span> │\n",
       "├─────────────────────────────────┼────────────────────────┼───────────────┤\n",
       "│ dense_70 (<span style=\"color: #0087ff; text-decoration-color: #0087ff\">Dense</span>)                │ (<span style=\"color: #00d7ff; text-decoration-color: #00d7ff\">None</span>, <span style=\"color: #00af00; text-decoration-color: #00af00\">1280</span>, <span style=\"color: #00af00; text-decoration-color: #00af00\">512</span>)      │         <span style=\"color: #00af00; text-decoration-color: #00af00\">1,536</span> │\n",
       "├─────────────────────────────────┼────────────────────────┼───────────────┤\n",
       "│ dropout_68 (<span style=\"color: #0087ff; text-decoration-color: #0087ff\">Dropout</span>)            │ (<span style=\"color: #00d7ff; text-decoration-color: #00d7ff\">None</span>, <span style=\"color: #00af00; text-decoration-color: #00af00\">1280</span>, <span style=\"color: #00af00; text-decoration-color: #00af00\">512</span>)      │             <span style=\"color: #00af00; text-decoration-color: #00af00\">0</span> │\n",
       "├─────────────────────────────────┼────────────────────────┼───────────────┤\n",
       "│ level2_output (<span style=\"color: #0087ff; text-decoration-color: #0087ff\">Dense</span>)           │ (<span style=\"color: #00d7ff; text-decoration-color: #00d7ff\">None</span>, <span style=\"color: #00af00; text-decoration-color: #00af00\">1280</span>, <span style=\"color: #00af00; text-decoration-color: #00af00\">30</span>)       │        <span style=\"color: #00af00; text-decoration-color: #00af00\">15,390</span> │\n",
       "├─────────────────────────────────┼────────────────────────┼───────────────┤\n",
       "│ dense_71 (<span style=\"color: #0087ff; text-decoration-color: #0087ff\">Dense</span>)                │ (<span style=\"color: #00d7ff; text-decoration-color: #00d7ff\">None</span>, <span style=\"color: #00af00; text-decoration-color: #00af00\">1280</span>, <span style=\"color: #00af00; text-decoration-color: #00af00\">512</span>)      │        <span style=\"color: #00af00; text-decoration-color: #00af00\">15,872</span> │\n",
       "├─────────────────────────────────┼────────────────────────┼───────────────┤\n",
       "│ dropout_69 (<span style=\"color: #0087ff; text-decoration-color: #0087ff\">Dropout</span>)            │ (<span style=\"color: #00d7ff; text-decoration-color: #00d7ff\">None</span>, <span style=\"color: #00af00; text-decoration-color: #00af00\">1280</span>, <span style=\"color: #00af00; text-decoration-color: #00af00\">512</span>)      │             <span style=\"color: #00af00; text-decoration-color: #00af00\">0</span> │\n",
       "├─────────────────────────────────┼────────────────────────┼───────────────┤\n",
       "│ level3_output (<span style=\"color: #0087ff; text-decoration-color: #0087ff\">Dense</span>)           │ (<span style=\"color: #00d7ff; text-decoration-color: #00d7ff\">None</span>, <span style=\"color: #00af00; text-decoration-color: #00af00\">1280</span>, <span style=\"color: #00af00; text-decoration-color: #00af00\">16</span>)       │         <span style=\"color: #00af00; text-decoration-color: #00af00\">8,208</span> │\n",
       "├─────────────────────────────────┼────────────────────────┼───────────────┤\n",
       "│ dense_72 (<span style=\"color: #0087ff; text-decoration-color: #0087ff\">Dense</span>)                │ (<span style=\"color: #00d7ff; text-decoration-color: #00d7ff\">None</span>, <span style=\"color: #00af00; text-decoration-color: #00af00\">1280</span>, <span style=\"color: #00af00; text-decoration-color: #00af00\">512</span>)      │         <span style=\"color: #00af00; text-decoration-color: #00af00\">8,704</span> │\n",
       "├─────────────────────────────────┼────────────────────────┼───────────────┤\n",
       "│ dropout_70 (<span style=\"color: #0087ff; text-decoration-color: #0087ff\">Dropout</span>)            │ (<span style=\"color: #00d7ff; text-decoration-color: #00d7ff\">None</span>, <span style=\"color: #00af00; text-decoration-color: #00af00\">1280</span>, <span style=\"color: #00af00; text-decoration-color: #00af00\">512</span>)      │             <span style=\"color: #00af00; text-decoration-color: #00af00\">0</span> │\n",
       "├─────────────────────────────────┼────────────────────────┼───────────────┤\n",
       "│ level4_output (<span style=\"color: #0087ff; text-decoration-color: #0087ff\">Dense</span>)           │ (<span style=\"color: #00d7ff; text-decoration-color: #00d7ff\">None</span>, <span style=\"color: #00af00; text-decoration-color: #00af00\">1280</span>, <span style=\"color: #00af00; text-decoration-color: #00af00\">3</span>)        │         <span style=\"color: #00af00; text-decoration-color: #00af00\">1,539</span> │\n",
       "└─────────────────────────────────┴────────────────────────┴───────────────┘\n",
       "</pre>\n"
      ],
      "text/plain": [
       "┏━━━━━━━━━━━━━━━━━━━━━━━━━━━━━━━━━┳━━━━━━━━━━━━━━━━━━━━━━━━┳━━━━━━━━━━━━━━━┓\n",
       "┃\u001b[1m \u001b[0m\u001b[1mLayer (type)                   \u001b[0m\u001b[1m \u001b[0m┃\u001b[1m \u001b[0m\u001b[1mOutput Shape          \u001b[0m\u001b[1m \u001b[0m┃\u001b[1m \u001b[0m\u001b[1m      Param #\u001b[0m\u001b[1m \u001b[0m┃\n",
       "┡━━━━━━━━━━━━━━━━━━━━━━━━━━━━━━━━━╇━━━━━━━━━━━━━━━━━━━━━━━━╇━━━━━━━━━━━━━━━┩\n",
       "│ features (\u001b[38;5;33mInputLayer\u001b[0m)           │ (\u001b[38;5;45mNone\u001b[0m, \u001b[38;5;34m1280\u001b[0m, \u001b[38;5;34m1\u001b[0m)        │             \u001b[38;5;34m0\u001b[0m │\n",
       "├─────────────────────────────────┼────────────────────────┼───────────────┤\n",
       "│ dense_69 (\u001b[38;5;33mDense\u001b[0m)                │ (\u001b[38;5;45mNone\u001b[0m, \u001b[38;5;34m1280\u001b[0m, \u001b[38;5;34m512\u001b[0m)      │         \u001b[38;5;34m1,024\u001b[0m │\n",
       "├─────────────────────────────────┼────────────────────────┼───────────────┤\n",
       "│ dropout_67 (\u001b[38;5;33mDropout\u001b[0m)            │ (\u001b[38;5;45mNone\u001b[0m, \u001b[38;5;34m1280\u001b[0m, \u001b[38;5;34m512\u001b[0m)      │             \u001b[38;5;34m0\u001b[0m │\n",
       "├─────────────────────────────────┼────────────────────────┼───────────────┤\n",
       "│ level1_output (\u001b[38;5;33mDense\u001b[0m)           │ (\u001b[38;5;45mNone\u001b[0m, \u001b[38;5;34m1280\u001b[0m, \u001b[38;5;34m2\u001b[0m)        │         \u001b[38;5;34m1,026\u001b[0m │\n",
       "├─────────────────────────────────┼────────────────────────┼───────────────┤\n",
       "│ dense_70 (\u001b[38;5;33mDense\u001b[0m)                │ (\u001b[38;5;45mNone\u001b[0m, \u001b[38;5;34m1280\u001b[0m, \u001b[38;5;34m512\u001b[0m)      │         \u001b[38;5;34m1,536\u001b[0m │\n",
       "├─────────────────────────────────┼────────────────────────┼───────────────┤\n",
       "│ dropout_68 (\u001b[38;5;33mDropout\u001b[0m)            │ (\u001b[38;5;45mNone\u001b[0m, \u001b[38;5;34m1280\u001b[0m, \u001b[38;5;34m512\u001b[0m)      │             \u001b[38;5;34m0\u001b[0m │\n",
       "├─────────────────────────────────┼────────────────────────┼───────────────┤\n",
       "│ level2_output (\u001b[38;5;33mDense\u001b[0m)           │ (\u001b[38;5;45mNone\u001b[0m, \u001b[38;5;34m1280\u001b[0m, \u001b[38;5;34m30\u001b[0m)       │        \u001b[38;5;34m15,390\u001b[0m │\n",
       "├─────────────────────────────────┼────────────────────────┼───────────────┤\n",
       "│ dense_71 (\u001b[38;5;33mDense\u001b[0m)                │ (\u001b[38;5;45mNone\u001b[0m, \u001b[38;5;34m1280\u001b[0m, \u001b[38;5;34m512\u001b[0m)      │        \u001b[38;5;34m15,872\u001b[0m │\n",
       "├─────────────────────────────────┼────────────────────────┼───────────────┤\n",
       "│ dropout_69 (\u001b[38;5;33mDropout\u001b[0m)            │ (\u001b[38;5;45mNone\u001b[0m, \u001b[38;5;34m1280\u001b[0m, \u001b[38;5;34m512\u001b[0m)      │             \u001b[38;5;34m0\u001b[0m │\n",
       "├─────────────────────────────────┼────────────────────────┼───────────────┤\n",
       "│ level3_output (\u001b[38;5;33mDense\u001b[0m)           │ (\u001b[38;5;45mNone\u001b[0m, \u001b[38;5;34m1280\u001b[0m, \u001b[38;5;34m16\u001b[0m)       │         \u001b[38;5;34m8,208\u001b[0m │\n",
       "├─────────────────────────────────┼────────────────────────┼───────────────┤\n",
       "│ dense_72 (\u001b[38;5;33mDense\u001b[0m)                │ (\u001b[38;5;45mNone\u001b[0m, \u001b[38;5;34m1280\u001b[0m, \u001b[38;5;34m512\u001b[0m)      │         \u001b[38;5;34m8,704\u001b[0m │\n",
       "├─────────────────────────────────┼────────────────────────┼───────────────┤\n",
       "│ dropout_70 (\u001b[38;5;33mDropout\u001b[0m)            │ (\u001b[38;5;45mNone\u001b[0m, \u001b[38;5;34m1280\u001b[0m, \u001b[38;5;34m512\u001b[0m)      │             \u001b[38;5;34m0\u001b[0m │\n",
       "├─────────────────────────────────┼────────────────────────┼───────────────┤\n",
       "│ level4_output (\u001b[38;5;33mDense\u001b[0m)           │ (\u001b[38;5;45mNone\u001b[0m, \u001b[38;5;34m1280\u001b[0m, \u001b[38;5;34m3\u001b[0m)        │         \u001b[38;5;34m1,539\u001b[0m │\n",
       "└─────────────────────────────────┴────────────────────────┴───────────────┘\n"
      ]
     },
     "metadata": {},
     "output_type": "display_data"
    },
    {
     "data": {
      "text/html": [
       "<pre style=\"white-space:pre;overflow-x:auto;line-height:normal;font-family:Menlo,'DejaVu Sans Mono',consolas,'Courier New',monospace\"><span style=\"font-weight: bold\"> Total params: </span><span style=\"color: #00af00; text-decoration-color: #00af00\">53,299</span> (208.20 KB)\n",
       "</pre>\n"
      ],
      "text/plain": [
       "\u001b[1m Total params: \u001b[0m\u001b[38;5;34m53,299\u001b[0m (208.20 KB)\n"
      ]
     },
     "metadata": {},
     "output_type": "display_data"
    },
    {
     "data": {
      "text/html": [
       "<pre style=\"white-space:pre;overflow-x:auto;line-height:normal;font-family:Menlo,'DejaVu Sans Mono',consolas,'Courier New',monospace\"><span style=\"font-weight: bold\"> Trainable params: </span><span style=\"color: #00af00; text-decoration-color: #00af00\">53,299</span> (208.20 KB)\n",
       "</pre>\n"
      ],
      "text/plain": [
       "\u001b[1m Trainable params: \u001b[0m\u001b[38;5;34m53,299\u001b[0m (208.20 KB)\n"
      ]
     },
     "metadata": {},
     "output_type": "display_data"
    },
    {
     "data": {
      "text/html": [
       "<pre style=\"white-space:pre;overflow-x:auto;line-height:normal;font-family:Menlo,'DejaVu Sans Mono',consolas,'Courier New',monospace\"><span style=\"font-weight: bold\"> Non-trainable params: </span><span style=\"color: #00af00; text-decoration-color: #00af00\">0</span> (0.00 B)\n",
       "</pre>\n"
      ],
      "text/plain": [
       "\u001b[1m Non-trainable params: \u001b[0m\u001b[38;5;34m0\u001b[0m (0.00 B)\n"
      ]
     },
     "metadata": {},
     "output_type": "display_data"
    },
    {
     "name": "stdout",
     "output_type": "stream",
     "text": [
      "None\n",
      "Epoch 1/10\n"
     ]
    },
    {
     "ename": "ValueError",
     "evalue": "Arguments `target` and `output` must have the same rank (ndim). Received: target.shape=(None, 2), output.shape=(None, 1280, 2)",
     "output_type": "error",
     "traceback": [
      "\u001b[0;31m---------------------------------------------------------------------------\u001b[0m",
      "\u001b[0;31mValueError\u001b[0m                                Traceback (most recent call last)",
      "Cell \u001b[0;32mIn[168], line 5\u001b[0m\n\u001b[1;32m      3\u001b[0m \u001b[38;5;28mprint\u001b[39m(\u001b[38;5;124m\"\u001b[39m\u001b[38;5;124m.......................................\u001b[39m\u001b[38;5;124m\"\u001b[39m)\n\u001b[1;32m      4\u001b[0m \u001b[38;5;28mprint\u001b[39m(args)\n\u001b[0;32m----> 5\u001b[0m \u001b[43mrun\u001b[49m\u001b[43m(\u001b[49m\u001b[43margs\u001b[49m\u001b[43m)\u001b[49m\n\u001b[1;32m      6\u001b[0m time_end \u001b[38;5;241m=\u001b[39m dt\u001b[38;5;241m.\u001b[39mutcnow()\n\u001b[1;32m      7\u001b[0m time_elapsed \u001b[38;5;241m=\u001b[39m time_end \u001b[38;5;241m-\u001b[39m time_start\n",
      "Cell \u001b[0;32mIn[167], line 48\u001b[0m, in \u001b[0;36mrun\u001b[0;34m(args)\u001b[0m\n\u001b[1;32m     46\u001b[0m ds_validation \u001b[38;5;241m=\u001b[39m Dataset(args\u001b[38;5;241m.\u001b[39mvalset_pattern, args\u001b[38;5;241m.\u001b[39mepochs, args\u001b[38;5;241m.\u001b[39mbatch_size, params[\u001b[38;5;124m'\u001b[39m\u001b[38;5;124mlevels_size\u001b[39m\u001b[38;5;124m'\u001b[39m])\u001b[38;5;241m.\u001b[39mbuild(df\u001b[38;5;241m=\u001b[39m\u001b[38;5;28;01mFalse\u001b[39;00m)\n\u001b[1;32m     47\u001b[0m callbacks \u001b[38;5;241m=\u001b[39m [EarlyStopping(monitor\u001b[38;5;241m=\u001b[39m\u001b[38;5;124m'\u001b[39m\u001b[38;5;124mloss\u001b[39m\u001b[38;5;124m'\u001b[39m, patience\u001b[38;5;241m=\u001b[39margs\u001b[38;5;241m.\u001b[39mpatience, verbose\u001b[38;5;241m=\u001b[39m\u001b[38;5;241m1\u001b[39m)]\n\u001b[0;32m---> 48\u001b[0m \u001b[43mmodel\u001b[49m\u001b[38;5;241;43m.\u001b[39;49m\u001b[43mfit\u001b[49m\u001b[43m(\u001b[49m\u001b[43mds_train\u001b[49m\u001b[43m,\u001b[49m\n\u001b[1;32m     49\u001b[0m \u001b[43m          \u001b[49m\u001b[43mvalidation_data\u001b[49m\u001b[38;5;241;43m=\u001b[39;49m\u001b[43mds_validation\u001b[49m\u001b[43m,\u001b[49m\n\u001b[1;32m     50\u001b[0m \u001b[43m          \u001b[49m\u001b[43msteps_per_epoch\u001b[49m\u001b[38;5;241;43m=\u001b[39;49m\u001b[43mmetadata\u001b[49m\u001b[43m[\u001b[49m\u001b[38;5;124;43m'\u001b[39;49m\u001b[38;5;124;43mtrainset_count\u001b[39;49m\u001b[38;5;124;43m'\u001b[39;49m\u001b[43m]\u001b[49m\u001b[43m \u001b[49m\u001b[38;5;241;43m/\u001b[39;49m\u001b[38;5;241;43m/\u001b[39;49m\u001b[43m \u001b[49m\u001b[43margs\u001b[49m\u001b[38;5;241;43m.\u001b[39;49m\u001b[43mbatch_size\u001b[49m\u001b[43m,\u001b[49m\n\u001b[1;32m     51\u001b[0m \u001b[43m          \u001b[49m\u001b[43mvalidation_steps\u001b[49m\u001b[38;5;241;43m=\u001b[39;49m\u001b[43mmetadata\u001b[49m\u001b[43m[\u001b[49m\u001b[38;5;124;43m'\u001b[39;49m\u001b[38;5;124;43mvalidationset_count\u001b[39;49m\u001b[38;5;124;43m'\u001b[39;49m\u001b[43m]\u001b[49m\u001b[43m \u001b[49m\u001b[38;5;241;43m/\u001b[39;49m\u001b[38;5;241;43m/\u001b[39;49m\u001b[43m \u001b[49m\u001b[43margs\u001b[49m\u001b[38;5;241;43m.\u001b[39;49m\u001b[43mbatch_size\u001b[49m\u001b[43m,\u001b[49m\n\u001b[1;32m     52\u001b[0m \u001b[43m          \u001b[49m\u001b[43mepochs\u001b[49m\u001b[38;5;241;43m=\u001b[39;49m\u001b[43margs\u001b[49m\u001b[38;5;241;43m.\u001b[39;49m\u001b[43mepochs\u001b[49m\u001b[43m,\u001b[49m\n\u001b[1;32m     53\u001b[0m \u001b[43m          \u001b[49m\u001b[43mcallbacks\u001b[49m\u001b[38;5;241;43m=\u001b[39;49m\u001b[43mcallbacks\u001b[49m\u001b[43m)\u001b[49m\n\u001b[1;32m     55\u001b[0m model\u001b[38;5;241m.\u001b[39msave(os\u001b[38;5;241m.\u001b[39mpath\u001b[38;5;241m.\u001b[39mjoin(args\u001b[38;5;241m.\u001b[39mmodel_path, \u001b[38;5;124m'\u001b[39m\u001b[38;5;124mbest_binary.keras\u001b[39m\u001b[38;5;124m'\u001b[39m))\n",
      "File \u001b[0;32m~/.cache/pypoetry/virtualenvs/hierarchical_multi-label_classification-GvVd3mwS-py3.11/lib/python3.11/site-packages/keras/src/utils/traceback_utils.py:122\u001b[0m, in \u001b[0;36mfilter_traceback.<locals>.error_handler\u001b[0;34m(*args, **kwargs)\u001b[0m\n\u001b[1;32m    119\u001b[0m     filtered_tb \u001b[38;5;241m=\u001b[39m _process_traceback_frames(e\u001b[38;5;241m.\u001b[39m__traceback__)\n\u001b[1;32m    120\u001b[0m     \u001b[38;5;66;03m# To get the full stack trace, call:\u001b[39;00m\n\u001b[1;32m    121\u001b[0m     \u001b[38;5;66;03m# `keras.config.disable_traceback_filtering()`\u001b[39;00m\n\u001b[0;32m--> 122\u001b[0m     \u001b[38;5;28;01mraise\u001b[39;00m e\u001b[38;5;241m.\u001b[39mwith_traceback(filtered_tb) \u001b[38;5;28;01mfrom\u001b[39;00m \u001b[38;5;28;01mNone\u001b[39;00m\n\u001b[1;32m    123\u001b[0m \u001b[38;5;28;01mfinally\u001b[39;00m:\n\u001b[1;32m    124\u001b[0m     \u001b[38;5;28;01mdel\u001b[39;00m filtered_tb\n",
      "File \u001b[0;32m~/.cache/pypoetry/virtualenvs/hierarchical_multi-label_classification-GvVd3mwS-py3.11/lib/python3.11/site-packages/keras/src/backend/tensorflow/nn.py:661\u001b[0m, in \u001b[0;36mbinary_crossentropy\u001b[0;34m(target, output, from_logits)\u001b[0m\n\u001b[1;32m    658\u001b[0m output \u001b[38;5;241m=\u001b[39m tf\u001b[38;5;241m.\u001b[39mconvert_to_tensor(output)\n\u001b[1;32m    660\u001b[0m \u001b[38;5;28;01mif\u001b[39;00m \u001b[38;5;28mlen\u001b[39m(target\u001b[38;5;241m.\u001b[39mshape) \u001b[38;5;241m!=\u001b[39m \u001b[38;5;28mlen\u001b[39m(output\u001b[38;5;241m.\u001b[39mshape):\n\u001b[0;32m--> 661\u001b[0m     \u001b[38;5;28;01mraise\u001b[39;00m \u001b[38;5;167;01mValueError\u001b[39;00m(\n\u001b[1;32m    662\u001b[0m         \u001b[38;5;124m\"\u001b[39m\u001b[38;5;124mArguments `target` and `output` must have the same rank \u001b[39m\u001b[38;5;124m\"\u001b[39m\n\u001b[1;32m    663\u001b[0m         \u001b[38;5;124m\"\u001b[39m\u001b[38;5;124m(ndim). Received: \u001b[39m\u001b[38;5;124m\"\u001b[39m\n\u001b[1;32m    664\u001b[0m         \u001b[38;5;124mf\u001b[39m\u001b[38;5;124m\"\u001b[39m\u001b[38;5;124mtarget.shape=\u001b[39m\u001b[38;5;132;01m{\u001b[39;00mtarget\u001b[38;5;241m.\u001b[39mshape\u001b[38;5;132;01m}\u001b[39;00m\u001b[38;5;124m, output.shape=\u001b[39m\u001b[38;5;132;01m{\u001b[39;00moutput\u001b[38;5;241m.\u001b[39mshape\u001b[38;5;132;01m}\u001b[39;00m\u001b[38;5;124m\"\u001b[39m\n\u001b[1;32m    665\u001b[0m     )\n\u001b[1;32m    666\u001b[0m \u001b[38;5;28;01mfor\u001b[39;00m e1, e2 \u001b[38;5;129;01min\u001b[39;00m \u001b[38;5;28mzip\u001b[39m(target\u001b[38;5;241m.\u001b[39mshape, output\u001b[38;5;241m.\u001b[39mshape):\n\u001b[1;32m    667\u001b[0m     \u001b[38;5;28;01mif\u001b[39;00m e1 \u001b[38;5;129;01mis\u001b[39;00m \u001b[38;5;129;01mnot\u001b[39;00m \u001b[38;5;28;01mNone\u001b[39;00m \u001b[38;5;129;01mand\u001b[39;00m e2 \u001b[38;5;129;01mis\u001b[39;00m \u001b[38;5;129;01mnot\u001b[39;00m \u001b[38;5;28;01mNone\u001b[39;00m \u001b[38;5;129;01mand\u001b[39;00m e1 \u001b[38;5;241m!=\u001b[39m e2:\n",
      "\u001b[0;31mValueError\u001b[0m: Arguments `target` and `output` must have the same rank (ndim). Received: target.shape=(None, 2), output.shape=(None, 1280, 2)"
     ]
    }
   ],
   "source": [
    "\n",
    "time_start = dt.utcnow()\n",
    "print(\"[{}] Experiment started at {}\".format(id, time_start.strftime(\"%H:%M:%S\")))\n",
    "print(\".......................................\")\n",
    "print(args)\n",
    "run(args)\n",
    "time_end = dt.utcnow()\n",
    "time_elapsed = time_end - time_start\n",
    "print(\".......................................\")\n",
    "print(\"[{}] Experiment finished at {} / elapsed time {}s\".format(id, time_end.strftime(\"%H:%M:%S\"), time_elapsed.total_seconds()))"
   ]
  },
  {
   "cell_type": "code",
   "execution_count": null,
   "id": "268f76e1-de7f-49db-9671-51c6793cd882",
   "metadata": {},
   "outputs": [],
   "source": []
  },
  {
   "cell_type": "code",
   "execution_count": null,
   "id": "eab810e8-1b94-4aa3-9460-b5d364e5e0af",
   "metadata": {},
   "outputs": [],
   "source": []
  },
  {
   "cell_type": "code",
   "execution_count": null,
   "id": "f979d48d-553c-48a4-afca-85edc1d2ed8a",
   "metadata": {},
   "outputs": [],
   "source": []
  }
 ],
 "metadata": {
  "kernelspec": {
   "display_name": "Python 3 (ipykernel)",
   "language": "python",
   "name": "python3"
  },
  "language_info": {
   "codemirror_mode": {
    "name": "ipython",
    "version": 3
   },
   "file_extension": ".py",
   "mimetype": "text/x-python",
   "name": "python",
   "nbconvert_exporter": "python",
   "pygments_lexer": "ipython3",
   "version": "3.12.3"
  }
 },
 "nbformat": 4,
 "nbformat_minor": 5
}
