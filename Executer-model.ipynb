{
 "cells": [
  {
   "cell_type": "code",
   "execution_count": 1,
   "id": "bbc291da-2fb7-4e0d-95ba-3b822d9cfaab",
   "metadata": {
    "ExecuteTime": {
     "end_time": "2024-06-13T23:54:23.165164Z",
     "start_time": "2024-06-13T23:54:21.523029Z"
    }
   },
   "outputs": [
    {
     "name": "stderr",
     "output_type": "stream",
     "text": [
      "2024-06-14 21:25:30.160227: I tensorflow/core/platform/cpu_feature_guard.cc:210] This TensorFlow binary is optimized to use available CPU instructions in performance-critical operations.\n",
      "To enable the following instructions: AVX2 AVX512F FMA, in other operations, rebuild TensorFlow with the appropriate compiler flags.\n",
      "2024-06-14 21:25:30.817612: W tensorflow/compiler/tf2tensorrt/utils/py_utils.cc:38] TF-TRT Warning: Could not find TensorRT\n"
     ]
    }
   ],
   "source": [
    "import json\n",
    "import pandas as pd\n",
    "import tensorflow as tf\n",
    "from datetime import datetime as dt\n",
    "tf.config.run_functions_eagerly(True)\n",
    "from hmc.utils.dir import create_dir"
   ]
  },
  {
   "cell_type": "code",
   "execution_count": 2,
   "id": "ecaa0482-fc28-4adb-b63e-b2b39ec98287",
   "metadata": {
    "ExecuteTime": {
     "end_time": "2024-06-13T23:48:34.065282Z",
     "start_time": "2024-06-13T23:48:34.061181Z"
    }
   },
   "outputs": [],
   "source": [
    "from tqdm.notebook import tqdm"
   ]
  },
  {
   "cell_type": "code",
   "execution_count": 3,
   "id": "3d90f8a5-dd7e-4b0c-93d6-4e710c159fa1",
   "metadata": {
    "ExecuteTime": {
     "end_time": "2024-06-13T23:48:34.549349Z",
     "start_time": "2024-06-13T23:48:34.544028Z"
    }
   },
   "outputs": [
    {
     "name": "stdout",
     "output_type": "stream",
     "text": [
      "Num GPUs Available:  1\n"
     ]
    }
   ],
   "source": [
    "print(\"Num GPUs Available: \", len(tf.config.list_physical_devices('GPU')))"
   ]
  },
  {
   "cell_type": "code",
   "execution_count": 4,
   "id": "2552d83d-8b8f-4dd7-88d4-f3d97e5938fa",
   "metadata": {
    "ExecuteTime": {
     "end_time": "2024-06-13T23:48:35.057062Z",
     "start_time": "2024-06-13T23:48:35.051195Z"
    }
   },
   "outputs": [],
   "source": [
    "import os\n",
    "from datetime import datetime\n",
    "\n",
    "def horario_atual_para_diretorio():\n",
    "    # Obtém a data e hora atual\n",
    "    data_hora_atual = datetime.now()\n",
    "    \n",
    "    # Formata a data e hora para o formato de diretório desejado\n",
    "    diretorio = data_hora_atual.strftime('%Y_%m_%d_%H_%M_%S')\n",
    "    \n",
    "    return diretorio\n",
    "\n",
    "# Exemplo de uso\n",
    "diretorio_formatado = horario_atual_para_diretorio()"
   ]
  },
  {
   "cell_type": "code",
   "execution_count": 5,
   "id": "33a92da5-e8c4-4a52-87ea-fef1d0605416",
   "metadata": {
    "ExecuteTime": {
     "end_time": "2024-06-13T23:48:36.001116Z",
     "start_time": "2024-06-13T23:48:35.992313Z"
    }
   },
   "outputs": [],
   "source": [
    "# Set python level verbosity\n",
    "tf.compat.v1.logging.set_verbosity(tf.compat.v1.logging.DEBUG)\n",
    "\n",
    "# Set C++ Graph Execution level verbosity\n",
    "os.environ['TF_CPP_MIN_LOG_LEVEL'] = str(tf.compat.v1.logging.DEBUG)\n",
    "\n",
    "base_path = \"/mnt/disks/data/fma/trains\"\n",
    "sample_id = \"hierarchical_tworoots_dev\"\n",
    "\n",
    "\n",
    "train_path = os.path.join(base_path, sample_id)\n",
    "tfrecords_path =os.path.join(train_path,'tfrecords')\n",
    "metadata_path = os.path.join(train_path,\"metadata.json\")\n",
    "labels_path = os.path.join(train_path,\"labels.json\")\n",
    "\n",
    "model_id = diretorio_formatado\n",
    "\n",
    "model_path = os.path.join(train_path, model_id)\n",
    "\n",
    "args = pd.Series({\n",
    "    \"batch_size\":32,\n",
    "    \"epochs\":10,\n",
    "    \"dropout\":0.7,\n",
    "    'patience':1,\n",
    "    'max_queue_size':64,\n",
    "    \"labels_path\": labels_path,\n",
    "    \"metadata_path\": metadata_path,\n",
    "    \"trainset_pattern\": os.path.join(tfrecords_path,'train'),\n",
    "    \"testset_pattern\": os.path.join(tfrecords_path,'test'),\n",
    "    \"valset_pattern\": os.path.join(tfrecords_path,'val'),\n",
    "    \"model_path\":model_path\n",
    "})\n"
   ]
  },
  {
   "cell_type": "code",
   "execution_count": 6,
   "id": "b53b46a1-0880-46e6-a9ab-ae437901e2e4",
   "metadata": {
    "ExecuteTime": {
     "end_time": "2024-06-13T23:48:19.791105Z",
     "start_time": "2024-06-13T23:48:19.658965Z"
    }
   },
   "outputs": [
    {
     "data": {
      "text/plain": [
       "True"
      ]
     },
     "execution_count": 6,
     "metadata": {},
     "output_type": "execute_result"
    }
   ],
   "source": [
    "create_dir(model_path)"
   ]
  },
  {
   "cell_type": "code",
   "execution_count": 7,
   "id": "9605e507-64f7-4bad-88ba-49388a2ac3fa",
   "metadata": {},
   "outputs": [],
   "source": [
    "\n",
    "import pandas as pd\n",
    "import tensorflow as tf\n",
    "\n",
    "import os\n",
    "\n",
    "BUFFER_SIZE = 10\n",
    "\n",
    "\n",
    "class Dataset:\n",
    "    def __init__(self,files,epochs, batch_size, levels_size):\n",
    "        self.epochs = epochs\n",
    "        self.batch_size = batch_size\n",
    "        self.files = files\n",
    "        self.depth = len(levels_size)\n",
    "        self.levels_size = levels_size\n",
    "\n",
    "    def load_dataframe(self, dataset):\n",
    "        columns = ['features','labels']\n",
    "        \n",
    "        \n",
    "        df = pd.DataFrame(\n",
    "            dataset.as_numpy_iterator(),\n",
    "            columns=columns\n",
    "        )\n",
    "    \n",
    "        df.dropna(inplace=True)\n",
    "    \n",
    "        return df\n",
    "\n",
    "    def build(self,df=False):\n",
    "        \n",
    "        files = [os.path.join(self.files,file) for file in os.listdir(self.files)]\n",
    "\n",
    "        ds = tf.data.TFRecordDataset(files)\n",
    "        \n",
    "        '''''\n",
    "            Shuffle and reapeat\n",
    "        '''''\n",
    "        \n",
    "        #ds = ds.shuffle(buffer_size=1024 * 50 * 10)\n",
    "        #ds = ds.repeat(count=self.epochs)\n",
    "        \n",
    "        \n",
    "        '''''\n",
    "            Map and batch\n",
    "        '''''\n",
    "        \n",
    "                      \n",
    "        ds = ds.map(self.__parse__, num_parallel_calls=None)\n",
    "\n",
    "        if df==True:\n",
    "            return self.load_dataframe(ds)\n",
    "        \n",
    "        ds = ds.batch(self.batch_size, drop_remainder=False)\n",
    "        \n",
    "        \n",
    "                      \n",
    "        ds = ds.prefetch(buffer_size=5)\n",
    "        \n",
    "        \n",
    "        return ds\n",
    "\n",
    "    def convert_to_binary(self, label, num_classes):\n",
    "        # Filtrar índices negativos\n",
    "        valid_indices = tf.boolean_mask(label, label >= 0)\n",
    "        \n",
    "        # Inicializar vetor binário\n",
    "        binary_label = tf.zeros(num_classes, dtype=tf.float32)\n",
    "        \n",
    "        # Atualizar vetor binário com base nos rótulos válidos\n",
    "        indices = tf.expand_dims(valid_indices, 1)\n",
    "        updates = tf.ones_like(valid_indices, dtype=tf.float32)\n",
    "        binary_label = tf.tensor_scatter_nd_update(binary_label, indices, updates)\n",
    "\n",
    "        return binary_label\n",
    "\n",
    "    def __parse__(self, element):\n",
    "        data = {}\n",
    "        for level in range(1, self.depth+1):\n",
    "            data[f'label{level}'] = tf.io.FixedLenSequenceFeature([], tf.int64, allow_missing=True)\n",
    "        \n",
    "        data.update({\n",
    "            'features': tf.io.FixedLenFeature([1280], tf.float32),\n",
    "            'track_id' : tf.io.FixedLenFeature([], tf.int64),\n",
    "        })\n",
    "        \n",
    "        content = tf.io.parse_single_example(element, data)\n",
    "\n",
    "        labels = {}\n",
    "        for level in range(1, self.depth+1):\n",
    "            local_label = content[f'label{level}']\n",
    "            binary_label = self.convert_to_binary(local_label, self.levels_size[level-1])\n",
    "            labels.update({f'level{level}': binary_label})\n",
    "        \n",
    "\n",
    "        inp = {\"features\":content['features'] }\n",
    "\n",
    "        return inp, labels\n"
   ]
  },
  {
   "cell_type": "code",
   "execution_count": 8,
   "id": "510181fc",
   "metadata": {},
   "outputs": [
    {
     "data": {
      "text/plain": [
       "'\\nfrom keras import layers\\nfrom keras.layers import Dense, Dropout, Reshape, Concatenate, Flatten, Input, Normalization\\nfrom keras.optimizers import Adam\\nimport tensorflow as tf\\n\\nimport numpy as np\\n\\n# class OutputNormalization(layers.Layer):\\n#     def call(self, x, **kwargs):\\n#         norm_output = tf.one_hot(tf.math.argmax(x, axis=1), x.shape[1], dtype=x.dtype)\\n#         norm_output = Flatten()(norm_output)\\n#         norm_output = Reshape((1,))(norm_output)\\n#         return norm_output\\n\\n#     def compute_output_shape(self, input_shape):\\n#         return input_shape\\n\\nclass OutputNormalization(layers.Layer):\\n    def call(self, x, **kwargs):\\n        return tf.one_hot(tf.math.argmax(x, axis=1), x.shape[1], dtype=x.dtype)\\n\\n    def compute_output_shape(self, input_shape):\\n        return input_shape\\n\\n\\n\\ndef build_cnn(feature, input_shape):\\n    x: object = Normalization(input_shape=[input_shape, 1], axis=None)(feature)\\n    x = layers.Conv1D(128, 3, activation=\\'relu\\', padding=\"valid\")(x)\\n    x = layers.MaxPooling1D()(x)\\n    x = layers.Conv1D(64, 3, activation=\\'relu\\', padding=\"valid\")(x)\\n    x = layers.MaxPooling1D()(x)\\n    x = layers.Conv1D(32, 3, activation=\\'relu\\', padding=\"valid\")(x)\\n    x = layers.MaxPooling1D()(x)\\n    x = layers.Flatten()(x)\\n\\n    return x\\n\\n\\ndef build_classification(x, size, dropout, input_shape=1024, name=\\'level1\\'):\\n    #x: object = Dense(input_shape, activation=\\'relu\\')(x)\\n    #x = Dropout(dropout)(x)\\n    #x = Dense(int(input_shape/2), activation=\\'relu\\')(x)\\n    #x = Dropout(dropout)(x)\\n    x = Dense(int(input_shape/2), activation=\\'relu\\')(x)\\n    x = Dropout(dropout)(x)\\n    x = Dense(size, activation=\\'sigmoid\\', name=name+\\'_output\\')(x)\\n\\n    return x\\n\\n\\ndef build_model(levels_size: dict, sequence_size: int = 1280, dropout: float = 0.7) -> tf.keras.models.Model:\\n    \"\"\"\\n\\n    :rtype: tf.keras.models.Model\\n    \"\"\"\\n    input_shape = (sequence_size, 1)\\n    fcn_size = 1024\\n    input_layer = Input(shape=input_shape, dtype=tf.float32, name=\"features\")\\n    x = Dense(fcn_size, activation=\\'relu\\')(input_layer)\\n    x = Dropout(dropout)(x)\\n    x = Dense(int(fcn_size / 2), activation=\\'relu\\')(x)\\n    x = Dropout(dropout)(x)\\n    #x_flat = Flatten()(input_layer)\\n    \\n    depth = len(levels_size)\\n\\n    #x: object = build_cnn(music, input_shape)\\n\\n    # Construção das camadas sequencialmente\\n    input = x\\n    outputs = []\\n    for level, size in levels_size.items():\\n        # Construir a camada atual\\n        current_input = input if level == \\'level1\\' else Concatenate(axis=1)([Flatten()(OutputNormalization()(prev_output)), input_layer])\\n        output = build_classification(current_input, size, dropout,\\n                                              input_shape=fcn_size, name=level)\\n\\n        # Atualizar a saída anterior para a próxima iteração\\n        prev_output = output\\n        outputs.append(prev_output)\\n    \\n\\n    model = tf.keras.models.Model(inputs=input_layer, outputs=outputs, name=\"Essentia\")\\n\\n    #     _load_weights(model, weights_path)\\n    \\n    optimizer = Adam(learning_rate=0.001, beta_1=0.9, beta_2=0.999, epsilon=1e-08)\\n\\n    model.compile(optimizer=optimizer,\\n                   loss=\\'binary_crossentropy\\', metrics=[\\'accuracy\\']*4)\\n\\n    return model\\n'"
      ]
     },
     "execution_count": 8,
     "metadata": {},
     "output_type": "execute_result"
    }
   ],
   "source": [
    "'''\n",
    "from keras import layers\n",
    "from keras.layers import Dense, Dropout, Reshape, Concatenate, Flatten, Input, Normalization\n",
    "from keras.optimizers import Adam\n",
    "import tensorflow as tf\n",
    "\n",
    "import numpy as np\n",
    "\n",
    "# class OutputNormalization(layers.Layer):\n",
    "#     def call(self, x, **kwargs):\n",
    "#         norm_output = tf.one_hot(tf.math.argmax(x, axis=1), x.shape[1], dtype=x.dtype)\n",
    "#         norm_output = Flatten()(norm_output)\n",
    "#         norm_output = Reshape((1,))(norm_output)\n",
    "#         return norm_output\n",
    "\n",
    "#     def compute_output_shape(self, input_shape):\n",
    "#         return input_shape\n",
    "\n",
    "class OutputNormalization(layers.Layer):\n",
    "    def call(self, x, **kwargs):\n",
    "        return tf.one_hot(tf.math.argmax(x, axis=1), x.shape[1], dtype=x.dtype)\n",
    "\n",
    "    def compute_output_shape(self, input_shape):\n",
    "        return input_shape\n",
    "\n",
    "\n",
    "\n",
    "def build_cnn(feature, input_shape):\n",
    "    x: object = Normalization(input_shape=[input_shape, 1], axis=None)(feature)\n",
    "    x = layers.Conv1D(128, 3, activation='relu', padding=\"valid\")(x)\n",
    "    x = layers.MaxPooling1D()(x)\n",
    "    x = layers.Conv1D(64, 3, activation='relu', padding=\"valid\")(x)\n",
    "    x = layers.MaxPooling1D()(x)\n",
    "    x = layers.Conv1D(32, 3, activation='relu', padding=\"valid\")(x)\n",
    "    x = layers.MaxPooling1D()(x)\n",
    "    x = layers.Flatten()(x)\n",
    "\n",
    "    return x\n",
    "\n",
    "\n",
    "def build_classification(x, size, dropout, input_shape=1024, name='level1'):\n",
    "    #x: object = Dense(input_shape, activation='relu')(x)\n",
    "    #x = Dropout(dropout)(x)\n",
    "    #x = Dense(int(input_shape/2), activation='relu')(x)\n",
    "    #x = Dropout(dropout)(x)\n",
    "    x = Dense(int(input_shape/2), activation='relu')(x)\n",
    "    x = Dropout(dropout)(x)\n",
    "    x = Dense(size, activation='sigmoid', name=name+'_output')(x)\n",
    "\n",
    "    return x\n",
    "\n",
    "\n",
    "def build_model(levels_size: dict, sequence_size: int = 1280, dropout: float = 0.7) -> tf.keras.models.Model:\n",
    "    \"\"\"\n",
    "\n",
    "    :rtype: tf.keras.models.Model\n",
    "    \"\"\"\n",
    "    input_shape = (sequence_size, 1)\n",
    "    fcn_size = 1024\n",
    "    input_layer = Input(shape=input_shape, dtype=tf.float32, name=\"features\")\n",
    "    x = Dense(fcn_size, activation='relu')(input_layer)\n",
    "    x = Dropout(dropout)(x)\n",
    "    x = Dense(int(fcn_size / 2), activation='relu')(x)\n",
    "    x = Dropout(dropout)(x)\n",
    "    #x_flat = Flatten()(input_layer)\n",
    "    \n",
    "    depth = len(levels_size)\n",
    "\n",
    "    #x: object = build_cnn(music, input_shape)\n",
    "\n",
    "    # Construção das camadas sequencialmente\n",
    "    input = x\n",
    "    outputs = []\n",
    "    for level, size in levels_size.items():\n",
    "        # Construir a camada atual\n",
    "        current_input = input if level == 'level1' else Concatenate(axis=1)([Flatten()(OutputNormalization()(prev_output)), input_layer])\n",
    "        output = build_classification(current_input, size, dropout,\n",
    "                                              input_shape=fcn_size, name=level)\n",
    "\n",
    "        # Atualizar a saída anterior para a próxima iteração\n",
    "        prev_output = output\n",
    "        outputs.append(prev_output)\n",
    "    \n",
    "\n",
    "    model = tf.keras.models.Model(inputs=input_layer, outputs=outputs, name=\"Essentia\")\n",
    "\n",
    "    #     _load_weights(model, weights_path)\n",
    "    \n",
    "    optimizer = Adam(learning_rate=0.001, beta_1=0.9, beta_2=0.999, epsilon=1e-08)\n",
    "\n",
    "    model.compile(optimizer=optimizer,\n",
    "                   loss='binary_crossentropy', metrics=['accuracy']*4)\n",
    "\n",
    "    return model\n",
    "'''\n"
   ]
  },
  {
   "cell_type": "code",
   "execution_count": 9,
   "id": "ec897e8e",
   "metadata": {},
   "outputs": [],
   "source": [
    "import tensorflow as tf\n",
    "from keras.layers import Layer, Input, Dense, Dropout, Concatenate, BatchNormalization, Flatten, Reshape\n",
    "from keras.optimizers import Adam\n",
    "from keras import backend as K\n",
    "import numpy as np\n",
    "\n",
    "class OutputNormalization(tf.keras.layers.Layer):\n",
    "    def call(self, x):\n",
    "        # Obtemos a classe com a maior probabilidade\n",
    "        one_hot_encoded = tf.one_hot(tf.math.argmax(x, axis=1), x.shape[1], dtype=x.dtype)\n",
    "        return one_hot_encoded\n",
    "\n",
    "    def compute_output_shape(self, input_shape):\n",
    "        return input_shape\n",
    "\n",
    "def build_classification(x, size, dropout, input_shape=1024, name='default'):\n",
    "    x: object = Dense(input_shape, activation='relu')(x)\n",
    "    x = Dropout(dropout)(x)\n",
    "    x = Dense(int(input_shape/2), activation='relu')(x)\n",
    "    x = Dropout(dropout)(x)\n",
    "    x = Dense(int(input_shape/4), activation='relu')(x)\n",
    "    x = BatchNormalization()(x)\n",
    "    x = Dropout(dropout)(x)\n",
    "    x = Dense(size, activation='softmax', name=name)(x)\n",
    "\n",
    "    return x\n",
    "\n",
    "\n",
    "def build_model(levels_size: dict, sequence_size: int = 1280, dropout: float = 0.6) -> tf.keras.models.Model:\n",
    "    \"\"\"\n",
    "\n",
    "    :rtype: tf.keras.models.Model\n",
    "    \"\"\"\n",
    "    input_shape = (sequence_size,)\n",
    "    music = Input(shape=input_shape, dtype=tf.float32, name=\"features\")\n",
    "    fcn_size = 1024\n",
    "\n",
    "    outputs = []\n",
    "    for level, size in enumerate(levels_size, 1):\n",
    "        level_name = f'level{str(level)}'\n",
    "        if level != 1:\n",
    "            # Aplicar OutputNormalization na saída anterior\n",
    "            output_normalized = BatchNormalization()(OutputNormalization()(current_output))\n",
    "            current_input = Concatenate(axis=1)([output_normalized, music])\n",
    "            current_output = build_classification(current_input, size, dropout, input_shape=fcn_size, name=level_name)\n",
    "            \n",
    "        else:\n",
    "            current_input = music\n",
    "            current_output = build_classification(current_input, size, dropout, input_shape=fcn_size, name=level_name)\n",
    "\n",
    "        print(level)\n",
    "        print(current_output.shape)\n",
    "        \n",
    "        # Convert the tensor to a NumPy array\n",
    "        outputs.append(current_output)\n",
    "        # Atualizar a saída anterior para a próxima iteração\n",
    "        current_input = current_output\n",
    "        \n",
    "\n",
    "\n",
    "    model = tf.keras.models.Model(inputs=music, outputs=outputs, name=\"Essentia\")\n",
    "\n",
    "    #     _load_weights(model, weights_path)\n",
    "    \n",
    "    #optimizer = Adam(learning_rate=0.001, beta_1=0.9, beta_2=0.999, epsilon=1e-08)\n",
    "\n",
    "    model.compile(optimizer='adam', loss='binary_crossentropy', metrics=['accuracy']*4, run_eagerly=True)\n",
    "\n",
    "    return model"
   ]
  },
  {
   "cell_type": "code",
   "execution_count": 10,
   "id": "ca856c25-97fd-4f11-ad9d-5eb1e7d1c452",
   "metadata": {},
   "outputs": [
    {
     "name": "stdout",
     "output_type": "stream",
     "text": [
      "{'sequence_size': 1280, 'max_depth': 4, 'levels_size': [2, 29, 15, 2], 'val_path': '/mnt/disks/data/fma/trains/hierarchical_tworoots_dev/tfrecords/val', 'train_path': '/mnt/disks/data/fma/trains/hierarchical_tworoots_dev/tfrecords/train', 'test_path': '/mnt/disks/data/fma/trains/hierarchical_tworoots_dev/tfrecords/test', 'val_torch_path': '/mnt/disks/data/fma/trains/hierarchical_tworoots_dev/torch/val.pth', 'train_torch_path': '/mnt/disks/data/fma/trains/hierarchical_tworoots_dev/torch/train.pth', 'test_torch_path': '/mnt/disks/data/fma/trains/hierarchical_tworoots_dev/torch/test.pth', 'val_csv': '/mnt/disks/data/fma/trains/hierarchical_tworoots_dev/val.csv', 'train_csv': '/mnt/disks/data/fma/trains/hierarchical_tworoots_dev/train.csv', 'test_csv': '/mnt/disks/data/fma/trains/hierarchical_tworoots_dev/test.csv', 'trainset_count': 16791, 'validationset_count': 2007, 'testset_count': 4814}\n"
     ]
    }
   ],
   "source": [
    "with open(args.metadata_path, 'r') as f:\n",
    "    metadata = json.loads(f.read())\n",
    "    print(metadata)"
   ]
  },
  {
   "cell_type": "code",
   "execution_count": 11,
   "id": "87c09479-b7b0-46eb-8cac-6c3d469169ab",
   "metadata": {},
   "outputs": [
    {
     "data": {
      "text/plain": [
       "16791"
      ]
     },
     "execution_count": 11,
     "metadata": {},
     "output_type": "execute_result"
    }
   ],
   "source": [
    "metadata['trainset_count']"
   ]
  },
  {
   "cell_type": "code",
   "execution_count": 12,
   "id": "6733704f-f78c-466c-8118-26724c513eca",
   "metadata": {},
   "outputs": [],
   "source": [
    "with open(args.labels_path, 'r') as f:\n",
    "    labels = json.loads(f.read())"
   ]
  },
  {
   "cell_type": "code",
   "execution_count": 13,
   "id": "76f32542",
   "metadata": {},
   "outputs": [
    {
     "data": {
      "text/plain": [
       "{'levels_size': [2, 29, 15, 2],\n",
       " 'label_1': {'15': 0, '12': 1},\n",
       " 'label_1_name': {'15': 'Electronic', '12': 'Rock'},\n",
       " 'label_1_inverse': [15, 12],\n",
       " 'label_2': {'25': 1,\n",
       "  '85': 2,\n",
       "  '45': 3,\n",
       "  '66': 4,\n",
       "  '314': 5,\n",
       "  '70': 6,\n",
       "  '27': 7,\n",
       "  '359': 8,\n",
       "  '297': 9,\n",
       "  '468': 10,\n",
       "  '182': 11,\n",
       "  '181': 12,\n",
       "  '58': 13,\n",
       "  '31': 14,\n",
       "  '495': 15,\n",
       "  '286': 16,\n",
       "  '88': 17,\n",
       "  '26': 18,\n",
       "  '695': 19,\n",
       "  '42': 20,\n",
       "  '236': 21,\n",
       "  '183': 22,\n",
       "  '296': 23,\n",
       "  '184': 24,\n",
       "  '98': 25,\n",
       "  '337': 26,\n",
       "  '440': 27,\n",
       "  '185': 28,\n",
       "  '36': 29},\n",
       " 'label_2_name': {'25': 'Rock>Punk',\n",
       "  '85': 'Rock>Garage',\n",
       "  '45': 'Rock>Loud-Rock',\n",
       "  '66': 'Rock>Indie-Rock',\n",
       "  '314': 'Rock>Goth',\n",
       "  '70': 'Rock>Industrial',\n",
       "  '27': 'Rock>Lo-Fi',\n",
       "  '359': 'Rock>Shoegaze',\n",
       "  '297': 'Electronic>Chip Music',\n",
       "  '468': 'Electronic>Dubstep',\n",
       "  '182': 'Electronic>House',\n",
       "  '181': 'Electronic>Techno',\n",
       "  '58': 'Rock>Psych-Rock',\n",
       "  '31': 'Rock>Metal',\n",
       "  '495': 'Electronic>Downtempo',\n",
       "  '286': 'Electronic>Trip-Hop',\n",
       "  '88': 'Rock>New Wave',\n",
       "  '26': 'Rock>Post-Rock',\n",
       "  '695': 'Electronic>Jungle',\n",
       "  '42': 'Electronic>Ambient Electronic',\n",
       "  '236': 'Electronic>IDM',\n",
       "  '183': 'Electronic>Glitch',\n",
       "  '296': 'Electronic>Dance',\n",
       "  '184': 'Electronic>Minimal Electronic',\n",
       "  '98': 'Rock>Progressive',\n",
       "  '337': 'Electronic>Drum & Bass',\n",
       "  '440': 'Rock>Rock Opera',\n",
       "  '185': 'Electronic>Breakcore - Hard',\n",
       "  '36': 'Rock>Krautrock'},\n",
       " 'label_2_inverse': [25,\n",
       "  85,\n",
       "  45,\n",
       "  66,\n",
       "  314,\n",
       "  70,\n",
       "  27,\n",
       "  359,\n",
       "  297,\n",
       "  468,\n",
       "  182,\n",
       "  181,\n",
       "  58,\n",
       "  31,\n",
       "  495,\n",
       "  286,\n",
       "  88,\n",
       "  26,\n",
       "  695,\n",
       "  42,\n",
       "  236,\n",
       "  183,\n",
       "  296,\n",
       "  184,\n",
       "  98,\n",
       "  337,\n",
       "  440,\n",
       "  185,\n",
       "  36],\n",
       " 'label_3': {'89': 1,\n",
       "  '53': 2,\n",
       "  '109': 3,\n",
       "  '64': 4,\n",
       "  '111': 5,\n",
       "  '240': 6,\n",
       "  '439': 7,\n",
       "  '113': 8,\n",
       "  '167': 9,\n",
       "  '400': 10,\n",
       "  '401': 11,\n",
       "  '404': 12,\n",
       "  '71': 13,\n",
       "  '101': 14,\n",
       "  '491': 15},\n",
       " 'label_3_name': {'89': 'Rock>Punk>Post-Punk',\n",
       "  '53': 'Rock>Loud-Rock>Noise-Rock',\n",
       "  '109': 'Rock>Punk>Hardcore',\n",
       "  '64': 'Rock>Punk>Electro-Punk',\n",
       "  '111': 'Rock>Punk>Power-Pop',\n",
       "  '240': 'Electronic>Chip Music>Chiptune',\n",
       "  '439': 'Rock>Metal>Grindcore',\n",
       "  '113': 'Rock>Post-Rock>Space-Rock',\n",
       "  '167': 'Rock>Metal>Black-Metal',\n",
       "  '400': 'Electronic>House>Chill-out',\n",
       "  '401': 'Electronic>Techno>Bigbeat',\n",
       "  '404': 'Rock>Garage>Surf',\n",
       "  '71': 'Rock>Punk>No Wave',\n",
       "  '101': 'Rock>Metal>Death-Metal',\n",
       "  '491': 'Electronic>Dubstep>Skweee'},\n",
       " 'label_3_inverse': [89,\n",
       "  53,\n",
       "  109,\n",
       "  64,\n",
       "  111,\n",
       "  240,\n",
       "  439,\n",
       "  113,\n",
       "  167,\n",
       "  400,\n",
       "  401,\n",
       "  404,\n",
       "  71,\n",
       "  101,\n",
       "  491],\n",
       " 'label_4': {'361': 1, '90': 2},\n",
       " 'label_4_name': {'361': 'Rock>Punk>Hardcore>Thrash',\n",
       "  '90': 'Rock>Loud-Rock>Noise-Rock>Sludge'},\n",
       " 'label_4_inverse': [361, 90]}"
      ]
     },
     "execution_count": 13,
     "metadata": {},
     "output_type": "execute_result"
    }
   ],
   "source": [
    "labels"
   ]
  },
  {
   "cell_type": "code",
   "execution_count": 14,
   "id": "2aaadaf4-55a6-4287-94dc-890161b1bec6",
   "metadata": {},
   "outputs": [
    {
     "name": "stdout",
     "output_type": "stream",
     "text": [
      "2\n",
      "29\n",
      "15\n",
      "2\n"
     ]
    }
   ],
   "source": [
    "for level in labels['levels_size']:\n",
    "    print(level)"
   ]
  },
  {
   "cell_type": "code",
   "execution_count": 15,
   "id": "a5762a07-fd43-491b-aa2f-5dd9dddd87ea",
   "metadata": {},
   "outputs": [],
   "source": [
    "depth = len(labels['levels_size'])"
   ]
  },
  {
   "cell_type": "code",
   "execution_count": 16,
   "id": "452ffe33",
   "metadata": {},
   "outputs": [
    {
     "data": {
      "text/plain": [
       "4"
      ]
     },
     "execution_count": 16,
     "metadata": {},
     "output_type": "execute_result"
    }
   ],
   "source": [
    "depth"
   ]
  },
  {
   "cell_type": "code",
   "execution_count": 17,
   "id": "e836ce7f-9859-4e2d-96f4-b5afe10711ce",
   "metadata": {},
   "outputs": [],
   "source": [
    "#ds_train = Dataset(args.trainset_pattern, args.epochs, args.batch_size, levels_size).build(df=False)"
   ]
  },
  {
   "cell_type": "code",
   "execution_count": 18,
   "id": "76cd697f-0c8f-465f-8bd9-13f649f334c6",
   "metadata": {},
   "outputs": [],
   "source": [
    "#df_train = Dataset(args.trainset_pattern, args.epochs, args.batch_size, levels_size).build(df=True)"
   ]
  },
  {
   "cell_type": "code",
   "execution_count": 19,
   "id": "232e1d65-7a7e-44a3-a878-9d04bd9ce7a9",
   "metadata": {},
   "outputs": [],
   "source": [
    "from tensorflow.keras.callbacks import EarlyStopping\n",
    "# from sabotage.model.callback import ValidateCallback, BackupAndRestoreCheckpoint\n",
    "\n",
    "def run(args: object):\n",
    "    print(args)\n",
    "\n",
    "    with open(args.metadata_path, 'r') as f:\n",
    "        metadata = json.loads(f.read())\n",
    "        print(metadata)\n",
    "\n",
    "    with open(args.labels_path, 'r') as f:\n",
    "        labels = json.loads(f.read())\n",
    "\n",
    "    params: dict = {\n",
    "        'levels_size': labels['levels_size'],\n",
    "        'sequence_size': metadata['sequence_size'],\n",
    "        'dropout': args.dropout\n",
    "    }\n",
    "\n",
    "    print(params['levels_size'])\n",
    "    model = build_model(**params)\n",
    "    print(model.summary())\n",
    "    \n",
    "    tf.keras.utils.plot_model(\n",
    "        model,\n",
    "        to_file=\"model.png\",\n",
    "        show_shapes=False,\n",
    "        show_dtype=False,\n",
    "        show_layer_names=True,\n",
    "        rankdir=\"TB\",\n",
    "        expand_nested=False,\n",
    "        dpi=96,\n",
    "        layer_range=None,\n",
    "        show_layer_activations=False,\n",
    "        show_trainable=False,\n",
    "    )\n",
    "    \n",
    "    ds_train = Dataset(args.trainset_pattern, args.epochs, args.batch_size, params['levels_size']).build(df=False)\n",
    "    ds_validation = Dataset(args.valset_pattern, args.epochs, args.batch_size, params['levels_size']).build(df=False)\n",
    "    callbacks = [EarlyStopping(monitor='loss', patience=args.patience, verbose=1)]\n",
    "    model.fit(ds_train,\n",
    "              validation_data=ds_validation,\n",
    "              steps_per_epoch=metadata['trainset_count'] // args.batch_size,\n",
    "              validation_steps=metadata['validationset_count'] // args.batch_size,\n",
    "              epochs=args.epochs,\n",
    "              callbacks=callbacks)\n",
    "\n",
    "    model.save(os.path.join(args.model_path, 'best_binary.keras'))\n"
   ]
  },
  {
   "cell_type": "code",
   "execution_count": 20,
   "id": "b033032f-4cb5-46bf-8ecc-3517ddaf6f51",
   "metadata": {
    "tags": []
   },
   "outputs": [
    {
     "name": "stdout",
     "output_type": "stream",
     "text": [
      "[<built-in function id>] Experiment started at 00:25:32\n",
      ".......................................\n",
      "batch_size                                                         32\n",
      "epochs                                                             10\n",
      "dropout                                                           0.7\n",
      "patience                                                            1\n",
      "max_queue_size                                                     64\n",
      "labels_path         /mnt/disks/data/fma/trains/hierarchical_tworoo...\n",
      "metadata_path       /mnt/disks/data/fma/trains/hierarchical_tworoo...\n",
      "trainset_pattern    /mnt/disks/data/fma/trains/hierarchical_tworoo...\n",
      "testset_pattern     /mnt/disks/data/fma/trains/hierarchical_tworoo...\n",
      "valset_pattern      /mnt/disks/data/fma/trains/hierarchical_tworoo...\n",
      "model_path          /mnt/disks/data/fma/trains/hierarchical_tworoo...\n",
      "dtype: object\n",
      "batch_size                                                         32\n",
      "epochs                                                             10\n",
      "dropout                                                           0.7\n",
      "patience                                                            1\n",
      "max_queue_size                                                     64\n",
      "labels_path         /mnt/disks/data/fma/trains/hierarchical_tworoo...\n",
      "metadata_path       /mnt/disks/data/fma/trains/hierarchical_tworoo...\n",
      "trainset_pattern    /mnt/disks/data/fma/trains/hierarchical_tworoo...\n",
      "testset_pattern     /mnt/disks/data/fma/trains/hierarchical_tworoo...\n",
      "valset_pattern      /mnt/disks/data/fma/trains/hierarchical_tworoo...\n",
      "model_path          /mnt/disks/data/fma/trains/hierarchical_tworoo...\n",
      "dtype: object\n",
      "{'sequence_size': 1280, 'max_depth': 4, 'levels_size': [2, 29, 15, 2], 'val_path': '/mnt/disks/data/fma/trains/hierarchical_tworoots_dev/tfrecords/val', 'train_path': '/mnt/disks/data/fma/trains/hierarchical_tworoots_dev/tfrecords/train', 'test_path': '/mnt/disks/data/fma/trains/hierarchical_tworoots_dev/tfrecords/test', 'val_torch_path': '/mnt/disks/data/fma/trains/hierarchical_tworoots_dev/torch/val.pth', 'train_torch_path': '/mnt/disks/data/fma/trains/hierarchical_tworoots_dev/torch/train.pth', 'test_torch_path': '/mnt/disks/data/fma/trains/hierarchical_tworoots_dev/torch/test.pth', 'val_csv': '/mnt/disks/data/fma/trains/hierarchical_tworoots_dev/val.csv', 'train_csv': '/mnt/disks/data/fma/trains/hierarchical_tworoots_dev/train.csv', 'test_csv': '/mnt/disks/data/fma/trains/hierarchical_tworoots_dev/test.csv', 'trainset_count': 16791, 'validationset_count': 2007, 'testset_count': 4814}\n",
      "[2, 29, 15, 2]\n",
      "1\n",
      "(None, 2)\n",
      "2\n",
      "(None, 29)\n",
      "3\n",
      "(None, 15)\n",
      "4\n",
      "(None, 2)\n"
     ]
    },
    {
     "name": "stderr",
     "output_type": "stream",
     "text": [
      "2024-06-14 21:25:32.876426: I tensorflow/core/common_runtime/gpu/gpu_device.cc:1928] Created device /job:localhost/replica:0/task:0/device:GPU:0 with 9786 MB memory:  -> device: 0, name: NVIDIA GeForce RTX 2080 Ti, pci bus id: 0000:65:00.0, compute capability: 7.5\n"
     ]
    },
    {
     "data": {
      "text/html": [
       "<pre style=\"white-space:pre;overflow-x:auto;line-height:normal;font-family:Menlo,'DejaVu Sans Mono',consolas,'Courier New',monospace\"><span style=\"font-weight: bold\">Model: \"Essentia\"</span>\n",
       "</pre>\n"
      ],
      "text/plain": [
       "\u001b[1mModel: \"Essentia\"\u001b[0m\n"
      ]
     },
     "metadata": {},
     "output_type": "display_data"
    },
    {
     "data": {
      "text/html": [
       "<pre style=\"white-space:pre;overflow-x:auto;line-height:normal;font-family:Menlo,'DejaVu Sans Mono',consolas,'Courier New',monospace\">┏━━━━━━━━━━━━━━━━━━━━━┳━━━━━━━━━━━━━━━━━━━┳━━━━━━━━━━━━┳━━━━━━━━━━━━━━━━━━━┓\n",
       "┃<span style=\"font-weight: bold\"> Layer (type)        </span>┃<span style=\"font-weight: bold\"> Output Shape      </span>┃<span style=\"font-weight: bold\">    Param # </span>┃<span style=\"font-weight: bold\"> Connected to      </span>┃\n",
       "┡━━━━━━━━━━━━━━━━━━━━━╇━━━━━━━━━━━━━━━━━━━╇━━━━━━━━━━━━╇━━━━━━━━━━━━━━━━━━━┩\n",
       "│ features            │ (<span style=\"color: #00d7ff; text-decoration-color: #00d7ff\">None</span>, <span style=\"color: #00af00; text-decoration-color: #00af00\">1280</span>)      │          <span style=\"color: #00af00; text-decoration-color: #00af00\">0</span> │ -                 │\n",
       "│ (<span style=\"color: #0087ff; text-decoration-color: #0087ff\">InputLayer</span>)        │                   │            │                   │\n",
       "├─────────────────────┼───────────────────┼────────────┼───────────────────┤\n",
       "│ dense (<span style=\"color: #0087ff; text-decoration-color: #0087ff\">Dense</span>)       │ (<span style=\"color: #00d7ff; text-decoration-color: #00d7ff\">None</span>, <span style=\"color: #00af00; text-decoration-color: #00af00\">1024</span>)      │  <span style=\"color: #00af00; text-decoration-color: #00af00\">1,311,744</span> │ features[<span style=\"color: #00af00; text-decoration-color: #00af00\">0</span>][<span style=\"color: #00af00; text-decoration-color: #00af00\">0</span>]    │\n",
       "├─────────────────────┼───────────────────┼────────────┼───────────────────┤\n",
       "│ dropout (<span style=\"color: #0087ff; text-decoration-color: #0087ff\">Dropout</span>)   │ (<span style=\"color: #00d7ff; text-decoration-color: #00d7ff\">None</span>, <span style=\"color: #00af00; text-decoration-color: #00af00\">1024</span>)      │          <span style=\"color: #00af00; text-decoration-color: #00af00\">0</span> │ dense[<span style=\"color: #00af00; text-decoration-color: #00af00\">0</span>][<span style=\"color: #00af00; text-decoration-color: #00af00\">0</span>]       │\n",
       "├─────────────────────┼───────────────────┼────────────┼───────────────────┤\n",
       "│ dense_1 (<span style=\"color: #0087ff; text-decoration-color: #0087ff\">Dense</span>)     │ (<span style=\"color: #00d7ff; text-decoration-color: #00d7ff\">None</span>, <span style=\"color: #00af00; text-decoration-color: #00af00\">512</span>)       │    <span style=\"color: #00af00; text-decoration-color: #00af00\">524,800</span> │ dropout[<span style=\"color: #00af00; text-decoration-color: #00af00\">0</span>][<span style=\"color: #00af00; text-decoration-color: #00af00\">0</span>]     │\n",
       "├─────────────────────┼───────────────────┼────────────┼───────────────────┤\n",
       "│ dropout_1 (<span style=\"color: #0087ff; text-decoration-color: #0087ff\">Dropout</span>) │ (<span style=\"color: #00d7ff; text-decoration-color: #00d7ff\">None</span>, <span style=\"color: #00af00; text-decoration-color: #00af00\">512</span>)       │          <span style=\"color: #00af00; text-decoration-color: #00af00\">0</span> │ dense_1[<span style=\"color: #00af00; text-decoration-color: #00af00\">0</span>][<span style=\"color: #00af00; text-decoration-color: #00af00\">0</span>]     │\n",
       "├─────────────────────┼───────────────────┼────────────┼───────────────────┤\n",
       "│ dense_2 (<span style=\"color: #0087ff; text-decoration-color: #0087ff\">Dense</span>)     │ (<span style=\"color: #00d7ff; text-decoration-color: #00d7ff\">None</span>, <span style=\"color: #00af00; text-decoration-color: #00af00\">256</span>)       │    <span style=\"color: #00af00; text-decoration-color: #00af00\">131,328</span> │ dropout_1[<span style=\"color: #00af00; text-decoration-color: #00af00\">0</span>][<span style=\"color: #00af00; text-decoration-color: #00af00\">0</span>]   │\n",
       "├─────────────────────┼───────────────────┼────────────┼───────────────────┤\n",
       "│ batch_normalization │ (<span style=\"color: #00d7ff; text-decoration-color: #00d7ff\">None</span>, <span style=\"color: #00af00; text-decoration-color: #00af00\">256</span>)       │      <span style=\"color: #00af00; text-decoration-color: #00af00\">1,024</span> │ dense_2[<span style=\"color: #00af00; text-decoration-color: #00af00\">0</span>][<span style=\"color: #00af00; text-decoration-color: #00af00\">0</span>]     │\n",
       "│ (<span style=\"color: #0087ff; text-decoration-color: #0087ff\">BatchNormalizatio…</span> │                   │            │                   │\n",
       "├─────────────────────┼───────────────────┼────────────┼───────────────────┤\n",
       "│ dropout_2 (<span style=\"color: #0087ff; text-decoration-color: #0087ff\">Dropout</span>) │ (<span style=\"color: #00d7ff; text-decoration-color: #00d7ff\">None</span>, <span style=\"color: #00af00; text-decoration-color: #00af00\">256</span>)       │          <span style=\"color: #00af00; text-decoration-color: #00af00\">0</span> │ batch_normalizat… │\n",
       "├─────────────────────┼───────────────────┼────────────┼───────────────────┤\n",
       "│ level1 (<span style=\"color: #0087ff; text-decoration-color: #0087ff\">Dense</span>)      │ (<span style=\"color: #00d7ff; text-decoration-color: #00d7ff\">None</span>, <span style=\"color: #00af00; text-decoration-color: #00af00\">2</span>)         │        <span style=\"color: #00af00; text-decoration-color: #00af00\">514</span> │ dropout_2[<span style=\"color: #00af00; text-decoration-color: #00af00\">0</span>][<span style=\"color: #00af00; text-decoration-color: #00af00\">0</span>]   │\n",
       "├─────────────────────┼───────────────────┼────────────┼───────────────────┤\n",
       "│ output_normalizati… │ (<span style=\"color: #00d7ff; text-decoration-color: #00d7ff\">None</span>, <span style=\"color: #00af00; text-decoration-color: #00af00\">2</span>)         │          <span style=\"color: #00af00; text-decoration-color: #00af00\">0</span> │ level1[<span style=\"color: #00af00; text-decoration-color: #00af00\">0</span>][<span style=\"color: #00af00; text-decoration-color: #00af00\">0</span>]      │\n",
       "│ (<span style=\"color: #0087ff; text-decoration-color: #0087ff\">OutputNormalizati…</span> │                   │            │                   │\n",
       "├─────────────────────┼───────────────────┼────────────┼───────────────────┤\n",
       "│ batch_normalizatio… │ (<span style=\"color: #00d7ff; text-decoration-color: #00d7ff\">None</span>, <span style=\"color: #00af00; text-decoration-color: #00af00\">2</span>)         │          <span style=\"color: #00af00; text-decoration-color: #00af00\">8</span> │ output_normaliza… │\n",
       "│ (<span style=\"color: #0087ff; text-decoration-color: #0087ff\">BatchNormalizatio…</span> │                   │            │                   │\n",
       "├─────────────────────┼───────────────────┼────────────┼───────────────────┤\n",
       "│ concatenate         │ (<span style=\"color: #00d7ff; text-decoration-color: #00d7ff\">None</span>, <span style=\"color: #00af00; text-decoration-color: #00af00\">1282</span>)      │          <span style=\"color: #00af00; text-decoration-color: #00af00\">0</span> │ batch_normalizat… │\n",
       "│ (<span style=\"color: #0087ff; text-decoration-color: #0087ff\">Concatenate</span>)       │                   │            │ features[<span style=\"color: #00af00; text-decoration-color: #00af00\">0</span>][<span style=\"color: #00af00; text-decoration-color: #00af00\">0</span>]    │\n",
       "├─────────────────────┼───────────────────┼────────────┼───────────────────┤\n",
       "│ dense_3 (<span style=\"color: #0087ff; text-decoration-color: #0087ff\">Dense</span>)     │ (<span style=\"color: #00d7ff; text-decoration-color: #00d7ff\">None</span>, <span style=\"color: #00af00; text-decoration-color: #00af00\">1024</span>)      │  <span style=\"color: #00af00; text-decoration-color: #00af00\">1,313,792</span> │ concatenate[<span style=\"color: #00af00; text-decoration-color: #00af00\">0</span>][<span style=\"color: #00af00; text-decoration-color: #00af00\">0</span>] │\n",
       "├─────────────────────┼───────────────────┼────────────┼───────────────────┤\n",
       "│ dropout_3 (<span style=\"color: #0087ff; text-decoration-color: #0087ff\">Dropout</span>) │ (<span style=\"color: #00d7ff; text-decoration-color: #00d7ff\">None</span>, <span style=\"color: #00af00; text-decoration-color: #00af00\">1024</span>)      │          <span style=\"color: #00af00; text-decoration-color: #00af00\">0</span> │ dense_3[<span style=\"color: #00af00; text-decoration-color: #00af00\">0</span>][<span style=\"color: #00af00; text-decoration-color: #00af00\">0</span>]     │\n",
       "├─────────────────────┼───────────────────┼────────────┼───────────────────┤\n",
       "│ dense_4 (<span style=\"color: #0087ff; text-decoration-color: #0087ff\">Dense</span>)     │ (<span style=\"color: #00d7ff; text-decoration-color: #00d7ff\">None</span>, <span style=\"color: #00af00; text-decoration-color: #00af00\">512</span>)       │    <span style=\"color: #00af00; text-decoration-color: #00af00\">524,800</span> │ dropout_3[<span style=\"color: #00af00; text-decoration-color: #00af00\">0</span>][<span style=\"color: #00af00; text-decoration-color: #00af00\">0</span>]   │\n",
       "├─────────────────────┼───────────────────┼────────────┼───────────────────┤\n",
       "│ dropout_4 (<span style=\"color: #0087ff; text-decoration-color: #0087ff\">Dropout</span>) │ (<span style=\"color: #00d7ff; text-decoration-color: #00d7ff\">None</span>, <span style=\"color: #00af00; text-decoration-color: #00af00\">512</span>)       │          <span style=\"color: #00af00; text-decoration-color: #00af00\">0</span> │ dense_4[<span style=\"color: #00af00; text-decoration-color: #00af00\">0</span>][<span style=\"color: #00af00; text-decoration-color: #00af00\">0</span>]     │\n",
       "├─────────────────────┼───────────────────┼────────────┼───────────────────┤\n",
       "│ dense_5 (<span style=\"color: #0087ff; text-decoration-color: #0087ff\">Dense</span>)     │ (<span style=\"color: #00d7ff; text-decoration-color: #00d7ff\">None</span>, <span style=\"color: #00af00; text-decoration-color: #00af00\">256</span>)       │    <span style=\"color: #00af00; text-decoration-color: #00af00\">131,328</span> │ dropout_4[<span style=\"color: #00af00; text-decoration-color: #00af00\">0</span>][<span style=\"color: #00af00; text-decoration-color: #00af00\">0</span>]   │\n",
       "├─────────────────────┼───────────────────┼────────────┼───────────────────┤\n",
       "│ batch_normalizatio… │ (<span style=\"color: #00d7ff; text-decoration-color: #00d7ff\">None</span>, <span style=\"color: #00af00; text-decoration-color: #00af00\">256</span>)       │      <span style=\"color: #00af00; text-decoration-color: #00af00\">1,024</span> │ dense_5[<span style=\"color: #00af00; text-decoration-color: #00af00\">0</span>][<span style=\"color: #00af00; text-decoration-color: #00af00\">0</span>]     │\n",
       "│ (<span style=\"color: #0087ff; text-decoration-color: #0087ff\">BatchNormalizatio…</span> │                   │            │                   │\n",
       "├─────────────────────┼───────────────────┼────────────┼───────────────────┤\n",
       "│ dropout_5 (<span style=\"color: #0087ff; text-decoration-color: #0087ff\">Dropout</span>) │ (<span style=\"color: #00d7ff; text-decoration-color: #00d7ff\">None</span>, <span style=\"color: #00af00; text-decoration-color: #00af00\">256</span>)       │          <span style=\"color: #00af00; text-decoration-color: #00af00\">0</span> │ batch_normalizat… │\n",
       "├─────────────────────┼───────────────────┼────────────┼───────────────────┤\n",
       "│ level2 (<span style=\"color: #0087ff; text-decoration-color: #0087ff\">Dense</span>)      │ (<span style=\"color: #00d7ff; text-decoration-color: #00d7ff\">None</span>, <span style=\"color: #00af00; text-decoration-color: #00af00\">29</span>)        │      <span style=\"color: #00af00; text-decoration-color: #00af00\">7,453</span> │ dropout_5[<span style=\"color: #00af00; text-decoration-color: #00af00\">0</span>][<span style=\"color: #00af00; text-decoration-color: #00af00\">0</span>]   │\n",
       "├─────────────────────┼───────────────────┼────────────┼───────────────────┤\n",
       "│ output_normalizati… │ (<span style=\"color: #00d7ff; text-decoration-color: #00d7ff\">None</span>, <span style=\"color: #00af00; text-decoration-color: #00af00\">29</span>)        │          <span style=\"color: #00af00; text-decoration-color: #00af00\">0</span> │ level2[<span style=\"color: #00af00; text-decoration-color: #00af00\">0</span>][<span style=\"color: #00af00; text-decoration-color: #00af00\">0</span>]      │\n",
       "│ (<span style=\"color: #0087ff; text-decoration-color: #0087ff\">OutputNormalizati…</span> │                   │            │                   │\n",
       "├─────────────────────┼───────────────────┼────────────┼───────────────────┤\n",
       "│ batch_normalizatio… │ (<span style=\"color: #00d7ff; text-decoration-color: #00d7ff\">None</span>, <span style=\"color: #00af00; text-decoration-color: #00af00\">29</span>)        │        <span style=\"color: #00af00; text-decoration-color: #00af00\">116</span> │ output_normaliza… │\n",
       "│ (<span style=\"color: #0087ff; text-decoration-color: #0087ff\">BatchNormalizatio…</span> │                   │            │                   │\n",
       "├─────────────────────┼───────────────────┼────────────┼───────────────────┤\n",
       "│ concatenate_1       │ (<span style=\"color: #00d7ff; text-decoration-color: #00d7ff\">None</span>, <span style=\"color: #00af00; text-decoration-color: #00af00\">1309</span>)      │          <span style=\"color: #00af00; text-decoration-color: #00af00\">0</span> │ batch_normalizat… │\n",
       "│ (<span style=\"color: #0087ff; text-decoration-color: #0087ff\">Concatenate</span>)       │                   │            │ features[<span style=\"color: #00af00; text-decoration-color: #00af00\">0</span>][<span style=\"color: #00af00; text-decoration-color: #00af00\">0</span>]    │\n",
       "├─────────────────────┼───────────────────┼────────────┼───────────────────┤\n",
       "│ dense_6 (<span style=\"color: #0087ff; text-decoration-color: #0087ff\">Dense</span>)     │ (<span style=\"color: #00d7ff; text-decoration-color: #00d7ff\">None</span>, <span style=\"color: #00af00; text-decoration-color: #00af00\">1024</span>)      │  <span style=\"color: #00af00; text-decoration-color: #00af00\">1,341,440</span> │ concatenate_1[<span style=\"color: #00af00; text-decoration-color: #00af00\">0</span>]… │\n",
       "├─────────────────────┼───────────────────┼────────────┼───────────────────┤\n",
       "│ dropout_6 (<span style=\"color: #0087ff; text-decoration-color: #0087ff\">Dropout</span>) │ (<span style=\"color: #00d7ff; text-decoration-color: #00d7ff\">None</span>, <span style=\"color: #00af00; text-decoration-color: #00af00\">1024</span>)      │          <span style=\"color: #00af00; text-decoration-color: #00af00\">0</span> │ dense_6[<span style=\"color: #00af00; text-decoration-color: #00af00\">0</span>][<span style=\"color: #00af00; text-decoration-color: #00af00\">0</span>]     │\n",
       "├─────────────────────┼───────────────────┼────────────┼───────────────────┤\n",
       "│ dense_7 (<span style=\"color: #0087ff; text-decoration-color: #0087ff\">Dense</span>)     │ (<span style=\"color: #00d7ff; text-decoration-color: #00d7ff\">None</span>, <span style=\"color: #00af00; text-decoration-color: #00af00\">512</span>)       │    <span style=\"color: #00af00; text-decoration-color: #00af00\">524,800</span> │ dropout_6[<span style=\"color: #00af00; text-decoration-color: #00af00\">0</span>][<span style=\"color: #00af00; text-decoration-color: #00af00\">0</span>]   │\n",
       "├─────────────────────┼───────────────────┼────────────┼───────────────────┤\n",
       "│ dropout_7 (<span style=\"color: #0087ff; text-decoration-color: #0087ff\">Dropout</span>) │ (<span style=\"color: #00d7ff; text-decoration-color: #00d7ff\">None</span>, <span style=\"color: #00af00; text-decoration-color: #00af00\">512</span>)       │          <span style=\"color: #00af00; text-decoration-color: #00af00\">0</span> │ dense_7[<span style=\"color: #00af00; text-decoration-color: #00af00\">0</span>][<span style=\"color: #00af00; text-decoration-color: #00af00\">0</span>]     │\n",
       "├─────────────────────┼───────────────────┼────────────┼───────────────────┤\n",
       "│ dense_8 (<span style=\"color: #0087ff; text-decoration-color: #0087ff\">Dense</span>)     │ (<span style=\"color: #00d7ff; text-decoration-color: #00d7ff\">None</span>, <span style=\"color: #00af00; text-decoration-color: #00af00\">256</span>)       │    <span style=\"color: #00af00; text-decoration-color: #00af00\">131,328</span> │ dropout_7[<span style=\"color: #00af00; text-decoration-color: #00af00\">0</span>][<span style=\"color: #00af00; text-decoration-color: #00af00\">0</span>]   │\n",
       "├─────────────────────┼───────────────────┼────────────┼───────────────────┤\n",
       "│ batch_normalizatio… │ (<span style=\"color: #00d7ff; text-decoration-color: #00d7ff\">None</span>, <span style=\"color: #00af00; text-decoration-color: #00af00\">256</span>)       │      <span style=\"color: #00af00; text-decoration-color: #00af00\">1,024</span> │ dense_8[<span style=\"color: #00af00; text-decoration-color: #00af00\">0</span>][<span style=\"color: #00af00; text-decoration-color: #00af00\">0</span>]     │\n",
       "│ (<span style=\"color: #0087ff; text-decoration-color: #0087ff\">BatchNormalizatio…</span> │                   │            │                   │\n",
       "├─────────────────────┼───────────────────┼────────────┼───────────────────┤\n",
       "│ dropout_8 (<span style=\"color: #0087ff; text-decoration-color: #0087ff\">Dropout</span>) │ (<span style=\"color: #00d7ff; text-decoration-color: #00d7ff\">None</span>, <span style=\"color: #00af00; text-decoration-color: #00af00\">256</span>)       │          <span style=\"color: #00af00; text-decoration-color: #00af00\">0</span> │ batch_normalizat… │\n",
       "├─────────────────────┼───────────────────┼────────────┼───────────────────┤\n",
       "│ level3 (<span style=\"color: #0087ff; text-decoration-color: #0087ff\">Dense</span>)      │ (<span style=\"color: #00d7ff; text-decoration-color: #00d7ff\">None</span>, <span style=\"color: #00af00; text-decoration-color: #00af00\">15</span>)        │      <span style=\"color: #00af00; text-decoration-color: #00af00\">3,855</span> │ dropout_8[<span style=\"color: #00af00; text-decoration-color: #00af00\">0</span>][<span style=\"color: #00af00; text-decoration-color: #00af00\">0</span>]   │\n",
       "├─────────────────────┼───────────────────┼────────────┼───────────────────┤\n",
       "│ output_normalizati… │ (<span style=\"color: #00d7ff; text-decoration-color: #00d7ff\">None</span>, <span style=\"color: #00af00; text-decoration-color: #00af00\">15</span>)        │          <span style=\"color: #00af00; text-decoration-color: #00af00\">0</span> │ level3[<span style=\"color: #00af00; text-decoration-color: #00af00\">0</span>][<span style=\"color: #00af00; text-decoration-color: #00af00\">0</span>]      │\n",
       "│ (<span style=\"color: #0087ff; text-decoration-color: #0087ff\">OutputNormalizati…</span> │                   │            │                   │\n",
       "├─────────────────────┼───────────────────┼────────────┼───────────────────┤\n",
       "│ batch_normalizatio… │ (<span style=\"color: #00d7ff; text-decoration-color: #00d7ff\">None</span>, <span style=\"color: #00af00; text-decoration-color: #00af00\">15</span>)        │         <span style=\"color: #00af00; text-decoration-color: #00af00\">60</span> │ output_normaliza… │\n",
       "│ (<span style=\"color: #0087ff; text-decoration-color: #0087ff\">BatchNormalizatio…</span> │                   │            │                   │\n",
       "├─────────────────────┼───────────────────┼────────────┼───────────────────┤\n",
       "│ concatenate_2       │ (<span style=\"color: #00d7ff; text-decoration-color: #00d7ff\">None</span>, <span style=\"color: #00af00; text-decoration-color: #00af00\">1295</span>)      │          <span style=\"color: #00af00; text-decoration-color: #00af00\">0</span> │ batch_normalizat… │\n",
       "│ (<span style=\"color: #0087ff; text-decoration-color: #0087ff\">Concatenate</span>)       │                   │            │ features[<span style=\"color: #00af00; text-decoration-color: #00af00\">0</span>][<span style=\"color: #00af00; text-decoration-color: #00af00\">0</span>]    │\n",
       "├─────────────────────┼───────────────────┼────────────┼───────────────────┤\n",
       "│ dense_9 (<span style=\"color: #0087ff; text-decoration-color: #0087ff\">Dense</span>)     │ (<span style=\"color: #00d7ff; text-decoration-color: #00d7ff\">None</span>, <span style=\"color: #00af00; text-decoration-color: #00af00\">1024</span>)      │  <span style=\"color: #00af00; text-decoration-color: #00af00\">1,327,104</span> │ concatenate_2[<span style=\"color: #00af00; text-decoration-color: #00af00\">0</span>]… │\n",
       "├─────────────────────┼───────────────────┼────────────┼───────────────────┤\n",
       "│ dropout_9 (<span style=\"color: #0087ff; text-decoration-color: #0087ff\">Dropout</span>) │ (<span style=\"color: #00d7ff; text-decoration-color: #00d7ff\">None</span>, <span style=\"color: #00af00; text-decoration-color: #00af00\">1024</span>)      │          <span style=\"color: #00af00; text-decoration-color: #00af00\">0</span> │ dense_9[<span style=\"color: #00af00; text-decoration-color: #00af00\">0</span>][<span style=\"color: #00af00; text-decoration-color: #00af00\">0</span>]     │\n",
       "├─────────────────────┼───────────────────┼────────────┼───────────────────┤\n",
       "│ dense_10 (<span style=\"color: #0087ff; text-decoration-color: #0087ff\">Dense</span>)    │ (<span style=\"color: #00d7ff; text-decoration-color: #00d7ff\">None</span>, <span style=\"color: #00af00; text-decoration-color: #00af00\">512</span>)       │    <span style=\"color: #00af00; text-decoration-color: #00af00\">524,800</span> │ dropout_9[<span style=\"color: #00af00; text-decoration-color: #00af00\">0</span>][<span style=\"color: #00af00; text-decoration-color: #00af00\">0</span>]   │\n",
       "├─────────────────────┼───────────────────┼────────────┼───────────────────┤\n",
       "│ dropout_10          │ (<span style=\"color: #00d7ff; text-decoration-color: #00d7ff\">None</span>, <span style=\"color: #00af00; text-decoration-color: #00af00\">512</span>)       │          <span style=\"color: #00af00; text-decoration-color: #00af00\">0</span> │ dense_10[<span style=\"color: #00af00; text-decoration-color: #00af00\">0</span>][<span style=\"color: #00af00; text-decoration-color: #00af00\">0</span>]    │\n",
       "│ (<span style=\"color: #0087ff; text-decoration-color: #0087ff\">Dropout</span>)           │                   │            │                   │\n",
       "├─────────────────────┼───────────────────┼────────────┼───────────────────┤\n",
       "│ dense_11 (<span style=\"color: #0087ff; text-decoration-color: #0087ff\">Dense</span>)    │ (<span style=\"color: #00d7ff; text-decoration-color: #00d7ff\">None</span>, <span style=\"color: #00af00; text-decoration-color: #00af00\">256</span>)       │    <span style=\"color: #00af00; text-decoration-color: #00af00\">131,328</span> │ dropout_10[<span style=\"color: #00af00; text-decoration-color: #00af00\">0</span>][<span style=\"color: #00af00; text-decoration-color: #00af00\">0</span>]  │\n",
       "├─────────────────────┼───────────────────┼────────────┼───────────────────┤\n",
       "│ batch_normalizatio… │ (<span style=\"color: #00d7ff; text-decoration-color: #00d7ff\">None</span>, <span style=\"color: #00af00; text-decoration-color: #00af00\">256</span>)       │      <span style=\"color: #00af00; text-decoration-color: #00af00\">1,024</span> │ dense_11[<span style=\"color: #00af00; text-decoration-color: #00af00\">0</span>][<span style=\"color: #00af00; text-decoration-color: #00af00\">0</span>]    │\n",
       "│ (<span style=\"color: #0087ff; text-decoration-color: #0087ff\">BatchNormalizatio…</span> │                   │            │                   │\n",
       "├─────────────────────┼───────────────────┼────────────┼───────────────────┤\n",
       "│ dropout_11          │ (<span style=\"color: #00d7ff; text-decoration-color: #00d7ff\">None</span>, <span style=\"color: #00af00; text-decoration-color: #00af00\">256</span>)       │          <span style=\"color: #00af00; text-decoration-color: #00af00\">0</span> │ batch_normalizat… │\n",
       "│ (<span style=\"color: #0087ff; text-decoration-color: #0087ff\">Dropout</span>)           │                   │            │                   │\n",
       "├─────────────────────┼───────────────────┼────────────┼───────────────────┤\n",
       "│ level4 (<span style=\"color: #0087ff; text-decoration-color: #0087ff\">Dense</span>)      │ (<span style=\"color: #00d7ff; text-decoration-color: #00d7ff\">None</span>, <span style=\"color: #00af00; text-decoration-color: #00af00\">2</span>)         │        <span style=\"color: #00af00; text-decoration-color: #00af00\">514</span> │ dropout_11[<span style=\"color: #00af00; text-decoration-color: #00af00\">0</span>][<span style=\"color: #00af00; text-decoration-color: #00af00\">0</span>]  │\n",
       "└─────────────────────┴───────────────────┴────────────┴───────────────────┘\n",
       "</pre>\n"
      ],
      "text/plain": [
       "┏━━━━━━━━━━━━━━━━━━━━━┳━━━━━━━━━━━━━━━━━━━┳━━━━━━━━━━━━┳━━━━━━━━━━━━━━━━━━━┓\n",
       "┃\u001b[1m \u001b[0m\u001b[1mLayer (type)       \u001b[0m\u001b[1m \u001b[0m┃\u001b[1m \u001b[0m\u001b[1mOutput Shape     \u001b[0m\u001b[1m \u001b[0m┃\u001b[1m \u001b[0m\u001b[1m   Param #\u001b[0m\u001b[1m \u001b[0m┃\u001b[1m \u001b[0m\u001b[1mConnected to     \u001b[0m\u001b[1m \u001b[0m┃\n",
       "┡━━━━━━━━━━━━━━━━━━━━━╇━━━━━━━━━━━━━━━━━━━╇━━━━━━━━━━━━╇━━━━━━━━━━━━━━━━━━━┩\n",
       "│ features            │ (\u001b[38;5;45mNone\u001b[0m, \u001b[38;5;34m1280\u001b[0m)      │          \u001b[38;5;34m0\u001b[0m │ -                 │\n",
       "│ (\u001b[38;5;33mInputLayer\u001b[0m)        │                   │            │                   │\n",
       "├─────────────────────┼───────────────────┼────────────┼───────────────────┤\n",
       "│ dense (\u001b[38;5;33mDense\u001b[0m)       │ (\u001b[38;5;45mNone\u001b[0m, \u001b[38;5;34m1024\u001b[0m)      │  \u001b[38;5;34m1,311,744\u001b[0m │ features[\u001b[38;5;34m0\u001b[0m][\u001b[38;5;34m0\u001b[0m]    │\n",
       "├─────────────────────┼───────────────────┼────────────┼───────────────────┤\n",
       "│ dropout (\u001b[38;5;33mDropout\u001b[0m)   │ (\u001b[38;5;45mNone\u001b[0m, \u001b[38;5;34m1024\u001b[0m)      │          \u001b[38;5;34m0\u001b[0m │ dense[\u001b[38;5;34m0\u001b[0m][\u001b[38;5;34m0\u001b[0m]       │\n",
       "├─────────────────────┼───────────────────┼────────────┼───────────────────┤\n",
       "│ dense_1 (\u001b[38;5;33mDense\u001b[0m)     │ (\u001b[38;5;45mNone\u001b[0m, \u001b[38;5;34m512\u001b[0m)       │    \u001b[38;5;34m524,800\u001b[0m │ dropout[\u001b[38;5;34m0\u001b[0m][\u001b[38;5;34m0\u001b[0m]     │\n",
       "├─────────────────────┼───────────────────┼────────────┼───────────────────┤\n",
       "│ dropout_1 (\u001b[38;5;33mDropout\u001b[0m) │ (\u001b[38;5;45mNone\u001b[0m, \u001b[38;5;34m512\u001b[0m)       │          \u001b[38;5;34m0\u001b[0m │ dense_1[\u001b[38;5;34m0\u001b[0m][\u001b[38;5;34m0\u001b[0m]     │\n",
       "├─────────────────────┼───────────────────┼────────────┼───────────────────┤\n",
       "│ dense_2 (\u001b[38;5;33mDense\u001b[0m)     │ (\u001b[38;5;45mNone\u001b[0m, \u001b[38;5;34m256\u001b[0m)       │    \u001b[38;5;34m131,328\u001b[0m │ dropout_1[\u001b[38;5;34m0\u001b[0m][\u001b[38;5;34m0\u001b[0m]   │\n",
       "├─────────────────────┼───────────────────┼────────────┼───────────────────┤\n",
       "│ batch_normalization │ (\u001b[38;5;45mNone\u001b[0m, \u001b[38;5;34m256\u001b[0m)       │      \u001b[38;5;34m1,024\u001b[0m │ dense_2[\u001b[38;5;34m0\u001b[0m][\u001b[38;5;34m0\u001b[0m]     │\n",
       "│ (\u001b[38;5;33mBatchNormalizatio…\u001b[0m │                   │            │                   │\n",
       "├─────────────────────┼───────────────────┼────────────┼───────────────────┤\n",
       "│ dropout_2 (\u001b[38;5;33mDropout\u001b[0m) │ (\u001b[38;5;45mNone\u001b[0m, \u001b[38;5;34m256\u001b[0m)       │          \u001b[38;5;34m0\u001b[0m │ batch_normalizat… │\n",
       "├─────────────────────┼───────────────────┼────────────┼───────────────────┤\n",
       "│ level1 (\u001b[38;5;33mDense\u001b[0m)      │ (\u001b[38;5;45mNone\u001b[0m, \u001b[38;5;34m2\u001b[0m)         │        \u001b[38;5;34m514\u001b[0m │ dropout_2[\u001b[38;5;34m0\u001b[0m][\u001b[38;5;34m0\u001b[0m]   │\n",
       "├─────────────────────┼───────────────────┼────────────┼───────────────────┤\n",
       "│ output_normalizati… │ (\u001b[38;5;45mNone\u001b[0m, \u001b[38;5;34m2\u001b[0m)         │          \u001b[38;5;34m0\u001b[0m │ level1[\u001b[38;5;34m0\u001b[0m][\u001b[38;5;34m0\u001b[0m]      │\n",
       "│ (\u001b[38;5;33mOutputNormalizati…\u001b[0m │                   │            │                   │\n",
       "├─────────────────────┼───────────────────┼────────────┼───────────────────┤\n",
       "│ batch_normalizatio… │ (\u001b[38;5;45mNone\u001b[0m, \u001b[38;5;34m2\u001b[0m)         │          \u001b[38;5;34m8\u001b[0m │ output_normaliza… │\n",
       "│ (\u001b[38;5;33mBatchNormalizatio…\u001b[0m │                   │            │                   │\n",
       "├─────────────────────┼───────────────────┼────────────┼───────────────────┤\n",
       "│ concatenate         │ (\u001b[38;5;45mNone\u001b[0m, \u001b[38;5;34m1282\u001b[0m)      │          \u001b[38;5;34m0\u001b[0m │ batch_normalizat… │\n",
       "│ (\u001b[38;5;33mConcatenate\u001b[0m)       │                   │            │ features[\u001b[38;5;34m0\u001b[0m][\u001b[38;5;34m0\u001b[0m]    │\n",
       "├─────────────────────┼───────────────────┼────────────┼───────────────────┤\n",
       "│ dense_3 (\u001b[38;5;33mDense\u001b[0m)     │ (\u001b[38;5;45mNone\u001b[0m, \u001b[38;5;34m1024\u001b[0m)      │  \u001b[38;5;34m1,313,792\u001b[0m │ concatenate[\u001b[38;5;34m0\u001b[0m][\u001b[38;5;34m0\u001b[0m] │\n",
       "├─────────────────────┼───────────────────┼────────────┼───────────────────┤\n",
       "│ dropout_3 (\u001b[38;5;33mDropout\u001b[0m) │ (\u001b[38;5;45mNone\u001b[0m, \u001b[38;5;34m1024\u001b[0m)      │          \u001b[38;5;34m0\u001b[0m │ dense_3[\u001b[38;5;34m0\u001b[0m][\u001b[38;5;34m0\u001b[0m]     │\n",
       "├─────────────────────┼───────────────────┼────────────┼───────────────────┤\n",
       "│ dense_4 (\u001b[38;5;33mDense\u001b[0m)     │ (\u001b[38;5;45mNone\u001b[0m, \u001b[38;5;34m512\u001b[0m)       │    \u001b[38;5;34m524,800\u001b[0m │ dropout_3[\u001b[38;5;34m0\u001b[0m][\u001b[38;5;34m0\u001b[0m]   │\n",
       "├─────────────────────┼───────────────────┼────────────┼───────────────────┤\n",
       "│ dropout_4 (\u001b[38;5;33mDropout\u001b[0m) │ (\u001b[38;5;45mNone\u001b[0m, \u001b[38;5;34m512\u001b[0m)       │          \u001b[38;5;34m0\u001b[0m │ dense_4[\u001b[38;5;34m0\u001b[0m][\u001b[38;5;34m0\u001b[0m]     │\n",
       "├─────────────────────┼───────────────────┼────────────┼───────────────────┤\n",
       "│ dense_5 (\u001b[38;5;33mDense\u001b[0m)     │ (\u001b[38;5;45mNone\u001b[0m, \u001b[38;5;34m256\u001b[0m)       │    \u001b[38;5;34m131,328\u001b[0m │ dropout_4[\u001b[38;5;34m0\u001b[0m][\u001b[38;5;34m0\u001b[0m]   │\n",
       "├─────────────────────┼───────────────────┼────────────┼───────────────────┤\n",
       "│ batch_normalizatio… │ (\u001b[38;5;45mNone\u001b[0m, \u001b[38;5;34m256\u001b[0m)       │      \u001b[38;5;34m1,024\u001b[0m │ dense_5[\u001b[38;5;34m0\u001b[0m][\u001b[38;5;34m0\u001b[0m]     │\n",
       "│ (\u001b[38;5;33mBatchNormalizatio…\u001b[0m │                   │            │                   │\n",
       "├─────────────────────┼───────────────────┼────────────┼───────────────────┤\n",
       "│ dropout_5 (\u001b[38;5;33mDropout\u001b[0m) │ (\u001b[38;5;45mNone\u001b[0m, \u001b[38;5;34m256\u001b[0m)       │          \u001b[38;5;34m0\u001b[0m │ batch_normalizat… │\n",
       "├─────────────────────┼───────────────────┼────────────┼───────────────────┤\n",
       "│ level2 (\u001b[38;5;33mDense\u001b[0m)      │ (\u001b[38;5;45mNone\u001b[0m, \u001b[38;5;34m29\u001b[0m)        │      \u001b[38;5;34m7,453\u001b[0m │ dropout_5[\u001b[38;5;34m0\u001b[0m][\u001b[38;5;34m0\u001b[0m]   │\n",
       "├─────────────────────┼───────────────────┼────────────┼───────────────────┤\n",
       "│ output_normalizati… │ (\u001b[38;5;45mNone\u001b[0m, \u001b[38;5;34m29\u001b[0m)        │          \u001b[38;5;34m0\u001b[0m │ level2[\u001b[38;5;34m0\u001b[0m][\u001b[38;5;34m0\u001b[0m]      │\n",
       "│ (\u001b[38;5;33mOutputNormalizati…\u001b[0m │                   │            │                   │\n",
       "├─────────────────────┼───────────────────┼────────────┼───────────────────┤\n",
       "│ batch_normalizatio… │ (\u001b[38;5;45mNone\u001b[0m, \u001b[38;5;34m29\u001b[0m)        │        \u001b[38;5;34m116\u001b[0m │ output_normaliza… │\n",
       "│ (\u001b[38;5;33mBatchNormalizatio…\u001b[0m │                   │            │                   │\n",
       "├─────────────────────┼───────────────────┼────────────┼───────────────────┤\n",
       "│ concatenate_1       │ (\u001b[38;5;45mNone\u001b[0m, \u001b[38;5;34m1309\u001b[0m)      │          \u001b[38;5;34m0\u001b[0m │ batch_normalizat… │\n",
       "│ (\u001b[38;5;33mConcatenate\u001b[0m)       │                   │            │ features[\u001b[38;5;34m0\u001b[0m][\u001b[38;5;34m0\u001b[0m]    │\n",
       "├─────────────────────┼───────────────────┼────────────┼───────────────────┤\n",
       "│ dense_6 (\u001b[38;5;33mDense\u001b[0m)     │ (\u001b[38;5;45mNone\u001b[0m, \u001b[38;5;34m1024\u001b[0m)      │  \u001b[38;5;34m1,341,440\u001b[0m │ concatenate_1[\u001b[38;5;34m0\u001b[0m]… │\n",
       "├─────────────────────┼───────────────────┼────────────┼───────────────────┤\n",
       "│ dropout_6 (\u001b[38;5;33mDropout\u001b[0m) │ (\u001b[38;5;45mNone\u001b[0m, \u001b[38;5;34m1024\u001b[0m)      │          \u001b[38;5;34m0\u001b[0m │ dense_6[\u001b[38;5;34m0\u001b[0m][\u001b[38;5;34m0\u001b[0m]     │\n",
       "├─────────────────────┼───────────────────┼────────────┼───────────────────┤\n",
       "│ dense_7 (\u001b[38;5;33mDense\u001b[0m)     │ (\u001b[38;5;45mNone\u001b[0m, \u001b[38;5;34m512\u001b[0m)       │    \u001b[38;5;34m524,800\u001b[0m │ dropout_6[\u001b[38;5;34m0\u001b[0m][\u001b[38;5;34m0\u001b[0m]   │\n",
       "├─────────────────────┼───────────────────┼────────────┼───────────────────┤\n",
       "│ dropout_7 (\u001b[38;5;33mDropout\u001b[0m) │ (\u001b[38;5;45mNone\u001b[0m, \u001b[38;5;34m512\u001b[0m)       │          \u001b[38;5;34m0\u001b[0m │ dense_7[\u001b[38;5;34m0\u001b[0m][\u001b[38;5;34m0\u001b[0m]     │\n",
       "├─────────────────────┼───────────────────┼────────────┼───────────────────┤\n",
       "│ dense_8 (\u001b[38;5;33mDense\u001b[0m)     │ (\u001b[38;5;45mNone\u001b[0m, \u001b[38;5;34m256\u001b[0m)       │    \u001b[38;5;34m131,328\u001b[0m │ dropout_7[\u001b[38;5;34m0\u001b[0m][\u001b[38;5;34m0\u001b[0m]   │\n",
       "├─────────────────────┼───────────────────┼────────────┼───────────────────┤\n",
       "│ batch_normalizatio… │ (\u001b[38;5;45mNone\u001b[0m, \u001b[38;5;34m256\u001b[0m)       │      \u001b[38;5;34m1,024\u001b[0m │ dense_8[\u001b[38;5;34m0\u001b[0m][\u001b[38;5;34m0\u001b[0m]     │\n",
       "│ (\u001b[38;5;33mBatchNormalizatio…\u001b[0m │                   │            │                   │\n",
       "├─────────────────────┼───────────────────┼────────────┼───────────────────┤\n",
       "│ dropout_8 (\u001b[38;5;33mDropout\u001b[0m) │ (\u001b[38;5;45mNone\u001b[0m, \u001b[38;5;34m256\u001b[0m)       │          \u001b[38;5;34m0\u001b[0m │ batch_normalizat… │\n",
       "├─────────────────────┼───────────────────┼────────────┼───────────────────┤\n",
       "│ level3 (\u001b[38;5;33mDense\u001b[0m)      │ (\u001b[38;5;45mNone\u001b[0m, \u001b[38;5;34m15\u001b[0m)        │      \u001b[38;5;34m3,855\u001b[0m │ dropout_8[\u001b[38;5;34m0\u001b[0m][\u001b[38;5;34m0\u001b[0m]   │\n",
       "├─────────────────────┼───────────────────┼────────────┼───────────────────┤\n",
       "│ output_normalizati… │ (\u001b[38;5;45mNone\u001b[0m, \u001b[38;5;34m15\u001b[0m)        │          \u001b[38;5;34m0\u001b[0m │ level3[\u001b[38;5;34m0\u001b[0m][\u001b[38;5;34m0\u001b[0m]      │\n",
       "│ (\u001b[38;5;33mOutputNormalizati…\u001b[0m │                   │            │                   │\n",
       "├─────────────────────┼───────────────────┼────────────┼───────────────────┤\n",
       "│ batch_normalizatio… │ (\u001b[38;5;45mNone\u001b[0m, \u001b[38;5;34m15\u001b[0m)        │         \u001b[38;5;34m60\u001b[0m │ output_normaliza… │\n",
       "│ (\u001b[38;5;33mBatchNormalizatio…\u001b[0m │                   │            │                   │\n",
       "├─────────────────────┼───────────────────┼────────────┼───────────────────┤\n",
       "│ concatenate_2       │ (\u001b[38;5;45mNone\u001b[0m, \u001b[38;5;34m1295\u001b[0m)      │          \u001b[38;5;34m0\u001b[0m │ batch_normalizat… │\n",
       "│ (\u001b[38;5;33mConcatenate\u001b[0m)       │                   │            │ features[\u001b[38;5;34m0\u001b[0m][\u001b[38;5;34m0\u001b[0m]    │\n",
       "├─────────────────────┼───────────────────┼────────────┼───────────────────┤\n",
       "│ dense_9 (\u001b[38;5;33mDense\u001b[0m)     │ (\u001b[38;5;45mNone\u001b[0m, \u001b[38;5;34m1024\u001b[0m)      │  \u001b[38;5;34m1,327,104\u001b[0m │ concatenate_2[\u001b[38;5;34m0\u001b[0m]… │\n",
       "├─────────────────────┼───────────────────┼────────────┼───────────────────┤\n",
       "│ dropout_9 (\u001b[38;5;33mDropout\u001b[0m) │ (\u001b[38;5;45mNone\u001b[0m, \u001b[38;5;34m1024\u001b[0m)      │          \u001b[38;5;34m0\u001b[0m │ dense_9[\u001b[38;5;34m0\u001b[0m][\u001b[38;5;34m0\u001b[0m]     │\n",
       "├─────────────────────┼───────────────────┼────────────┼───────────────────┤\n",
       "│ dense_10 (\u001b[38;5;33mDense\u001b[0m)    │ (\u001b[38;5;45mNone\u001b[0m, \u001b[38;5;34m512\u001b[0m)       │    \u001b[38;5;34m524,800\u001b[0m │ dropout_9[\u001b[38;5;34m0\u001b[0m][\u001b[38;5;34m0\u001b[0m]   │\n",
       "├─────────────────────┼───────────────────┼────────────┼───────────────────┤\n",
       "│ dropout_10          │ (\u001b[38;5;45mNone\u001b[0m, \u001b[38;5;34m512\u001b[0m)       │          \u001b[38;5;34m0\u001b[0m │ dense_10[\u001b[38;5;34m0\u001b[0m][\u001b[38;5;34m0\u001b[0m]    │\n",
       "│ (\u001b[38;5;33mDropout\u001b[0m)           │                   │            │                   │\n",
       "├─────────────────────┼───────────────────┼────────────┼───────────────────┤\n",
       "│ dense_11 (\u001b[38;5;33mDense\u001b[0m)    │ (\u001b[38;5;45mNone\u001b[0m, \u001b[38;5;34m256\u001b[0m)       │    \u001b[38;5;34m131,328\u001b[0m │ dropout_10[\u001b[38;5;34m0\u001b[0m][\u001b[38;5;34m0\u001b[0m]  │\n",
       "├─────────────────────┼───────────────────┼────────────┼───────────────────┤\n",
       "│ batch_normalizatio… │ (\u001b[38;5;45mNone\u001b[0m, \u001b[38;5;34m256\u001b[0m)       │      \u001b[38;5;34m1,024\u001b[0m │ dense_11[\u001b[38;5;34m0\u001b[0m][\u001b[38;5;34m0\u001b[0m]    │\n",
       "│ (\u001b[38;5;33mBatchNormalizatio…\u001b[0m │                   │            │                   │\n",
       "├─────────────────────┼───────────────────┼────────────┼───────────────────┤\n",
       "│ dropout_11          │ (\u001b[38;5;45mNone\u001b[0m, \u001b[38;5;34m256\u001b[0m)       │          \u001b[38;5;34m0\u001b[0m │ batch_normalizat… │\n",
       "│ (\u001b[38;5;33mDropout\u001b[0m)           │                   │            │                   │\n",
       "├─────────────────────┼───────────────────┼────────────┼───────────────────┤\n",
       "│ level4 (\u001b[38;5;33mDense\u001b[0m)      │ (\u001b[38;5;45mNone\u001b[0m, \u001b[38;5;34m2\u001b[0m)         │        \u001b[38;5;34m514\u001b[0m │ dropout_11[\u001b[38;5;34m0\u001b[0m][\u001b[38;5;34m0\u001b[0m]  │\n",
       "└─────────────────────┴───────────────────┴────────────┴───────────────────┘\n"
      ]
     },
     "metadata": {},
     "output_type": "display_data"
    },
    {
     "data": {
      "text/html": [
       "<pre style=\"white-space:pre;overflow-x:auto;line-height:normal;font-family:Menlo,'DejaVu Sans Mono',consolas,'Courier New',monospace\"><span style=\"font-weight: bold\"> Total params: </span><span style=\"color: #00af00; text-decoration-color: #00af00\">7,935,208</span> (30.27 MB)\n",
       "</pre>\n"
      ],
      "text/plain": [
       "\u001b[1m Total params: \u001b[0m\u001b[38;5;34m7,935,208\u001b[0m (30.27 MB)\n"
      ]
     },
     "metadata": {},
     "output_type": "display_data"
    },
    {
     "data": {
      "text/html": [
       "<pre style=\"white-space:pre;overflow-x:auto;line-height:normal;font-family:Menlo,'DejaVu Sans Mono',consolas,'Courier New',monospace\"><span style=\"font-weight: bold\"> Trainable params: </span><span style=\"color: #00af00; text-decoration-color: #00af00\">7,933,068</span> (30.26 MB)\n",
       "</pre>\n"
      ],
      "text/plain": [
       "\u001b[1m Trainable params: \u001b[0m\u001b[38;5;34m7,933,068\u001b[0m (30.26 MB)\n"
      ]
     },
     "metadata": {},
     "output_type": "display_data"
    },
    {
     "data": {
      "text/html": [
       "<pre style=\"white-space:pre;overflow-x:auto;line-height:normal;font-family:Menlo,'DejaVu Sans Mono',consolas,'Courier New',monospace\"><span style=\"font-weight: bold\"> Non-trainable params: </span><span style=\"color: #00af00; text-decoration-color: #00af00\">2,140</span> (8.36 KB)\n",
       "</pre>\n"
      ],
      "text/plain": [
       "\u001b[1m Non-trainable params: \u001b[0m\u001b[38;5;34m2,140\u001b[0m (8.36 KB)\n"
      ]
     },
     "metadata": {},
     "output_type": "display_data"
    },
    {
     "name": "stdout",
     "output_type": "stream",
     "text": [
      "None\n"
     ]
    },
    {
     "name": "stderr",
     "output_type": "stream",
     "text": [
      "/home/bruno/.cache/pypoetry/virtualenvs/hierarchical_multi-label_classification-GvVd3mwS-py3.11/lib/python3.11/site-packages/tensorflow/python/data/ops/structured_function.py:258: UserWarning: Even though the `tf.config.experimental_run_functions_eagerly` option is set, this option does not apply to tf.data functions. To force eager execution of tf.data functions, please use `tf.data.experimental.enable_debug_mode()`.\n",
      "  warnings.warn(\n"
     ]
    },
    {
     "name": "stdout",
     "output_type": "stream",
     "text": [
      "Epoch 1/10\n"
     ]
    },
    {
     "name": "stderr",
     "output_type": "stream",
     "text": [
      "2024-06-14 21:25:33.742882: W tensorflow/core/framework/op_kernel.cc:1839] OP_REQUIRES failed at scatter_nd_op.cc:218 : INVALID_ARGUMENT: indices[0] = [2] does not index into shape [2]\n",
      "2024-06-14 21:25:33.749038: W tensorflow/core/framework/op_kernel.cc:1839] OP_REQUIRES failed at scatter_nd_op.cc:218 : INVALID_ARGUMENT: indices[0] = [15] does not index into shape [15]\n"
     ]
    },
    {
     "name": "stdout",
     "output_type": "stream",
     "text": [
      "\u001b[1m  2/524\u001b[0m \u001b[37m━━━━━━━━━━━━━━━━━━━━\u001b[0m \u001b[1m2:08\u001b[0m 246ms/step - level1_accuracy: 0.4766 - level2_accuracy: 0.0312 - level3_accuracy: 0.0938 - level4_accuracy: 0.4375 - loss: 4.8421"
     ]
    },
    {
     "name": "stderr",
     "output_type": "stream",
     "text": [
      "2024-06-14 21:25:36.135701: W tensorflow/core/framework/local_rendezvous.cc:404] Local rendezvous is aborting with status: INVALID_ARGUMENT: indices[0] = [2] does not index into shape [2]\n",
      "\t [[{{node TensorScatterUpdate_3}}]]\n",
      "2024-06-14 21:25:36.136483: W tensorflow/core/framework/op_kernel.cc:1839] OP_REQUIRES failed at scatter_nd_op.cc:218 : INVALID_ARGUMENT: indices[0] = [15] does not index into shape [15]\n"
     ]
    },
    {
     "ename": "InvalidArgumentError",
     "evalue": "{{function_node __wrapped__IteratorGetNext_output_types_5_device_/job:localhost/replica:0/task:0/device:CPU:0}} indices[0] = [2] does not index into shape [2]\n\t [[{{node TensorScatterUpdate_3}}]] [Op:IteratorGetNext] name: ",
     "output_type": "error",
     "traceback": [
      "\u001b[0;31m---------------------------------------------------------------------------\u001b[0m",
      "\u001b[0;31mInvalidArgumentError\u001b[0m                      Traceback (most recent call last)",
      "Cell \u001b[0;32mIn[20], line 5\u001b[0m\n\u001b[1;32m      3\u001b[0m \u001b[38;5;28mprint\u001b[39m(\u001b[38;5;124m\"\u001b[39m\u001b[38;5;124m.......................................\u001b[39m\u001b[38;5;124m\"\u001b[39m)\n\u001b[1;32m      4\u001b[0m \u001b[38;5;28mprint\u001b[39m(args)\n\u001b[0;32m----> 5\u001b[0m \u001b[43mrun\u001b[49m\u001b[43m(\u001b[49m\u001b[43margs\u001b[49m\u001b[43m)\u001b[49m\n\u001b[1;32m      6\u001b[0m time_end \u001b[38;5;241m=\u001b[39m dt\u001b[38;5;241m.\u001b[39mutcnow()\n\u001b[1;32m      7\u001b[0m time_elapsed \u001b[38;5;241m=\u001b[39m time_end \u001b[38;5;241m-\u001b[39m time_start\n",
      "Cell \u001b[0;32mIn[19], line 41\u001b[0m, in \u001b[0;36mrun\u001b[0;34m(args)\u001b[0m\n\u001b[1;32m     39\u001b[0m ds_validation \u001b[38;5;241m=\u001b[39m Dataset(args\u001b[38;5;241m.\u001b[39mvalset_pattern, args\u001b[38;5;241m.\u001b[39mepochs, args\u001b[38;5;241m.\u001b[39mbatch_size, params[\u001b[38;5;124m'\u001b[39m\u001b[38;5;124mlevels_size\u001b[39m\u001b[38;5;124m'\u001b[39m])\u001b[38;5;241m.\u001b[39mbuild(df\u001b[38;5;241m=\u001b[39m\u001b[38;5;28;01mFalse\u001b[39;00m)\n\u001b[1;32m     40\u001b[0m callbacks \u001b[38;5;241m=\u001b[39m [EarlyStopping(monitor\u001b[38;5;241m=\u001b[39m\u001b[38;5;124m'\u001b[39m\u001b[38;5;124mloss\u001b[39m\u001b[38;5;124m'\u001b[39m, patience\u001b[38;5;241m=\u001b[39margs\u001b[38;5;241m.\u001b[39mpatience, verbose\u001b[38;5;241m=\u001b[39m\u001b[38;5;241m1\u001b[39m)]\n\u001b[0;32m---> 41\u001b[0m \u001b[43mmodel\u001b[49m\u001b[38;5;241;43m.\u001b[39;49m\u001b[43mfit\u001b[49m\u001b[43m(\u001b[49m\u001b[43mds_train\u001b[49m\u001b[43m,\u001b[49m\n\u001b[1;32m     42\u001b[0m \u001b[43m          \u001b[49m\u001b[43mvalidation_data\u001b[49m\u001b[38;5;241;43m=\u001b[39;49m\u001b[43mds_validation\u001b[49m\u001b[43m,\u001b[49m\n\u001b[1;32m     43\u001b[0m \u001b[43m          \u001b[49m\u001b[43msteps_per_epoch\u001b[49m\u001b[38;5;241;43m=\u001b[39;49m\u001b[43mmetadata\u001b[49m\u001b[43m[\u001b[49m\u001b[38;5;124;43m'\u001b[39;49m\u001b[38;5;124;43mtrainset_count\u001b[39;49m\u001b[38;5;124;43m'\u001b[39;49m\u001b[43m]\u001b[49m\u001b[43m \u001b[49m\u001b[38;5;241;43m/\u001b[39;49m\u001b[38;5;241;43m/\u001b[39;49m\u001b[43m \u001b[49m\u001b[43margs\u001b[49m\u001b[38;5;241;43m.\u001b[39;49m\u001b[43mbatch_size\u001b[49m\u001b[43m,\u001b[49m\n\u001b[1;32m     44\u001b[0m \u001b[43m          \u001b[49m\u001b[43mvalidation_steps\u001b[49m\u001b[38;5;241;43m=\u001b[39;49m\u001b[43mmetadata\u001b[49m\u001b[43m[\u001b[49m\u001b[38;5;124;43m'\u001b[39;49m\u001b[38;5;124;43mvalidationset_count\u001b[39;49m\u001b[38;5;124;43m'\u001b[39;49m\u001b[43m]\u001b[49m\u001b[43m \u001b[49m\u001b[38;5;241;43m/\u001b[39;49m\u001b[38;5;241;43m/\u001b[39;49m\u001b[43m \u001b[49m\u001b[43margs\u001b[49m\u001b[38;5;241;43m.\u001b[39;49m\u001b[43mbatch_size\u001b[49m\u001b[43m,\u001b[49m\n\u001b[1;32m     45\u001b[0m \u001b[43m          \u001b[49m\u001b[43mepochs\u001b[49m\u001b[38;5;241;43m=\u001b[39;49m\u001b[43margs\u001b[49m\u001b[38;5;241;43m.\u001b[39;49m\u001b[43mepochs\u001b[49m\u001b[43m,\u001b[49m\n\u001b[1;32m     46\u001b[0m \u001b[43m          \u001b[49m\u001b[43mcallbacks\u001b[49m\u001b[38;5;241;43m=\u001b[39;49m\u001b[43mcallbacks\u001b[49m\u001b[43m)\u001b[49m\n\u001b[1;32m     48\u001b[0m model\u001b[38;5;241m.\u001b[39msave(os\u001b[38;5;241m.\u001b[39mpath\u001b[38;5;241m.\u001b[39mjoin(args\u001b[38;5;241m.\u001b[39mmodel_path, \u001b[38;5;124m'\u001b[39m\u001b[38;5;124mbest_binary.keras\u001b[39m\u001b[38;5;124m'\u001b[39m))\n",
      "File \u001b[0;32m~/.cache/pypoetry/virtualenvs/hierarchical_multi-label_classification-GvVd3mwS-py3.11/lib/python3.11/site-packages/keras/src/utils/traceback_utils.py:122\u001b[0m, in \u001b[0;36mfilter_traceback.<locals>.error_handler\u001b[0;34m(*args, **kwargs)\u001b[0m\n\u001b[1;32m    119\u001b[0m     filtered_tb \u001b[38;5;241m=\u001b[39m _process_traceback_frames(e\u001b[38;5;241m.\u001b[39m__traceback__)\n\u001b[1;32m    120\u001b[0m     \u001b[38;5;66;03m# To get the full stack trace, call:\u001b[39;00m\n\u001b[1;32m    121\u001b[0m     \u001b[38;5;66;03m# `keras.config.disable_traceback_filtering()`\u001b[39;00m\n\u001b[0;32m--> 122\u001b[0m     \u001b[38;5;28;01mraise\u001b[39;00m e\u001b[38;5;241m.\u001b[39mwith_traceback(filtered_tb) \u001b[38;5;28;01mfrom\u001b[39;00m \u001b[38;5;28;01mNone\u001b[39;00m\n\u001b[1;32m    123\u001b[0m \u001b[38;5;28;01mfinally\u001b[39;00m:\n\u001b[1;32m    124\u001b[0m     \u001b[38;5;28;01mdel\u001b[39;00m filtered_tb\n",
      "File \u001b[0;32m~/.cache/pypoetry/virtualenvs/hierarchical_multi-label_classification-GvVd3mwS-py3.11/lib/python3.11/site-packages/tensorflow/python/framework/ops.py:5983\u001b[0m, in \u001b[0;36mraise_from_not_ok_status\u001b[0;34m(e, name)\u001b[0m\n\u001b[1;32m   5981\u001b[0m \u001b[38;5;28;01mdef\u001b[39;00m \u001b[38;5;21mraise_from_not_ok_status\u001b[39m(e, name) \u001b[38;5;241m-\u001b[39m\u001b[38;5;241m>\u001b[39m NoReturn:\n\u001b[1;32m   5982\u001b[0m   e\u001b[38;5;241m.\u001b[39mmessage \u001b[38;5;241m+\u001b[39m\u001b[38;5;241m=\u001b[39m (\u001b[38;5;124m\"\u001b[39m\u001b[38;5;124m name: \u001b[39m\u001b[38;5;124m\"\u001b[39m \u001b[38;5;241m+\u001b[39m \u001b[38;5;28mstr\u001b[39m(name \u001b[38;5;28;01mif\u001b[39;00m name \u001b[38;5;129;01mis\u001b[39;00m \u001b[38;5;129;01mnot\u001b[39;00m \u001b[38;5;28;01mNone\u001b[39;00m \u001b[38;5;28;01melse\u001b[39;00m \u001b[38;5;124m\"\u001b[39m\u001b[38;5;124m\"\u001b[39m))\n\u001b[0;32m-> 5983\u001b[0m   \u001b[38;5;28;01mraise\u001b[39;00m core\u001b[38;5;241m.\u001b[39m_status_to_exception(e) \u001b[38;5;28;01mfrom\u001b[39;00m \u001b[38;5;28;01mNone\u001b[39;00m\n",
      "\u001b[0;31mInvalidArgumentError\u001b[0m: {{function_node __wrapped__IteratorGetNext_output_types_5_device_/job:localhost/replica:0/task:0/device:CPU:0}} indices[0] = [2] does not index into shape [2]\n\t [[{{node TensorScatterUpdate_3}}]] [Op:IteratorGetNext] name: "
     ]
    }
   ],
   "source": [
    "\n",
    "time_start = dt.utcnow()\n",
    "print(\"[{}] Experiment started at {}\".format(id, time_start.strftime(\"%H:%M:%S\")))\n",
    "print(\".......................................\")\n",
    "print(args)\n",
    "run(args)\n",
    "time_end = dt.utcnow()\n",
    "time_elapsed = time_end - time_start\n",
    "print(\".......................................\")\n",
    "print(\"[{}] Experiment finished at {} / elapsed time {}s\".format(id, time_end.strftime(\"%H:%M:%S\"), time_elapsed.total_seconds()))"
   ]
  },
  {
   "cell_type": "code",
   "execution_count": null,
   "id": "d4e01f8f",
   "metadata": {},
   "outputs": [],
   "source": []
  },
  {
   "cell_type": "code",
   "execution_count": null,
   "id": "15462360-f945-49da-9604-b99b95c1ed8c",
   "metadata": {},
   "outputs": [],
   "source": []
  },
  {
   "cell_type": "code",
   "execution_count": null,
   "id": "6467e8f4-25bc-4336-919f-b814164b79f9",
   "metadata": {},
   "outputs": [],
   "source": []
  }
 ],
 "metadata": {
  "kernelspec": {
   "display_name": "Python 3 (ipykernel)",
   "language": "python",
   "name": "python3"
  },
  "language_info": {
   "codemirror_mode": {
    "name": "ipython",
    "version": 3
   },
   "file_extension": ".py",
   "mimetype": "text/x-python",
   "name": "python",
   "nbconvert_exporter": "python",
   "pygments_lexer": "ipython3",
   "version": "3.11.0"
  }
 },
 "nbformat": 4,
 "nbformat_minor": 5
}
