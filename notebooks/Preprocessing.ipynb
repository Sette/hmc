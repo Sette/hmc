{
 "cells": [
  {
   "cell_type": "code",
   "execution_count": 1,
   "id": "4843caad-aa4a-420d-81f8-dcc1189318c6",
   "metadata": {
    "tags": []
   },
   "outputs": [
    {
     "name": "stderr",
     "output_type": "stream",
     "text": [
      "2023-10-09 17:31:20.447955: I tensorflow/core/platform/cpu_feature_guard.cc:182] This TensorFlow binary is optimized to use available CPU instructions in performance-critical operations.\n",
      "To enable the following instructions: AVX2 AVX512F FMA, in other operations, rebuild TensorFlow with the appropriate compiler flags.\n",
      "2023-10-09 17:31:21.102865: W tensorflow/compiler/tf2tensorrt/utils/py_utils.cc:38] TF-TRT Warning: Could not find TensorRT\n"
     ]
    }
   ],
   "source": [
    "import pandas as pd\n",
    "import numpy as np\n",
    "import tensorflow as tf\n",
    "import json\n",
    "import ast\n",
    "import os\n",
    "import csv\n",
    "import math\n",
    "from sklearn.utils import shuffle\n",
    "from math import ceil\n",
    "from sklearn.model_selection import train_test_split\n",
    "from tqdm.notebook import tqdm"
   ]
  },
  {
   "cell_type": "code",
   "execution_count": 2,
   "id": "47f36844-bc15-46f4-8994-6744042b62cd",
   "metadata": {},
   "outputs": [],
   "source": [
    "tqdm.pandas()"
   ]
  },
  {
   "cell_type": "code",
   "execution_count": 3,
   "id": "194b058a-a5c5-4d87-817d-aeb9e833cc2b",
   "metadata": {},
   "outputs": [],
   "source": [
    "\n",
    "args = pd.Series({\n",
    "    \"root_dir\":\"/mnt/disks/data/\",\n",
    "    \"dataset_path\":\"/mnt/disks/data/fma/fma_large\",\n",
    "    \"embeddings\":\"music_style\",\n",
    "    \"sequence_size\": 1280,\n",
    "    \"train_id\": \"hierarchical_all\",\n",
    "    'sample_size': 1\n",
    "})\n"
   ]
  },
  {
   "cell_type": "code",
   "execution_count": 4,
   "id": "87f3fe25-bd80-4976-ba77-ab30589a9cd6",
   "metadata": {},
   "outputs": [],
   "source": [
    "\n",
    "base_path = \"/mnt/disks/data/fma/trains\"\n",
    "\n",
    "\n",
    "job_path = os.path.join(base_path,args.train_id)\n",
    "\n",
    "\n",
    "tfrecord_path = os.path.join(job_path,\"tfrecords\")\n",
    "\n",
    "# In[16]:\n",
    "\n",
    "base_path = os.path.join(args.root_dir,\"fma\")\n",
    "\n",
    "# In[17]:\n",
    "\n",
    "models_path = os.path.join(args.root_dir,\"models\")\n",
    "\n",
    "\n",
    "metadata_path_fma = os.path.join(base_path,\"fma_metadata\")\n",
    "\n",
    "# In[18]:\n",
    "\n",
    "metadata_path = os.path.join(job_path,\"metadata.json\")\n",
    "\n",
    "\n",
    "categories_labels_path = os.path.join(job_path,\"labels.json\")\n"
   ]
  },
  {
   "cell_type": "code",
   "execution_count": 5,
   "id": "ffea2009-fdc3-425e-bd6b-a67696ab24da",
   "metadata": {},
   "outputs": [],
   "source": [
    "\n",
    "\n",
    "def __load_json__(path):\n",
    "    with open(path, 'r') as f:\n",
    "        tmp = json.loads(f.read())\n",
    "\n",
    "    return tmp\n",
    "\n",
    "\n"
   ]
  },
  {
   "cell_type": "code",
   "execution_count": 6,
   "id": "b413d7a2",
   "metadata": {},
   "outputs": [],
   "source": [
    "\n",
    "def create_dir(path):\n",
    "    # checking if the directory demo_folder2 \n",
    "    # exist or not.\n",
    "    if not os.path.isdir(path):\n",
    "\n",
    "        # if the demo_folder2 directory is \n",
    "        # not present then create it.\n",
    "        os.makedirs(path)\n",
    "    return True\n",
    "\n"
   ]
  },
  {
   "cell_type": "code",
   "execution_count": 7,
   "id": "dccd7294-d081-4124-993b-26f5b3a8ee56",
   "metadata": {},
   "outputs": [],
   "source": [
    "import shutil\n",
    "shutil.rmtree(job_path)"
   ]
  },
  {
   "cell_type": "code",
   "execution_count": 8,
   "id": "be2f0fcc",
   "metadata": {},
   "outputs": [
    {
     "data": {
      "text/plain": [
       "True"
      ]
     },
     "execution_count": 8,
     "metadata": {},
     "output_type": "execute_result"
    }
   ],
   "source": [
    "create_dir(job_path)"
   ]
  },
  {
   "cell_type": "markdown",
   "id": "6ab3d0b4-fc7f-4c73-b0cc-9d89729bae84",
   "metadata": {
    "tags": []
   },
   "source": [
    "## Load genres file. Contains relationships beetwen genres"
   ]
  },
  {
   "cell_type": "code",
   "execution_count": 9,
   "id": "7596e665-526e-400b-93ad-432cb7eb0d79",
   "metadata": {},
   "outputs": [],
   "source": [
    "genres_df = pd.read_csv(os.path.join(metadata_path_fma,'genres.csv'))\n"
   ]
  },
  {
   "cell_type": "code",
   "execution_count": 10,
   "id": "582b4335-bf69-4c9a-873e-ffd8253ede25",
   "metadata": {},
   "outputs": [
    {
     "data": {
      "text/html": [
       "<div>\n",
       "<style scoped>\n",
       "    .dataframe tbody tr th:only-of-type {\n",
       "        vertical-align: middle;\n",
       "    }\n",
       "\n",
       "    .dataframe tbody tr th {\n",
       "        vertical-align: top;\n",
       "    }\n",
       "\n",
       "    .dataframe thead th {\n",
       "        text-align: right;\n",
       "    }\n",
       "</style>\n",
       "<table border=\"1\" class=\"dataframe\">\n",
       "  <thead>\n",
       "    <tr style=\"text-align: right;\">\n",
       "      <th></th>\n",
       "      <th>genre_id</th>\n",
       "      <th>#tracks</th>\n",
       "      <th>parent</th>\n",
       "      <th>title</th>\n",
       "      <th>top_level</th>\n",
       "    </tr>\n",
       "  </thead>\n",
       "  <tbody>\n",
       "    <tr>\n",
       "      <th>0</th>\n",
       "      <td>1</td>\n",
       "      <td>8693</td>\n",
       "      <td>38</td>\n",
       "      <td>Avant-Garde</td>\n",
       "      <td>38</td>\n",
       "    </tr>\n",
       "    <tr>\n",
       "      <th>1</th>\n",
       "      <td>2</td>\n",
       "      <td>5271</td>\n",
       "      <td>0</td>\n",
       "      <td>International</td>\n",
       "      <td>2</td>\n",
       "    </tr>\n",
       "    <tr>\n",
       "      <th>2</th>\n",
       "      <td>3</td>\n",
       "      <td>1752</td>\n",
       "      <td>0</td>\n",
       "      <td>Blues</td>\n",
       "      <td>3</td>\n",
       "    </tr>\n",
       "    <tr>\n",
       "      <th>3</th>\n",
       "      <td>4</td>\n",
       "      <td>4126</td>\n",
       "      <td>0</td>\n",
       "      <td>Jazz</td>\n",
       "      <td>4</td>\n",
       "    </tr>\n",
       "    <tr>\n",
       "      <th>4</th>\n",
       "      <td>5</td>\n",
       "      <td>4106</td>\n",
       "      <td>0</td>\n",
       "      <td>Classical</td>\n",
       "      <td>5</td>\n",
       "    </tr>\n",
       "    <tr>\n",
       "      <th>...</th>\n",
       "      <td>...</td>\n",
       "      <td>...</td>\n",
       "      <td>...</td>\n",
       "      <td>...</td>\n",
       "      <td>...</td>\n",
       "    </tr>\n",
       "    <tr>\n",
       "      <th>158</th>\n",
       "      <td>1032</td>\n",
       "      <td>60</td>\n",
       "      <td>102</td>\n",
       "      <td>Turkish</td>\n",
       "      <td>2</td>\n",
       "    </tr>\n",
       "    <tr>\n",
       "      <th>159</th>\n",
       "      <td>1060</td>\n",
       "      <td>30</td>\n",
       "      <td>46</td>\n",
       "      <td>Tango</td>\n",
       "      <td>2</td>\n",
       "    </tr>\n",
       "    <tr>\n",
       "      <th>160</th>\n",
       "      <td>1156</td>\n",
       "      <td>26</td>\n",
       "      <td>130</td>\n",
       "      <td>Fado</td>\n",
       "      <td>2</td>\n",
       "    </tr>\n",
       "    <tr>\n",
       "      <th>161</th>\n",
       "      <td>1193</td>\n",
       "      <td>72</td>\n",
       "      <td>763</td>\n",
       "      <td>Christmas</td>\n",
       "      <td>38</td>\n",
       "    </tr>\n",
       "    <tr>\n",
       "      <th>162</th>\n",
       "      <td>1235</td>\n",
       "      <td>14938</td>\n",
       "      <td>0</td>\n",
       "      <td>Instrumental</td>\n",
       "      <td>1235</td>\n",
       "    </tr>\n",
       "  </tbody>\n",
       "</table>\n",
       "<p>163 rows × 5 columns</p>\n",
       "</div>"
      ],
      "text/plain": [
       "     genre_id  #tracks  parent          title  top_level\n",
       "0           1     8693      38    Avant-Garde         38\n",
       "1           2     5271       0  International          2\n",
       "2           3     1752       0          Blues          3\n",
       "3           4     4126       0           Jazz          4\n",
       "4           5     4106       0      Classical          5\n",
       "..        ...      ...     ...            ...        ...\n",
       "158      1032       60     102        Turkish          2\n",
       "159      1060       30      46          Tango          2\n",
       "160      1156       26     130           Fado          2\n",
       "161      1193       72     763      Christmas         38\n",
       "162      1235    14938       0   Instrumental       1235\n",
       "\n",
       "[163 rows x 5 columns]"
      ]
     },
     "execution_count": 10,
     "metadata": {},
     "output_type": "execute_result"
    }
   ],
   "source": [
    "genres_df"
   ]
  },
  {
   "cell_type": "code",
   "execution_count": 11,
   "id": "d80be793-93db-4610-ae66-5f14bf99bd2b",
   "metadata": {},
   "outputs": [
    {
     "data": {
      "text/html": [
       "<div>\n",
       "<style scoped>\n",
       "    .dataframe tbody tr th:only-of-type {\n",
       "        vertical-align: middle;\n",
       "    }\n",
       "\n",
       "    .dataframe tbody tr th {\n",
       "        vertical-align: top;\n",
       "    }\n",
       "\n",
       "    .dataframe thead th {\n",
       "        text-align: right;\n",
       "    }\n",
       "</style>\n",
       "<table border=\"1\" class=\"dataframe\">\n",
       "  <thead>\n",
       "    <tr style=\"text-align: right;\">\n",
       "      <th></th>\n",
       "      <th>genre_id</th>\n",
       "      <th>#tracks</th>\n",
       "      <th>parent</th>\n",
       "      <th>title</th>\n",
       "      <th>top_level</th>\n",
       "    </tr>\n",
       "  </thead>\n",
       "  <tbody>\n",
       "    <tr>\n",
       "      <th>136</th>\n",
       "      <td>495</td>\n",
       "      <td>2061</td>\n",
       "      <td>15</td>\n",
       "      <td>Downtempo</td>\n",
       "      <td>15</td>\n",
       "    </tr>\n",
       "  </tbody>\n",
       "</table>\n",
       "</div>"
      ],
      "text/plain": [
       "     genre_id  #tracks  parent      title  top_level\n",
       "136       495     2061      15  Downtempo         15"
      ]
     },
     "execution_count": 11,
     "metadata": {},
     "output_type": "execute_result"
    }
   ],
   "source": [
    "genres_df[genres_df['genre_id'] == 495]"
   ]
  },
  {
   "cell_type": "code",
   "execution_count": 12,
   "id": "28762aaf-32a4-41a5-af9c-cee3eca712ad",
   "metadata": {},
   "outputs": [],
   "source": [
    "# Cria um dicionário que associa o ID de cada música aos IDs de seus gêneros musicais\n",
    "tracks_df = pd.read_csv(os.path.join(metadata_path_fma,'tracks_valid.csv'))"
   ]
  },
  {
   "cell_type": "code",
   "execution_count": 13,
   "id": "13ea402f-660b-4b95-8f91-563c01971578",
   "metadata": {},
   "outputs": [],
   "source": [
    "tracks_df = tracks_df.sample(frac=args.sample_size)"
   ]
  },
  {
   "cell_type": "code",
   "execution_count": 14,
   "id": "552289c1-6b0d-48a9-8cd9-a185c12f6c9a",
   "metadata": {},
   "outputs": [
    {
     "data": {
      "text/html": [
       "<div>\n",
       "<style scoped>\n",
       "    .dataframe tbody tr th:only-of-type {\n",
       "        vertical-align: middle;\n",
       "    }\n",
       "\n",
       "    .dataframe tbody tr th {\n",
       "        vertical-align: top;\n",
       "    }\n",
       "\n",
       "    .dataframe thead th {\n",
       "        text-align: right;\n",
       "    }\n",
       "</style>\n",
       "<table border=\"1\" class=\"dataframe\">\n",
       "  <thead>\n",
       "    <tr style=\"text-align: right;\">\n",
       "      <th></th>\n",
       "      <th>track_id</th>\n",
       "      <th>track_title</th>\n",
       "      <th>valid_genre</th>\n",
       "    </tr>\n",
       "  </thead>\n",
       "  <tbody>\n",
       "    <tr>\n",
       "      <th>77088</th>\n",
       "      <td>118368</td>\n",
       "      <td>All I Have</td>\n",
       "      <td>['15', '38', '811']</td>\n",
       "    </tr>\n",
       "    <tr>\n",
       "      <th>62086</th>\n",
       "      <td>95276</td>\n",
       "      <td>103+108B(2)+223(4)+69D+173(19)</td>\n",
       "      <td>['1', '38', '97']</td>\n",
       "    </tr>\n",
       "    <tr>\n",
       "      <th>42870</th>\n",
       "      <td>64831</td>\n",
       "      <td>Green Stars And An Orange Sky</td>\n",
       "      <td>['58']</td>\n",
       "    </tr>\n",
       "    <tr>\n",
       "      <th>49627</th>\n",
       "      <td>74255</td>\n",
       "      <td>So Long To Folk Dance Again</td>\n",
       "      <td>['12', '42', '66']</td>\n",
       "    </tr>\n",
       "    <tr>\n",
       "      <th>40350</th>\n",
       "      <td>61445</td>\n",
       "      <td>EZ Money + Comancho</td>\n",
       "      <td>['185']</td>\n",
       "    </tr>\n",
       "    <tr>\n",
       "      <th>67082</th>\n",
       "      <td>105161</td>\n",
       "      <td>Trollsyn</td>\n",
       "      <td>['38', '47', '107']</td>\n",
       "    </tr>\n",
       "    <tr>\n",
       "      <th>79095</th>\n",
       "      <td>120755</td>\n",
       "      <td>Feather</td>\n",
       "      <td>['15', '18', '1235']</td>\n",
       "    </tr>\n",
       "    <tr>\n",
       "      <th>77593</th>\n",
       "      <td>118980</td>\n",
       "      <td>Constellation Blackbird</td>\n",
       "      <td>['15', '38', '107']</td>\n",
       "    </tr>\n",
       "    <tr>\n",
       "      <th>24219</th>\n",
       "      <td>38385</td>\n",
       "      <td>Breatin</td>\n",
       "      <td>['98', '240', '297']</td>\n",
       "    </tr>\n",
       "    <tr>\n",
       "      <th>82479</th>\n",
       "      <td>125316</td>\n",
       "      <td>Take A Little Time</td>\n",
       "      <td>['12', '362']</td>\n",
       "    </tr>\n",
       "    <tr>\n",
       "      <th>23313</th>\n",
       "      <td>36828</td>\n",
       "      <td>Between The Eyes</td>\n",
       "      <td>['27', '66', '359']</td>\n",
       "    </tr>\n",
       "    <tr>\n",
       "      <th>40668</th>\n",
       "      <td>61884</td>\n",
       "      <td>Old Western Firefight</td>\n",
       "      <td>['21']</td>\n",
       "    </tr>\n",
       "    <tr>\n",
       "      <th>89164</th>\n",
       "      <td>134053</td>\n",
       "      <td>Mares I AM (Maresia Dance mix)</td>\n",
       "      <td>['15', '182', '296']</td>\n",
       "    </tr>\n",
       "    <tr>\n",
       "      <th>17887</th>\n",
       "      <td>29280</td>\n",
       "      <td>vous étes viré</td>\n",
       "      <td>['27', '53', '85']</td>\n",
       "    </tr>\n",
       "    <tr>\n",
       "      <th>19609</th>\n",
       "      <td>31764</td>\n",
       "      <td>04-piosenka</td>\n",
       "      <td>['38']</td>\n",
       "    </tr>\n",
       "    <tr>\n",
       "      <th>74295</th>\n",
       "      <td>114564</td>\n",
       "      <td>Goldenrod Blinds</td>\n",
       "      <td>['38', '107', '514']</td>\n",
       "    </tr>\n",
       "    <tr>\n",
       "      <th>54363</th>\n",
       "      <td>82446</td>\n",
       "      <td>Connected</td>\n",
       "      <td>['15', '183', '236']</td>\n",
       "    </tr>\n",
       "    <tr>\n",
       "      <th>27374</th>\n",
       "      <td>42417</td>\n",
       "      <td>Untitled</td>\n",
       "      <td>['1', '38', '250']</td>\n",
       "    </tr>\n",
       "    <tr>\n",
       "      <th>56448</th>\n",
       "      <td>85205</td>\n",
       "      <td>Elephant_04</td>\n",
       "      <td>['38', '42', '47']</td>\n",
       "    </tr>\n",
       "    <tr>\n",
       "      <th>92784</th>\n",
       "      <td>138898</td>\n",
       "      <td>Murderous Trashcan - Part III</td>\n",
       "      <td>['15', '18', '38', '42']</td>\n",
       "    </tr>\n",
       "  </tbody>\n",
       "</table>\n",
       "</div>"
      ],
      "text/plain": [
       "       track_id                     track_title               valid_genre\n",
       "77088    118368                      All I Have       ['15', '38', '811']\n",
       "62086     95276  103+108B(2)+223(4)+69D+173(19)         ['1', '38', '97']\n",
       "42870     64831   Green Stars And An Orange Sky                    ['58']\n",
       "49627     74255     So Long To Folk Dance Again        ['12', '42', '66']\n",
       "40350     61445             EZ Money + Comancho                   ['185']\n",
       "67082    105161                        Trollsyn       ['38', '47', '107']\n",
       "79095    120755                         Feather      ['15', '18', '1235']\n",
       "77593    118980         Constellation Blackbird       ['15', '38', '107']\n",
       "24219     38385                         Breatin      ['98', '240', '297']\n",
       "82479    125316              Take A Little Time             ['12', '362']\n",
       "23313     36828                Between The Eyes       ['27', '66', '359']\n",
       "40668     61884           Old Western Firefight                    ['21']\n",
       "89164    134053  Mares I AM (Maresia Dance mix)      ['15', '182', '296']\n",
       "17887     29280                  vous étes viré        ['27', '53', '85']\n",
       "19609     31764                     04-piosenka                    ['38']\n",
       "74295    114564                Goldenrod Blinds      ['38', '107', '514']\n",
       "54363     82446                       Connected      ['15', '183', '236']\n",
       "27374     42417                        Untitled        ['1', '38', '250']\n",
       "56448     85205                     Elephant_04        ['38', '42', '47']\n",
       "92784    138898   Murderous Trashcan - Part III  ['15', '18', '38', '42']"
      ]
     },
     "execution_count": 14,
     "metadata": {},
     "output_type": "execute_result"
    }
   ],
   "source": [
    "tracks_df.sample(20)"
   ]
  },
  {
   "cell_type": "code",
   "execution_count": 15,
   "id": "fa6c0adc-32c6-4a14-a9aa-f0af12eacbf1",
   "metadata": {},
   "outputs": [
    {
     "data": {
      "text/plain": [
       "array([\"['70']\", \"['17', '30', '86']\", \"['15', '32', '38']\", ..., \"['8']\",\n",
       "       \"['15', '38', '42', '107', '184']\", \"['15', '32', '38', '41']\"],\n",
       "      dtype=object)"
      ]
     },
     "execution_count": 15,
     "metadata": {},
     "output_type": "execute_result"
    }
   ],
   "source": [
    "tracks_df.valid_genre.values"
   ]
  },
  {
   "cell_type": "code",
   "execution_count": 16,
   "id": "31ad48bd-2868-46ed-81e6-02b6b26e2b1c",
   "metadata": {},
   "outputs": [
    {
     "data": {
      "text/plain": [
       "88008                                           Into Limbo\n",
       "26522    Exotic Waterfall & Bird Magic, About 35 Km Fro...\n",
       "32868                          la muerte tiembla la tierra\n",
       "54872                                           Barceloner\n",
       "36327                                        Nitrous Oxide\n",
       "                               ...                        \n",
       "51691                                               Nimbus\n",
       "21638                  Microfiche (with Miriam Hanks-Todd)\n",
       "9736                                 Paddle Your Own Canoe\n",
       "28459                                                 Onyx\n",
       "98412                                  Upheaval Version 59\n",
       "Name: track_title, Length: 104186, dtype: object"
      ]
     },
     "execution_count": 16,
     "metadata": {},
     "output_type": "execute_result"
    }
   ],
   "source": [
    "tracks_df.track_title"
   ]
  },
  {
   "cell_type": "code",
   "execution_count": 17,
   "id": "220d2eb1-95ba-41d8-9499-bd6278ef473a",
   "metadata": {},
   "outputs": [],
   "source": [
    "## Get complete genre structure\n",
    "def get_all_structure(estrutura,df_genres):\n",
    "    ## Get structure from df_genres\n",
    "    def get_all_structure_from_df(estrutura,df_genres,structure=[]):\n",
    "        if estrutura == 0:\n",
    "            return structure\n",
    "        else:\n",
    "            structure.append(int(estrutura))\n",
    "            get_all_structure_from_df(df_genres[df_genres[\"genre_id\"]==int(estrutura)].parent.values[0],df_genres,structure)\n",
    "            return structure\n",
    "    \n",
    "    return get_all_structure_from_df(estrutura,df_genres,structure=[])\n",
    "    "
   ]
  },
  {
   "cell_type": "code",
   "execution_count": 18,
   "id": "2e89c7be-57eb-46bf-8506-b966ab685b50",
   "metadata": {},
   "outputs": [],
   "source": [
    "# tracks_df['valid_genre'] = tracks_df.track_genres.apply(lambda x: x.strip('][').split(', ') if x != '[]' else None)\n",
    "tracks_df['valid_genre'] = tracks_df.valid_genre.apply(lambda x: ast.literal_eval(x))"
   ]
  },
  {
   "cell_type": "code",
   "execution_count": 19,
   "id": "b50f6d87-8a38-4b6a-92b7-c10a559de965",
   "metadata": {},
   "outputs": [],
   "source": [
    "tracks_df['last_genre_id'] = tracks_df.valid_genre.apply(lambda x:x[-1] if x != None else None)"
   ]
  },
  {
   "cell_type": "code",
   "execution_count": 20,
   "id": "5c1ccfaf-ad6a-4f6c-87d6-b6e8a74a8d0c",
   "metadata": {},
   "outputs": [
    {
     "data": {
      "text/html": [
       "<div>\n",
       "<style scoped>\n",
       "    .dataframe tbody tr th:only-of-type {\n",
       "        vertical-align: middle;\n",
       "    }\n",
       "\n",
       "    .dataframe tbody tr th {\n",
       "        vertical-align: top;\n",
       "    }\n",
       "\n",
       "    .dataframe thead th {\n",
       "        text-align: right;\n",
       "    }\n",
       "</style>\n",
       "<table border=\"1\" class=\"dataframe\">\n",
       "  <thead>\n",
       "    <tr style=\"text-align: right;\">\n",
       "      <th></th>\n",
       "      <th>track_id</th>\n",
       "      <th>track_title</th>\n",
       "      <th>valid_genre</th>\n",
       "      <th>last_genre_id</th>\n",
       "    </tr>\n",
       "  </thead>\n",
       "  <tbody>\n",
       "    <tr>\n",
       "      <th>94109</th>\n",
       "      <td>140672</td>\n",
       "      <td>Exile</td>\n",
       "      <td>[21, 38, 70]</td>\n",
       "      <td>70</td>\n",
       "    </tr>\n",
       "    <tr>\n",
       "      <th>2345</th>\n",
       "      <td>4089</td>\n",
       "      <td>End of Cloud</td>\n",
       "      <td>[58]</td>\n",
       "      <td>58</td>\n",
       "    </tr>\n",
       "    <tr>\n",
       "      <th>17209</th>\n",
       "      <td>28306</td>\n",
       "      <td>I Wanna Miss You</td>\n",
       "      <td>[10, 66, 111]</td>\n",
       "      <td>111</td>\n",
       "    </tr>\n",
       "    <tr>\n",
       "      <th>76244</th>\n",
       "      <td>117222</td>\n",
       "      <td>Fraulein</td>\n",
       "      <td>[9, 12, 85]</td>\n",
       "      <td>85</td>\n",
       "    </tr>\n",
       "    <tr>\n",
       "      <th>47076</th>\n",
       "      <td>70676</td>\n",
       "      <td>The Guitarist</td>\n",
       "      <td>[10, 17, 66]</td>\n",
       "      <td>66</td>\n",
       "    </tr>\n",
       "    <tr>\n",
       "      <th>72924</th>\n",
       "      <td>112823</td>\n",
       "      <td>... и....? by Kosta T</td>\n",
       "      <td>[38, 125, 514]</td>\n",
       "      <td>514</td>\n",
       "    </tr>\n",
       "    <tr>\n",
       "      <th>81698</th>\n",
       "      <td>124299</td>\n",
       "      <td>In[ner]cantations</td>\n",
       "      <td>[1, 30, 38, 41, 247]</td>\n",
       "      <td>247</td>\n",
       "    </tr>\n",
       "    <tr>\n",
       "      <th>95566</th>\n",
       "      <td>142967</td>\n",
       "      <td>Red Eyed Troll</td>\n",
       "      <td>[12, 25, 85]</td>\n",
       "      <td>85</td>\n",
       "    </tr>\n",
       "    <tr>\n",
       "      <th>100182</th>\n",
       "      <td>148960</td>\n",
       "      <td>Change</td>\n",
       "      <td>[15]</td>\n",
       "      <td>15</td>\n",
       "    </tr>\n",
       "    <tr>\n",
       "      <th>73763</th>\n",
       "      <td>113897</td>\n",
       "      <td>130 old drum break</td>\n",
       "      <td>[15, 811]</td>\n",
       "      <td>811</td>\n",
       "    </tr>\n",
       "    <tr>\n",
       "      <th>70305</th>\n",
       "      <td>109375</td>\n",
       "      <td>Primitivo branquiado comedor de hierba de los ...</td>\n",
       "      <td>[43]</td>\n",
       "      <td>43</td>\n",
       "    </tr>\n",
       "    <tr>\n",
       "      <th>78111</th>\n",
       "      <td>119596</td>\n",
       "      <td>This Is Not A Real Horse (Instrumental)</td>\n",
       "      <td>[12, 17, 27]</td>\n",
       "      <td>27</td>\n",
       "    </tr>\n",
       "    <tr>\n",
       "      <th>23960</th>\n",
       "      <td>37900</td>\n",
       "      <td>Simple Hop</td>\n",
       "      <td>[15, 21, 296]</td>\n",
       "      <td>296</td>\n",
       "    </tr>\n",
       "    <tr>\n",
       "      <th>28443</th>\n",
       "      <td>43864</td>\n",
       "      <td>sixteen</td>\n",
       "      <td>[21, 811]</td>\n",
       "      <td>811</td>\n",
       "    </tr>\n",
       "    <tr>\n",
       "      <th>69195</th>\n",
       "      <td>107934</td>\n",
       "      <td>Donde Estan las Manos</td>\n",
       "      <td>[21, 46, 76]</td>\n",
       "      <td>76</td>\n",
       "    </tr>\n",
       "    <tr>\n",
       "      <th>89556</th>\n",
       "      <td>134568</td>\n",
       "      <td>Money Gods</td>\n",
       "      <td>[12, 66, 103]</td>\n",
       "      <td>103</td>\n",
       "    </tr>\n",
       "    <tr>\n",
       "      <th>75095</th>\n",
       "      <td>115676</td>\n",
       "      <td>F-HAristo</td>\n",
       "      <td>[17, 267]</td>\n",
       "      <td>267</td>\n",
       "    </tr>\n",
       "    <tr>\n",
       "      <th>10674</th>\n",
       "      <td>17789</td>\n",
       "      <td>Rachmaninoff: Suite No. 2 for two pianos, Op. 17</td>\n",
       "      <td>[5]</td>\n",
       "      <td>5</td>\n",
       "    </tr>\n",
       "    <tr>\n",
       "      <th>98600</th>\n",
       "      <td>147002</td>\n",
       "      <td>Path of no return</td>\n",
       "      <td>[3, 4, 17, 400]</td>\n",
       "      <td>400</td>\n",
       "    </tr>\n",
       "    <tr>\n",
       "      <th>78734</th>\n",
       "      <td>120311</td>\n",
       "      <td>House Arrest Loud Part</td>\n",
       "      <td>[1235]</td>\n",
       "      <td>1235</td>\n",
       "    </tr>\n",
       "  </tbody>\n",
       "</table>\n",
       "</div>"
      ],
      "text/plain": [
       "        track_id                                        track_title  \\\n",
       "94109     140672                                              Exile   \n",
       "2345        4089                                       End of Cloud   \n",
       "17209      28306                                   I Wanna Miss You   \n",
       "76244     117222                                           Fraulein   \n",
       "47076      70676                                      The Guitarist   \n",
       "72924     112823                              ... и....? by Kosta T   \n",
       "81698     124299                                  In[ner]cantations   \n",
       "95566     142967                                     Red Eyed Troll   \n",
       "100182    148960                                             Change   \n",
       "73763     113897                                 130 old drum break   \n",
       "70305     109375  Primitivo branquiado comedor de hierba de los ...   \n",
       "78111     119596            This Is Not A Real Horse (Instrumental)   \n",
       "23960      37900                                         Simple Hop   \n",
       "28443      43864                                            sixteen   \n",
       "69195     107934                              Donde Estan las Manos   \n",
       "89556     134568                                         Money Gods   \n",
       "75095     115676                                          F-HAristo   \n",
       "10674      17789   Rachmaninoff: Suite No. 2 for two pianos, Op. 17   \n",
       "98600     147002                                  Path of no return   \n",
       "78734     120311                             House Arrest Loud Part   \n",
       "\n",
       "                 valid_genre last_genre_id  \n",
       "94109           [21, 38, 70]            70  \n",
       "2345                    [58]            58  \n",
       "17209          [10, 66, 111]           111  \n",
       "76244            [9, 12, 85]            85  \n",
       "47076           [10, 17, 66]            66  \n",
       "72924         [38, 125, 514]           514  \n",
       "81698   [1, 30, 38, 41, 247]           247  \n",
       "95566           [12, 25, 85]            85  \n",
       "100182                  [15]            15  \n",
       "73763              [15, 811]           811  \n",
       "70305                   [43]            43  \n",
       "78111           [12, 17, 27]            27  \n",
       "23960          [15, 21, 296]           296  \n",
       "28443              [21, 811]           811  \n",
       "69195           [21, 46, 76]            76  \n",
       "89556          [12, 66, 103]           103  \n",
       "75095              [17, 267]           267  \n",
       "10674                    [5]             5  \n",
       "98600        [3, 4, 17, 400]           400  \n",
       "78734                 [1235]          1235  "
      ]
     },
     "execution_count": 20,
     "metadata": {},
     "output_type": "execute_result"
    }
   ],
   "source": [
    "tracks_df.sample(20)"
   ]
  },
  {
   "cell_type": "code",
   "execution_count": 21,
   "id": "f5de1c7f-c2b6-487a-83bc-974ddb99008a",
   "metadata": {},
   "outputs": [],
   "source": [
    "tracks_df.dropna(inplace=True)"
   ]
  },
  {
   "cell_type": "code",
   "execution_count": 22,
   "id": "fcb10f3d-d6fa-4e7b-a4f0-d8536a1a2898",
   "metadata": {},
   "outputs": [
    {
     "data": {
      "text/html": [
       "<div>\n",
       "<style scoped>\n",
       "    .dataframe tbody tr th:only-of-type {\n",
       "        vertical-align: middle;\n",
       "    }\n",
       "\n",
       "    .dataframe tbody tr th {\n",
       "        vertical-align: top;\n",
       "    }\n",
       "\n",
       "    .dataframe thead th {\n",
       "        text-align: right;\n",
       "    }\n",
       "</style>\n",
       "<table border=\"1\" class=\"dataframe\">\n",
       "  <thead>\n",
       "    <tr style=\"text-align: right;\">\n",
       "      <th></th>\n",
       "      <th>track_id</th>\n",
       "      <th>track_title</th>\n",
       "      <th>valid_genre</th>\n",
       "      <th>last_genre_id</th>\n",
       "    </tr>\n",
       "  </thead>\n",
       "  <tbody>\n",
       "    <tr>\n",
       "      <th>88008</th>\n",
       "      <td>132701</td>\n",
       "      <td>Into Limbo</td>\n",
       "      <td>[70]</td>\n",
       "      <td>70</td>\n",
       "    </tr>\n",
       "    <tr>\n",
       "      <th>26522</th>\n",
       "      <td>41359</td>\n",
       "      <td>Exotic Waterfall &amp; Bird Magic, About 35 Km Fro...</td>\n",
       "      <td>[17, 30, 86]</td>\n",
       "      <td>86</td>\n",
       "    </tr>\n",
       "    <tr>\n",
       "      <th>32868</th>\n",
       "      <td>51082</td>\n",
       "      <td>la muerte tiembla la tierra</td>\n",
       "      <td>[15, 32, 38]</td>\n",
       "      <td>38</td>\n",
       "    </tr>\n",
       "    <tr>\n",
       "      <th>54872</th>\n",
       "      <td>83244</td>\n",
       "      <td>Barceloner</td>\n",
       "      <td>[12, 27, 76]</td>\n",
       "      <td>76</td>\n",
       "    </tr>\n",
       "    <tr>\n",
       "      <th>36327</th>\n",
       "      <td>56012</td>\n",
       "      <td>Nitrous Oxide</td>\n",
       "      <td>[32, 38, 250]</td>\n",
       "      <td>250</td>\n",
       "    </tr>\n",
       "    <tr>\n",
       "      <th>...</th>\n",
       "      <td>...</td>\n",
       "      <td>...</td>\n",
       "      <td>...</td>\n",
       "      <td>...</td>\n",
       "    </tr>\n",
       "    <tr>\n",
       "      <th>51691</th>\n",
       "      <td>77859</td>\n",
       "      <td>Nimbus</td>\n",
       "      <td>[15]</td>\n",
       "      <td>15</td>\n",
       "    </tr>\n",
       "    <tr>\n",
       "      <th>21638</th>\n",
       "      <td>34615</td>\n",
       "      <td>Microfiche (with Miriam Hanks-Todd)</td>\n",
       "      <td>[1, 27, 76]</td>\n",
       "      <td>76</td>\n",
       "    </tr>\n",
       "    <tr>\n",
       "      <th>9736</th>\n",
       "      <td>16381</td>\n",
       "      <td>Paddle Your Own Canoe</td>\n",
       "      <td>[8]</td>\n",
       "      <td>8</td>\n",
       "    </tr>\n",
       "    <tr>\n",
       "      <th>28459</th>\n",
       "      <td>43880</td>\n",
       "      <td>Onyx</td>\n",
       "      <td>[15, 38, 42, 107, 184]</td>\n",
       "      <td>184</td>\n",
       "    </tr>\n",
       "    <tr>\n",
       "      <th>98412</th>\n",
       "      <td>146783</td>\n",
       "      <td>Upheaval Version 59</td>\n",
       "      <td>[15, 32, 38, 41]</td>\n",
       "      <td>41</td>\n",
       "    </tr>\n",
       "  </tbody>\n",
       "</table>\n",
       "<p>104185 rows × 4 columns</p>\n",
       "</div>"
      ],
      "text/plain": [
       "       track_id                                        track_title  \\\n",
       "88008    132701                                         Into Limbo   \n",
       "26522     41359  Exotic Waterfall & Bird Magic, About 35 Km Fro...   \n",
       "32868     51082                        la muerte tiembla la tierra   \n",
       "54872     83244                                         Barceloner   \n",
       "36327     56012                                      Nitrous Oxide   \n",
       "...         ...                                                ...   \n",
       "51691     77859                                             Nimbus   \n",
       "21638     34615                Microfiche (with Miriam Hanks-Todd)   \n",
       "9736      16381                              Paddle Your Own Canoe   \n",
       "28459     43880                                               Onyx   \n",
       "98412    146783                                Upheaval Version 59   \n",
       "\n",
       "                  valid_genre last_genre_id  \n",
       "88008                    [70]            70  \n",
       "26522            [17, 30, 86]            86  \n",
       "32868            [15, 32, 38]            38  \n",
       "54872            [12, 27, 76]            76  \n",
       "36327           [32, 38, 250]           250  \n",
       "...                       ...           ...  \n",
       "51691                    [15]            15  \n",
       "21638             [1, 27, 76]            76  \n",
       "9736                      [8]             8  \n",
       "28459  [15, 38, 42, 107, 184]           184  \n",
       "98412        [15, 32, 38, 41]            41  \n",
       "\n",
       "[104185 rows x 4 columns]"
      ]
     },
     "execution_count": 22,
     "metadata": {},
     "output_type": "execute_result"
    }
   ],
   "source": [
    "tracks_df"
   ]
  },
  {
   "cell_type": "code",
   "execution_count": 23,
   "id": "8f713133-f471-4ca5-b7b1-ab06109bb31b",
   "metadata": {
    "tags": []
   },
   "outputs": [
    {
     "data": {
      "application/vnd.jupyter.widget-view+json": {
       "model_id": "045a308c5c8843a190fd4916a4e3d787",
       "version_major": 2,
       "version_minor": 0
      },
      "text/plain": [
       "  0%|          | 0/104185 [00:00<?, ?it/s]"
      ]
     },
     "metadata": {},
     "output_type": "display_data"
    }
   ],
   "source": [
    "tracks_df['full_genre_id'] = tracks_df.last_genre_id.progress_apply(lambda x: get_all_structure(x,genres_df)[::-1])"
   ]
  },
  {
   "cell_type": "code",
   "execution_count": 26,
   "id": "69d80106-b330-4749-8aee-d2fbc451ecfb",
   "metadata": {},
   "outputs": [
    {
     "data": {
      "text/plain": [
       "88008     [12, 70]\n",
       "26522      [2, 86]\n",
       "32868         [38]\n",
       "54872     [10, 76]\n",
       "36327    [38, 250]\n",
       "           ...    \n",
       "51691         [15]\n",
       "21638     [10, 76]\n",
       "9736           [8]\n",
       "28459    [15, 184]\n",
       "98412     [38, 41]\n",
       "Name: full_genre_id, Length: 104185, dtype: object"
      ]
     },
     "execution_count": 26,
     "metadata": {},
     "output_type": "execute_result"
    }
   ],
   "source": [
    "tracks_df.full_genre_id"
   ]
  },
  {
   "cell_type": "code",
   "execution_count": 27,
   "id": "8cf91d85-a298-4064-aecc-4370639ea929",
   "metadata": {},
   "outputs": [
    {
     "data": {
      "text/plain": [
       "Index(['track_id', 'track_title', 'valid_genre', 'last_genre_id',\n",
       "       'full_genre_id'],\n",
       "      dtype='object')"
      ]
     },
     "execution_count": 27,
     "metadata": {},
     "output_type": "execute_result"
    }
   ],
   "source": [
    "tracks_df.columns"
   ]
  },
  {
   "cell_type": "code",
   "execution_count": 28,
   "id": "d7b72dad-6dfa-46c3-84ac-10602c852524",
   "metadata": {},
   "outputs": [],
   "source": [
    "tracks_df = tracks_df[['track_id','full_genre_id']]"
   ]
  },
  {
   "cell_type": "code",
   "execution_count": 29,
   "id": "c7d35e82-a0b0-4bda-be5e-f69340a00385",
   "metadata": {},
   "outputs": [
    {
     "data": {
      "text/plain": [
       "array([list([12, 70]), list([2, 86]), list([38]), ..., list([8]),\n",
       "       list([15, 184]), list([38, 41])], dtype=object)"
      ]
     },
     "execution_count": 29,
     "metadata": {},
     "output_type": "execute_result"
    }
   ],
   "source": [
    "tracks_df.full_genre_id.values"
   ]
  },
  {
   "cell_type": "code",
   "execution_count": 30,
   "id": "14106678-2380-40d6-8373-edf1fda9b3af",
   "metadata": {},
   "outputs": [
    {
     "data": {
      "text/plain": [
       "<bound method Series.info of 88008     [12, 70]\n",
       "26522      [2, 86]\n",
       "32868         [38]\n",
       "54872     [10, 76]\n",
       "36327    [38, 250]\n",
       "           ...    \n",
       "51691         [15]\n",
       "21638     [10, 76]\n",
       "9736           [8]\n",
       "28459    [15, 184]\n",
       "98412     [38, 41]\n",
       "Name: full_genre_id, Length: 104185, dtype: object>"
      ]
     },
     "execution_count": 30,
     "metadata": {},
     "output_type": "execute_result"
    }
   ],
   "source": [
    "tracks_df.full_genre_id.info"
   ]
  },
  {
   "cell_type": "code",
   "execution_count": 31,
   "id": "90068602-0c57-4e10-bd9b-64cd1c8d8ad8",
   "metadata": {},
   "outputs": [],
   "source": [
    "labels_size = tracks_df.full_genre_id.apply(lambda x: len(x))"
   ]
  },
  {
   "cell_type": "code",
   "execution_count": 32,
   "id": "70f2351f-2f55-4979-84c2-0cb142887a78",
   "metadata": {},
   "outputs": [],
   "source": [
    "labels_size = int(labels_size.max())"
   ]
  },
  {
   "cell_type": "code",
   "execution_count": 33,
   "id": "e1f6ac31-ca09-4e44-a120-cd4534cd851e",
   "metadata": {},
   "outputs": [
    {
     "data": {
      "text/plain": [
       "int"
      ]
     },
     "execution_count": 33,
     "metadata": {},
     "output_type": "execute_result"
    }
   ],
   "source": [
    "type(labels_size)"
   ]
  },
  {
   "cell_type": "markdown",
   "id": "74827c2e-072a-4213-9b96-f7bb24dee80e",
   "metadata": {},
   "source": [
    "### Parse of label to structure"
   ]
  },
  {
   "cell_type": "code",
   "execution_count": 34,
   "id": "093a84f2-25d1-4f95-81e5-c51e73933e95",
   "metadata": {},
   "outputs": [],
   "source": [
    "### Function for parse label to sctructure of hierarhical scheme\n",
    "\n",
    "def parse_label(label,label_size=5):\n",
    "    # label = label.split('-')\n",
    "    # preencher com 0 no caso de haver menos de 5 níveis\n",
    "    labels = np.zeros(label_size,dtype=int)\n",
    "    for i, label in enumerate(label):\n",
    "        if i == 5:\n",
    "            break\n",
    "        # Aqui você pode fazer a conversão do label em um índice inteiro usando um dicionário ou outro método\n",
    "        # Neste exemplo, estou apenas usando a posição da label na lista como índice\n",
    "        labels[i] = label\n",
    "    return labels"
   ]
  },
  {
   "cell_type": "code",
   "execution_count": 35,
   "id": "2a6adb21-c145-4c82-ba79-798d02c7d2fd",
   "metadata": {},
   "outputs": [],
   "source": [
    "parsed_labels = tracks_df.full_genre_id.apply(lambda x: parse_label(x))"
   ]
  },
  {
   "cell_type": "code",
   "execution_count": 36,
   "id": "5981a36f-cb76-4d1f-8bfe-7e58f3b002e5",
   "metadata": {},
   "outputs": [
    {
     "data": {
      "text/plain": [
       "88008     [12, 70]\n",
       "26522      [2, 86]\n",
       "32868         [38]\n",
       "54872     [10, 76]\n",
       "36327    [38, 250]\n",
       "           ...    \n",
       "51691         [15]\n",
       "21638     [10, 76]\n",
       "9736           [8]\n",
       "28459    [15, 184]\n",
       "98412     [38, 41]\n",
       "Name: full_genre_id, Length: 104185, dtype: object"
      ]
     },
     "execution_count": 36,
     "metadata": {},
     "output_type": "execute_result"
    }
   ],
   "source": [
    "tracks_df['full_genre_id']"
   ]
  },
  {
   "cell_type": "code",
   "execution_count": 37,
   "id": "d60b077d-993f-4cbb-a66b-407d97dba96e",
   "metadata": {},
   "outputs": [],
   "source": [
    "def convert_label_to_string(x,level=2):\n",
    "    return '-'.join([str(value) for value in x[:level]])"
   ]
  },
  {
   "cell_type": "code",
   "execution_count": 38,
   "id": "e463b489-81bf-4a7d-95db-1f78c7ca6d87",
   "metadata": {},
   "outputs": [
    {
     "data": {
      "application/vnd.jupyter.widget-view+json": {
       "model_id": "ae5412dfac6d42a3a3451f3f8d7b6af2",
       "version_major": 2,
       "version_minor": 0
      },
      "text/plain": [
       "  0%|          | 0/104185 [00:00<?, ?it/s]"
      ]
     },
     "metadata": {},
     "output_type": "display_data"
    },
    {
     "name": "stderr",
     "output_type": "stream",
     "text": [
      "/tmp/ipykernel_27451/310633048.py:1: SettingWithCopyWarning: \n",
      "A value is trying to be set on a copy of a slice from a DataFrame.\n",
      "Try using .loc[row_indexer,col_indexer] = value instead\n",
      "\n",
      "See the caveats in the documentation: https://pandas.pydata.org/pandas-docs/stable/user_guide/indexing.html#returning-a-view-versus-a-copy\n",
      "  tracks_df['labels_1'] = parsed_labels.progress_apply(lambda x: str(x[:1][0]))\n"
     ]
    },
    {
     "data": {
      "application/vnd.jupyter.widget-view+json": {
       "model_id": "ee38bbbd06824253a071d03ec710d13a",
       "version_major": 2,
       "version_minor": 0
      },
      "text/plain": [
       "  0%|          | 0/104185 [00:00<?, ?it/s]"
      ]
     },
     "metadata": {},
     "output_type": "display_data"
    },
    {
     "name": "stderr",
     "output_type": "stream",
     "text": [
      "/tmp/ipykernel_27451/310633048.py:2: SettingWithCopyWarning: \n",
      "A value is trying to be set on a copy of a slice from a DataFrame.\n",
      "Try using .loc[row_indexer,col_indexer] = value instead\n",
      "\n",
      "See the caveats in the documentation: https://pandas.pydata.org/pandas-docs/stable/user_guide/indexing.html#returning-a-view-versus-a-copy\n",
      "  tracks_df['labels_2'] = parsed_labels.progress_apply(lambda x: convert_label_to_string(x,level=2))\n"
     ]
    },
    {
     "data": {
      "application/vnd.jupyter.widget-view+json": {
       "model_id": "bc80efd7c8b045c1b2cafe7e56c36e45",
       "version_major": 2,
       "version_minor": 0
      },
      "text/plain": [
       "  0%|          | 0/104185 [00:00<?, ?it/s]"
      ]
     },
     "metadata": {},
     "output_type": "display_data"
    },
    {
     "data": {
      "application/vnd.jupyter.widget-view+json": {
       "model_id": "8c132770cc0f4daf851daadc31d34b05",
       "version_major": 2,
       "version_minor": 0
      },
      "text/plain": [
       "  0%|          | 0/104185 [00:00<?, ?it/s]"
      ]
     },
     "metadata": {},
     "output_type": "display_data"
    },
    {
     "data": {
      "application/vnd.jupyter.widget-view+json": {
       "model_id": "08324eae6e7f473caf7da0360edfcad4",
       "version_major": 2,
       "version_minor": 0
      },
      "text/plain": [
       "  0%|          | 0/104185 [00:00<?, ?it/s]"
      ]
     },
     "metadata": {},
     "output_type": "display_data"
    }
   ],
   "source": [
    "tracks_df['labels_1'] = parsed_labels.progress_apply(lambda x: str(x[:1][0]))\n",
    "tracks_df['labels_2'] = parsed_labels.progress_apply(lambda x: convert_label_to_string(x,level=2))\n",
    "tracks_df['labels_3'] = parsed_labels.progress_apply(lambda x: convert_label_to_string(x,level=3))\n",
    "tracks_df['labels_4'] = parsed_labels.progress_apply(lambda x: convert_label_to_string(x,level=4))\n",
    "tracks_df['labels_5'] = parsed_labels.progress_apply(lambda x: convert_label_to_string(x,level=5))"
   ]
  },
  {
   "cell_type": "code",
   "execution_count": 39,
   "id": "04828399-6891-4cd6-b5d6-e6263c37a658",
   "metadata": {},
   "outputs": [],
   "source": [
    "# tracks_df = tracks_df[tracks_df['labels_1'].isin([\"38\",\"1235\"])]"
   ]
  },
  {
   "cell_type": "code",
   "execution_count": 40,
   "id": "86c81a9f-b819-4793-af3a-78f22b198aa7",
   "metadata": {},
   "outputs": [
    {
     "data": {
      "text/plain": [
       "labels_2\n",
       "38-0        6508\n",
       "1235-0      6043\n",
       "12-25       5706\n",
       "10-76       4126\n",
       "1235-107    3988\n",
       "            ... \n",
       "13-0          17\n",
       "20-374         9\n",
       "2-117          8\n",
       "5-444          2\n",
       "20-7           2\n",
       "Name: count, Length: 121, dtype: int64"
      ]
     },
     "execution_count": 40,
     "metadata": {},
     "output_type": "execute_result"
    }
   ],
   "source": [
    "tracks_df['labels_2'].value_counts()"
   ]
  },
  {
   "cell_type": "code",
   "execution_count": 41,
   "id": "a29b0317-181b-4cf9-ac27-3fd9505e1f7b",
   "metadata": {},
   "outputs": [
    {
     "data": {
      "text/plain": [
       "labels_5\n",
       "38-0-0-0-0        6508\n",
       "1235-0-0-0-0      6043\n",
       "10-76-0-0-0       4126\n",
       "1235-107-0-0-0    3988\n",
       "17-103-0-0-0      3482\n",
       "                  ... \n",
       "9-651-493-0-0        4\n",
       "20-65-189-0-0        4\n",
       "2-86-173-0-0         4\n",
       "5-444-0-0-0          2\n",
       "20-7-0-0-0           2\n",
       "Name: count, Length: 159, dtype: int64"
      ]
     },
     "execution_count": 41,
     "metadata": {},
     "output_type": "execute_result"
    }
   ],
   "source": [
    "tracks_df['labels_5'].value_counts()"
   ]
  },
  {
   "cell_type": "code",
   "execution_count": 42,
   "id": "304cd0a8-f7de-4862-8994-a9ed960cea5a",
   "metadata": {},
   "outputs": [],
   "source": [
    "# tracks_df = tracks_df[tracks_df['labels_1'].isin(['3','14'])]"
   ]
  },
  {
   "cell_type": "code",
   "execution_count": 43,
   "id": "d1e5f547-34ba-4d8d-b3ef-7d7eebc578fc",
   "metadata": {},
   "outputs": [],
   "source": [
    "categories_df = pd.DataFrame({'level5':tracks_df.labels_5.unique()})"
   ]
  },
  {
   "cell_type": "code",
   "execution_count": 44,
   "id": "39a3077d-9077-4f6b-be98-1e7d14e280e2",
   "metadata": {},
   "outputs": [
    {
     "data": {
      "application/vnd.jupyter.widget-view+json": {
       "model_id": "6e7fb492df1d4964b2704f6a2d314724",
       "version_major": 2,
       "version_minor": 0
      },
      "text/plain": [
       "  0%|          | 0/159 [00:00<?, ?it/s]"
      ]
     },
     "metadata": {},
     "output_type": "display_data"
    },
    {
     "data": {
      "application/vnd.jupyter.widget-view+json": {
       "model_id": "249553def47c4362b3dd1eff768db976",
       "version_major": 2,
       "version_minor": 0
      },
      "text/plain": [
       "  0%|          | 0/159 [00:00<?, ?it/s]"
      ]
     },
     "metadata": {},
     "output_type": "display_data"
    },
    {
     "data": {
      "application/vnd.jupyter.widget-view+json": {
       "model_id": "e976dcca08d74a86b3fc47c2b0ac91b1",
       "version_major": 2,
       "version_minor": 0
      },
      "text/plain": [
       "  0%|          | 0/159 [00:00<?, ?it/s]"
      ]
     },
     "metadata": {},
     "output_type": "display_data"
    },
    {
     "data": {
      "application/vnd.jupyter.widget-view+json": {
       "model_id": "1ecd107362b34a309ce3237e7231f716",
       "version_major": 2,
       "version_minor": 0
      },
      "text/plain": [
       "  0%|          | 0/159 [00:00<?, ?it/s]"
      ]
     },
     "metadata": {},
     "output_type": "display_data"
    }
   ],
   "source": [
    "categories_df['level1'] = categories_df.level5.progress_apply(lambda x: '-'.join(x.split('-')[:1]))\n",
    "categories_df['level2'] = categories_df.level5.progress_apply(lambda x: '-'.join(x.split('-')[:2]))\n",
    "categories_df['level3'] = categories_df.level5.progress_apply(lambda x: '-'.join(x.split('-')[:3]))\n",
    "categories_df['level4'] = categories_df.level5.progress_apply(lambda x: '-'.join(x.split('-')[:4]))"
   ]
  },
  {
   "cell_type": "code",
   "execution_count": 45,
   "id": "d32d5387-bc51-4823-8245-9b715899af33",
   "metadata": {},
   "outputs": [
    {
     "data": {
      "text/html": [
       "<div>\n",
       "<style scoped>\n",
       "    .dataframe tbody tr th:only-of-type {\n",
       "        vertical-align: middle;\n",
       "    }\n",
       "\n",
       "    .dataframe tbody tr th {\n",
       "        vertical-align: top;\n",
       "    }\n",
       "\n",
       "    .dataframe thead th {\n",
       "        text-align: right;\n",
       "    }\n",
       "</style>\n",
       "<table border=\"1\" class=\"dataframe\">\n",
       "  <thead>\n",
       "    <tr style=\"text-align: right;\">\n",
       "      <th></th>\n",
       "      <th>level5</th>\n",
       "      <th>level1</th>\n",
       "      <th>level2</th>\n",
       "      <th>level3</th>\n",
       "      <th>level4</th>\n",
       "    </tr>\n",
       "  </thead>\n",
       "  <tbody>\n",
       "    <tr>\n",
       "      <th>0</th>\n",
       "      <td>12-70-0-0-0</td>\n",
       "      <td>12</td>\n",
       "      <td>12-70</td>\n",
       "      <td>12-70-0</td>\n",
       "      <td>12-70-0-0</td>\n",
       "    </tr>\n",
       "    <tr>\n",
       "      <th>1</th>\n",
       "      <td>2-86-0-0-0</td>\n",
       "      <td>2</td>\n",
       "      <td>2-86</td>\n",
       "      <td>2-86-0</td>\n",
       "      <td>2-86-0-0</td>\n",
       "    </tr>\n",
       "    <tr>\n",
       "      <th>2</th>\n",
       "      <td>38-0-0-0-0</td>\n",
       "      <td>38</td>\n",
       "      <td>38-0</td>\n",
       "      <td>38-0-0</td>\n",
       "      <td>38-0-0-0</td>\n",
       "    </tr>\n",
       "    <tr>\n",
       "      <th>3</th>\n",
       "      <td>10-76-0-0-0</td>\n",
       "      <td>10</td>\n",
       "      <td>10-76</td>\n",
       "      <td>10-76-0</td>\n",
       "      <td>10-76-0-0</td>\n",
       "    </tr>\n",
       "    <tr>\n",
       "      <th>4</th>\n",
       "      <td>38-250-0-0-0</td>\n",
       "      <td>38</td>\n",
       "      <td>38-250</td>\n",
       "      <td>38-250-0</td>\n",
       "      <td>38-250-0-0</td>\n",
       "    </tr>\n",
       "    <tr>\n",
       "      <th>...</th>\n",
       "      <td>...</td>\n",
       "      <td>...</td>\n",
       "      <td>...</td>\n",
       "      <td>...</td>\n",
       "      <td>...</td>\n",
       "    </tr>\n",
       "    <tr>\n",
       "      <th>154</th>\n",
       "      <td>20-465-0-0-0</td>\n",
       "      <td>20</td>\n",
       "      <td>20-465</td>\n",
       "      <td>20-465-0</td>\n",
       "      <td>20-465-0-0</td>\n",
       "    </tr>\n",
       "    <tr>\n",
       "      <th>155</th>\n",
       "      <td>20-65-189-0-0</td>\n",
       "      <td>20</td>\n",
       "      <td>20-65</td>\n",
       "      <td>20-65-189</td>\n",
       "      <td>20-65-189-0</td>\n",
       "    </tr>\n",
       "    <tr>\n",
       "      <th>156</th>\n",
       "      <td>2-86-173-0-0</td>\n",
       "      <td>2</td>\n",
       "      <td>2-86</td>\n",
       "      <td>2-86-173</td>\n",
       "      <td>2-86-173-0</td>\n",
       "    </tr>\n",
       "    <tr>\n",
       "      <th>157</th>\n",
       "      <td>5-444-0-0-0</td>\n",
       "      <td>5</td>\n",
       "      <td>5-444</td>\n",
       "      <td>5-444-0</td>\n",
       "      <td>5-444-0-0</td>\n",
       "    </tr>\n",
       "    <tr>\n",
       "      <th>158</th>\n",
       "      <td>20-7-0-0-0</td>\n",
       "      <td>20</td>\n",
       "      <td>20-7</td>\n",
       "      <td>20-7-0</td>\n",
       "      <td>20-7-0-0</td>\n",
       "    </tr>\n",
       "  </tbody>\n",
       "</table>\n",
       "<p>159 rows × 5 columns</p>\n",
       "</div>"
      ],
      "text/plain": [
       "            level5 level1  level2     level3       level4\n",
       "0      12-70-0-0-0     12   12-70    12-70-0    12-70-0-0\n",
       "1       2-86-0-0-0      2    2-86     2-86-0     2-86-0-0\n",
       "2       38-0-0-0-0     38    38-0     38-0-0     38-0-0-0\n",
       "3      10-76-0-0-0     10   10-76    10-76-0    10-76-0-0\n",
       "4     38-250-0-0-0     38  38-250   38-250-0   38-250-0-0\n",
       "..             ...    ...     ...        ...          ...\n",
       "154   20-465-0-0-0     20  20-465   20-465-0   20-465-0-0\n",
       "155  20-65-189-0-0     20   20-65  20-65-189  20-65-189-0\n",
       "156   2-86-173-0-0      2    2-86   2-86-173   2-86-173-0\n",
       "157    5-444-0-0-0      5   5-444    5-444-0    5-444-0-0\n",
       "158     20-7-0-0-0     20    20-7     20-7-0     20-7-0-0\n",
       "\n",
       "[159 rows x 5 columns]"
      ]
     },
     "execution_count": 45,
     "metadata": {},
     "output_type": "execute_result"
    }
   ],
   "source": [
    "categories_df"
   ]
  },
  {
   "cell_type": "code",
   "execution_count": 46,
   "id": "1c4326bd-6d17-4857-b29c-9fc868e7561d",
   "metadata": {},
   "outputs": [],
   "source": [
    "def get_labels_name(x,genres_df):\n",
    "    levels = 5\n",
    "    full_name = []\n",
    "    last_level = 0\n",
    "    genre_root = \"\"\n",
    "    for genre in x.split('-'):\n",
    "        genre_df = genres_df[genres_df['genre_id'] == int(genre)]\n",
    "        if genre_df.empty:\n",
    "            genre_name = genre_root \n",
    "        else:\n",
    "            genre_name = genre_df.title.values.tolist()[0]\n",
    "            genre_root = genre_name\n",
    "        \n",
    "        full_name.append(genre_name)\n",
    "    full_name = '>'.join(full_name)\n",
    "        \n",
    "    return full_name\n",
    "    # return genres_df[genres_df['genre_id'] == int(x)].title.values.tolist()[0]"
   ]
  },
  {
   "cell_type": "code",
   "execution_count": 47,
   "id": "5fa16276-5e41-4ee5-821b-dabd1620c76c",
   "metadata": {},
   "outputs": [],
   "source": [
    "categories_df['level5_name'] = categories_df.level5.apply(lambda x: get_labels_name(x,genres_df))"
   ]
  },
  {
   "cell_type": "code",
   "execution_count": 48,
   "id": "2d2099b6-cf3b-47ae-bca2-7d2cc8a1cb8d",
   "metadata": {},
   "outputs": [
    {
     "data": {
      "text/html": [
       "<div>\n",
       "<style scoped>\n",
       "    .dataframe tbody tr th:only-of-type {\n",
       "        vertical-align: middle;\n",
       "    }\n",
       "\n",
       "    .dataframe tbody tr th {\n",
       "        vertical-align: top;\n",
       "    }\n",
       "\n",
       "    .dataframe thead th {\n",
       "        text-align: right;\n",
       "    }\n",
       "</style>\n",
       "<table border=\"1\" class=\"dataframe\">\n",
       "  <thead>\n",
       "    <tr style=\"text-align: right;\">\n",
       "      <th></th>\n",
       "      <th>level5</th>\n",
       "      <th>level1</th>\n",
       "      <th>level2</th>\n",
       "      <th>level3</th>\n",
       "      <th>level4</th>\n",
       "      <th>level5_name</th>\n",
       "    </tr>\n",
       "  </thead>\n",
       "  <tbody>\n",
       "    <tr>\n",
       "      <th>0</th>\n",
       "      <td>12-70-0-0-0</td>\n",
       "      <td>12</td>\n",
       "      <td>12-70</td>\n",
       "      <td>12-70-0</td>\n",
       "      <td>12-70-0-0</td>\n",
       "      <td>Rock&gt;Industrial&gt;Industrial&gt;Industrial&gt;Industrial</td>\n",
       "    </tr>\n",
       "    <tr>\n",
       "      <th>1</th>\n",
       "      <td>2-86-0-0-0</td>\n",
       "      <td>2</td>\n",
       "      <td>2-86</td>\n",
       "      <td>2-86-0</td>\n",
       "      <td>2-86-0-0</td>\n",
       "      <td>International&gt;Indian&gt;Indian&gt;Indian&gt;Indian</td>\n",
       "    </tr>\n",
       "    <tr>\n",
       "      <th>2</th>\n",
       "      <td>38-0-0-0-0</td>\n",
       "      <td>38</td>\n",
       "      <td>38-0</td>\n",
       "      <td>38-0-0</td>\n",
       "      <td>38-0-0-0</td>\n",
       "      <td>Experimental&gt;Experimental&gt;Experimental&gt;Experim...</td>\n",
       "    </tr>\n",
       "    <tr>\n",
       "      <th>3</th>\n",
       "      <td>10-76-0-0-0</td>\n",
       "      <td>10</td>\n",
       "      <td>10-76</td>\n",
       "      <td>10-76-0</td>\n",
       "      <td>10-76-0-0</td>\n",
       "      <td>Pop&gt;Experimental Pop&gt;Experimental Pop&gt;Experime...</td>\n",
       "    </tr>\n",
       "    <tr>\n",
       "      <th>4</th>\n",
       "      <td>38-250-0-0-0</td>\n",
       "      <td>38</td>\n",
       "      <td>38-250</td>\n",
       "      <td>38-250-0</td>\n",
       "      <td>38-250-0-0</td>\n",
       "      <td>Experimental&gt;Improv&gt;Improv&gt;Improv&gt;Improv</td>\n",
       "    </tr>\n",
       "    <tr>\n",
       "      <th>...</th>\n",
       "      <td>...</td>\n",
       "      <td>...</td>\n",
       "      <td>...</td>\n",
       "      <td>...</td>\n",
       "      <td>...</td>\n",
       "      <td>...</td>\n",
       "    </tr>\n",
       "    <tr>\n",
       "      <th>154</th>\n",
       "      <td>20-465-0-0-0</td>\n",
       "      <td>20</td>\n",
       "      <td>20-465</td>\n",
       "      <td>20-465-0</td>\n",
       "      <td>20-465-0-0</td>\n",
       "      <td>Spoken&gt;Musical Theater&gt;Musical Theater&gt;Musical...</td>\n",
       "    </tr>\n",
       "    <tr>\n",
       "      <th>155</th>\n",
       "      <td>20-65-189-0-0</td>\n",
       "      <td>20</td>\n",
       "      <td>20-65</td>\n",
       "      <td>20-65-189</td>\n",
       "      <td>20-65-189-0</td>\n",
       "      <td>Spoken&gt;Radio&gt;Talk Radio&gt;Talk Radio&gt;Talk Radio</td>\n",
       "    </tr>\n",
       "    <tr>\n",
       "      <th>156</th>\n",
       "      <td>2-86-173-0-0</td>\n",
       "      <td>2</td>\n",
       "      <td>2-86</td>\n",
       "      <td>2-86-173</td>\n",
       "      <td>2-86-173-0</td>\n",
       "      <td>International&gt;Indian&gt;N. Indian Traditional&gt;N. ...</td>\n",
       "    </tr>\n",
       "    <tr>\n",
       "      <th>157</th>\n",
       "      <td>5-444-0-0-0</td>\n",
       "      <td>5</td>\n",
       "      <td>5-444</td>\n",
       "      <td>5-444-0</td>\n",
       "      <td>5-444-0-0</td>\n",
       "      <td>Classical&gt;Symphony&gt;Symphony&gt;Symphony&gt;Symphony</td>\n",
       "    </tr>\n",
       "    <tr>\n",
       "      <th>158</th>\n",
       "      <td>20-7-0-0-0</td>\n",
       "      <td>20</td>\n",
       "      <td>20-7</td>\n",
       "      <td>20-7-0</td>\n",
       "      <td>20-7-0-0</td>\n",
       "      <td>Spoken&gt;Comedy&gt;Comedy&gt;Comedy&gt;Comedy</td>\n",
       "    </tr>\n",
       "  </tbody>\n",
       "</table>\n",
       "<p>159 rows × 6 columns</p>\n",
       "</div>"
      ],
      "text/plain": [
       "            level5 level1  level2     level3       level4  \\\n",
       "0      12-70-0-0-0     12   12-70    12-70-0    12-70-0-0   \n",
       "1       2-86-0-0-0      2    2-86     2-86-0     2-86-0-0   \n",
       "2       38-0-0-0-0     38    38-0     38-0-0     38-0-0-0   \n",
       "3      10-76-0-0-0     10   10-76    10-76-0    10-76-0-0   \n",
       "4     38-250-0-0-0     38  38-250   38-250-0   38-250-0-0   \n",
       "..             ...    ...     ...        ...          ...   \n",
       "154   20-465-0-0-0     20  20-465   20-465-0   20-465-0-0   \n",
       "155  20-65-189-0-0     20   20-65  20-65-189  20-65-189-0   \n",
       "156   2-86-173-0-0      2    2-86   2-86-173   2-86-173-0   \n",
       "157    5-444-0-0-0      5   5-444    5-444-0    5-444-0-0   \n",
       "158     20-7-0-0-0     20    20-7     20-7-0     20-7-0-0   \n",
       "\n",
       "                                           level5_name  \n",
       "0     Rock>Industrial>Industrial>Industrial>Industrial  \n",
       "1            International>Indian>Indian>Indian>Indian  \n",
       "2    Experimental>Experimental>Experimental>Experim...  \n",
       "3    Pop>Experimental Pop>Experimental Pop>Experime...  \n",
       "4             Experimental>Improv>Improv>Improv>Improv  \n",
       "..                                                 ...  \n",
       "154  Spoken>Musical Theater>Musical Theater>Musical...  \n",
       "155      Spoken>Radio>Talk Radio>Talk Radio>Talk Radio  \n",
       "156  International>Indian>N. Indian Traditional>N. ...  \n",
       "157      Classical>Symphony>Symphony>Symphony>Symphony  \n",
       "158                 Spoken>Comedy>Comedy>Comedy>Comedy  \n",
       "\n",
       "[159 rows x 6 columns]"
      ]
     },
     "execution_count": 48,
     "metadata": {},
     "output_type": "execute_result"
    }
   ],
   "source": [
    "categories_df"
   ]
  },
  {
   "cell_type": "code",
   "execution_count": 49,
   "id": "c2ced721-6c30-46da-95b5-a28b84b6a2a4",
   "metadata": {},
   "outputs": [],
   "source": [
    "def __create_labels__(categories_df):\n",
    "    data = {\n",
    "        \"label1\": {},\n",
    "        \"label2\": {},\n",
    "        \"label3\": {},\n",
    "        \"label4\": {},\n",
    "        \"label5\": {},\n",
    "        \"label1_inverse\": [],\n",
    "        \"label2_inverse\": [],\n",
    "        \"label3_inverse\": [],\n",
    "        \"label4_inverse\": [],\n",
    "        \"label5_inverse\": [],\n",
    "        \"label1_name\": {},\n",
    "        \"label2_name\": {},\n",
    "        \"label3_name\": {},\n",
    "        \"label4_name\": {},\n",
    "        \"label5_name\": {},\n",
    "    }\n",
    "\n",
    "    idx = 0\n",
    "    \n",
    "    for id_x, cat in enumerate(set(categories_df.level1.values.tolist())):\n",
    "        data['label1'][cat] = idx\n",
    "        data['label1_inverse'].append(cat)\n",
    "        data['label1_count'] = idx + 1\n",
    "        idx+=1\n",
    "\n",
    "    for id_x, cat in enumerate(set(categories_df.level2.values.tolist())):\n",
    "        data['label2'][cat] = idx\n",
    "        data['label2_inverse'].append(cat)\n",
    "        data['label2_count'] = idx + 1\n",
    "        idx+=1\n",
    "        \n",
    "    for id_x, cat in enumerate(set(categories_df.level3.values.tolist())):\n",
    "        data['label3'][cat] = idx\n",
    "        data['label3_inverse'].append(cat)\n",
    "        data['label3_count'] = idx + 1\n",
    "        idx+=1\n",
    "\n",
    "    for id_x, cat in enumerate(set(categories_df.level4.values.tolist())):\n",
    "        data['label4'][cat] = idx\n",
    "        data['label4_inverse'].append(cat)\n",
    "        data['label4_count'] = idx + 1\n",
    "        idx+=1\n",
    "        \n",
    "    for idx, cat in enumerate(set(categories_df.level5.values.tolist())):\n",
    "        data['label5'][cat] = idx\n",
    "        data['label5_inverse'].append(cat)\n",
    "        data['label5_count'] = idx + 1\n",
    "        idx+=1\n",
    "        \n",
    "    for cat5,cat1,cat2,cat3,cat4,name5 in categories_df.values:\n",
    "        \n",
    "        name1 = '>'.join(name5.split('>')[:1])\n",
    "        name2 = '>'.join(name5.split('>')[:2])\n",
    "        name3 = '>'.join(name5.split('>')[:3])\n",
    "        name4 = '>'.join(name5.split('>')[:4])\n",
    "        \n",
    "        \n",
    "        data['label1_name'][cat1] = name1\n",
    "        data['label2_name'][cat2] = name2\n",
    "        data['label3_name'][cat3] = name3\n",
    "        data['label4_name'][cat4] = name4\n",
    "        data['label5_name'][cat5] = name5\n",
    "        \n",
    "    return data"
   ]
  },
  {
   "cell_type": "code",
   "execution_count": 50,
   "id": "e7ccc947-b7ae-464d-a325-d61aa3cf5710",
   "metadata": {},
   "outputs": [],
   "source": [
    "with open(categories_labels_path, 'w+') as f:\n",
    "    f.write(json.dumps(__create_labels__(categories_df)))"
   ]
  },
  {
   "cell_type": "code",
   "execution_count": 51,
   "id": "3778cc5d-7def-4a1d-9f5b-b141bd08356c",
   "metadata": {},
   "outputs": [],
   "source": [
    "labels  = __create_labels__(categories_df)"
   ]
  },
  {
   "cell_type": "code",
   "execution_count": 52,
   "id": "a6b67e97-0813-492e-8323-f8588ca8d120",
   "metadata": {
    "tags": []
   },
   "outputs": [
    {
     "data": {
      "text/plain": [
       "{'38-22-0-0-0': 0,\n",
       " '2-86-173-0-0': 1,\n",
       " '9-169-0-0-0': 2,\n",
       " '9-137-0-0-0': 3,\n",
       " '20-188-0-0-0': 4,\n",
       " '15-42-0-0-0': 5,\n",
       " '12-58-0-0-0': 6,\n",
       " '2-177-0-0-0': 7,\n",
       " '2-92-0-0-0': 8,\n",
       " '12-25-64-0-0': 9,\n",
       " '2-118-0-0-0': 10,\n",
       " '2-46-1060-0-0': 11,\n",
       " '38-41-0-0-0': 12,\n",
       " '12-27-0-0-0': 13,\n",
       " '8-0-0-0-0': 14,\n",
       " '3-0-0-0-0': 15,\n",
       " '17-103-0-0-0': 16,\n",
       " '38-6-360-0-0': 17,\n",
       " '21-0-0-0-0': 18,\n",
       " '17-49-0-0-0': 19,\n",
       " '4-179-0-0-0': 20,\n",
       " '15-182-400-0-0': 21,\n",
       " '12-85-404-0-0': 22,\n",
       " '15-468-0-0-0': 23,\n",
       " '15-183-0-0-0': 24,\n",
       " '20-65-189-0-0': 25,\n",
       " '5-0-0-0-0': 26,\n",
       " '20-374-0-0-0': 27,\n",
       " '38-47-0-0-0': 28,\n",
       " '21-83-0-0-0': 29,\n",
       " '12-26-0-0-0': 30,\n",
       " '20-138-0-0-0': 31,\n",
       " '12-85-0-0-0': 32,\n",
       " '21-580-0-0-0': 33,\n",
       " '12-25-71-0-0': 34,\n",
       " '15-181-0-0-0': 35,\n",
       " '38-6-0-0-0': 36,\n",
       " '2-0-0-0-0': 37,\n",
       " '20-7-0-0-0': 38,\n",
       " '12-25-111-0-0': 39,\n",
       " '2-171-0-0-0': 40,\n",
       " '12-359-0-0-0': 41,\n",
       " '1235-18-538-0-0': 42,\n",
       " '2-102-0-0-0': 43,\n",
       " '2-92-214-0-0': 44,\n",
       " '12-70-0-0-0': 45,\n",
       " '2-46-0-0-0': 46,\n",
       " '2-46-502-0-0': 47,\n",
       " '2-232-0-0-0': 48,\n",
       " '12-25-109-0-0': 49,\n",
       " '15-185-0-0-0': 50,\n",
       " '12-440-0-0-0': 51,\n",
       " '4-37-0-0-0': 52,\n",
       " '9-651-0-0-0': 53,\n",
       " '38-456-0-0-0': 54,\n",
       " '20-0-0-0-0': 55,\n",
       " '4-0-0-0-0': 56,\n",
       " '13-0-0-0-0': 57,\n",
       " '2-77-0-0-0': 58,\n",
       " '4-906-0-0-0': 59,\n",
       " '20-465-0-0-0': 60,\n",
       " '2-79-602-0-0': 61,\n",
       " '38-6-16-763-1193': 62,\n",
       " '12-25-109-361-0': 63,\n",
       " '5-442-0-0-0': 64,\n",
       " '5-322-0-0-0': 65,\n",
       " '15-297-240-0-0': 66,\n",
       " '17-94-0-0-0': 67,\n",
       " '4-97-0-0-0': 68,\n",
       " '12-0-0-0-0': 69,\n",
       " '21-539-0-0-0': 70,\n",
       " '12-36-0-0-0': 71,\n",
       " '1235-18-0-0-0': 72,\n",
       " '2-86-174-0-0': 73,\n",
       " '15-297-0-0-0': 74,\n",
       " '13-311-0-0-0': 75,\n",
       " '38-32-0-0-0': 76,\n",
       " '9-651-493-0-0': 77,\n",
       " '2-130-741-0-0': 78,\n",
       " '2-117-0-0-0': 79,\n",
       " '38-1-0-0-0': 80,\n",
       " '15-337-0-0-0': 81,\n",
       " '15-182-0-0-0': 82,\n",
       " '2-130-524-0-0': 83,\n",
       " '12-25-89-0-0': 84,\n",
       " '2-46-808-0-0': 85,\n",
       " '38-514-0-0-0': 86,\n",
       " '15-286-0-0-0': 87,\n",
       " '17-0-0-0-0': 88,\n",
       " '15-695-0-0-0': 89,\n",
       " '2-176-0-0-0': 90,\n",
       " '1235-0-0-0-0': 91,\n",
       " '12-25-0-0-0': 92,\n",
       " '1235-107-0-0-0': 93,\n",
       " '12-31-167-0-0': 94,\n",
       " '12-31-101-0-0': 95,\n",
       " '12-31-0-0-0': 96,\n",
       " '15-495-0-0-0': 97,\n",
       " '2-86-0-0-0': 98,\n",
       " '38-224-0-0-0': 99,\n",
       " '10-76-0-0-0': 100,\n",
       " '15-296-0-0-0': 101,\n",
       " '15-184-0-0-0': 102,\n",
       " '21-693-0-0-0': 103,\n",
       " '2-92-81-0-0': 104,\n",
       " '14-11-0-0-0': 105,\n",
       " '21-811-0-0-0': 106,\n",
       " '38-30-0-0-0': 107,\n",
       " '9-63-0-0-0': 108,\n",
       " '12-88-0-0-0': 109,\n",
       " '2-504-0-0-0': 110,\n",
       " '12-45-53-90-0': 111,\n",
       " '38-0-0-0-0': 112,\n",
       " '14-0-0-0-0': 113,\n",
       " '10-0-0-0-0': 114,\n",
       " '5-187-0-0-0': 115,\n",
       " '20-428-0-0-0': 116,\n",
       " '38-6-16-763-0': 117,\n",
       " '38-247-0-0-0': 118,\n",
       " '38-186-0-0-0': 119,\n",
       " '2-130-619-0-0': 120,\n",
       " '13-170-0-0-0': 121,\n",
       " '15-0-0-0-0': 122,\n",
       " '15-181-401-0-0': 123,\n",
       " '12-45-0-0-0': 124,\n",
       " '2-172-0-0-0': 125,\n",
       " '38-250-0-0-0': 126,\n",
       " '17-33-0-0-0': 127,\n",
       " '1235-267-0-0-0': 128,\n",
       " '20-65-0-0-0': 129,\n",
       " '20-65-166-0-0': 130,\n",
       " '2-130-1156-0-0': 131,\n",
       " '5-659-0-0-0': 132,\n",
       " '2-130-0-0-0': 133,\n",
       " '14-19-0-0-0': 134,\n",
       " '21-542-0-0-0': 135,\n",
       " '5-444-0-0-0': 136,\n",
       " '4-74-0-0-0': 137,\n",
       " '3-567-0-0-0': 138,\n",
       " '12-66-0-0-0': 139,\n",
       " '5-443-0-0-0': 140,\n",
       " '5-441-0-0-0': 141,\n",
       " '9-0-0-0-0': 142,\n",
       " '12-98-0-0-0': 143,\n",
       " '21-100-0-0-0': 144,\n",
       " '10-362-0-0-0': 145,\n",
       " '12-45-53-0-0': 146,\n",
       " '20-65-43-0-0': 147,\n",
       " '12-26-113-0-0': 148,\n",
       " '15-468-491-0-0': 149,\n",
       " '20-378-0-0-0': 150,\n",
       " '13-810-0-0-0': 151,\n",
       " '38-125-0-0-0': 152,\n",
       " '12-314-0-0-0': 153,\n",
       " '12-31-439-0-0': 154,\n",
       " '2-79-0-0-0': 155,\n",
       " '15-236-0-0-0': 156,\n",
       " '17-180-0-0-0': 157,\n",
       " '2-102-1032-0-0': 158}"
      ]
     },
     "execution_count": 52,
     "metadata": {},
     "output_type": "execute_result"
    }
   ],
   "source": [
    "labels['label5']"
   ]
  },
  {
   "cell_type": "code",
   "execution_count": 53,
   "id": "676dd2f5-aa10-4a54-8542-fb86b770de22",
   "metadata": {},
   "outputs": [
    {
     "data": {
      "text/plain": [
       "16"
      ]
     },
     "execution_count": 53,
     "metadata": {},
     "output_type": "execute_result"
    }
   ],
   "source": [
    "labels['label1_count']"
   ]
  },
  {
   "cell_type": "code",
   "execution_count": 54,
   "id": "34af3ff3-11d0-415f-8736-519e5911ec59",
   "metadata": {},
   "outputs": [],
   "source": [
    "\n",
    "\n",
    "def parse_tfr_element(element):\n",
    "    #use the same structure as above; it's kinda an outline of the structure we now want to create\n",
    "    data = {\n",
    "        'emb' : tf.io.FixedLenFeature([], tf.string),\n",
    "        'track_id' : tf.io.FixedLenFeature([], tf.int64),\n",
    "    }\n",
    "    \n",
    "    content = tf.io.parse_single_example(element, data)\n",
    "\n",
    "    track_id = content['track_id']\n",
    "    emb = content['emb']\n",
    "    \n",
    "\n",
    "    #get our 'feature'-- our image -- and reshape it appropriately\n",
    "    feature = tf.io.parse_tensor(emb, out_type=tf.float32)\n",
    "    return (feature, track_id)\n",
    "\n",
    "\n",
    "def get_dataset(filename):\n",
    "    #create the dataset\n",
    "    dataset = tf.data.TFRecordDataset(filename)\n",
    "\n",
    "    #pass every single feature through our mapping function\n",
    "    dataset = dataset.map(\n",
    "        parse_tfr_element\n",
    "    )\n",
    "\n",
    "    return dataset\n",
    "\n",
    "\n"
   ]
  },
  {
   "cell_type": "code",
   "execution_count": 55,
   "id": "4580514b-0be9-4de5-a8d3-f987ba73134c",
   "metadata": {},
   "outputs": [],
   "source": [
    "import numpy as np\n",
    "\n",
    "\n",
    "def load_dataset(path,dataset=args.embeddings):\n",
    "    tfrecords_path = os.path.join(path,'tfrecords',dataset)\n",
    "    \n",
    "    \n",
    "    tfrecords_path = [os.path.join(tfrecords_path,path) for path in os.listdir(tfrecords_path)]\n",
    "    dataset = get_dataset(tfrecords_path)\n",
    "    \n",
    "    df = pd.DataFrame(\n",
    "        dataset.as_numpy_iterator(),\n",
    "        columns=['feature', 'track_id']\n",
    "    )\n",
    "        \n",
    "    df.dropna(inplace=True)\n",
    "    \n",
    "    \n",
    "    try:\n",
    "        df.feature = df.feature.apply(lambda x: x[0] if x.shape[0] != 0 else None)\n",
    "    except:\n",
    "        print(x)\n",
    "    \n",
    "    return df\n",
    "    \n"
   ]
  },
  {
   "cell_type": "code",
   "execution_count": 56,
   "id": "b5c8d2a5-ea5e-495a-a800-0d8cdede266f",
   "metadata": {},
   "outputs": [
    {
     "data": {
      "text/plain": [
       "labels_5\n",
       "38-0-0-0-0        6508\n",
       "1235-0-0-0-0      6043\n",
       "10-76-0-0-0       4126\n",
       "1235-107-0-0-0    3988\n",
       "17-103-0-0-0      3482\n",
       "                  ... \n",
       "9-651-493-0-0        4\n",
       "20-65-189-0-0        4\n",
       "2-86-173-0-0         4\n",
       "5-444-0-0-0          2\n",
       "20-7-0-0-0           2\n",
       "Name: count, Length: 159, dtype: int64"
      ]
     },
     "execution_count": 56,
     "metadata": {},
     "output_type": "execute_result"
    }
   ],
   "source": [
    "tracks_df['labels_5'].value_counts()"
   ]
  },
  {
   "cell_type": "code",
   "execution_count": 57,
   "id": "ecb34052-60dd-40db-9ba4-0a92c17f9eb0",
   "metadata": {},
   "outputs": [],
   "source": [
    "def __split_data__(group, percentage=0.1):\n",
    "    if len(group) == 1:\n",
    "        return group, group\n",
    "\n",
    "    shuffled = shuffle(group.values)\n",
    "    finish_test = int(ceil(len(group) * percentage))\n",
    "\n",
    "    first = pd.DataFrame(shuffled[:finish_test], columns=group.columns)\n",
    "    second = pd.DataFrame(shuffled[finish_test:], columns=group.columns)\n",
    "\n",
    "    return first, second"
   ]
  },
  {
   "cell_type": "code",
   "execution_count": 58,
   "id": "f6b687c1-660a-4e8c-a76a-6b2a85ae4d37",
   "metadata": {},
   "outputs": [],
   "source": [
    "def select_dataset(tracks_df):\n",
    "    \n",
    "#     dataset_testset_path = os.path.join(tfrecord_path,'test')\n",
    "#     dataset_validationset_path = os.path.join(tfrecord_path,'val')\n",
    "#     dataset_trainset_path = os.path.join(tfrecord_path,'train')\n",
    "    \n",
    "    df = load_dataset(args.dataset_path,dataset=args.embeddings)\n",
    "    \n",
    "    df.dropna(inplace=True)\n",
    "    \n",
    "    tracks_df = tracks_df.merge(df, on='track_id')\n",
    "    \n",
    "    tracks_df.loc[:,'labels_1'] = tracks_df.labels_1.astype(str).progress_apply(lambda x: labels['label1'][x])\n",
    "    tracks_df.loc[:,'labels_2'] = tracks_df.labels_2.astype(str).progress_apply(lambda x: labels['label2'][x])\n",
    "    tracks_df.loc[:,'labels_3'] = tracks_df.labels_3.astype(str).progress_apply(lambda x: labels['label3'][x])\n",
    "    tracks_df.loc[:,'labels_4'] = tracks_df.labels_4.astype(str).progress_apply(lambda x: labels['label4'][x])\n",
    "    tracks_df.loc[:,'labels_5'] = tracks_df.labels_5.astype(str).progress_apply(lambda x: labels['label5'][x])\n",
    "    \n",
    "    tests = []\n",
    "    trains = []\n",
    "    validations = []\n",
    "    groups = tracks_df.groupby(\"labels_5\")\n",
    "    \n",
    "    \n",
    "    count = 0\n",
    "    items_count = 0\n",
    "    total = len(groups)\n",
    "    total_items = len(tracks_df)\n",
    "    oversampling_size = 30  # int(group_sizes.mean() + group_sizes.std() * 2)\n",
    "    print(f\"oversampling_size: {oversampling_size}\")\n",
    "\n",
    "    for code, group in groups:\n",
    "        test, train_to_split = __split_data__(group, 0.01)  # 10%\n",
    "        train_to_split = train_to_split\n",
    "        validation, train = __split_data__(train_to_split, 0.01)  # %1\n",
    "\n",
    "        tests.append(test)\n",
    "        validations.append(validation)\n",
    "\n",
    "        ## this increase the numner of samples when classes has low quantity\n",
    "        count_train = len(train)\n",
    "        if count_train < oversampling_size:\n",
    "            train = train.sample(oversampling_size, replace=True)\n",
    "\n",
    "        trains.append(train)\n",
    "\n",
    "        count += 1\n",
    "        items_count += count_train\n",
    "        \n",
    "        \n",
    "    df_test = pd.concat(tests, sort=False).sample(frac=1).reset_index(drop=True)\n",
    "    # .to_csv(dataset_testset_path, index=False,quoting=csv.QUOTE_ALL)\n",
    "    df_val = pd.concat(validations, sort=False).sample(frac=1).reset_index(drop=True)\n",
    "    df_train = pd.concat(trains, sort=False).sample(frac=1).reset_index(drop=True)\n",
    "\n",
    "    return df_train,df_test,df_val"
   ]
  },
  {
   "cell_type": "code",
   "execution_count": 59,
   "id": "2935be5c-052f-4477-863a-acf7a160b9ea",
   "metadata": {
    "tags": []
   },
   "outputs": [
    {
     "name": "stderr",
     "output_type": "stream",
     "text": [
      "2023-10-09 17:32:27.905047: I tensorflow/core/common_runtime/gpu/gpu_device.cc:1639] Created device /job:localhost/replica:0/task:0/device:GPU:0 with 9630 MB memory:  -> device: 0, name: NVIDIA GeForce RTX 2080 Ti, pci bus id: 0000:65:00.0, compute capability: 7.5\n"
     ]
    },
    {
     "data": {
      "application/vnd.jupyter.widget-view+json": {
       "model_id": "ef4ef6700d6c4eaba3bdabf2d026ea40",
       "version_major": 2,
       "version_minor": 0
      },
      "text/plain": [
       "  0%|          | 0/104169 [00:00<?, ?it/s]"
      ]
     },
     "metadata": {},
     "output_type": "display_data"
    },
    {
     "data": {
      "application/vnd.jupyter.widget-view+json": {
       "model_id": "83942534b3fb4f72a1e6e2da1c342c30",
       "version_major": 2,
       "version_minor": 0
      },
      "text/plain": [
       "  0%|          | 0/104169 [00:00<?, ?it/s]"
      ]
     },
     "metadata": {},
     "output_type": "display_data"
    },
    {
     "data": {
      "application/vnd.jupyter.widget-view+json": {
       "model_id": "d114ba63e82a4ec2bd08edfb3bb85a4f",
       "version_major": 2,
       "version_minor": 0
      },
      "text/plain": [
       "  0%|          | 0/104169 [00:00<?, ?it/s]"
      ]
     },
     "metadata": {},
     "output_type": "display_data"
    },
    {
     "data": {
      "application/vnd.jupyter.widget-view+json": {
       "model_id": "c0b448b577d04f11bb8953491b0293ff",
       "version_major": 2,
       "version_minor": 0
      },
      "text/plain": [
       "  0%|          | 0/104169 [00:00<?, ?it/s]"
      ]
     },
     "metadata": {},
     "output_type": "display_data"
    },
    {
     "data": {
      "application/vnd.jupyter.widget-view+json": {
       "model_id": "67f0b51073634aad8bdc9d84d464c70b",
       "version_major": 2,
       "version_minor": 0
      },
      "text/plain": [
       "  0%|          | 0/104169 [00:00<?, ?it/s]"
      ]
     },
     "metadata": {},
     "output_type": "display_data"
    },
    {
     "name": "stdout",
     "output_type": "stream",
     "text": [
      "oversampling_size: 30\n"
     ]
    }
   ],
   "source": [
    "df_train,df_test,df_val = select_dataset(tracks_df)"
   ]
  },
  {
   "cell_type": "code",
   "execution_count": 60,
   "id": "6ca3a658-7d5e-4bf6-a5e6-40dfe0b4813b",
   "metadata": {},
   "outputs": [
    {
     "data": {
      "text/html": [
       "<div>\n",
       "<style scoped>\n",
       "    .dataframe tbody tr th:only-of-type {\n",
       "        vertical-align: middle;\n",
       "    }\n",
       "\n",
       "    .dataframe tbody tr th {\n",
       "        vertical-align: top;\n",
       "    }\n",
       "\n",
       "    .dataframe thead th {\n",
       "        text-align: right;\n",
       "    }\n",
       "</style>\n",
       "<table border=\"1\" class=\"dataframe\">\n",
       "  <thead>\n",
       "    <tr style=\"text-align: right;\">\n",
       "      <th></th>\n",
       "      <th>track_id</th>\n",
       "      <th>full_genre_id</th>\n",
       "      <th>labels_1</th>\n",
       "      <th>labels_2</th>\n",
       "      <th>labels_3</th>\n",
       "      <th>labels_4</th>\n",
       "      <th>labels_5</th>\n",
       "      <th>feature</th>\n",
       "    </tr>\n",
       "  </thead>\n",
       "  <tbody>\n",
       "    <tr>\n",
       "      <th>0</th>\n",
       "      <td>115627</td>\n",
       "      <td>[12, 25, 89]</td>\n",
       "      <td>8</td>\n",
       "      <td>135</td>\n",
       "      <td>164</td>\n",
       "      <td>373</td>\n",
       "      <td>84</td>\n",
       "      <td>[0.021790445, 0.29853275, -0.026587656, 0.0666...</td>\n",
       "    </tr>\n",
       "    <tr>\n",
       "      <th>1</th>\n",
       "      <td>146915</td>\n",
       "      <td>[38, 41]</td>\n",
       "      <td>1</td>\n",
       "      <td>78</td>\n",
       "      <td>158</td>\n",
       "      <td>371</td>\n",
       "      <td>12</td>\n",
       "      <td>[0.1287572, -0.04188484, -0.020825902, 0.01465...</td>\n",
       "    </tr>\n",
       "    <tr>\n",
       "      <th>2</th>\n",
       "      <td>144872</td>\n",
       "      <td>[38, 250]</td>\n",
       "      <td>1</td>\n",
       "      <td>92</td>\n",
       "      <td>218</td>\n",
       "      <td>385</td>\n",
       "      <td>126</td>\n",
       "      <td>[0.084029794, -7.178386e-05, -0.053328514, -0....</td>\n",
       "    </tr>\n",
       "    <tr>\n",
       "      <th>3</th>\n",
       "      <td>66741</td>\n",
       "      <td>[1235, 18]</td>\n",
       "      <td>4</td>\n",
       "      <td>105</td>\n",
       "      <td>217</td>\n",
       "      <td>312</td>\n",
       "      <td>72</td>\n",
       "      <td>[0.11808327, 0.10941779, 0.40051472, -0.049361...</td>\n",
       "    </tr>\n",
       "    <tr>\n",
       "      <th>4</th>\n",
       "      <td>121728</td>\n",
       "      <td>[1235, 107]</td>\n",
       "      <td>4</td>\n",
       "      <td>25</td>\n",
       "      <td>206</td>\n",
       "      <td>331</td>\n",
       "      <td>93</td>\n",
       "      <td>[-0.03590433, 0.020767719, -0.03485803, -0.030...</td>\n",
       "    </tr>\n",
       "    <tr>\n",
       "      <th>...</th>\n",
       "      <td>...</td>\n",
       "      <td>...</td>\n",
       "      <td>...</td>\n",
       "      <td>...</td>\n",
       "      <td>...</td>\n",
       "      <td>...</td>\n",
       "      <td>...</td>\n",
       "      <td>...</td>\n",
       "    </tr>\n",
       "    <tr>\n",
       "      <th>102226</th>\n",
       "      <td>96841</td>\n",
       "      <td>[38, 41]</td>\n",
       "      <td>1</td>\n",
       "      <td>78</td>\n",
       "      <td>158</td>\n",
       "      <td>371</td>\n",
       "      <td>12</td>\n",
       "      <td>[-0.03989613, -0.004323274, 0.02414892, 0.0396...</td>\n",
       "    </tr>\n",
       "    <tr>\n",
       "      <th>102227</th>\n",
       "      <td>19591</td>\n",
       "      <td>[8]</td>\n",
       "      <td>5</td>\n",
       "      <td>68</td>\n",
       "      <td>267</td>\n",
       "      <td>338</td>\n",
       "      <td>14</td>\n",
       "      <td>[0.056298267, -0.018925885, -0.04787774, -0.01...</td>\n",
       "    </tr>\n",
       "    <tr>\n",
       "      <th>102228</th>\n",
       "      <td>5166</td>\n",
       "      <td>[12]</td>\n",
       "      <td>8</td>\n",
       "      <td>128</td>\n",
       "      <td>236</td>\n",
       "      <td>442</td>\n",
       "      <td>69</td>\n",
       "      <td>[0.031009829, 0.012057076, -0.03138266, 0.0563...</td>\n",
       "    </tr>\n",
       "    <tr>\n",
       "      <th>102229</th>\n",
       "      <td>106189</td>\n",
       "      <td>[15, 286]</td>\n",
       "      <td>2</td>\n",
       "      <td>132</td>\n",
       "      <td>160</td>\n",
       "      <td>393</td>\n",
       "      <td>87</td>\n",
       "      <td>[0.009615977, 0.12510824, 0.010890921, 0.00987...</td>\n",
       "    </tr>\n",
       "    <tr>\n",
       "      <th>102230</th>\n",
       "      <td>85548</td>\n",
       "      <td>[1235, 107]</td>\n",
       "      <td>4</td>\n",
       "      <td>25</td>\n",
       "      <td>206</td>\n",
       "      <td>331</td>\n",
       "      <td>93</td>\n",
       "      <td>[0.011825353, 0.0042595766, 0.12860407, -0.050...</td>\n",
       "    </tr>\n",
       "  </tbody>\n",
       "</table>\n",
       "<p>102231 rows × 8 columns</p>\n",
       "</div>"
      ],
      "text/plain": [
       "       track_id full_genre_id labels_1 labels_2 labels_3 labels_4 labels_5  \\\n",
       "0        115627  [12, 25, 89]        8      135      164      373       84   \n",
       "1        146915      [38, 41]        1       78      158      371       12   \n",
       "2        144872     [38, 250]        1       92      218      385      126   \n",
       "3         66741    [1235, 18]        4      105      217      312       72   \n",
       "4        121728   [1235, 107]        4       25      206      331       93   \n",
       "...         ...           ...      ...      ...      ...      ...      ...   \n",
       "102226    96841      [38, 41]        1       78      158      371       12   \n",
       "102227    19591           [8]        5       68      267      338       14   \n",
       "102228     5166          [12]        8      128      236      442       69   \n",
       "102229   106189     [15, 286]        2      132      160      393       87   \n",
       "102230    85548   [1235, 107]        4       25      206      331       93   \n",
       "\n",
       "                                                  feature  \n",
       "0       [0.021790445, 0.29853275, -0.026587656, 0.0666...  \n",
       "1       [0.1287572, -0.04188484, -0.020825902, 0.01465...  \n",
       "2       [0.084029794, -7.178386e-05, -0.053328514, -0....  \n",
       "3       [0.11808327, 0.10941779, 0.40051472, -0.049361...  \n",
       "4       [-0.03590433, 0.020767719, -0.03485803, -0.030...  \n",
       "...                                                   ...  \n",
       "102226  [-0.03989613, -0.004323274, 0.02414892, 0.0396...  \n",
       "102227  [0.056298267, -0.018925885, -0.04787774, -0.01...  \n",
       "102228  [0.031009829, 0.012057076, -0.03138266, 0.0563...  \n",
       "102229  [0.009615977, 0.12510824, 0.010890921, 0.00987...  \n",
       "102230  [0.011825353, 0.0042595766, 0.12860407, -0.050...  \n",
       "\n",
       "[102231 rows x 8 columns]"
      ]
     },
     "execution_count": 60,
     "metadata": {},
     "output_type": "execute_result"
    }
   ],
   "source": [
    "df_train"
   ]
  },
  {
   "cell_type": "code",
   "execution_count": 61,
   "id": "a882ada1-9d1f-4fc1-9d4c-c2c7a0279557",
   "metadata": {},
   "outputs": [],
   "source": [
    "def _bytes_feature(value):\n",
    "  ### Returns a bytes_list from a string / byte.\"\"\"\n",
    "    if isinstance(value, type(tf.constant(0))): # if value ist tensor\n",
    "        value = value.numpy() # get value of tensor\n",
    "    return tf.train.Feature(bytes_list=tf.train.BytesList(value=value))\n",
    "\n",
    "def _float_feature(value):\n",
    "  ### Returns a floast_list from a float / double.\"\"\"\n",
    "    return tf.train.Feature(float_list=tf.train.FloatList(value=value))\n",
    "\n",
    "def _int64List_feature(value):\n",
    "    return tf.train.Feature(int64_list=tf.train.Int64List(value=value))\n",
    "\n",
    "def _int64_feature(value):\n",
    "  ###  Returns an int64_list from a bool / enum / int / uint.\"\"\"\n",
    "    return tf.train.Feature(int64_list=tf.train.Int64List(value=[value]))\n",
    "\n",
    "def serialize_array(array):\n",
    "    array = tf.io.serialize_tensor(array)\n",
    "    return array"
   ]
  },
  {
   "cell_type": "code",
   "execution_count": 62,
   "id": "847ca375-63be-4f96-8bbe-9346d827c3bd",
   "metadata": {},
   "outputs": [],
   "source": [
    "def parse_single_music(data,labels):\n",
    "    track_id, _, cat1, cat2, cat3, cat4, cat5, music = data\n",
    "    \n",
    "    \n",
    "    label1 = np.array([cat1, labels['label1_count']], np.int64)\n",
    "    label2 = np.array([cat2, labels['label2_count']], np.int64)\n",
    "    label3 = np.array([cat3, labels['label3_count']], np.int64)\n",
    "    label4 = np.array([cat4, labels['label4_count']], np.int64)\n",
    "    label5 = np.array([cat5, labels['label5_count']], np.int64)\n",
    "    \n",
    "    \n",
    "    \n",
    "    #define the dictionary -- the structure -- of our single example\n",
    "    data = {\n",
    "        'label1': _int64List_feature(label1),\n",
    "        'label2': _int64List_feature(label2),\n",
    "        'label3': _int64List_feature(label3),\n",
    "        'label4': _int64List_feature(label4),\n",
    "        'label5': _int64List_feature(label5),\n",
    "        # 'features' : _bytes_feature(serialize_array(music)),\n",
    "        'features' : _float_feature(music),\n",
    "        'track_id' : _int64_feature(track_id)\n",
    "    }\n",
    "    #create an Example, wrapping the single features\n",
    "    out = tf.train.Example(features=tf.train.Features(feature=data))\n",
    "\n",
    "    return out"
   ]
  },
  {
   "cell_type": "code",
   "execution_count": 63,
   "id": "75a8419a-fe56-4e6b-818b-7198f9370311",
   "metadata": {},
   "outputs": [],
   "source": [
    "def generate_tf_record(df,tf_path='val'):\n",
    "    create_dir(tf_path)\n",
    "    \n",
    "    \n",
    "    batch_size = 1024 * 50 # 50k records from each file batch\n",
    "    count = 0\n",
    "    total = math.ceil(len(df) / batch_size)\n",
    "\n",
    "    for i in range(0, len(df), batch_size):\n",
    "        batch_df = df[i:i+batch_size]\n",
    "        \n",
    "        tfrecords = [parse_single_music(data, labels) for data in batch_df.values]\n",
    "        \n",
    "        path = f\"{tf_path}/{str(count).zfill(10)}.tfrecord\"\n",
    "        \n",
    "        #with tf.python_io.TFRecordWriter(path) as writer:\n",
    "        with tf.io.TFRecordWriter(path) as writer:\n",
    "            for tfrecord in tfrecords:\n",
    "                writer.write(tfrecord.SerializeToString())\n",
    "\n",
    "        print(f\"{count} {len(tfrecords)} {path}\")\n",
    "        count += 1\n",
    "        print(f\"{count}/{total} batchs / {count * batch_size} processed\")\n",
    "\n",
    "    print(f\"{count}/{total} batchs / {len(df)} processed\")\n",
    "    \n",
    "    return tf_path\n",
    "\n",
    "    "
   ]
  },
  {
   "cell_type": "code",
   "execution_count": 64,
   "id": "5bc708b4-0cdd-46b6-94b6-66998aaa2c2f",
   "metadata": {},
   "outputs": [
    {
     "data": {
      "text/plain": [
       "'/mnt/disks/data/fma/trains/hierarchical_all/tfrecords'"
      ]
     },
     "execution_count": 64,
     "metadata": {},
     "output_type": "execute_result"
    }
   ],
   "source": [
    "tfrecord_path"
   ]
  },
  {
   "cell_type": "code",
   "execution_count": 65,
   "id": "0149ac30-6fd3-44f6-8a98-e69dd2740419",
   "metadata": {},
   "outputs": [
    {
     "name": "stdout",
     "output_type": "stream",
     "text": [
      "0 1114 /mnt/disks/data/fma/trains/hierarchical_all/tfrecords/val/0000000000.tfrecord\n",
      "1/1 batchs / 51200 processed\n",
      "1/1 batchs / 1114 processed\n"
     ]
    }
   ],
   "source": [
    "val_path = generate_tf_record(df_val,tf_path=os.path.join(tfrecord_path,'val'))"
   ]
  },
  {
   "cell_type": "code",
   "execution_count": 66,
   "id": "770b69f6-8059-4fd7-a514-203302e1bd23",
   "metadata": {},
   "outputs": [
    {
     "name": "stdout",
     "output_type": "stream",
     "text": [
      "0 1125 /mnt/disks/data/fma/trains/hierarchical_all/tfrecords/test/0000000000.tfrecord\n",
      "1/1 batchs / 51200 processed\n",
      "1/1 batchs / 1125 processed\n"
     ]
    }
   ],
   "source": [
    "test_path = generate_tf_record(df_test,tf_path=os.path.join(tfrecord_path,'test'))"
   ]
  },
  {
   "cell_type": "code",
   "execution_count": 67,
   "id": "e9ef95bd-ead5-43ac-83e4-16cc24222a22",
   "metadata": {},
   "outputs": [
    {
     "name": "stdout",
     "output_type": "stream",
     "text": [
      "0 51200 /mnt/disks/data/fma/trains/hierarchical_all/tfrecords/train/0000000000.tfrecord\n",
      "1/2 batchs / 51200 processed\n",
      "1 51031 /mnt/disks/data/fma/trains/hierarchical_all/tfrecords/train/0000000001.tfrecord\n",
      "2/2 batchs / 102400 processed\n",
      "2/2 batchs / 102231 processed\n"
     ]
    }
   ],
   "source": [
    "train_path = generate_tf_record(df_train,tf_path=os.path.join(tfrecord_path,'train'))"
   ]
  },
  {
   "cell_type": "code",
   "execution_count": 68,
   "id": "cd97175f-4b2b-49e0-bb74-84d12a2999a7",
   "metadata": {},
   "outputs": [],
   "source": [
    "def create_metadata(metadata_path):\n",
    "\n",
    "    with open(metadata_path, 'w+') as f:\n",
    "        f.write(json.dumps({\n",
    "            'sequence_size': args.sequence_size,\n",
    "            'n_levels': labels_size,\n",
    "            'labels_size': [labels['label1_count'],labels['label2_count'],\n",
    "                           labels['label3_count'],labels['label4_count'],\n",
    "                           labels['label5_count']],\n",
    "            'val_path': val_path,\n",
    "            'train_path': train_path,\n",
    "            'test_path': test_path,\n",
    "            'trainset_count': len(df_train),\n",
    "            'validationset_count': len(df_val),\n",
    "            'testset_count': len(df_test)\n",
    "        }))"
   ]
  },
  {
   "cell_type": "code",
   "execution_count": 69,
   "id": "39a433f0-af90-4c10-afee-138b9f5c43a6",
   "metadata": {},
   "outputs": [],
   "source": [
    "create_metadata(metadata_path)"
   ]
  },
  {
   "cell_type": "code",
   "execution_count": 70,
   "id": "555117a3-5616-4cc8-9673-6413113f4d46",
   "metadata": {},
   "outputs": [
    {
     "data": {
      "text/plain": [
       "'/mnt/disks/data/fma/trains/hierarchical_all'"
      ]
     },
     "execution_count": 70,
     "metadata": {},
     "output_type": "execute_result"
    }
   ],
   "source": [
    "job_path"
   ]
  },
  {
   "cell_type": "code",
   "execution_count": 71,
   "id": "af5df190-01df-4f13-a475-35132a6712f4",
   "metadata": {},
   "outputs": [],
   "source": [
    "tracks_df.to_csv(os.path.join(job_path,\"tracks.csv\"),index=False)"
   ]
  },
  {
   "cell_type": "code",
   "execution_count": 72,
   "id": "339b8ce0-792b-4c94-b70e-3c031aa7b124",
   "metadata": {},
   "outputs": [],
   "source": [
    "with open(categories_labels_path, 'r') as f:\n",
    "    labels = json.loads(f.read())"
   ]
  },
  {
   "cell_type": "code",
   "execution_count": 130,
   "id": "32421389-d7bb-42aa-99ae-85b777698fc1",
   "metadata": {},
   "outputs": [],
   "source": [
    "levels_size = {'level1_size': labels['label1_count']-1,\n",
    "        'level2_size': labels['label2_count']-1,\n",
    "        'level3_size': labels['label3_count']-1,\n",
    "        'level4_size': labels['label4_count']-1,\n",
    "        'level5_size': labels['label5_count']-1}"
   ]
  },
  {
   "cell_type": "code",
   "execution_count": 131,
   "id": "b50d015a-86cd-40c1-86bf-f034d262d54c",
   "metadata": {},
   "outputs": [
    {
     "data": {
      "text/plain": [
       "15"
      ]
     },
     "execution_count": 131,
     "metadata": {},
     "output_type": "execute_result"
    }
   ],
   "source": [
    "levels_size['level1_size']"
   ]
  }
 ],
 "metadata": {
  "kernelspec": {
   "display_name": "Python 3 (ipykernel)",
   "language": "python",
   "name": "python3"
  },
  "language_info": {
   "codemirror_mode": {
    "name": "ipython",
    "version": 3
   },
   "file_extension": ".py",
   "mimetype": "text/x-python",
   "name": "python",
   "nbconvert_exporter": "python",
   "pygments_lexer": "ipython3",
   "version": "3.11.4"
  }
 },
 "nbformat": 4,
 "nbformat_minor": 5
}
