{
 "cells": [
  {
   "cell_type": "code",
   "execution_count": 1,
   "id": "b3c1db16-1ac6-4f28-a323-e986ddce7ff0",
   "metadata": {
    "tags": []
   },
   "outputs": [],
   "source": [
    "# !pip install -r ../requirements.txt"
   ]
  },
  {
   "cell_type": "code",
   "execution_count": 2,
   "id": "62b115e9-0421-44ed-800d-4e4f4eba9958",
   "metadata": {
    "tags": []
   },
   "outputs": [
    {
     "name": "stdout",
     "output_type": "stream",
     "text": [
      "Looking in indexes: https://pypi.org/simple, https://pypi.ngc.nvidia.com\n",
      "Collecting essentia\n",
      "  Downloading essentia-2.1b6.dev1034-cp311-cp311-manylinux_2_17_x86_64.manylinux2014_x86_64.whl (13.7 MB)\n",
      "\u001b[2K     \u001b[90m━━━━━━━━━━━━━━━━━━━━━━━━━━━━━━━━━━━━━━━━\u001b[0m \u001b[32m13.7/13.7 MB\u001b[0m \u001b[31m4.7 MB/s\u001b[0m eta \u001b[36m0:00:00\u001b[0m00:01\u001b[0m00:01\u001b[0m\n",
      "\u001b[?25hRequirement already satisfied: numpy>=1.8.2 in /home/bruno/anaconda3/envs/fma_hc/lib/python3.11/site-packages (from essentia) (1.24.3)\n",
      "Requirement already satisfied: six in /home/bruno/anaconda3/envs/fma_hc/lib/python3.11/site-packages (from essentia) (1.16.0)\n",
      "Requirement already satisfied: pyyaml in /home/bruno/anaconda3/envs/fma_hc/lib/python3.11/site-packages (from essentia) (6.0)\n",
      "Installing collected packages: essentia\n",
      "Successfully installed essentia-2.1b6.dev1034\n"
     ]
    }
   ],
   "source": [
    "!pip install essentia "
   ]
  },
  {
   "cell_type": "code",
   "execution_count": 1,
   "id": "d286e021-1ae2-4a48-a5d5-f66b17bcf230",
   "metadata": {
    "tags": []
   },
   "outputs": [
    {
     "name": "stderr",
     "output_type": "stream",
     "text": [
      "[   INFO   ] MusicExtractorSVM: no classifier models were configured by default\n"
     ]
    }
   ],
   "source": [
    "import pandas as pd\n",
    "import numpy as np\n",
    "import ast\n",
    "import json\n",
    "import os\n",
    "from essentia.standard import MonoLoader"
   ]
  },
  {
   "cell_type": "code",
   "execution_count": 2,
   "id": "4408f908-9cb1-432d-a8d2-2f2bf874b457",
   "metadata": {
    "tags": []
   },
   "outputs": [],
   "source": [
    "from tqdm.notebook import tqdm"
   ]
  },
  {
   "cell_type": "code",
   "execution_count": 3,
   "id": "d47eb29a-107d-436b-83c3-dbf706302be3",
   "metadata": {
    "tags": []
   },
   "outputs": [],
   "source": [
    "tqdm.pandas()"
   ]
  },
  {
   "cell_type": "code",
   "execution_count": 4,
   "id": "00d9634c-b595-4ee4-8430-5b4f69466d85",
   "metadata": {
    "tags": []
   },
   "outputs": [],
   "source": [
    "\n",
    "args = pd.Series({\n",
    "    \"root_dir\":\"/mnt/disks/data/\",\n",
    "    \"dataset_path\":\"/mnt/disks/data/fma/fma_large\"\n",
    "})\n"
   ]
  },
  {
   "cell_type": "code",
   "execution_count": 5,
   "id": "d1811e18-8ee4-4118-9ba2-fe53b17ec20c",
   "metadata": {
    "tags": []
   },
   "outputs": [],
   "source": [
    "\n",
    "\n",
    "base_path = os.path.join(args.root_dir,\"fma\")\n",
    "\n",
    "\n",
    "# In[17]:\n",
    "\n",
    "metadata_path_fma = os.path.join(base_path,\"fma_metadata\")\n",
    "\n"
   ]
  },
  {
   "cell_type": "code",
   "execution_count": 6,
   "id": "fbf453f9-1353-4eb4-8e28-196ecbf04a2e",
   "metadata": {
    "tags": []
   },
   "outputs": [],
   "source": [
    "# Cria um dicionário que associa o ID de cada música aos IDs de seus gêneros musicais\n",
    "tracks_df = pd.read_csv(os.path.join(metadata_path_fma,'tracks.csv'), header=[0,1], index_col=0)"
   ]
  },
  {
   "cell_type": "code",
   "execution_count": 7,
   "id": "3e501dc3-005c-44dd-a822-efc8e47a191f",
   "metadata": {},
   "outputs": [],
   "source": [
    "tracks_df.reset_index(inplace=True)"
   ]
  },
  {
   "cell_type": "code",
   "execution_count": 8,
   "id": "bc29a297-f00c-4990-9945-9572229a66d7",
   "metadata": {
    "tags": []
   },
   "outputs": [],
   "source": [
    "tracks_df.columns = ['_'.join(col) for col in tracks_df.columns.values]"
   ]
  },
  {
   "cell_type": "code",
   "execution_count": 9,
   "id": "70fcf0d6-d21d-45f2-993a-360bc4b1f8bd",
   "metadata": {
    "tags": []
   },
   "outputs": [
    {
     "data": {
      "text/plain": [
       "Index(['track_id_', 'album_comments', 'album_date_created',\n",
       "       'album_date_released', 'album_engineer', 'album_favorites', 'album_id',\n",
       "       'album_information', 'album_listens', 'album_producer', 'album_tags',\n",
       "       'album_title', 'album_tracks', 'album_type', 'artist_active_year_begin',\n",
       "       'artist_active_year_end', 'artist_associated_labels', 'artist_bio',\n",
       "       'artist_comments', 'artist_date_created', 'artist_favorites',\n",
       "       'artist_id', 'artist_latitude', 'artist_location', 'artist_longitude',\n",
       "       'artist_members', 'artist_name', 'artist_related_projects',\n",
       "       'artist_tags', 'artist_website', 'artist_wikipedia_page', 'set_split',\n",
       "       'set_subset', 'track_bit_rate', 'track_comments', 'track_composer',\n",
       "       'track_date_created', 'track_date_recorded', 'track_duration',\n",
       "       'track_favorites', 'track_genre_top', 'track_genres',\n",
       "       'track_genres_all', 'track_information', 'track_interest',\n",
       "       'track_language_code', 'track_license', 'track_listens',\n",
       "       'track_lyricist', 'track_number', 'track_publisher', 'track_tags',\n",
       "       'track_title'],\n",
       "      dtype='object')"
      ]
     },
     "execution_count": 9,
     "metadata": {},
     "output_type": "execute_result"
    }
   ],
   "source": [
    "tracks_df.columns"
   ]
  },
  {
   "cell_type": "code",
   "execution_count": 10,
   "id": "3a0f6d4c-3973-4051-bf4e-6608d56c6ffd",
   "metadata": {
    "tags": []
   },
   "outputs": [],
   "source": [
    "tracks_df = tracks_df[['track_genres_all','track_genres','track_id_']]"
   ]
  },
  {
   "cell_type": "code",
   "execution_count": 11,
   "id": "f3e0e5a5-29b3-4123-bfb7-b40fcfa3b0d3",
   "metadata": {
    "tags": []
   },
   "outputs": [],
   "source": [
    "tracks_df.reset_index(inplace=True)"
   ]
  },
  {
   "cell_type": "code",
   "execution_count": 12,
   "id": "a92974cb-145d-452f-90fb-3693c9d6c37a",
   "metadata": {},
   "outputs": [],
   "source": [
    "tracks_df.dropna(inplace=True)"
   ]
  },
  {
   "cell_type": "code",
   "execution_count": 13,
   "id": "3f6df2de-32cf-4f8c-aa9e-325fca6e15fd",
   "metadata": {},
   "outputs": [
    {
     "data": {
      "text/plain": [
       "track_genres_all\n",
       "[21]                     2735\n",
       "[15]                     2689\n",
       "[]                       2231\n",
       "[12]                     1896\n",
       "[1, 38, 41, 247, 30]     1633\n",
       "                         ... \n",
       "[32, 1, 38, 41, 250]        1\n",
       "[32, 38, 103, 10, 17]       1\n",
       "[10, 5]                     1\n",
       "[10, 539, 21]               1\n",
       "[169, 10, 12, 9]            1\n",
       "Name: count, Length: 4151, dtype: int64"
      ]
     },
     "execution_count": 13,
     "metadata": {},
     "output_type": "execute_result"
    }
   ],
   "source": [
    "tracks_df.track_genres_all.value_counts()"
   ]
  },
  {
   "cell_type": "code",
   "execution_count": 14,
   "id": "62eea2ad-4404-4335-99b6-f9b9461fc2f0",
   "metadata": {},
   "outputs": [],
   "source": [
    "tracks_df[\"track_genres_all\"] = tracks_df.track_genres_all.apply(lambda x : ast.literal_eval(x))"
   ]
  },
  {
   "cell_type": "code",
   "execution_count": 15,
   "id": "65fa4361-5fa0-4a72-9eb6-b3dc5ae40a87",
   "metadata": {},
   "outputs": [],
   "source": [
    "# Remover linhas com genre_id vazio\n",
    "tracks_df = tracks_df[tracks_df['track_genres_all'].map(len) > 0]\n"
   ]
  },
  {
   "cell_type": "code",
   "execution_count": 16,
   "id": "1c79a591-d357-4ff9-bf9c-94c1b2354d2c",
   "metadata": {},
   "outputs": [
    {
     "data": {
      "text/html": [
       "<div>\n",
       "<style scoped>\n",
       "    .dataframe tbody tr th:only-of-type {\n",
       "        vertical-align: middle;\n",
       "    }\n",
       "\n",
       "    .dataframe tbody tr th {\n",
       "        vertical-align: top;\n",
       "    }\n",
       "\n",
       "    .dataframe thead th {\n",
       "        text-align: right;\n",
       "    }\n",
       "</style>\n",
       "<table border=\"1\" class=\"dataframe\">\n",
       "  <thead>\n",
       "    <tr style=\"text-align: right;\">\n",
       "      <th></th>\n",
       "      <th>index</th>\n",
       "      <th>track_genres_all</th>\n",
       "      <th>track_genres</th>\n",
       "      <th>track_id_</th>\n",
       "    </tr>\n",
       "  </thead>\n",
       "  <tbody>\n",
       "    <tr>\n",
       "      <th>0</th>\n",
       "      <td>0</td>\n",
       "      <td>[21]</td>\n",
       "      <td>[21]</td>\n",
       "      <td>2</td>\n",
       "    </tr>\n",
       "    <tr>\n",
       "      <th>1</th>\n",
       "      <td>1</td>\n",
       "      <td>[21]</td>\n",
       "      <td>[21]</td>\n",
       "      <td>3</td>\n",
       "    </tr>\n",
       "    <tr>\n",
       "      <th>2</th>\n",
       "      <td>2</td>\n",
       "      <td>[21]</td>\n",
       "      <td>[21]</td>\n",
       "      <td>5</td>\n",
       "    </tr>\n",
       "    <tr>\n",
       "      <th>3</th>\n",
       "      <td>3</td>\n",
       "      <td>[10]</td>\n",
       "      <td>[10]</td>\n",
       "      <td>10</td>\n",
       "    </tr>\n",
       "    <tr>\n",
       "      <th>4</th>\n",
       "      <td>4</td>\n",
       "      <td>[17, 10, 76, 103]</td>\n",
       "      <td>[76, 103]</td>\n",
       "      <td>20</td>\n",
       "    </tr>\n",
       "    <tr>\n",
       "      <th>...</th>\n",
       "      <td>...</td>\n",
       "      <td>...</td>\n",
       "      <td>...</td>\n",
       "      <td>...</td>\n",
       "    </tr>\n",
       "    <tr>\n",
       "      <th>106569</th>\n",
       "      <td>106569</td>\n",
       "      <td>[25, 12]</td>\n",
       "      <td>[25]</td>\n",
       "      <td>155316</td>\n",
       "    </tr>\n",
       "    <tr>\n",
       "      <th>106570</th>\n",
       "      <td>106570</td>\n",
       "      <td>[25, 12]</td>\n",
       "      <td>[25]</td>\n",
       "      <td>155317</td>\n",
       "    </tr>\n",
       "    <tr>\n",
       "      <th>106571</th>\n",
       "      <td>106571</td>\n",
       "      <td>[25, 12]</td>\n",
       "      <td>[25]</td>\n",
       "      <td>155318</td>\n",
       "    </tr>\n",
       "    <tr>\n",
       "      <th>106572</th>\n",
       "      <td>106572</td>\n",
       "      <td>[25, 12]</td>\n",
       "      <td>[25]</td>\n",
       "      <td>155319</td>\n",
       "    </tr>\n",
       "    <tr>\n",
       "      <th>106573</th>\n",
       "      <td>106573</td>\n",
       "      <td>[169, 10, 12, 9]</td>\n",
       "      <td>[10, 12, 169]</td>\n",
       "      <td>155320</td>\n",
       "    </tr>\n",
       "  </tbody>\n",
       "</table>\n",
       "<p>104343 rows × 4 columns</p>\n",
       "</div>"
      ],
      "text/plain": [
       "         index   track_genres_all   track_genres  track_id_\n",
       "0            0               [21]           [21]          2\n",
       "1            1               [21]           [21]          3\n",
       "2            2               [21]           [21]          5\n",
       "3            3               [10]           [10]         10\n",
       "4            4  [17, 10, 76, 103]      [76, 103]         20\n",
       "...        ...                ...            ...        ...\n",
       "106569  106569           [25, 12]           [25]     155316\n",
       "106570  106570           [25, 12]           [25]     155317\n",
       "106571  106571           [25, 12]           [25]     155318\n",
       "106572  106572           [25, 12]           [25]     155319\n",
       "106573  106573   [169, 10, 12, 9]  [10, 12, 169]     155320\n",
       "\n",
       "[104343 rows x 4 columns]"
      ]
     },
     "execution_count": 16,
     "metadata": {},
     "output_type": "execute_result"
    }
   ],
   "source": [
    "tracks_df"
   ]
  },
  {
   "cell_type": "code",
   "execution_count": 17,
   "id": "63de265d-1b57-4d0b-8108-9e90d4b24892",
   "metadata": {
    "tags": []
   },
   "outputs": [],
   "source": [
    "def find_path(track_id, dataset_path):\n",
    "    track_id = track_id.zfill(6)\n",
    "    folder_id = track_id[0:3]\n",
    "    file_path = os.path.join(dataset_path, folder_id, track_id+'.mp3')\n",
    "    return file_path\n",
    "# In[36]:\n",
    "\n",
    "\n",
    "tracks_df['file_path'] = tracks_df.track_id_.apply(lambda x: find_path(str(x), args.dataset_path))\n",
    "\n"
   ]
  },
  {
   "cell_type": "code",
   "execution_count": 18,
   "id": "ef8eae9d-541a-4bad-9e59-c0bf679acef2",
   "metadata": {
    "tags": []
   },
   "outputs": [],
   "source": [
    "## Fazer o valid genre aqui"
   ]
  },
  {
   "cell_type": "code",
   "execution_count": 19,
   "id": "7e8cdb2d-d559-4ece-b969-3bccbdfe0391",
   "metadata": {
    "tags": []
   },
   "outputs": [],
   "source": [
    "def valid_music(file_path):\n",
    "    try:\n",
    "        # we start by instantiating the audio loader:\n",
    "        loader = MonoLoader(filename=file_path)\n",
    "    \n",
    "        return True\n",
    "    except:\n",
    "        return False"
   ]
  },
  {
   "cell_type": "code",
   "execution_count": 20,
   "id": "8f7b12c5-30ba-478a-a859-38271e2e7a6f",
   "metadata": {
    "tags": []
   },
   "outputs": [
    {
     "data": {
      "text/plain": [
       "True"
      ]
     },
     "execution_count": 20,
     "metadata": {},
     "output_type": "execute_result"
    }
   ],
   "source": [
    "valid_music('/mnt/disks/data/fma/fma_large/000/000003.mp3')"
   ]
  },
  {
   "cell_type": "code",
   "execution_count": 21,
   "id": "498974c3-57b3-429f-9665-bfbce83f1a54",
   "metadata": {
    "tags": []
   },
   "outputs": [
    {
     "data": {
      "application/vnd.jupyter.widget-view+json": {
       "model_id": "8f27f8fe73b3439eb8ab30943bd145d7",
       "version_major": 2,
       "version_minor": 0
      },
      "text/plain": [
       "  0%|          | 0/104343 [00:00<?, ?it/s]"
      ]
     },
     "metadata": {},
     "output_type": "display_data"
    }
   ],
   "source": [
    "tracks_df.loc[:,'valid'] = tracks_df.file_path.progress_apply(lambda x: valid_music(x))"
   ]
  },
  {
   "cell_type": "code",
   "execution_count": 22,
   "id": "6253f32d-bbde-4eac-aa7f-6ec12597b1c4",
   "metadata": {
    "tags": []
   },
   "outputs": [],
   "source": [
    "tracks_df_filter = tracks_df[tracks_df['valid'] == True]"
   ]
  },
  {
   "cell_type": "code",
   "execution_count": 23,
   "id": "bb99a215-ade8-451d-ad5b-fcf0bbc61c6e",
   "metadata": {},
   "outputs": [],
   "source": [
    "def find_path(track_id,dataset_path):\n",
    "    track_id = track_id.zfill(6)\n",
    "    folder_id = track_id[0:3]\n",
    "    file_path = os.path.join(dataset_path,folder_id,track_id+'.mp3')\n",
    "    return file_path"
   ]
  },
  {
   "cell_type": "code",
   "execution_count": 24,
   "id": "6f866ea2-8252-42e3-94ea-80eb0502b78a",
   "metadata": {},
   "outputs": [
    {
     "name": "stderr",
     "output_type": "stream",
     "text": [
      "/tmp/ipykernel_148978/3260058484.py:1: SettingWithCopyWarning: \n",
      "A value is trying to be set on a copy of a slice from a DataFrame.\n",
      "Try using .loc[row_indexer,col_indexer] = value instead\n",
      "\n",
      "See the caveats in the documentation: https://pandas.pydata.org/pandas-docs/stable/user_guide/indexing.html#returning-a-view-versus-a-copy\n",
      "  tracks_df_filter['file_path'] = tracks_df_filter.track_id_.apply(lambda x: find_path(str(x),args.dataset_path))\n"
     ]
    }
   ],
   "source": [
    "tracks_df_filter['file_path'] = tracks_df_filter.track_id_.apply(lambda x: find_path(str(x),args.dataset_path))"
   ]
  },
  {
   "cell_type": "code",
   "execution_count": 25,
   "id": "0d67d99e-ab35-4719-a86c-2dd15ecc74a9",
   "metadata": {},
   "outputs": [
    {
     "data": {
      "text/plain": [
       "'/mnt/disks/data/fma/fma_large/000/000002.mp3'"
      ]
     },
     "execution_count": 25,
     "metadata": {},
     "output_type": "execute_result"
    }
   ],
   "source": [
    "tracks_df_filter.iloc[0].file_path"
   ]
  },
  {
   "cell_type": "code",
   "execution_count": 26,
   "id": "69cb5edd-a48e-4193-bce1-93079eb46835",
   "metadata": {},
   "outputs": [],
   "source": [
    "tracks_df_filter = tracks_df_filter[['track_genres_all','track_genres','track_id_','file_path']]"
   ]
  },
  {
   "cell_type": "code",
   "execution_count": 27,
   "id": "3f54e53b-56e2-4d75-990c-b4e451d2bbd3",
   "metadata": {
    "tags": []
   },
   "outputs": [],
   "source": [
    "tracks_df_filter.to_csv(os.path.join(metadata_path_fma,'tracks_valid.csv'),index=False)"
   ]
  },
  {
   "cell_type": "code",
   "execution_count": null,
   "id": "6b485094-6a6c-40c4-9260-a4f7dcc042a3",
   "metadata": {},
   "outputs": [],
   "source": []
  },
  {
   "cell_type": "code",
   "execution_count": null,
   "id": "92b39c66-ec1a-4435-8d01-a3509c94eaf6",
   "metadata": {},
   "outputs": [],
   "source": []
  }
 ],
 "metadata": {
  "kernelspec": {
   "display_name": "Python 3 (ipykernel)",
   "language": "python",
   "name": "python3"
  },
  "language_info": {
   "codemirror_mode": {
    "name": "ipython",
    "version": 3
   },
   "file_extension": ".py",
   "mimetype": "text/x-python",
   "name": "python",
   "nbconvert_exporter": "python",
   "pygments_lexer": "ipython3",
   "version": "3.11.4"
  }
 },
 "nbformat": 4,
 "nbformat_minor": 5
}
