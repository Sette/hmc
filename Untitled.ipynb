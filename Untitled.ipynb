{
 "cells": [
  {
   "cell_type": "code",
   "execution_count": 1,
   "id": "57fa633f-b4f8-4261-8c9d-539c1bc03842",
   "metadata": {},
   "outputs": [],
   "source": [
    "levels_size = {'first_level_output_size': 1,\n",
    "            'second_level_output_size': 2,\n",
    "            'third_level_output_size': 3,\n",
    "            'fourth_level_output_size': 4,\n",
    "            'fifth_level_output_size': 5}"
   ]
  },
  {
   "cell_type": "code",
   "execution_count": 6,
   "id": "596d28a6-a42d-4dd2-a5a3-4d8081bb7c8e",
   "metadata": {},
   "outputs": [
    {
     "name": "stdout",
     "output_type": "stream",
     "text": [
      "first_level_output_size 1\n",
      "second_level_output_size 2\n",
      "third_level_output_size 3\n",
      "fourth_level_output_size 4\n",
      "fifth_level_output_size 5\n"
     ]
    }
   ],
   "source": [
    "for name,value in levels_size.items():\n",
    "    print(name,value)"
   ]
  },
  {
   "cell_type": "code",
   "execution_count": null,
   "id": "227496ee-050f-4ef1-8f75-e32fd5a2ea33",
   "metadata": {},
   "outputs": [],
   "source": []
  }
 ],
 "metadata": {
  "kernelspec": {
   "display_name": "Python 3 (ipykernel)",
   "language": "python",
   "name": "python3"
  },
  "language_info": {
   "codemirror_mode": {
    "name": "ipython",
    "version": 3
   },
   "file_extension": ".py",
   "mimetype": "text/x-python",
   "name": "python",
   "nbconvert_exporter": "python",
   "pygments_lexer": "ipython3",
   "version": "3.10.9"
  }
 },
 "nbformat": 4,
 "nbformat_minor": 5
}
