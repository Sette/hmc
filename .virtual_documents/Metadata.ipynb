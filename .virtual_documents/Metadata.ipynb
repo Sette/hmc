import json
import os


base_path = "/mnt/disks/data/fma/trains"
id = "hierarchical_local_sample"


train_path = os.path.join(base_path,id)
metadata_path = os.path.join(train_path,"metadata.json")


with open(metadata_path, 'r') as f:
    metadata = json.loads(f.read())
    print(metadata)


metadata['num_classes_per_node'][1]


with open(metadata_path, 'r') as f:
    metadata = json.loads(f.read())


len(metadata['num_nodes_per_level'])


len(metadata['num_classes_per_node'])


num_nodes_per_level = metadata['num_nodes_per_level']


num_classes_per_node = metadata['num_classes_per_node']


output_names = []


for level in range(len(num_nodes_per_level)):
    node_outputs = []
    num_nodes = num_nodes_per_level[level]
    for node in range(num_nodes):
        num_classes = num_classes_per_node[level][node]
        output_names.append(f'{level+1}-{node}-local')


output_names


def get_labels(name):
    if name.startswith('1'):
        return 'label1'
    elif name.startswith('2'):
        return 'label2'
    elif name.startswith('3'):
        return 'label3'
    elif name.startswith('4'):
        return 'label4'
    elif name.startswith('5'):
        return 'label5'


labels = {}


for i in range(len(output_names)):
    labels[output_names[i]] = get_labels(name=output_names[i])


labels



