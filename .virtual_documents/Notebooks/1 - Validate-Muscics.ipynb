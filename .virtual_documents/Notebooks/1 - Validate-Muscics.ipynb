# !pip install -r ../requirements.txt


get_ipython().getoutput("pip install essentia ")


import pandas as pd
import numpy as np
import ast
import json
import os
from essentia.standard import MonoLoader


from tqdm.notebook import tqdm


tqdm.pandas()



args = pd.Series({
    "root_dir":"/mnt/disks/data/",
    "dataset_path":"/mnt/disks/data/fma/fma_large"
})





base_path = os.path.join(args.root_dir,"fma")


# In[17]:

metadata_path_fma = os.path.join(base_path,"fma_metadata")




# Cria um dicionário que associa o ID de cada música aos IDs de seus gêneros musicais
tracks_df = pd.read_csv(os.path.join(metadata_path_fma,'tracks.csv'), header=[0,1], index_col=0)


tracks_df.reset_index(inplace=True)


tracks_df.columns = ['_'.join(col) for col in tracks_df.columns.values]


tracks_df.columns


tracks_df = tracks_df[['track_genres_all','track_genres','track_id_']]


tracks_df.reset_index(inplace=True)


tracks_df.dropna(inplace=True)


tracks_df.track_genres_all.value_counts()


# Remover linhas com genre_id vazio
tracks_df = tracks_df[tracks_df['track_genres_all'].map(len) > 0]



tracks_df


def find_path(track_id, dataset_path):
    track_id = track_id.zfill(6)
    folder_id = track_id[0:3]
    file_path = os.path.join(dataset_path, folder_id, track_id+'.mp3')
    return file_path
# In[36]:


tracks_df['file_path'] = tracks_df.track_id_.apply(lambda x: find_path(str(x), args.dataset_path))




## Fazer o valid genre aqui


def valid_music(file_path):
    try:
        # we start by instantiating the audio loader:
        loader = MonoLoader(filename=file_path)
    
        return True
    except:
        return False


valid_music('/mnt/disks/data/fma/fma_large/000/000003.mp3')


tracks_df.loc[:,'valid'] = tracks_df.file_path.progress_apply(lambda x: valid_music(x))


tracks_df_filter = tracks_df[tracks_df['valid'] == True]


def find_path(track_id,dataset_path):
    track_id = track_id.zfill(6)
    folder_id = track_id[0:3]
    file_path = os.path.join(dataset_path,folder_id,track_id+'.mp3')
    return file_path


tracks_df_filter['file_path'] = tracks_df_filter.track_id.apply(lambda x: find_path(str(x),dataset_path))


tracks_df_filter.iloc[0].file_path


tracks_df_filter = tracks_df_filter[['track_genres_all','track_genres','track_id_','file_path']]


tracks_df_filter.to_csv(os.path.join(metadata_path_fma,'tracks_valid.csv'),index=False)



